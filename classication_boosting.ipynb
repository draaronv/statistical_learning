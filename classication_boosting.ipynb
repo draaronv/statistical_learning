{
  "cells": [
    {
      "cell_type": "markdown",
      "metadata": {
        "id": "view-in-github",
        "colab_type": "text"
      },
      "source": [
        "<a href=\"https://colab.research.google.com/github/draaronv/statistical_learning/blob/master/classication_boosting.ipynb\" target=\"_parent\"><img src=\"https://colab.research.google.com/assets/colab-badge.svg\" alt=\"Open In Colab\"/></a>"
      ]
    },
    {
      "cell_type": "code",
      "execution_count": null,
      "metadata": {
        "colab": {
          "base_uri": "https://localhost:8080/"
        },
        "id": "j1N06dtFSiGK",
        "outputId": "5a16829d-a922-4783-b943-b99394d4b074"
      },
      "outputs": [
        {
          "output_type": "stream",
          "name": "stderr",
          "text": [
            "Installing package into ‘/usr/local/lib/R/site-library’\n",
            "(as ‘lib’ is unspecified)\n",
            "\n",
            "Installing package into ‘/usr/local/lib/R/site-library’\n",
            "(as ‘lib’ is unspecified)\n",
            "\n",
            "also installing the dependencies ‘Rcpp’, ‘promises’, ‘later’\n",
            "\n",
            "\n"
          ]
        }
      ],
      "source": [
        "install.packages('googledrive')\n",
        "install.packages('httpuv') \n",
        "library('googledrive') \n",
        "library('httpuv')"
      ]
    },
    {
      "cell_type": "code",
      "execution_count": null,
      "metadata": {
        "colab": {
          "base_uri": "https://localhost:8080/"
        },
        "id": "cnq9DnaJ8_q8",
        "outputId": "cdf987cc-dfc8-4446-e89e-6cd835c84968"
      },
      "outputs": [
        {
          "output_type": "stream",
          "name": "stderr",
          "text": [
            "Installing package into ‘/usr/local/lib/R/site-library’\n",
            "(as ‘lib’ is unspecified)\n",
            "\n",
            "also installing the dependencies ‘R.oo’, ‘R.methodsS3’\n",
            "\n",
            "\n",
            "Loading required package: R.oo\n",
            "\n",
            "Loading required package: R.methodsS3\n",
            "\n",
            "R.methodsS3 v1.8.1 (2020-08-26 16:20:06 UTC) successfully loaded. See ?R.methodsS3 for help.\n",
            "\n",
            "R.oo v1.24.0 (2020-08-26 16:11:58 UTC) successfully loaded. See ?R.oo for help.\n",
            "\n",
            "\n",
            "Attaching package: ‘R.oo’\n",
            "\n",
            "\n",
            "The following object is masked from ‘package:R.methodsS3’:\n",
            "\n",
            "    throw\n",
            "\n",
            "\n",
            "The following objects are masked from ‘package:methods’:\n",
            "\n",
            "    getClasses, getMethods\n",
            "\n",
            "\n",
            "The following objects are masked from ‘package:base’:\n",
            "\n",
            "    attach, detach, load, save\n",
            "\n",
            "\n",
            "R.utils v2.11.0 (2021-09-26 08:30:02 UTC) successfully loaded. See ?R.utils for help.\n",
            "\n",
            "\n",
            "Attaching package: ‘R.utils’\n",
            "\n",
            "\n",
            "The following object is masked from ‘package:utils’:\n",
            "\n",
            "    timestamp\n",
            "\n",
            "\n",
            "The following objects are masked from ‘package:base’:\n",
            "\n",
            "    cat, commandArgs, getOption, inherits, isOpen, nullfile, parse,\n",
            "    warnings\n",
            "\n",
            "\n"
          ]
        }
      ],
      "source": [
        "if (file.exists(\"/usr/local/lib/python3.7/dist-packages/google/colab/_ipython.py\")) {\n",
        "  install.packages(\"R.utils\")\n",
        "  library(\"R.utils\")\n",
        "  library(\"httr\")\n",
        "  my_check <- function() {return(TRUE)}\n",
        "  reassignInPackage(\"is_interactive\", pkgName = \"httr\", my_check) \n",
        "  options(rlang_interactive=TRUE)\n",
        "}"
      ]
    },
    {
      "cell_type": "code",
      "execution_count": null,
      "metadata": {
        "colab": {
          "base_uri": "https://localhost:8080/"
        },
        "id": "TTRTPMcE9DAF",
        "outputId": "437668bf-4b99-4a53-8ba4-440b3eafb71c"
      },
      "outputs": [
        {
          "output_type": "stream",
          "name": "stderr",
          "text": [
            "Please point your browser to the following url: \n",
            "\n",
            "https://accounts.google.com/o/oauth2/auth?client_id=603366585132-dpeg5tt0et3go5of2374d83ifevk5086.apps.googleusercontent.com&scope=https%3A%2F%2Fwww.googleapis.com%2Fauth%2Fdrive%20https%3A%2F%2Fwww.googleapis.com%2Fauth%2Fuserinfo.email&redirect_uri=urn%3Aietf%3Awg%3Aoauth%3A2.0%3Aoob&response_type=code\n",
            "\n"
          ]
        },
        {
          "name": "stdout",
          "output_type": "stream",
          "text": [
            "Enter authorization code: 4/1AX4XfWhK3YCFGvtMdsU_LB07cTNLED6LO5i_f5hVfS4dpM9bcFaLeaDIZYg\n"
          ]
        }
      ],
      "source": [
        "drive_auth(use_oob = TRUE, cache = FALSE)"
      ]
    },
    {
      "cell_type": "code",
      "execution_count": null,
      "metadata": {
        "colab": {
          "base_uri": "https://localhost:8080/"
        },
        "id": "wg41feuz9EMM",
        "outputId": "ec92e570-0af3-4ddf-e224-e4489e1b9c84"
      },
      "outputs": [
        {
          "output_type": "stream",
          "name": "stderr",
          "text": [
            "\n",
            "\n",
            "\n",
            "\n",
            "\u001b[32m✔\u001b[39m The input `path` resolved to exactly 1 file.\n",
            "\n",
            "File downloaded:\n",
            "\n",
            "\u001b[36m•\u001b[39m \u001b[36mfinalData.csv\u001b[39m \u001b[90m<id: 1W1wazYCqs5Iiz6cAwFUjo9f3a3kaBxWU>\u001b[39m\n",
            "\n",
            "Saved locally as:\n",
            "\n",
            "\u001b[36m•\u001b[39m \u001b[34mfinalData.csv\u001b[39m\n",
            "\n"
          ]
        }
      ],
      "source": [
        "x <- drive_get(\"~/statistical_learning/finalData.csv\")\n",
        "drive_download(x)"
      ]
    },
    {
      "cell_type": "code",
      "execution_count": null,
      "metadata": {
        "id": "2pT9M7N98E94"
      },
      "outputs": [],
      "source": [
        "rm(list = ls())"
      ]
    },
    {
      "cell_type": "code",
      "execution_count": null,
      "metadata": {
        "colab": {
          "base_uri": "https://localhost:8080/"
        },
        "id": "QfpVR_ITgn7p",
        "outputId": "45a33297-ad09-4d2f-eab6-af8e76774900"
      },
      "outputs": [
        {
          "output_type": "stream",
          "name": "stderr",
          "text": [
            "Installing package into ‘/usr/local/lib/R/site-library’\n",
            "(as ‘lib’ is unspecified)\n",
            "\n",
            "Installing package into ‘/usr/local/lib/R/site-library’\n",
            "(as ‘lib’ is unspecified)\n",
            "\n",
            "Installing package into ‘/usr/local/lib/R/site-library’\n",
            "(as ‘lib’ is unspecified)\n",
            "\n",
            "Installing package into ‘/usr/local/lib/R/site-library’\n",
            "(as ‘lib’ is unspecified)\n",
            "\n",
            "Installing package into ‘/usr/local/lib/R/site-library’\n",
            "(as ‘lib’ is unspecified)\n",
            "\n",
            "Installing package into ‘/usr/local/lib/R/site-library’\n",
            "(as ‘lib’ is unspecified)\n",
            "\n",
            "Installing package into ‘/usr/local/lib/R/site-library’\n",
            "(as ‘lib’ is unspecified)\n",
            "\n",
            "Installing package into ‘/usr/local/lib/R/site-library’\n",
            "(as ‘lib’ is unspecified)\n",
            "\n",
            "Installing package into ‘/usr/local/lib/R/site-library’\n",
            "(as ‘lib’ is unspecified)\n",
            "\n",
            "Installing package into ‘/usr/local/lib/R/site-library’\n",
            "(as ‘lib’ is unspecified)\n",
            "\n",
            "Installing package into ‘/usr/local/lib/R/site-library’\n",
            "(as ‘lib’ is unspecified)\n",
            "\n",
            "Warning message:\n",
            "“package ‘parallel’ is a base package, and should not be updated”\n",
            "Installing package into ‘/usr/local/lib/R/site-library’\n",
            "(as ‘lib’ is unspecified)\n",
            "\n",
            "Installing package into ‘/usr/local/lib/R/site-library’\n",
            "(as ‘lib’ is unspecified)\n",
            "\n",
            "Installing package into ‘/usr/local/lib/R/site-library’\n",
            "(as ‘lib’ is unspecified)\n",
            "\n",
            "Installing package into ‘/usr/local/lib/R/site-library’\n",
            "(as ‘lib’ is unspecified)\n",
            "\n",
            "Installing package into ‘/usr/local/lib/R/site-library’\n",
            "(as ‘lib’ is unspecified)\n",
            "\n",
            "Installing package into ‘/usr/local/lib/R/site-library’\n",
            "(as ‘lib’ is unspecified)\n",
            "\n"
          ]
        }
      ],
      "source": [
        "install.packages(\"tree\")\n",
        "install.packages(\"Metrics\")\n",
        "install.packages(\"rsample\")\n",
        "install.packages(\"rpart\")\n",
        "install.packages(\"dplyr\")\n",
        "install.packages(\"rpart.plot\")\n",
        "install.packages(\"ipred\")\n",
        "install.packages(\"caret\")\n",
        "install.packages(\"caTools\")\n",
        "install.packages(\"broom\")\n",
        "install.packages(\"parallel\")\n",
        "install.packages(\"doParallel\")\n",
        "install.packages(\"FNN\")\n",
        "install.packages(\"e1071\")\n",
        "install.packages(\"glmnet\")\n",
        "install.packages(\"randomForest\")\n",
        "install.packages(\"ranger\")\n",
        "library(ranger)\n",
        "library(randomForest)\n",
        "library(glmnet)\n",
        "library(e1071)\n",
        "library(parallel)\n",
        "library(FNN)\n",
        "library(doParallel)\n",
        "library(broom)\n",
        "library(tree)\n",
        "library(Metrics)\n",
        "library(rsample)     # data splitting \n",
        "library(dplyr)       # data wrangling\n",
        "library(rpart)       # performing regression trees\n",
        "library(rpart.plot)  # plotting regression trees\n",
        "library(ipred)       # bagging\n",
        "library(caret)       # bagging\n",
        "library(caTools)"
      ]
    },
    {
      "cell_type": "code",
      "execution_count": null,
      "metadata": {
        "id": "YjXAzMoFE1fg"
      },
      "outputs": [],
      "source": [
        "cluster <- makeCluster(detectCores() - 1) # convention to leave 1 core for OS\n",
        "registerDoParallel(cluster)"
      ]
    },
    {
      "cell_type": "markdown",
      "metadata": {
        "id": "1R3xUN_pL6Q9"
      },
      "source": [
        "# Data Initilization"
      ]
    },
    {
      "cell_type": "code",
      "execution_count": null,
      "metadata": {
        "id": "EezpUwaJmmnO"
      },
      "outputs": [],
      "source": [
        "data1 = read.csv(\"finalData.csv\")"
      ]
    },
    {
      "cell_type": "code",
      "execution_count": null,
      "metadata": {
        "id": "fz2iOSKE5Voj"
      },
      "outputs": [],
      "source": [
        "data2=head(data1,100000)"
      ]
    },
    {
      "cell_type": "code",
      "execution_count": null,
      "metadata": {
        "colab": {
          "base_uri": "https://localhost:8080/",
          "height": 662
        },
        "id": "7HGFBJjskD7K",
        "outputId": "a31e0a8e-259d-4be4-cc80-3c33c64836b5"
      },
      "outputs": [
        {
          "output_type": "display_data",
          "data": {
            "text/html": [
              "<style>\n",
              ".dl-inline {width: auto; margin:0; padding: 0}\n",
              ".dl-inline>dt, .dl-inline>dd {float: none; width: auto; display: inline-block}\n",
              ".dl-inline>dt::after {content: \":\\0020\"; padding-right: .5ex}\n",
              ".dl-inline>dt:not(:first-of-type) {padding-left: .5ex}\n",
              "</style><dl class=dl-inline><dt>CRASH_DATE</dt><dd>0</dd><dt>CRASH_TIME</dt><dd>0</dd><dt>PERSON_AGE</dt><dd>0</dd><dt>PERSON_SEX</dt><dd>0</dd><dt>KILLED_INJURED</dt><dd>0</dd><dt>WEEKDAY</dt><dd>0</dd><dt>Holiday</dt><dd>0</dd><dt>temp</dt><dd>0</dd><dt>visibility</dt><dd>83</dd><dt>pressure</dt><dd>0</dd><dt>humidity</dt><dd>0</dd><dt>wind_speed</dt><dd>0</dd><dt>weather_main</dt><dd>0</dd><dt>weather_description</dt><dd>0</dd></dl>\n"
            ],
            "text/markdown": "CRASH_DATE\n:   0CRASH_TIME\n:   0PERSON_AGE\n:   0PERSON_SEX\n:   0KILLED_INJURED\n:   0WEEKDAY\n:   0Holiday\n:   0temp\n:   0visibility\n:   83pressure\n:   0humidity\n:   0wind_speed\n:   0weather_main\n:   0weather_description\n:   0\n\n",
            "text/latex": "\\begin{description*}\n\\item[CRASH\\textbackslash{}\\_DATE] 0\n\\item[CRASH\\textbackslash{}\\_TIME] 0\n\\item[PERSON\\textbackslash{}\\_AGE] 0\n\\item[PERSON\\textbackslash{}\\_SEX] 0\n\\item[KILLED\\textbackslash{}\\_INJURED] 0\n\\item[WEEKDAY] 0\n\\item[Holiday] 0\n\\item[temp] 0\n\\item[visibility] 83\n\\item[pressure] 0\n\\item[humidity] 0\n\\item[wind\\textbackslash{}\\_speed] 0\n\\item[weather\\textbackslash{}\\_main] 0\n\\item[weather\\textbackslash{}\\_description] 0\n\\end{description*}\n",
            "text/plain": [
              "         CRASH_DATE          CRASH_TIME          PERSON_AGE          PERSON_SEX \n",
              "                  0                   0                   0                   0 \n",
              "     KILLED_INJURED             WEEKDAY             Holiday                temp \n",
              "                  0                   0                   0                   0 \n",
              "         visibility            pressure            humidity          wind_speed \n",
              "                 83                   0                   0                   0 \n",
              "       weather_main weather_description \n",
              "                  0                   0 "
            ]
          },
          "metadata": {}
        },
        {
          "output_type": "display_data",
          "data": {
            "text/html": [
              "100000"
            ],
            "text/markdown": "100000",
            "text/latex": "100000",
            "text/plain": [
              "[1] 100000"
            ]
          },
          "metadata": {}
        },
        {
          "output_type": "display_data",
          "data": {
            "text/html": [
              "99917"
            ],
            "text/markdown": "99917",
            "text/latex": "99917",
            "text/plain": [
              "[1] 99917"
            ]
          },
          "metadata": {}
        },
        {
          "output_type": "display_data",
          "data": {
            "text/html": [
              "99917"
            ],
            "text/markdown": "99917",
            "text/latex": "99917",
            "text/plain": [
              "[1] 99917"
            ]
          },
          "metadata": {}
        },
        {
          "output_type": "stream",
          "name": "stdout",
          "text": [
            "'data.frame':\t78506 obs. of  14 variables:\n",
            " $ CRASH_DATE         : num  18194 18194 18194 18194 18194 ...\n",
            " $ CRASH_TIME         : int  15 15 15 15 15 15 15 15 15 15 ...\n",
            " $ PERSON_AGE         : num  33 82 33 82 42 51 51 17 42 37 ...\n",
            " $ PERSON_SEX         : Factor w/ 2 levels \"F\",\"M\": 1 2 2 2 2 2 2 2 2 2 ...\n",
            " $ KILLED_INJURED     : num  0 0 0 0 0 0 0 0 0 0 ...\n",
            " $ WEEKDAY            : Factor w/ 7 levels \"Friday\",\"Monday\",..: 1 1 1 1 1 1 1 1 1 1 ...\n",
            " $ Holiday            : Factor w/ 2 levels \"False\",\"True\": 1 1 1 1 1 1 1 1 1 1 ...\n",
            " $ temp               : num  14.5 14.5 14.5 14.5 14.5 ...\n",
            " $ visibility         : num  10000 10000 10000 10000 10000 10000 10000 10000 10000 10000 ...\n",
            " $ pressure           : int  1027 1027 1027 1027 1027 1027 1027 1027 1027 1027 ...\n",
            " $ humidity           : int  63 63 63 63 63 63 63 63 63 63 ...\n",
            " $ wind_speed         : num  2.1 2.1 2.1 2.1 2.1 2.1 2.1 2.1 2.1 2.1 ...\n",
            " $ weather_main       : Factor w/ 10 levels \"Clear\",\"Clouds\",..: 1 1 1 1 1 1 1 1 1 1 ...\n",
            " $ weather_description: Factor w/ 18 levels \"broken clouds\",..: 15 15 15 15 15 15 15 15 15 15 ...\n",
            "'data.frame':\t21411 obs. of  14 variables:\n",
            " $ CRASH_DATE         : num  18194 18194 18194 18194 18194 ...\n",
            " $ CRASH_TIME         : int  15 15 15 15 15 15 15 15 15 15 ...\n",
            " $ PERSON_AGE         : num  33 42 42 56 30 65 25 43 38 49 ...\n",
            " $ PERSON_SEX         : Factor w/ 2 levels \"F\",\"M\": 2 2 2 2 2 2 1 1 2 1 ...\n",
            " $ KILLED_INJURED     : num  0 0 0 0 0 0 1 0 0 0 ...\n",
            " $ WEEKDAY            : Factor w/ 7 levels \"Friday\",\"Monday\",..: 1 1 1 1 1 1 1 1 1 1 ...\n",
            " $ Holiday            : Factor w/ 2 levels \"False\",\"True\": 1 1 1 1 1 1 1 1 1 1 ...\n",
            " $ temp               : num  14.5 14.5 14.5 14.5 14.5 ...\n",
            " $ visibility         : num  10000 10000 10000 10000 10000 10000 10000 10000 10000 10000 ...\n",
            " $ pressure           : int  1027 1027 1027 1027 1027 1027 1027 1027 1027 1027 ...\n",
            " $ humidity           : int  63 63 63 63 63 63 63 63 63 63 ...\n",
            " $ wind_speed         : num  2.1 2.1 2.1 2.1 2.1 2.1 2.1 2.1 2.1 2.1 ...\n",
            " $ weather_main       : Factor w/ 10 levels \"Clear\",\"Clouds\",..: 1 1 1 1 1 1 1 1 1 1 ...\n",
            " $ weather_description: Factor w/ 18 levels \"broken clouds\",..: 15 15 15 15 15 15 15 15 15 15 ...\n"
          ]
        }
      ],
      "source": [
        "## Data pre-processing\n",
        "data2 = subset(data2, select = -c(CONTRIBUTING.FACTOR.VEHICLE.1,LATITUDE,LONGITUDE,wind_deg,temp_min,temp_max,dew_point,CONTRIBUTING.FACTOR.VEHICLE.2,COLLISION_ID,X,VEHICLE.TYPE.CODE.1,VEHICLE.TYPE.CODE.2,ON.STREET.NAME,CROSS.STREET.NAME,OFF.STREET.NAME, VEHICLE_ID,weather_id,clouds_all,rain_1h,wind_gust,weather_icon,rain_3h,snow_3h,sea_level,grnd_level,snow_1h) )\n",
        "names(data2)[names(data2) == \"KILLED.INJURED\"] <- \"KILLED_INJURED\"\n",
        "colSums(is.na(data2))\n",
        "data2$CRASH_DATE=as.Date(data2$CRASH_DATE, format = \"%Y-%m-%d\")\n",
        "nrow(data2)\n",
        "data2=data2[!is.na(data2$visibility),]\n",
        "nrow(data2)\n",
        "data2$CRASH_DATE <- as.numeric(data2$CRASH_DATE)\n",
        "data2$Holiday <- as.factor(data2$Holiday)\n",
        "data2=data2[!is.na(data2$KILLED_INJURED),]\n",
        "#data2$KILLED_INJURED <- as.factor(data2$KILLED_INJURED)\n",
        "nrow(data2)\n",
        "data2$weather_main <- as.factor(data2$weather_main)\n",
        "data2$weather_description <- as.factor(data2$weather_description)\n",
        "data2$PERSON_SEX <- as.factor(data2$PERSON_SEX)\n",
        "data2$WEEKDAY <- as.factor(data2$WEEKDAY)\n",
        "set.seed(1)\n",
        "sample = sample.split(data2, SplitRatio = 0.80)\n",
        "training = subset(data2, sample == TRUE)\n",
        "test = subset(data2, sample == FALSE)\n",
        "rm(sample)\n",
        "str(training)\n",
        "str(test)"
      ]
    },
    {
      "cell_type": "code",
      "execution_count": null,
      "metadata": {
        "colab": {
          "base_uri": "https://localhost:8080/",
          "height": 52
        },
        "id": "L5CEp28wiX5S",
        "outputId": "990ad1c7-d1e2-415d-cc23-67264043450e"
      },
      "outputs": [
        {
          "data": {
            "text/html": [
              "<style>\n",
              ".list-inline {list-style: none; margin:0; padding: 0}\n",
              ".list-inline>li {display: inline-block}\n",
              ".list-inline>li:not(:last-child)::after {content: \"\\00b7\"; padding: 0 .5ex}\n",
              "</style>\n",
              "<ol class=list-inline><li>0</li><li>3</li><li>1</li><li>6</li><li>2</li><li>4</li><li>5</li><li>8</li><li>10</li><li>12</li><li>7</li><li>18</li><li>9</li><li>11</li><li>16</li><li>13</li><li>20</li><li>15</li><li>17</li></ol>\n",
              "\n",
              "<details>\n",
              "\t<summary style=display:list-item;cursor:pointer>\n",
              "\t\t<strong>Levels</strong>:\n",
              "\t</summary>\n",
              "\t<style>\n",
              "\t.list-inline {list-style: none; margin:0; padding: 0}\n",
              "\t.list-inline>li {display: inline-block}\n",
              "\t.list-inline>li:not(:last-child)::after {content: \"\\00b7\"; padding: 0 .5ex}\n",
              "\t</style>\n",
              "\t<ol class=list-inline><li>'0'</li><li>'1'</li><li>'2'</li><li>'3'</li><li>'4'</li><li>'5'</li><li>'6'</li><li>'7'</li><li>'8'</li><li>'9'</li><li>'10'</li><li>'11'</li><li>'12'</li><li>'13'</li><li>'15'</li><li>'16'</li><li>'17'</li><li>'18'</li><li>'20'</li></ol>\n",
              "</details>"
            ],
            "text/latex": "\\begin{enumerate*}\n\\item 0\n\\item 3\n\\item 1\n\\item 6\n\\item 2\n\\item 4\n\\item 5\n\\item 8\n\\item 10\n\\item 12\n\\item 7\n\\item 18\n\\item 9\n\\item 11\n\\item 16\n\\item 13\n\\item 20\n\\item 15\n\\item 17\n\\end{enumerate*}\n\n\\emph{Levels}: \\begin{enumerate*}\n\\item '0'\n\\item '1'\n\\item '2'\n\\item '3'\n\\item '4'\n\\item '5'\n\\item '6'\n\\item '7'\n\\item '8'\n\\item '9'\n\\item '10'\n\\item '11'\n\\item '12'\n\\item '13'\n\\item '15'\n\\item '16'\n\\item '17'\n\\item '18'\n\\item '20'\n\\end{enumerate*}\n",
            "text/markdown": "1. 0\n2. 3\n3. 1\n4. 6\n5. 2\n6. 4\n7. 5\n8. 8\n9. 10\n10. 12\n11. 7\n12. 18\n13. 9\n14. 11\n15. 16\n16. 13\n17. 20\n18. 15\n19. 17\n\n\n\n**Levels**: 1. '0'\n2. '1'\n3. '2'\n4. '3'\n5. '4'\n6. '5'\n7. '6'\n8. '7'\n9. '8'\n10. '9'\n11. '10'\n12. '11'\n13. '12'\n14. '13'\n15. '15'\n16. '16'\n17. '17'\n18. '18'\n19. '20'\n\n\n",
            "text/plain": [
              " [1] 0  3  1  6  2  4  5  8  10 12 7  18 9  11 16 13 20 15 17\n",
              "Levels: 0 1 2 3 4 5 6 7 8 9 10 11 12 13 15 16 17 18 20"
            ]
          },
          "metadata": {},
          "output_type": "display_data"
        }
      ],
      "source": [
        "unique(data2$KILLED_INJURED)"
      ]
    },
    {
      "cell_type": "markdown",
      "source": [
        "# Boosting for regression"
      ],
      "metadata": {
        "id": "cIfYbKXsNREZ"
      }
    },
    {
      "cell_type": "markdown",
      "source": [
        "## Simple Boosting"
      ],
      "metadata": {
        "id": "NCLtH84Uyh3A"
      }
    },
    {
      "cell_type": "code",
      "source": [
        "install.packages(\"gbm\")\n",
        "install.packages(\"xgboost\")\n",
        "library(gbm)\n",
        "library(xgboost) "
      ],
      "metadata": {
        "colab": {
          "base_uri": "https://localhost:8080/"
        },
        "id": "9P_GydW1zKMb",
        "outputId": "0788d0d8-97e9-4dec-a47c-aa44513426aa"
      },
      "execution_count": null,
      "outputs": [
        {
          "output_type": "stream",
          "name": "stderr",
          "text": [
            "Installing package into ‘/usr/local/lib/R/site-library’\n",
            "(as ‘lib’ is unspecified)\n",
            "\n",
            "Installing package into ‘/usr/local/lib/R/site-library’\n",
            "(as ‘lib’ is unspecified)\n",
            "\n",
            "\n",
            "Attaching package: ‘xgboost’\n",
            "\n",
            "\n",
            "The following object is masked from ‘package:dplyr’:\n",
            "\n",
            "    slice\n",
            "\n",
            "\n"
          ]
        }
      ]
    },
    {
      "cell_type": "code",
      "source": [
        "gbm.fit <- gbm(\n",
        "  formula = KILLED_INJURED ~ .,\n",
        "  distribution = \"gaussian\",\n",
        "  data = training,\n",
        "  n.trees = 500,\n",
        "  interaction.depth = 1,\n",
        "  shrinkage = 0.001,\n",
        "  cv.folds = 1,\n",
        "  n.cores = NULL, # will use all cores by default\n",
        "  verbose = FALSE\n",
        "  )\n",
        "  gbm.fit"
      ],
      "metadata": {
        "colab": {
          "base_uri": "https://localhost:8080/",
          "height": 121
        },
        "id": "4ofOfuri1AKD",
        "outputId": "f1e127cc-7c3c-4310-ed9e-ddb5ebb6625e"
      },
      "execution_count": null,
      "outputs": [
        {
          "output_type": "display_data",
          "data": {
            "text/plain": [
              "gbm(formula = KILLED_INJURED ~ ., distribution = \"gaussian\", \n",
              "    data = training, n.trees = 500, interaction.depth = 1, shrinkage = 0.001, \n",
              "    cv.folds = 1, verbose = FALSE, n.cores = NULL)\n",
              "A gradient boosted model with gaussian loss function.\n",
              "500 iterations were performed.\n",
              "There were 13 predictors of which 4 had non-zero influence."
            ]
          },
          "metadata": {}
        }
      ]
    },
    {
      "cell_type": "code",
      "source": [
        "pred=predict(gbm.fit,test,n.trees=500)\n",
        "mean((pred -test$KILLED_INJURED)^2)"
      ],
      "metadata": {
        "colab": {
          "base_uri": "https://localhost:8080/",
          "height": 35
        },
        "id": "w7cKcX4N3gLq",
        "outputId": "d2123342-a677-4da9-e3a8-426c79c3c6d4"
      },
      "execution_count": null,
      "outputs": [
        {
          "output_type": "display_data",
          "data": {
            "text/html": [
              "1.46064140372001"
            ],
            "text/markdown": "1.46064140372001",
            "text/latex": "1.46064140372001",
            "text/plain": [
              "[1] 1.460641"
            ]
          },
          "metadata": {}
        }
      ]
    },
    {
      "cell_type": "markdown",
      "source": [
        "## Grid Optimization"
      ],
      "metadata": {
        "id": "9Dj-Feh_9svX"
      }
    },
    {
      "cell_type": "code",
      "source": [
        "hyper_grid <- expand.grid(\n",
        "  shrinkage = 0.3,\n",
        "  interaction.depth = 1,\n",
        "  n.minobsinnode = c(5, 10),\n",
        "  bag.fraction = 1, \n",
        "  n.tress = c(100, 300,500,800),\n",
        "  optimal_trees = 0,               # a place to dump results\n",
        "  min_RMSE = 0                     # a place to dump results\n",
        ")\n",
        "\n",
        "for(i in 1:nrow(hyper_grid)) {\n",
        "  # reproducibility\n",
        "  set.seed(123)\n",
        "  # train model\n",
        "  gbm.tune <- gbm(\n",
        "    formula = KILLED_INJURED ~ .,\n",
        "    distribution = \"gaussian\",\n",
        "    data = training,\n",
        "    n.trees = hyper_grid$n.tress[i],\n",
        "    interaction.depth = hyper_grid$interaction.depth[i],\n",
        "    shrinkage = hyper_grid$shrinkage[i],\n",
        "    n.minobsinnode = hyper_grid$n.minobsinnode[i],\n",
        "    bag.fraction = hyper_grid$bag.fraction[i],\n",
        "    train.fraction = .75,\n",
        "    n.cores = NULL, # will use all cores by default\n",
        "    verbose = FALSE\n",
        "  )\n",
        "  \n",
        "  # add min training error and trees to grid\n",
        "  hyper_grid$optimal_trees[i] <- which.min(gbm.tune$valid.error)\n",
        "  hyper_grid$min_RMSE[i] <- sqrt(min(gbm.tune$valid.error))\n",
        "}\n",
        "hyper_grid %>% \n",
        "  dplyr::arrange(min_RMSE) %>%\n",
        "  head(10)\n"
      ],
      "metadata": {
        "colab": {
          "base_uri": "https://localhost:8080/",
          "height": 369
        },
        "id": "NJPTKUso9v5D",
        "outputId": "148511a5-9301-4d2d-edef-2f2505a756fc"
      },
      "execution_count": null,
      "outputs": [
        {
          "output_type": "display_data",
          "data": {
            "text/html": [
              "<table class=\"dataframe\">\n",
              "<caption>A data.frame: 8 × 7</caption>\n",
              "<thead>\n",
              "\t<tr><th></th><th scope=col>shrinkage</th><th scope=col>interaction.depth</th><th scope=col>n.minobsinnode</th><th scope=col>bag.fraction</th><th scope=col>n.tress</th><th scope=col>optimal_trees</th><th scope=col>min_RMSE</th></tr>\n",
              "\t<tr><th></th><th scope=col>&lt;dbl&gt;</th><th scope=col>&lt;dbl&gt;</th><th scope=col>&lt;dbl&gt;</th><th scope=col>&lt;dbl&gt;</th><th scope=col>&lt;dbl&gt;</th><th scope=col>&lt;dbl&gt;</th><th scope=col>&lt;dbl&gt;</th></tr>\n",
              "</thead>\n",
              "<tbody>\n",
              "\t<tr><th scope=row>1</th><td>0.3</td><td>1</td><td> 5</td><td>1</td><td>100</td><td>71</td><td>0.9138945</td></tr>\n",
              "\t<tr><th scope=row>2</th><td>0.3</td><td>1</td><td>10</td><td>1</td><td>100</td><td>71</td><td>0.9138945</td></tr>\n",
              "\t<tr><th scope=row>3</th><td>0.3</td><td>1</td><td> 5</td><td>1</td><td>300</td><td>71</td><td>0.9138945</td></tr>\n",
              "\t<tr><th scope=row>4</th><td>0.3</td><td>1</td><td>10</td><td>1</td><td>300</td><td>71</td><td>0.9138945</td></tr>\n",
              "\t<tr><th scope=row>5</th><td>0.3</td><td>1</td><td> 5</td><td>1</td><td>500</td><td>71</td><td>0.9138945</td></tr>\n",
              "\t<tr><th scope=row>6</th><td>0.3</td><td>1</td><td>10</td><td>1</td><td>500</td><td>71</td><td>0.9138945</td></tr>\n",
              "\t<tr><th scope=row>7</th><td>0.3</td><td>1</td><td> 5</td><td>1</td><td>800</td><td>71</td><td>0.9138945</td></tr>\n",
              "\t<tr><th scope=row>8</th><td>0.3</td><td>1</td><td>10</td><td>1</td><td>800</td><td>71</td><td>0.9138945</td></tr>\n",
              "</tbody>\n",
              "</table>\n"
            ],
            "text/markdown": "\nA data.frame: 8 × 7\n\n| <!--/--> | shrinkage &lt;dbl&gt; | interaction.depth &lt;dbl&gt; | n.minobsinnode &lt;dbl&gt; | bag.fraction &lt;dbl&gt; | n.tress &lt;dbl&gt; | optimal_trees &lt;dbl&gt; | min_RMSE &lt;dbl&gt; |\n|---|---|---|---|---|---|---|---|\n| 1 | 0.3 | 1 |  5 | 1 | 100 | 71 | 0.9138945 |\n| 2 | 0.3 | 1 | 10 | 1 | 100 | 71 | 0.9138945 |\n| 3 | 0.3 | 1 |  5 | 1 | 300 | 71 | 0.9138945 |\n| 4 | 0.3 | 1 | 10 | 1 | 300 | 71 | 0.9138945 |\n| 5 | 0.3 | 1 |  5 | 1 | 500 | 71 | 0.9138945 |\n| 6 | 0.3 | 1 | 10 | 1 | 500 | 71 | 0.9138945 |\n| 7 | 0.3 | 1 |  5 | 1 | 800 | 71 | 0.9138945 |\n| 8 | 0.3 | 1 | 10 | 1 | 800 | 71 | 0.9138945 |\n\n",
            "text/latex": "A data.frame: 8 × 7\n\\begin{tabular}{r|lllllll}\n  & shrinkage & interaction.depth & n.minobsinnode & bag.fraction & n.tress & optimal\\_trees & min\\_RMSE\\\\\n  & <dbl> & <dbl> & <dbl> & <dbl> & <dbl> & <dbl> & <dbl>\\\\\n\\hline\n\t1 & 0.3 & 1 &  5 & 1 & 100 & 71 & 0.9138945\\\\\n\t2 & 0.3 & 1 & 10 & 1 & 100 & 71 & 0.9138945\\\\\n\t3 & 0.3 & 1 &  5 & 1 & 300 & 71 & 0.9138945\\\\\n\t4 & 0.3 & 1 & 10 & 1 & 300 & 71 & 0.9138945\\\\\n\t5 & 0.3 & 1 &  5 & 1 & 500 & 71 & 0.9138945\\\\\n\t6 & 0.3 & 1 & 10 & 1 & 500 & 71 & 0.9138945\\\\\n\t7 & 0.3 & 1 &  5 & 1 & 800 & 71 & 0.9138945\\\\\n\t8 & 0.3 & 1 & 10 & 1 & 800 & 71 & 0.9138945\\\\\n\\end{tabular}\n",
            "text/plain": [
              "  shrinkage interaction.depth n.minobsinnode bag.fraction n.tress optimal_trees\n",
              "1 0.3       1                  5             1            100     71           \n",
              "2 0.3       1                 10             1            100     71           \n",
              "3 0.3       1                  5             1            300     71           \n",
              "4 0.3       1                 10             1            300     71           \n",
              "5 0.3       1                  5             1            500     71           \n",
              "6 0.3       1                 10             1            500     71           \n",
              "7 0.3       1                  5             1            800     71           \n",
              "8 0.3       1                 10             1            800     71           \n",
              "  min_RMSE \n",
              "1 0.9138945\n",
              "2 0.9138945\n",
              "3 0.9138945\n",
              "4 0.9138945\n",
              "5 0.9138945\n",
              "6 0.9138945\n",
              "7 0.9138945\n",
              "8 0.9138945"
            ]
          },
          "metadata": {}
        }
      ]
    },
    {
      "cell_type": "markdown",
      "source": [
        "## Testing Different size"
      ],
      "metadata": {
        "id": "O4Yay86yyk2Z"
      }
    },
    {
      "cell_type": "code",
      "source": [
        "data2=head(data1,200000)\n",
        "## Data pre-processing\n",
        "data2 = subset(data2, select = -c(CONTRIBUTING.FACTOR.VEHICLE.1,LATITUDE,LONGITUDE,wind_deg,temp_min,temp_max,dew_point,CONTRIBUTING.FACTOR.VEHICLE.2,COLLISION_ID,X,VEHICLE.TYPE.CODE.1,VEHICLE.TYPE.CODE.2,ON.STREET.NAME,CROSS.STREET.NAME,OFF.STREET.NAME, VEHICLE_ID,weather_id,clouds_all,rain_1h,wind_gust,weather_icon,rain_3h,snow_3h,sea_level,grnd_level,snow_1h) )\n",
        "names(data2)[names(data2) == \"KILLED.INJURED\"] <- \"KILLED_INJURED\"\n",
        "colSums(is.na(data2))\n",
        "data2$CRASH_DATE=as.Date(data2$CRASH_DATE, format = \"%Y-%m-%d\")\n",
        "nrow(data2)\n",
        "data2=data2[!is.na(data2$visibility),]\n",
        "nrow(data2)\n",
        "data2$CRASH_DATE <- as.numeric(data2$CRASH_DATE)\n",
        "data2$Holiday <- as.factor(data2$Holiday)\n",
        "data2=data2[!is.na(data2$KILLED_INJURED),]\n",
        "#data2$KILLED_INJURED <- as.factor(data2$KILLED_INJURED)\n",
        "nrow(data2)\n",
        "data2$weather_main <- as.factor(data2$weather_main)\n",
        "data2$weather_description <- as.factor(data2$weather_description)\n",
        "data2$PERSON_SEX <- as.factor(data2$PERSON_SEX)\n",
        "data2$WEEKDAY <- as.factor(data2$WEEKDAY)\n",
        "set.seed(1)\n",
        "sample = sample.split(data2, SplitRatio = 0.80)\n",
        "training = subset(data2, sample == TRUE)\n",
        "test = subset(data2, sample == FALSE)\n",
        "rm(sample)\n",
        "str(training)\n",
        "str(test)\n",
        "hyper_grid <- expand.grid(\n",
        "  shrinkage = 0.3,\n",
        "  interaction.depth = 1,\n",
        "  n.minobsinnode = c(5, 10),\n",
        "  bag.fraction = 1, \n",
        "  n.tress = c(100, 300,500,800),\n",
        "  optimal_trees = 0,               # a place to dump results\n",
        "  min_RMSE = 0                     # a place to dump results\n",
        ")\n",
        "\n",
        "for(i in 1:nrow(hyper_grid)) {\n",
        "  # reproducibility\n",
        "  set.seed(123)\n",
        "  # train model\n",
        "  gbm.tune <- gbm(\n",
        "    formula = KILLED_INJURED ~ .,\n",
        "    distribution = \"gaussian\",\n",
        "    data = training,\n",
        "    n.trees = hyper_grid$n.tress[i],\n",
        "    interaction.depth = hyper_grid$interaction.depth[i],\n",
        "    shrinkage = hyper_grid$shrinkage[i],\n",
        "    n.minobsinnode = hyper_grid$n.minobsinnode[i],\n",
        "    bag.fraction = hyper_grid$bag.fraction[i],\n",
        "    train.fraction = .75,\n",
        "    n.cores = NULL, # will use all cores by default\n",
        "    verbose = FALSE\n",
        "  )\n",
        "  \n",
        "  # add min training error and trees to grid\n",
        "  hyper_grid$optimal_trees[i] <- which.min(gbm.tune$valid.error)\n",
        "  hyper_grid$min_RMSE[i] <- sqrt(min(gbm.tune$valid.error))\n",
        "}\n",
        "hyper_grid %>% \n",
        "  dplyr::arrange(min_RMSE) %>%\n",
        "  head(10)"
      ],
      "metadata": {
        "colab": {
          "base_uri": "https://localhost:8080/",
          "height": 994
        },
        "id": "nWNu91gs-_Wx",
        "outputId": "80d1bd32-66ed-47e2-a1e5-5da123f0fa3d"
      },
      "execution_count": null,
      "outputs": [
        {
          "output_type": "display_data",
          "data": {
            "text/html": [
              "<style>\n",
              ".dl-inline {width: auto; margin:0; padding: 0}\n",
              ".dl-inline>dt, .dl-inline>dd {float: none; width: auto; display: inline-block}\n",
              ".dl-inline>dt::after {content: \":\\0020\"; padding-right: .5ex}\n",
              ".dl-inline>dt:not(:first-of-type) {padding-left: .5ex}\n",
              "</style><dl class=dl-inline><dt>CRASH_DATE</dt><dd>0</dd><dt>CRASH_TIME</dt><dd>0</dd><dt>PERSON_AGE</dt><dd>0</dd><dt>PERSON_SEX</dt><dd>0</dd><dt>KILLED_INJURED</dt><dd>0</dd><dt>WEEKDAY</dt><dd>0</dd><dt>Holiday</dt><dd>0</dd><dt>temp</dt><dd>0</dd><dt>visibility</dt><dd>83</dd><dt>pressure</dt><dd>0</dd><dt>humidity</dt><dd>0</dd><dt>wind_speed</dt><dd>0</dd><dt>weather_main</dt><dd>0</dd><dt>weather_description</dt><dd>0</dd></dl>\n"
            ],
            "text/markdown": "CRASH_DATE\n:   0CRASH_TIME\n:   0PERSON_AGE\n:   0PERSON_SEX\n:   0KILLED_INJURED\n:   0WEEKDAY\n:   0Holiday\n:   0temp\n:   0visibility\n:   83pressure\n:   0humidity\n:   0wind_speed\n:   0weather_main\n:   0weather_description\n:   0\n\n",
            "text/latex": "\\begin{description*}\n\\item[CRASH\\textbackslash{}\\_DATE] 0\n\\item[CRASH\\textbackslash{}\\_TIME] 0\n\\item[PERSON\\textbackslash{}\\_AGE] 0\n\\item[PERSON\\textbackslash{}\\_SEX] 0\n\\item[KILLED\\textbackslash{}\\_INJURED] 0\n\\item[WEEKDAY] 0\n\\item[Holiday] 0\n\\item[temp] 0\n\\item[visibility] 83\n\\item[pressure] 0\n\\item[humidity] 0\n\\item[wind\\textbackslash{}\\_speed] 0\n\\item[weather\\textbackslash{}\\_main] 0\n\\item[weather\\textbackslash{}\\_description] 0\n\\end{description*}\n",
            "text/plain": [
              "         CRASH_DATE          CRASH_TIME          PERSON_AGE          PERSON_SEX \n",
              "                  0                   0                   0                   0 \n",
              "     KILLED_INJURED             WEEKDAY             Holiday                temp \n",
              "                  0                   0                   0                   0 \n",
              "         visibility            pressure            humidity          wind_speed \n",
              "                 83                   0                   0                   0 \n",
              "       weather_main weather_description \n",
              "                  0                   0 "
            ]
          },
          "metadata": {}
        },
        {
          "output_type": "display_data",
          "data": {
            "text/html": [
              "200000"
            ],
            "text/markdown": "200000",
            "text/latex": "200000",
            "text/plain": [
              "[1] 200000"
            ]
          },
          "metadata": {}
        },
        {
          "output_type": "display_data",
          "data": {
            "text/html": [
              "199917"
            ],
            "text/markdown": "199917",
            "text/latex": "199917",
            "text/plain": [
              "[1] 199917"
            ]
          },
          "metadata": {}
        },
        {
          "output_type": "display_data",
          "data": {
            "text/html": [
              "199917"
            ],
            "text/markdown": "199917",
            "text/latex": "199917",
            "text/plain": [
              "[1] 199917"
            ]
          },
          "metadata": {}
        },
        {
          "output_type": "stream",
          "name": "stdout",
          "text": [
            "'data.frame':\t157077 obs. of  14 variables:\n",
            " $ CRASH_DATE         : num  18194 18194 18194 18194 18194 ...\n",
            " $ CRASH_TIME         : int  15 15 15 15 15 15 15 15 15 15 ...\n",
            " $ PERSON_AGE         : num  33 82 33 82 42 51 51 17 42 37 ...\n",
            " $ PERSON_SEX         : Factor w/ 2 levels \"F\",\"M\": 1 2 2 2 2 2 2 2 2 2 ...\n",
            " $ KILLED_INJURED     : num  0 0 0 0 0 0 0 0 0 0 ...\n",
            " $ WEEKDAY            : Factor w/ 7 levels \"Friday\",\"Monday\",..: 1 1 1 1 1 1 1 1 1 1 ...\n",
            " $ Holiday            : Factor w/ 2 levels \"False\",\"True\": 1 1 1 1 1 1 1 1 1 1 ...\n",
            " $ temp               : num  14.5 14.5 14.5 14.5 14.5 ...\n",
            " $ visibility         : num  10000 10000 10000 10000 10000 10000 10000 10000 10000 10000 ...\n",
            " $ pressure           : int  1027 1027 1027 1027 1027 1027 1027 1027 1027 1027 ...\n",
            " $ humidity           : int  63 63 63 63 63 63 63 63 63 63 ...\n",
            " $ wind_speed         : num  2.1 2.1 2.1 2.1 2.1 2.1 2.1 2.1 2.1 2.1 ...\n",
            " $ weather_main       : Factor w/ 11 levels \"Clear\",\"Clouds\",..: 1 1 1 1 1 1 1 1 1 1 ...\n",
            " $ weather_description: Factor w/ 20 levels \"broken clouds\",..: 15 15 15 15 15 15 15 15 15 15 ...\n",
            "'data.frame':\t42840 obs. of  14 variables:\n",
            " $ CRASH_DATE         : num  18194 18194 18194 18194 18194 ...\n",
            " $ CRASH_TIME         : int  15 15 15 15 15 15 15 15 15 15 ...\n",
            " $ PERSON_AGE         : num  33 42 42 56 30 65 25 43 38 49 ...\n",
            " $ PERSON_SEX         : Factor w/ 2 levels \"F\",\"M\": 2 2 2 2 2 2 1 1 2 1 ...\n",
            " $ KILLED_INJURED     : num  0 0 0 0 0 0 1 0 0 0 ...\n",
            " $ WEEKDAY            : Factor w/ 7 levels \"Friday\",\"Monday\",..: 1 1 1 1 1 1 1 1 1 1 ...\n",
            " $ Holiday            : Factor w/ 2 levels \"False\",\"True\": 1 1 1 1 1 1 1 1 1 1 ...\n",
            " $ temp               : num  14.5 14.5 14.5 14.5 14.5 ...\n",
            " $ visibility         : num  10000 10000 10000 10000 10000 10000 10000 10000 10000 10000 ...\n",
            " $ pressure           : int  1027 1027 1027 1027 1027 1027 1027 1027 1027 1027 ...\n",
            " $ humidity           : int  63 63 63 63 63 63 63 63 63 63 ...\n",
            " $ wind_speed         : num  2.1 2.1 2.1 2.1 2.1 2.1 2.1 2.1 2.1 2.1 ...\n",
            " $ weather_main       : Factor w/ 11 levels \"Clear\",\"Clouds\",..: 1 1 1 1 1 1 1 1 1 1 ...\n",
            " $ weather_description: Factor w/ 20 levels \"broken clouds\",..: 15 15 15 15 15 15 15 15 15 15 ...\n"
          ]
        },
        {
          "output_type": "display_data",
          "data": {
            "text/html": [
              "<table class=\"dataframe\">\n",
              "<caption>A data.frame: 8 × 7</caption>\n",
              "<thead>\n",
              "\t<tr><th></th><th scope=col>shrinkage</th><th scope=col>interaction.depth</th><th scope=col>n.minobsinnode</th><th scope=col>bag.fraction</th><th scope=col>n.tress</th><th scope=col>optimal_trees</th><th scope=col>min_RMSE</th></tr>\n",
              "\t<tr><th></th><th scope=col>&lt;dbl&gt;</th><th scope=col>&lt;dbl&gt;</th><th scope=col>&lt;dbl&gt;</th><th scope=col>&lt;dbl&gt;</th><th scope=col>&lt;dbl&gt;</th><th scope=col>&lt;dbl&gt;</th><th scope=col>&lt;dbl&gt;</th></tr>\n",
              "</thead>\n",
              "<tbody>\n",
              "\t<tr><th scope=row>1</th><td>0.3</td><td>1</td><td> 5</td><td>1</td><td>100</td><td>19</td><td>0.9001071</td></tr>\n",
              "\t<tr><th scope=row>2</th><td>0.3</td><td>1</td><td>10</td><td>1</td><td>100</td><td>19</td><td>0.9001071</td></tr>\n",
              "\t<tr><th scope=row>3</th><td>0.3</td><td>1</td><td> 5</td><td>1</td><td>300</td><td>19</td><td>0.9001071</td></tr>\n",
              "\t<tr><th scope=row>4</th><td>0.3</td><td>1</td><td>10</td><td>1</td><td>300</td><td>19</td><td>0.9001071</td></tr>\n",
              "\t<tr><th scope=row>5</th><td>0.3</td><td>1</td><td> 5</td><td>1</td><td>500</td><td>19</td><td>0.9001071</td></tr>\n",
              "\t<tr><th scope=row>6</th><td>0.3</td><td>1</td><td>10</td><td>1</td><td>500</td><td>19</td><td>0.9001071</td></tr>\n",
              "\t<tr><th scope=row>7</th><td>0.3</td><td>1</td><td> 5</td><td>1</td><td>800</td><td>19</td><td>0.9001071</td></tr>\n",
              "\t<tr><th scope=row>8</th><td>0.3</td><td>1</td><td>10</td><td>1</td><td>800</td><td>19</td><td>0.9001071</td></tr>\n",
              "</tbody>\n",
              "</table>\n"
            ],
            "text/markdown": "\nA data.frame: 8 × 7\n\n| <!--/--> | shrinkage &lt;dbl&gt; | interaction.depth &lt;dbl&gt; | n.minobsinnode &lt;dbl&gt; | bag.fraction &lt;dbl&gt; | n.tress &lt;dbl&gt; | optimal_trees &lt;dbl&gt; | min_RMSE &lt;dbl&gt; |\n|---|---|---|---|---|---|---|---|\n| 1 | 0.3 | 1 |  5 | 1 | 100 | 19 | 0.9001071 |\n| 2 | 0.3 | 1 | 10 | 1 | 100 | 19 | 0.9001071 |\n| 3 | 0.3 | 1 |  5 | 1 | 300 | 19 | 0.9001071 |\n| 4 | 0.3 | 1 | 10 | 1 | 300 | 19 | 0.9001071 |\n| 5 | 0.3 | 1 |  5 | 1 | 500 | 19 | 0.9001071 |\n| 6 | 0.3 | 1 | 10 | 1 | 500 | 19 | 0.9001071 |\n| 7 | 0.3 | 1 |  5 | 1 | 800 | 19 | 0.9001071 |\n| 8 | 0.3 | 1 | 10 | 1 | 800 | 19 | 0.9001071 |\n\n",
            "text/latex": "A data.frame: 8 × 7\n\\begin{tabular}{r|lllllll}\n  & shrinkage & interaction.depth & n.minobsinnode & bag.fraction & n.tress & optimal\\_trees & min\\_RMSE\\\\\n  & <dbl> & <dbl> & <dbl> & <dbl> & <dbl> & <dbl> & <dbl>\\\\\n\\hline\n\t1 & 0.3 & 1 &  5 & 1 & 100 & 19 & 0.9001071\\\\\n\t2 & 0.3 & 1 & 10 & 1 & 100 & 19 & 0.9001071\\\\\n\t3 & 0.3 & 1 &  5 & 1 & 300 & 19 & 0.9001071\\\\\n\t4 & 0.3 & 1 & 10 & 1 & 300 & 19 & 0.9001071\\\\\n\t5 & 0.3 & 1 &  5 & 1 & 500 & 19 & 0.9001071\\\\\n\t6 & 0.3 & 1 & 10 & 1 & 500 & 19 & 0.9001071\\\\\n\t7 & 0.3 & 1 &  5 & 1 & 800 & 19 & 0.9001071\\\\\n\t8 & 0.3 & 1 & 10 & 1 & 800 & 19 & 0.9001071\\\\\n\\end{tabular}\n",
            "text/plain": [
              "  shrinkage interaction.depth n.minobsinnode bag.fraction n.tress optimal_trees\n",
              "1 0.3       1                  5             1            100     19           \n",
              "2 0.3       1                 10             1            100     19           \n",
              "3 0.3       1                  5             1            300     19           \n",
              "4 0.3       1                 10             1            300     19           \n",
              "5 0.3       1                  5             1            500     19           \n",
              "6 0.3       1                 10             1            500     19           \n",
              "7 0.3       1                  5             1            800     19           \n",
              "8 0.3       1                 10             1            800     19           \n",
              "  min_RMSE \n",
              "1 0.9001071\n",
              "2 0.9001071\n",
              "3 0.9001071\n",
              "4 0.9001071\n",
              "5 0.9001071\n",
              "6 0.9001071\n",
              "7 0.9001071\n",
              "8 0.9001071"
            ]
          },
          "metadata": {}
        }
      ]
    },
    {
      "cell_type": "code",
      "source": [
        "data2=head(data1,500000)\n",
        "## Data pre-processing\n",
        "data2 = subset(data2, select = -c(CONTRIBUTING.FACTOR.VEHICLE.1,LATITUDE,LONGITUDE,wind_deg,temp_min,temp_max,dew_point,CONTRIBUTING.FACTOR.VEHICLE.2,COLLISION_ID,X,VEHICLE.TYPE.CODE.1,VEHICLE.TYPE.CODE.2,ON.STREET.NAME,CROSS.STREET.NAME,OFF.STREET.NAME, VEHICLE_ID,weather_id,clouds_all,rain_1h,wind_gust,weather_icon,rain_3h,snow_3h,sea_level,grnd_level,snow_1h) )\n",
        "names(data2)[names(data2) == \"KILLED.INJURED\"] <- \"KILLED_INJURED\"\n",
        "colSums(is.na(data2))\n",
        "data2$CRASH_DATE=as.Date(data2$CRASH_DATE, format = \"%Y-%m-%d\")\n",
        "nrow(data2)\n",
        "data2=data2[!is.na(data2$visibility),]\n",
        "nrow(data2)\n",
        "data2$CRASH_DATE <- as.numeric(data2$CRASH_DATE)\n",
        "data2$Holiday <- as.factor(data2$Holiday)\n",
        "data2=data2[!is.na(data2$KILLED_INJURED),]\n",
        "#data2$KILLED_INJURED <- as.factor(data2$KILLED_INJURED)\n",
        "nrow(data2)\n",
        "data2$weather_main <- as.factor(data2$weather_main)\n",
        "data2$weather_description <- as.factor(data2$weather_description)\n",
        "data2$PERSON_SEX <- as.factor(data2$PERSON_SEX)\n",
        "data2$WEEKDAY <- as.factor(data2$WEEKDAY)\n",
        "set.seed(1)\n",
        "sample = sample.split(data2, SplitRatio = 0.80)\n",
        "training = subset(data2, sample == TRUE)\n",
        "test = subset(data2, sample == FALSE)\n",
        "rm(sample)\n",
        "str(training)\n",
        "str(test)\n",
        "hyper_grid <- expand.grid(\n",
        "  shrinkage = 0.3,\n",
        "  interaction.depth = 1,\n",
        "  n.minobsinnode = c(5, 10),\n",
        "  bag.fraction = 1, \n",
        "  n.tress = c(100, 300,500,800),\n",
        "  optimal_trees = 0,               # a place to dump results\n",
        "  min_RMSE = 0                     # a place to dump results\n",
        ")\n",
        "\n",
        "for(i in 1:nrow(hyper_grid)) {\n",
        "  # reproducibility\n",
        "  set.seed(123)\n",
        "  # train model\n",
        "  gbm.tune <- gbm(\n",
        "    formula = KILLED_INJURED ~ .,\n",
        "    distribution = \"gaussian\",\n",
        "    data = training,\n",
        "    n.trees = hyper_grid$n.tress[i],\n",
        "    interaction.depth = hyper_grid$interaction.depth[i],\n",
        "    shrinkage = hyper_grid$shrinkage[i],\n",
        "    n.minobsinnode = hyper_grid$n.minobsinnode[i],\n",
        "    bag.fraction = hyper_grid$bag.fraction[i],\n",
        "    train.fraction = .75,\n",
        "    n.cores = NULL, # will use all cores by default\n",
        "    verbose = FALSE\n",
        "  )\n",
        "  \n",
        "  # add min training error and trees to grid\n",
        "  hyper_grid$optimal_trees[i] <- which.min(gbm.tune$valid.error)\n",
        "  hyper_grid$min_RMSE[i] <- sqrt(min(gbm.tune$valid.error))\n",
        "}\n",
        "hyper_grid %>% \n",
        "  dplyr::arrange(min_RMSE) %>%\n",
        "  head(10)"
      ],
      "metadata": {
        "colab": {
          "base_uri": "https://localhost:8080/",
          "height": 994
        },
        "id": "Er-UfPOA_Oir",
        "outputId": "30105f4d-58ed-495b-f7ae-8fa532f5fbef"
      },
      "execution_count": null,
      "outputs": [
        {
          "output_type": "display_data",
          "data": {
            "text/html": [
              "<style>\n",
              ".dl-inline {width: auto; margin:0; padding: 0}\n",
              ".dl-inline>dt, .dl-inline>dd {float: none; width: auto; display: inline-block}\n",
              ".dl-inline>dt::after {content: \":\\0020\"; padding-right: .5ex}\n",
              ".dl-inline>dt:not(:first-of-type) {padding-left: .5ex}\n",
              "</style><dl class=dl-inline><dt>CRASH_DATE</dt><dd>0</dd><dt>CRASH_TIME</dt><dd>0</dd><dt>PERSON_AGE</dt><dd>0</dd><dt>PERSON_SEX</dt><dd>0</dd><dt>KILLED_INJURED</dt><dd>1</dd><dt>WEEKDAY</dt><dd>0</dd><dt>Holiday</dt><dd>0</dd><dt>temp</dt><dd>0</dd><dt>visibility</dt><dd>442</dd><dt>pressure</dt><dd>0</dd><dt>humidity</dt><dd>0</dd><dt>wind_speed</dt><dd>0</dd><dt>weather_main</dt><dd>0</dd><dt>weather_description</dt><dd>0</dd></dl>\n"
            ],
            "text/markdown": "CRASH_DATE\n:   0CRASH_TIME\n:   0PERSON_AGE\n:   0PERSON_SEX\n:   0KILLED_INJURED\n:   1WEEKDAY\n:   0Holiday\n:   0temp\n:   0visibility\n:   442pressure\n:   0humidity\n:   0wind_speed\n:   0weather_main\n:   0weather_description\n:   0\n\n",
            "text/latex": "\\begin{description*}\n\\item[CRASH\\textbackslash{}\\_DATE] 0\n\\item[CRASH\\textbackslash{}\\_TIME] 0\n\\item[PERSON\\textbackslash{}\\_AGE] 0\n\\item[PERSON\\textbackslash{}\\_SEX] 0\n\\item[KILLED\\textbackslash{}\\_INJURED] 1\n\\item[WEEKDAY] 0\n\\item[Holiday] 0\n\\item[temp] 0\n\\item[visibility] 442\n\\item[pressure] 0\n\\item[humidity] 0\n\\item[wind\\textbackslash{}\\_speed] 0\n\\item[weather\\textbackslash{}\\_main] 0\n\\item[weather\\textbackslash{}\\_description] 0\n\\end{description*}\n",
            "text/plain": [
              "         CRASH_DATE          CRASH_TIME          PERSON_AGE          PERSON_SEX \n",
              "                  0                   0                   0                   0 \n",
              "     KILLED_INJURED             WEEKDAY             Holiday                temp \n",
              "                  1                   0                   0                   0 \n",
              "         visibility            pressure            humidity          wind_speed \n",
              "                442                   0                   0                   0 \n",
              "       weather_main weather_description \n",
              "                  0                   0 "
            ]
          },
          "metadata": {}
        },
        {
          "output_type": "display_data",
          "data": {
            "text/html": [
              "500000"
            ],
            "text/markdown": "500000",
            "text/latex": "500000",
            "text/plain": [
              "[1] 500000"
            ]
          },
          "metadata": {}
        },
        {
          "output_type": "display_data",
          "data": {
            "text/html": [
              "499558"
            ],
            "text/markdown": "499558",
            "text/latex": "499558",
            "text/plain": [
              "[1] 499558"
            ]
          },
          "metadata": {}
        },
        {
          "output_type": "display_data",
          "data": {
            "text/html": [
              "499557"
            ],
            "text/markdown": "499557",
            "text/latex": "499557",
            "text/plain": [
              "[1] 499557"
            ]
          },
          "metadata": {}
        },
        {
          "output_type": "stream",
          "name": "stdout",
          "text": [
            "'data.frame':\t392508 obs. of  14 variables:\n",
            " $ CRASH_DATE         : num  18194 18194 18194 18194 18194 ...\n",
            " $ CRASH_TIME         : int  15 15 15 15 15 15 15 15 15 15 ...\n",
            " $ PERSON_AGE         : num  33 82 33 82 42 51 51 17 42 37 ...\n",
            " $ PERSON_SEX         : Factor w/ 2 levels \"F\",\"M\": 1 2 2 2 2 2 2 2 2 2 ...\n",
            " $ KILLED_INJURED     : num  0 0 0 0 0 0 0 0 0 0 ...\n",
            " $ WEEKDAY            : Factor w/ 7 levels \"Friday\",\"Monday\",..: 1 1 1 1 1 1 1 1 1 1 ...\n",
            " $ Holiday            : Factor w/ 2 levels \"False\",\"True\": 1 1 1 1 1 1 1 1 1 1 ...\n",
            " $ temp               : num  14.5 14.5 14.5 14.5 14.5 ...\n",
            " $ visibility         : num  10000 10000 10000 10000 10000 10000 10000 10000 10000 10000 ...\n",
            " $ pressure           : int  1027 1027 1027 1027 1027 1027 1027 1027 1027 1027 ...\n",
            " $ humidity           : int  63 63 63 63 63 63 63 63 63 63 ...\n",
            " $ wind_speed         : num  2.1 2.1 2.1 2.1 2.1 2.1 2.1 2.1 2.1 2.1 ...\n",
            " $ weather_main       : Factor w/ 11 levels \"Clear\",\"Clouds\",..: 1 1 1 1 1 1 1 1 1 1 ...\n",
            " $ weather_description: Factor w/ 24 levels \"broken clouds\",..: 17 17 17 17 17 17 17 17 17 17 ...\n",
            "'data.frame':\t107049 obs. of  14 variables:\n",
            " $ CRASH_DATE         : num  18194 18194 18194 18194 18194 ...\n",
            " $ CRASH_TIME         : int  15 15 15 15 15 15 15 15 15 15 ...\n",
            " $ PERSON_AGE         : num  33 42 42 56 30 65 25 43 38 49 ...\n",
            " $ PERSON_SEX         : Factor w/ 2 levels \"F\",\"M\": 2 2 2 2 2 2 1 1 2 1 ...\n",
            " $ KILLED_INJURED     : num  0 0 0 0 0 0 1 0 0 0 ...\n",
            " $ WEEKDAY            : Factor w/ 7 levels \"Friday\",\"Monday\",..: 1 1 1 1 1 1 1 1 1 1 ...\n",
            " $ Holiday            : Factor w/ 2 levels \"False\",\"True\": 1 1 1 1 1 1 1 1 1 1 ...\n",
            " $ temp               : num  14.5 14.5 14.5 14.5 14.5 ...\n",
            " $ visibility         : num  10000 10000 10000 10000 10000 10000 10000 10000 10000 10000 ...\n",
            " $ pressure           : int  1027 1027 1027 1027 1027 1027 1027 1027 1027 1027 ...\n",
            " $ humidity           : int  63 63 63 63 63 63 63 63 63 63 ...\n",
            " $ wind_speed         : num  2.1 2.1 2.1 2.1 2.1 2.1 2.1 2.1 2.1 2.1 ...\n",
            " $ weather_main       : Factor w/ 11 levels \"Clear\",\"Clouds\",..: 1 1 1 1 1 1 1 1 1 1 ...\n",
            " $ weather_description: Factor w/ 24 levels \"broken clouds\",..: 17 17 17 17 17 17 17 17 17 17 ...\n"
          ]
        },
        {
          "output_type": "display_data",
          "data": {
            "text/html": [
              "<table class=\"dataframe\">\n",
              "<caption>A data.frame: 8 × 7</caption>\n",
              "<thead>\n",
              "\t<tr><th></th><th scope=col>shrinkage</th><th scope=col>interaction.depth</th><th scope=col>n.minobsinnode</th><th scope=col>bag.fraction</th><th scope=col>n.tress</th><th scope=col>optimal_trees</th><th scope=col>min_RMSE</th></tr>\n",
              "\t<tr><th></th><th scope=col>&lt;dbl&gt;</th><th scope=col>&lt;dbl&gt;</th><th scope=col>&lt;dbl&gt;</th><th scope=col>&lt;dbl&gt;</th><th scope=col>&lt;dbl&gt;</th><th scope=col>&lt;dbl&gt;</th><th scope=col>&lt;dbl&gt;</th></tr>\n",
              "</thead>\n",
              "<tbody>\n",
              "\t<tr><th scope=row>1</th><td>0.3</td><td>1</td><td> 5</td><td>1</td><td>100</td><td>34</td><td>0.8410925</td></tr>\n",
              "\t<tr><th scope=row>2</th><td>0.3</td><td>1</td><td>10</td><td>1</td><td>100</td><td>34</td><td>0.8410925</td></tr>\n",
              "\t<tr><th scope=row>3</th><td>0.3</td><td>1</td><td> 5</td><td>1</td><td>300</td><td>34</td><td>0.8410925</td></tr>\n",
              "\t<tr><th scope=row>4</th><td>0.3</td><td>1</td><td>10</td><td>1</td><td>300</td><td>34</td><td>0.8410925</td></tr>\n",
              "\t<tr><th scope=row>5</th><td>0.3</td><td>1</td><td> 5</td><td>1</td><td>500</td><td>34</td><td>0.8410925</td></tr>\n",
              "\t<tr><th scope=row>6</th><td>0.3</td><td>1</td><td>10</td><td>1</td><td>500</td><td>34</td><td>0.8410925</td></tr>\n",
              "\t<tr><th scope=row>7</th><td>0.3</td><td>1</td><td> 5</td><td>1</td><td>800</td><td>34</td><td>0.8410925</td></tr>\n",
              "\t<tr><th scope=row>8</th><td>0.3</td><td>1</td><td>10</td><td>1</td><td>800</td><td>34</td><td>0.8410925</td></tr>\n",
              "</tbody>\n",
              "</table>\n"
            ],
            "text/markdown": "\nA data.frame: 8 × 7\n\n| <!--/--> | shrinkage &lt;dbl&gt; | interaction.depth &lt;dbl&gt; | n.minobsinnode &lt;dbl&gt; | bag.fraction &lt;dbl&gt; | n.tress &lt;dbl&gt; | optimal_trees &lt;dbl&gt; | min_RMSE &lt;dbl&gt; |\n|---|---|---|---|---|---|---|---|\n| 1 | 0.3 | 1 |  5 | 1 | 100 | 34 | 0.8410925 |\n| 2 | 0.3 | 1 | 10 | 1 | 100 | 34 | 0.8410925 |\n| 3 | 0.3 | 1 |  5 | 1 | 300 | 34 | 0.8410925 |\n| 4 | 0.3 | 1 | 10 | 1 | 300 | 34 | 0.8410925 |\n| 5 | 0.3 | 1 |  5 | 1 | 500 | 34 | 0.8410925 |\n| 6 | 0.3 | 1 | 10 | 1 | 500 | 34 | 0.8410925 |\n| 7 | 0.3 | 1 |  5 | 1 | 800 | 34 | 0.8410925 |\n| 8 | 0.3 | 1 | 10 | 1 | 800 | 34 | 0.8410925 |\n\n",
            "text/latex": "A data.frame: 8 × 7\n\\begin{tabular}{r|lllllll}\n  & shrinkage & interaction.depth & n.minobsinnode & bag.fraction & n.tress & optimal\\_trees & min\\_RMSE\\\\\n  & <dbl> & <dbl> & <dbl> & <dbl> & <dbl> & <dbl> & <dbl>\\\\\n\\hline\n\t1 & 0.3 & 1 &  5 & 1 & 100 & 34 & 0.8410925\\\\\n\t2 & 0.3 & 1 & 10 & 1 & 100 & 34 & 0.8410925\\\\\n\t3 & 0.3 & 1 &  5 & 1 & 300 & 34 & 0.8410925\\\\\n\t4 & 0.3 & 1 & 10 & 1 & 300 & 34 & 0.8410925\\\\\n\t5 & 0.3 & 1 &  5 & 1 & 500 & 34 & 0.8410925\\\\\n\t6 & 0.3 & 1 & 10 & 1 & 500 & 34 & 0.8410925\\\\\n\t7 & 0.3 & 1 &  5 & 1 & 800 & 34 & 0.8410925\\\\\n\t8 & 0.3 & 1 & 10 & 1 & 800 & 34 & 0.8410925\\\\\n\\end{tabular}\n",
            "text/plain": [
              "  shrinkage interaction.depth n.minobsinnode bag.fraction n.tress optimal_trees\n",
              "1 0.3       1                  5             1            100     34           \n",
              "2 0.3       1                 10             1            100     34           \n",
              "3 0.3       1                  5             1            300     34           \n",
              "4 0.3       1                 10             1            300     34           \n",
              "5 0.3       1                  5             1            500     34           \n",
              "6 0.3       1                 10             1            500     34           \n",
              "7 0.3       1                  5             1            800     34           \n",
              "8 0.3       1                 10             1            800     34           \n",
              "  min_RMSE \n",
              "1 0.8410925\n",
              "2 0.8410925\n",
              "3 0.8410925\n",
              "4 0.8410925\n",
              "5 0.8410925\n",
              "6 0.8410925\n",
              "7 0.8410925\n",
              "8 0.8410925"
            ]
          },
          "metadata": {}
        }
      ]
    },
    {
      "cell_type": "code",
      "source": [
        "data2=head(data1,1000000)\n",
        "## Data pre-processing\n",
        "data2 = subset(data2, select = -c(CONTRIBUTING.FACTOR.VEHICLE.1,LATITUDE,LONGITUDE,wind_deg,temp_min,temp_max,dew_point,CONTRIBUTING.FACTOR.VEHICLE.2,COLLISION_ID,X,VEHICLE.TYPE.CODE.1,VEHICLE.TYPE.CODE.2,ON.STREET.NAME,CROSS.STREET.NAME,OFF.STREET.NAME, VEHICLE_ID,weather_id,clouds_all,rain_1h,wind_gust,weather_icon,rain_3h,snow_3h,sea_level,grnd_level,snow_1h) )\n",
        "names(data2)[names(data2) == \"KILLED.INJURED\"] <- \"KILLED_INJURED\"\n",
        "colSums(is.na(data2))\n",
        "data2$CRASH_DATE=as.Date(data2$CRASH_DATE, format = \"%Y-%m-%d\")\n",
        "nrow(data2)\n",
        "data2=data2[!is.na(data2$visibility),]\n",
        "nrow(data2)\n",
        "data2$CRASH_DATE <- as.numeric(data2$CRASH_DATE)\n",
        "data2$Holiday <- as.factor(data2$Holiday)\n",
        "data2=data2[!is.na(data2$KILLED_INJURED),]\n",
        "#data2$KILLED_INJURED <- as.factor(data2$KILLED_INJURED)\n",
        "nrow(data2)\n",
        "data2$weather_main <- as.factor(data2$weather_main)\n",
        "data2$weather_description <- as.factor(data2$weather_description)\n",
        "data2$PERSON_SEX <- as.factor(data2$PERSON_SEX)\n",
        "data2$WEEKDAY <- as.factor(data2$WEEKDAY)\n",
        "set.seed(1)\n",
        "sample = sample.split(data2, SplitRatio = 0.80)\n",
        "training = subset(data2, sample == TRUE)\n",
        "test = subset(data2, sample == FALSE)\n",
        "rm(sample)\n",
        "str(training)\n",
        "str(test)\n",
        "hyper_grid <- expand.grid(\n",
        "  shrinkage = 0.3,\n",
        "  interaction.depth = 1,\n",
        "  n.minobsinnode = c(5, 10),\n",
        "  bag.fraction = 1, \n",
        "  n.tress = c(100, 300,500,800),\n",
        "  optimal_trees = 0,               # a place to dump results\n",
        "  min_RMSE = 0                     # a place to dump results\n",
        ")\n",
        "\n",
        "for(i in 1:nrow(hyper_grid)) {\n",
        "  # reproducibility\n",
        "  set.seed(123)\n",
        "  # train model\n",
        "  gbm.tune <- gbm(\n",
        "    formula = KILLED_INJURED ~ .,\n",
        "    distribution = \"gaussian\",\n",
        "    data = training,\n",
        "    n.trees = hyper_grid$n.tress[i],\n",
        "    interaction.depth = hyper_grid$interaction.depth[i],\n",
        "    shrinkage = hyper_grid$shrinkage[i],\n",
        "    n.minobsinnode = hyper_grid$n.minobsinnode[i],\n",
        "    bag.fraction = hyper_grid$bag.fraction[i],\n",
        "    train.fraction = .75,\n",
        "    n.cores = NULL, # will use all cores by default\n",
        "    verbose = FALSE\n",
        "  )\n",
        "  \n",
        "  # add min training error and trees to grid\n",
        "  hyper_grid$optimal_trees[i] <- which.min(gbm.tune$valid.error)\n",
        "  hyper_grid$min_RMSE[i] <- sqrt(min(gbm.tune$valid.error))\n",
        "}\n",
        "hyper_grid %>% \n",
        "  dplyr::arrange(min_RMSE) %>%\n",
        "  head(10)"
      ],
      "metadata": {
        "colab": {
          "base_uri": "https://localhost:8080/",
          "height": 994
        },
        "id": "WmfTmlAb_SPg",
        "outputId": "6d96aed7-d8e8-4046-a036-d328a44c2131"
      },
      "execution_count": null,
      "outputs": [
        {
          "output_type": "display_data",
          "data": {
            "text/html": [
              "<style>\n",
              ".dl-inline {width: auto; margin:0; padding: 0}\n",
              ".dl-inline>dt, .dl-inline>dd {float: none; width: auto; display: inline-block}\n",
              ".dl-inline>dt::after {content: \":\\0020\"; padding-right: .5ex}\n",
              ".dl-inline>dt:not(:first-of-type) {padding-left: .5ex}\n",
              "</style><dl class=dl-inline><dt>CRASH_DATE</dt><dd>0</dd><dt>CRASH_TIME</dt><dd>0</dd><dt>PERSON_AGE</dt><dd>0</dd><dt>PERSON_SEX</dt><dd>0</dd><dt>KILLED_INJURED</dt><dd>22</dd><dt>WEEKDAY</dt><dd>0</dd><dt>Holiday</dt><dd>0</dd><dt>temp</dt><dd>0</dd><dt>visibility</dt><dd>1106</dd><dt>pressure</dt><dd>0</dd><dt>humidity</dt><dd>0</dd><dt>wind_speed</dt><dd>0</dd><dt>weather_main</dt><dd>0</dd><dt>weather_description</dt><dd>0</dd></dl>\n"
            ],
            "text/markdown": "CRASH_DATE\n:   0CRASH_TIME\n:   0PERSON_AGE\n:   0PERSON_SEX\n:   0KILLED_INJURED\n:   22WEEKDAY\n:   0Holiday\n:   0temp\n:   0visibility\n:   1106pressure\n:   0humidity\n:   0wind_speed\n:   0weather_main\n:   0weather_description\n:   0\n\n",
            "text/latex": "\\begin{description*}\n\\item[CRASH\\textbackslash{}\\_DATE] 0\n\\item[CRASH\\textbackslash{}\\_TIME] 0\n\\item[PERSON\\textbackslash{}\\_AGE] 0\n\\item[PERSON\\textbackslash{}\\_SEX] 0\n\\item[KILLED\\textbackslash{}\\_INJURED] 22\n\\item[WEEKDAY] 0\n\\item[Holiday] 0\n\\item[temp] 0\n\\item[visibility] 1106\n\\item[pressure] 0\n\\item[humidity] 0\n\\item[wind\\textbackslash{}\\_speed] 0\n\\item[weather\\textbackslash{}\\_main] 0\n\\item[weather\\textbackslash{}\\_description] 0\n\\end{description*}\n",
            "text/plain": [
              "         CRASH_DATE          CRASH_TIME          PERSON_AGE          PERSON_SEX \n",
              "                  0                   0                   0                   0 \n",
              "     KILLED_INJURED             WEEKDAY             Holiday                temp \n",
              "                 22                   0                   0                   0 \n",
              "         visibility            pressure            humidity          wind_speed \n",
              "               1106                   0                   0                   0 \n",
              "       weather_main weather_description \n",
              "                  0                   0 "
            ]
          },
          "metadata": {}
        },
        {
          "output_type": "display_data",
          "data": {
            "text/html": [
              "1000000"
            ],
            "text/markdown": "1000000",
            "text/latex": "1000000",
            "text/plain": [
              "[1] 1000000"
            ]
          },
          "metadata": {}
        },
        {
          "output_type": "display_data",
          "data": {
            "text/html": [
              "998894"
            ],
            "text/markdown": "998894",
            "text/latex": "998894",
            "text/plain": [
              "[1] 998894"
            ]
          },
          "metadata": {}
        },
        {
          "output_type": "display_data",
          "data": {
            "text/html": [
              "998872"
            ],
            "text/markdown": "998872",
            "text/latex": "998872",
            "text/plain": [
              "[1] 998872"
            ]
          },
          "metadata": {}
        },
        {
          "output_type": "stream",
          "name": "stdout",
          "text": [
            "'data.frame':\t784828 obs. of  14 variables:\n",
            " $ CRASH_DATE         : num  18194 18194 18194 18194 18194 ...\n",
            " $ CRASH_TIME         : int  15 15 15 15 15 15 15 15 15 15 ...\n",
            " $ PERSON_AGE         : num  33 82 33 82 42 51 51 17 42 37 ...\n",
            " $ PERSON_SEX         : Factor w/ 2 levels \"F\",\"M\": 1 2 2 2 2 2 2 2 2 2 ...\n",
            " $ KILLED_INJURED     : num  0 0 0 0 0 0 0 0 0 0 ...\n",
            " $ WEEKDAY            : Factor w/ 7 levels \"Friday\",\"Monday\",..: 1 1 1 1 1 1 1 1 1 1 ...\n",
            " $ Holiday            : Factor w/ 2 levels \"False\",\"True\": 1 1 1 1 1 1 1 1 1 1 ...\n",
            " $ temp               : num  14.5 14.5 14.5 14.5 14.5 ...\n",
            " $ visibility         : num  10000 10000 10000 10000 10000 10000 10000 10000 10000 10000 ...\n",
            " $ pressure           : int  1027 1027 1027 1027 1027 1027 1027 1027 1027 1027 ...\n",
            " $ humidity           : int  63 63 63 63 63 63 63 63 63 63 ...\n",
            " $ wind_speed         : num  2.1 2.1 2.1 2.1 2.1 2.1 2.1 2.1 2.1 2.1 ...\n",
            " $ weather_main       : Factor w/ 11 levels \"Clear\",\"Clouds\",..: 1 1 1 1 1 1 1 1 1 1 ...\n",
            " $ weather_description: Factor w/ 25 levels \"broken clouds\",..: 18 18 18 18 18 18 18 18 18 18 ...\n",
            "'data.frame':\t214044 obs. of  14 variables:\n",
            " $ CRASH_DATE         : num  18194 18194 18194 18194 18194 ...\n",
            " $ CRASH_TIME         : int  15 15 15 15 15 15 15 15 15 15 ...\n",
            " $ PERSON_AGE         : num  33 42 42 56 30 65 25 43 38 49 ...\n",
            " $ PERSON_SEX         : Factor w/ 2 levels \"F\",\"M\": 2 2 2 2 2 2 1 1 2 1 ...\n",
            " $ KILLED_INJURED     : num  0 0 0 0 0 0 1 0 0 0 ...\n",
            " $ WEEKDAY            : Factor w/ 7 levels \"Friday\",\"Monday\",..: 1 1 1 1 1 1 1 1 1 1 ...\n",
            " $ Holiday            : Factor w/ 2 levels \"False\",\"True\": 1 1 1 1 1 1 1 1 1 1 ...\n",
            " $ temp               : num  14.5 14.5 14.5 14.5 14.5 ...\n",
            " $ visibility         : num  10000 10000 10000 10000 10000 10000 10000 10000 10000 10000 ...\n",
            " $ pressure           : int  1027 1027 1027 1027 1027 1027 1027 1027 1027 1027 ...\n",
            " $ humidity           : int  63 63 63 63 63 63 63 63 63 63 ...\n",
            " $ wind_speed         : num  2.1 2.1 2.1 2.1 2.1 2.1 2.1 2.1 2.1 2.1 ...\n",
            " $ weather_main       : Factor w/ 11 levels \"Clear\",\"Clouds\",..: 1 1 1 1 1 1 1 1 1 1 ...\n",
            " $ weather_description: Factor w/ 25 levels \"broken clouds\",..: 18 18 18 18 18 18 18 18 18 18 ...\n"
          ]
        },
        {
          "output_type": "display_data",
          "data": {
            "text/html": [
              "<table class=\"dataframe\">\n",
              "<caption>A data.frame: 8 × 7</caption>\n",
              "<thead>\n",
              "\t<tr><th></th><th scope=col>shrinkage</th><th scope=col>interaction.depth</th><th scope=col>n.minobsinnode</th><th scope=col>bag.fraction</th><th scope=col>n.tress</th><th scope=col>optimal_trees</th><th scope=col>min_RMSE</th></tr>\n",
              "\t<tr><th></th><th scope=col>&lt;dbl&gt;</th><th scope=col>&lt;dbl&gt;</th><th scope=col>&lt;dbl&gt;</th><th scope=col>&lt;dbl&gt;</th><th scope=col>&lt;dbl&gt;</th><th scope=col>&lt;dbl&gt;</th><th scope=col>&lt;dbl&gt;</th></tr>\n",
              "</thead>\n",
              "<tbody>\n",
              "\t<tr><th scope=row>1</th><td>0.3</td><td>1</td><td> 5</td><td>1</td><td>100</td><td>43</td><td>0.8413517</td></tr>\n",
              "\t<tr><th scope=row>2</th><td>0.3</td><td>1</td><td>10</td><td>1</td><td>100</td><td>43</td><td>0.8413517</td></tr>\n",
              "\t<tr><th scope=row>3</th><td>0.3</td><td>1</td><td> 5</td><td>1</td><td>300</td><td>43</td><td>0.8413517</td></tr>\n",
              "\t<tr><th scope=row>4</th><td>0.3</td><td>1</td><td>10</td><td>1</td><td>300</td><td>43</td><td>0.8413517</td></tr>\n",
              "\t<tr><th scope=row>5</th><td>0.3</td><td>1</td><td> 5</td><td>1</td><td>500</td><td>43</td><td>0.8413517</td></tr>\n",
              "\t<tr><th scope=row>6</th><td>0.3</td><td>1</td><td>10</td><td>1</td><td>500</td><td>43</td><td>0.8413517</td></tr>\n",
              "\t<tr><th scope=row>7</th><td>0.3</td><td>1</td><td> 5</td><td>1</td><td>800</td><td>43</td><td>0.8413517</td></tr>\n",
              "\t<tr><th scope=row>8</th><td>0.3</td><td>1</td><td>10</td><td>1</td><td>800</td><td>43</td><td>0.8413517</td></tr>\n",
              "</tbody>\n",
              "</table>\n"
            ],
            "text/markdown": "\nA data.frame: 8 × 7\n\n| <!--/--> | shrinkage &lt;dbl&gt; | interaction.depth &lt;dbl&gt; | n.minobsinnode &lt;dbl&gt; | bag.fraction &lt;dbl&gt; | n.tress &lt;dbl&gt; | optimal_trees &lt;dbl&gt; | min_RMSE &lt;dbl&gt; |\n|---|---|---|---|---|---|---|---|\n| 1 | 0.3 | 1 |  5 | 1 | 100 | 43 | 0.8413517 |\n| 2 | 0.3 | 1 | 10 | 1 | 100 | 43 | 0.8413517 |\n| 3 | 0.3 | 1 |  5 | 1 | 300 | 43 | 0.8413517 |\n| 4 | 0.3 | 1 | 10 | 1 | 300 | 43 | 0.8413517 |\n| 5 | 0.3 | 1 |  5 | 1 | 500 | 43 | 0.8413517 |\n| 6 | 0.3 | 1 | 10 | 1 | 500 | 43 | 0.8413517 |\n| 7 | 0.3 | 1 |  5 | 1 | 800 | 43 | 0.8413517 |\n| 8 | 0.3 | 1 | 10 | 1 | 800 | 43 | 0.8413517 |\n\n",
            "text/latex": "A data.frame: 8 × 7\n\\begin{tabular}{r|lllllll}\n  & shrinkage & interaction.depth & n.minobsinnode & bag.fraction & n.tress & optimal\\_trees & min\\_RMSE\\\\\n  & <dbl> & <dbl> & <dbl> & <dbl> & <dbl> & <dbl> & <dbl>\\\\\n\\hline\n\t1 & 0.3 & 1 &  5 & 1 & 100 & 43 & 0.8413517\\\\\n\t2 & 0.3 & 1 & 10 & 1 & 100 & 43 & 0.8413517\\\\\n\t3 & 0.3 & 1 &  5 & 1 & 300 & 43 & 0.8413517\\\\\n\t4 & 0.3 & 1 & 10 & 1 & 300 & 43 & 0.8413517\\\\\n\t5 & 0.3 & 1 &  5 & 1 & 500 & 43 & 0.8413517\\\\\n\t6 & 0.3 & 1 & 10 & 1 & 500 & 43 & 0.8413517\\\\\n\t7 & 0.3 & 1 &  5 & 1 & 800 & 43 & 0.8413517\\\\\n\t8 & 0.3 & 1 & 10 & 1 & 800 & 43 & 0.8413517\\\\\n\\end{tabular}\n",
            "text/plain": [
              "  shrinkage interaction.depth n.minobsinnode bag.fraction n.tress optimal_trees\n",
              "1 0.3       1                  5             1            100     43           \n",
              "2 0.3       1                 10             1            100     43           \n",
              "3 0.3       1                  5             1            300     43           \n",
              "4 0.3       1                 10             1            300     43           \n",
              "5 0.3       1                  5             1            500     43           \n",
              "6 0.3       1                 10             1            500     43           \n",
              "7 0.3       1                  5             1            800     43           \n",
              "8 0.3       1                 10             1            800     43           \n",
              "  min_RMSE \n",
              "1 0.8413517\n",
              "2 0.8413517\n",
              "3 0.8413517\n",
              "4 0.8413517\n",
              "5 0.8413517\n",
              "6 0.8413517\n",
              "7 0.8413517\n",
              "8 0.8413517"
            ]
          },
          "metadata": {}
        }
      ]
    },
    {
      "cell_type": "code",
      "source": [
        "data2=head(data1,2000000)\n",
        "## Data pre-processing\n",
        "data2 = subset(data2, select = -c(CONTRIBUTING.FACTOR.VEHICLE.1,LATITUDE,LONGITUDE,wind_deg,temp_min,temp_max,dew_point,CONTRIBUTING.FACTOR.VEHICLE.2,COLLISION_ID,X,VEHICLE.TYPE.CODE.1,VEHICLE.TYPE.CODE.2,ON.STREET.NAME,CROSS.STREET.NAME,OFF.STREET.NAME, VEHICLE_ID,weather_id,clouds_all,rain_1h,wind_gust,weather_icon,rain_3h,snow_3h,sea_level,grnd_level,snow_1h) )\n",
        "names(data2)[names(data2) == \"KILLED.INJURED\"] <- \"KILLED_INJURED\"\n",
        "colSums(is.na(data2))\n",
        "data2$CRASH_DATE=as.Date(data2$CRASH_DATE, format = \"%Y-%m-%d\")\n",
        "nrow(data2)\n",
        "data2=data2[!is.na(data2$visibility),]\n",
        "nrow(data2)\n",
        "data2$CRASH_DATE <- as.numeric(data2$CRASH_DATE)\n",
        "data2$Holiday <- as.factor(data2$Holiday)\n",
        "data2=data2[!is.na(data2$KILLED_INJURED),]\n",
        "#data2$KILLED_INJURED <- as.factor(data2$KILLED_INJURED)\n",
        "nrow(data2)\n",
        "data2$weather_main <- as.factor(data2$weather_main)\n",
        "data2$weather_description <- as.factor(data2$weather_description)\n",
        "data2$PERSON_SEX <- as.factor(data2$PERSON_SEX)\n",
        "data2$WEEKDAY <- as.factor(data2$WEEKDAY)\n",
        "set.seed(1)\n",
        "sample = sample.split(data2, SplitRatio = 0.80)\n",
        "training = subset(data2, sample == TRUE)\n",
        "test = subset(data2, sample == FALSE)\n",
        "rm(sample)\n",
        "str(training)\n",
        "str(test)\n",
        "hyper_grid <- expand.grid(\n",
        "  shrinkage = 0.3,\n",
        "  interaction.depth = 1,\n",
        "  n.minobsinnode = c(5, 10),\n",
        "  bag.fraction = 1, \n",
        "  n.tress = c(100, 300,500,800),\n",
        "  optimal_trees = 0,               # a place to dump results\n",
        "  min_RMSE = 0                     # a place to dump results\n",
        ")\n",
        "\n",
        "for(i in 1:nrow(hyper_grid)) {\n",
        "  # reproducibility\n",
        "  set.seed(123)\n",
        "  # train model\n",
        "  gbm.tune <- gbm(\n",
        "    formula = KILLED_INJURED ~ .,\n",
        "    distribution = \"gaussian\",\n",
        "    data = training,\n",
        "    n.trees = hyper_grid$n.tress[i],\n",
        "    interaction.depth = hyper_grid$interaction.depth[i],\n",
        "    shrinkage = hyper_grid$shrinkage[i],\n",
        "    n.minobsinnode = hyper_grid$n.minobsinnode[i],\n",
        "    bag.fraction = hyper_grid$bag.fraction[i],\n",
        "    train.fraction = .75,\n",
        "    n.cores = NULL, # will use all cores by default\n",
        "    verbose = FALSE\n",
        "  )\n",
        "  \n",
        "  # add min training error and trees to grid\n",
        "  hyper_grid$optimal_trees[i] <- which.min(gbm.tune$valid.error)\n",
        "  hyper_grid$min_RMSE[i] <- sqrt(min(gbm.tune$valid.error))\n",
        "}\n",
        "hyper_grid %>% \n",
        "  dplyr::arrange(min_RMSE) %>%\n",
        "  head(10)"
      ],
      "metadata": {
        "colab": {
          "base_uri": "https://localhost:8080/",
          "height": 994
        },
        "id": "nR8l4Q-k_Vn8",
        "outputId": "751b6a01-ae1f-4a98-8451-18963540289e"
      },
      "execution_count": null,
      "outputs": [
        {
          "output_type": "display_data",
          "data": {
            "text/html": [
              "<style>\n",
              ".dl-inline {width: auto; margin:0; padding: 0}\n",
              ".dl-inline>dt, .dl-inline>dd {float: none; width: auto; display: inline-block}\n",
              ".dl-inline>dt::after {content: \":\\0020\"; padding-right: .5ex}\n",
              ".dl-inline>dt:not(:first-of-type) {padding-left: .5ex}\n",
              "</style><dl class=dl-inline><dt>CRASH_DATE</dt><dd>0</dd><dt>CRASH_TIME</dt><dd>0</dd><dt>PERSON_AGE</dt><dd>0</dd><dt>PERSON_SEX</dt><dd>0</dd><dt>KILLED_INJURED</dt><dd>36</dd><dt>WEEKDAY</dt><dd>0</dd><dt>Holiday</dt><dd>0</dd><dt>temp</dt><dd>0</dd><dt>visibility</dt><dd>2292</dd><dt>pressure</dt><dd>0</dd><dt>humidity</dt><dd>0</dd><dt>wind_speed</dt><dd>0</dd><dt>weather_main</dt><dd>0</dd><dt>weather_description</dt><dd>0</dd></dl>\n"
            ],
            "text/markdown": "CRASH_DATE\n:   0CRASH_TIME\n:   0PERSON_AGE\n:   0PERSON_SEX\n:   0KILLED_INJURED\n:   36WEEKDAY\n:   0Holiday\n:   0temp\n:   0visibility\n:   2292pressure\n:   0humidity\n:   0wind_speed\n:   0weather_main\n:   0weather_description\n:   0\n\n",
            "text/latex": "\\begin{description*}\n\\item[CRASH\\textbackslash{}\\_DATE] 0\n\\item[CRASH\\textbackslash{}\\_TIME] 0\n\\item[PERSON\\textbackslash{}\\_AGE] 0\n\\item[PERSON\\textbackslash{}\\_SEX] 0\n\\item[KILLED\\textbackslash{}\\_INJURED] 36\n\\item[WEEKDAY] 0\n\\item[Holiday] 0\n\\item[temp] 0\n\\item[visibility] 2292\n\\item[pressure] 0\n\\item[humidity] 0\n\\item[wind\\textbackslash{}\\_speed] 0\n\\item[weather\\textbackslash{}\\_main] 0\n\\item[weather\\textbackslash{}\\_description] 0\n\\end{description*}\n",
            "text/plain": [
              "         CRASH_DATE          CRASH_TIME          PERSON_AGE          PERSON_SEX \n",
              "                  0                   0                   0                   0 \n",
              "     KILLED_INJURED             WEEKDAY             Holiday                temp \n",
              "                 36                   0                   0                   0 \n",
              "         visibility            pressure            humidity          wind_speed \n",
              "               2292                   0                   0                   0 \n",
              "       weather_main weather_description \n",
              "                  0                   0 "
            ]
          },
          "metadata": {}
        },
        {
          "output_type": "display_data",
          "data": {
            "text/html": [
              "2000000"
            ],
            "text/markdown": "2000000",
            "text/latex": "2000000",
            "text/plain": [
              "[1] 2000000"
            ]
          },
          "metadata": {}
        },
        {
          "output_type": "display_data",
          "data": {
            "text/html": [
              "1997708"
            ],
            "text/markdown": "1997708",
            "text/latex": "1997708",
            "text/plain": [
              "[1] 1997708"
            ]
          },
          "metadata": {}
        },
        {
          "output_type": "display_data",
          "data": {
            "text/html": [
              "1997672"
            ],
            "text/markdown": "1997672",
            "text/latex": "1997672",
            "text/plain": [
              "[1] 1997672"
            ]
          },
          "metadata": {}
        },
        {
          "output_type": "stream",
          "name": "stdout",
          "text": [
            "'data.frame':\t1569599 obs. of  14 variables:\n",
            " $ CRASH_DATE         : num  18194 18194 18194 18194 18194 ...\n",
            " $ CRASH_TIME         : int  15 15 15 15 15 15 15 15 15 15 ...\n",
            " $ PERSON_AGE         : num  33 82 33 82 42 51 51 17 42 37 ...\n",
            " $ PERSON_SEX         : Factor w/ 2 levels \"F\",\"M\": 1 2 2 2 2 2 2 2 2 2 ...\n",
            " $ KILLED_INJURED     : num  0 0 0 0 0 0 0 0 0 0 ...\n",
            " $ WEEKDAY            : Factor w/ 7 levels \"Friday\",\"Monday\",..: 1 1 1 1 1 1 1 1 1 1 ...\n",
            " $ Holiday            : Factor w/ 2 levels \"False\",\"True\": 1 1 1 1 1 1 1 1 1 1 ...\n",
            " $ temp               : num  14.5 14.5 14.5 14.5 14.5 ...\n",
            " $ visibility         : num  10000 10000 10000 10000 10000 10000 10000 10000 10000 10000 ...\n",
            " $ pressure           : int  1027 1027 1027 1027 1027 1027 1027 1027 1027 1027 ...\n",
            " $ humidity           : int  63 63 63 63 63 63 63 63 63 63 ...\n",
            " $ wind_speed         : num  2.1 2.1 2.1 2.1 2.1 2.1 2.1 2.1 2.1 2.1 ...\n",
            " $ weather_main       : Factor w/ 11 levels \"Clear\",\"Clouds\",..: 1 1 1 1 1 1 1 1 1 1 ...\n",
            " $ weather_description: Factor w/ 27 levels \"broken clouds\",..: 19 19 19 19 19 19 19 19 19 19 ...\n",
            "'data.frame':\t428073 obs. of  14 variables:\n",
            " $ CRASH_DATE         : num  18194 18194 18194 18194 18194 ...\n",
            " $ CRASH_TIME         : int  15 15 15 15 15 15 15 15 15 15 ...\n",
            " $ PERSON_AGE         : num  33 42 42 56 30 65 25 43 38 49 ...\n",
            " $ PERSON_SEX         : Factor w/ 2 levels \"F\",\"M\": 2 2 2 2 2 2 1 1 2 1 ...\n",
            " $ KILLED_INJURED     : num  0 0 0 0 0 0 1 0 0 0 ...\n",
            " $ WEEKDAY            : Factor w/ 7 levels \"Friday\",\"Monday\",..: 1 1 1 1 1 1 1 1 1 1 ...\n",
            " $ Holiday            : Factor w/ 2 levels \"False\",\"True\": 1 1 1 1 1 1 1 1 1 1 ...\n",
            " $ temp               : num  14.5 14.5 14.5 14.5 14.5 ...\n",
            " $ visibility         : num  10000 10000 10000 10000 10000 10000 10000 10000 10000 10000 ...\n",
            " $ pressure           : int  1027 1027 1027 1027 1027 1027 1027 1027 1027 1027 ...\n",
            " $ humidity           : int  63 63 63 63 63 63 63 63 63 63 ...\n",
            " $ wind_speed         : num  2.1 2.1 2.1 2.1 2.1 2.1 2.1 2.1 2.1 2.1 ...\n",
            " $ weather_main       : Factor w/ 11 levels \"Clear\",\"Clouds\",..: 1 1 1 1 1 1 1 1 1 1 ...\n",
            " $ weather_description: Factor w/ 27 levels \"broken clouds\",..: 19 19 19 19 19 19 19 19 19 19 ...\n"
          ]
        },
        {
          "output_type": "display_data",
          "data": {
            "text/html": [
              "<table class=\"dataframe\">\n",
              "<caption>A data.frame: 8 × 7</caption>\n",
              "<thead>\n",
              "\t<tr><th></th><th scope=col>shrinkage</th><th scope=col>interaction.depth</th><th scope=col>n.minobsinnode</th><th scope=col>bag.fraction</th><th scope=col>n.tress</th><th scope=col>optimal_trees</th><th scope=col>min_RMSE</th></tr>\n",
              "\t<tr><th></th><th scope=col>&lt;dbl&gt;</th><th scope=col>&lt;dbl&gt;</th><th scope=col>&lt;dbl&gt;</th><th scope=col>&lt;dbl&gt;</th><th scope=col>&lt;dbl&gt;</th><th scope=col>&lt;dbl&gt;</th><th scope=col>&lt;dbl&gt;</th></tr>\n",
              "</thead>\n",
              "<tbody>\n",
              "\t<tr><th scope=row>1</th><td>0.3</td><td>1</td><td> 5</td><td>1</td><td>300</td><td>131</td><td>0.8949589</td></tr>\n",
              "\t<tr><th scope=row>2</th><td>0.3</td><td>1</td><td>10</td><td>1</td><td>300</td><td>131</td><td>0.8949589</td></tr>\n",
              "\t<tr><th scope=row>3</th><td>0.3</td><td>1</td><td> 5</td><td>1</td><td>500</td><td>131</td><td>0.8949589</td></tr>\n",
              "\t<tr><th scope=row>4</th><td>0.3</td><td>1</td><td>10</td><td>1</td><td>500</td><td>131</td><td>0.8949589</td></tr>\n",
              "\t<tr><th scope=row>5</th><td>0.3</td><td>1</td><td> 5</td><td>1</td><td>800</td><td>131</td><td>0.8949589</td></tr>\n",
              "\t<tr><th scope=row>6</th><td>0.3</td><td>1</td><td>10</td><td>1</td><td>800</td><td>131</td><td>0.8949589</td></tr>\n",
              "\t<tr><th scope=row>7</th><td>0.3</td><td>1</td><td> 5</td><td>1</td><td>100</td><td> 95</td><td>0.8950016</td></tr>\n",
              "\t<tr><th scope=row>8</th><td>0.3</td><td>1</td><td>10</td><td>1</td><td>100</td><td> 95</td><td>0.8950016</td></tr>\n",
              "</tbody>\n",
              "</table>\n"
            ],
            "text/markdown": "\nA data.frame: 8 × 7\n\n| <!--/--> | shrinkage &lt;dbl&gt; | interaction.depth &lt;dbl&gt; | n.minobsinnode &lt;dbl&gt; | bag.fraction &lt;dbl&gt; | n.tress &lt;dbl&gt; | optimal_trees &lt;dbl&gt; | min_RMSE &lt;dbl&gt; |\n|---|---|---|---|---|---|---|---|\n| 1 | 0.3 | 1 |  5 | 1 | 300 | 131 | 0.8949589 |\n| 2 | 0.3 | 1 | 10 | 1 | 300 | 131 | 0.8949589 |\n| 3 | 0.3 | 1 |  5 | 1 | 500 | 131 | 0.8949589 |\n| 4 | 0.3 | 1 | 10 | 1 | 500 | 131 | 0.8949589 |\n| 5 | 0.3 | 1 |  5 | 1 | 800 | 131 | 0.8949589 |\n| 6 | 0.3 | 1 | 10 | 1 | 800 | 131 | 0.8949589 |\n| 7 | 0.3 | 1 |  5 | 1 | 100 |  95 | 0.8950016 |\n| 8 | 0.3 | 1 | 10 | 1 | 100 |  95 | 0.8950016 |\n\n",
            "text/latex": "A data.frame: 8 × 7\n\\begin{tabular}{r|lllllll}\n  & shrinkage & interaction.depth & n.minobsinnode & bag.fraction & n.tress & optimal\\_trees & min\\_RMSE\\\\\n  & <dbl> & <dbl> & <dbl> & <dbl> & <dbl> & <dbl> & <dbl>\\\\\n\\hline\n\t1 & 0.3 & 1 &  5 & 1 & 300 & 131 & 0.8949589\\\\\n\t2 & 0.3 & 1 & 10 & 1 & 300 & 131 & 0.8949589\\\\\n\t3 & 0.3 & 1 &  5 & 1 & 500 & 131 & 0.8949589\\\\\n\t4 & 0.3 & 1 & 10 & 1 & 500 & 131 & 0.8949589\\\\\n\t5 & 0.3 & 1 &  5 & 1 & 800 & 131 & 0.8949589\\\\\n\t6 & 0.3 & 1 & 10 & 1 & 800 & 131 & 0.8949589\\\\\n\t7 & 0.3 & 1 &  5 & 1 & 100 &  95 & 0.8950016\\\\\n\t8 & 0.3 & 1 & 10 & 1 & 100 &  95 & 0.8950016\\\\\n\\end{tabular}\n",
            "text/plain": [
              "  shrinkage interaction.depth n.minobsinnode bag.fraction n.tress optimal_trees\n",
              "1 0.3       1                  5             1            300     131          \n",
              "2 0.3       1                 10             1            300     131          \n",
              "3 0.3       1                  5             1            500     131          \n",
              "4 0.3       1                 10             1            500     131          \n",
              "5 0.3       1                  5             1            800     131          \n",
              "6 0.3       1                 10             1            800     131          \n",
              "7 0.3       1                  5             1            100      95          \n",
              "8 0.3       1                 10             1            100      95          \n",
              "  min_RMSE \n",
              "1 0.8949589\n",
              "2 0.8949589\n",
              "3 0.8949589\n",
              "4 0.8949589\n",
              "5 0.8949589\n",
              "6 0.8949589\n",
              "7 0.8950016\n",
              "8 0.8950016"
            ]
          },
          "metadata": {}
        }
      ]
    },
    {
      "cell_type": "markdown",
      "source": [
        "## Downsampling"
      ],
      "metadata": {
        "id": "7jMUGTJmy8q6"
      }
    },
    {
      "cell_type": "code",
      "source": [
        "data2=head(data1,200000)\n",
        "## Data pre-processing\n",
        "data2 = subset(data2, select = -c(CONTRIBUTING.FACTOR.VEHICLE.1,LATITUDE,LONGITUDE,wind_deg,temp_min,temp_max,dew_point,CONTRIBUTING.FACTOR.VEHICLE.2,COLLISION_ID,X,VEHICLE.TYPE.CODE.1,VEHICLE.TYPE.CODE.2,ON.STREET.NAME,CROSS.STREET.NAME,OFF.STREET.NAME, VEHICLE_ID,weather_id,clouds_all,rain_1h,wind_gust,weather_icon,rain_3h,snow_3h,sea_level,grnd_level,snow_1h) )\n",
        "names(data2)[names(data2) == \"KILLED.INJURED\"] <- \"KILLED_INJURED\"\n",
        "colSums(is.na(data2))\n",
        "data2$CRASH_DATE=as.Date(data2$CRASH_DATE, format = \"%Y-%m-%d\")\n",
        "nrow(data2)\n",
        "data2=data2[!is.na(data2$visibility),]\n",
        "nrow(data2)\n",
        "data2$CRASH_DATE <- as.numeric(data2$CRASH_DATE)\n",
        "data2$Holiday <- as.factor(data2$Holiday)\n",
        "data2=data2[!is.na(data2$KILLED_INJURED),]\n",
        "nrow(data2)\n",
        "index0 <- which(data2$KILLED_INJURED == 0)\n",
        "index1 <- which(data2$KILLED_INJURED == 1)\n",
        "deleteindex <- sample(index0,length(index0)-length(index1))\n",
        "nrow(data2)\n",
        "data2=data2[-deleteindex,]\n",
        "nrow(data2)\n",
        "#data2$KILLED_INJURED <- as.factor(data2$KILLED_INJURED)\n",
        "nrow(data2)\n",
        "data2$weather_main <- as.factor(data2$weather_main)\n",
        "data2$weather_description <- as.factor(data2$weather_description)\n",
        "data2$PERSON_SEX <- as.factor(data2$PERSON_SEX)\n",
        "data2$WEEKDAY <- as.factor(data2$WEEKDAY)\n",
        "set.seed(1)\n",
        "sample = sample.split(data2, SplitRatio = 0.80)\n",
        "training = subset(data2, sample == TRUE)\n",
        "test = subset(data2, sample == FALSE)\n",
        "rm(sample)\n",
        "str(training)\n",
        "str(test)\n",
        "hyper_grid <- expand.grid(\n",
        "  shrinkage = 0.3,\n",
        "  interaction.depth = 1,\n",
        "  n.minobsinnode = c(5, 10),\n",
        "  bag.fraction = 1, \n",
        "  n.tress = c(100, 300,500,800),\n",
        "  optimal_trees = 0,               # a place to dump results\n",
        "  min_RMSE = 0                     # a place to dump results\n",
        ")\n",
        "\n",
        "for(i in 1:nrow(hyper_grid)) {\n",
        "  # reproducibility\n",
        "  set.seed(123)\n",
        "  # train model\n",
        "  gbm.tune <- gbm(\n",
        "    formula = KILLED_INJURED ~ .,\n",
        "    distribution = \"gaussian\",\n",
        "    data = training,\n",
        "    n.trees = hyper_grid$n.tress[i],\n",
        "    interaction.depth = hyper_grid$interaction.depth[i],\n",
        "    shrinkage = hyper_grid$shrinkage[i],\n",
        "    n.minobsinnode = hyper_grid$n.minobsinnode[i],\n",
        "    bag.fraction = hyper_grid$bag.fraction[i],\n",
        "    train.fraction = .75,\n",
        "    n.cores = NULL, # will use all cores by default\n",
        "    verbose = FALSE\n",
        "  )\n",
        "  \n",
        "  # add min training error and trees to grid\n",
        "  hyper_grid$optimal_trees[i] <- which.min(gbm.tune$valid.error)\n",
        "  hyper_grid$min_RMSE[i] <- sqrt(min(gbm.tune$valid.error))\n",
        "}\n",
        "hyper_grid %>% \n",
        "  dplyr::arrange(min_RMSE) %>%\n",
        "  head(10)"
      ],
      "metadata": {
        "colab": {
          "base_uri": "https://localhost:8080/",
          "height": 1000
        },
        "id": "kb_-TQ__ONtM",
        "outputId": "f620a78c-fa02-48b5-db98-3a7fb4131040"
      },
      "execution_count": null,
      "outputs": [
        {
          "output_type": "display_data",
          "data": {
            "text/html": [
              "<style>\n",
              ".dl-inline {width: auto; margin:0; padding: 0}\n",
              ".dl-inline>dt, .dl-inline>dd {float: none; width: auto; display: inline-block}\n",
              ".dl-inline>dt::after {content: \":\\0020\"; padding-right: .5ex}\n",
              ".dl-inline>dt:not(:first-of-type) {padding-left: .5ex}\n",
              "</style><dl class=dl-inline><dt>CRASH_DATE</dt><dd>0</dd><dt>CRASH_TIME</dt><dd>0</dd><dt>PERSON_AGE</dt><dd>0</dd><dt>PERSON_SEX</dt><dd>0</dd><dt>KILLED_INJURED</dt><dd>0</dd><dt>WEEKDAY</dt><dd>0</dd><dt>Holiday</dt><dd>0</dd><dt>temp</dt><dd>0</dd><dt>visibility</dt><dd>83</dd><dt>pressure</dt><dd>0</dd><dt>humidity</dt><dd>0</dd><dt>wind_speed</dt><dd>0</dd><dt>weather_main</dt><dd>0</dd><dt>weather_description</dt><dd>0</dd></dl>\n"
            ],
            "text/markdown": "CRASH_DATE\n:   0CRASH_TIME\n:   0PERSON_AGE\n:   0PERSON_SEX\n:   0KILLED_INJURED\n:   0WEEKDAY\n:   0Holiday\n:   0temp\n:   0visibility\n:   83pressure\n:   0humidity\n:   0wind_speed\n:   0weather_main\n:   0weather_description\n:   0\n\n",
            "text/latex": "\\begin{description*}\n\\item[CRASH\\textbackslash{}\\_DATE] 0\n\\item[CRASH\\textbackslash{}\\_TIME] 0\n\\item[PERSON\\textbackslash{}\\_AGE] 0\n\\item[PERSON\\textbackslash{}\\_SEX] 0\n\\item[KILLED\\textbackslash{}\\_INJURED] 0\n\\item[WEEKDAY] 0\n\\item[Holiday] 0\n\\item[temp] 0\n\\item[visibility] 83\n\\item[pressure] 0\n\\item[humidity] 0\n\\item[wind\\textbackslash{}\\_speed] 0\n\\item[weather\\textbackslash{}\\_main] 0\n\\item[weather\\textbackslash{}\\_description] 0\n\\end{description*}\n",
            "text/plain": [
              "         CRASH_DATE          CRASH_TIME          PERSON_AGE          PERSON_SEX \n",
              "                  0                   0                   0                   0 \n",
              "     KILLED_INJURED             WEEKDAY             Holiday                temp \n",
              "                  0                   0                   0                   0 \n",
              "         visibility            pressure            humidity          wind_speed \n",
              "                 83                   0                   0                   0 \n",
              "       weather_main weather_description \n",
              "                  0                   0 "
            ]
          },
          "metadata": {}
        },
        {
          "output_type": "display_data",
          "data": {
            "text/html": [
              "200000"
            ],
            "text/markdown": "200000",
            "text/latex": "200000",
            "text/plain": [
              "[1] 200000"
            ]
          },
          "metadata": {}
        },
        {
          "output_type": "display_data",
          "data": {
            "text/html": [
              "199917"
            ],
            "text/markdown": "199917",
            "text/latex": "199917",
            "text/plain": [
              "[1] 199917"
            ]
          },
          "metadata": {}
        },
        {
          "output_type": "display_data",
          "data": {
            "text/html": [
              "199917"
            ],
            "text/markdown": "199917",
            "text/latex": "199917",
            "text/plain": [
              "[1] 199917"
            ]
          },
          "metadata": {}
        },
        {
          "output_type": "display_data",
          "data": {
            "text/html": [
              "199917"
            ],
            "text/markdown": "199917",
            "text/latex": "199917",
            "text/plain": [
              "[1] 199917"
            ]
          },
          "metadata": {}
        },
        {
          "output_type": "display_data",
          "data": {
            "text/html": [
              "72812"
            ],
            "text/markdown": "72812",
            "text/latex": "72812",
            "text/plain": [
              "[1] 72812"
            ]
          },
          "metadata": {}
        },
        {
          "output_type": "display_data",
          "data": {
            "text/html": [
              "72812"
            ],
            "text/markdown": "72812",
            "text/latex": "72812",
            "text/plain": [
              "[1] 72812"
            ]
          },
          "metadata": {}
        },
        {
          "output_type": "stream",
          "name": "stdout",
          "text": [
            "'data.frame':\t57209 obs. of  14 variables:\n",
            " $ CRASH_DATE         : num  18194 18194 18194 18194 18194 ...\n",
            " $ CRASH_TIME         : int  15 15 15 15 15 15 15 15 15 15 ...\n",
            " $ PERSON_AGE         : num  33 42 51 56 35 27 38 35 39 35 ...\n",
            " $ PERSON_SEX         : Factor w/ 2 levels \"F\",\"M\": 1 2 2 2 1 2 2 2 2 2 ...\n",
            " $ KILLED_INJURED     : num  0 0 0 0 3 3 3 3 3 3 ...\n",
            " $ WEEKDAY            : Factor w/ 7 levels \"Friday\",\"Monday\",..: 1 1 1 1 1 1 1 1 1 1 ...\n",
            " $ Holiday            : Factor w/ 2 levels \"False\",\"True\": 1 1 1 1 1 1 1 1 1 1 ...\n",
            " $ temp               : num  14.5 14.5 14.5 14.5 14.5 ...\n",
            " $ visibility         : num  10000 10000 10000 10000 10000 10000 10000 10000 10000 10000 ...\n",
            " $ pressure           : int  1027 1027 1027 1027 1027 1027 1027 1027 1027 1027 ...\n",
            " $ humidity           : int  63 63 63 63 63 63 63 63 63 63 ...\n",
            " $ wind_speed         : num  2.1 2.1 2.1 2.1 2.1 2.1 2.1 2.1 2.1 2.1 ...\n",
            " $ weather_main       : Factor w/ 11 levels \"Clear\",\"Clouds\",..: 1 1 1 1 1 1 1 1 1 1 ...\n",
            " $ weather_description: Factor w/ 20 levels \"broken clouds\",..: 15 15 15 15 15 15 15 15 15 15 ...\n",
            "'data.frame':\t15603 obs. of  14 variables:\n",
            " $ CRASH_DATE         : num  18194 18194 18194 18194 18194 ...\n",
            " $ CRASH_TIME         : int  15 15 15 15 15 15 15 15 15 17 ...\n",
            " $ PERSON_AGE         : num  42 30 39 22 31 21 73 29 59 21 ...\n",
            " $ PERSON_SEX         : Factor w/ 2 levels \"F\",\"M\": 2 2 2 1 1 1 1 2 1 2 ...\n",
            " $ KILLED_INJURED     : num  0 0 3 1 1 1 2 0 1 0 ...\n",
            " $ WEEKDAY            : Factor w/ 7 levels \"Friday\",\"Monday\",..: 1 1 1 1 1 1 1 1 1 3 ...\n",
            " $ Holiday            : Factor w/ 2 levels \"False\",\"True\": 1 1 1 1 1 1 1 1 1 1 ...\n",
            " $ temp               : num  14.5 14.5 14.5 14.5 14.5 ...\n",
            " $ visibility         : num  10000 10000 10000 10000 10000 10000 10000 10000 10000 10000 ...\n",
            " $ pressure           : int  1027 1027 1027 1027 1027 1027 1027 1027 1027 1025 ...\n",
            " $ humidity           : int  63 63 63 63 63 63 63 63 63 48 ...\n",
            " $ wind_speed         : num  2.1 2.1 2.1 2.1 2.1 2.1 2.1 2.1 2.1 4.1 ...\n",
            " $ weather_main       : Factor w/ 11 levels \"Clear\",\"Clouds\",..: 1 1 1 1 1 1 1 1 1 7 ...\n",
            " $ weather_description: Factor w/ 20 levels \"broken clouds\",..: 15 15 15 15 15 15 15 15 15 7 ...\n"
          ]
        },
        {
          "output_type": "display_data",
          "data": {
            "text/html": [
              "<table class=\"dataframe\">\n",
              "<caption>A data.frame: 8 × 7</caption>\n",
              "<thead>\n",
              "\t<tr><th></th><th scope=col>shrinkage</th><th scope=col>interaction.depth</th><th scope=col>n.minobsinnode</th><th scope=col>bag.fraction</th><th scope=col>n.tress</th><th scope=col>optimal_trees</th><th scope=col>min_RMSE</th></tr>\n",
              "\t<tr><th></th><th scope=col>&lt;dbl&gt;</th><th scope=col>&lt;dbl&gt;</th><th scope=col>&lt;dbl&gt;</th><th scope=col>&lt;dbl&gt;</th><th scope=col>&lt;dbl&gt;</th><th scope=col>&lt;dbl&gt;</th><th scope=col>&lt;dbl&gt;</th></tr>\n",
              "</thead>\n",
              "<tbody>\n",
              "\t<tr><th scope=row>1</th><td>0.3</td><td>1</td><td> 5</td><td>1</td><td>100</td><td>26</td><td>1.288399</td></tr>\n",
              "\t<tr><th scope=row>2</th><td>0.3</td><td>1</td><td>10</td><td>1</td><td>100</td><td>26</td><td>1.288399</td></tr>\n",
              "\t<tr><th scope=row>3</th><td>0.3</td><td>1</td><td> 5</td><td>1</td><td>300</td><td>26</td><td>1.288399</td></tr>\n",
              "\t<tr><th scope=row>4</th><td>0.3</td><td>1</td><td>10</td><td>1</td><td>300</td><td>26</td><td>1.288399</td></tr>\n",
              "\t<tr><th scope=row>5</th><td>0.3</td><td>1</td><td> 5</td><td>1</td><td>500</td><td>26</td><td>1.288399</td></tr>\n",
              "\t<tr><th scope=row>6</th><td>0.3</td><td>1</td><td>10</td><td>1</td><td>500</td><td>26</td><td>1.288399</td></tr>\n",
              "\t<tr><th scope=row>7</th><td>0.3</td><td>1</td><td> 5</td><td>1</td><td>800</td><td>26</td><td>1.288399</td></tr>\n",
              "\t<tr><th scope=row>8</th><td>0.3</td><td>1</td><td>10</td><td>1</td><td>800</td><td>26</td><td>1.288399</td></tr>\n",
              "</tbody>\n",
              "</table>\n"
            ],
            "text/markdown": "\nA data.frame: 8 × 7\n\n| <!--/--> | shrinkage &lt;dbl&gt; | interaction.depth &lt;dbl&gt; | n.minobsinnode &lt;dbl&gt; | bag.fraction &lt;dbl&gt; | n.tress &lt;dbl&gt; | optimal_trees &lt;dbl&gt; | min_RMSE &lt;dbl&gt; |\n|---|---|---|---|---|---|---|---|\n| 1 | 0.3 | 1 |  5 | 1 | 100 | 26 | 1.288399 |\n| 2 | 0.3 | 1 | 10 | 1 | 100 | 26 | 1.288399 |\n| 3 | 0.3 | 1 |  5 | 1 | 300 | 26 | 1.288399 |\n| 4 | 0.3 | 1 | 10 | 1 | 300 | 26 | 1.288399 |\n| 5 | 0.3 | 1 |  5 | 1 | 500 | 26 | 1.288399 |\n| 6 | 0.3 | 1 | 10 | 1 | 500 | 26 | 1.288399 |\n| 7 | 0.3 | 1 |  5 | 1 | 800 | 26 | 1.288399 |\n| 8 | 0.3 | 1 | 10 | 1 | 800 | 26 | 1.288399 |\n\n",
            "text/latex": "A data.frame: 8 × 7\n\\begin{tabular}{r|lllllll}\n  & shrinkage & interaction.depth & n.minobsinnode & bag.fraction & n.tress & optimal\\_trees & min\\_RMSE\\\\\n  & <dbl> & <dbl> & <dbl> & <dbl> & <dbl> & <dbl> & <dbl>\\\\\n\\hline\n\t1 & 0.3 & 1 &  5 & 1 & 100 & 26 & 1.288399\\\\\n\t2 & 0.3 & 1 & 10 & 1 & 100 & 26 & 1.288399\\\\\n\t3 & 0.3 & 1 &  5 & 1 & 300 & 26 & 1.288399\\\\\n\t4 & 0.3 & 1 & 10 & 1 & 300 & 26 & 1.288399\\\\\n\t5 & 0.3 & 1 &  5 & 1 & 500 & 26 & 1.288399\\\\\n\t6 & 0.3 & 1 & 10 & 1 & 500 & 26 & 1.288399\\\\\n\t7 & 0.3 & 1 &  5 & 1 & 800 & 26 & 1.288399\\\\\n\t8 & 0.3 & 1 & 10 & 1 & 800 & 26 & 1.288399\\\\\n\\end{tabular}\n",
            "text/plain": [
              "  shrinkage interaction.depth n.minobsinnode bag.fraction n.tress optimal_trees\n",
              "1 0.3       1                  5             1            100     26           \n",
              "2 0.3       1                 10             1            100     26           \n",
              "3 0.3       1                  5             1            300     26           \n",
              "4 0.3       1                 10             1            300     26           \n",
              "5 0.3       1                  5             1            500     26           \n",
              "6 0.3       1                 10             1            500     26           \n",
              "7 0.3       1                  5             1            800     26           \n",
              "8 0.3       1                 10             1            800     26           \n",
              "  min_RMSE\n",
              "1 1.288399\n",
              "2 1.288399\n",
              "3 1.288399\n",
              "4 1.288399\n",
              "5 1.288399\n",
              "6 1.288399\n",
              "7 1.288399\n",
              "8 1.288399"
            ]
          },
          "metadata": {}
        }
      ]
    },
    {
      "cell_type": "code",
      "source": [
        "data2=head(data1,500000)\n",
        "## Data pre-processing\n",
        "data2 = subset(data2, select = -c(CONTRIBUTING.FACTOR.VEHICLE.1,LATITUDE,LONGITUDE,wind_deg,temp_min,temp_max,dew_point,CONTRIBUTING.FACTOR.VEHICLE.2,COLLISION_ID,X,VEHICLE.TYPE.CODE.1,VEHICLE.TYPE.CODE.2,ON.STREET.NAME,CROSS.STREET.NAME,OFF.STREET.NAME, VEHICLE_ID,weather_id,clouds_all,rain_1h,wind_gust,weather_icon,rain_3h,snow_3h,sea_level,grnd_level,snow_1h) )\n",
        "names(data2)[names(data2) == \"KILLED.INJURED\"] <- \"KILLED_INJURED\"\n",
        "colSums(is.na(data2))\n",
        "data2$CRASH_DATE=as.Date(data2$CRASH_DATE, format = \"%Y-%m-%d\")\n",
        "nrow(data2)\n",
        "data2=data2[!is.na(data2$visibility),]\n",
        "nrow(data2)\n",
        "data2$CRASH_DATE <- as.numeric(data2$CRASH_DATE)\n",
        "data2$Holiday <- as.factor(data2$Holiday)\n",
        "data2=data2[!is.na(data2$KILLED_INJURED),]\n",
        "nrow(data2)\n",
        "index0 <- which(data2$KILLED_INJURED == 0)\n",
        "index1 <- which(data2$KILLED_INJURED == 1)\n",
        "deleteindex <- sample(index0,length(index0)-length(index1))\n",
        "nrow(data2)\n",
        "data2=data2[-deleteindex,]\n",
        "nrow(data2)\n",
        "#data2$KILLED_INJURED <- as.factor(data2$KILLED_INJURED)\n",
        "nrow(data2)\n",
        "data2$weather_main <- as.factor(data2$weather_main)\n",
        "data2$weather_description <- as.factor(data2$weather_description)\n",
        "data2$PERSON_SEX <- as.factor(data2$PERSON_SEX)\n",
        "data2$WEEKDAY <- as.factor(data2$WEEKDAY)\n",
        "set.seed(1)\n",
        "sample = sample.split(data2, SplitRatio = 0.80)\n",
        "training = subset(data2, sample == TRUE)\n",
        "test = subset(data2, sample == FALSE)\n",
        "rm(sample)\n",
        "str(training)\n",
        "str(test)\n",
        "hyper_grid <- expand.grid(\n",
        "  shrinkage = 0.3,\n",
        "  interaction.depth = 1,\n",
        "  n.minobsinnode = c(5, 10),\n",
        "  bag.fraction = 1, \n",
        "  n.tress = c(100, 300,500,800),\n",
        "  optimal_trees = 0,               # a place to dump results\n",
        "  min_RMSE = 0                     # a place to dump results\n",
        ")\n",
        "\n",
        "for(i in 1:nrow(hyper_grid)) {\n",
        "  # reproducibility\n",
        "  set.seed(123)\n",
        "  # train model\n",
        "  gbm.tune <- gbm(\n",
        "    formula = KILLED_INJURED ~ .,\n",
        "    distribution = \"gaussian\",\n",
        "    data = training,\n",
        "    n.trees = hyper_grid$n.tress[i],\n",
        "    interaction.depth = hyper_grid$interaction.depth[i],\n",
        "    shrinkage = hyper_grid$shrinkage[i],\n",
        "    n.minobsinnode = hyper_grid$n.minobsinnode[i],\n",
        "    bag.fraction = hyper_grid$bag.fraction[i],\n",
        "    train.fraction = .75,\n",
        "    n.cores = NULL, # will use all cores by default\n",
        "    verbose = FALSE\n",
        "  )\n",
        "  \n",
        "  # add min training error and trees to grid\n",
        "  hyper_grid$optimal_trees[i] <- which.min(gbm.tune$valid.error)\n",
        "  hyper_grid$min_RMSE[i] <- sqrt(min(gbm.tune$valid.error))\n",
        "}\n",
        "hyper_grid %>% \n",
        "  dplyr::arrange(min_RMSE) %>%\n",
        "  head(10)"
      ],
      "metadata": {
        "colab": {
          "base_uri": "https://localhost:8080/",
          "height": 1000
        },
        "id": "MnOO6BRJT7x0",
        "outputId": "e33d3671-327d-47a8-defe-7c071b17df75"
      },
      "execution_count": null,
      "outputs": [
        {
          "output_type": "display_data",
          "data": {
            "text/html": [
              "<style>\n",
              ".dl-inline {width: auto; margin:0; padding: 0}\n",
              ".dl-inline>dt, .dl-inline>dd {float: none; width: auto; display: inline-block}\n",
              ".dl-inline>dt::after {content: \":\\0020\"; padding-right: .5ex}\n",
              ".dl-inline>dt:not(:first-of-type) {padding-left: .5ex}\n",
              "</style><dl class=dl-inline><dt>CRASH_DATE</dt><dd>0</dd><dt>CRASH_TIME</dt><dd>0</dd><dt>PERSON_AGE</dt><dd>0</dd><dt>PERSON_SEX</dt><dd>0</dd><dt>KILLED_INJURED</dt><dd>1</dd><dt>WEEKDAY</dt><dd>0</dd><dt>Holiday</dt><dd>0</dd><dt>temp</dt><dd>0</dd><dt>visibility</dt><dd>442</dd><dt>pressure</dt><dd>0</dd><dt>humidity</dt><dd>0</dd><dt>wind_speed</dt><dd>0</dd><dt>weather_main</dt><dd>0</dd><dt>weather_description</dt><dd>0</dd></dl>\n"
            ],
            "text/markdown": "CRASH_DATE\n:   0CRASH_TIME\n:   0PERSON_AGE\n:   0PERSON_SEX\n:   0KILLED_INJURED\n:   1WEEKDAY\n:   0Holiday\n:   0temp\n:   0visibility\n:   442pressure\n:   0humidity\n:   0wind_speed\n:   0weather_main\n:   0weather_description\n:   0\n\n",
            "text/latex": "\\begin{description*}\n\\item[CRASH\\textbackslash{}\\_DATE] 0\n\\item[CRASH\\textbackslash{}\\_TIME] 0\n\\item[PERSON\\textbackslash{}\\_AGE] 0\n\\item[PERSON\\textbackslash{}\\_SEX] 0\n\\item[KILLED\\textbackslash{}\\_INJURED] 1\n\\item[WEEKDAY] 0\n\\item[Holiday] 0\n\\item[temp] 0\n\\item[visibility] 442\n\\item[pressure] 0\n\\item[humidity] 0\n\\item[wind\\textbackslash{}\\_speed] 0\n\\item[weather\\textbackslash{}\\_main] 0\n\\item[weather\\textbackslash{}\\_description] 0\n\\end{description*}\n",
            "text/plain": [
              "         CRASH_DATE          CRASH_TIME          PERSON_AGE          PERSON_SEX \n",
              "                  0                   0                   0                   0 \n",
              "     KILLED_INJURED             WEEKDAY             Holiday                temp \n",
              "                  1                   0                   0                   0 \n",
              "         visibility            pressure            humidity          wind_speed \n",
              "                442                   0                   0                   0 \n",
              "       weather_main weather_description \n",
              "                  0                   0 "
            ]
          },
          "metadata": {}
        },
        {
          "output_type": "display_data",
          "data": {
            "text/html": [
              "500000"
            ],
            "text/markdown": "500000",
            "text/latex": "500000",
            "text/plain": [
              "[1] 500000"
            ]
          },
          "metadata": {}
        },
        {
          "output_type": "display_data",
          "data": {
            "text/html": [
              "499558"
            ],
            "text/markdown": "499558",
            "text/latex": "499558",
            "text/plain": [
              "[1] 499558"
            ]
          },
          "metadata": {}
        },
        {
          "output_type": "display_data",
          "data": {
            "text/html": [
              "499557"
            ],
            "text/markdown": "499557",
            "text/latex": "499557",
            "text/plain": [
              "[1] 499557"
            ]
          },
          "metadata": {}
        },
        {
          "output_type": "display_data",
          "data": {
            "text/html": [
              "499557"
            ],
            "text/markdown": "499557",
            "text/latex": "499557",
            "text/plain": [
              "[1] 499557"
            ]
          },
          "metadata": {}
        },
        {
          "output_type": "display_data",
          "data": {
            "text/html": [
              "180966"
            ],
            "text/markdown": "180966",
            "text/latex": "180966",
            "text/plain": [
              "[1] 180966"
            ]
          },
          "metadata": {}
        },
        {
          "output_type": "display_data",
          "data": {
            "text/html": [
              "180966"
            ],
            "text/markdown": "180966",
            "text/latex": "180966",
            "text/plain": [
              "[1] 180966"
            ]
          },
          "metadata": {}
        },
        {
          "output_type": "stream",
          "name": "stdout",
          "text": [
            "'data.frame':\t142188 obs. of  14 variables:\n",
            " $ CRASH_DATE         : num  18194 18194 18194 18194 18194 ...\n",
            " $ CRASH_TIME         : int  15 15 15 15 15 15 15 15 15 15 ...\n",
            " $ PERSON_AGE         : num  33 82 42 51 56 39 35 27 38 35 ...\n",
            " $ PERSON_SEX         : Factor w/ 2 levels \"F\",\"M\": 2 2 2 2 2 2 1 2 2 2 ...\n",
            " $ KILLED_INJURED     : num  0 0 0 0 0 3 3 3 3 3 ...\n",
            " $ WEEKDAY            : Factor w/ 7 levels \"Friday\",\"Monday\",..: 1 1 1 1 1 1 1 1 1 1 ...\n",
            " $ Holiday            : Factor w/ 2 levels \"False\",\"True\": 1 1 1 1 1 1 1 1 1 1 ...\n",
            " $ temp               : num  14.5 14.5 14.5 14.5 14.5 ...\n",
            " $ visibility         : num  10000 10000 10000 10000 10000 10000 10000 10000 10000 10000 ...\n",
            " $ pressure           : int  1027 1027 1027 1027 1027 1027 1027 1027 1027 1027 ...\n",
            " $ humidity           : int  63 63 63 63 63 63 63 63 63 63 ...\n",
            " $ wind_speed         : num  2.1 2.1 2.1 2.1 2.1 2.1 2.1 2.1 2.1 2.1 ...\n",
            " $ weather_main       : Factor w/ 11 levels \"Clear\",\"Clouds\",..: 1 1 1 1 1 1 1 1 1 1 ...\n",
            " $ weather_description: Factor w/ 24 levels \"broken clouds\",..: 17 17 17 17 17 17 17 17 17 17 ...\n",
            "'data.frame':\t38778 obs. of  14 variables:\n",
            " $ CRASH_DATE         : num  18194 18194 18194 18194 18194 ...\n",
            " $ CRASH_TIME         : int  15 15 15 15 15 15 15 15 15 17 ...\n",
            " $ PERSON_AGE         : num  51 42 37 25 38 32 42 21 38 20 ...\n",
            " $ PERSON_SEX         : Factor w/ 2 levels \"F\",\"M\": 2 2 2 1 2 2 2 2 1 2 ...\n",
            " $ KILLED_INJURED     : num  0 0 0 1 0 0 6 0 0 0 ...\n",
            " $ WEEKDAY            : Factor w/ 7 levels \"Friday\",\"Monday\",..: 1 1 1 1 1 1 1 1 1 3 ...\n",
            " $ Holiday            : Factor w/ 2 levels \"False\",\"True\": 1 1 1 1 1 1 1 1 1 1 ...\n",
            " $ temp               : num  14.5 14.5 14.5 14.5 14.5 ...\n",
            " $ visibility         : num  10000 10000 10000 10000 10000 10000 10000 10000 10000 10000 ...\n",
            " $ pressure           : int  1027 1027 1027 1027 1027 1027 1027 1027 1027 1025 ...\n",
            " $ humidity           : int  63 63 63 63 63 63 63 63 63 48 ...\n",
            " $ wind_speed         : num  2.1 2.1 2.1 2.1 2.1 2.1 2.1 2.1 2.1 4.1 ...\n",
            " $ weather_main       : Factor w/ 11 levels \"Clear\",\"Clouds\",..: 1 1 1 1 1 1 1 1 1 7 ...\n",
            " $ weather_description: Factor w/ 24 levels \"broken clouds\",..: 17 17 17 17 17 17 17 17 17 9 ...\n"
          ]
        },
        {
          "output_type": "display_data",
          "data": {
            "text/html": [
              "<table class=\"dataframe\">\n",
              "<caption>A data.frame: 8 × 7</caption>\n",
              "<thead>\n",
              "\t<tr><th></th><th scope=col>shrinkage</th><th scope=col>interaction.depth</th><th scope=col>n.minobsinnode</th><th scope=col>bag.fraction</th><th scope=col>n.tress</th><th scope=col>optimal_trees</th><th scope=col>min_RMSE</th></tr>\n",
              "\t<tr><th></th><th scope=col>&lt;dbl&gt;</th><th scope=col>&lt;dbl&gt;</th><th scope=col>&lt;dbl&gt;</th><th scope=col>&lt;dbl&gt;</th><th scope=col>&lt;dbl&gt;</th><th scope=col>&lt;dbl&gt;</th><th scope=col>&lt;dbl&gt;</th></tr>\n",
              "</thead>\n",
              "<tbody>\n",
              "\t<tr><th scope=row>1</th><td>0.3</td><td>1</td><td> 5</td><td>1</td><td>100</td><td>33</td><td>1.184772</td></tr>\n",
              "\t<tr><th scope=row>2</th><td>0.3</td><td>1</td><td>10</td><td>1</td><td>100</td><td>33</td><td>1.184772</td></tr>\n",
              "\t<tr><th scope=row>3</th><td>0.3</td><td>1</td><td> 5</td><td>1</td><td>300</td><td>33</td><td>1.184772</td></tr>\n",
              "\t<tr><th scope=row>4</th><td>0.3</td><td>1</td><td>10</td><td>1</td><td>300</td><td>33</td><td>1.184772</td></tr>\n",
              "\t<tr><th scope=row>5</th><td>0.3</td><td>1</td><td> 5</td><td>1</td><td>500</td><td>33</td><td>1.184772</td></tr>\n",
              "\t<tr><th scope=row>6</th><td>0.3</td><td>1</td><td>10</td><td>1</td><td>500</td><td>33</td><td>1.184772</td></tr>\n",
              "\t<tr><th scope=row>7</th><td>0.3</td><td>1</td><td> 5</td><td>1</td><td>800</td><td>33</td><td>1.184772</td></tr>\n",
              "\t<tr><th scope=row>8</th><td>0.3</td><td>1</td><td>10</td><td>1</td><td>800</td><td>33</td><td>1.184772</td></tr>\n",
              "</tbody>\n",
              "</table>\n"
            ],
            "text/markdown": "\nA data.frame: 8 × 7\n\n| <!--/--> | shrinkage &lt;dbl&gt; | interaction.depth &lt;dbl&gt; | n.minobsinnode &lt;dbl&gt; | bag.fraction &lt;dbl&gt; | n.tress &lt;dbl&gt; | optimal_trees &lt;dbl&gt; | min_RMSE &lt;dbl&gt; |\n|---|---|---|---|---|---|---|---|\n| 1 | 0.3 | 1 |  5 | 1 | 100 | 33 | 1.184772 |\n| 2 | 0.3 | 1 | 10 | 1 | 100 | 33 | 1.184772 |\n| 3 | 0.3 | 1 |  5 | 1 | 300 | 33 | 1.184772 |\n| 4 | 0.3 | 1 | 10 | 1 | 300 | 33 | 1.184772 |\n| 5 | 0.3 | 1 |  5 | 1 | 500 | 33 | 1.184772 |\n| 6 | 0.3 | 1 | 10 | 1 | 500 | 33 | 1.184772 |\n| 7 | 0.3 | 1 |  5 | 1 | 800 | 33 | 1.184772 |\n| 8 | 0.3 | 1 | 10 | 1 | 800 | 33 | 1.184772 |\n\n",
            "text/latex": "A data.frame: 8 × 7\n\\begin{tabular}{r|lllllll}\n  & shrinkage & interaction.depth & n.minobsinnode & bag.fraction & n.tress & optimal\\_trees & min\\_RMSE\\\\\n  & <dbl> & <dbl> & <dbl> & <dbl> & <dbl> & <dbl> & <dbl>\\\\\n\\hline\n\t1 & 0.3 & 1 &  5 & 1 & 100 & 33 & 1.184772\\\\\n\t2 & 0.3 & 1 & 10 & 1 & 100 & 33 & 1.184772\\\\\n\t3 & 0.3 & 1 &  5 & 1 & 300 & 33 & 1.184772\\\\\n\t4 & 0.3 & 1 & 10 & 1 & 300 & 33 & 1.184772\\\\\n\t5 & 0.3 & 1 &  5 & 1 & 500 & 33 & 1.184772\\\\\n\t6 & 0.3 & 1 & 10 & 1 & 500 & 33 & 1.184772\\\\\n\t7 & 0.3 & 1 &  5 & 1 & 800 & 33 & 1.184772\\\\\n\t8 & 0.3 & 1 & 10 & 1 & 800 & 33 & 1.184772\\\\\n\\end{tabular}\n",
            "text/plain": [
              "  shrinkage interaction.depth n.minobsinnode bag.fraction n.tress optimal_trees\n",
              "1 0.3       1                  5             1            100     33           \n",
              "2 0.3       1                 10             1            100     33           \n",
              "3 0.3       1                  5             1            300     33           \n",
              "4 0.3       1                 10             1            300     33           \n",
              "5 0.3       1                  5             1            500     33           \n",
              "6 0.3       1                 10             1            500     33           \n",
              "7 0.3       1                  5             1            800     33           \n",
              "8 0.3       1                 10             1            800     33           \n",
              "  min_RMSE\n",
              "1 1.184772\n",
              "2 1.184772\n",
              "3 1.184772\n",
              "4 1.184772\n",
              "5 1.184772\n",
              "6 1.184772\n",
              "7 1.184772\n",
              "8 1.184772"
            ]
          },
          "metadata": {}
        }
      ]
    },
    {
      "cell_type": "code",
      "source": [
        "data2=head(data1,1000000)\n",
        "## Data pre-processing\n",
        "data2 = subset(data2, select = -c(CONTRIBUTING.FACTOR.VEHICLE.1,LATITUDE,LONGITUDE,wind_deg,temp_min,temp_max,dew_point,CONTRIBUTING.FACTOR.VEHICLE.2,COLLISION_ID,X,VEHICLE.TYPE.CODE.1,VEHICLE.TYPE.CODE.2,ON.STREET.NAME,CROSS.STREET.NAME,OFF.STREET.NAME, VEHICLE_ID,weather_id,clouds_all,rain_1h,wind_gust,weather_icon,rain_3h,snow_3h,sea_level,grnd_level,snow_1h) )\n",
        "names(data2)[names(data2) == \"KILLED.INJURED\"] <- \"KILLED_INJURED\"\n",
        "colSums(is.na(data2))\n",
        "data2$CRASH_DATE=as.Date(data2$CRASH_DATE, format = \"%Y-%m-%d\")\n",
        "nrow(data2)\n",
        "data2=data2[!is.na(data2$visibility),]\n",
        "nrow(data2)\n",
        "data2$CRASH_DATE <- as.numeric(data2$CRASH_DATE)\n",
        "data2$Holiday <- as.factor(data2$Holiday)\n",
        "data2=data2[!is.na(data2$KILLED_INJURED),]\n",
        "nrow(data2)\n",
        "index0 <- which(data2$KILLED_INJURED == 0)\n",
        "index1 <- which(data2$KILLED_INJURED == 1)\n",
        "deleteindex <- sample(index0,length(index0)-length(index1))\n",
        "nrow(data2)\n",
        "data2=data2[-deleteindex,]\n",
        "nrow(data2)\n",
        "#data2$KILLED_INJURED <- as.factor(data2$KILLED_INJURED)\n",
        "nrow(data2)\n",
        "data2$weather_main <- as.factor(data2$weather_main)\n",
        "data2$weather_description <- as.factor(data2$weather_description)\n",
        "data2$PERSON_SEX <- as.factor(data2$PERSON_SEX)\n",
        "data2$WEEKDAY <- as.factor(data2$WEEKDAY)\n",
        "set.seed(1)\n",
        "sample = sample.split(data2, SplitRatio = 0.80)\n",
        "training = subset(data2, sample == TRUE)\n",
        "test = subset(data2, sample == FALSE)\n",
        "rm(sample)\n",
        "str(training)\n",
        "str(test)\n",
        "hyper_grid <- expand.grid(\n",
        "  shrinkage = 0.3,\n",
        "  interaction.depth = 1,\n",
        "  n.minobsinnode = c(5, 10),\n",
        "  bag.fraction = 1, \n",
        "  n.tress = c(100, 300,500,800),\n",
        "  optimal_trees = 0,               # a place to dump results\n",
        "  min_RMSE = 0                     # a place to dump results\n",
        ")\n",
        "\n",
        "for(i in 1:nrow(hyper_grid)) {\n",
        "  # reproducibility\n",
        "  set.seed(123)\n",
        "  # train model\n",
        "  gbm.tune <- gbm(\n",
        "    formula = KILLED_INJURED ~ .,\n",
        "    distribution = \"gaussian\",\n",
        "    data = training,\n",
        "    n.trees = hyper_grid$n.tress[i],\n",
        "    interaction.depth = hyper_grid$interaction.depth[i],\n",
        "    shrinkage = hyper_grid$shrinkage[i],\n",
        "    n.minobsinnode = hyper_grid$n.minobsinnode[i],\n",
        "    bag.fraction = hyper_grid$bag.fraction[i],\n",
        "    train.fraction = .75,\n",
        "    n.cores = NULL, # will use all cores by default\n",
        "    verbose = FALSE\n",
        "  )\n",
        "  \n",
        "  # add min training error and trees to grid\n",
        "  hyper_grid$optimal_trees[i] <- which.min(gbm.tune$valid.error)\n",
        "  hyper_grid$min_RMSE[i] <- sqrt(min(gbm.tune$valid.error))\n",
        "}\n",
        "hyper_grid %>% \n",
        "  dplyr::arrange(min_RMSE) %>%\n",
        "  head(10)"
      ],
      "metadata": {
        "colab": {
          "base_uri": "https://localhost:8080/",
          "height": 1000
        },
        "id": "qVwoQKs1T-TV",
        "outputId": "5ec08cf3-b096-45c4-8013-3c9cf93f0030"
      },
      "execution_count": null,
      "outputs": [
        {
          "output_type": "display_data",
          "data": {
            "text/html": [
              "<style>\n",
              ".dl-inline {width: auto; margin:0; padding: 0}\n",
              ".dl-inline>dt, .dl-inline>dd {float: none; width: auto; display: inline-block}\n",
              ".dl-inline>dt::after {content: \":\\0020\"; padding-right: .5ex}\n",
              ".dl-inline>dt:not(:first-of-type) {padding-left: .5ex}\n",
              "</style><dl class=dl-inline><dt>CRASH_DATE</dt><dd>0</dd><dt>CRASH_TIME</dt><dd>0</dd><dt>PERSON_AGE</dt><dd>0</dd><dt>PERSON_SEX</dt><dd>0</dd><dt>KILLED_INJURED</dt><dd>22</dd><dt>WEEKDAY</dt><dd>0</dd><dt>Holiday</dt><dd>0</dd><dt>temp</dt><dd>0</dd><dt>visibility</dt><dd>1106</dd><dt>pressure</dt><dd>0</dd><dt>humidity</dt><dd>0</dd><dt>wind_speed</dt><dd>0</dd><dt>weather_main</dt><dd>0</dd><dt>weather_description</dt><dd>0</dd></dl>\n"
            ],
            "text/markdown": "CRASH_DATE\n:   0CRASH_TIME\n:   0PERSON_AGE\n:   0PERSON_SEX\n:   0KILLED_INJURED\n:   22WEEKDAY\n:   0Holiday\n:   0temp\n:   0visibility\n:   1106pressure\n:   0humidity\n:   0wind_speed\n:   0weather_main\n:   0weather_description\n:   0\n\n",
            "text/latex": "\\begin{description*}\n\\item[CRASH\\textbackslash{}\\_DATE] 0\n\\item[CRASH\\textbackslash{}\\_TIME] 0\n\\item[PERSON\\textbackslash{}\\_AGE] 0\n\\item[PERSON\\textbackslash{}\\_SEX] 0\n\\item[KILLED\\textbackslash{}\\_INJURED] 22\n\\item[WEEKDAY] 0\n\\item[Holiday] 0\n\\item[temp] 0\n\\item[visibility] 1106\n\\item[pressure] 0\n\\item[humidity] 0\n\\item[wind\\textbackslash{}\\_speed] 0\n\\item[weather\\textbackslash{}\\_main] 0\n\\item[weather\\textbackslash{}\\_description] 0\n\\end{description*}\n",
            "text/plain": [
              "         CRASH_DATE          CRASH_TIME          PERSON_AGE          PERSON_SEX \n",
              "                  0                   0                   0                   0 \n",
              "     KILLED_INJURED             WEEKDAY             Holiday                temp \n",
              "                 22                   0                   0                   0 \n",
              "         visibility            pressure            humidity          wind_speed \n",
              "               1106                   0                   0                   0 \n",
              "       weather_main weather_description \n",
              "                  0                   0 "
            ]
          },
          "metadata": {}
        },
        {
          "output_type": "display_data",
          "data": {
            "text/html": [
              "1000000"
            ],
            "text/markdown": "1000000",
            "text/latex": "1000000",
            "text/plain": [
              "[1] 1000000"
            ]
          },
          "metadata": {}
        },
        {
          "output_type": "display_data",
          "data": {
            "text/html": [
              "998894"
            ],
            "text/markdown": "998894",
            "text/latex": "998894",
            "text/plain": [
              "[1] 998894"
            ]
          },
          "metadata": {}
        },
        {
          "output_type": "display_data",
          "data": {
            "text/html": [
              "998872"
            ],
            "text/markdown": "998872",
            "text/latex": "998872",
            "text/plain": [
              "[1] 998872"
            ]
          },
          "metadata": {}
        },
        {
          "output_type": "display_data",
          "data": {
            "text/html": [
              "998872"
            ],
            "text/markdown": "998872",
            "text/latex": "998872",
            "text/plain": [
              "[1] 998872"
            ]
          },
          "metadata": {}
        },
        {
          "output_type": "display_data",
          "data": {
            "text/html": [
              "361972"
            ],
            "text/markdown": "361972",
            "text/latex": "361972",
            "text/plain": [
              "[1] 361972"
            ]
          },
          "metadata": {}
        },
        {
          "output_type": "display_data",
          "data": {
            "text/html": [
              "361972"
            ],
            "text/markdown": "361972",
            "text/latex": "361972",
            "text/plain": [
              "[1] 361972"
            ]
          },
          "metadata": {}
        },
        {
          "output_type": "stream",
          "name": "stdout",
          "text": [
            "'data.frame':\t284407 obs. of  14 variables:\n",
            " $ CRASH_DATE         : num  18194 18194 18194 18194 18194 ...\n",
            " $ CRASH_TIME         : int  15 15 15 15 15 15 15 15 15 15 ...\n",
            " $ PERSON_AGE         : num  33 42 17 56 27 38 35 39 35 35 ...\n",
            " $ PERSON_SEX         : Factor w/ 2 levels \"F\",\"M\": 2 2 2 2 2 2 2 2 2 2 ...\n",
            " $ KILLED_INJURED     : num  0 0 0 0 3 3 3 3 3 1 ...\n",
            " $ WEEKDAY            : Factor w/ 7 levels \"Friday\",\"Monday\",..: 1 1 1 1 1 1 1 1 1 1 ...\n",
            " $ Holiday            : Factor w/ 2 levels \"False\",\"True\": 1 1 1 1 1 1 1 1 1 1 ...\n",
            " $ temp               : num  14.5 14.5 14.5 14.5 14.5 ...\n",
            " $ visibility         : num  10000 10000 10000 10000 10000 10000 10000 10000 10000 10000 ...\n",
            " $ pressure           : int  1027 1027 1027 1027 1027 1027 1027 1027 1027 1027 ...\n",
            " $ humidity           : int  63 63 63 63 63 63 63 63 63 63 ...\n",
            " $ wind_speed         : num  2.1 2.1 2.1 2.1 2.1 2.1 2.1 2.1 2.1 2.1 ...\n",
            " $ weather_main       : Factor w/ 11 levels \"Clear\",\"Clouds\",..: 1 1 1 1 1 1 1 1 1 1 ...\n",
            " $ weather_description: Factor w/ 25 levels \"broken clouds\",..: 18 18 18 18 18 18 18 18 18 18 ...\n",
            "'data.frame':\t77565 obs. of  14 variables:\n",
            " $ CRASH_DATE         : num  18194 18194 18194 18194 18194 ...\n",
            " $ CRASH_TIME         : int  15 15 15 15 15 15 15 15 15 17 ...\n",
            " $ PERSON_AGE         : num  31 39 35 62 22 31 77 39 73 28 ...\n",
            " $ PERSON_SEX         : Factor w/ 2 levels \"F\",\"M\": 1 2 1 2 1 1 2 2 1 1 ...\n",
            " $ KILLED_INJURED     : num  0 3 3 0 1 1 2 2 2 0 ...\n",
            " $ WEEKDAY            : Factor w/ 7 levels \"Friday\",\"Monday\",..: 1 1 1 1 1 1 1 1 1 3 ...\n",
            " $ Holiday            : Factor w/ 2 levels \"False\",\"True\": 1 1 1 1 1 1 1 1 1 1 ...\n",
            " $ temp               : num  14.5 14.5 14.5 14.5 14.5 ...\n",
            " $ visibility         : num  10000 10000 10000 10000 10000 10000 10000 10000 10000 10000 ...\n",
            " $ pressure           : int  1027 1027 1027 1027 1027 1027 1027 1027 1027 1025 ...\n",
            " $ humidity           : int  63 63 63 63 63 63 63 63 63 48 ...\n",
            " $ wind_speed         : num  2.1 2.1 2.1 2.1 2.1 2.1 2.1 2.1 2.1 4.1 ...\n",
            " $ weather_main       : Factor w/ 11 levels \"Clear\",\"Clouds\",..: 1 1 1 1 1 1 1 1 1 7 ...\n",
            " $ weather_description: Factor w/ 25 levels \"broken clouds\",..: 18 18 18 18 18 18 18 18 18 10 ...\n"
          ]
        },
        {
          "output_type": "display_data",
          "data": {
            "text/html": [
              "<table class=\"dataframe\">\n",
              "<caption>A data.frame: 8 × 7</caption>\n",
              "<thead>\n",
              "\t<tr><th></th><th scope=col>shrinkage</th><th scope=col>interaction.depth</th><th scope=col>n.minobsinnode</th><th scope=col>bag.fraction</th><th scope=col>n.tress</th><th scope=col>optimal_trees</th><th scope=col>min_RMSE</th></tr>\n",
              "\t<tr><th></th><th scope=col>&lt;dbl&gt;</th><th scope=col>&lt;dbl&gt;</th><th scope=col>&lt;dbl&gt;</th><th scope=col>&lt;dbl&gt;</th><th scope=col>&lt;dbl&gt;</th><th scope=col>&lt;dbl&gt;</th><th scope=col>&lt;dbl&gt;</th></tr>\n",
              "</thead>\n",
              "<tbody>\n",
              "\t<tr><th scope=row>1</th><td>0.3</td><td>1</td><td> 5</td><td>1</td><td>100</td><td>83</td><td>1.181169</td></tr>\n",
              "\t<tr><th scope=row>2</th><td>0.3</td><td>1</td><td>10</td><td>1</td><td>100</td><td>83</td><td>1.181169</td></tr>\n",
              "\t<tr><th scope=row>3</th><td>0.3</td><td>1</td><td> 5</td><td>1</td><td>300</td><td>83</td><td>1.181169</td></tr>\n",
              "\t<tr><th scope=row>4</th><td>0.3</td><td>1</td><td>10</td><td>1</td><td>300</td><td>83</td><td>1.181169</td></tr>\n",
              "\t<tr><th scope=row>5</th><td>0.3</td><td>1</td><td> 5</td><td>1</td><td>500</td><td>83</td><td>1.181169</td></tr>\n",
              "\t<tr><th scope=row>6</th><td>0.3</td><td>1</td><td>10</td><td>1</td><td>500</td><td>83</td><td>1.181169</td></tr>\n",
              "\t<tr><th scope=row>7</th><td>0.3</td><td>1</td><td> 5</td><td>1</td><td>800</td><td>83</td><td>1.181169</td></tr>\n",
              "\t<tr><th scope=row>8</th><td>0.3</td><td>1</td><td>10</td><td>1</td><td>800</td><td>83</td><td>1.181169</td></tr>\n",
              "</tbody>\n",
              "</table>\n"
            ],
            "text/markdown": "\nA data.frame: 8 × 7\n\n| <!--/--> | shrinkage &lt;dbl&gt; | interaction.depth &lt;dbl&gt; | n.minobsinnode &lt;dbl&gt; | bag.fraction &lt;dbl&gt; | n.tress &lt;dbl&gt; | optimal_trees &lt;dbl&gt; | min_RMSE &lt;dbl&gt; |\n|---|---|---|---|---|---|---|---|\n| 1 | 0.3 | 1 |  5 | 1 | 100 | 83 | 1.181169 |\n| 2 | 0.3 | 1 | 10 | 1 | 100 | 83 | 1.181169 |\n| 3 | 0.3 | 1 |  5 | 1 | 300 | 83 | 1.181169 |\n| 4 | 0.3 | 1 | 10 | 1 | 300 | 83 | 1.181169 |\n| 5 | 0.3 | 1 |  5 | 1 | 500 | 83 | 1.181169 |\n| 6 | 0.3 | 1 | 10 | 1 | 500 | 83 | 1.181169 |\n| 7 | 0.3 | 1 |  5 | 1 | 800 | 83 | 1.181169 |\n| 8 | 0.3 | 1 | 10 | 1 | 800 | 83 | 1.181169 |\n\n",
            "text/latex": "A data.frame: 8 × 7\n\\begin{tabular}{r|lllllll}\n  & shrinkage & interaction.depth & n.minobsinnode & bag.fraction & n.tress & optimal\\_trees & min\\_RMSE\\\\\n  & <dbl> & <dbl> & <dbl> & <dbl> & <dbl> & <dbl> & <dbl>\\\\\n\\hline\n\t1 & 0.3 & 1 &  5 & 1 & 100 & 83 & 1.181169\\\\\n\t2 & 0.3 & 1 & 10 & 1 & 100 & 83 & 1.181169\\\\\n\t3 & 0.3 & 1 &  5 & 1 & 300 & 83 & 1.181169\\\\\n\t4 & 0.3 & 1 & 10 & 1 & 300 & 83 & 1.181169\\\\\n\t5 & 0.3 & 1 &  5 & 1 & 500 & 83 & 1.181169\\\\\n\t6 & 0.3 & 1 & 10 & 1 & 500 & 83 & 1.181169\\\\\n\t7 & 0.3 & 1 &  5 & 1 & 800 & 83 & 1.181169\\\\\n\t8 & 0.3 & 1 & 10 & 1 & 800 & 83 & 1.181169\\\\\n\\end{tabular}\n",
            "text/plain": [
              "  shrinkage interaction.depth n.minobsinnode bag.fraction n.tress optimal_trees\n",
              "1 0.3       1                  5             1            100     83           \n",
              "2 0.3       1                 10             1            100     83           \n",
              "3 0.3       1                  5             1            300     83           \n",
              "4 0.3       1                 10             1            300     83           \n",
              "5 0.3       1                  5             1            500     83           \n",
              "6 0.3       1                 10             1            500     83           \n",
              "7 0.3       1                  5             1            800     83           \n",
              "8 0.3       1                 10             1            800     83           \n",
              "  min_RMSE\n",
              "1 1.181169\n",
              "2 1.181169\n",
              "3 1.181169\n",
              "4 1.181169\n",
              "5 1.181169\n",
              "6 1.181169\n",
              "7 1.181169\n",
              "8 1.181169"
            ]
          },
          "metadata": {}
        }
      ]
    },
    {
      "cell_type": "code",
      "source": [
        "data2=head(data1,2000000)\n",
        "## Data pre-processing\n",
        "data2 = subset(data2, select = -c(CONTRIBUTING.FACTOR.VEHICLE.1,LATITUDE,LONGITUDE,wind_deg,temp_min,temp_max,dew_point,CONTRIBUTING.FACTOR.VEHICLE.2,COLLISION_ID,X,VEHICLE.TYPE.CODE.1,VEHICLE.TYPE.CODE.2,ON.STREET.NAME,CROSS.STREET.NAME,OFF.STREET.NAME, VEHICLE_ID,weather_id,clouds_all,rain_1h,wind_gust,weather_icon,rain_3h,snow_3h,sea_level,grnd_level,snow_1h) )\n",
        "names(data2)[names(data2) == \"KILLED.INJURED\"] <- \"KILLED_INJURED\"\n",
        "colSums(is.na(data2))\n",
        "data2$CRASH_DATE=as.Date(data2$CRASH_DATE, format = \"%Y-%m-%d\")\n",
        "nrow(data2)\n",
        "data2=data2[!is.na(data2$visibility),]\n",
        "nrow(data2)\n",
        "data2$CRASH_DATE <- as.numeric(data2$CRASH_DATE)\n",
        "data2$Holiday <- as.factor(data2$Holiday)\n",
        "data2=data2[!is.na(data2$KILLED_INJURED),]\n",
        "nrow(data2)\n",
        "index0 <- which(data2$KILLED_INJURED == 0)\n",
        "index1 <- which(data2$KILLED_INJURED == 1)\n",
        "deleteindex <- sample(index0,length(index0)-length(index1))\n",
        "nrow(data2)\n",
        "data2=data2[-deleteindex,]\n",
        "nrow(data2)\n",
        "#data2$KILLED_INJURED <- as.factor(data2$KILLED_INJURED)\n",
        "nrow(data2)\n",
        "data2$weather_main <- as.factor(data2$weather_main)\n",
        "data2$weather_description <- as.factor(data2$weather_description)\n",
        "data2$PERSON_SEX <- as.factor(data2$PERSON_SEX)\n",
        "data2$WEEKDAY <- as.factor(data2$WEEKDAY)\n",
        "set.seed(1)\n",
        "sample = sample.split(data2, SplitRatio = 0.80)\n",
        "training = subset(data2, sample == TRUE)\n",
        "test = subset(data2, sample == FALSE)\n",
        "rm(sample)\n",
        "str(training)\n",
        "str(test)\n",
        "hyper_grid <- expand.grid(\n",
        "  shrinkage = 0.3,\n",
        "  interaction.depth = 1,\n",
        "  n.minobsinnode = c(5, 10),\n",
        "  bag.fraction = 1, \n",
        "  n.tress = c(100, 300,500,800),\n",
        "  optimal_trees = 0,               # a place to dump results\n",
        "  min_RMSE = 0                     # a place to dump results\n",
        ")\n",
        "\n",
        "for(i in 1:nrow(hyper_grid)) {\n",
        "  # reproducibility\n",
        "  set.seed(123)\n",
        "  # train model\n",
        "  gbm.tune <- gbm(\n",
        "    formula = KILLED_INJURED ~ .,\n",
        "    distribution = \"gaussian\",\n",
        "    data = training,\n",
        "    n.trees = hyper_grid$n.tress[i],\n",
        "    interaction.depth = hyper_grid$interaction.depth[i],\n",
        "    shrinkage = hyper_grid$shrinkage[i],\n",
        "    n.minobsinnode = hyper_grid$n.minobsinnode[i],\n",
        "    bag.fraction = hyper_grid$bag.fraction[i],\n",
        "    train.fraction = .75,\n",
        "    n.cores = NULL, # will use all cores by default\n",
        "    verbose = FALSE\n",
        "  )\n",
        "  \n",
        "  # add min training error and trees to grid\n",
        "  hyper_grid$optimal_trees[i] <- which.min(gbm.tune$valid.error)\n",
        "  hyper_grid$min_RMSE[i] <- sqrt(min(gbm.tune$valid.error))\n",
        "}\n",
        "hyper_grid %>% \n",
        "  dplyr::arrange(min_RMSE) %>%\n",
        "  head(10)"
      ],
      "metadata": {
        "colab": {
          "base_uri": "https://localhost:8080/",
          "height": 1000
        },
        "id": "QfZdkfUCUArl",
        "outputId": "a9ad3335-7e59-423b-a426-a90b23382ed1"
      },
      "execution_count": null,
      "outputs": [
        {
          "output_type": "display_data",
          "data": {
            "text/html": [
              "<style>\n",
              ".dl-inline {width: auto; margin:0; padding: 0}\n",
              ".dl-inline>dt, .dl-inline>dd {float: none; width: auto; display: inline-block}\n",
              ".dl-inline>dt::after {content: \":\\0020\"; padding-right: .5ex}\n",
              ".dl-inline>dt:not(:first-of-type) {padding-left: .5ex}\n",
              "</style><dl class=dl-inline><dt>CRASH_DATE</dt><dd>0</dd><dt>CRASH_TIME</dt><dd>0</dd><dt>PERSON_AGE</dt><dd>0</dd><dt>PERSON_SEX</dt><dd>0</dd><dt>KILLED_INJURED</dt><dd>36</dd><dt>WEEKDAY</dt><dd>0</dd><dt>Holiday</dt><dd>0</dd><dt>temp</dt><dd>0</dd><dt>visibility</dt><dd>2292</dd><dt>pressure</dt><dd>0</dd><dt>humidity</dt><dd>0</dd><dt>wind_speed</dt><dd>0</dd><dt>weather_main</dt><dd>0</dd><dt>weather_description</dt><dd>0</dd></dl>\n"
            ],
            "text/markdown": "CRASH_DATE\n:   0CRASH_TIME\n:   0PERSON_AGE\n:   0PERSON_SEX\n:   0KILLED_INJURED\n:   36WEEKDAY\n:   0Holiday\n:   0temp\n:   0visibility\n:   2292pressure\n:   0humidity\n:   0wind_speed\n:   0weather_main\n:   0weather_description\n:   0\n\n",
            "text/latex": "\\begin{description*}\n\\item[CRASH\\textbackslash{}\\_DATE] 0\n\\item[CRASH\\textbackslash{}\\_TIME] 0\n\\item[PERSON\\textbackslash{}\\_AGE] 0\n\\item[PERSON\\textbackslash{}\\_SEX] 0\n\\item[KILLED\\textbackslash{}\\_INJURED] 36\n\\item[WEEKDAY] 0\n\\item[Holiday] 0\n\\item[temp] 0\n\\item[visibility] 2292\n\\item[pressure] 0\n\\item[humidity] 0\n\\item[wind\\textbackslash{}\\_speed] 0\n\\item[weather\\textbackslash{}\\_main] 0\n\\item[weather\\textbackslash{}\\_description] 0\n\\end{description*}\n",
            "text/plain": [
              "         CRASH_DATE          CRASH_TIME          PERSON_AGE          PERSON_SEX \n",
              "                  0                   0                   0                   0 \n",
              "     KILLED_INJURED             WEEKDAY             Holiday                temp \n",
              "                 36                   0                   0                   0 \n",
              "         visibility            pressure            humidity          wind_speed \n",
              "               2292                   0                   0                   0 \n",
              "       weather_main weather_description \n",
              "                  0                   0 "
            ]
          },
          "metadata": {}
        },
        {
          "output_type": "display_data",
          "data": {
            "text/html": [
              "2000000"
            ],
            "text/markdown": "2000000",
            "text/latex": "2000000",
            "text/plain": [
              "[1] 2000000"
            ]
          },
          "metadata": {}
        },
        {
          "output_type": "display_data",
          "data": {
            "text/html": [
              "1997708"
            ],
            "text/markdown": "1997708",
            "text/latex": "1997708",
            "text/plain": [
              "[1] 1997708"
            ]
          },
          "metadata": {}
        },
        {
          "output_type": "display_data",
          "data": {
            "text/html": [
              "1997672"
            ],
            "text/markdown": "1997672",
            "text/latex": "1997672",
            "text/plain": [
              "[1] 1997672"
            ]
          },
          "metadata": {}
        },
        {
          "output_type": "display_data",
          "data": {
            "text/html": [
              "1997672"
            ],
            "text/markdown": "1997672",
            "text/latex": "1997672",
            "text/plain": [
              "[1] 1997672"
            ]
          },
          "metadata": {}
        },
        {
          "output_type": "display_data",
          "data": {
            "text/html": [
              "746409"
            ],
            "text/markdown": "746409",
            "text/latex": "746409",
            "text/plain": [
              "[1] 746409"
            ]
          },
          "metadata": {}
        },
        {
          "output_type": "display_data",
          "data": {
            "text/html": [
              "746409"
            ],
            "text/markdown": "746409",
            "text/latex": "746409",
            "text/plain": [
              "[1] 746409"
            ]
          },
          "metadata": {}
        },
        {
          "output_type": "stream",
          "name": "stdout",
          "text": [
            "'data.frame':\t586464 obs. of  14 variables:\n",
            " $ CRASH_DATE         : num  18194 18194 18194 18194 18194 ...\n",
            " $ CRASH_TIME         : int  15 15 15 15 15 15 15 15 15 15 ...\n",
            " $ PERSON_AGE         : num  33 33 17 35 35 39 35 35 35 25 ...\n",
            " $ PERSON_SEX         : Factor w/ 2 levels \"F\",\"M\": 1 2 2 1 2 2 2 2 2 1 ...\n",
            " $ KILLED_INJURED     : num  0 0 0 3 3 3 3 1 1 1 ...\n",
            " $ WEEKDAY            : Factor w/ 7 levels \"Friday\",\"Monday\",..: 1 1 1 1 1 1 1 1 1 1 ...\n",
            " $ Holiday            : Factor w/ 2 levels \"False\",\"True\": 1 1 1 1 1 1 1 1 1 1 ...\n",
            " $ temp               : num  14.5 14.5 14.5 14.5 14.5 ...\n",
            " $ visibility         : num  10000 10000 10000 10000 10000 10000 10000 10000 10000 10000 ...\n",
            " $ pressure           : int  1027 1027 1027 1027 1027 1027 1027 1027 1027 1027 ...\n",
            " $ humidity           : int  63 63 63 63 63 63 63 63 63 63 ...\n",
            " $ wind_speed         : num  2.1 2.1 2.1 2.1 2.1 2.1 2.1 2.1 2.1 2.1 ...\n",
            " $ weather_main       : Factor w/ 11 levels \"Clear\",\"Clouds\",..: 1 1 1 1 1 1 1 1 1 1 ...\n",
            " $ weather_description: Factor w/ 27 levels \"broken clouds\",..: 19 19 19 19 19 19 19 19 19 19 ...\n",
            "'data.frame':\t159945 obs. of  14 variables:\n",
            " $ CRASH_DATE         : num  18194 18194 18194 18194 18194 ...\n",
            " $ CRASH_TIME         : int  15 15 15 15 15 15 15 15 15 17 ...\n",
            " $ PERSON_AGE         : num  39 27 38 31 21 21 39 48 29 20 ...\n",
            " $ PERSON_SEX         : Factor w/ 2 levels \"F\",\"M\": 2 2 2 1 1 1 1 1 2 1 ...\n",
            " $ KILLED_INJURED     : num  3 3 3 1 1 1 2 0 0 1 ...\n",
            " $ WEEKDAY            : Factor w/ 7 levels \"Friday\",\"Monday\",..: 1 1 1 1 1 1 1 1 1 3 ...\n",
            " $ Holiday            : Factor w/ 2 levels \"False\",\"True\": 1 1 1 1 1 1 1 1 1 1 ...\n",
            " $ temp               : num  14.5 14.5 14.5 14.5 14.5 ...\n",
            " $ visibility         : num  10000 10000 10000 10000 10000 10000 10000 10000 10000 10000 ...\n",
            " $ pressure           : int  1027 1027 1027 1027 1027 1027 1027 1027 1027 1025 ...\n",
            " $ humidity           : int  63 63 63 63 63 63 63 63 63 48 ...\n",
            " $ wind_speed         : num  2.1 2.1 2.1 2.1 2.1 2.1 2.1 2.1 2.1 4.1 ...\n",
            " $ weather_main       : Factor w/ 11 levels \"Clear\",\"Clouds\",..: 1 1 1 1 1 1 1 1 1 7 ...\n",
            " $ weather_description: Factor w/ 27 levels \"broken clouds\",..: 19 19 19 19 19 19 19 19 19 10 ...\n"
          ]
        },
        {
          "output_type": "display_data",
          "data": {
            "text/html": [
              "<table class=\"dataframe\">\n",
              "<caption>A data.frame: 8 × 7</caption>\n",
              "<thead>\n",
              "\t<tr><th></th><th scope=col>shrinkage</th><th scope=col>interaction.depth</th><th scope=col>n.minobsinnode</th><th scope=col>bag.fraction</th><th scope=col>n.tress</th><th scope=col>optimal_trees</th><th scope=col>min_RMSE</th></tr>\n",
              "\t<tr><th></th><th scope=col>&lt;dbl&gt;</th><th scope=col>&lt;dbl&gt;</th><th scope=col>&lt;dbl&gt;</th><th scope=col>&lt;dbl&gt;</th><th scope=col>&lt;dbl&gt;</th><th scope=col>&lt;dbl&gt;</th><th scope=col>&lt;dbl&gt;</th></tr>\n",
              "</thead>\n",
              "<tbody>\n",
              "\t<tr><th scope=row>1</th><td>0.3</td><td>1</td><td> 5</td><td>1</td><td>500</td><td>322</td><td>1.188997</td></tr>\n",
              "\t<tr><th scope=row>2</th><td>0.3</td><td>1</td><td> 5</td><td>1</td><td>800</td><td>322</td><td>1.188997</td></tr>\n",
              "\t<tr><th scope=row>3</th><td>0.3</td><td>1</td><td> 5</td><td>1</td><td>300</td><td>300</td><td>1.189024</td></tr>\n",
              "\t<tr><th scope=row>4</th><td>0.3</td><td>1</td><td> 5</td><td>1</td><td>100</td><td> 98</td><td>1.189161</td></tr>\n",
              "\t<tr><th scope=row>5</th><td>0.3</td><td>1</td><td>10</td><td>1</td><td>300</td><td>218</td><td>1.189215</td></tr>\n",
              "\t<tr><th scope=row>6</th><td>0.3</td><td>1</td><td>10</td><td>1</td><td>500</td><td>218</td><td>1.189215</td></tr>\n",
              "\t<tr><th scope=row>7</th><td>0.3</td><td>1</td><td>10</td><td>1</td><td>800</td><td>218</td><td>1.189215</td></tr>\n",
              "\t<tr><th scope=row>8</th><td>0.3</td><td>1</td><td>10</td><td>1</td><td>100</td><td> 88</td><td>1.189248</td></tr>\n",
              "</tbody>\n",
              "</table>\n"
            ],
            "text/markdown": "\nA data.frame: 8 × 7\n\n| <!--/--> | shrinkage &lt;dbl&gt; | interaction.depth &lt;dbl&gt; | n.minobsinnode &lt;dbl&gt; | bag.fraction &lt;dbl&gt; | n.tress &lt;dbl&gt; | optimal_trees &lt;dbl&gt; | min_RMSE &lt;dbl&gt; |\n|---|---|---|---|---|---|---|---|\n| 1 | 0.3 | 1 |  5 | 1 | 500 | 322 | 1.188997 |\n| 2 | 0.3 | 1 |  5 | 1 | 800 | 322 | 1.188997 |\n| 3 | 0.3 | 1 |  5 | 1 | 300 | 300 | 1.189024 |\n| 4 | 0.3 | 1 |  5 | 1 | 100 |  98 | 1.189161 |\n| 5 | 0.3 | 1 | 10 | 1 | 300 | 218 | 1.189215 |\n| 6 | 0.3 | 1 | 10 | 1 | 500 | 218 | 1.189215 |\n| 7 | 0.3 | 1 | 10 | 1 | 800 | 218 | 1.189215 |\n| 8 | 0.3 | 1 | 10 | 1 | 100 |  88 | 1.189248 |\n\n",
            "text/latex": "A data.frame: 8 × 7\n\\begin{tabular}{r|lllllll}\n  & shrinkage & interaction.depth & n.minobsinnode & bag.fraction & n.tress & optimal\\_trees & min\\_RMSE\\\\\n  & <dbl> & <dbl> & <dbl> & <dbl> & <dbl> & <dbl> & <dbl>\\\\\n\\hline\n\t1 & 0.3 & 1 &  5 & 1 & 500 & 322 & 1.188997\\\\\n\t2 & 0.3 & 1 &  5 & 1 & 800 & 322 & 1.188997\\\\\n\t3 & 0.3 & 1 &  5 & 1 & 300 & 300 & 1.189024\\\\\n\t4 & 0.3 & 1 &  5 & 1 & 100 &  98 & 1.189161\\\\\n\t5 & 0.3 & 1 & 10 & 1 & 300 & 218 & 1.189215\\\\\n\t6 & 0.3 & 1 & 10 & 1 & 500 & 218 & 1.189215\\\\\n\t7 & 0.3 & 1 & 10 & 1 & 800 & 218 & 1.189215\\\\\n\t8 & 0.3 & 1 & 10 & 1 & 100 &  88 & 1.189248\\\\\n\\end{tabular}\n",
            "text/plain": [
              "  shrinkage interaction.depth n.minobsinnode bag.fraction n.tress optimal_trees\n",
              "1 0.3       1                  5             1            500     322          \n",
              "2 0.3       1                  5             1            800     322          \n",
              "3 0.3       1                  5             1            300     300          \n",
              "4 0.3       1                  5             1            100      98          \n",
              "5 0.3       1                 10             1            300     218          \n",
              "6 0.3       1                 10             1            500     218          \n",
              "7 0.3       1                 10             1            800     218          \n",
              "8 0.3       1                 10             1            100      88          \n",
              "  min_RMSE\n",
              "1 1.188997\n",
              "2 1.188997\n",
              "3 1.189024\n",
              "4 1.189161\n",
              "5 1.189215\n",
              "6 1.189215\n",
              "7 1.189215\n",
              "8 1.189248"
            ]
          },
          "metadata": {}
        }
      ]
    }
  ],
  "metadata": {
    "colab": {
      "collapsed_sections": [
        "Y7IzXq_xyur0",
        "N8HQnwXhzW6f"
      ],
      "machine_shape": "hm",
      "name": "classication_boosting",
      "provenance": [],
      "include_colab_link": true
    },
    "kernelspec": {
      "display_name": "R",
      "name": "ir"
    },
    "language_info": {
      "name": "R"
    },
    "accelerator": "TPU"
  },
  "nbformat": 4,
  "nbformat_minor": 0
}