{
  "cells": [
    {
      "cell_type": "markdown",
      "metadata": {
        "id": "view-in-github",
        "colab_type": "text"
      },
      "source": [
        "<a href=\"https://colab.research.google.com/github/draaronv/statistical_learning/blob/master/classication_knn.ipynb\" target=\"_parent\"><img src=\"https://colab.research.google.com/assets/colab-badge.svg\" alt=\"Open In Colab\"/></a>"
      ]
    },
    {
      "cell_type": "code",
      "execution_count": null,
      "metadata": {
        "colab": {
          "base_uri": "https://localhost:8080/"
        },
        "id": "j1N06dtFSiGK",
        "outputId": "fdf236ba-8aba-4a6d-bdf7-04ff8c4f169e"
      },
      "outputs": [
        {
          "name": "stderr",
          "output_type": "stream",
          "text": [
            "Installing package into ‘/usr/local/lib/R/site-library’\n",
            "(as ‘lib’ is unspecified)\n",
            "\n",
            "Installing package into ‘/usr/local/lib/R/site-library’\n",
            "(as ‘lib’ is unspecified)\n",
            "\n",
            "also installing the dependencies ‘Rcpp’, ‘promises’, ‘later’\n",
            "\n",
            "\n"
          ]
        }
      ],
      "source": [
        "install.packages('googledrive')\n",
        "install.packages('httpuv') \n",
        "library('googledrive') \n",
        "library('httpuv')"
      ]
    },
    {
      "cell_type": "code",
      "execution_count": null,
      "metadata": {
        "colab": {
          "base_uri": "https://localhost:8080/"
        },
        "id": "cnq9DnaJ8_q8",
        "outputId": "6816d97d-993f-49ee-8e38-ec0ebb86535e"
      },
      "outputs": [
        {
          "name": "stderr",
          "output_type": "stream",
          "text": [
            "Installing package into ‘/usr/local/lib/R/site-library’\n",
            "(as ‘lib’ is unspecified)\n",
            "\n",
            "also installing the dependencies ‘R.oo’, ‘R.methodsS3’\n",
            "\n",
            "\n",
            "Loading required package: R.oo\n",
            "\n",
            "Loading required package: R.methodsS3\n",
            "\n",
            "R.methodsS3 v1.8.1 (2020-08-26 16:20:06 UTC) successfully loaded. See ?R.methodsS3 for help.\n",
            "\n",
            "R.oo v1.24.0 (2020-08-26 16:11:58 UTC) successfully loaded. See ?R.oo for help.\n",
            "\n",
            "\n",
            "Attaching package: ‘R.oo’\n",
            "\n",
            "\n",
            "The following object is masked from ‘package:R.methodsS3’:\n",
            "\n",
            "    throw\n",
            "\n",
            "\n",
            "The following objects are masked from ‘package:methods’:\n",
            "\n",
            "    getClasses, getMethods\n",
            "\n",
            "\n",
            "The following objects are masked from ‘package:base’:\n",
            "\n",
            "    attach, detach, load, save\n",
            "\n",
            "\n",
            "R.utils v2.11.0 (2021-09-26 08:30:02 UTC) successfully loaded. See ?R.utils for help.\n",
            "\n",
            "\n",
            "Attaching package: ‘R.utils’\n",
            "\n",
            "\n",
            "The following object is masked from ‘package:utils’:\n",
            "\n",
            "    timestamp\n",
            "\n",
            "\n",
            "The following objects are masked from ‘package:base’:\n",
            "\n",
            "    cat, commandArgs, getOption, inherits, isOpen, nullfile, parse,\n",
            "    warnings\n",
            "\n",
            "\n"
          ]
        }
      ],
      "source": [
        "if (file.exists(\"/usr/local/lib/python3.7/dist-packages/google/colab/_ipython.py\")) {\n",
        "  install.packages(\"R.utils\")\n",
        "  library(\"R.utils\")\n",
        "  library(\"httr\")\n",
        "  my_check <- function() {return(TRUE)}\n",
        "  reassignInPackage(\"is_interactive\", pkgName = \"httr\", my_check) \n",
        "  options(rlang_interactive=TRUE)\n",
        "}"
      ]
    },
    {
      "cell_type": "code",
      "execution_count": null,
      "metadata": {
        "colab": {
          "base_uri": "https://localhost:8080/"
        },
        "id": "wg41feuz9EMM",
        "outputId": "137edf75-895f-4cc1-cb6b-b3cd9e884fe6"
      },
      "outputs": [
        {
          "name": "stderr",
          "output_type": "stream",
          "text": [
            "\n",
            "\n",
            "\n",
            "\n",
            "\u001b[32m✔\u001b[39m The input `path` resolved to exactly 1 file.\n",
            "\n",
            "File downloaded:\n",
            "\n",
            "\u001b[36m•\u001b[39m \u001b[36mfinalData.csv\u001b[39m \u001b[90m<id: 1W1wazYCqs5Iiz6cAwFUjo9f3a3kaBxWU>\u001b[39m\n",
            "\n",
            "Saved locally as:\n",
            "\n",
            "\u001b[36m•\u001b[39m \u001b[34mfinalData.csv\u001b[39m\n",
            "\n"
          ]
        }
      ],
      "source": [
        "x <- drive_get(\"~/statistical_learning/finalData.csv\")\n",
        "drive_download(x)"
      ]
    },
    {
      "cell_type": "code",
      "execution_count": null,
      "metadata": {
        "id": "2pT9M7N98E94"
      },
      "outputs": [],
      "source": [
        "rm(list = ls())"
      ]
    },
    {
      "cell_type": "code",
      "execution_count": null,
      "metadata": {
        "colab": {
          "base_uri": "https://localhost:8080/"
        },
        "id": "QfpVR_ITgn7p",
        "outputId": "31d7f9f0-ffb3-48da-8f2f-deee79e44b37"
      },
      "outputs": [
        {
          "name": "stderr",
          "output_type": "stream",
          "text": [
            "Installing package into ‘/usr/local/lib/R/site-library’\n",
            "(as ‘lib’ is unspecified)\n",
            "\n",
            "Installing package into ‘/usr/local/lib/R/site-library’\n",
            "(as ‘lib’ is unspecified)\n",
            "\n",
            "Installing package into ‘/usr/local/lib/R/site-library’\n",
            "(as ‘lib’ is unspecified)\n",
            "\n",
            "Installing package into ‘/usr/local/lib/R/site-library’\n",
            "(as ‘lib’ is unspecified)\n",
            "\n",
            "Installing package into ‘/usr/local/lib/R/site-library’\n",
            "(as ‘lib’ is unspecified)\n",
            "\n",
            "Installing package into ‘/usr/local/lib/R/site-library’\n",
            "(as ‘lib’ is unspecified)\n",
            "\n",
            "Installing package into ‘/usr/local/lib/R/site-library’\n",
            "(as ‘lib’ is unspecified)\n",
            "\n",
            "Installing package into ‘/usr/local/lib/R/site-library’\n",
            "(as ‘lib’ is unspecified)\n",
            "\n",
            "Installing package into ‘/usr/local/lib/R/site-library’\n",
            "(as ‘lib’ is unspecified)\n",
            "\n",
            "Warning message:\n",
            "“package ‘parallel’ is a base package, and should not be updated”\n",
            "Installing package into ‘/usr/local/lib/R/site-library’\n",
            "(as ‘lib’ is unspecified)\n",
            "\n",
            "Installing package into ‘/usr/local/lib/R/site-library’\n",
            "(as ‘lib’ is unspecified)\n",
            "\n",
            "Installing package into ‘/usr/local/lib/R/site-library’\n",
            "(as ‘lib’ is unspecified)\n",
            "\n",
            "Installing package into ‘/usr/local/lib/R/site-library’\n",
            "(as ‘lib’ is unspecified)\n",
            "\n",
            "Loading required package: foreach\n",
            "\n",
            "Loading required package: iterators\n",
            "\n",
            "\n",
            "Attaching package: ‘rsample’\n",
            "\n",
            "\n",
            "The following object is masked from ‘package:e1071’:\n",
            "\n",
            "    permutations\n",
            "\n",
            "\n",
            "\n",
            "Attaching package: ‘dplyr’\n",
            "\n",
            "\n",
            "The following objects are masked from ‘package:stats’:\n",
            "\n",
            "    filter, lag\n",
            "\n",
            "\n",
            "The following objects are masked from ‘package:base’:\n",
            "\n",
            "    intersect, setdiff, setequal, union\n",
            "\n",
            "\n",
            "Loading required package: ggplot2\n",
            "\n",
            "Loading required package: lattice\n",
            "\n",
            "Warning message in system(\"timedatectl\", intern = TRUE):\n",
            "“running command 'timedatectl' had status 1”\n",
            "\n",
            "Attaching package: ‘caret’\n",
            "\n",
            "\n",
            "The following objects are masked from ‘package:Metrics’:\n",
            "\n",
            "    precision, recall\n",
            "\n",
            "\n"
          ]
        }
      ],
      "source": [
        "install.packages(\"rsample\")\n",
        "install.packages(\"rpart\")\n",
        "install.packages(\"dplyr\")\n",
        "install.packages(\"rpart.plot\")\n",
        "install.packages(\"ipred\")\n",
        "install.packages(\"caret\")\n",
        "install.packages(\"caTools\")\n",
        "install.packages(\"broom\")\n",
        "install.packages(\"parallel\")\n",
        "install.packages(\"doParallel\")\n",
        "install.packages(\"FNN\")\n",
        "install.packages(\"Metrics\")\n",
        "install.packages(\"e1071\")\n",
        "library(e1071)\n",
        "library(parallel)\n",
        "library(FNN)\n",
        "library(doParallel)\n",
        "library(broom)\n",
        "library(Metrics)\n",
        "library(rsample)     # data splitting \n",
        "library(dplyr)       # data wrangling\n",
        "library(rpart)       # performing regression trees\n",
        "library(rpart.plot)  # plotting regression trees\n",
        "library(ipred)       # bagging\n",
        "library(caret)       # bagging\n",
        "library(caTools)"
      ]
    },
    {
      "cell_type": "code",
      "execution_count": null,
      "metadata": {
        "id": "YjXAzMoFE1fg"
      },
      "outputs": [],
      "source": [
        "cluster <- makeCluster(detectCores() - 1) # convention to leave 1 core for OS\n",
        "registerDoParallel(cluster)"
      ]
    },
    {
      "cell_type": "markdown",
      "metadata": {
        "id": "1R3xUN_pL6Q9"
      },
      "source": [
        "# Data Initilization"
      ]
    },
    {
      "cell_type": "code",
      "execution_count": null,
      "metadata": {
        "id": "EezpUwaJmmnO"
      },
      "outputs": [],
      "source": [
        "data1 = read.csv(\"finalData.csv\")"
      ]
    },
    {
      "cell_type": "code",
      "execution_count": null,
      "metadata": {
        "id": "fz2iOSKE5Voj"
      },
      "outputs": [],
      "source": [
        "data2=head(data1,10000)"
      ]
    },
    {
      "cell_type": "code",
      "execution_count": null,
      "metadata": {
        "colab": {
          "base_uri": "https://localhost:8080/",
          "height": 642
        },
        "id": "7HGFBJjskD7K",
        "outputId": "adef93c0-651c-40c2-e733-e76b5d4351f8"
      },
      "outputs": [
        {
          "data": {
            "text/html": [
              "<style>\n",
              ".dl-inline {width: auto; margin:0; padding: 0}\n",
              ".dl-inline>dt, .dl-inline>dd {float: none; width: auto; display: inline-block}\n",
              ".dl-inline>dt::after {content: \":\\0020\"; padding-right: .5ex}\n",
              ".dl-inline>dt:not(:first-of-type) {padding-left: .5ex}\n",
              "</style><dl class=dl-inline><dt>CRASH_DATE</dt><dd>0</dd><dt>CRASH_TIME</dt><dd>0</dd><dt>PERSON_AGE</dt><dd>0</dd><dt>PERSON_SEX</dt><dd>0</dd><dt>KILLED_INJURED</dt><dd>0</dd><dt>WEEKDAY</dt><dd>0</dd><dt>Holiday</dt><dd>0</dd><dt>temp</dt><dd>0</dd><dt>visibility</dt><dd>0</dd><dt>pressure</dt><dd>0</dd><dt>humidity</dt><dd>0</dd><dt>wind_speed</dt><dd>0</dd><dt>weather_main</dt><dd>0</dd><dt>weather_description</dt><dd>0</dd></dl>\n"
            ],
            "text/latex": "\\begin{description*}\n\\item[CRASH\\textbackslash{}\\_DATE] 0\n\\item[CRASH\\textbackslash{}\\_TIME] 0\n\\item[PERSON\\textbackslash{}\\_AGE] 0\n\\item[PERSON\\textbackslash{}\\_SEX] 0\n\\item[KILLED\\textbackslash{}\\_INJURED] 0\n\\item[WEEKDAY] 0\n\\item[Holiday] 0\n\\item[temp] 0\n\\item[visibility] 0\n\\item[pressure] 0\n\\item[humidity] 0\n\\item[wind\\textbackslash{}\\_speed] 0\n\\item[weather\\textbackslash{}\\_main] 0\n\\item[weather\\textbackslash{}\\_description] 0\n\\end{description*}\n",
            "text/markdown": "CRASH_DATE\n:   0CRASH_TIME\n:   0PERSON_AGE\n:   0PERSON_SEX\n:   0KILLED_INJURED\n:   0WEEKDAY\n:   0Holiday\n:   0temp\n:   0visibility\n:   0pressure\n:   0humidity\n:   0wind_speed\n:   0weather_main\n:   0weather_description\n:   0\n\n",
            "text/plain": [
              "         CRASH_DATE          CRASH_TIME          PERSON_AGE          PERSON_SEX \n",
              "                  0                   0                   0                   0 \n",
              "     KILLED_INJURED             WEEKDAY             Holiday                temp \n",
              "                  0                   0                   0                   0 \n",
              "         visibility            pressure            humidity          wind_speed \n",
              "                  0                   0                   0                   0 \n",
              "       weather_main weather_description \n",
              "                  0                   0 "
            ]
          },
          "metadata": {},
          "output_type": "display_data"
        },
        {
          "data": {
            "text/html": [
              "10000"
            ],
            "text/latex": "10000",
            "text/markdown": "10000",
            "text/plain": [
              "[1] 10000"
            ]
          },
          "metadata": {},
          "output_type": "display_data"
        },
        {
          "data": {
            "text/html": [
              "10000"
            ],
            "text/latex": "10000",
            "text/markdown": "10000",
            "text/plain": [
              "[1] 10000"
            ]
          },
          "metadata": {},
          "output_type": "display_data"
        },
        {
          "data": {
            "text/html": [
              "10000"
            ],
            "text/latex": "10000",
            "text/markdown": "10000",
            "text/plain": [
              "[1] 10000"
            ]
          },
          "metadata": {},
          "output_type": "display_data"
        },
        {
          "data": {
            "text/html": [
              "10000"
            ],
            "text/latex": "10000",
            "text/markdown": "10000",
            "text/plain": [
              "[1] 10000"
            ]
          },
          "metadata": {},
          "output_type": "display_data"
        },
        {
          "name": "stdout",
          "output_type": "stream",
          "text": [
            "'data.frame':\t7857 obs. of  14 variables:\n",
            " $ CRASH_DATE         : Date, format: \"2019-10-25\" \"2019-10-25\" ...\n",
            " $ CRASH_TIME         : int  15 15 15 15 15 15 15 15 15 15 ...\n",
            " $ PERSON_AGE         : num  33 82 33 82 42 51 51 17 42 37 ...\n",
            " $ PERSON_SEX         : Factor w/ 2 levels \"F\",\"M\": 1 2 2 2 2 2 2 2 2 2 ...\n",
            " $ KILLED_INJURED     : Factor w/ 8 levels \"0\",\"1\",\"2\",\"3\",..: 1 1 1 1 1 1 1 1 1 1 ...\n",
            " $ WEEKDAY            : Factor w/ 7 levels \"Friday\",\"Monday\",..: 1 1 1 1 1 1 1 1 1 1 ...\n",
            " $ Holiday            : chr  \"False\" \"False\" \"False\" \"False\" ...\n",
            " $ temp               : num  14.5 14.5 14.5 14.5 14.5 ...\n",
            " $ visibility         : num  10000 10000 10000 10000 10000 10000 10000 10000 10000 10000 ...\n",
            " $ pressure           : int  1027 1027 1027 1027 1027 1027 1027 1027 1027 1027 ...\n",
            " $ humidity           : int  63 63 63 63 63 63 63 63 63 63 ...\n",
            " $ wind_speed         : num  2.1 2.1 2.1 2.1 2.1 2.1 2.1 2.1 2.1 2.1 ...\n",
            " $ weather_main       : Factor w/ 6 levels \"Clear\",\"Clouds\",..: 1 1 1 1 1 1 1 1 1 1 ...\n",
            " $ weather_description: Factor w/ 11 levels \"broken clouds\",..: 11 11 11 11 11 11 11 11 11 11 ...\n",
            "'data.frame':\t2143 obs. of  14 variables:\n",
            " $ CRASH_DATE         : Date, format: \"2019-10-25\" \"2019-10-25\" ...\n",
            " $ CRASH_TIME         : int  15 15 15 15 15 15 15 15 15 15 ...\n",
            " $ PERSON_AGE         : num  33 42 42 56 30 65 25 43 38 49 ...\n",
            " $ PERSON_SEX         : Factor w/ 2 levels \"F\",\"M\": 2 2 2 2 2 2 1 1 2 1 ...\n",
            " $ KILLED_INJURED     : Factor w/ 8 levels \"0\",\"1\",\"2\",\"3\",..: 1 1 1 1 1 1 2 1 1 1 ...\n",
            " $ WEEKDAY            : Factor w/ 7 levels \"Friday\",\"Monday\",..: 1 1 1 1 1 1 1 1 1 1 ...\n",
            " $ Holiday            : chr  \"False\" \"False\" \"False\" \"False\" ...\n",
            " $ temp               : num  14.5 14.5 14.5 14.5 14.5 ...\n",
            " $ visibility         : num  10000 10000 10000 10000 10000 10000 10000 10000 10000 10000 ...\n",
            " $ pressure           : int  1027 1027 1027 1027 1027 1027 1027 1027 1027 1027 ...\n",
            " $ humidity           : int  63 63 63 63 63 63 63 63 63 63 ...\n",
            " $ wind_speed         : num  2.1 2.1 2.1 2.1 2.1 2.1 2.1 2.1 2.1 2.1 ...\n",
            " $ weather_main       : Factor w/ 6 levels \"Clear\",\"Clouds\",..: 1 1 1 1 1 1 1 1 1 1 ...\n",
            " $ weather_description: Factor w/ 11 levels \"broken clouds\",..: 11 11 11 11 11 11 11 11 11 11 ...\n"
          ]
        }
      ],
      "source": [
        "## Data pre-processing\n",
        "data2 = subset(data2, select = -c(CONTRIBUTING.FACTOR.VEHICLE.1,LATITUDE,LONGITUDE,wind_deg,temp_min,temp_max,dew_point,CONTRIBUTING.FACTOR.VEHICLE.2,COLLISION_ID,X,VEHICLE.TYPE.CODE.1,VEHICLE.TYPE.CODE.2,ON.STREET.NAME,CROSS.STREET.NAME,OFF.STREET.NAME, VEHICLE_ID,weather_id,clouds_all,rain_1h,wind_gust,weather_icon,rain_3h,snow_3h,sea_level,grnd_level,snow_1h) )\n",
        "names(data2)[names(data2) == \"KILLED.INJURED\"] <- \"KILLED_INJURED\"\n",
        "colSums(is.na(data2))\n",
        "data2$CRASH_DATE=as.Date(data2$CRASH_DATE, format = \"%Y-%m-%d\")\n",
        "nrow(data2)\n",
        "data2=data2[!is.na(data2$visibility),]\n",
        "nrow(data2)\n",
        "data2=data2[!is.na(data2$KILLED_INJURED),]\n",
        "data2$KILLED_INJURED <- as.factor(data2$KILLED_INJURED)\n",
        "nrow(data2)\n",
        "nrow(data2)\n",
        "data2$weather_main <- as.factor(data2$weather_main)\n",
        "data2$weather_description <- as.factor(data2$weather_description)\n",
        "data2$PERSON_SEX <- as.factor(data2$PERSON_SEX)\n",
        "data2$WEEKDAY <- as.factor(data2$WEEKDAY)\n",
        "set.seed(1)\n",
        "sample = sample.split(data2, SplitRatio = 0.80)\n",
        "training = subset(data2, sample == TRUE)\n",
        "test = subset(data2, sample == FALSE)\n",
        "rm(sample)\n",
        "str(training)\n",
        "str(test)"
      ]
    },
    {
      "cell_type": "markdown",
      "metadata": {
        "id": "mCf5qx_nYmRs"
      },
      "source": [
        "## KNN Classification\n"
      ]
    },
    {
      "cell_type": "code",
      "execution_count": null,
      "metadata": {
        "colab": {
          "base_uri": "https://localhost:8080/",
          "height": 365
        },
        "id": "Zh29w2HUYxbi",
        "outputId": "db725e6b-7ce5-4bd9-ba67-71423323af17"
      },
      "outputs": [
        {
          "data": {
            "text/plain": [
              "k-Nearest Neighbors \n",
              "\n",
              "7857 samples\n",
              "  13 predictor\n",
              "   8 classes: '0', '1', '2', '3', '4', '5', '6', '8' \n",
              "\n",
              "No pre-processing\n",
              "Resampling: Bootstrapped (25 reps) \n",
              "Summary of sample sizes: 7857, 7857, 7857, 7857, 7857, 7857, ... \n",
              "Resampling results across tuning parameters:\n",
              "\n",
              "  k   Accuracy   Kappa     \n",
              "   5  0.6923705  0.15488351\n",
              "   7  0.7020292  0.13529840\n",
              "   9  0.7126614  0.12110338\n",
              "  11  0.7191464  0.10612997\n",
              "  13  0.7243807  0.08815363\n",
              "\n",
              "Accuracy was used to select the optimal model using the largest value.\n",
              "The final value used for the model was k = 13."
            ]
          },
          "metadata": {},
          "output_type": "display_data"
        }
      ],
      "source": [
        "set.seed(1)\n",
        "glm.fit1 <- train(KILLED_INJURED~., data = training,method = \"knn\",tuneLength = 5)\n",
        "glm.fit1"
      ]
    },
    {
      "cell_type": "code",
      "execution_count": null,
      "metadata": {
        "colab": {
          "base_uri": "https://localhost:8080/",
          "height": 781
        },
        "id": "_SCqAz4Xh28Y",
        "outputId": "b914050d-fcce-4139-8b48-c560335f4c97"
      },
      "outputs": [
        {
          "data": {
            "text/plain": [
              "Confusion Matrix and Statistics\n",
              "\n",
              "    predic\n",
              "true    0    1    2    3    4    5    6    8\n",
              "   0 1574   19    0    0    0    0    0    0\n",
              "   1  360    8    0    0    0    0    0    0\n",
              "   2  110    3    0    0    0    0    0    0\n",
              "   3   28    0    0    3    0    0    0    0\n",
              "   4   26    0    0    1    0    0    0    0\n",
              "   5    8    0    0    0    0    0    0    0\n",
              "   6    2    0    0    0    0    0    0    0\n",
              "   8    1    0    0    0    0    0    0    0\n",
              "\n",
              "Overall Statistics\n",
              "                                          \n",
              "               Accuracy : 0.7396          \n",
              "                 95% CI : (0.7205, 0.7581)\n",
              "    No Information Rate : 0.9841          \n",
              "    P-Value [Acc > NIR] : 1               \n",
              "                                          \n",
              "                  Kappa : 0.0212          \n",
              "                                          \n",
              " Mcnemar's Test P-Value : NA              \n",
              "\n",
              "Statistics by Class:\n",
              "\n",
              "                     Class: 0 Class: 1 Class: 2 Class: 3 Class: 4 Class: 5\n",
              "Sensitivity           0.74633 0.266667       NA 0.750000       NA       NA\n",
              "Specificity           0.44118 0.829626  0.94727 0.986910   0.9874 0.996267\n",
              "Pos Pred Value        0.98807 0.021739       NA 0.096774       NA       NA\n",
              "Neg Pred Value        0.02727 0.987606       NA 0.999527       NA       NA\n",
              "Prevalence            0.98413 0.013999  0.00000 0.001867   0.0000 0.000000\n",
              "Detection Rate        0.73448 0.003733  0.00000 0.001400   0.0000 0.000000\n",
              "Detection Prevalence  0.74335 0.171722  0.05273 0.014466   0.0126 0.003733\n",
              "Balanced Accuracy     0.59375 0.548146       NA 0.868455       NA       NA\n",
              "                      Class: 6  Class: 8\n",
              "Sensitivity                 NA        NA\n",
              "Specificity          0.9990667 0.9995334\n",
              "Pos Pred Value              NA        NA\n",
              "Neg Pred Value              NA        NA\n",
              "Prevalence           0.0000000 0.0000000\n",
              "Detection Rate       0.0000000 0.0000000\n",
              "Detection Prevalence 0.0009333 0.0004666\n",
              "Balanced Accuracy           NA        NA"
            ]
          },
          "metadata": {},
          "output_type": "display_data"
        }
      ],
      "source": [
        "pred=predict(glm.fit1,test)\n",
        "cm=table(true=test$KILLED_INJURED,predic=pred)\n",
        "confusionMatrix(cm)"
      ]
    },
    {
      "cell_type": "markdown",
      "metadata": {
        "id": "EL_g17ZjKB-i"
      },
      "source": [
        "#  Different Size"
      ]
    },
    {
      "cell_type": "code",
      "execution_count": null,
      "metadata": {
        "colab": {
          "background_save": true,
          "base_uri": "https://localhost:8080/",
          "height": 642
        },
        "id": "W1gtPOwjKER9",
        "outputId": "54c440a0-e18b-4e89-bdcf-c67b73b466a1"
      },
      "outputs": [
        {
          "data": {
            "text/html": [
              "<style>\n",
              ".dl-inline {width: auto; margin:0; padding: 0}\n",
              ".dl-inline>dt, .dl-inline>dd {float: none; width: auto; display: inline-block}\n",
              ".dl-inline>dt::after {content: \":\\0020\"; padding-right: .5ex}\n",
              ".dl-inline>dt:not(:first-of-type) {padding-left: .5ex}\n",
              "</style><dl class=dl-inline><dt>CRASH_DATE</dt><dd>0</dd><dt>CRASH_TIME</dt><dd>0</dd><dt>PERSON_AGE</dt><dd>0</dd><dt>PERSON_SEX</dt><dd>0</dd><dt>KILLED_INJURED</dt><dd>0</dd><dt>WEEKDAY</dt><dd>0</dd><dt>Holiday</dt><dd>0</dd><dt>temp</dt><dd>0</dd><dt>visibility</dt><dd>83</dd><dt>pressure</dt><dd>0</dd><dt>humidity</dt><dd>0</dd><dt>wind_speed</dt><dd>0</dd><dt>weather_main</dt><dd>0</dd><dt>weather_description</dt><dd>0</dd></dl>\n"
            ],
            "text/latex": "\\begin{description*}\n\\item[CRASH\\textbackslash{}\\_DATE] 0\n\\item[CRASH\\textbackslash{}\\_TIME] 0\n\\item[PERSON\\textbackslash{}\\_AGE] 0\n\\item[PERSON\\textbackslash{}\\_SEX] 0\n\\item[KILLED\\textbackslash{}\\_INJURED] 0\n\\item[WEEKDAY] 0\n\\item[Holiday] 0\n\\item[temp] 0\n\\item[visibility] 83\n\\item[pressure] 0\n\\item[humidity] 0\n\\item[wind\\textbackslash{}\\_speed] 0\n\\item[weather\\textbackslash{}\\_main] 0\n\\item[weather\\textbackslash{}\\_description] 0\n\\end{description*}\n",
            "text/markdown": "CRASH_DATE\n:   0CRASH_TIME\n:   0PERSON_AGE\n:   0PERSON_SEX\n:   0KILLED_INJURED\n:   0WEEKDAY\n:   0Holiday\n:   0temp\n:   0visibility\n:   83pressure\n:   0humidity\n:   0wind_speed\n:   0weather_main\n:   0weather_description\n:   0\n\n",
            "text/plain": [
              "         CRASH_DATE          CRASH_TIME          PERSON_AGE          PERSON_SEX \n",
              "                  0                   0                   0                   0 \n",
              "     KILLED_INJURED             WEEKDAY             Holiday                temp \n",
              "                  0                   0                   0                   0 \n",
              "         visibility            pressure            humidity          wind_speed \n",
              "                 83                   0                   0                   0 \n",
              "       weather_main weather_description \n",
              "                  0                   0 "
            ]
          },
          "metadata": {},
          "output_type": "display_data"
        },
        {
          "data": {
            "text/html": [
              "50000"
            ],
            "text/latex": "50000",
            "text/markdown": "50000",
            "text/plain": [
              "[1] 50000"
            ]
          },
          "metadata": {},
          "output_type": "display_data"
        },
        {
          "data": {
            "text/html": [
              "49917"
            ],
            "text/latex": "49917",
            "text/markdown": "49917",
            "text/plain": [
              "[1] 49917"
            ]
          },
          "metadata": {},
          "output_type": "display_data"
        },
        {
          "data": {
            "text/html": [
              "49917"
            ],
            "text/latex": "49917",
            "text/markdown": "49917",
            "text/plain": [
              "[1] 49917"
            ]
          },
          "metadata": {},
          "output_type": "display_data"
        },
        {
          "data": {
            "text/html": [
              "49917"
            ],
            "text/latex": "49917",
            "text/markdown": "49917",
            "text/plain": [
              "[1] 49917"
            ]
          },
          "metadata": {},
          "output_type": "display_data"
        },
        {
          "name": "stdout",
          "output_type": "stream",
          "text": [
            "'data.frame':\t39219 obs. of  14 variables:\n",
            " $ CRASH_DATE         : Date, format: \"2019-10-25\" \"2019-10-25\" ...\n",
            " $ CRASH_TIME         : int  15 15 15 15 15 15 15 15 15 15 ...\n",
            " $ PERSON_AGE         : num  33 82 33 82 42 51 51 17 42 37 ...\n",
            " $ PERSON_SEX         : Factor w/ 2 levels \"F\",\"M\": 1 2 2 2 2 2 2 2 2 2 ...\n",
            " $ KILLED_INJURED     : Factor w/ 12 levels \"0\",\"1\",\"2\",\"3\",..: 1 1 1 1 1 1 1 1 1 1 ...\n",
            " $ WEEKDAY            : Factor w/ 7 levels \"Friday\",\"Monday\",..: 1 1 1 1 1 1 1 1 1 1 ...\n",
            " $ Holiday            : chr  \"False\" \"False\" \"False\" \"False\" ...\n",
            " $ temp               : num  14.5 14.5 14.5 14.5 14.5 ...\n",
            " $ visibility         : num  10000 10000 10000 10000 10000 10000 10000 10000 10000 10000 ...\n",
            " $ pressure           : int  1027 1027 1027 1027 1027 1027 1027 1027 1027 1027 ...\n",
            " $ humidity           : int  63 63 63 63 63 63 63 63 63 63 ...\n",
            " $ wind_speed         : num  2.1 2.1 2.1 2.1 2.1 2.1 2.1 2.1 2.1 2.1 ...\n",
            " $ weather_main       : Factor w/ 8 levels \"Clear\",\"Clouds\",..: 1 1 1 1 1 1 1 1 1 1 ...\n",
            " $ weather_description: Factor w/ 14 levels \"broken clouds\",..: 13 13 13 13 13 13 13 13 13 13 ...\n",
            "'data.frame':\t10698 obs. of  14 variables:\n",
            " $ CRASH_DATE         : Date, format: \"2019-10-25\" \"2019-10-25\" ...\n",
            " $ CRASH_TIME         : int  15 15 15 15 15 15 15 15 15 15 ...\n",
            " $ PERSON_AGE         : num  33 42 42 56 30 65 25 43 38 49 ...\n",
            " $ PERSON_SEX         : Factor w/ 2 levels \"F\",\"M\": 2 2 2 2 2 2 1 1 2 1 ...\n",
            " $ KILLED_INJURED     : Factor w/ 12 levels \"0\",\"1\",\"2\",\"3\",..: 1 1 1 1 1 1 2 1 1 1 ...\n",
            " $ WEEKDAY            : Factor w/ 7 levels \"Friday\",\"Monday\",..: 1 1 1 1 1 1 1 1 1 1 ...\n",
            " $ Holiday            : chr  \"False\" \"False\" \"False\" \"False\" ...\n",
            " $ temp               : num  14.5 14.5 14.5 14.5 14.5 ...\n",
            " $ visibility         : num  10000 10000 10000 10000 10000 10000 10000 10000 10000 10000 ...\n",
            " $ pressure           : int  1027 1027 1027 1027 1027 1027 1027 1027 1027 1027 ...\n",
            " $ humidity           : int  63 63 63 63 63 63 63 63 63 63 ...\n",
            " $ wind_speed         : num  2.1 2.1 2.1 2.1 2.1 2.1 2.1 2.1 2.1 2.1 ...\n",
            " $ weather_main       : Factor w/ 8 levels \"Clear\",\"Clouds\",..: 1 1 1 1 1 1 1 1 1 1 ...\n",
            " $ weather_description: Factor w/ 14 levels \"broken clouds\",..: 13 13 13 13 13 13 13 13 13 13 ...\n"
          ]
        },
        {
          "data": {
            "text/plain": [
              "k-Nearest Neighbors \n",
              "\n",
              "39219 samples\n",
              "   13 predictor\n",
              "   12 classes: '0', '1', '2', '3', '4', '5', '6', '7', '8', '10', '12', '18' \n",
              "\n",
              "No pre-processing\n",
              "Resampling: Bootstrapped (25 reps) \n",
              "Summary of sample sizes: 39219, 39219, 39219, 39219, 39219, 39219, ... \n",
              "Resampling results across tuning parameters:\n",
              "\n",
              "  k  Accuracy   Kappa    \n",
              "  5  0.7047636  0.1514548\n",
              "  7  0.7155934  0.1312151\n",
              "  9  0.7247987  0.1167162\n",
              "\n",
              "Accuracy was used to select the optimal model using the largest value.\n",
              "The final value used for the model was k = 9."
            ]
          },
          "metadata": {},
          "output_type": "display_data"
        },
        {
          "data": {
            "text/plain": [
              "Confusion Matrix and Statistics\n",
              "\n",
              "    predic\n",
              "true    0    1    2    3    4    5    6    7    8   10   12   18\n",
              "  0  7790  298   27   18    7    2    5    0    0    1    1    1\n",
              "  1  1484  216   12    7    1    2    1    0    0    0    0    0\n",
              "  2   448   28   19    4    0    0    0    0    0    0    0    0\n",
              "  3   142   16    1    6    0    0    0    0    0    0    0    0\n",
              "  4    72    3    0    0    9    0    0    0    0    0    0    0\n",
              "  5    34    3    0    0    0    6    0    0    0    0    0    0\n",
              "  6     9    4    0    0    0    0    0    0    0    0    0    0\n",
              "  7     5    1    0    0    0    0    0    0    0    0    0    0\n",
              "  8     4    0    1    0    0    0    0    0    0    0    0    0\n",
              "  10    3    0    0    0    0    0    0    0    0    0    0    0\n",
              "  12    0    0    0    0    0    0    0    0    0    0    3    0\n",
              "  18    1    0    0    0    0    0    0    0    0    0    0    3\n",
              "\n",
              "Overall Statistics\n",
              "                                          \n",
              "               Accuracy : 0.7527          \n",
              "                 95% CI : (0.7444, 0.7608)\n",
              "    No Information Rate : 0.934           \n",
              "    P-Value [Acc > NIR] : 1               \n",
              "                                          \n",
              "                  Kappa : 0.1153          \n",
              "                                          \n",
              " Mcnemar's Test P-Value : NA              \n",
              "\n",
              "Statistics by Class:\n",
              "\n",
              "                     Class: 0 Class: 1 Class: 2  Class: 3  Class: 4  Class: 5\n",
              "Sensitivity            0.7796  0.37961 0.316667 0.1714286 0.5294118 0.6000000\n",
              "Specificity            0.4901  0.85122 0.954879 0.9850886 0.9929782 0.9965382\n",
              "Pos Pred Value         0.9558  0.12536 0.038076 0.0363636 0.1071429 0.1395349\n",
              "Neg Pred Value         0.1358  0.96067 0.995980 0.9972467 0.9992463 0.9996246\n",
              "Prevalence             0.9340  0.05319 0.005609 0.0032716 0.0015891 0.0009348\n",
              "Detection Rate         0.7282  0.02019 0.001776 0.0005609 0.0008413 0.0005609\n",
              "Detection Prevalence   0.7618  0.16106 0.046644 0.0154234 0.0078519 0.0040194\n",
              "Balanced Accuracy      0.6349  0.61542 0.635773 0.5782586 0.7611950 0.7982691\n",
              "                      Class: 6  Class: 7  Class: 8 Class: 10 Class: 12\n",
              "Sensitivity          0.0000000        NA        NA 0.000e+00 0.7500000\n",
              "Specificity          0.9987841 0.9994391 0.9995326 9.997e-01 1.0000000\n",
              "Pos Pred Value       0.0000000        NA        NA 0.000e+00 1.0000000\n",
              "Neg Pred Value       0.9994385        NA        NA 9.999e-01 0.9999065\n",
              "Prevalence           0.0005609 0.0000000 0.0000000 9.348e-05 0.0003739\n",
              "Detection Rate       0.0000000 0.0000000 0.0000000 0.000e+00 0.0002804\n",
              "Detection Prevalence 0.0012152 0.0005609 0.0004674 2.804e-04 0.0002804\n",
              "Balanced Accuracy    0.4993921        NA        NA 4.999e-01 0.8750000\n",
              "                     Class: 18\n",
              "Sensitivity          0.7500000\n",
              "Specificity          0.9999065\n",
              "Pos Pred Value       0.7500000\n",
              "Neg Pred Value       0.9999065\n",
              "Prevalence           0.0003739\n",
              "Detection Rate       0.0002804\n",
              "Detection Prevalence 0.0003739\n",
              "Balanced Accuracy    0.8749532"
            ]
          },
          "metadata": {},
          "output_type": "display_data"
        }
      ],
      "source": [
        "## Data pre-processing\n",
        "data2=head(data1,50000)\n",
        "data2 = subset(data2, select = -c(CONTRIBUTING.FACTOR.VEHICLE.1,LATITUDE,LONGITUDE,wind_deg,temp_min,temp_max,dew_point,CONTRIBUTING.FACTOR.VEHICLE.2,COLLISION_ID,X,VEHICLE.TYPE.CODE.1,VEHICLE.TYPE.CODE.2,ON.STREET.NAME,CROSS.STREET.NAME,OFF.STREET.NAME, VEHICLE_ID,weather_id,clouds_all,rain_1h,wind_gust,weather_icon,rain_3h,snow_3h,sea_level,grnd_level,snow_1h) )\n",
        "names(data2)[names(data2) == \"KILLED.INJURED\"] <- \"KILLED_INJURED\"\n",
        "colSums(is.na(data2))\n",
        "data2$CRASH_DATE=as.Date(data2$CRASH_DATE, format = \"%Y-%m-%d\")\n",
        "nrow(data2)\n",
        "data2=data2[!is.na(data2$visibility),]\n",
        "nrow(data2)\n",
        "data2=data2[!is.na(data2$KILLED_INJURED),]\n",
        "data2$KILLED_INJURED <- as.factor(data2$KILLED_INJURED)\n",
        "nrow(data2)\n",
        "nrow(data2)\n",
        "data2$weather_main <- as.factor(data2$weather_main)\n",
        "data2$weather_description <- as.factor(data2$weather_description)\n",
        "data2$PERSON_SEX <- as.factor(data2$PERSON_SEX)\n",
        "data2$WEEKDAY <- as.factor(data2$WEEKDAY)\n",
        "data2=data2[!is.na(data2$visibility),]\n",
        "set.seed(1)\n",
        "sample = sample.split(data2, SplitRatio = 0.80)\n",
        "training = subset(data2, sample == TRUE)\n",
        "test = subset(data2, sample == FALSE)\n",
        "rm(sample)\n",
        "str(training)\n",
        "str(test)\n",
        "set.seed(1)\n",
        "glm.fit1 <- train(KILLED_INJURED~., data = training, method = \"knn\")\n",
        "glm.fit1\n",
        "pred=predict(glm.fit1,test)\n",
        "cm=table(true=test$KILLED_INJURED,predic=pred)\n",
        "confusionMatrix(cm)"
      ]
    },
    {
      "cell_type": "code",
      "execution_count": null,
      "metadata": {
        "colab": {
          "base_uri": "https://localhost:8080/",
          "height": 1000
        },
        "id": "4g-JnfufjePG",
        "outputId": "4db7866a-33d2-493a-c237-f86c8cad2fc7"
      },
      "outputs": [
        {
          "data": {
            "text/html": [
              "<style>\n",
              ".dl-inline {width: auto; margin:0; padding: 0}\n",
              ".dl-inline>dt, .dl-inline>dd {float: none; width: auto; display: inline-block}\n",
              ".dl-inline>dt::after {content: \":\\0020\"; padding-right: .5ex}\n",
              ".dl-inline>dt:not(:first-of-type) {padding-left: .5ex}\n",
              "</style><dl class=dl-inline><dt>CRASH_DATE</dt><dd>0</dd><dt>CRASH_TIME</dt><dd>0</dd><dt>PERSON_AGE</dt><dd>0</dd><dt>PERSON_SEX</dt><dd>0</dd><dt>KILLED_INJURED</dt><dd>0</dd><dt>WEEKDAY</dt><dd>0</dd><dt>Holiday</dt><dd>0</dd><dt>temp</dt><dd>0</dd><dt>visibility</dt><dd>83</dd><dt>pressure</dt><dd>0</dd><dt>humidity</dt><dd>0</dd><dt>wind_speed</dt><dd>0</dd><dt>weather_main</dt><dd>0</dd><dt>weather_description</dt><dd>0</dd></dl>\n"
            ],
            "text/latex": "\\begin{description*}\n\\item[CRASH\\textbackslash{}\\_DATE] 0\n\\item[CRASH\\textbackslash{}\\_TIME] 0\n\\item[PERSON\\textbackslash{}\\_AGE] 0\n\\item[PERSON\\textbackslash{}\\_SEX] 0\n\\item[KILLED\\textbackslash{}\\_INJURED] 0\n\\item[WEEKDAY] 0\n\\item[Holiday] 0\n\\item[temp] 0\n\\item[visibility] 83\n\\item[pressure] 0\n\\item[humidity] 0\n\\item[wind\\textbackslash{}\\_speed] 0\n\\item[weather\\textbackslash{}\\_main] 0\n\\item[weather\\textbackslash{}\\_description] 0\n\\end{description*}\n",
            "text/markdown": "CRASH_DATE\n:   0CRASH_TIME\n:   0PERSON_AGE\n:   0PERSON_SEX\n:   0KILLED_INJURED\n:   0WEEKDAY\n:   0Holiday\n:   0temp\n:   0visibility\n:   83pressure\n:   0humidity\n:   0wind_speed\n:   0weather_main\n:   0weather_description\n:   0\n\n",
            "text/plain": [
              "         CRASH_DATE          CRASH_TIME          PERSON_AGE          PERSON_SEX \n",
              "                  0                   0                   0                   0 \n",
              "     KILLED_INJURED             WEEKDAY             Holiday                temp \n",
              "                  0                   0                   0                   0 \n",
              "         visibility            pressure            humidity          wind_speed \n",
              "                 83                   0                   0                   0 \n",
              "       weather_main weather_description \n",
              "                  0                   0 "
            ]
          },
          "metadata": {},
          "output_type": "display_data"
        },
        {
          "data": {
            "text/html": [
              "50000"
            ],
            "text/latex": "50000",
            "text/markdown": "50000",
            "text/plain": [
              "[1] 50000"
            ]
          },
          "metadata": {},
          "output_type": "display_data"
        },
        {
          "data": {
            "text/html": [
              "49917"
            ],
            "text/latex": "49917",
            "text/markdown": "49917",
            "text/plain": [
              "[1] 49917"
            ]
          },
          "metadata": {},
          "output_type": "display_data"
        },
        {
          "data": {
            "text/html": [
              "49917"
            ],
            "text/latex": "49917",
            "text/markdown": "49917",
            "text/plain": [
              "[1] 49917"
            ]
          },
          "metadata": {},
          "output_type": "display_data"
        },
        {
          "data": {
            "text/html": [
              "49917"
            ],
            "text/latex": "49917",
            "text/markdown": "49917",
            "text/plain": [
              "[1] 49917"
            ]
          },
          "metadata": {},
          "output_type": "display_data"
        },
        {
          "data": {
            "text/html": [
              "20057"
            ],
            "text/latex": "20057",
            "text/markdown": "20057",
            "text/plain": [
              "[1] 20057"
            ]
          },
          "metadata": {},
          "output_type": "display_data"
        },
        {
          "name": "stdout",
          "output_type": "stream",
          "text": [
            "'data.frame':\t15758 obs. of  14 variables:\n",
            " $ CRASH_DATE         : Date, format: \"2019-10-25\" \"2019-10-25\" ...\n",
            " $ CRASH_TIME         : int  15 15 15 15 15 15 15 15 15 15 ...\n",
            " $ PERSON_AGE         : num  82 33 56 31 35 27 38 35 39 35 ...\n",
            " $ PERSON_SEX         : Factor w/ 2 levels \"F\",\"M\": 2 2 2 1 1 2 2 2 2 2 ...\n",
            " $ KILLED_INJURED     : Factor w/ 12 levels \"0\",\"1\",\"2\",\"3\",..: 1 1 1 1 4 4 4 4 4 4 ...\n",
            " $ WEEKDAY            : Factor w/ 7 levels \"Friday\",\"Monday\",..: 1 1 1 1 1 1 1 1 1 1 ...\n",
            " $ Holiday            : chr  \"False\" \"False\" \"False\" \"False\" ...\n",
            " $ temp               : num  14.5 14.5 14.5 14.5 14.5 ...\n",
            " $ visibility         : num  10000 10000 10000 10000 10000 10000 10000 10000 10000 10000 ...\n",
            " $ pressure           : int  1027 1027 1027 1027 1027 1027 1027 1027 1027 1027 ...\n",
            " $ humidity           : int  63 63 63 63 63 63 63 63 63 63 ...\n",
            " $ wind_speed         : num  2.1 2.1 2.1 2.1 2.1 2.1 2.1 2.1 2.1 2.1 ...\n",
            " $ weather_main       : Factor w/ 8 levels \"Clear\",\"Clouds\",..: 1 1 1 1 1 1 1 1 1 1 ...\n",
            " $ weather_description: Factor w/ 14 levels \"broken clouds\",..: 13 13 13 13 13 13 13 13 13 13 ...\n",
            "'data.frame':\t4299 obs. of  14 variables:\n",
            " $ CRASH_DATE         : Date, format: \"2019-10-25\" \"2019-10-25\" ...\n",
            " $ CRASH_TIME         : int  15 15 15 15 15 15 15 15 15 15 ...\n",
            " $ PERSON_AGE         : num  31 65 39 65 58 62 42 77 77 59 ...\n",
            " $ PERSON_SEX         : Factor w/ 2 levels \"F\",\"M\": 1 2 2 2 2 2 2 2 2 1 ...\n",
            " $ KILLED_INJURED     : Factor w/ 12 levels \"0\",\"1\",\"2\",\"3\",..: 1 1 4 1 1 1 7 3 3 2 ...\n",
            " $ WEEKDAY            : Factor w/ 7 levels \"Friday\",\"Monday\",..: 1 1 1 1 1 1 1 1 1 1 ...\n",
            " $ Holiday            : chr  \"False\" \"False\" \"False\" \"False\" ...\n",
            " $ temp               : num  14.5 14.5 14.5 14.5 14.5 ...\n",
            " $ visibility         : num  10000 10000 10000 10000 10000 10000 10000 10000 10000 10000 ...\n",
            " $ pressure           : int  1027 1027 1027 1027 1027 1027 1027 1027 1027 1027 ...\n",
            " $ humidity           : int  63 63 63 63 63 63 63 63 63 63 ...\n",
            " $ wind_speed         : num  2.1 2.1 2.1 2.1 2.1 2.1 2.1 2.1 2.1 2.1 ...\n",
            " $ weather_main       : Factor w/ 8 levels \"Clear\",\"Clouds\",..: 1 1 1 1 1 1 1 1 1 1 ...\n",
            " $ weather_description: Factor w/ 14 levels \"broken clouds\",..: 13 13 13 13 13 13 13 13 13 13 ...\n"
          ]
        },
        {
          "data": {
            "text/plain": [
              "k-Nearest Neighbors \n",
              "\n",
              "15758 samples\n",
              "   13 predictor\n",
              "   12 classes: '0', '1', '2', '3', '4', '5', '6', '7', '8', '10', '12', '18' \n",
              "\n",
              "No pre-processing\n",
              "Resampling: Bootstrapped (25 reps) \n",
              "Summary of sample sizes: 15758, 15758, 15758, 15758, 15758, 15758, ... \n",
              "Resampling results across tuning parameters:\n",
              "\n",
              "  k  Accuracy   Kappa    \n",
              "  5  0.4652561  0.1816547\n",
              "  7  0.4616543  0.1686608\n",
              "\n",
              "Accuracy was used to select the optimal model using the largest value.\n",
              "The final value used for the model was k = 5."
            ]
          },
          "metadata": {},
          "output_type": "display_data"
        },
        {
          "data": {
            "text/plain": [
              "Confusion Matrix and Statistics\n",
              "\n",
              "    predic\n",
              "true   0   1   2   3   4   5   6   7   8  10  12  18\n",
              "  0  837 671 141  44  24   7   5   0   5   0   0   0\n",
              "  1  539 978 124  41  12   4   1   5   0   2   0   1\n",
              "  2  176 186 144  13   2   0   0   0   0   1   0   0\n",
              "  3   66  54  18  32   2   1   0   0   0   0   0   0\n",
              "  4   26  31   3   4  19   0   0   0   0   0   0   0\n",
              "  5    5  13   1   4   0  13   0   0   0   0   0   0\n",
              "  6    7   5   2   0   0   0   7   0   0   0   0   0\n",
              "  7    1   2   0   0   0   0   0   3   0   0   0   0\n",
              "  8    1   0   0   0   0   0   0   0   4   0   0   0\n",
              "  10   0   3   0   0   0   0   0   0   0   0   0   0\n",
              "  12   0   0   0   0   0   0   0   0   0   0   3   0\n",
              "  18   2   0   1   0   0   0   0   0   0   0   0   3\n",
              "\n",
              "Overall Statistics\n",
              "                                          \n",
              "               Accuracy : 0.4752          \n",
              "                 95% CI : (0.4602, 0.4903)\n",
              "    No Information Rate : 0.452           \n",
              "    P-Value [Acc > NIR] : 0.001161        \n",
              "                                          \n",
              "                  Kappa : 0.1938          \n",
              "                                          \n",
              " Mcnemar's Test P-Value : NA              \n",
              "\n",
              "Statistics by Class:\n",
              "\n",
              "                     Class: 0 Class: 1 Class: 2 Class: 3 Class: 4 Class: 5\n",
              "Sensitivity            0.5042   0.5033   0.3318 0.231884  0.32203 0.520000\n",
              "Specificity            0.6601   0.6906   0.9022 0.966114  0.98491 0.994619\n",
              "Pos Pred Value         0.4827   0.5729   0.2759 0.184971  0.22892 0.361111\n",
              "Neg Pred Value         0.6791   0.6277   0.9232 0.974309  0.99051 0.997185\n",
              "Prevalence             0.3861   0.4520   0.1010 0.032100  0.01372 0.005815\n",
              "Detection Rate         0.1947   0.2275   0.0335 0.007444  0.00442 0.003024\n",
              "Detection Prevalence   0.4033   0.3971   0.1214 0.040242  0.01931 0.008374\n",
              "Balanced Accuracy      0.5822   0.5970   0.6170 0.598999  0.65347 0.757309\n",
              "                     Class: 6  Class: 7  Class: 8 Class: 10 Class: 12 Class: 18\n",
              "Sensitivity          0.538462 0.3750000 0.4444444 0.0000000 1.0000000 0.7500000\n",
              "Specificity          0.996734 0.9993009 0.9997669 0.9993017 1.0000000 0.9993015\n",
              "Pos Pred Value       0.333333 0.5000000 0.8000000 0.0000000 1.0000000 0.5000000\n",
              "Neg Pred Value       0.998597 0.9988353 0.9988356 0.9993017 1.0000000 0.9997671\n",
              "Prevalence           0.003024 0.0018609 0.0020935 0.0006978 0.0006978 0.0009304\n",
              "Detection Rate       0.001628 0.0006978 0.0009304 0.0000000 0.0006978 0.0006978\n",
              "Detection Prevalence 0.004885 0.0013957 0.0011631 0.0006978 0.0006978 0.0013957\n",
              "Balanced Accuracy    0.767598 0.6871504 0.7221057 0.4996508 1.0000000 0.8746508"
            ]
          },
          "metadata": {},
          "output_type": "display_data"
        }
      ],
      "source": [
        "## Data pre-processing\n",
        "data2=head(data1,50000)\n",
        "data2 = subset(data2, select = -c(CONTRIBUTING.FACTOR.VEHICLE.1,LATITUDE,LONGITUDE,wind_deg,temp_min,temp_max,dew_point,CONTRIBUTING.FACTOR.VEHICLE.2,COLLISION_ID,X,VEHICLE.TYPE.CODE.1,VEHICLE.TYPE.CODE.2,ON.STREET.NAME,CROSS.STREET.NAME,OFF.STREET.NAME, VEHICLE_ID,weather_id,clouds_all,rain_1h,wind_gust,weather_icon,rain_3h,snow_3h,sea_level,grnd_level,snow_1h) )\n",
        "names(data2)[names(data2) == \"KILLED.INJURED\"] <- \"KILLED_INJURED\"\n",
        "colSums(is.na(data2))\n",
        "data2$CRASH_DATE=as.Date(data2$CRASH_DATE, format = \"%Y-%m-%d\")\n",
        "nrow(data2)\n",
        "data2=data2[!is.na(data2$visibility),]\n",
        "nrow(data2)\n",
        "data2=data2[!is.na(data2$KILLED_INJURED),]\n",
        "data2$KILLED_INJURED <- as.factor(data2$KILLED_INJURED)\n",
        "nrow(data2)\n",
        "index0 <- which(data2$KILLED_INJURED == 0)\n",
        "index1 <- which(data2$KILLED_INJURED == 1)\n",
        "deleteindex <- sample(index0,length(index0)-length(index1))\n",
        "nrow(data2)\n",
        "data2=data2[-deleteindex,]\n",
        "nrow(data2)\n",
        "data2$weather_main <- as.factor(data2$weather_main)\n",
        "data2$weather_description <- as.factor(data2$weather_description)\n",
        "data2$PERSON_SEX <- as.factor(data2$PERSON_SEX)\n",
        "data2$WEEKDAY <- as.factor(data2$WEEKDAY)\n",
        "set.seed(1)\n",
        "sample = sample.split(data2, SplitRatio = 0.80)\n",
        "training = subset(data2, sample == TRUE)\n",
        "test = subset(data2, sample == FALSE)\n",
        "rm(sample)\n",
        "str(training)\n",
        "str(test)\n",
        "set.seed(1)\n",
        "glm.fit1 <- train(KILLED_INJURED~., data = training, method = \"knn\",tuneLength=2)\n",
        "glm.fit1\n",
        "pred=predict(glm.fit1,test)\n",
        "cm=table(true=test$KILLED_INJURED,predic=pred)\n",
        "confusionMatrix(cm)"
      ]
    },
    {
      "cell_type": "code",
      "execution_count": null,
      "metadata": {
        "colab": {
          "base_uri": "https://localhost:8080/",
          "height": 1000
        },
        "id": "V4xCm9iGrbYn",
        "outputId": "a6401e77-0df0-4614-c78e-24ae0294ca1e"
      },
      "outputs": [
        {
          "data": {
            "text/html": [
              "<style>\n",
              ".dl-inline {width: auto; margin:0; padding: 0}\n",
              ".dl-inline>dt, .dl-inline>dd {float: none; width: auto; display: inline-block}\n",
              ".dl-inline>dt::after {content: \":\\0020\"; padding-right: .5ex}\n",
              ".dl-inline>dt:not(:first-of-type) {padding-left: .5ex}\n",
              "</style><dl class=dl-inline><dt>CRASH_DATE</dt><dd>0</dd><dt>CRASH_TIME</dt><dd>0</dd><dt>PERSON_AGE</dt><dd>0</dd><dt>PERSON_SEX</dt><dd>0</dd><dt>KILLED_INJURED</dt><dd>0</dd><dt>WEEKDAY</dt><dd>0</dd><dt>Holiday</dt><dd>0</dd><dt>temp</dt><dd>0</dd><dt>visibility</dt><dd>83</dd><dt>pressure</dt><dd>0</dd><dt>humidity</dt><dd>0</dd><dt>wind_speed</dt><dd>0</dd><dt>weather_main</dt><dd>0</dd><dt>weather_description</dt><dd>0</dd></dl>\n"
            ],
            "text/latex": "\\begin{description*}\n\\item[CRASH\\textbackslash{}\\_DATE] 0\n\\item[CRASH\\textbackslash{}\\_TIME] 0\n\\item[PERSON\\textbackslash{}\\_AGE] 0\n\\item[PERSON\\textbackslash{}\\_SEX] 0\n\\item[KILLED\\textbackslash{}\\_INJURED] 0\n\\item[WEEKDAY] 0\n\\item[Holiday] 0\n\\item[temp] 0\n\\item[visibility] 83\n\\item[pressure] 0\n\\item[humidity] 0\n\\item[wind\\textbackslash{}\\_speed] 0\n\\item[weather\\textbackslash{}\\_main] 0\n\\item[weather\\textbackslash{}\\_description] 0\n\\end{description*}\n",
            "text/markdown": "CRASH_DATE\n:   0CRASH_TIME\n:   0PERSON_AGE\n:   0PERSON_SEX\n:   0KILLED_INJURED\n:   0WEEKDAY\n:   0Holiday\n:   0temp\n:   0visibility\n:   83pressure\n:   0humidity\n:   0wind_speed\n:   0weather_main\n:   0weather_description\n:   0\n\n",
            "text/plain": [
              "         CRASH_DATE          CRASH_TIME          PERSON_AGE          PERSON_SEX \n",
              "                  0                   0                   0                   0 \n",
              "     KILLED_INJURED             WEEKDAY             Holiday                temp \n",
              "                  0                   0                   0                   0 \n",
              "         visibility            pressure            humidity          wind_speed \n",
              "                 83                   0                   0                   0 \n",
              "       weather_main weather_description \n",
              "                  0                   0 "
            ]
          },
          "metadata": {},
          "output_type": "display_data"
        },
        {
          "data": {
            "text/html": [
              "50000"
            ],
            "text/latex": "50000",
            "text/markdown": "50000",
            "text/plain": [
              "[1] 50000"
            ]
          },
          "metadata": {},
          "output_type": "display_data"
        },
        {
          "data": {
            "text/html": [
              "49917"
            ],
            "text/latex": "49917",
            "text/markdown": "49917",
            "text/plain": [
              "[1] 49917"
            ]
          },
          "metadata": {},
          "output_type": "display_data"
        },
        {
          "data": {
            "text/html": [
              "49917"
            ],
            "text/latex": "49917",
            "text/markdown": "49917",
            "text/plain": [
              "[1] 49917"
            ]
          },
          "metadata": {},
          "output_type": "display_data"
        },
        {
          "data": {
            "text/html": [
              "49917"
            ],
            "text/latex": "49917",
            "text/markdown": "49917",
            "text/plain": [
              "[1] 49917"
            ]
          },
          "metadata": {},
          "output_type": "display_data"
        },
        {
          "data": {
            "text/html": [
              "20057"
            ],
            "text/latex": "20057",
            "text/markdown": "20057",
            "text/plain": [
              "[1] 20057"
            ]
          },
          "metadata": {},
          "output_type": "display_data"
        },
        {
          "name": "stdout",
          "output_type": "stream",
          "text": [
            "'data.frame':\t15758 obs. of  14 variables:\n",
            " $ CRASH_DATE         : Date, format: \"2019-10-25\" \"2019-10-25\" ...\n",
            " $ CRASH_TIME         : int  15 15 15 15 15 15 15 15 15 15 ...\n",
            " $ PERSON_AGE         : num  65 39 35 38 35 35 35 25 38 65 ...\n",
            " $ PERSON_SEX         : Factor w/ 2 levels \"F\",\"M\": 2 2 1 2 2 2 2 1 2 2 ...\n",
            " $ KILLED_INJURED     : Factor w/ 12 levels \"0\",\"1\",\"2\",\"3\",..: 1 4 4 4 4 2 2 2 1 1 ...\n",
            " $ WEEKDAY            : Factor w/ 7 levels \"Friday\",\"Monday\",..: 1 1 1 1 1 1 1 1 1 1 ...\n",
            " $ Holiday            : chr  \"False\" \"False\" \"False\" \"False\" ...\n",
            " $ temp               : num  14.5 14.5 14.5 14.5 14.5 ...\n",
            " $ visibility         : num  10000 10000 10000 10000 10000 10000 10000 10000 10000 10000 ...\n",
            " $ pressure           : int  1027 1027 1027 1027 1027 1027 1027 1027 1027 1027 ...\n",
            " $ humidity           : int  63 63 63 63 63 63 63 63 63 63 ...\n",
            " $ wind_speed         : num  2.1 2.1 2.1 2.1 2.1 2.1 2.1 2.1 2.1 2.1 ...\n",
            " $ weather_main       : Factor w/ 8 levels \"Clear\",\"Clouds\",..: 1 1 1 1 1 1 1 1 1 1 ...\n",
            " $ weather_description: Factor w/ 14 levels \"broken clouds\",..: 13 13 13 13 13 13 13 13 13 13 ...\n",
            "'data.frame':\t4299 obs. of  14 variables:\n",
            " $ CRASH_DATE         : Date, format: \"2019-10-25\" \"2019-10-25\" ...\n",
            " $ CRASH_TIME         : int  15 15 15 15 15 15 15 15 15 17 ...\n",
            " $ PERSON_AGE         : num  27 35 39 37 22 31 38 77 39 25 ...\n",
            " $ PERSON_SEX         : Factor w/ 2 levels \"F\",\"M\": 2 2 2 2 1 1 1 2 2 1 ...\n",
            " $ KILLED_INJURED     : Factor w/ 12 levels \"0\",\"1\",\"2\",\"3\",..: 4 4 4 1 2 2 1 3 3 2 ...\n",
            " $ WEEKDAY            : Factor w/ 7 levels \"Friday\",\"Monday\",..: 1 1 1 1 1 1 1 1 1 3 ...\n",
            " $ Holiday            : chr  \"False\" \"False\" \"False\" \"False\" ...\n",
            " $ temp               : num  14.5 14.5 14.5 14.5 14.5 ...\n",
            " $ visibility         : num  10000 10000 10000 10000 10000 10000 10000 10000 10000 10000 ...\n",
            " $ pressure           : int  1027 1027 1027 1027 1027 1027 1027 1027 1027 1025 ...\n",
            " $ humidity           : int  63 63 63 63 63 63 63 63 63 48 ...\n",
            " $ wind_speed         : num  2.1 2.1 2.1 2.1 2.1 2.1 2.1 2.1 2.1 4.1 ...\n",
            " $ weather_main       : Factor w/ 8 levels \"Clear\",\"Clouds\",..: 1 1 1 1 1 1 1 1 1 7 ...\n",
            " $ weather_description: Factor w/ 14 levels \"broken clouds\",..: 13 13 13 13 13 13 13 13 13 7 ...\n"
          ]
        },
        {
          "data": {
            "text/plain": [
              "k-Nearest Neighbors \n",
              "\n",
              "15758 samples\n",
              "   13 predictor\n",
              "   12 classes: '0', '1', '2', '3', '4', '5', '6', '7', '8', '10', '12', '18' \n",
              "\n",
              "No pre-processing\n",
              "Resampling: Bootstrapped (25 reps) \n",
              "Summary of sample sizes: 15758, 15758, 15758, 15758, 15758, 15758, ... \n",
              "Resampling results across tuning parameters:\n",
              "\n",
              "  k  Accuracy   Kappa   \n",
              "  5  0.4641787  0.180172\n",
              "  7  0.4600544  0.166320\n",
              "\n",
              "Accuracy was used to select the optimal model using the largest value.\n",
              "The final value used for the model was k = 5."
            ]
          },
          "metadata": {},
          "output_type": "display_data"
        },
        {
          "data": {
            "text/plain": [
              "Confusion Matrix and Statistics\n",
              "\n",
              "    predic\n",
              "true   0   1   2   3   4   5   6   7   8  10  12  18\n",
              "  0  853 661 145  46  19   4   7   1   1   1   0   0\n",
              "  1  546 985 126  37  18   2   9   1   0   2   0   0\n",
              "  2  155 204 142  12   3   2   1   0   2   0   0   0\n",
              "  3   50  50  11  46   4   2   0   0   0   0   0   0\n",
              "  4   29  18   2   1  22   0   0   0   0   1   0   0\n",
              "  5   11  14   2   2   0  15   0   0   0   0   0   0\n",
              "  6    3   6   2   0   0   0   2   0   0   0   0   0\n",
              "  7    3   1   0   0   0   0   0   1   0   0   0   0\n",
              "  8    2   0   1   0   0   0   0   0   4   0   0   0\n",
              "  10   0   1   0   0   0   0   0   0   0   2   0   0\n",
              "  12   0   0   0   0   0   0   0   0   0   0   3   0\n",
              "  18   0   0   0   0   0   0   0   0   0   0   0   3\n",
              "\n",
              "Overall Statistics\n",
              "                                          \n",
              "               Accuracy : 0.4834          \n",
              "                 95% CI : (0.4683, 0.4984)\n",
              "    No Information Rate : 0.4513          \n",
              "    P-Value [Acc > NIR] : 1.292e-05       \n",
              "                                          \n",
              "                  Kappa : 0.2048          \n",
              "                                          \n",
              " Mcnemar's Test P-Value : NA              \n",
              "\n",
              "Statistics by Class:\n",
              "\n",
              "                     Class: 0 Class: 1 Class: 2 Class: 3 Class: 4 Class: 5\n",
              "Sensitivity            0.5163   0.5077  0.32947  0.31944 0.333333 0.600000\n",
              "Specificity            0.6657   0.6859  0.90202  0.97184 0.987952 0.993215\n",
              "Pos Pred Value         0.4908   0.5707  0.27255  0.28221 0.301370 0.340909\n",
              "Neg Pred Value         0.6880   0.6288  0.92350  0.97631 0.989588 0.997650\n",
              "Prevalence             0.3843   0.4513  0.10026  0.03350 0.015352 0.005815\n",
              "Detection Rate         0.1984   0.2291  0.03303  0.01070 0.005117 0.003489\n",
              "Detection Prevalence   0.4043   0.4015  0.12119  0.03792 0.016981 0.010235\n",
              "Balanced Accuracy      0.5910   0.5968  0.61574  0.64564 0.660643 0.796607\n",
              "                      Class: 6  Class: 7  Class: 8 Class: 10 Class: 12\n",
              "Sensitivity          0.1052632 0.3333333 0.5714286 0.3333333 1.0000000\n",
              "Specificity          0.9974299 0.9990689 0.9993010 0.9997671 1.0000000\n",
              "Pos Pred Value       0.1538462 0.2000000 0.5714286 0.6666667 1.0000000\n",
              "Neg Pred Value       0.9960336 0.9995342 0.9993010 0.9990689 1.0000000\n",
              "Prevalence           0.0044196 0.0006978 0.0016283 0.0013957 0.0006978\n",
              "Detection Rate       0.0004652 0.0002326 0.0009304 0.0004652 0.0006978\n",
              "Detection Prevalence 0.0030240 0.0011631 0.0016283 0.0006978 0.0006978\n",
              "Balanced Accuracy    0.5513465 0.6662011 0.7853648 0.6665502 1.0000000\n",
              "                     Class: 18\n",
              "Sensitivity          1.0000000\n",
              "Specificity          1.0000000\n",
              "Pos Pred Value       1.0000000\n",
              "Neg Pred Value       1.0000000\n",
              "Prevalence           0.0006978\n",
              "Detection Rate       0.0006978\n",
              "Detection Prevalence 0.0006978\n",
              "Balanced Accuracy    1.0000000"
            ]
          },
          "metadata": {},
          "output_type": "display_data"
        }
      ],
      "source": [
        "## Data pre-processing\n",
        "data2=head(data1,50000)\n",
        "data2 = subset(data2, select = -c(CONTRIBUTING.FACTOR.VEHICLE.1,LATITUDE,LONGITUDE,wind_deg,temp_min,temp_max,dew_point,CONTRIBUTING.FACTOR.VEHICLE.2,COLLISION_ID,X,VEHICLE.TYPE.CODE.1,VEHICLE.TYPE.CODE.2,ON.STREET.NAME,CROSS.STREET.NAME,OFF.STREET.NAME, VEHICLE_ID,weather_id,clouds_all,rain_1h,wind_gust,weather_icon,rain_3h,snow_3h,sea_level,grnd_level,snow_1h) )\n",
        "names(data2)[names(data2) == \"KILLED.INJURED\"] <- \"KILLED_INJURED\"\n",
        "colSums(is.na(data2))\n",
        "data2$CRASH_DATE=as.Date(data2$CRASH_DATE, format = \"%Y-%m-%d\")\n",
        "nrow(data2)\n",
        "data2=data2[!is.na(data2$visibility),]\n",
        "nrow(data2)\n",
        "data2=data2[!is.na(data2$KILLED_INJURED),]\n",
        "data2$KILLED_INJURED <- as.factor(data2$KILLED_INJURED)\n",
        "nrow(data2)\n",
        "index0 <- which(data2$KILLED_INJURED == 0)\n",
        "index1 <- which(data2$KILLED_INJURED == 1)\n",
        "deleteindex <- sample(index0,length(index0)-length(index1))\n",
        "nrow(data2)\n",
        "data2=data2[-deleteindex,]\n",
        "nrow(data2)\n",
        "data2$weather_main <- as.factor(data2$weather_main)\n",
        "data2$weather_description <- as.factor(data2$weather_description)\n",
        "data2$PERSON_SEX <- as.factor(data2$PERSON_SEX)\n",
        "data2$WEEKDAY <- as.factor(data2$WEEKDAY)\n",
        "set.seed(1)\n",
        "sample = sample.split(data2, SplitRatio = 0.80)\n",
        "training = subset(data2, sample == TRUE)\n",
        "test = subset(data2, sample == FALSE)\n",
        "rm(sample)\n",
        "str(training)\n",
        "str(test)\n",
        "set.seed(1)\n",
        "glm.fit1 <- train(KILLED_INJURED~., data = training, method = \"knn\",tuneLength=2)\n",
        "glm.fit1\n",
        "pred=predict(glm.fit1,test)\n",
        "cm=table(true=test$KILLED_INJURED,predic=pred)\n",
        "confusionMatrix(cm)"
      ]
    }
  ],
  "metadata": {
    "colab": {
      "collapsed_sections": [],
      "machine_shape": "hm",
      "name": "classication_knn",
      "provenance": [],
      "include_colab_link": true
    },
    "kernelspec": {
      "display_name": "R",
      "name": "ir"
    },
    "language_info": {
      "name": "R"
    }
  },
  "nbformat": 4,
  "nbformat_minor": 0
}