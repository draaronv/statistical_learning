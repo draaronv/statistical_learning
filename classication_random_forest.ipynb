{
  "cells": [
    {
      "cell_type": "markdown",
      "metadata": {
        "id": "view-in-github",
        "colab_type": "text"
      },
      "source": [
        "<a href=\"https://colab.research.google.com/github/draaronv/statistical_learning/blob/master/classication_random_forest.ipynb\" target=\"_parent\"><img src=\"https://colab.research.google.com/assets/colab-badge.svg\" alt=\"Open In Colab\"/></a>"
      ]
    },
    {
      "cell_type": "code",
      "execution_count": null,
      "metadata": {
        "colab": {
          "base_uri": "https://localhost:8080/"
        },
        "id": "j1N06dtFSiGK",
        "outputId": "46f1d94c-f2fd-41ef-c60a-6f8a64825faa"
      },
      "outputs": [
        {
          "output_type": "stream",
          "name": "stderr",
          "text": [
            "Installing package into ‘/usr/local/lib/R/site-library’\n",
            "(as ‘lib’ is unspecified)\n",
            "\n",
            "Installing package into ‘/usr/local/lib/R/site-library’\n",
            "(as ‘lib’ is unspecified)\n",
            "\n",
            "also installing the dependencies ‘Rcpp’, ‘promises’, ‘later’\n",
            "\n",
            "\n"
          ]
        }
      ],
      "source": [
        "install.packages('googledrive')\n",
        "install.packages('httpuv') \n",
        "library('googledrive') \n",
        "library('httpuv')"
      ]
    },
    {
      "cell_type": "code",
      "execution_count": null,
      "metadata": {
        "colab": {
          "base_uri": "https://localhost:8080/"
        },
        "id": "cnq9DnaJ8_q8",
        "outputId": "6acd81b2-1403-45ba-ae0d-d7751ae98319"
      },
      "outputs": [
        {
          "output_type": "stream",
          "name": "stderr",
          "text": [
            "Installing package into ‘/usr/local/lib/R/site-library’\n",
            "(as ‘lib’ is unspecified)\n",
            "\n",
            "also installing the dependencies ‘R.oo’, ‘R.methodsS3’\n",
            "\n",
            "\n",
            "Loading required package: R.oo\n",
            "\n",
            "Loading required package: R.methodsS3\n",
            "\n",
            "R.methodsS3 v1.8.1 (2020-08-26 16:20:06 UTC) successfully loaded. See ?R.methodsS3 for help.\n",
            "\n",
            "R.oo v1.24.0 (2020-08-26 16:11:58 UTC) successfully loaded. See ?R.oo for help.\n",
            "\n",
            "\n",
            "Attaching package: ‘R.oo’\n",
            "\n",
            "\n",
            "The following object is masked from ‘package:R.methodsS3’:\n",
            "\n",
            "    throw\n",
            "\n",
            "\n",
            "The following objects are masked from ‘package:methods’:\n",
            "\n",
            "    getClasses, getMethods\n",
            "\n",
            "\n",
            "The following objects are masked from ‘package:base’:\n",
            "\n",
            "    attach, detach, load, save\n",
            "\n",
            "\n",
            "R.utils v2.11.0 (2021-09-26 08:30:02 UTC) successfully loaded. See ?R.utils for help.\n",
            "\n",
            "\n",
            "Attaching package: ‘R.utils’\n",
            "\n",
            "\n",
            "The following object is masked from ‘package:utils’:\n",
            "\n",
            "    timestamp\n",
            "\n",
            "\n",
            "The following objects are masked from ‘package:base’:\n",
            "\n",
            "    cat, commandArgs, getOption, inherits, isOpen, nullfile, parse,\n",
            "    warnings\n",
            "\n",
            "\n"
          ]
        }
      ],
      "source": [
        "if (file.exists(\"/usr/local/lib/python3.7/dist-packages/google/colab/_ipython.py\")) {\n",
        "  install.packages(\"R.utils\")\n",
        "  library(\"R.utils\")\n",
        "  library(\"httr\")\n",
        "  my_check <- function() {return(TRUE)}\n",
        "  reassignInPackage(\"is_interactive\", pkgName = \"httr\", my_check) \n",
        "  options(rlang_interactive=TRUE)\n",
        "}"
      ]
    },
    {
      "cell_type": "code",
      "execution_count": null,
      "metadata": {
        "colab": {
          "base_uri": "https://localhost:8080/"
        },
        "id": "TTRTPMcE9DAF",
        "outputId": "a6a86535-c658-4740-94e2-711af73de50b"
      },
      "outputs": [
        {
          "output_type": "stream",
          "name": "stderr",
          "text": [
            "Please point your browser to the following url: \n",
            "\n",
            "https://accounts.google.com/o/oauth2/auth?client_id=603366585132-dpeg5tt0et3go5of2374d83ifevk5086.apps.googleusercontent.com&scope=https%3A%2F%2Fwww.googleapis.com%2Fauth%2Fdrive%20https%3A%2F%2Fwww.googleapis.com%2Fauth%2Fuserinfo.email&redirect_uri=urn%3Aietf%3Awg%3Aoauth%3A2.0%3Aoob&response_type=code\n",
            "\n"
          ]
        },
        {
          "name": "stdout",
          "output_type": "stream",
          "text": [
            "Enter authorization code: 4/1AX4XfWguo5LMKPA5fUIUkUJW05t4yD4Ky5dBnTkHTXpuWeuXWXq5rQoY79w\n"
          ]
        }
      ],
      "source": [
        "drive_auth(use_oob = TRUE, cache = FALSE)"
      ]
    },
    {
      "cell_type": "code",
      "execution_count": null,
      "metadata": {
        "colab": {
          "base_uri": "https://localhost:8080/"
        },
        "id": "wg41feuz9EMM",
        "outputId": "34f58e69-8793-420b-c97f-1b94f88b4e9d"
      },
      "outputs": [
        {
          "output_type": "stream",
          "name": "stderr",
          "text": [
            "\n",
            "\n",
            "\n",
            "\n",
            "\u001b[32m✔\u001b[39m The input `path` resolved to exactly 1 file.\n",
            "\n",
            "File downloaded:\n",
            "\n",
            "\u001b[36m•\u001b[39m \u001b[36mfinalData.csv\u001b[39m \u001b[90m<id: 1W1wazYCqs5Iiz6cAwFUjo9f3a3kaBxWU>\u001b[39m\n",
            "\n",
            "Saved locally as:\n",
            "\n",
            "\u001b[36m•\u001b[39m \u001b[34mfinalData.csv\u001b[39m\n",
            "\n"
          ]
        }
      ],
      "source": [
        "x <- drive_get(\"~/statistical_learning/finalData.csv\")\n",
        "drive_download(x)"
      ]
    },
    {
      "cell_type": "code",
      "execution_count": null,
      "metadata": {
        "id": "2pT9M7N98E94"
      },
      "outputs": [],
      "source": [
        "rm(list = ls())"
      ]
    },
    {
      "cell_type": "code",
      "execution_count": null,
      "metadata": {
        "colab": {
          "base_uri": "https://localhost:8080/"
        },
        "id": "QfpVR_ITgn7p",
        "outputId": "bc82c23c-1036-444d-c8e0-ca55dd6ce6ea"
      },
      "outputs": [
        {
          "output_type": "stream",
          "name": "stderr",
          "text": [
            "Installing package into ‘/usr/local/lib/R/site-library’\n",
            "(as ‘lib’ is unspecified)\n",
            "\n",
            "Installing package into ‘/usr/local/lib/R/site-library’\n",
            "(as ‘lib’ is unspecified)\n",
            "\n",
            "Installing package into ‘/usr/local/lib/R/site-library’\n",
            "(as ‘lib’ is unspecified)\n",
            "\n",
            "Installing package into ‘/usr/local/lib/R/site-library’\n",
            "(as ‘lib’ is unspecified)\n",
            "\n",
            "Installing package into ‘/usr/local/lib/R/site-library’\n",
            "(as ‘lib’ is unspecified)\n",
            "\n",
            "Installing package into ‘/usr/local/lib/R/site-library’\n",
            "(as ‘lib’ is unspecified)\n",
            "\n",
            "Installing package into ‘/usr/local/lib/R/site-library’\n",
            "(as ‘lib’ is unspecified)\n",
            "\n",
            "Installing package into ‘/usr/local/lib/R/site-library’\n",
            "(as ‘lib’ is unspecified)\n",
            "\n",
            "Installing package into ‘/usr/local/lib/R/site-library’\n",
            "(as ‘lib’ is unspecified)\n",
            "\n",
            "\n",
            "Attaching package: ‘Metrics’\n",
            "\n",
            "\n",
            "The following object is masked from ‘package:R.oo’:\n",
            "\n",
            "    ll\n",
            "\n",
            "\n",
            "\n",
            "Attaching package: ‘dplyr’\n",
            "\n",
            "\n",
            "The following objects are masked from ‘package:stats’:\n",
            "\n",
            "    filter, lag\n",
            "\n",
            "\n",
            "The following objects are masked from ‘package:base’:\n",
            "\n",
            "    intersect, setdiff, setequal, union\n",
            "\n",
            "\n",
            "Loading required package: ggplot2\n",
            "\n",
            "Loading required package: lattice\n",
            "\n",
            "Warning message in system(\"timedatectl\", intern = TRUE):\n",
            "“running command 'timedatectl' had status 1”\n",
            "\n",
            "Attaching package: ‘caret’\n",
            "\n",
            "\n",
            "The following objects are masked from ‘package:Metrics’:\n",
            "\n",
            "    precision, recall\n",
            "\n",
            "\n",
            "The following object is masked from ‘package:httr’:\n",
            "\n",
            "    progress\n",
            "\n",
            "\n"
          ]
        }
      ],
      "source": [
        "install.packages(\"Metrics\")\n",
        "install.packages(\"rsample\")\n",
        "install.packages(\"rpart\")\n",
        "install.packages(\"dplyr\")\n",
        "install.packages(\"rpart.plot\")\n",
        "install.packages(\"ipred\")\n",
        "install.packages(\"caret\")\n",
        "install.packages(\"caTools\")\n",
        "install.packages(\"ranger\")\n",
        "library(ranger)\n",
        "library(Metrics)\n",
        "library(rsample)     # data splitting \n",
        "library(dplyr)       # data wrangling\n",
        "library(rpart)       # performing regression trees\n",
        "library(rpart.plot)  # plotting regression trees\n",
        "library(ipred)       # bagging\n",
        "library(caret)       # bagging\n",
        "library(caTools)"
      ]
    },
    {
      "cell_type": "code",
      "execution_count": null,
      "metadata": {
        "id": "YjXAzMoFE1fg"
      },
      "outputs": [],
      "source": [
        "cluster <- makeCluster(detectCores() - 1) # convention to leave 1 core for OS\n",
        "registerDoParallel(cluster)"
      ]
    },
    {
      "cell_type": "markdown",
      "metadata": {
        "id": "1R3xUN_pL6Q9"
      },
      "source": [
        "# Data Initilization"
      ]
    },
    {
      "cell_type": "code",
      "execution_count": null,
      "metadata": {
        "id": "EezpUwaJmmnO"
      },
      "outputs": [],
      "source": [
        "data1 = read.csv(\"finalData.csv\")"
      ]
    },
    {
      "cell_type": "code",
      "execution_count": null,
      "metadata": {
        "id": "fz2iOSKE5Voj"
      },
      "outputs": [],
      "source": [
        "data2=head(data1,50000)"
      ]
    },
    {
      "cell_type": "code",
      "execution_count": null,
      "metadata": {
        "colab": {
          "base_uri": "https://localhost:8080/",
          "height": 662
        },
        "id": "7HGFBJjskD7K",
        "outputId": "cf38d8db-797f-43ed-8f3c-a1afc7053266"
      },
      "outputs": [
        {
          "output_type": "display_data",
          "data": {
            "text/html": [
              "<style>\n",
              ".dl-inline {width: auto; margin:0; padding: 0}\n",
              ".dl-inline>dt, .dl-inline>dd {float: none; width: auto; display: inline-block}\n",
              ".dl-inline>dt::after {content: \":\\0020\"; padding-right: .5ex}\n",
              ".dl-inline>dt:not(:first-of-type) {padding-left: .5ex}\n",
              "</style><dl class=dl-inline><dt>CRASH_DATE</dt><dd>0</dd><dt>CRASH_TIME</dt><dd>0</dd><dt>PERSON_AGE</dt><dd>0</dd><dt>PERSON_SEX</dt><dd>0</dd><dt>KILLED_INJURED</dt><dd>0</dd><dt>WEEKDAY</dt><dd>0</dd><dt>Holiday</dt><dd>0</dd><dt>temp</dt><dd>0</dd><dt>visibility</dt><dd>83</dd><dt>pressure</dt><dd>0</dd><dt>humidity</dt><dd>0</dd><dt>wind_speed</dt><dd>0</dd><dt>weather_main</dt><dd>0</dd><dt>weather_description</dt><dd>0</dd></dl>\n"
            ],
            "text/markdown": "CRASH_DATE\n:   0CRASH_TIME\n:   0PERSON_AGE\n:   0PERSON_SEX\n:   0KILLED_INJURED\n:   0WEEKDAY\n:   0Holiday\n:   0temp\n:   0visibility\n:   83pressure\n:   0humidity\n:   0wind_speed\n:   0weather_main\n:   0weather_description\n:   0\n\n",
            "text/latex": "\\begin{description*}\n\\item[CRASH\\textbackslash{}\\_DATE] 0\n\\item[CRASH\\textbackslash{}\\_TIME] 0\n\\item[PERSON\\textbackslash{}\\_AGE] 0\n\\item[PERSON\\textbackslash{}\\_SEX] 0\n\\item[KILLED\\textbackslash{}\\_INJURED] 0\n\\item[WEEKDAY] 0\n\\item[Holiday] 0\n\\item[temp] 0\n\\item[visibility] 83\n\\item[pressure] 0\n\\item[humidity] 0\n\\item[wind\\textbackslash{}\\_speed] 0\n\\item[weather\\textbackslash{}\\_main] 0\n\\item[weather\\textbackslash{}\\_description] 0\n\\end{description*}\n",
            "text/plain": [
              "         CRASH_DATE          CRASH_TIME          PERSON_AGE          PERSON_SEX \n",
              "                  0                   0                   0                   0 \n",
              "     KILLED_INJURED             WEEKDAY             Holiday                temp \n",
              "                  0                   0                   0                   0 \n",
              "         visibility            pressure            humidity          wind_speed \n",
              "                 83                   0                   0                   0 \n",
              "       weather_main weather_description \n",
              "                  0                   0 "
            ]
          },
          "metadata": {}
        },
        {
          "output_type": "display_data",
          "data": {
            "text/html": [
              "50000"
            ],
            "text/markdown": "50000",
            "text/latex": "50000",
            "text/plain": [
              "[1] 50000"
            ]
          },
          "metadata": {}
        },
        {
          "output_type": "display_data",
          "data": {
            "text/html": [
              "49917"
            ],
            "text/markdown": "49917",
            "text/latex": "49917",
            "text/plain": [
              "[1] 49917"
            ]
          },
          "metadata": {}
        },
        {
          "output_type": "display_data",
          "data": {
            "text/html": [
              "49917"
            ],
            "text/markdown": "49917",
            "text/latex": "49917",
            "text/plain": [
              "[1] 49917"
            ]
          },
          "metadata": {}
        },
        {
          "output_type": "stream",
          "name": "stdout",
          "text": [
            "'data.frame':\t39219 obs. of  14 variables:\n",
            " $ CRASH_DATE         : Date, format: \"2019-10-25\" \"2019-10-25\" ...\n",
            " $ CRASH_TIME         : int  15 15 15 15 15 15 15 15 15 15 ...\n",
            " $ PERSON_AGE         : num  33 82 33 82 42 51 51 17 42 37 ...\n",
            " $ PERSON_SEX         : Factor w/ 2 levels \"F\",\"M\": 1 2 2 2 2 2 2 2 2 2 ...\n",
            " $ KILLED_INJURED     : Factor w/ 12 levels \"0\",\"1\",\"2\",\"3\",..: 1 1 1 1 1 1 1 1 1 1 ...\n",
            " $ WEEKDAY            : Factor w/ 7 levels \"Friday\",\"Monday\",..: 1 1 1 1 1 1 1 1 1 1 ...\n",
            " $ Holiday            : chr  \"False\" \"False\" \"False\" \"False\" ...\n",
            " $ temp               : num  14.5 14.5 14.5 14.5 14.5 ...\n",
            " $ visibility         : num  10000 10000 10000 10000 10000 10000 10000 10000 10000 10000 ...\n",
            " $ pressure           : int  1027 1027 1027 1027 1027 1027 1027 1027 1027 1027 ...\n",
            " $ humidity           : int  63 63 63 63 63 63 63 63 63 63 ...\n",
            " $ wind_speed         : num  2.1 2.1 2.1 2.1 2.1 2.1 2.1 2.1 2.1 2.1 ...\n",
            " $ weather_main       : Factor w/ 8 levels \"Clear\",\"Clouds\",..: 1 1 1 1 1 1 1 1 1 1 ...\n",
            " $ weather_description: Factor w/ 14 levels \"broken clouds\",..: 13 13 13 13 13 13 13 13 13 13 ...\n",
            "'data.frame':\t10698 obs. of  14 variables:\n",
            " $ CRASH_DATE         : Date, format: \"2019-10-25\" \"2019-10-25\" ...\n",
            " $ CRASH_TIME         : int  15 15 15 15 15 15 15 15 15 15 ...\n",
            " $ PERSON_AGE         : num  33 42 42 56 30 65 25 43 38 49 ...\n",
            " $ PERSON_SEX         : Factor w/ 2 levels \"F\",\"M\": 2 2 2 2 2 2 1 1 2 1 ...\n",
            " $ KILLED_INJURED     : Factor w/ 12 levels \"0\",\"1\",\"2\",\"3\",..: 1 1 1 1 1 1 2 1 1 1 ...\n",
            " $ WEEKDAY            : Factor w/ 7 levels \"Friday\",\"Monday\",..: 1 1 1 1 1 1 1 1 1 1 ...\n",
            " $ Holiday            : chr  \"False\" \"False\" \"False\" \"False\" ...\n",
            " $ temp               : num  14.5 14.5 14.5 14.5 14.5 ...\n",
            " $ visibility         : num  10000 10000 10000 10000 10000 10000 10000 10000 10000 10000 ...\n",
            " $ pressure           : int  1027 1027 1027 1027 1027 1027 1027 1027 1027 1027 ...\n",
            " $ humidity           : int  63 63 63 63 63 63 63 63 63 63 ...\n",
            " $ wind_speed         : num  2.1 2.1 2.1 2.1 2.1 2.1 2.1 2.1 2.1 2.1 ...\n",
            " $ weather_main       : Factor w/ 8 levels \"Clear\",\"Clouds\",..: 1 1 1 1 1 1 1 1 1 1 ...\n",
            " $ weather_description: Factor w/ 14 levels \"broken clouds\",..: 13 13 13 13 13 13 13 13 13 13 ...\n"
          ]
        }
      ],
      "source": [
        "## Data pre-processing\n",
        "data2 = subset(data2, select = -c(CONTRIBUTING.FACTOR.VEHICLE.1,LATITUDE,LONGITUDE,wind_deg,temp_min,temp_max,dew_point,CONTRIBUTING.FACTOR.VEHICLE.2,COLLISION_ID,X,VEHICLE.TYPE.CODE.1,VEHICLE.TYPE.CODE.2,ON.STREET.NAME,CROSS.STREET.NAME,OFF.STREET.NAME, VEHICLE_ID,weather_id,clouds_all,rain_1h,wind_gust,weather_icon,rain_3h,snow_3h,sea_level,grnd_level,snow_1h) )\n",
        "names(data2)[names(data2) == \"KILLED.INJURED\"] <- \"KILLED_INJURED\"\n",
        "colSums(is.na(data2))\n",
        "data2$CRASH_DATE=as.Date(data2$CRASH_DATE, format = \"%Y-%m-%d\")\n",
        "nrow(data2)\n",
        "data2=data2[!is.na(data2$visibility),]\n",
        "nrow(data2)\n",
        "data2=data2[!is.na(data2$KILLED_INJURED),]\n",
        "data2$KILLED_INJURED <- as.factor(data2$KILLED_INJURED)\n",
        "nrow(data2)\n",
        "data2$weather_main <- as.factor(data2$weather_main)\n",
        "data2$weather_description <- as.factor(data2$weather_description)\n",
        "data2$PERSON_SEX <- as.factor(data2$PERSON_SEX)\n",
        "data2$WEEKDAY <- as.factor(data2$WEEKDAY)\n",
        "set.seed(1)\n",
        "sample = sample.split(data2, SplitRatio = 0.80)\n",
        "training = subset(data2, sample == TRUE)\n",
        "test = subset(data2, sample == FALSE)\n",
        "rm(sample)\n",
        "str(training)\n",
        "str(test)"
      ]
    },
    {
      "cell_type": "markdown",
      "metadata": {
        "id": "kyvjTZ8aQ79J"
      },
      "source": [
        "## Ranger"
      ]
    },
    {
      "cell_type": "code",
      "execution_count": null,
      "metadata": {
        "id": "q3VprCGvQJsV"
      },
      "outputs": [],
      "source": [
        "randFore100m5 <- ranger(KILLED_INJURED~., data=training, mtry=13,num.trees=100,min.node.size =2)"
      ]
    },
    {
      "cell_type": "code",
      "execution_count": null,
      "metadata": {
        "colab": {
          "base_uri": "https://localhost:8080/"
        },
        "id": "wlPxuIK8QjWc",
        "outputId": "16d83410-0b06-4893-e9bd-04768fdc8d8e"
      },
      "outputs": [
        {
          "output_type": "stream",
          "name": "stdout",
          "text": [
            "Ranger result\n",
            "\n",
            "Call:\n",
            " ranger(KILLED_INJURED ~ ., data = training, mtry = 13, num.trees = 100,      min.node.size = 2) \n",
            "\n",
            "Type:                             Classification \n",
            "Number of trees:                  100 \n",
            "Sample size:                      39219 \n",
            "Number of independent variables:  13 \n",
            "Mtry:                             13 \n",
            "Target node size:                 2 \n",
            "Variable importance mode:         none \n",
            "Splitrule:                        gini \n",
            "OOB prediction error:             20.80 % \n"
          ]
        }
      ],
      "source": [
        "print(randFore100m5)"
      ]
    },
    {
      "cell_type": "code",
      "execution_count": null,
      "metadata": {
        "id": "l8eCpiV7tDLD"
      },
      "outputs": [],
      "source": [
        "pred=predict(randFore100m5,test,type=\"response\")"
      ]
    },
    {
      "cell_type": "code",
      "execution_count": null,
      "metadata": {
        "colab": {
          "base_uri": "https://localhost:8080/",
          "height": 1000
        },
        "id": "eia-OtkItgb-",
        "outputId": "564cd7dd-30ef-4c53-f4a8-45ad48cab76a"
      },
      "outputs": [
        {
          "output_type": "display_data",
          "data": {
            "text/plain": [
              "Confusion Matrix and Statistics\n",
              "\n",
              "    predic\n",
              "true    0    1    2    3    4    5    6    7    8   10   12   18\n",
              "  0  7331  554  163   64   16    5   10    0    0    3    0    4\n",
              "  1   930  743   25   12    9    2    1    1    0    0    0    0\n",
              "  2   271   32  182   12    2    0    0    0    0    0    0    0\n",
              "  3    91   10    4   59    1    0    0    0    0    0    0    0\n",
              "  4    37    9    3    0   34    1    0    0    0    0    0    0\n",
              "  5    19    1    1    0    0   21    1    0    0    0    0    0\n",
              "  6     7    3    0    0    0    0    3    0    0    0    0    0\n",
              "  7     3    2    0    0    0    0    0    1    0    0    0    0\n",
              "  8     0    0    0    0    0    0    0    0    5    0    0    0\n",
              "  10    1    0    0    0    0    0    0    0    0    2    0    0\n",
              "  12    0    0    0    0    0    0    0    0    0    0    3    0\n",
              "  18    1    1    0    0    0    0    0    0    0    0    0    2\n",
              "\n",
              "Overall Statistics\n",
              "                                         \n",
              "               Accuracy : 0.7839         \n",
              "                 95% CI : (0.776, 0.7917)\n",
              "    No Information Rate : 0.8124         \n",
              "    P-Value [Acc > NIR] : 1              \n",
              "                                         \n",
              "                  Kappa : 0.3976         \n",
              "                                         \n",
              " Mcnemar's Test P-Value : NA             \n",
              "\n",
              "Statistics by Class:\n",
              "\n",
              "                     Class: 0 Class: 1 Class: 2 Class: 3 Class: 4 Class: 5\n",
              "Sensitivity            0.8435  0.54834  0.48148 0.401361 0.548387 0.724138\n",
              "Specificity            0.5919  0.89511  0.96928 0.989954 0.995299 0.997938\n",
              "Pos Pred Value         0.8995  0.43122  0.36473 0.357576 0.404762 0.488372\n",
              "Neg Pred Value         0.4662  0.93181  0.98078 0.991645 0.997362 0.999249\n",
              "Prevalence             0.8124  0.12666  0.03533 0.013741 0.005795 0.002711\n",
              "Detection Rate         0.6853  0.06945  0.01701 0.005515 0.003178 0.001963\n",
              "Detection Prevalence   0.7618  0.16106  0.04664 0.015423 0.007852 0.004019\n",
              "Balanced Accuracy      0.7177  0.72172  0.72538 0.695657 0.771843 0.861038\n",
              "                      Class: 6  Class: 7  Class: 8 Class: 10 Class: 12\n",
              "Sensitivity          0.2000000 5.000e-01 1.0000000 0.4000000 1.0000000\n",
              "Specificity          0.9990639 9.995e-01 1.0000000 0.9999065 1.0000000\n",
              "Pos Pred Value       0.2307692 1.667e-01 1.0000000 0.6666667 1.0000000\n",
              "Neg Pred Value       0.9988769 9.999e-01 1.0000000 0.9997195 1.0000000\n",
              "Prevalence           0.0014021 1.870e-04 0.0004674 0.0004674 0.0002804\n",
              "Detection Rate       0.0002804 9.348e-05 0.0004674 0.0001870 0.0002804\n",
              "Detection Prevalence 0.0012152 5.609e-04 0.0004674 0.0002804 0.0002804\n",
              "Balanced Accuracy    0.5995320 7.498e-01 1.0000000 0.6999532 1.0000000\n",
              "                     Class: 18\n",
              "Sensitivity          0.3333333\n",
              "Specificity          0.9998129\n",
              "Pos Pred Value       0.5000000\n",
              "Neg Pred Value       0.9996260\n",
              "Prevalence           0.0005609\n",
              "Detection Rate       0.0001870\n",
              "Detection Prevalence 0.0003739\n",
              "Balanced Accuracy    0.6665731"
            ]
          },
          "metadata": {}
        }
      ],
      "source": [
        "cm=table(true=test$KILLED_INJURED,predic=pred$predictions)\n",
        "confusionMatrix(cm)"
      ]
    },
    {
      "cell_type": "markdown",
      "metadata": {
        "id": "w1jhsClIRScp"
      },
      "source": [
        "### Grid Optimization"
      ]
    },
    {
      "cell_type": "code",
      "execution_count": null,
      "metadata": {
        "id": "tTvR0oWnRXxn",
        "colab": {
          "base_uri": "https://localhost:8080/"
        },
        "outputId": "c144c237-5b19-4437-dc33-62ed9d362125"
      },
      "outputs": [
        {
          "output_type": "stream",
          "name": "stdout",
          "text": [
            "Growing trees.. Progress: 80%. Estimated remaining time: 7 seconds.\n",
            "Growing trees.. Progress: 52%. Estimated remaining time: 28 seconds.\n",
            "Growing trees.. Progress: 39%. Estimated remaining time: 47 seconds.\n",
            "Growing trees.. Progress: 80%. Estimated remaining time: 15 seconds.\n",
            "Growing trees.. Progress: 32%. Estimated remaining time: 1 minute, 5 seconds.\n",
            "Growing trees.. Progress: 65%. Estimated remaining time: 32 seconds.\n",
            "Growing trees.. Progress: 98%. Estimated remaining time: 1 seconds.\n",
            "Growing trees.. Progress: 27%. Estimated remaining time: 1 minute, 24 seconds.\n",
            "Growing trees.. Progress: 54%. Estimated remaining time: 52 seconds.\n",
            "Growing trees.. Progress: 82%. Estimated remaining time: 20 seconds.\n",
            "Growing trees.. Progress: 22%. Estimated remaining time: 1 minute, 47 seconds.\n",
            "Growing trees.. Progress: 45%. Estimated remaining time: 1 minute, 14 seconds.\n",
            "Growing trees.. Progress: 68%. Estimated remaining time: 43 seconds.\n",
            "Growing trees.. Progress: 91%. Estimated remaining time: 12 seconds.\n",
            "Growing trees.. Progress: 20%. Estimated remaining time: 2 minutes, 3 seconds.\n",
            "Growing trees.. Progress: 41%. Estimated remaining time: 1 minute, 30 seconds.\n",
            "Growing trees.. Progress: 62%. Estimated remaining time: 58 seconds.\n",
            "Growing trees.. Progress: 82%. Estimated remaining time: 27 seconds.\n",
            "Growing trees.. Progress: 18%. Estimated remaining time: 2 minutes, 25 seconds.\n",
            "Growing trees.. Progress: 35%. Estimated remaining time: 1 minute, 54 seconds.\n",
            "Growing trees.. Progress: 53%. Estimated remaining time: 1 minute, 21 seconds.\n",
            "Growing trees.. Progress: 71%. Estimated remaining time: 49 seconds.\n",
            "Growing trees.. Progress: 89%. Estimated remaining time: 19 seconds.\n",
            "Growing trees.. Progress: 16%. Estimated remaining time: 2 minutes, 43 seconds.\n",
            "Growing trees.. Progress: 32%. Estimated remaining time: 2 minutes, 11 seconds.\n",
            "Growing trees.. Progress: 49%. Estimated remaining time: 1 minute, 38 seconds.\n",
            "Growing trees.. Progress: 65%. Estimated remaining time: 1 minute, 7 seconds.\n",
            "Growing trees.. Progress: 81%. Estimated remaining time: 35 seconds.\n",
            "Growing trees.. Progress: 98%. Estimated remaining time: 4 seconds.\n"
          ]
        }
      ],
      "source": [
        "hyper_grid <- expand.grid(\n",
        "  mtry       = 13,\n",
        "  node_size  = 2,\n",
        "  num.trees = seq(100,1000, by = 100),\n",
        "  OOB_RMSE   = 0\n",
        ")\n",
        "for(i in 1:nrow(hyper_grid)) {\n",
        "  model <- ranger(\n",
        "    formula         = KILLED_INJURED~., \n",
        "    data            = training, \n",
        "    num.trees       = hyper_grid$num.trees[i],\n",
        "    mtry            = hyper_grid$mtry[i],\n",
        "    min.node.size   = hyper_grid$node_size[i],\n",
        "    seed            = 123\n",
        "  )\n",
        "  \n",
        "  # add OOB error to grid\n",
        "  hyper_grid$OOB_RMSE[i] <- sqrt(model$prediction.error)\n",
        "}\n"
      ]
    },
    {
      "cell_type": "code",
      "execution_count": null,
      "metadata": {
        "colab": {
          "base_uri": "https://localhost:8080/",
          "height": 412
        },
        "id": "Wd_UInXNSQvf",
        "outputId": "c61f114f-3044-4803-e2af-1c8a11228819"
      },
      "outputs": [
        {
          "output_type": "display_data",
          "data": {
            "text/html": [
              "<table class=\"dataframe\">\n",
              "<caption>A data.frame: 10 × 4</caption>\n",
              "<thead>\n",
              "\t<tr><th></th><th scope=col>mtry</th><th scope=col>node_size</th><th scope=col>num.trees</th><th scope=col>OOB_RMSE</th></tr>\n",
              "\t<tr><th></th><th scope=col>&lt;dbl&gt;</th><th scope=col>&lt;dbl&gt;</th><th scope=col>&lt;dbl&gt;</th><th scope=col>&lt;dbl&gt;</th></tr>\n",
              "</thead>\n",
              "<tbody>\n",
              "\t<tr><th scope=row>1</th><td>13</td><td>2</td><td> 500</td><td>0.4483202</td></tr>\n",
              "\t<tr><th scope=row>2</th><td>13</td><td>2</td><td> 600</td><td>0.4486184</td></tr>\n",
              "\t<tr><th scope=row>3</th><td>13</td><td>2</td><td> 800</td><td>0.4487888</td></tr>\n",
              "\t<tr><th scope=row>4</th><td>13</td><td>2</td><td> 700</td><td>0.4489023</td></tr>\n",
              "\t<tr><th scope=row>5</th><td>13</td><td>2</td><td>1000</td><td>0.4492001</td></tr>\n",
              "\t<tr><th scope=row>6</th><td>13</td><td>2</td><td> 400</td><td>0.4492143</td></tr>\n",
              "\t<tr><th scope=row>7</th><td>13</td><td>2</td><td> 900</td><td>0.4493844</td></tr>\n",
              "\t<tr><th scope=row>8</th><td>13</td><td>2</td><td> 300</td><td>0.4499651</td></tr>\n",
              "\t<tr><th scope=row>9</th><td>13</td><td>2</td><td> 200</td><td>0.4505309</td></tr>\n",
              "\t<tr><th scope=row>10</th><td>13</td><td>2</td><td> 100</td><td>0.4526464</td></tr>\n",
              "</tbody>\n",
              "</table>\n"
            ],
            "text/markdown": "\nA data.frame: 10 × 4\n\n| <!--/--> | mtry &lt;dbl&gt; | node_size &lt;dbl&gt; | num.trees &lt;dbl&gt; | OOB_RMSE &lt;dbl&gt; |\n|---|---|---|---|---|\n| 1 | 13 | 2 |  500 | 0.4483202 |\n| 2 | 13 | 2 |  600 | 0.4486184 |\n| 3 | 13 | 2 |  800 | 0.4487888 |\n| 4 | 13 | 2 |  700 | 0.4489023 |\n| 5 | 13 | 2 | 1000 | 0.4492001 |\n| 6 | 13 | 2 |  400 | 0.4492143 |\n| 7 | 13 | 2 |  900 | 0.4493844 |\n| 8 | 13 | 2 |  300 | 0.4499651 |\n| 9 | 13 | 2 |  200 | 0.4505309 |\n| 10 | 13 | 2 |  100 | 0.4526464 |\n\n",
            "text/latex": "A data.frame: 10 × 4\n\\begin{tabular}{r|llll}\n  & mtry & node\\_size & num.trees & OOB\\_RMSE\\\\\n  & <dbl> & <dbl> & <dbl> & <dbl>\\\\\n\\hline\n\t1 & 13 & 2 &  500 & 0.4483202\\\\\n\t2 & 13 & 2 &  600 & 0.4486184\\\\\n\t3 & 13 & 2 &  800 & 0.4487888\\\\\n\t4 & 13 & 2 &  700 & 0.4489023\\\\\n\t5 & 13 & 2 & 1000 & 0.4492001\\\\\n\t6 & 13 & 2 &  400 & 0.4492143\\\\\n\t7 & 13 & 2 &  900 & 0.4493844\\\\\n\t8 & 13 & 2 &  300 & 0.4499651\\\\\n\t9 & 13 & 2 &  200 & 0.4505309\\\\\n\t10 & 13 & 2 &  100 & 0.4526464\\\\\n\\end{tabular}\n",
            "text/plain": [
              "   mtry node_size num.trees OOB_RMSE \n",
              "1  13   2          500      0.4483202\n",
              "2  13   2          600      0.4486184\n",
              "3  13   2          800      0.4487888\n",
              "4  13   2          700      0.4489023\n",
              "5  13   2         1000      0.4492001\n",
              "6  13   2          400      0.4492143\n",
              "7  13   2          900      0.4493844\n",
              "8  13   2          300      0.4499651\n",
              "9  13   2          200      0.4505309\n",
              "10 13   2          100      0.4526464"
            ]
          },
          "metadata": {}
        }
      ],
      "source": [
        "hyper_grid %>% \n",
        "  dplyr::arrange(OOB_RMSE) %>%\n",
        "  head(10)"
      ]
    },
    {
      "cell_type": "code",
      "execution_count": null,
      "metadata": {
        "colab": {
          "base_uri": "https://localhost:8080/",
          "height": 850
        },
        "id": "ymobeEfZp3UW",
        "outputId": "1dde4c6f-860b-4d30-ff66-6e5182b3c95a"
      },
      "outputs": [
        {
          "data": {
            "text/plain": [
              "Confusion Matrix and Statistics\n",
              "\n",
              "    predic\n",
              "true     0     1     2     3     4     5     6     7     8    10    12    18\n",
              "  0  14586   567   170    63    26     7     6     1     1     2     1     0\n",
              "  1   1000  2017    38     9     4     2     0     1     1     1     0     0\n",
              "  2    291    47   552     4     0     0     1     0     0     0     0     0\n",
              "  3     90    16     2   178     3     0     0     0     0     0     0     0\n",
              "  4     29     8     0     1   114     0     0     0     0     0     0     0\n",
              "  5      8     1     1     0     2    60     2     0     0     0     0     0\n",
              "  6      6     2     0     0     0     0    27     0     0     0     0     0\n",
              "  7      0     2     1     0     0     0     0     5     0     0     0     0\n",
              "  8      1     0     0     0     0     0     0     0     7     0     0     0\n",
              "  10     0     0     0     0     0     0     0     0     0     4     0     0\n",
              "  12     0     0     0     0     0     0     0     0     0     0    10     0\n",
              "  18     0     0     0     0     0     0     0     0     0     0     0     5\n",
              "\n",
              "Overall Statistics\n",
              "                                          \n",
              "               Accuracy : 0.879           \n",
              "                 95% CI : (0.8744, 0.8835)\n",
              "    No Information Rate : 0.8012          \n",
              "    P-Value [Acc > NIR] : < 2.2e-16       \n",
              "                                          \n",
              "                  Kappa : 0.6628          \n",
              "                                          \n",
              " Mcnemar's Test P-Value : NA              \n",
              "\n",
              "Statistics by Class:\n",
              "\n",
              "                     Class: 0 Class: 1 Class: 2 Class: 3 Class: 4 Class: 5\n",
              "Sensitivity            0.9110   0.7583  0.72251 0.698039 0.765101 0.869565\n",
              "Specificity            0.7875   0.9390  0.98215 0.994373 0.998084 0.999297\n",
              "Pos Pred Value         0.9453   0.6564  0.61676 0.615917 0.750000 0.810811\n",
              "Neg Pred Value         0.6870   0.9620  0.98889 0.996090 0.998235 0.999548\n",
              "Prevalence             0.8012   0.1331  0.03823 0.012761 0.007456 0.003453\n",
              "Detection Rate         0.7299   0.1009  0.02762 0.008908 0.005705 0.003003\n",
              "Detection Prevalence   0.7722   0.1538  0.04479 0.014462 0.007606 0.003703\n",
              "Balanced Accuracy      0.8493   0.8487  0.85233 0.846206 0.881592 0.934431\n",
              "                     Class: 6  Class: 7  Class: 8 Class: 10 Class: 12 Class: 18\n",
              "Sensitivity          0.750000 0.7142857 0.7777778 0.5714286 0.9090909 1.0000000\n",
              "Specificity          0.999599 0.9998498 0.9999499 1.0000000 1.0000000 1.0000000\n",
              "Pos Pred Value       0.771429 0.6250000 0.8750000 1.0000000 1.0000000 1.0000000\n",
              "Neg Pred Value       0.999549 0.9998999 0.9998999 0.9998498 0.9999499 1.0000000\n",
              "Prevalence           0.001802 0.0003503 0.0004504 0.0003503 0.0005505 0.0002502\n",
              "Detection Rate       0.001351 0.0002502 0.0003503 0.0002002 0.0005004 0.0002502\n",
              "Detection Prevalence 0.001751 0.0004003 0.0004003 0.0002002 0.0005004 0.0002502\n",
              "Balanced Accuracy    0.874799 0.8570678 0.8888639 0.7857143 0.9545455 1.0000000"
            ]
          },
          "metadata": {},
          "output_type": "display_data"
        }
      ],
      "source": [
        "randFore <- ranger(KILLED_INJURED~., data=training, mtry=14,num.trees=700,min.node.size =2)\n",
        "pred=predict(randFore,test,type=\"response\")\n",
        "cm=table(true=test$KILLED_INJURED,predic=pred$predictions)\n",
        "confusionMatrix(cm)"
      ]
    },
    {
      "cell_type": "code",
      "source": [
        "data2=head(data1,100000)\n",
        "## Data pre-processing\n",
        "data2 = subset(data2, select = -c(CONTRIBUTING.FACTOR.VEHICLE.1,LATITUDE,LONGITUDE,wind_deg,temp_min,temp_max,dew_point,CONTRIBUTING.FACTOR.VEHICLE.2,COLLISION_ID,X,VEHICLE.TYPE.CODE.1,VEHICLE.TYPE.CODE.2,ON.STREET.NAME,CROSS.STREET.NAME,OFF.STREET.NAME, VEHICLE_ID,weather_id,clouds_all,rain_1h,wind_gust,weather_icon,rain_3h,snow_3h,sea_level,grnd_level,snow_1h) )\n",
        "names(data2)[names(data2) == \"KILLED.INJURED\"] <- \"KILLED_INJURED\"\n",
        "colSums(is.na(data2))\n",
        "data2$CRASH_DATE=as.Date(data2$CRASH_DATE, format = \"%Y-%m-%d\")\n",
        "nrow(data2)\n",
        "data2=data2[!is.na(data2$visibility),]\n",
        "nrow(data2)\n",
        "data2=data2[!is.na(data2$KILLED_INJURED),]\n",
        "data2$KILLED_INJURED <- as.factor(data2$KILLED_INJURED)\n",
        "nrow(data2)\n",
        "data2$weather_main <- as.factor(data2$weather_main)\n",
        "data2$weather_description <- as.factor(data2$weather_description)\n",
        "data2$PERSON_SEX <- as.factor(data2$PERSON_SEX)\n",
        "data2$WEEKDAY <- as.factor(data2$WEEKDAY)\n",
        "set.seed(1)\n",
        "sample = sample.split(data2, SplitRatio = 0.80)\n",
        "training = subset(data2, sample == TRUE)\n",
        "test = subset(data2, sample == FALSE)\n",
        "rm(sample)\n",
        "str(training)\n",
        "str(test)\n",
        "hyper_grid <- expand.grid(\n",
        "  mtry       = 13,\n",
        "  node_size  = 2,\n",
        "  num.trees = seq(100,700, by = 100),\n",
        "  OOB_RMSE   = 0\n",
        ")\n",
        "for(i in 1:nrow(hyper_grid)) {\n",
        "  model <- ranger(\n",
        "    formula         = KILLED_INJURED~., \n",
        "    data            = training, \n",
        "    num.trees       = hyper_grid$num.trees[i],\n",
        "    mtry            = hyper_grid$mtry[i],\n",
        "    min.node.size   = hyper_grid$node_size[i],\n",
        "    seed            = 123\n",
        "  )\n",
        "  \n",
        "  # add OOB error to grid\n",
        "  hyper_grid$OOB_RMSE[i] <- sqrt(model$prediction.error)\n",
        "}\n",
        "hyper_grid %>% \n",
        "  dplyr::arrange(OOB_RMSE) %>%\n",
        "  head(10)\n"
      ],
      "metadata": {
        "colab": {
          "base_uri": "https://localhost:8080/",
          "height": 1000
        },
        "id": "Q5WsxVnYqdSQ",
        "outputId": "73761089-a1bd-4f0f-9761-0edde803f0d5"
      },
      "execution_count": null,
      "outputs": [
        {
          "output_type": "display_data",
          "data": {
            "text/html": [
              "<style>\n",
              ".dl-inline {width: auto; margin:0; padding: 0}\n",
              ".dl-inline>dt, .dl-inline>dd {float: none; width: auto; display: inline-block}\n",
              ".dl-inline>dt::after {content: \":\\0020\"; padding-right: .5ex}\n",
              ".dl-inline>dt:not(:first-of-type) {padding-left: .5ex}\n",
              "</style><dl class=dl-inline><dt>CRASH_DATE</dt><dd>0</dd><dt>CRASH_TIME</dt><dd>0</dd><dt>PERSON_AGE</dt><dd>0</dd><dt>PERSON_SEX</dt><dd>0</dd><dt>KILLED_INJURED</dt><dd>0</dd><dt>WEEKDAY</dt><dd>0</dd><dt>Holiday</dt><dd>0</dd><dt>temp</dt><dd>0</dd><dt>visibility</dt><dd>83</dd><dt>pressure</dt><dd>0</dd><dt>humidity</dt><dd>0</dd><dt>wind_speed</dt><dd>0</dd><dt>weather_main</dt><dd>0</dd><dt>weather_description</dt><dd>0</dd></dl>\n"
            ],
            "text/markdown": "CRASH_DATE\n:   0CRASH_TIME\n:   0PERSON_AGE\n:   0PERSON_SEX\n:   0KILLED_INJURED\n:   0WEEKDAY\n:   0Holiday\n:   0temp\n:   0visibility\n:   83pressure\n:   0humidity\n:   0wind_speed\n:   0weather_main\n:   0weather_description\n:   0\n\n",
            "text/latex": "\\begin{description*}\n\\item[CRASH\\textbackslash{}\\_DATE] 0\n\\item[CRASH\\textbackslash{}\\_TIME] 0\n\\item[PERSON\\textbackslash{}\\_AGE] 0\n\\item[PERSON\\textbackslash{}\\_SEX] 0\n\\item[KILLED\\textbackslash{}\\_INJURED] 0\n\\item[WEEKDAY] 0\n\\item[Holiday] 0\n\\item[temp] 0\n\\item[visibility] 83\n\\item[pressure] 0\n\\item[humidity] 0\n\\item[wind\\textbackslash{}\\_speed] 0\n\\item[weather\\textbackslash{}\\_main] 0\n\\item[weather\\textbackslash{}\\_description] 0\n\\end{description*}\n",
            "text/plain": [
              "         CRASH_DATE          CRASH_TIME          PERSON_AGE          PERSON_SEX \n",
              "                  0                   0                   0                   0 \n",
              "     KILLED_INJURED             WEEKDAY             Holiday                temp \n",
              "                  0                   0                   0                   0 \n",
              "         visibility            pressure            humidity          wind_speed \n",
              "                 83                   0                   0                   0 \n",
              "       weather_main weather_description \n",
              "                  0                   0 "
            ]
          },
          "metadata": {}
        },
        {
          "output_type": "display_data",
          "data": {
            "text/html": [
              "100000"
            ],
            "text/markdown": "100000",
            "text/latex": "100000",
            "text/plain": [
              "[1] 100000"
            ]
          },
          "metadata": {}
        },
        {
          "output_type": "display_data",
          "data": {
            "text/html": [
              "99917"
            ],
            "text/markdown": "99917",
            "text/latex": "99917",
            "text/plain": [
              "[1] 99917"
            ]
          },
          "metadata": {}
        },
        {
          "output_type": "display_data",
          "data": {
            "text/html": [
              "99917"
            ],
            "text/markdown": "99917",
            "text/latex": "99917",
            "text/plain": [
              "[1] 99917"
            ]
          },
          "metadata": {}
        },
        {
          "output_type": "stream",
          "name": "stdout",
          "text": [
            "'data.frame':\t78506 obs. of  14 variables:\n",
            " $ CRASH_DATE         : Date, format: \"2019-10-25\" \"2019-10-25\" ...\n",
            " $ CRASH_TIME         : int  15 15 15 15 15 15 15 15 15 15 ...\n",
            " $ PERSON_AGE         : num  33 82 33 82 42 51 51 17 42 37 ...\n",
            " $ PERSON_SEX         : Factor w/ 2 levels \"F\",\"M\": 1 2 2 2 2 2 2 2 2 2 ...\n",
            " $ KILLED_INJURED     : Factor w/ 12 levels \"0\",\"1\",\"2\",\"3\",..: 1 1 1 1 1 1 1 1 1 1 ...\n",
            " $ WEEKDAY            : Factor w/ 7 levels \"Friday\",\"Monday\",..: 1 1 1 1 1 1 1 1 1 1 ...\n",
            " $ Holiday            : chr  \"False\" \"False\" \"False\" \"False\" ...\n",
            " $ temp               : num  14.5 14.5 14.5 14.5 14.5 ...\n",
            " $ visibility         : num  10000 10000 10000 10000 10000 10000 10000 10000 10000 10000 ...\n",
            " $ pressure           : int  1027 1027 1027 1027 1027 1027 1027 1027 1027 1027 ...\n",
            " $ humidity           : int  63 63 63 63 63 63 63 63 63 63 ...\n",
            " $ wind_speed         : num  2.1 2.1 2.1 2.1 2.1 2.1 2.1 2.1 2.1 2.1 ...\n",
            " $ weather_main       : Factor w/ 10 levels \"Clear\",\"Clouds\",..: 1 1 1 1 1 1 1 1 1 1 ...\n",
            " $ weather_description: Factor w/ 18 levels \"broken clouds\",..: 15 15 15 15 15 15 15 15 15 15 ...\n",
            "'data.frame':\t21411 obs. of  14 variables:\n",
            " $ CRASH_DATE         : Date, format: \"2019-10-25\" \"2019-10-25\" ...\n",
            " $ CRASH_TIME         : int  15 15 15 15 15 15 15 15 15 15 ...\n",
            " $ PERSON_AGE         : num  33 42 42 56 30 65 25 43 38 49 ...\n",
            " $ PERSON_SEX         : Factor w/ 2 levels \"F\",\"M\": 2 2 2 2 2 2 1 1 2 1 ...\n",
            " $ KILLED_INJURED     : Factor w/ 12 levels \"0\",\"1\",\"2\",\"3\",..: 1 1 1 1 1 1 2 1 1 1 ...\n",
            " $ WEEKDAY            : Factor w/ 7 levels \"Friday\",\"Monday\",..: 1 1 1 1 1 1 1 1 1 1 ...\n",
            " $ Holiday            : chr  \"False\" \"False\" \"False\" \"False\" ...\n",
            " $ temp               : num  14.5 14.5 14.5 14.5 14.5 ...\n",
            " $ visibility         : num  10000 10000 10000 10000 10000 10000 10000 10000 10000 10000 ...\n",
            " $ pressure           : int  1027 1027 1027 1027 1027 1027 1027 1027 1027 1027 ...\n",
            " $ humidity           : int  63 63 63 63 63 63 63 63 63 63 ...\n",
            " $ wind_speed         : num  2.1 2.1 2.1 2.1 2.1 2.1 2.1 2.1 2.1 2.1 ...\n",
            " $ weather_main       : Factor w/ 10 levels \"Clear\",\"Clouds\",..: 1 1 1 1 1 1 1 1 1 1 ...\n",
            " $ weather_description: Factor w/ 18 levels \"broken clouds\",..: 15 15 15 15 15 15 15 15 15 15 ...\n",
            "Growing trees.. Progress: 81%. Estimated remaining time: 7 seconds.\n",
            "Growing trees.. Progress: 54%. Estimated remaining time: 26 seconds.\n",
            "Growing trees.. Progress: 40%. Estimated remaining time: 46 seconds.\n",
            "Growing trees.. Progress: 81%. Estimated remaining time: 14 seconds.\n",
            "Growing trees.. Progress: 32%. Estimated remaining time: 1 minute, 5 seconds.\n",
            "Growing trees.. Progress: 65%. Estimated remaining time: 33 seconds.\n",
            "Growing trees.. Progress: 97%. Estimated remaining time: 2 seconds.\n",
            "Growing trees.. Progress: 27%. Estimated remaining time: 1 minute, 23 seconds.\n",
            "Growing trees.. Progress: 54%. Estimated remaining time: 52 seconds.\n",
            "Growing trees.. Progress: 81%. Estimated remaining time: 21 seconds.\n",
            "Growing trees.. Progress: 23%. Estimated remaining time: 1 minute, 43 seconds.\n",
            "Growing trees.. Progress: 46%. Estimated remaining time: 1 minute, 11 seconds.\n",
            "Growing trees.. Progress: 70%. Estimated remaining time: 40 seconds.\n",
            "Growing trees.. Progress: 93%. Estimated remaining time: 9 seconds.\n"
          ]
        },
        {
          "output_type": "display_data",
          "data": {
            "text/html": [
              "<table class=\"dataframe\">\n",
              "<caption>A data.frame: 7 × 4</caption>\n",
              "<thead>\n",
              "\t<tr><th></th><th scope=col>mtry</th><th scope=col>node_size</th><th scope=col>num.trees</th><th scope=col>OOB_RMSE</th></tr>\n",
              "\t<tr><th></th><th scope=col>&lt;dbl&gt;</th><th scope=col>&lt;dbl&gt;</th><th scope=col>&lt;dbl&gt;</th><th scope=col>&lt;dbl&gt;</th></tr>\n",
              "</thead>\n",
              "<tbody>\n",
              "\t<tr><th scope=row>1</th><td>13</td><td>2</td><td>500</td><td>0.4483202</td></tr>\n",
              "\t<tr><th scope=row>2</th><td>13</td><td>2</td><td>600</td><td>0.4486184</td></tr>\n",
              "\t<tr><th scope=row>3</th><td>13</td><td>2</td><td>700</td><td>0.4489023</td></tr>\n",
              "\t<tr><th scope=row>4</th><td>13</td><td>2</td><td>400</td><td>0.4492143</td></tr>\n",
              "\t<tr><th scope=row>5</th><td>13</td><td>2</td><td>300</td><td>0.4499651</td></tr>\n",
              "\t<tr><th scope=row>6</th><td>13</td><td>2</td><td>200</td><td>0.4505309</td></tr>\n",
              "\t<tr><th scope=row>7</th><td>13</td><td>2</td><td>100</td><td>0.4526464</td></tr>\n",
              "</tbody>\n",
              "</table>\n"
            ],
            "text/markdown": "\nA data.frame: 7 × 4\n\n| <!--/--> | mtry &lt;dbl&gt; | node_size &lt;dbl&gt; | num.trees &lt;dbl&gt; | OOB_RMSE &lt;dbl&gt; |\n|---|---|---|---|---|\n| 1 | 13 | 2 | 500 | 0.4483202 |\n| 2 | 13 | 2 | 600 | 0.4486184 |\n| 3 | 13 | 2 | 700 | 0.4489023 |\n| 4 | 13 | 2 | 400 | 0.4492143 |\n| 5 | 13 | 2 | 300 | 0.4499651 |\n| 6 | 13 | 2 | 200 | 0.4505309 |\n| 7 | 13 | 2 | 100 | 0.4526464 |\n\n",
            "text/latex": "A data.frame: 7 × 4\n\\begin{tabular}{r|llll}\n  & mtry & node\\_size & num.trees & OOB\\_RMSE\\\\\n  & <dbl> & <dbl> & <dbl> & <dbl>\\\\\n\\hline\n\t1 & 13 & 2 & 500 & 0.4483202\\\\\n\t2 & 13 & 2 & 600 & 0.4486184\\\\\n\t3 & 13 & 2 & 700 & 0.4489023\\\\\n\t4 & 13 & 2 & 400 & 0.4492143\\\\\n\t5 & 13 & 2 & 300 & 0.4499651\\\\\n\t6 & 13 & 2 & 200 & 0.4505309\\\\\n\t7 & 13 & 2 & 100 & 0.4526464\\\\\n\\end{tabular}\n",
            "text/plain": [
              "  mtry node_size num.trees OOB_RMSE \n",
              "1 13   2         500       0.4483202\n",
              "2 13   2         600       0.4486184\n",
              "3 13   2         700       0.4489023\n",
              "4 13   2         400       0.4492143\n",
              "5 13   2         300       0.4499651\n",
              "6 13   2         200       0.4505309\n",
              "7 13   2         100       0.4526464"
            ]
          },
          "metadata": {}
        }
      ]
    },
    {
      "cell_type": "code",
      "source": [
        "randFore <- ranger(KILLED_INJURED~., data=training, mtry=13,num.trees=500,min.node.size =2)\n",
        "pred=predict(randFore,test,type=\"response\")\n",
        "cm=table(true=test$KILLED_INJURED,predic=pred$predictions)\n",
        "confusionMatrix(cm)"
      ],
      "metadata": {
        "colab": {
          "base_uri": "https://localhost:8080/",
          "height": 902
        },
        "id": "nhStqGS5q2I_",
        "outputId": "91412e8d-eef4-4252-e04d-0d41b75c4962"
      },
      "execution_count": null,
      "outputs": [
        {
          "output_type": "stream",
          "name": "stdout",
          "text": [
            "Growing trees.. Progress: 32%. Estimated remaining time: 1 minute, 4 seconds.\n",
            "Growing trees.. Progress: 65%. Estimated remaining time: 32 seconds.\n",
            "Growing trees.. Progress: 98%. Estimated remaining time: 1 seconds.\n"
          ]
        },
        {
          "output_type": "display_data",
          "data": {
            "text/plain": [
              "Confusion Matrix and Statistics\n",
              "\n",
              "    predic\n",
              "true     0     1     2     3     4     5     6     7     8    10    12    18\n",
              "  0  15011  1101   273   131    44    18    15     1     1     3     0     4\n",
              "  1   1820  1342    56    22    13     3     2     1     1     2     0     0\n",
              "  2    508    60   284    14     5     0     2     0     0     0     0     0\n",
              "  3    198    22     7   109     1     1     0     0     0     0     0     0\n",
              "  4    106    19     3     0    64     1     0     0     0     0     0     0\n",
              "  5     41     1     1     0     0    27     0     0     0     0     0     0\n",
              "  6     17     8     0     0     1     0    10     0     0     0     0     0\n",
              "  7      4     2     0     0     0     0     0     2     0     0     0     0\n",
              "  8      4     0     0     0     0     0     0     0     5     0     0     0\n",
              "  10     3     0     0     0     0     0     0     0     0     2     0     0\n",
              "  12     2     0     0     0     0     0     0     0     0     0     9     0\n",
              "  18     1     1     0     0     0     0     0     0     0     0     0     2\n",
              "\n",
              "Overall Statistics\n",
              "                                          \n",
              "               Accuracy : 0.7878          \n",
              "                 95% CI : (0.7822, 0.7932)\n",
              "    No Information Rate : 0.8274          \n",
              "    P-Value [Acc > NIR] : 1               \n",
              "                                          \n",
              "                  Kappa : 0.3736          \n",
              "                                          \n",
              " Mcnemar's Test P-Value : NA              \n",
              "\n",
              "Statistics by Class:\n",
              "\n",
              "                     Class: 0 Class: 1 Class: 2 Class: 3 Class: 4 Class: 5\n",
              "Sensitivity            0.8474  0.52504  0.45513 0.394928 0.500000 0.540000\n",
              "Specificity            0.5695  0.89817  0.97166 0.989165 0.993939 0.997987\n",
              "Pos Pred Value         0.9042  0.41140  0.32532 0.322485 0.331606 0.385714\n",
              "Neg Pred Value         0.4377  0.93311  0.98345 0.992075 0.996984 0.998922\n",
              "Prevalence             0.8274  0.11938  0.02914 0.012891 0.005978 0.002335\n",
              "Detection Rate         0.7011  0.06268  0.01326 0.005091 0.002989 0.001261\n",
              "Detection Prevalence   0.7754  0.15235  0.04077 0.015786 0.009014 0.003269\n",
              "Balanced Accuracy      0.7084  0.71160  0.71340 0.692046 0.746969 0.768993\n",
              "                     Class: 6  Class: 7  Class: 8 Class: 10 Class: 12 Class: 18\n",
              "Sensitivity          0.344828 5.000e-01 0.7142857 2.857e-01 1.0000000 3.333e-01\n",
              "Specificity          0.998784 9.997e-01 0.9998131 9.999e-01 0.9999066 9.999e-01\n",
              "Pos Pred Value       0.277778 2.500e-01 0.5555556 4.000e-01 0.8181818 5.000e-01\n",
              "Neg Pred Value       0.999111 9.999e-01 0.9999066 9.998e-01 1.0000000 9.998e-01\n",
              "Prevalence           0.001354 1.868e-04 0.0003269 3.269e-04 0.0004203 2.802e-04\n",
              "Detection Rate       0.000467 9.341e-05 0.0002335 9.341e-05 0.0004203 9.341e-05\n",
              "Detection Prevalence 0.001681 3.736e-04 0.0004203 2.335e-04 0.0005138 1.868e-04\n",
              "Balanced Accuracy    0.671806 7.499e-01 0.8570494 6.428e-01 0.9999533 6.666e-01"
            ]
          },
          "metadata": {}
        }
      ]
    },
    {
      "cell_type": "markdown",
      "source": [
        "# Different Sizes"
      ],
      "metadata": {
        "id": "AKEo6JpJ0TZ2"
      }
    },
    {
      "cell_type": "code",
      "source": [
        "## Data pre-processing\n",
        "data2=head(data1,100000)\n",
        "data2 = subset(data2, select = -c(CONTRIBUTING.FACTOR.VEHICLE.1,LATITUDE,LONGITUDE,wind_deg,temp_min,temp_max,dew_point,CONTRIBUTING.FACTOR.VEHICLE.2,COLLISION_ID,X,VEHICLE.TYPE.CODE.1,VEHICLE.TYPE.CODE.2,ON.STREET.NAME,CROSS.STREET.NAME,OFF.STREET.NAME, VEHICLE_ID,weather_id,clouds_all,rain_1h,wind_gust,weather_icon,rain_3h,snow_3h,sea_level,grnd_level,snow_1h) )\n",
        "names(data2)[names(data2) == \"KILLED.INJURED\"] <- \"KILLED_INJURED\"\n",
        "colSums(is.na(data2))\n",
        "data2$CRASH_DATE=as.Date(data2$CRASH_DATE, format = \"%Y-%m-%d\")\n",
        "nrow(data2)\n",
        "data2=data2[!is.na(data2$visibility),]\n",
        "nrow(data2)\n",
        "data2=data2[!is.na(data2$KILLED_INJURED),]\n",
        "data2$KILLED_INJURED <- as.factor(data2$KILLED_INJURED)\n",
        "nrow(data2)\n",
        "data2$weather_main <- as.factor(data2$weather_main)\n",
        "data2$weather_description <- as.factor(data2$weather_description)\n",
        "data2$PERSON_SEX <- as.factor(data2$PERSON_SEX)\n",
        "data2$WEEKDAY <- as.factor(data2$WEEKDAY)\n",
        "set.seed(1)\n",
        "sample = sample.split(data2, SplitRatio = 0.80)\n",
        "training = subset(data2, sample == TRUE)\n",
        "test = subset(data2, sample == FALSE)\n",
        "rm(sample)\n",
        "str(training)\n",
        "str(test)\n",
        "randFore100m5 <- ranger(KILLED_INJURED~., data=training, mtry=13,num.trees=100,min.node.size =2)\n",
        "print(randFore100m5)\n",
        "pred=predict(randFore100m5,test,type=\"response\")\n",
        "cm=table(true=test$KILLED_INJURED,predic=pred$predictions)\n",
        "confusionMatrix(cm)"
      ],
      "metadata": {
        "colab": {
          "base_uri": "https://localhost:8080/",
          "height": 1000
        },
        "id": "912c0I0z0YIl",
        "outputId": "c1139d07-d06e-4ef8-e01c-bf7ddaae0c87"
      },
      "execution_count": null,
      "outputs": [
        {
          "output_type": "display_data",
          "data": {
            "text/html": [
              "<style>\n",
              ".dl-inline {width: auto; margin:0; padding: 0}\n",
              ".dl-inline>dt, .dl-inline>dd {float: none; width: auto; display: inline-block}\n",
              ".dl-inline>dt::after {content: \":\\0020\"; padding-right: .5ex}\n",
              ".dl-inline>dt:not(:first-of-type) {padding-left: .5ex}\n",
              "</style><dl class=dl-inline><dt>CRASH_DATE</dt><dd>0</dd><dt>CRASH_TIME</dt><dd>0</dd><dt>PERSON_AGE</dt><dd>0</dd><dt>PERSON_SEX</dt><dd>0</dd><dt>KILLED_INJURED</dt><dd>0</dd><dt>WEEKDAY</dt><dd>0</dd><dt>Holiday</dt><dd>0</dd><dt>temp</dt><dd>0</dd><dt>visibility</dt><dd>83</dd><dt>pressure</dt><dd>0</dd><dt>humidity</dt><dd>0</dd><dt>wind_speed</dt><dd>0</dd><dt>weather_main</dt><dd>0</dd><dt>weather_description</dt><dd>0</dd></dl>\n"
            ],
            "text/markdown": "CRASH_DATE\n:   0CRASH_TIME\n:   0PERSON_AGE\n:   0PERSON_SEX\n:   0KILLED_INJURED\n:   0WEEKDAY\n:   0Holiday\n:   0temp\n:   0visibility\n:   83pressure\n:   0humidity\n:   0wind_speed\n:   0weather_main\n:   0weather_description\n:   0\n\n",
            "text/latex": "\\begin{description*}\n\\item[CRASH\\textbackslash{}\\_DATE] 0\n\\item[CRASH\\textbackslash{}\\_TIME] 0\n\\item[PERSON\\textbackslash{}\\_AGE] 0\n\\item[PERSON\\textbackslash{}\\_SEX] 0\n\\item[KILLED\\textbackslash{}\\_INJURED] 0\n\\item[WEEKDAY] 0\n\\item[Holiday] 0\n\\item[temp] 0\n\\item[visibility] 83\n\\item[pressure] 0\n\\item[humidity] 0\n\\item[wind\\textbackslash{}\\_speed] 0\n\\item[weather\\textbackslash{}\\_main] 0\n\\item[weather\\textbackslash{}\\_description] 0\n\\end{description*}\n",
            "text/plain": [
              "         CRASH_DATE          CRASH_TIME          PERSON_AGE          PERSON_SEX \n",
              "                  0                   0                   0                   0 \n",
              "     KILLED_INJURED             WEEKDAY             Holiday                temp \n",
              "                  0                   0                   0                   0 \n",
              "         visibility            pressure            humidity          wind_speed \n",
              "                 83                   0                   0                   0 \n",
              "       weather_main weather_description \n",
              "                  0                   0 "
            ]
          },
          "metadata": {}
        },
        {
          "output_type": "display_data",
          "data": {
            "text/html": [
              "100000"
            ],
            "text/markdown": "100000",
            "text/latex": "100000",
            "text/plain": [
              "[1] 100000"
            ]
          },
          "metadata": {}
        },
        {
          "output_type": "display_data",
          "data": {
            "text/html": [
              "99917"
            ],
            "text/markdown": "99917",
            "text/latex": "99917",
            "text/plain": [
              "[1] 99917"
            ]
          },
          "metadata": {}
        },
        {
          "output_type": "display_data",
          "data": {
            "text/html": [
              "99917"
            ],
            "text/markdown": "99917",
            "text/latex": "99917",
            "text/plain": [
              "[1] 99917"
            ]
          },
          "metadata": {}
        },
        {
          "output_type": "stream",
          "name": "stdout",
          "text": [
            "'data.frame':\t78506 obs. of  14 variables:\n",
            " $ CRASH_DATE         : Date, format: \"2019-10-25\" \"2019-10-25\" ...\n",
            " $ CRASH_TIME         : int  15 15 15 15 15 15 15 15 15 15 ...\n",
            " $ PERSON_AGE         : num  33 82 33 82 42 51 51 17 42 37 ...\n",
            " $ PERSON_SEX         : Factor w/ 2 levels \"F\",\"M\": 1 2 2 2 2 2 2 2 2 2 ...\n",
            " $ KILLED_INJURED     : Factor w/ 12 levels \"0\",\"1\",\"2\",\"3\",..: 1 1 1 1 1 1 1 1 1 1 ...\n",
            " $ WEEKDAY            : Factor w/ 7 levels \"Friday\",\"Monday\",..: 1 1 1 1 1 1 1 1 1 1 ...\n",
            " $ Holiday            : chr  \"False\" \"False\" \"False\" \"False\" ...\n",
            " $ temp               : num  14.5 14.5 14.5 14.5 14.5 ...\n",
            " $ visibility         : num  10000 10000 10000 10000 10000 10000 10000 10000 10000 10000 ...\n",
            " $ pressure           : int  1027 1027 1027 1027 1027 1027 1027 1027 1027 1027 ...\n",
            " $ humidity           : int  63 63 63 63 63 63 63 63 63 63 ...\n",
            " $ wind_speed         : num  2.1 2.1 2.1 2.1 2.1 2.1 2.1 2.1 2.1 2.1 ...\n",
            " $ weather_main       : Factor w/ 10 levels \"Clear\",\"Clouds\",..: 1 1 1 1 1 1 1 1 1 1 ...\n",
            " $ weather_description: Factor w/ 18 levels \"broken clouds\",..: 15 15 15 15 15 15 15 15 15 15 ...\n",
            "'data.frame':\t21411 obs. of  14 variables:\n",
            " $ CRASH_DATE         : Date, format: \"2019-10-25\" \"2019-10-25\" ...\n",
            " $ CRASH_TIME         : int  15 15 15 15 15 15 15 15 15 15 ...\n",
            " $ PERSON_AGE         : num  33 42 42 56 30 65 25 43 38 49 ...\n",
            " $ PERSON_SEX         : Factor w/ 2 levels \"F\",\"M\": 2 2 2 2 2 2 1 1 2 1 ...\n",
            " $ KILLED_INJURED     : Factor w/ 12 levels \"0\",\"1\",\"2\",\"3\",..: 1 1 1 1 1 1 2 1 1 1 ...\n",
            " $ WEEKDAY            : Factor w/ 7 levels \"Friday\",\"Monday\",..: 1 1 1 1 1 1 1 1 1 1 ...\n",
            " $ Holiday            : chr  \"False\" \"False\" \"False\" \"False\" ...\n",
            " $ temp               : num  14.5 14.5 14.5 14.5 14.5 ...\n",
            " $ visibility         : num  10000 10000 10000 10000 10000 10000 10000 10000 10000 10000 ...\n",
            " $ pressure           : int  1027 1027 1027 1027 1027 1027 1027 1027 1027 1027 ...\n",
            " $ humidity           : int  63 63 63 63 63 63 63 63 63 63 ...\n",
            " $ wind_speed         : num  2.1 2.1 2.1 2.1 2.1 2.1 2.1 2.1 2.1 2.1 ...\n",
            " $ weather_main       : Factor w/ 10 levels \"Clear\",\"Clouds\",..: 1 1 1 1 1 1 1 1 1 1 ...\n",
            " $ weather_description: Factor w/ 18 levels \"broken clouds\",..: 15 15 15 15 15 15 15 15 15 15 ...\n",
            "Ranger result\n",
            "\n",
            "Call:\n",
            " ranger(KILLED_INJURED ~ ., data = training, mtry = 13, num.trees = 100,      min.node.size = 2) \n",
            "\n",
            "Type:                             Classification \n",
            "Number of trees:                  100 \n",
            "Sample size:                      78506 \n",
            "Number of independent variables:  13 \n",
            "Mtry:                             13 \n",
            "Target node size:                 2 \n",
            "Variable importance mode:         none \n",
            "Splitrule:                        gini \n",
            "OOB prediction error:             20.46 % \n"
          ]
        },
        {
          "output_type": "display_data",
          "data": {
            "text/plain": [
              "Confusion Matrix and Statistics\n",
              "\n",
              "    predic\n",
              "true     0     1     2     3     4     5     6     7     8    10    12    18\n",
              "  0  14959  1138   287   132    44    17    16     1     1     3     0     4\n",
              "  1   1811  1353    52    23    16     2     1     1     1     2     0     0\n",
              "  2    499    65   288    14     5     0     2     0     0     0     0     0\n",
              "  3    199    21     8   108     1     1     0     0     0     0     0     0\n",
              "  4    112    16     3     0    60     1     0     0     0     1     0     0\n",
              "  5     41     1     1     0     0    27     0     0     0     0     0     0\n",
              "  6     16     9     1     0     0     0    10     0     0     0     0     0\n",
              "  7      4     2     0     0     0     0     0     2     0     0     0     0\n",
              "  8      4     0     0     0     0     0     0     0     5     0     0     0\n",
              "  10     3     0     0     0     0     0     0     0     0     2     0     0\n",
              "  12     2     0     0     0     0     0     0     0     0     0     9     0\n",
              "  18     1     1     0     0     0     0     0     0     0     0     0     2\n",
              "\n",
              "Overall Statistics\n",
              "                                          \n",
              "               Accuracy : 0.7858          \n",
              "                 95% CI : (0.7803, 0.7913)\n",
              "    No Information Rate : 0.8244          \n",
              "    P-Value [Acc > NIR] : 1               \n",
              "                                          \n",
              "                  Kappa : 0.3714          \n",
              "                                          \n",
              " Mcnemar's Test P-Value : NA              \n",
              "\n",
              "Statistics by Class:\n",
              "\n",
              "                     Class: 0 Class: 1 Class: 2 Class: 3 Class: 4 Class: 5\n",
              "Sensitivity            0.8475  0.51919  0.45000 0.389892 0.476190 0.562500\n",
              "Specificity            0.5630  0.89848  0.97184 0.989117 0.993751 0.997987\n",
              "Pos Pred Value         0.9010  0.41478  0.32990 0.319527 0.310881 0.385714\n",
              "Neg Pred Value         0.4402  0.93096  0.98286 0.991980 0.996889 0.999016\n",
              "Prevalence             0.8244  0.12171  0.02989 0.012937 0.005885 0.002242\n",
              "Detection Rate         0.6987  0.06319  0.01345 0.005044 0.002802 0.001261\n",
              "Detection Prevalence   0.7754  0.15235  0.04077 0.015786 0.009014 0.003269\n",
              "Balanced Accuracy      0.7053  0.70884  0.71092 0.689504 0.734971 0.780244\n",
              "                     Class: 6  Class: 7  Class: 8 Class: 10 Class: 12 Class: 18\n",
              "Sensitivity          0.344828 5.000e-01 0.7142857 2.500e-01 1.0000000 3.333e-01\n",
              "Specificity          0.998784 9.997e-01 0.9998131 9.999e-01 0.9999066 9.999e-01\n",
              "Pos Pred Value       0.277778 2.500e-01 0.5555556 4.000e-01 0.8181818 5.000e-01\n",
              "Neg Pred Value       0.999111 9.999e-01 0.9999066 9.997e-01 1.0000000 9.998e-01\n",
              "Prevalence           0.001354 1.868e-04 0.0003269 3.736e-04 0.0004203 2.802e-04\n",
              "Detection Rate       0.000467 9.341e-05 0.0002335 9.341e-05 0.0004203 9.341e-05\n",
              "Detection Prevalence 0.001681 3.736e-04 0.0004203 2.335e-04 0.0005138 1.868e-04\n",
              "Balanced Accuracy    0.671806 7.499e-01 0.8570494 6.249e-01 0.9999533 6.666e-01"
            ]
          },
          "metadata": {}
        }
      ]
    },
    {
      "cell_type": "code",
      "source": [
        "## Data pre-processing\n",
        "data2=head(data1,200000)\n",
        "data2 = subset(data2, select = -c(CONTRIBUTING.FACTOR.VEHICLE.1,LATITUDE,LONGITUDE,wind_deg,temp_min,temp_max,dew_point,CONTRIBUTING.FACTOR.VEHICLE.2,COLLISION_ID,X,VEHICLE.TYPE.CODE.1,VEHICLE.TYPE.CODE.2,ON.STREET.NAME,CROSS.STREET.NAME,OFF.STREET.NAME, VEHICLE_ID,weather_id,clouds_all,rain_1h,wind_gust,weather_icon,rain_3h,snow_3h,sea_level,grnd_level,snow_1h) )\n",
        "names(data2)[names(data2) == \"KILLED.INJURED\"] <- \"KILLED_INJURED\"\n",
        "colSums(is.na(data2))\n",
        "data2$CRASH_DATE=as.Date(data2$CRASH_DATE, format = \"%Y-%m-%d\")\n",
        "nrow(data2)\n",
        "data2=data2[!is.na(data2$visibility),]\n",
        "nrow(data2)\n",
        "data2=data2[!is.na(data2$KILLED_INJURED),]\n",
        "data2$KILLED_INJURED <- as.factor(data2$KILLED_INJURED)\n",
        "nrow(data2)\n",
        "data2$weather_main <- as.factor(data2$weather_main)\n",
        "data2$weather_description <- as.factor(data2$weather_description)\n",
        "data2$PERSON_SEX <- as.factor(data2$PERSON_SEX)\n",
        "data2$WEEKDAY <- as.factor(data2$WEEKDAY)\n",
        "set.seed(1)\n",
        "sample = sample.split(data2, SplitRatio = 0.80)\n",
        "training = subset(data2, sample == TRUE)\n",
        "test = subset(data2, sample == FALSE)\n",
        "rm(sample)\n",
        "str(training)\n",
        "str(test)\n",
        "randFore100m5 <- ranger(KILLED_INJURED~., data=training, mtry=13,num.trees=100,min.node.size =2)\n",
        "print(randFore100m5)\n",
        "pred=predict(randFore100m5,test,type=\"response\")\n",
        "cm=table(true=test$KILLED_INJURED,predic=pred$predictions)\n",
        "confusionMatrix(cm)"
      ],
      "metadata": {
        "colab": {
          "base_uri": "https://localhost:8080/",
          "height": 1000
        },
        "id": "_CVzN6zk0xot",
        "outputId": "a16d031c-c073-4f84-cc86-0e1cc18b8ad5"
      },
      "execution_count": null,
      "outputs": [
        {
          "output_type": "display_data",
          "data": {
            "text/html": [
              "<style>\n",
              ".dl-inline {width: auto; margin:0; padding: 0}\n",
              ".dl-inline>dt, .dl-inline>dd {float: none; width: auto; display: inline-block}\n",
              ".dl-inline>dt::after {content: \":\\0020\"; padding-right: .5ex}\n",
              ".dl-inline>dt:not(:first-of-type) {padding-left: .5ex}\n",
              "</style><dl class=dl-inline><dt>CRASH_DATE</dt><dd>0</dd><dt>CRASH_TIME</dt><dd>0</dd><dt>PERSON_AGE</dt><dd>0</dd><dt>PERSON_SEX</dt><dd>0</dd><dt>KILLED_INJURED</dt><dd>0</dd><dt>WEEKDAY</dt><dd>0</dd><dt>Holiday</dt><dd>0</dd><dt>temp</dt><dd>0</dd><dt>visibility</dt><dd>83</dd><dt>pressure</dt><dd>0</dd><dt>humidity</dt><dd>0</dd><dt>wind_speed</dt><dd>0</dd><dt>weather_main</dt><dd>0</dd><dt>weather_description</dt><dd>0</dd></dl>\n"
            ],
            "text/markdown": "CRASH_DATE\n:   0CRASH_TIME\n:   0PERSON_AGE\n:   0PERSON_SEX\n:   0KILLED_INJURED\n:   0WEEKDAY\n:   0Holiday\n:   0temp\n:   0visibility\n:   83pressure\n:   0humidity\n:   0wind_speed\n:   0weather_main\n:   0weather_description\n:   0\n\n",
            "text/latex": "\\begin{description*}\n\\item[CRASH\\textbackslash{}\\_DATE] 0\n\\item[CRASH\\textbackslash{}\\_TIME] 0\n\\item[PERSON\\textbackslash{}\\_AGE] 0\n\\item[PERSON\\textbackslash{}\\_SEX] 0\n\\item[KILLED\\textbackslash{}\\_INJURED] 0\n\\item[WEEKDAY] 0\n\\item[Holiday] 0\n\\item[temp] 0\n\\item[visibility] 83\n\\item[pressure] 0\n\\item[humidity] 0\n\\item[wind\\textbackslash{}\\_speed] 0\n\\item[weather\\textbackslash{}\\_main] 0\n\\item[weather\\textbackslash{}\\_description] 0\n\\end{description*}\n",
            "text/plain": [
              "         CRASH_DATE          CRASH_TIME          PERSON_AGE          PERSON_SEX \n",
              "                  0                   0                   0                   0 \n",
              "     KILLED_INJURED             WEEKDAY             Holiday                temp \n",
              "                  0                   0                   0                   0 \n",
              "         visibility            pressure            humidity          wind_speed \n",
              "                 83                   0                   0                   0 \n",
              "       weather_main weather_description \n",
              "                  0                   0 "
            ]
          },
          "metadata": {}
        },
        {
          "output_type": "display_data",
          "data": {
            "text/html": [
              "200000"
            ],
            "text/markdown": "200000",
            "text/latex": "200000",
            "text/plain": [
              "[1] 200000"
            ]
          },
          "metadata": {}
        },
        {
          "output_type": "display_data",
          "data": {
            "text/html": [
              "199917"
            ],
            "text/markdown": "199917",
            "text/latex": "199917",
            "text/plain": [
              "[1] 199917"
            ]
          },
          "metadata": {}
        },
        {
          "output_type": "display_data",
          "data": {
            "text/html": [
              "199917"
            ],
            "text/markdown": "199917",
            "text/latex": "199917",
            "text/plain": [
              "[1] 199917"
            ]
          },
          "metadata": {}
        },
        {
          "output_type": "stream",
          "name": "stdout",
          "text": [
            "'data.frame':\t157077 obs. of  14 variables:\n",
            " $ CRASH_DATE         : Date, format: \"2019-10-25\" \"2019-10-25\" ...\n",
            " $ CRASH_TIME         : int  15 15 15 15 15 15 15 15 15 15 ...\n",
            " $ PERSON_AGE         : num  33 82 33 82 42 51 51 17 42 37 ...\n",
            " $ PERSON_SEX         : Factor w/ 2 levels \"F\",\"M\": 1 2 2 2 2 2 2 2 2 2 ...\n",
            " $ KILLED_INJURED     : Factor w/ 15 levels \"0\",\"1\",\"2\",\"3\",..: 1 1 1 1 1 1 1 1 1 1 ...\n",
            " $ WEEKDAY            : Factor w/ 7 levels \"Friday\",\"Monday\",..: 1 1 1 1 1 1 1 1 1 1 ...\n",
            " $ Holiday            : chr  \"False\" \"False\" \"False\" \"False\" ...\n",
            " $ temp               : num  14.5 14.5 14.5 14.5 14.5 ...\n",
            " $ visibility         : num  10000 10000 10000 10000 10000 10000 10000 10000 10000 10000 ...\n",
            " $ pressure           : int  1027 1027 1027 1027 1027 1027 1027 1027 1027 1027 ...\n",
            " $ humidity           : int  63 63 63 63 63 63 63 63 63 63 ...\n",
            " $ wind_speed         : num  2.1 2.1 2.1 2.1 2.1 2.1 2.1 2.1 2.1 2.1 ...\n",
            " $ weather_main       : Factor w/ 11 levels \"Clear\",\"Clouds\",..: 1 1 1 1 1 1 1 1 1 1 ...\n",
            " $ weather_description: Factor w/ 20 levels \"broken clouds\",..: 15 15 15 15 15 15 15 15 15 15 ...\n",
            "'data.frame':\t42840 obs. of  14 variables:\n",
            " $ CRASH_DATE         : Date, format: \"2019-10-25\" \"2019-10-25\" ...\n",
            " $ CRASH_TIME         : int  15 15 15 15 15 15 15 15 15 15 ...\n",
            " $ PERSON_AGE         : num  33 42 42 56 30 65 25 43 38 49 ...\n",
            " $ PERSON_SEX         : Factor w/ 2 levels \"F\",\"M\": 2 2 2 2 2 2 1 1 2 1 ...\n",
            " $ KILLED_INJURED     : Factor w/ 15 levels \"0\",\"1\",\"2\",\"3\",..: 1 1 1 1 1 1 2 1 1 1 ...\n",
            " $ WEEKDAY            : Factor w/ 7 levels \"Friday\",\"Monday\",..: 1 1 1 1 1 1 1 1 1 1 ...\n",
            " $ Holiday            : chr  \"False\" \"False\" \"False\" \"False\" ...\n",
            " $ temp               : num  14.5 14.5 14.5 14.5 14.5 ...\n",
            " $ visibility         : num  10000 10000 10000 10000 10000 10000 10000 10000 10000 10000 ...\n",
            " $ pressure           : int  1027 1027 1027 1027 1027 1027 1027 1027 1027 1027 ...\n",
            " $ humidity           : int  63 63 63 63 63 63 63 63 63 63 ...\n",
            " $ wind_speed         : num  2.1 2.1 2.1 2.1 2.1 2.1 2.1 2.1 2.1 2.1 ...\n",
            " $ weather_main       : Factor w/ 11 levels \"Clear\",\"Clouds\",..: 1 1 1 1 1 1 1 1 1 1 ...\n",
            " $ weather_description: Factor w/ 20 levels \"broken clouds\",..: 15 15 15 15 15 15 15 15 15 15 ...\n",
            "Growing trees.. Progress: 60%. Estimated remaining time: 20 seconds.\n",
            "Ranger result\n",
            "\n",
            "Call:\n",
            " ranger(KILLED_INJURED ~ ., data = training, mtry = 13, num.trees = 100,      min.node.size = 2) \n",
            "\n",
            "Type:                             Classification \n",
            "Number of trees:                  100 \n",
            "Sample size:                      157077 \n",
            "Number of independent variables:  13 \n",
            "Mtry:                             13 \n",
            "Target node size:                 2 \n",
            "Variable importance mode:         none \n",
            "Splitrule:                        gini \n",
            "OOB prediction error:             20.00 % \n"
          ]
        },
        {
          "output_type": "display_data",
          "data": {
            "text/plain": [
              "Confusion Matrix and Statistics\n",
              "\n",
              "    predic\n",
              "true     0     1     2     3     4     5     6     7     8     9    10    11\n",
              "  0  30334  2160   563   273    75    38    30     5     8     3     6     0\n",
              "  1   3520  2485   104    46    28     8     2     2     2     0     2     0\n",
              "  2   1016   119   566    24     8     4     2     0     0     0     0     0\n",
              "  3    460    47    15   243     2     1     1     0     0     0     0     0\n",
              "  4    182    29     9     1    98     3     0     0     0     0     0     0\n",
              "  5     95     9     7     1     0    57     1     0     0     0     0     0\n",
              "  6     34    11     0     0     1     0    19     0     0     0     0     0\n",
              "  7     16     2     0     0     0     0     0     6     0     0     0     0\n",
              "  8      7     1     0     0     0     0     0     0    10     0     0     0\n",
              "  9      0     0     0     0     0     0     0     0     0     0     0     0\n",
              "  10     5     0     0     1     0     0     0     0     0     0     6     0\n",
              "  11     0     1     0     0     0     0     0     0     0     0     0     0\n",
              "  12     2     0     0     0     0     0     0     0     0     0     0     0\n",
              "  16     2     1     0     0     0     0     0     0     0     0     0     0\n",
              "  18     1     1     0     0     0     0     0     0     0     0     0     0\n",
              "    predic\n",
              "true    12    16    18\n",
              "  0      2     0     4\n",
              "  1      0     0     0\n",
              "  2      0     0     0\n",
              "  3      0     0     0\n",
              "  4      0     0     0\n",
              "  5      0     0     0\n",
              "  6      0     0     0\n",
              "  7      0     0     0\n",
              "  8      0     0     0\n",
              "  9      0     0     0\n",
              "  10     0     0     0\n",
              "  11     0     0     0\n",
              "  12     9     0     0\n",
              "  16     0     2     0\n",
              "  18     0     0     2\n",
              "\n",
              "Overall Statistics\n",
              "                                         \n",
              "               Accuracy : 0.7898         \n",
              "                 95% CI : (0.786, 0.7937)\n",
              "    No Information Rate : 0.8327         \n",
              "    P-Value [Acc > NIR] : 1              \n",
              "                                         \n",
              "                  Kappa : 0.3649         \n",
              "                                         \n",
              " Mcnemar's Test P-Value : NA             \n",
              "\n",
              "Statistics by Class:\n",
              "\n",
              "                     Class: 0 Class: 1 Class: 2 Class: 3 Class: 4 Class: 5\n",
              "Sensitivity            0.8503  0.51069  0.44778 0.412564 0.462264 0.513514\n",
              "Specificity            0.5581  0.90220  0.97179 0.987551 0.994745 0.997355\n",
              "Pos Pred Value         0.9055  0.40087  0.32547 0.315995 0.304348 0.335294\n",
              "Neg Pred Value         0.4282  0.93502  0.98302 0.991776 0.997319 0.998734\n",
              "Prevalence             0.8327  0.11359  0.02951 0.013749 0.004949 0.002591\n",
              "Detection Rate         0.7081  0.05801  0.01321 0.005672 0.002288 0.001331\n",
              "Detection Prevalence   0.7820  0.14470  0.04059 0.017951 0.007516 0.003968\n",
              "Balanced Accuracy      0.7042  0.70644  0.70979 0.700057 0.728505 0.755434\n",
              "                      Class: 6  Class: 7  Class: 8  Class: 9 Class: 10\n",
              "Sensitivity          0.3454545 0.4615385 0.5000000 0.000e+00 0.4285714\n",
              "Specificity          0.9989249 0.9995797 0.9998132 1.000e+00 0.9998599\n",
              "Pos Pred Value       0.2923077 0.2500000 0.5555556       NaN 0.5000000\n",
              "Neg Pred Value       0.9991584 0.9998365 0.9997665 9.999e-01 0.9998132\n",
              "Prevalence           0.0012838 0.0003035 0.0004669 7.003e-05 0.0003268\n",
              "Detection Rate       0.0004435 0.0001401 0.0002334 0.000e+00 0.0001401\n",
              "Detection Prevalence 0.0015173 0.0005602 0.0004202 0.000e+00 0.0002801\n",
              "Balanced Accuracy    0.6721897 0.7305591 0.7499066 5.000e-01 0.7142157\n",
              "                     Class: 11 Class: 12 Class: 16 Class: 18\n",
              "Sensitivity                 NA 0.8181818 1.000e+00 3.333e-01\n",
              "Specificity          1.000e+00 0.9999533 9.999e-01 1.000e+00\n",
              "Pos Pred Value              NA 0.8181818 4.000e-01 5.000e-01\n",
              "Neg Pred Value              NA 0.9999533 1.000e+00 9.999e-01\n",
              "Prevalence           0.000e+00 0.0002568 4.669e-05 1.401e-04\n",
              "Detection Rate       0.000e+00 0.0002101 4.669e-05 4.669e-05\n",
              "Detection Prevalence 2.334e-05 0.0002568 1.167e-04 9.337e-05\n",
              "Balanced Accuracy           NA 0.9090676 1.000e+00 6.666e-01"
            ]
          },
          "metadata": {}
        }
      ]
    },
    {
      "cell_type": "code",
      "source": [
        "## Data pre-processing\n",
        "data2=head(data1,500000)\n",
        "data2 = subset(data2, select = -c(CONTRIBUTING.FACTOR.VEHICLE.1,LATITUDE,LONGITUDE,wind_deg,temp_min,temp_max,dew_point,CONTRIBUTING.FACTOR.VEHICLE.2,COLLISION_ID,X,VEHICLE.TYPE.CODE.1,VEHICLE.TYPE.CODE.2,ON.STREET.NAME,CROSS.STREET.NAME,OFF.STREET.NAME, VEHICLE_ID,weather_id,clouds_all,rain_1h,wind_gust,weather_icon,rain_3h,snow_3h,sea_level,grnd_level,snow_1h) )\n",
        "names(data2)[names(data2) == \"KILLED.INJURED\"] <- \"KILLED_INJURED\"\n",
        "colSums(is.na(data2))\n",
        "data2$CRASH_DATE=as.Date(data2$CRASH_DATE, format = \"%Y-%m-%d\")\n",
        "nrow(data2)\n",
        "data2=data2[!is.na(data2$visibility),]\n",
        "nrow(data2)\n",
        "data2=data2[!is.na(data2$KILLED_INJURED),]\n",
        "data2$KILLED_INJURED <- as.factor(data2$KILLED_INJURED)\n",
        "nrow(data2)\n",
        "data2$weather_main <- as.factor(data2$weather_main)\n",
        "data2$weather_description <- as.factor(data2$weather_description)\n",
        "data2$PERSON_SEX <- as.factor(data2$PERSON_SEX)\n",
        "data2$WEEKDAY <- as.factor(data2$WEEKDAY)\n",
        "set.seed(1)\n",
        "sample = sample.split(data2, SplitRatio = 0.80)\n",
        "training = subset(data2, sample == TRUE)\n",
        "test = subset(data2, sample == FALSE)\n",
        "rm(sample)\n",
        "str(training)\n",
        "str(test)\n",
        "randFore100m5 <- ranger(KILLED_INJURED~., data=training, mtry=13,num.trees=100,min.node.size =2)\n",
        "print(randFore100m5)\n",
        "pred=predict(randFore100m5,test,type=\"response\")\n",
        "cm=table(true=test$KILLED_INJURED,predic=pred$predictions)\n",
        "confusionMatrix(cm)"
      ],
      "metadata": {
        "colab": {
          "base_uri": "https://localhost:8080/",
          "height": 1000
        },
        "id": "aTFv2RO82vEF",
        "outputId": "40211680-407b-4ecd-d937-ad670c753e70"
      },
      "execution_count": null,
      "outputs": [
        {
          "output_type": "display_data",
          "data": {
            "text/html": [
              "<style>\n",
              ".dl-inline {width: auto; margin:0; padding: 0}\n",
              ".dl-inline>dt, .dl-inline>dd {float: none; width: auto; display: inline-block}\n",
              ".dl-inline>dt::after {content: \":\\0020\"; padding-right: .5ex}\n",
              ".dl-inline>dt:not(:first-of-type) {padding-left: .5ex}\n",
              "</style><dl class=dl-inline><dt>CRASH_DATE</dt><dd>0</dd><dt>CRASH_TIME</dt><dd>0</dd><dt>PERSON_AGE</dt><dd>0</dd><dt>PERSON_SEX</dt><dd>0</dd><dt>KILLED_INJURED</dt><dd>1</dd><dt>WEEKDAY</dt><dd>0</dd><dt>Holiday</dt><dd>0</dd><dt>temp</dt><dd>0</dd><dt>visibility</dt><dd>442</dd><dt>pressure</dt><dd>0</dd><dt>humidity</dt><dd>0</dd><dt>wind_speed</dt><dd>0</dd><dt>weather_main</dt><dd>0</dd><dt>weather_description</dt><dd>0</dd></dl>\n"
            ],
            "text/markdown": "CRASH_DATE\n:   0CRASH_TIME\n:   0PERSON_AGE\n:   0PERSON_SEX\n:   0KILLED_INJURED\n:   1WEEKDAY\n:   0Holiday\n:   0temp\n:   0visibility\n:   442pressure\n:   0humidity\n:   0wind_speed\n:   0weather_main\n:   0weather_description\n:   0\n\n",
            "text/latex": "\\begin{description*}\n\\item[CRASH\\textbackslash{}\\_DATE] 0\n\\item[CRASH\\textbackslash{}\\_TIME] 0\n\\item[PERSON\\textbackslash{}\\_AGE] 0\n\\item[PERSON\\textbackslash{}\\_SEX] 0\n\\item[KILLED\\textbackslash{}\\_INJURED] 1\n\\item[WEEKDAY] 0\n\\item[Holiday] 0\n\\item[temp] 0\n\\item[visibility] 442\n\\item[pressure] 0\n\\item[humidity] 0\n\\item[wind\\textbackslash{}\\_speed] 0\n\\item[weather\\textbackslash{}\\_main] 0\n\\item[weather\\textbackslash{}\\_description] 0\n\\end{description*}\n",
            "text/plain": [
              "         CRASH_DATE          CRASH_TIME          PERSON_AGE          PERSON_SEX \n",
              "                  0                   0                   0                   0 \n",
              "     KILLED_INJURED             WEEKDAY             Holiday                temp \n",
              "                  1                   0                   0                   0 \n",
              "         visibility            pressure            humidity          wind_speed \n",
              "                442                   0                   0                   0 \n",
              "       weather_main weather_description \n",
              "                  0                   0 "
            ]
          },
          "metadata": {}
        },
        {
          "output_type": "display_data",
          "data": {
            "text/html": [
              "500000"
            ],
            "text/markdown": "500000",
            "text/latex": "500000",
            "text/plain": [
              "[1] 500000"
            ]
          },
          "metadata": {}
        },
        {
          "output_type": "display_data",
          "data": {
            "text/html": [
              "499558"
            ],
            "text/markdown": "499558",
            "text/latex": "499558",
            "text/plain": [
              "[1] 499558"
            ]
          },
          "metadata": {}
        },
        {
          "output_type": "display_data",
          "data": {
            "text/html": [
              "499557"
            ],
            "text/markdown": "499557",
            "text/latex": "499557",
            "text/plain": [
              "[1] 499557"
            ]
          },
          "metadata": {}
        },
        {
          "output_type": "stream",
          "name": "stdout",
          "text": [
            "'data.frame':\t392508 obs. of  14 variables:\n",
            " $ CRASH_DATE         : Date, format: \"2019-10-25\" \"2019-10-25\" ...\n",
            " $ CRASH_TIME         : int  15 15 15 15 15 15 15 15 15 15 ...\n",
            " $ PERSON_AGE         : num  33 82 33 82 42 51 51 17 42 37 ...\n",
            " $ PERSON_SEX         : Factor w/ 2 levels \"F\",\"M\": 1 2 2 2 2 2 2 2 2 2 ...\n",
            " $ KILLED_INJURED     : Factor w/ 16 levels \"0\",\"1\",\"2\",\"3\",..: 1 1 1 1 1 1 1 1 1 1 ...\n",
            " $ WEEKDAY            : Factor w/ 7 levels \"Friday\",\"Monday\",..: 1 1 1 1 1 1 1 1 1 1 ...\n",
            " $ Holiday            : chr  \"False\" \"False\" \"False\" \"False\" ...\n",
            " $ temp               : num  14.5 14.5 14.5 14.5 14.5 ...\n",
            " $ visibility         : num  10000 10000 10000 10000 10000 10000 10000 10000 10000 10000 ...\n",
            " $ pressure           : int  1027 1027 1027 1027 1027 1027 1027 1027 1027 1027 ...\n",
            " $ humidity           : int  63 63 63 63 63 63 63 63 63 63 ...\n",
            " $ wind_speed         : num  2.1 2.1 2.1 2.1 2.1 2.1 2.1 2.1 2.1 2.1 ...\n",
            " $ weather_main       : Factor w/ 11 levels \"Clear\",\"Clouds\",..: 1 1 1 1 1 1 1 1 1 1 ...\n",
            " $ weather_description: Factor w/ 24 levels \"broken clouds\",..: 17 17 17 17 17 17 17 17 17 17 ...\n",
            "'data.frame':\t107049 obs. of  14 variables:\n",
            " $ CRASH_DATE         : Date, format: \"2019-10-25\" \"2019-10-25\" ...\n",
            " $ CRASH_TIME         : int  15 15 15 15 15 15 15 15 15 15 ...\n",
            " $ PERSON_AGE         : num  33 42 42 56 30 65 25 43 38 49 ...\n",
            " $ PERSON_SEX         : Factor w/ 2 levels \"F\",\"M\": 2 2 2 2 2 2 1 1 2 1 ...\n",
            " $ KILLED_INJURED     : Factor w/ 16 levels \"0\",\"1\",\"2\",\"3\",..: 1 1 1 1 1 1 2 1 1 1 ...\n",
            " $ WEEKDAY            : Factor w/ 7 levels \"Friday\",\"Monday\",..: 1 1 1 1 1 1 1 1 1 1 ...\n",
            " $ Holiday            : chr  \"False\" \"False\" \"False\" \"False\" ...\n",
            " $ temp               : num  14.5 14.5 14.5 14.5 14.5 ...\n",
            " $ visibility         : num  10000 10000 10000 10000 10000 10000 10000 10000 10000 10000 ...\n",
            " $ pressure           : int  1027 1027 1027 1027 1027 1027 1027 1027 1027 1027 ...\n",
            " $ humidity           : int  63 63 63 63 63 63 63 63 63 63 ...\n",
            " $ wind_speed         : num  2.1 2.1 2.1 2.1 2.1 2.1 2.1 2.1 2.1 2.1 ...\n",
            " $ weather_main       : Factor w/ 11 levels \"Clear\",\"Clouds\",..: 1 1 1 1 1 1 1 1 1 1 ...\n",
            " $ weather_description: Factor w/ 24 levels \"broken clouds\",..: 17 17 17 17 17 17 17 17 17 17 ...\n",
            "Growing trees.. Progress: 14%. Estimated remaining time: 3 minutes, 10 seconds.\n",
            "Growing trees.. Progress: 33%. Estimated remaining time: 2 minutes, 11 seconds.\n",
            "Growing trees.. Progress: 53%. Estimated remaining time: 1 minute, 27 seconds.\n",
            "Growing trees.. Progress: 73%. Estimated remaining time: 49 seconds.\n",
            "Growing trees.. Progress: 93%. Estimated remaining time: 12 seconds.\n",
            "Ranger result\n",
            "\n",
            "Call:\n",
            " ranger(KILLED_INJURED ~ ., data = training, mtry = 13, num.trees = 100,      min.node.size = 2) \n",
            "\n",
            "Type:                             Classification \n",
            "Number of trees:                  100 \n",
            "Sample size:                      392508 \n",
            "Number of independent variables:  13 \n",
            "Mtry:                             13 \n",
            "Target node size:                 2 \n",
            "Variable importance mode:         none \n",
            "Splitrule:                        gini \n",
            "OOB prediction error:             20.16 % \n"
          ]
        },
        {
          "output_type": "display_data",
          "data": {
            "text/plain": [
              "Confusion Matrix and Statistics\n",
              "\n",
              "    predic\n",
              "true     0     1     2     3     4     5     6     7     8     9    10    11\n",
              "  0  76034  5362  1422   589   236   119    66    12    26     7    10     1\n",
              "  1   8952  5907   304   107    59    31     8     7     3     0     3     0\n",
              "  2   2618   332  1445    52    19     6     3     0     1     0     0     0\n",
              "  3   1096   136    33   587     8     4     0     0     1     0     0     0\n",
              "  4    439    60    19     7   201     3     2     0     0     0     1     0\n",
              "  5    193    18    18     5     1   131     1     0     0     0     0     0\n",
              "  6     86    15     3     0     1     0    51     0     0     0     0     0\n",
              "  7     33     5     1     0     0     0     0    12     0     0     0     0\n",
              "  8     23     4     1     0     0     0     0     0    23     0     0     0\n",
              "  9     10     0     0     0     0     0     0     0     0     4     0     0\n",
              "  10    13     0     0     0     0     0     0     0     0     0     8     0\n",
              "  11     3     1     0     0     0     0     0     0     0     0     0     3\n",
              "  12     6     0     0     0     0     0     0     0     0     0     0     0\n",
              "  13     2     1     0     0     0     0     0     0     0     0     0     0\n",
              "  16     2     1     0     0     0     0     0     0     0     0     0     0\n",
              "  18     4     2     0     0     0     0     0     0     0     0     0     0\n",
              "    predic\n",
              "true    12    13    16    18\n",
              "  0      3     1     0     5\n",
              "  1      0     1     1     0\n",
              "  2      0     0     1     0\n",
              "  3      0     0     0     0\n",
              "  4      0     0     0     0\n",
              "  5      0     0     0     0\n",
              "  6      0     0     0     0\n",
              "  7      0     0     0     0\n",
              "  8      0     0     0     0\n",
              "  9      0     0     0     0\n",
              "  10     0     0     0     0\n",
              "  11     0     0     0     0\n",
              "  12     9     0     0     0\n",
              "  13     0     2     0     0\n",
              "  16     0     0     2     0\n",
              "  18     0     0     0     1\n",
              "\n",
              "Overall Statistics\n",
              "                                          \n",
              "               Accuracy : 0.7886          \n",
              "                 95% CI : (0.7862, 0.7911)\n",
              "    No Information Rate : 0.8362          \n",
              "    P-Value [Acc > NIR] : 1               \n",
              "                                          \n",
              "                  Kappa : 0.354           \n",
              "                                          \n",
              " Mcnemar's Test P-Value : NA              \n",
              "\n",
              "Statistics by Class:\n",
              "\n",
              "                     Class: 0 Class: 1 Class: 2 Class: 3 Class: 4 Class: 5\n",
              "Sensitivity            0.8494  0.49873  0.44516 0.435783 0.382857 0.445578\n",
              "Specificity            0.5518  0.90047  0.97079 0.987909 0.995015 0.997789\n",
              "Pos Pred Value         0.9063  0.38400  0.32276 0.314745 0.274590 0.356948\n",
              "Neg Pred Value         0.4179  0.93523  0.98244 0.992775 0.996953 0.998472\n",
              "Prevalence             0.8362  0.11064  0.03032 0.012583 0.004904 0.002746\n",
              "Detection Rate         0.7103  0.05518  0.01350 0.005483 0.001878 0.001224\n",
              "Detection Prevalence   0.7837  0.14370  0.04182 0.017422 0.006838 0.003428\n",
              "Balanced Accuracy      0.7006  0.69960  0.70798 0.711846 0.688936 0.721684\n",
              "                      Class: 6  Class: 7  Class: 8  Class: 9 Class: 10\n",
              "Sensitivity          0.3893130 0.3870968 0.4259259 3.636e-01 3.636e-01\n",
              "Specificity          0.9990179 0.9996356 0.9997383 9.999e-01 9.999e-01\n",
              "Pos Pred Value       0.3269231 0.2352941 0.4509804 2.857e-01 3.810e-01\n",
              "Neg Pred Value       0.9992516 0.9998224 0.9997103 9.999e-01 9.999e-01\n",
              "Prevalence           0.0012237 0.0002896 0.0005044 1.028e-04 2.055e-04\n",
              "Detection Rate       0.0004764 0.0001121 0.0002149 3.737e-05 7.473e-05\n",
              "Detection Prevalence 0.0014573 0.0004764 0.0004764 1.308e-04 1.962e-04\n",
              "Balanced Accuracy    0.6941655 0.6933662 0.7128321 6.818e-01 6.818e-01\n",
              "                     Class: 11 Class: 12 Class: 13 Class: 16 Class: 18\n",
              "Sensitivity          7.500e-01 7.500e-01 5.000e-01 5.000e-01 1.667e-01\n",
              "Specificity          1.000e+00 9.999e-01 1.000e+00 1.000e+00 9.999e-01\n",
              "Pos Pred Value       4.286e-01 6.000e-01 4.000e-01 4.000e-01 1.429e-01\n",
              "Neg Pred Value       1.000e+00 1.000e+00 1.000e+00 1.000e+00 1.000e+00\n",
              "Prevalence           3.737e-05 1.121e-04 3.737e-05 3.737e-05 5.605e-05\n",
              "Detection Rate       2.802e-05 8.407e-05 1.868e-05 1.868e-05 9.342e-06\n",
              "Detection Prevalence 6.539e-05 1.401e-04 4.671e-05 4.671e-05 6.539e-05\n",
              "Balanced Accuracy    8.750e-01 8.750e-01 7.500e-01 7.500e-01 5.833e-01"
            ]
          },
          "metadata": {}
        }
      ]
    },
    {
      "cell_type": "code",
      "source": [
        "## Data pre-processing\n",
        "data2=head(data1,1000000)\n",
        "data2 = subset(data2, select = -c(CONTRIBUTING.FACTOR.VEHICLE.1,LATITUDE,LONGITUDE,wind_deg,temp_min,temp_max,dew_point,CONTRIBUTING.FACTOR.VEHICLE.2,COLLISION_ID,X,VEHICLE.TYPE.CODE.1,VEHICLE.TYPE.CODE.2,ON.STREET.NAME,CROSS.STREET.NAME,OFF.STREET.NAME, VEHICLE_ID,weather_id,clouds_all,rain_1h,wind_gust,weather_icon,rain_3h,snow_3h,sea_level,grnd_level,snow_1h) )\n",
        "names(data2)[names(data2) == \"KILLED.INJURED\"] <- \"KILLED_INJURED\"\n",
        "colSums(is.na(data2))\n",
        "data2$CRASH_DATE=as.Date(data2$CRASH_DATE, format = \"%Y-%m-%d\")\n",
        "nrow(data2)\n",
        "data2=data2[!is.na(data2$visibility),]\n",
        "nrow(data2)\n",
        "data2=data2[!is.na(data2$KILLED_INJURED),]\n",
        "data2$KILLED_INJURED <- as.factor(data2$KILLED_INJURED)\n",
        "nrow(data2)\n",
        "data2$weather_main <- as.factor(data2$weather_main)\n",
        "data2$weather_description <- as.factor(data2$weather_description)\n",
        "data2$PERSON_SEX <- as.factor(data2$PERSON_SEX)\n",
        "data2$WEEKDAY <- as.factor(data2$WEEKDAY)\n",
        "set.seed(1)\n",
        "sample = sample.split(data2, SplitRatio = 0.80)\n",
        "training = subset(data2, sample == TRUE)\n",
        "test = subset(data2, sample == FALSE)\n",
        "rm(sample)\n",
        "str(training)\n",
        "str(test)\n",
        "randFore100m5 <- ranger(KILLED_INJURED~., data=training, mtry=13,num.trees=100,min.node.size =2)\n",
        "print(randFore100m5)\n",
        "pred=predict(randFore100m5,test,type=\"response\")\n",
        "cm=table(true=test$KILLED_INJURED,predic=pred$predictions)\n",
        "confusionMatrix(cm)"
      ],
      "metadata": {
        "colab": {
          "base_uri": "https://localhost:8080/",
          "height": 1000
        },
        "id": "xwyMP5T22v8i",
        "outputId": "e8a8d2a1-d6b2-422e-87aa-74a265fd43b0"
      },
      "execution_count": null,
      "outputs": [
        {
          "output_type": "display_data",
          "data": {
            "text/html": [
              "<style>\n",
              ".dl-inline {width: auto; margin:0; padding: 0}\n",
              ".dl-inline>dt, .dl-inline>dd {float: none; width: auto; display: inline-block}\n",
              ".dl-inline>dt::after {content: \":\\0020\"; padding-right: .5ex}\n",
              ".dl-inline>dt:not(:first-of-type) {padding-left: .5ex}\n",
              "</style><dl class=dl-inline><dt>CRASH_DATE</dt><dd>0</dd><dt>CRASH_TIME</dt><dd>0</dd><dt>PERSON_AGE</dt><dd>0</dd><dt>PERSON_SEX</dt><dd>0</dd><dt>KILLED_INJURED</dt><dd>22</dd><dt>WEEKDAY</dt><dd>0</dd><dt>Holiday</dt><dd>0</dd><dt>temp</dt><dd>0</dd><dt>visibility</dt><dd>1106</dd><dt>pressure</dt><dd>0</dd><dt>humidity</dt><dd>0</dd><dt>wind_speed</dt><dd>0</dd><dt>weather_main</dt><dd>0</dd><dt>weather_description</dt><dd>0</dd></dl>\n"
            ],
            "text/markdown": "CRASH_DATE\n:   0CRASH_TIME\n:   0PERSON_AGE\n:   0PERSON_SEX\n:   0KILLED_INJURED\n:   22WEEKDAY\n:   0Holiday\n:   0temp\n:   0visibility\n:   1106pressure\n:   0humidity\n:   0wind_speed\n:   0weather_main\n:   0weather_description\n:   0\n\n",
            "text/latex": "\\begin{description*}\n\\item[CRASH\\textbackslash{}\\_DATE] 0\n\\item[CRASH\\textbackslash{}\\_TIME] 0\n\\item[PERSON\\textbackslash{}\\_AGE] 0\n\\item[PERSON\\textbackslash{}\\_SEX] 0\n\\item[KILLED\\textbackslash{}\\_INJURED] 22\n\\item[WEEKDAY] 0\n\\item[Holiday] 0\n\\item[temp] 0\n\\item[visibility] 1106\n\\item[pressure] 0\n\\item[humidity] 0\n\\item[wind\\textbackslash{}\\_speed] 0\n\\item[weather\\textbackslash{}\\_main] 0\n\\item[weather\\textbackslash{}\\_description] 0\n\\end{description*}\n",
            "text/plain": [
              "         CRASH_DATE          CRASH_TIME          PERSON_AGE          PERSON_SEX \n",
              "                  0                   0                   0                   0 \n",
              "     KILLED_INJURED             WEEKDAY             Holiday                temp \n",
              "                 22                   0                   0                   0 \n",
              "         visibility            pressure            humidity          wind_speed \n",
              "               1106                   0                   0                   0 \n",
              "       weather_main weather_description \n",
              "                  0                   0 "
            ]
          },
          "metadata": {}
        },
        {
          "output_type": "display_data",
          "data": {
            "text/html": [
              "1000000"
            ],
            "text/markdown": "1000000",
            "text/latex": "1000000",
            "text/plain": [
              "[1] 1000000"
            ]
          },
          "metadata": {}
        },
        {
          "output_type": "display_data",
          "data": {
            "text/html": [
              "998894"
            ],
            "text/markdown": "998894",
            "text/latex": "998894",
            "text/plain": [
              "[1] 998894"
            ]
          },
          "metadata": {}
        },
        {
          "output_type": "display_data",
          "data": {
            "text/html": [
              "998872"
            ],
            "text/markdown": "998872",
            "text/latex": "998872",
            "text/plain": [
              "[1] 998872"
            ]
          },
          "metadata": {}
        },
        {
          "output_type": "stream",
          "name": "stdout",
          "text": [
            "'data.frame':\t784828 obs. of  14 variables:\n",
            " $ CRASH_DATE         : Date, format: \"2019-10-25\" \"2019-10-25\" ...\n",
            " $ CRASH_TIME         : int  15 15 15 15 15 15 15 15 15 15 ...\n",
            " $ PERSON_AGE         : num  33 82 33 82 42 51 51 17 42 37 ...\n",
            " $ PERSON_SEX         : Factor w/ 2 levels \"F\",\"M\": 1 2 2 2 2 2 2 2 2 2 ...\n",
            " $ KILLED_INJURED     : Factor w/ 19 levels \"0\",\"1\",\"2\",\"3\",..: 1 1 1 1 1 1 1 1 1 1 ...\n",
            " $ WEEKDAY            : Factor w/ 7 levels \"Friday\",\"Monday\",..: 1 1 1 1 1 1 1 1 1 1 ...\n",
            " $ Holiday            : chr  \"False\" \"False\" \"False\" \"False\" ...\n",
            " $ temp               : num  14.5 14.5 14.5 14.5 14.5 ...\n",
            " $ visibility         : num  10000 10000 10000 10000 10000 10000 10000 10000 10000 10000 ...\n",
            " $ pressure           : int  1027 1027 1027 1027 1027 1027 1027 1027 1027 1027 ...\n",
            " $ humidity           : int  63 63 63 63 63 63 63 63 63 63 ...\n",
            " $ wind_speed         : num  2.1 2.1 2.1 2.1 2.1 2.1 2.1 2.1 2.1 2.1 ...\n",
            " $ weather_main       : Factor w/ 11 levels \"Clear\",\"Clouds\",..: 1 1 1 1 1 1 1 1 1 1 ...\n",
            " $ weather_description: Factor w/ 25 levels \"broken clouds\",..: 18 18 18 18 18 18 18 18 18 18 ...\n",
            "'data.frame':\t214044 obs. of  14 variables:\n",
            " $ CRASH_DATE         : Date, format: \"2019-10-25\" \"2019-10-25\" ...\n",
            " $ CRASH_TIME         : int  15 15 15 15 15 15 15 15 15 15 ...\n",
            " $ PERSON_AGE         : num  33 42 42 56 30 65 25 43 38 49 ...\n",
            " $ PERSON_SEX         : Factor w/ 2 levels \"F\",\"M\": 2 2 2 2 2 2 1 1 2 1 ...\n",
            " $ KILLED_INJURED     : Factor w/ 19 levels \"0\",\"1\",\"2\",\"3\",..: 1 1 1 1 1 1 2 1 1 1 ...\n",
            " $ WEEKDAY            : Factor w/ 7 levels \"Friday\",\"Monday\",..: 1 1 1 1 1 1 1 1 1 1 ...\n",
            " $ Holiday            : chr  \"False\" \"False\" \"False\" \"False\" ...\n",
            " $ temp               : num  14.5 14.5 14.5 14.5 14.5 ...\n",
            " $ visibility         : num  10000 10000 10000 10000 10000 10000 10000 10000 10000 10000 ...\n",
            " $ pressure           : int  1027 1027 1027 1027 1027 1027 1027 1027 1027 1027 ...\n",
            " $ humidity           : int  63 63 63 63 63 63 63 63 63 63 ...\n",
            " $ wind_speed         : num  2.1 2.1 2.1 2.1 2.1 2.1 2.1 2.1 2.1 2.1 ...\n",
            " $ weather_main       : Factor w/ 11 levels \"Clear\",\"Clouds\",..: 1 1 1 1 1 1 1 1 1 1 ...\n",
            " $ weather_description: Factor w/ 25 levels \"broken clouds\",..: 18 18 18 18 18 18 18 18 18 18 ...\n",
            "Growing trees.. Progress: 5%. Estimated remaining time: 13 minutes, 18 seconds.\n",
            "Growing trees.. Progress: 13%. Estimated remaining time: 9 minutes, 22 seconds.\n",
            "Growing trees.. Progress: 21%. Estimated remaining time: 7 minutes, 50 seconds.\n",
            "Growing trees.. Progress: 29%. Estimated remaining time: 6 minutes, 48 seconds.\n",
            "Growing trees.. Progress: 37%. Estimated remaining time: 5 minutes, 50 seconds.\n",
            "Growing trees.. Progress: 45%. Estimated remaining time: 4 minutes, 59 seconds.\n",
            "Growing trees.. Progress: 52%. Estimated remaining time: 4 minutes, 15 seconds.\n",
            "Growing trees.. Progress: 59%. Estimated remaining time: 3 minutes, 37 seconds.\n",
            "Growing trees.. Progress: 66%. Estimated remaining time: 2 minutes, 58 seconds.\n",
            "Growing trees.. Progress: 73%. Estimated remaining time: 2 minutes, 20 seconds.\n",
            "Growing trees.. Progress: 80%. Estimated remaining time: 1 minute, 44 seconds.\n",
            "Growing trees.. Progress: 87%. Estimated remaining time: 1 minute, 7 seconds.\n",
            "Growing trees.. Progress: 93%. Estimated remaining time: 36 seconds.\n",
            "Ranger result\n",
            "\n",
            "Call:\n",
            " ranger(KILLED_INJURED ~ ., data = training, mtry = 13, num.trees = 100,      min.node.size = 2) \n",
            "\n",
            "Type:                             Classification \n",
            "Number of trees:                  100 \n",
            "Sample size:                      784828 \n",
            "Number of independent variables:  13 \n",
            "Mtry:                             13 \n",
            "Target node size:                 2 \n",
            "Variable importance mode:         none \n",
            "Splitrule:                        gini \n",
            "OOB prediction error:             20.14 % \n"
          ]
        },
        {
          "output_type": "display_data",
          "data": {
            "text/plain": [
              "Confusion Matrix and Statistics\n",
              "\n",
              "    predic\n",
              "true      0      1      2      3      4      5      6      7      8      9\n",
              "  0  152055  10655   2856   1150    459    221    122     36     40      9\n",
              "  1   18119  11916    581    200    106     45     15     12      4      0\n",
              "  2    5207    688   2768     88     33     16      3      0      1      0\n",
              "  3    2124    290     69   1109     13      7      2      1      0      0\n",
              "  4     878    133     40     13    442      3      3      1      2      0\n",
              "  5     424     56     20     10      2    253      1      0      0      0\n",
              "  6     206     31      5      0      0      2    104      0      0      0\n",
              "  7      71      9      3      2      1      0      0     24      0      0\n",
              "  8      43      9      0      0      2      0      0      0     37      0\n",
              "  9      18      3      0      0      0      0      0      0      0      8\n",
              "  10     19      3      0      0      0      0      0      0      0      0\n",
              "  11      6      1      2      0      0      0      0      0      0      0\n",
              "  12     12      1      0      0      0      1      0      0      0      0\n",
              "  13      5      1      0      0      0      0      0      0      0      0\n",
              "  15      4      0      0      0      0      0      0      0      0      0\n",
              "  16      6      2      0      0      0      0      0      0      0      0\n",
              "  17      4      0      0      0      0      0      0      0      0      0\n",
              "  18      4      2      0      0      0      0      0      0      0      0\n",
              "  20      9      0      0      0      0      0      0      0      0      0\n",
              "    predic\n",
              "true     10     11     12     13     15     16     17     18     20\n",
              "  0      14      5      3      1      3      2      4      5      2\n",
              "  1       1      1      0      1      0      2      0      0      0\n",
              "  2       0      0      0      0      0      1      0      0      0\n",
              "  3       0      0      0      0      0      0      0      0      0\n",
              "  4       0      0      0      0      0      0      0      0      0\n",
              "  5       0      0      0      0      0      0      0      0      0\n",
              "  6       0      1      0      0      0      0      0      0      0\n",
              "  7       0      0      0      0      0      0      0      0      0\n",
              "  8       0      0      0      0      0      0      0      0      0\n",
              "  9       0      0      0      0      0      0      0      0      0\n",
              "  10     11      0      0      0      0      0      0      0      0\n",
              "  11      0      7      0      0      0      0      0      0      0\n",
              "  12      0      0     12      0      0      0      0      0      0\n",
              "  13      0      0      0      2      0      0      0      0      0\n",
              "  15      0      0      0      0      0      0      0      0      0\n",
              "  16      0      0      0      0      0      3      0      0      0\n",
              "  17      0      0      0      0      0      0      1      0      0\n",
              "  18      0      0      0      0      0      0      0      1      0\n",
              "  20      0      0      0      0      0      0      0      0      0\n",
              "\n",
              "Overall Statistics\n",
              "                                          \n",
              "               Accuracy : 0.7884          \n",
              "                 95% CI : (0.7867, 0.7901)\n",
              "    No Information Rate : 0.8373          \n",
              "    P-Value [Acc > NIR] : 1               \n",
              "                                          \n",
              "                  Kappa : 0.3522          \n",
              "                                          \n",
              " Mcnemar's Test P-Value : NA              \n",
              "\n",
              "Statistics by Class:\n",
              "\n",
              "                     Class: 0 Class: 1 Class: 2 Class: 3 Class: 4 Class: 5\n",
              "Sensitivity            0.8485  0.50067  0.43632 0.431182 0.417769 0.461679\n",
              "Specificity            0.5525  0.89967  0.97093 0.988150 0.994962 0.997597\n",
              "Pos Pred Value         0.9070  0.38435  0.31437 0.306777 0.291749 0.330287\n",
              "Neg Pred Value         0.4147  0.93507  0.98258 0.993048 0.997102 0.998617\n",
              "Prevalence             0.8373  0.11119  0.02964 0.012016 0.004943 0.002560\n",
              "Detection Rate         0.7104  0.05567  0.01293 0.005181 0.002065 0.001182\n",
              "Detection Prevalence   0.7832  0.14484  0.04114 0.016889 0.007078 0.003579\n",
              "Balanced Accuracy      0.7005  0.70017  0.70363 0.709666 0.706366 0.729638\n",
              "                      Class: 6  Class: 7  Class: 8  Class: 9 Class: 10\n",
              "Sensitivity          0.4160000 0.3243243 0.4404762 4.706e-01 4.231e-01\n",
              "Specificity          0.9988540 0.9995981 0.9997476 9.999e-01 9.999e-01\n",
              "Pos Pred Value       0.2979943 0.2181818 0.4065934 2.759e-01 3.333e-01\n",
              "Neg Pred Value       0.9993168 0.9997663 0.9997803 1.000e+00 9.999e-01\n",
              "Prevalence           0.0011680 0.0003457 0.0003924 7.942e-05 1.215e-04\n",
              "Detection Rate       0.0004859 0.0001121 0.0001729 3.738e-05 5.139e-05\n",
              "Detection Prevalence 0.0016305 0.0005139 0.0004251 1.355e-04 1.542e-04\n",
              "Balanced Accuracy    0.7074270 0.6619612 0.7201119 7.352e-01 7.115e-01\n",
              "                     Class: 11 Class: 12 Class: 13 Class: 15 Class: 16\n",
              "Sensitivity          5.000e-01 8.000e-01 5.000e-01 0.000e+00 3.750e-01\n",
              "Specificity          1.000e+00 9.999e-01 1.000e+00 1.000e+00 1.000e+00\n",
              "Pos Pred Value       4.375e-01 4.615e-01 2.500e-01 0.000e+00 2.727e-01\n",
              "Neg Pred Value       1.000e+00 1.000e+00 1.000e+00 1.000e+00 1.000e+00\n",
              "Prevalence           6.541e-05 7.008e-05 1.869e-05 1.402e-05 3.738e-05\n",
              "Detection Rate       3.270e-05 5.606e-05 9.344e-06 0.000e+00 1.402e-05\n",
              "Detection Prevalence 7.475e-05 1.215e-04 3.738e-05 1.869e-05 5.139e-05\n",
              "Balanced Accuracy    7.500e-01 9.000e-01 7.500e-01 5.000e-01 6.875e-01\n",
              "                     Class: 17 Class: 18 Class: 20\n",
              "Sensitivity          2.000e-01 1.667e-01 0.000e+00\n",
              "Specificity          1.000e+00 1.000e+00 1.000e+00\n",
              "Pos Pred Value       2.000e-01 1.429e-01 0.000e+00\n",
              "Neg Pred Value       1.000e+00 1.000e+00 1.000e+00\n",
              "Prevalence           2.336e-05 2.803e-05 9.344e-06\n",
              "Detection Rate       4.672e-06 4.672e-06 0.000e+00\n",
              "Detection Prevalence 2.336e-05 3.270e-05 4.205e-05\n",
              "Balanced Accuracy    6.000e-01 5.833e-01 5.000e-01"
            ]
          },
          "metadata": {}
        }
      ]
    },
    {
      "cell_type": "code",
      "source": [
        "## Data pre-processing\n",
        "data2=head(data1,2000000)\n",
        "data2 = subset(data2, select = -c(CONTRIBUTING.FACTOR.VEHICLE.1,LATITUDE,LONGITUDE,wind_deg,temp_min,temp_max,dew_point,CONTRIBUTING.FACTOR.VEHICLE.2,COLLISION_ID,X,VEHICLE.TYPE.CODE.1,VEHICLE.TYPE.CODE.2,ON.STREET.NAME,CROSS.STREET.NAME,OFF.STREET.NAME, VEHICLE_ID,weather_id,clouds_all,rain_1h,wind_gust,weather_icon,rain_3h,snow_3h,sea_level,grnd_level,snow_1h) )\n",
        "names(data2)[names(data2) == \"KILLED.INJURED\"] <- \"KILLED_INJURED\"\n",
        "colSums(is.na(data2))\n",
        "data2$CRASH_DATE=as.Date(data2$CRASH_DATE, format = \"%Y-%m-%d\")\n",
        "nrow(data2)\n",
        "data2=data2[!is.na(data2$visibility),]\n",
        "nrow(data2)\n",
        "data2=data2[!is.na(data2$KILLED_INJURED),]\n",
        "data2$KILLED_INJURED <- as.factor(data2$KILLED_INJURED)\n",
        "nrow(data2)\n",
        "data2$weather_main <- as.factor(data2$weather_main)\n",
        "data2$weather_description <- as.factor(data2$weather_description)\n",
        "data2$PERSON_SEX <- as.factor(data2$PERSON_SEX)\n",
        "data2$WEEKDAY <- as.factor(data2$WEEKDAY)\n",
        "set.seed(1)\n",
        "sample = sample.split(data2, SplitRatio = 0.80)\n",
        "training = subset(data2, sample == TRUE)\n",
        "test = subset(data2, sample == FALSE)\n",
        "rm(sample)\n",
        "str(training)\n",
        "str(test)\n",
        "randFore100m5 <- ranger(KILLED_INJURED~., data=training, mtry=13,num.trees=100,min.node.size =2)\n",
        "print(randFore100m5)\n",
        "pred=predict(randFore100m5,test,type=\"response\")\n",
        "cm=table(true=test$KILLED_INJURED,predic=pred$predictions)\n",
        "confusionMatrix(cm)"
      ],
      "metadata": {
        "colab": {
          "base_uri": "https://localhost:8080/",
          "height": 1000
        },
        "id": "lZ_fdSz-21PB",
        "outputId": "be8d5978-8c1b-4f6e-f23c-d0555db3730f"
      },
      "execution_count": null,
      "outputs": [
        {
          "output_type": "display_data",
          "data": {
            "text/html": [
              "<style>\n",
              ".dl-inline {width: auto; margin:0; padding: 0}\n",
              ".dl-inline>dt, .dl-inline>dd {float: none; width: auto; display: inline-block}\n",
              ".dl-inline>dt::after {content: \":\\0020\"; padding-right: .5ex}\n",
              ".dl-inline>dt:not(:first-of-type) {padding-left: .5ex}\n",
              "</style><dl class=dl-inline><dt>CRASH_DATE</dt><dd>0</dd><dt>CRASH_TIME</dt><dd>0</dd><dt>PERSON_AGE</dt><dd>0</dd><dt>PERSON_SEX</dt><dd>0</dd><dt>KILLED_INJURED</dt><dd>36</dd><dt>WEEKDAY</dt><dd>0</dd><dt>Holiday</dt><dd>0</dd><dt>temp</dt><dd>0</dd><dt>visibility</dt><dd>2292</dd><dt>pressure</dt><dd>0</dd><dt>humidity</dt><dd>0</dd><dt>wind_speed</dt><dd>0</dd><dt>weather_main</dt><dd>0</dd><dt>weather_description</dt><dd>0</dd></dl>\n"
            ],
            "text/markdown": "CRASH_DATE\n:   0CRASH_TIME\n:   0PERSON_AGE\n:   0PERSON_SEX\n:   0KILLED_INJURED\n:   36WEEKDAY\n:   0Holiday\n:   0temp\n:   0visibility\n:   2292pressure\n:   0humidity\n:   0wind_speed\n:   0weather_main\n:   0weather_description\n:   0\n\n",
            "text/latex": "\\begin{description*}\n\\item[CRASH\\textbackslash{}\\_DATE] 0\n\\item[CRASH\\textbackslash{}\\_TIME] 0\n\\item[PERSON\\textbackslash{}\\_AGE] 0\n\\item[PERSON\\textbackslash{}\\_SEX] 0\n\\item[KILLED\\textbackslash{}\\_INJURED] 36\n\\item[WEEKDAY] 0\n\\item[Holiday] 0\n\\item[temp] 0\n\\item[visibility] 2292\n\\item[pressure] 0\n\\item[humidity] 0\n\\item[wind\\textbackslash{}\\_speed] 0\n\\item[weather\\textbackslash{}\\_main] 0\n\\item[weather\\textbackslash{}\\_description] 0\n\\end{description*}\n",
            "text/plain": [
              "         CRASH_DATE          CRASH_TIME          PERSON_AGE          PERSON_SEX \n",
              "                  0                   0                   0                   0 \n",
              "     KILLED_INJURED             WEEKDAY             Holiday                temp \n",
              "                 36                   0                   0                   0 \n",
              "         visibility            pressure            humidity          wind_speed \n",
              "               2292                   0                   0                   0 \n",
              "       weather_main weather_description \n",
              "                  0                   0 "
            ]
          },
          "metadata": {}
        },
        {
          "output_type": "display_data",
          "data": {
            "text/html": [
              "2000000"
            ],
            "text/markdown": "2000000",
            "text/latex": "2000000",
            "text/plain": [
              "[1] 2000000"
            ]
          },
          "metadata": {}
        },
        {
          "output_type": "display_data",
          "data": {
            "text/html": [
              "1997708"
            ],
            "text/markdown": "1997708",
            "text/latex": "1997708",
            "text/plain": [
              "[1] 1997708"
            ]
          },
          "metadata": {}
        },
        {
          "output_type": "display_data",
          "data": {
            "text/html": [
              "1997672"
            ],
            "text/markdown": "1997672",
            "text/latex": "1997672",
            "text/plain": [
              "[1] 1997672"
            ]
          },
          "metadata": {}
        },
        {
          "output_type": "stream",
          "name": "stdout",
          "text": [
            "'data.frame':\t1569599 obs. of  14 variables:\n",
            " $ CRASH_DATE         : Date, format: \"2019-10-25\" \"2019-10-25\" ...\n",
            " $ CRASH_TIME         : int  15 15 15 15 15 15 15 15 15 15 ...\n",
            " $ PERSON_AGE         : num  33 82 33 82 42 51 51 17 42 37 ...\n",
            " $ PERSON_SEX         : Factor w/ 2 levels \"F\",\"M\": 1 2 2 2 2 2 2 2 2 2 ...\n",
            " $ KILLED_INJURED     : Factor w/ 23 levels \"0\",\"1\",\"2\",\"3\",..: 1 1 1 1 1 1 1 1 1 1 ...\n",
            " $ WEEKDAY            : Factor w/ 7 levels \"Friday\",\"Monday\",..: 1 1 1 1 1 1 1 1 1 1 ...\n",
            " $ Holiday            : chr  \"False\" \"False\" \"False\" \"False\" ...\n",
            " $ temp               : num  14.5 14.5 14.5 14.5 14.5 ...\n",
            " $ visibility         : num  10000 10000 10000 10000 10000 10000 10000 10000 10000 10000 ...\n",
            " $ pressure           : int  1027 1027 1027 1027 1027 1027 1027 1027 1027 1027 ...\n",
            " $ humidity           : int  63 63 63 63 63 63 63 63 63 63 ...\n",
            " $ wind_speed         : num  2.1 2.1 2.1 2.1 2.1 2.1 2.1 2.1 2.1 2.1 ...\n",
            " $ weather_main       : Factor w/ 11 levels \"Clear\",\"Clouds\",..: 1 1 1 1 1 1 1 1 1 1 ...\n",
            " $ weather_description: Factor w/ 27 levels \"broken clouds\",..: 19 19 19 19 19 19 19 19 19 19 ...\n",
            "'data.frame':\t428073 obs. of  14 variables:\n",
            " $ CRASH_DATE         : Date, format: \"2019-10-25\" \"2019-10-25\" ...\n",
            " $ CRASH_TIME         : int  15 15 15 15 15 15 15 15 15 15 ...\n",
            " $ PERSON_AGE         : num  33 42 42 56 30 65 25 43 38 49 ...\n",
            " $ PERSON_SEX         : Factor w/ 2 levels \"F\",\"M\": 2 2 2 2 2 2 1 1 2 1 ...\n",
            " $ KILLED_INJURED     : Factor w/ 23 levels \"0\",\"1\",\"2\",\"3\",..: 1 1 1 1 1 1 2 1 1 1 ...\n",
            " $ WEEKDAY            : Factor w/ 7 levels \"Friday\",\"Monday\",..: 1 1 1 1 1 1 1 1 1 1 ...\n",
            " $ Holiday            : chr  \"False\" \"False\" \"False\" \"False\" ...\n",
            " $ temp               : num  14.5 14.5 14.5 14.5 14.5 ...\n",
            " $ visibility         : num  10000 10000 10000 10000 10000 10000 10000 10000 10000 10000 ...\n",
            " $ pressure           : int  1027 1027 1027 1027 1027 1027 1027 1027 1027 1027 ...\n",
            " $ humidity           : int  63 63 63 63 63 63 63 63 63 63 ...\n",
            " $ wind_speed         : num  2.1 2.1 2.1 2.1 2.1 2.1 2.1 2.1 2.1 2.1 ...\n",
            " $ weather_main       : Factor w/ 11 levels \"Clear\",\"Clouds\",..: 1 1 1 1 1 1 1 1 1 1 ...\n",
            " $ weather_description: Factor w/ 27 levels \"broken clouds\",..: 19 19 19 19 19 19 19 19 19 19 ...\n",
            "Growing trees.. Progress: 1%. Estimated remaining time: 1 hour, 29 minutes, 6 seconds.\n",
            "Growing trees.. Progress: 5%. Estimated remaining time: 34 minutes, 31 seconds.\n",
            "Growing trees.. Progress: 9%. Estimated remaining time: 27 minutes, 48 seconds.\n",
            "Growing trees.. Progress: 13%. Estimated remaining time: 24 minutes, 52 seconds.\n",
            "Growing trees.. Progress: 17%. Estimated remaining time: 22 minutes, 32 seconds.\n",
            "Growing trees.. Progress: 21%. Estimated remaining time: 20 minutes, 52 seconds.\n",
            "Growing trees.. Progress: 25%. Estimated remaining time: 19 minutes, 18 seconds.\n",
            "Growing trees.. Progress: 29%. Estimated remaining time: 17 minutes, 59 seconds.\n",
            "Growing trees.. Progress: 33%. Estimated remaining time: 16 minutes, 47 seconds.\n",
            "Growing trees.. Progress: 37%. Estimated remaining time: 15 minutes, 39 seconds.\n",
            "Growing trees.. Progress: 41%. Estimated remaining time: 14 minutes, 37 seconds.\n",
            "Growing trees.. Progress: 45%. Estimated remaining time: 13 minutes, 35 seconds.\n",
            "Growing trees.. Progress: 49%. Estimated remaining time: 12 minutes, 34 seconds.\n",
            "Growing trees.. Progress: 53%. Estimated remaining time: 11 minutes, 32 seconds.\n",
            "Growing trees.. Progress: 57%. Estimated remaining time: 10 minutes, 32 seconds.\n",
            "Growing trees.. Progress: 61%. Estimated remaining time: 9 minutes, 32 seconds.\n",
            "Growing trees.. Progress: 65%. Estimated remaining time: 8 minutes, 32 seconds.\n",
            "Growing trees.. Progress: 69%. Estimated remaining time: 7 minutes, 32 seconds.\n",
            "Growing trees.. Progress: 73%. Estimated remaining time: 6 minutes, 34 seconds.\n",
            "Growing trees.. Progress: 77%. Estimated remaining time: 5 minutes, 35 seconds.\n",
            "Growing trees.. Progress: 81%. Estimated remaining time: 4 minutes, 36 seconds.\n",
            "Growing trees.. Progress: 85%. Estimated remaining time: 3 minutes, 38 seconds.\n",
            "Growing trees.. Progress: 89%. Estimated remaining time: 2 minutes, 39 seconds.\n",
            "Growing trees.. Progress: 93%. Estimated remaining time: 1 minute, 41 seconds.\n",
            "Growing trees.. Progress: 97%. Estimated remaining time: 43 seconds.\n",
            "Ranger result\n",
            "\n",
            "Call:\n",
            " ranger(KILLED_INJURED ~ ., data = training, mtry = 13, num.trees = 100,      min.node.size = 2) \n",
            "\n",
            "Type:                             Classification \n",
            "Number of trees:                  100 \n",
            "Sample size:                      1569599 \n",
            "Number of independent variables:  13 \n",
            "Mtry:                             13 \n",
            "Target node size:                 2 \n",
            "Variable importance mode:         none \n",
            "Splitrule:                        gini \n",
            "OOB prediction error:             20.02 % \n"
          ]
        },
        {
          "output_type": "display_data",
          "data": {
            "text/plain": [
              "Confusion Matrix and Statistics\n",
              "\n",
              "    predic\n",
              "true      0      1      2      3      4      5      6      7      8      9\n",
              "  0  301398  20797   5718   2309    887    445    189     83     41     19\n",
              "  1   36538  25443   1259    447    204    101     37     23      3      3\n",
              "  2   10727   1386   6235    168     69     28     14      6      1      1\n",
              "  3    4214    550    153   2382     23     14      2      2      0      0\n",
              "  4    1797    275     64     26   1010      5      4      5      2      0\n",
              "  5     846    118     33     15      5    518      1      0      1      0\n",
              "  6     395     54     17      4      2      5    195      0      0      0\n",
              "  7     132     16      4      2      1      0      0     96      0      0\n",
              "  8      71     12      1      0      2      0      0      0     43      0\n",
              "  9      40      7      0      1      0      0      0      0      0     23\n",
              "  10     36     11      1      1      0      0      0      0      0      0\n",
              "  11     12      1      0      0      0      0      0      0      0      0\n",
              "  12     17      1      0      0      0      1      0      0      0      0\n",
              "  13      7      2      0      0      1      0      0      0      0      0\n",
              "  14      3      0      0      0      0      0      0      0      0      0\n",
              "  15      3      2      0      0      0      0      0      0      0      0\n",
              "  16     10      2      0      0      0      0      0      0      0      0\n",
              "  17      7      1      0      0      0      0      0      0      0      0\n",
              "  18      7      2      0      0      0      0      0      0      0      0\n",
              "  19      5      0      0      0      0      0      0      0      0      0\n",
              "  20      9      0      0      0      0      0      0      0      0      0\n",
              "  22      2      0      0      0      0      0      0      0      0      0\n",
              "  28      0      0      0      0      0      0      0      0      0      0\n",
              "    predic\n",
              "true     10     11     12     13     14     15     16     17     18     19\n",
              "  0      23      7      6      2      0      3      7      3      5      0\n",
              "  1       4      1      3      2      0      1      1      0      0      0\n",
              "  2       4      0      0      0      0      0      0      0      0      0\n",
              "  3       0      0      0      0      0      0      0      0      0      0\n",
              "  4       2      0      0      0      0      0      0      0      0      0\n",
              "  5       0      0      0      0      0      0      0      0      0      0\n",
              "  6       0      1      0      0      0      0      0      0      0      0\n",
              "  7       0      0      0      0      0      0      0      0      0      0\n",
              "  8       0      0      0      0      0      0      0      0      0      0\n",
              "  9       0      0      0      0      0      0      0      0      0      0\n",
              "  10     24      0      0      0      0      0      0      0      0      0\n",
              "  11      0     12      0      0      0      0      0      0      0      0\n",
              "  12      0      0     13      0      0      0      0      0      0      0\n",
              "  13      0      0      0      8      0      0      0      0      0      0\n",
              "  14      0      0      0      0      3      0      0      0      0      0\n",
              "  15      0      0      0      0      0      3      0      0      0      0\n",
              "  16      0      0      0      0      0      0      5      0      0      0\n",
              "  17      0      0      0      0      0      0      0      5      0      0\n",
              "  18      0      0      0      0      0      0      0      0      1      0\n",
              "  19      0      0      0      0      0      0      0      0      0      4\n",
              "  20      0      0      0      0      0      0      0      0      0      0\n",
              "  22      0      0      0      0      0      0      0      0      0      0\n",
              "  28      0      0      0      0      0      0      0      0      0      0\n",
              "    predic\n",
              "true     20     22     28\n",
              "  0       2      2      0\n",
              "  1       0      0      0\n",
              "  2       0      0      0\n",
              "  3       0      1      0\n",
              "  4       0      0      0\n",
              "  5       0      0      0\n",
              "  6       0      0      0\n",
              "  7       0      0      0\n",
              "  8       0      0      0\n",
              "  9       0      0      0\n",
              "  10      0      0      0\n",
              "  11      0      0      0\n",
              "  12      0      0      0\n",
              "  13      0      0      0\n",
              "  14      0      0      0\n",
              "  15      0      0      0\n",
              "  16      0      0      0\n",
              "  17      0      0      0\n",
              "  18      0      0      0\n",
              "  19      0      0      0\n",
              "  20      0      0      0\n",
              "  22      0      4      0\n",
              "  28      0      0      0\n",
              "\n",
              "Overall Statistics\n",
              "                                         \n",
              "               Accuracy : 0.7882         \n",
              "                 95% CI : (0.787, 0.7895)\n",
              "    No Information Rate : 0.8323         \n",
              "    P-Value [Acc > NIR] : 1              \n",
              "                                         \n",
              "                  Kappa : 0.3697         \n",
              "                                         \n",
              " Mcnemar's Test P-Value : NA             \n",
              "\n",
              "Statistics by Class:\n",
              "\n",
              "                     Class: 0 Class: 1 Class: 2 Class: 3 Class: 4 Class: 5\n",
              "Sensitivity            0.8460  0.52266  0.46237 0.444818 0.458258 0.463742\n",
              "Specificity            0.5745  0.89819  0.97008 0.988269 0.994881 0.997613\n",
              "Pos Pred Value         0.9080  0.39711  0.33451 0.324479 0.316614 0.337020\n",
              "Neg Pred Value         0.4291  0.93616  0.98229 0.992934 0.997190 0.998596\n",
              "Prevalence             0.8323  0.11372  0.03150 0.012510 0.005149 0.002609\n",
              "Detection Rate         0.7041  0.05944  0.01457 0.005564 0.002359 0.001210\n",
              "Detection Prevalence   0.7754  0.14967  0.04354 0.017149 0.007452 0.003591\n",
              "Balanced Accuracy      0.7102  0.71042  0.71622 0.716543 0.726569 0.730678\n",
              "                      Class: 6  Class: 7  Class: 8  Class: 9 Class: 10\n",
              "Sensitivity          0.4411765 0.4465116 0.4725275 5.000e-01 4.211e-01\n",
              "Specificity          0.9988822 0.9996377 0.9997991 9.999e-01 9.999e-01\n",
              "Pos Pred Value       0.2897474 0.3824701 0.3333333 3.239e-01 3.288e-01\n",
              "Neg Pred Value       0.9994221 0.9997218 0.9998878 9.999e-01 9.999e-01\n",
              "Prevalence           0.0010325 0.0005023 0.0002126 1.075e-04 1.332e-04\n",
              "Detection Rate       0.0004555 0.0002243 0.0001005 5.373e-05 5.607e-05\n",
              "Detection Prevalence 0.0015722 0.0005863 0.0003014 1.659e-04 1.705e-04\n",
              "Balanced Accuracy    0.7200293 0.7230747 0.7361633 7.499e-01 7.105e-01\n",
              "                     Class: 11 Class: 12 Class: 13 Class: 14 Class: 15\n",
              "Sensitivity          5.714e-01 5.909e-01 6.667e-01 1.000e+00 4.286e-01\n",
              "Specificity          1.000e+00 1.000e+00 1.000e+00 1.000e+00 1.000e+00\n",
              "Pos Pred Value       4.800e-01 4.063e-01 4.444e-01 5.000e-01 3.750e-01\n",
              "Neg Pred Value       1.000e+00 1.000e+00 1.000e+00 1.000e+00 1.000e+00\n",
              "Prevalence           4.906e-05 5.139e-05 2.803e-05 7.008e-06 1.635e-05\n",
              "Detection Rate       2.803e-05 3.037e-05 1.869e-05 7.008e-06 7.008e-06\n",
              "Detection Prevalence 5.840e-05 7.475e-05 4.205e-05 1.402e-05 1.869e-05\n",
              "Balanced Accuracy    7.857e-01 7.954e-01 8.333e-01 1.000e+00 7.143e-01\n",
              "                     Class: 16 Class: 17 Class: 18 Class: 19 Class: 20\n",
              "Sensitivity          3.846e-01 6.250e-01 1.667e-01 1.000e+00 0.000e+00\n",
              "Specificity          1.000e+00 1.000e+00 1.000e+00 1.000e+00 1.000e+00\n",
              "Pos Pred Value       2.941e-01 3.846e-01 1.000e-01 4.444e-01 0.000e+00\n",
              "Neg Pred Value       1.000e+00 1.000e+00 1.000e+00 1.000e+00 1.000e+00\n",
              "Prevalence           3.037e-05 1.869e-05 1.402e-05 9.344e-06 4.672e-06\n",
              "Detection Rate       1.168e-05 1.168e-05 2.336e-06 9.344e-06 0.000e+00\n",
              "Detection Prevalence 3.971e-05 3.037e-05 2.336e-05 2.102e-05 2.102e-05\n",
              "Balanced Accuracy    6.923e-01 8.125e-01 5.833e-01 1.000e+00 5.000e-01\n",
              "                     Class: 22 Class: 28\n",
              "Sensitivity          5.714e-01        NA\n",
              "Specificity          1.000e+00         1\n",
              "Pos Pred Value       6.667e-01        NA\n",
              "Neg Pred Value       1.000e+00        NA\n",
              "Prevalence           1.635e-05         0\n",
              "Detection Rate       9.344e-06         0\n",
              "Detection Prevalence 1.402e-05         0\n",
              "Balanced Accuracy    7.857e-01        NA"
            ]
          },
          "metadata": {}
        }
      ]
    },
    {
      "cell_type": "markdown",
      "source": [
        "## Downsampling"
      ],
      "metadata": {
        "id": "gQrkR8j0Auc8"
      }
    },
    {
      "cell_type": "code",
      "source": [
        "## Data pre-processing\n",
        "data2=head(data1,100000)\n",
        "data2 = subset(data2, select = -c(CONTRIBUTING.FACTOR.VEHICLE.1,LATITUDE,LONGITUDE,wind_deg,temp_min,temp_max,dew_point,CONTRIBUTING.FACTOR.VEHICLE.2,COLLISION_ID,X,VEHICLE.TYPE.CODE.1,VEHICLE.TYPE.CODE.2,ON.STREET.NAME,CROSS.STREET.NAME,OFF.STREET.NAME, VEHICLE_ID,weather_id,clouds_all,rain_1h,wind_gust,weather_icon,rain_3h,snow_3h,sea_level,grnd_level,snow_1h) )\n",
        "names(data2)[names(data2) == \"KILLED.INJURED\"] <- \"KILLED_INJURED\"\n",
        "colSums(is.na(data2))\n",
        "data2$CRASH_DATE=as.Date(data2$CRASH_DATE, format = \"%Y-%m-%d\")\n",
        "nrow(data2)\n",
        "data2=data2[!is.na(data2$visibility),]\n",
        "nrow(data2)\n",
        "data2=data2[!is.na(data2$KILLED_INJURED),]\n",
        "data2$KILLED_INJURED <- as.factor(data2$KILLED_INJURED)\n",
        "nrow(data2)\n",
        "index0 <- which(data2$KILLED_INJURED == 0)\n",
        "index1 <- which(data2$KILLED_INJURED == 1)\n",
        "deleteindex <- sample(index0,length(index0)-length(index1))\n",
        "nrow(data2)\n",
        "data2=data2[-deleteindex,]\n",
        "nrow(data2)\n",
        "data2$weather_main <- as.factor(data2$weather_main)\n",
        "data2$weather_description <- as.factor(data2$weather_description)\n",
        "data2$PERSON_SEX <- as.factor(data2$PERSON_SEX)\n",
        "data2$WEEKDAY <- as.factor(data2$WEEKDAY)\n",
        "set.seed(1)\n",
        "sample = sample.split(data2, SplitRatio = 0.80)\n",
        "training = subset(data2, sample == TRUE)\n",
        "test = subset(data2, sample == FALSE)\n",
        "rm(sample)\n",
        "str(training)\n",
        "str(test)\n",
        "randFore100m5 <- ranger(KILLED_INJURED~., data=training, mtry=13,num.trees=100,min.node.size =2)\n",
        "print(randFore100m5)\n",
        "pred=predict(randFore100m5,test,type=\"response\")\n",
        "cm=table(true=test$KILLED_INJURED,predic=pred$predictions)\n",
        "confusionMatrix(cm)"
      ],
      "metadata": {
        "colab": {
          "base_uri": "https://localhost:8080/",
          "height": 1000
        },
        "id": "3tO3uvhbAxCv",
        "outputId": "502711b8-7bb0-4d5e-b1d6-68665e4a0623"
      },
      "execution_count": null,
      "outputs": [
        {
          "output_type": "display_data",
          "data": {
            "text/html": [
              "<style>\n",
              ".dl-inline {width: auto; margin:0; padding: 0}\n",
              ".dl-inline>dt, .dl-inline>dd {float: none; width: auto; display: inline-block}\n",
              ".dl-inline>dt::after {content: \":\\0020\"; padding-right: .5ex}\n",
              ".dl-inline>dt:not(:first-of-type) {padding-left: .5ex}\n",
              "</style><dl class=dl-inline><dt>CRASH_DATE</dt><dd>0</dd><dt>CRASH_TIME</dt><dd>0</dd><dt>PERSON_AGE</dt><dd>0</dd><dt>PERSON_SEX</dt><dd>0</dd><dt>KILLED_INJURED</dt><dd>0</dd><dt>WEEKDAY</dt><dd>0</dd><dt>Holiday</dt><dd>0</dd><dt>temp</dt><dd>0</dd><dt>visibility</dt><dd>83</dd><dt>pressure</dt><dd>0</dd><dt>humidity</dt><dd>0</dd><dt>wind_speed</dt><dd>0</dd><dt>weather_main</dt><dd>0</dd><dt>weather_description</dt><dd>0</dd></dl>\n"
            ],
            "text/markdown": "CRASH_DATE\n:   0CRASH_TIME\n:   0PERSON_AGE\n:   0PERSON_SEX\n:   0KILLED_INJURED\n:   0WEEKDAY\n:   0Holiday\n:   0temp\n:   0visibility\n:   83pressure\n:   0humidity\n:   0wind_speed\n:   0weather_main\n:   0weather_description\n:   0\n\n",
            "text/latex": "\\begin{description*}\n\\item[CRASH\\textbackslash{}\\_DATE] 0\n\\item[CRASH\\textbackslash{}\\_TIME] 0\n\\item[PERSON\\textbackslash{}\\_AGE] 0\n\\item[PERSON\\textbackslash{}\\_SEX] 0\n\\item[KILLED\\textbackslash{}\\_INJURED] 0\n\\item[WEEKDAY] 0\n\\item[Holiday] 0\n\\item[temp] 0\n\\item[visibility] 83\n\\item[pressure] 0\n\\item[humidity] 0\n\\item[wind\\textbackslash{}\\_speed] 0\n\\item[weather\\textbackslash{}\\_main] 0\n\\item[weather\\textbackslash{}\\_description] 0\n\\end{description*}\n",
            "text/plain": [
              "         CRASH_DATE          CRASH_TIME          PERSON_AGE          PERSON_SEX \n",
              "                  0                   0                   0                   0 \n",
              "     KILLED_INJURED             WEEKDAY             Holiday                temp \n",
              "                  0                   0                   0                   0 \n",
              "         visibility            pressure            humidity          wind_speed \n",
              "                 83                   0                   0                   0 \n",
              "       weather_main weather_description \n",
              "                  0                   0 "
            ]
          },
          "metadata": {}
        },
        {
          "output_type": "display_data",
          "data": {
            "text/html": [
              "100000"
            ],
            "text/markdown": "100000",
            "text/latex": "100000",
            "text/plain": [
              "[1] 100000"
            ]
          },
          "metadata": {}
        },
        {
          "output_type": "display_data",
          "data": {
            "text/html": [
              "99917"
            ],
            "text/markdown": "99917",
            "text/latex": "99917",
            "text/plain": [
              "[1] 99917"
            ]
          },
          "metadata": {}
        },
        {
          "output_type": "display_data",
          "data": {
            "text/html": [
              "99917"
            ],
            "text/markdown": "99917",
            "text/latex": "99917",
            "text/plain": [
              "[1] 99917"
            ]
          },
          "metadata": {}
        },
        {
          "output_type": "display_data",
          "data": {
            "text/html": [
              "99917"
            ],
            "text/markdown": "99917",
            "text/latex": "99917",
            "text/plain": [
              "[1] 99917"
            ]
          },
          "metadata": {}
        },
        {
          "output_type": "display_data",
          "data": {
            "text/html": [
              "37791"
            ],
            "text/markdown": "37791",
            "text/latex": "37791",
            "text/plain": [
              "[1] 37791"
            ]
          },
          "metadata": {}
        },
        {
          "output_type": "stream",
          "name": "stdout",
          "text": [
            "'data.frame':\t29693 obs. of  14 variables:\n",
            " $ CRASH_DATE         : Date, format: \"2019-10-25\" \"2019-10-25\" ...\n",
            " $ CRASH_TIME         : int  15 15 15 15 15 15 15 15 15 15 ...\n",
            " $ PERSON_AGE         : num  33 33 42 39 38 35 39 35 35 35 ...\n",
            " $ PERSON_SEX         : Factor w/ 2 levels \"F\",\"M\": 2 2 2 2 2 2 2 2 2 2 ...\n",
            " $ KILLED_INJURED     : Factor w/ 12 levels \"0\",\"1\",\"2\",\"3\",..: 1 1 1 4 4 4 4 4 2 2 ...\n",
            " $ WEEKDAY            : Factor w/ 7 levels \"Friday\",\"Monday\",..: 1 1 1 1 1 1 1 1 1 1 ...\n",
            " $ Holiday            : chr  \"False\" \"False\" \"False\" \"False\" ...\n",
            " $ temp               : num  14.5 14.5 14.5 14.5 14.5 ...\n",
            " $ visibility         : num  10000 10000 10000 10000 10000 10000 10000 10000 10000 10000 ...\n",
            " $ pressure           : int  1027 1027 1027 1027 1027 1027 1027 1027 1027 1027 ...\n",
            " $ humidity           : int  63 63 63 63 63 63 63 63 63 63 ...\n",
            " $ wind_speed         : num  2.1 2.1 2.1 2.1 2.1 2.1 2.1 2.1 2.1 2.1 ...\n",
            " $ weather_main       : Factor w/ 10 levels \"Clear\",\"Clouds\",..: 1 1 1 1 1 1 1 1 1 1 ...\n",
            " $ weather_description: Factor w/ 18 levels \"broken clouds\",..: 15 15 15 15 15 15 15 15 15 15 ...\n",
            "'data.frame':\t8098 obs. of  14 variables:\n",
            " $ CRASH_DATE         : Date, format: \"2019-10-25\" \"2019-10-25\" ...\n",
            " $ CRASH_TIME         : int  15 15 15 15 15 15 15 15 15 15 ...\n",
            " $ PERSON_AGE         : num  30 35 27 52 49 32 42 67 38 59 ...\n",
            " $ PERSON_SEX         : Factor w/ 2 levels \"F\",\"M\": 2 1 2 2 1 2 2 1 1 1 ...\n",
            " $ KILLED_INJURED     : Factor w/ 12 levels \"0\",\"1\",\"2\",\"3\",..: 1 4 4 1 1 1 7 1 1 2 ...\n",
            " $ WEEKDAY            : Factor w/ 7 levels \"Friday\",\"Monday\",..: 1 1 1 1 1 1 1 1 1 1 ...\n",
            " $ Holiday            : chr  \"False\" \"False\" \"False\" \"False\" ...\n",
            " $ temp               : num  14.5 14.5 14.5 14.5 14.5 ...\n",
            " $ visibility         : num  10000 10000 10000 10000 10000 10000 10000 10000 10000 10000 ...\n",
            " $ pressure           : int  1027 1027 1027 1027 1027 1027 1027 1027 1027 1027 ...\n",
            " $ humidity           : int  63 63 63 63 63 63 63 63 63 63 ...\n",
            " $ wind_speed         : num  2.1 2.1 2.1 2.1 2.1 2.1 2.1 2.1 2.1 2.1 ...\n",
            " $ weather_main       : Factor w/ 10 levels \"Clear\",\"Clouds\",..: 1 1 1 1 1 1 1 1 1 1 ...\n",
            " $ weather_description: Factor w/ 18 levels \"broken clouds\",..: 15 15 15 15 15 15 15 15 15 15 ...\n",
            "Ranger result\n",
            "\n",
            "Call:\n",
            " ranger(KILLED_INJURED ~ ., data = training, mtry = 13, num.trees = 100,      min.node.size = 2) \n",
            "\n",
            "Type:                             Classification \n",
            "Number of trees:                  100 \n",
            "Sample size:                      29693 \n",
            "Number of independent variables:  13 \n",
            "Mtry:                             13 \n",
            "Target node size:                 2 \n",
            "Variable importance mode:         none \n",
            "Splitrule:                        gini \n",
            "OOB prediction error:             38.77 % \n"
          ]
        },
        {
          "output_type": "display_data",
          "data": {
            "text/plain": [
              "Confusion Matrix and Statistics\n",
              "\n",
              "    predic\n",
              "true    0    1    2    3    4    5    6    7    8   10   12   18\n",
              "  0  1861 1000  252   94   41   12    6    0    2    1    3    0\n",
              "  1   874 2155  140   53   34   10    7    3    0    4    0    0\n",
              "  2   258  191  418   20    4    0    3    0    0    0    0    0\n",
              "  3    96   64   16  149    3    2    1    0    0    0    0    0\n",
              "  4    45   34    6    0   87    0    1    0    0    0    0    0\n",
              "  5    26    8    1    2    1   38    0    0    0    0    0    0\n",
              "  6    11   11    2    0    0    0   10    0    0    0    0    0\n",
              "  7     4    2    0    0    0    0    0    4    0    0    0    0\n",
              "  8     1    1    0    0    1    0    0    0    4    0    0    0\n",
              "  10    2    1    0    0    1    0    0    0    0    1    0    0\n",
              "  12    0    2    2    2    0    0    0    0    0    0    6    0\n",
              "  18    0    0    1    0    0    0    0    0    0    0    0    3\n",
              "\n",
              "Overall Statistics\n",
              "                                         \n",
              "               Accuracy : 0.5848         \n",
              "                 95% CI : (0.574, 0.5956)\n",
              "    No Information Rate : 0.4284         \n",
              "    P-Value [Acc > NIR] : < 2.2e-16      \n",
              "                                         \n",
              "                  Kappa : 0.3655         \n",
              "                                         \n",
              " Mcnemar's Test P-Value : NA             \n",
              "\n",
              "Statistics by Class:\n",
              "\n",
              "                     Class: 0 Class: 1 Class: 2 Class: 3 Class: 4 Class: 5\n",
              "Sensitivity            0.5856   0.6212  0.49881  0.46563  0.50581 0.612903\n",
              "Specificity            0.7132   0.7570  0.93444  0.97660  0.98915 0.995271\n",
              "Pos Pred Value         0.5688   0.6570  0.46756  0.45015  0.50289 0.500000\n",
              "Neg Pred Value         0.7271   0.7273  0.94170  0.97798  0.98927 0.997008\n",
              "Prevalence             0.3924   0.4284  0.10348  0.03952  0.02124 0.007656\n",
              "Detection Rate         0.2298   0.2661  0.05162  0.01840  0.01074 0.004693\n",
              "Detection Prevalence   0.4041   0.4050  0.11040  0.04087  0.02136 0.009385\n",
              "Balanced Accuracy      0.6494   0.6891  0.71662  0.72111  0.74748 0.804087\n",
              "                     Class: 6  Class: 7  Class: 8 Class: 10 Class: 12 Class: 18\n",
              "Sensitivity          0.357143 0.5714286 0.6666667 0.1666667 0.6666667 1.0000000\n",
              "Specificity          0.997026 0.9992584 0.9996293 0.9995057 0.9992583 0.9998765\n",
              "Pos Pred Value       0.294118 0.4000000 0.5714286 0.2000000 0.5000000 0.7500000\n",
              "Neg Pred Value       0.997768 0.9996291 0.9997528 0.9993822 0.9996290 1.0000000\n",
              "Prevalence           0.003458 0.0008644 0.0007409 0.0007409 0.0011114 0.0003705\n",
              "Detection Rate       0.001235 0.0004939 0.0004939 0.0001235 0.0007409 0.0003705\n",
              "Detection Prevalence 0.004199 0.0012349 0.0008644 0.0006174 0.0014818 0.0004939\n",
              "Balanced Accuracy    0.677084 0.7853435 0.8331480 0.5830862 0.8329625 0.9999382"
            ]
          },
          "metadata": {}
        }
      ]
    },
    {
      "cell_type": "code",
      "source": [
        "## Data pre-processing\n",
        "data2=head(data1,200000)\n",
        "data2 = subset(data2, select = -c(CONTRIBUTING.FACTOR.VEHICLE.1,LATITUDE,LONGITUDE,wind_deg,temp_min,temp_max,dew_point,CONTRIBUTING.FACTOR.VEHICLE.2,COLLISION_ID,X,VEHICLE.TYPE.CODE.1,VEHICLE.TYPE.CODE.2,ON.STREET.NAME,CROSS.STREET.NAME,OFF.STREET.NAME, VEHICLE_ID,weather_id,clouds_all,rain_1h,wind_gust,weather_icon,rain_3h,snow_3h,sea_level,grnd_level,snow_1h) )\n",
        "names(data2)[names(data2) == \"KILLED.INJURED\"] <- \"KILLED_INJURED\"\n",
        "colSums(is.na(data2))\n",
        "data2$CRASH_DATE=as.Date(data2$CRASH_DATE, format = \"%Y-%m-%d\")\n",
        "nrow(data2)\n",
        "data2=data2[!is.na(data2$visibility),]\n",
        "nrow(data2)\n",
        "data2=data2[!is.na(data2$KILLED_INJURED),]\n",
        "data2$KILLED_INJURED <- as.factor(data2$KILLED_INJURED)\n",
        "nrow(data2)\n",
        "index0 <- which(data2$KILLED_INJURED == 0)\n",
        "index1 <- which(data2$KILLED_INJURED == 1)\n",
        "deleteindex <- sample(index0,length(index0)-length(index1))\n",
        "nrow(data2)\n",
        "data2=data2[-deleteindex,]\n",
        "nrow(data2)\n",
        "data2$weather_main <- as.factor(data2$weather_main)\n",
        "data2$weather_description <- as.factor(data2$weather_description)\n",
        "data2$PERSON_SEX <- as.factor(data2$PERSON_SEX)\n",
        "data2$WEEKDAY <- as.factor(data2$WEEKDAY)\n",
        "set.seed(1)\n",
        "sample = sample.split(data2, SplitRatio = 0.80)\n",
        "training = subset(data2, sample == TRUE)\n",
        "test = subset(data2, sample == FALSE)\n",
        "rm(sample)\n",
        "str(training)\n",
        "str(test)\n",
        "randFore100m5 <- ranger(KILLED_INJURED~., data=training, mtry=13,num.trees=100,min.node.size =2)\n",
        "print(randFore100m5)\n",
        "pred=predict(randFore100m5,test,type=\"response\")\n",
        "cm=table(true=test$KILLED_INJURED,predic=pred$predictions)\n",
        "confusionMatrix(cm)"
      ],
      "metadata": {
        "colab": {
          "base_uri": "https://localhost:8080/",
          "height": 1000
        },
        "id": "lqKtrS-SBLWd",
        "outputId": "3b571985-08b0-49fc-a360-e7041172fbc7"
      },
      "execution_count": null,
      "outputs": [
        {
          "output_type": "display_data",
          "data": {
            "text/html": [
              "<style>\n",
              ".dl-inline {width: auto; margin:0; padding: 0}\n",
              ".dl-inline>dt, .dl-inline>dd {float: none; width: auto; display: inline-block}\n",
              ".dl-inline>dt::after {content: \":\\0020\"; padding-right: .5ex}\n",
              ".dl-inline>dt:not(:first-of-type) {padding-left: .5ex}\n",
              "</style><dl class=dl-inline><dt>CRASH_DATE</dt><dd>0</dd><dt>CRASH_TIME</dt><dd>0</dd><dt>PERSON_AGE</dt><dd>0</dd><dt>PERSON_SEX</dt><dd>0</dd><dt>KILLED_INJURED</dt><dd>0</dd><dt>WEEKDAY</dt><dd>0</dd><dt>Holiday</dt><dd>0</dd><dt>temp</dt><dd>0</dd><dt>visibility</dt><dd>83</dd><dt>pressure</dt><dd>0</dd><dt>humidity</dt><dd>0</dd><dt>wind_speed</dt><dd>0</dd><dt>weather_main</dt><dd>0</dd><dt>weather_description</dt><dd>0</dd></dl>\n"
            ],
            "text/markdown": "CRASH_DATE\n:   0CRASH_TIME\n:   0PERSON_AGE\n:   0PERSON_SEX\n:   0KILLED_INJURED\n:   0WEEKDAY\n:   0Holiday\n:   0temp\n:   0visibility\n:   83pressure\n:   0humidity\n:   0wind_speed\n:   0weather_main\n:   0weather_description\n:   0\n\n",
            "text/latex": "\\begin{description*}\n\\item[CRASH\\textbackslash{}\\_DATE] 0\n\\item[CRASH\\textbackslash{}\\_TIME] 0\n\\item[PERSON\\textbackslash{}\\_AGE] 0\n\\item[PERSON\\textbackslash{}\\_SEX] 0\n\\item[KILLED\\textbackslash{}\\_INJURED] 0\n\\item[WEEKDAY] 0\n\\item[Holiday] 0\n\\item[temp] 0\n\\item[visibility] 83\n\\item[pressure] 0\n\\item[humidity] 0\n\\item[wind\\textbackslash{}\\_speed] 0\n\\item[weather\\textbackslash{}\\_main] 0\n\\item[weather\\textbackslash{}\\_description] 0\n\\end{description*}\n",
            "text/plain": [
              "         CRASH_DATE          CRASH_TIME          PERSON_AGE          PERSON_SEX \n",
              "                  0                   0                   0                   0 \n",
              "     KILLED_INJURED             WEEKDAY             Holiday                temp \n",
              "                  0                   0                   0                   0 \n",
              "         visibility            pressure            humidity          wind_speed \n",
              "                 83                   0                   0                   0 \n",
              "       weather_main weather_description \n",
              "                  0                   0 "
            ]
          },
          "metadata": {}
        },
        {
          "output_type": "display_data",
          "data": {
            "text/html": [
              "200000"
            ],
            "text/markdown": "200000",
            "text/latex": "200000",
            "text/plain": [
              "[1] 200000"
            ]
          },
          "metadata": {}
        },
        {
          "output_type": "display_data",
          "data": {
            "text/html": [
              "199917"
            ],
            "text/markdown": "199917",
            "text/latex": "199917",
            "text/plain": [
              "[1] 199917"
            ]
          },
          "metadata": {}
        },
        {
          "output_type": "display_data",
          "data": {
            "text/html": [
              "199917"
            ],
            "text/markdown": "199917",
            "text/latex": "199917",
            "text/plain": [
              "[1] 199917"
            ]
          },
          "metadata": {}
        },
        {
          "output_type": "display_data",
          "data": {
            "text/html": [
              "199917"
            ],
            "text/markdown": "199917",
            "text/latex": "199917",
            "text/plain": [
              "[1] 199917"
            ]
          },
          "metadata": {}
        },
        {
          "output_type": "display_data",
          "data": {
            "text/html": [
              "72812"
            ],
            "text/markdown": "72812",
            "text/latex": "72812",
            "text/plain": [
              "[1] 72812"
            ]
          },
          "metadata": {}
        },
        {
          "output_type": "stream",
          "name": "stdout",
          "text": [
            "'data.frame':\t57209 obs. of  14 variables:\n",
            " $ CRASH_DATE         : Date, format: \"2019-10-25\" \"2019-10-25\" ...\n",
            " $ CRASH_TIME         : int  15 15 15 15 15 15 15 15 15 15 ...\n",
            " $ PERSON_AGE         : num  82 33 42 65 27 38 35 39 35 35 ...\n",
            " $ PERSON_SEX         : Factor w/ 2 levels \"F\",\"M\": 2 2 2 2 2 2 2 2 2 2 ...\n",
            " $ KILLED_INJURED     : Factor w/ 15 levels \"0\",\"1\",\"2\",\"3\",..: 1 1 1 1 4 4 4 4 4 2 ...\n",
            " $ WEEKDAY            : Factor w/ 7 levels \"Friday\",\"Monday\",..: 1 1 1 1 1 1 1 1 1 1 ...\n",
            " $ Holiday            : chr  \"False\" \"False\" \"False\" \"False\" ...\n",
            " $ temp               : num  14.5 14.5 14.5 14.5 14.5 ...\n",
            " $ visibility         : num  10000 10000 10000 10000 10000 10000 10000 10000 10000 10000 ...\n",
            " $ pressure           : int  1027 1027 1027 1027 1027 1027 1027 1027 1027 1027 ...\n",
            " $ humidity           : int  63 63 63 63 63 63 63 63 63 63 ...\n",
            " $ wind_speed         : num  2.1 2.1 2.1 2.1 2.1 2.1 2.1 2.1 2.1 2.1 ...\n",
            " $ weather_main       : Factor w/ 11 levels \"Clear\",\"Clouds\",..: 1 1 1 1 1 1 1 1 1 1 ...\n",
            " $ weather_description: Factor w/ 20 levels \"broken clouds\",..: 15 15 15 15 15 15 15 15 15 15 ...\n",
            "'data.frame':\t15603 obs. of  14 variables:\n",
            " $ CRASH_DATE         : Date, format: \"2019-10-25\" \"2019-10-25\" ...\n",
            " $ CRASH_TIME         : int  15 15 15 15 15 15 15 15 15 17 ...\n",
            " $ PERSON_AGE         : num  51 39 35 46 58 29 38 77 77 27 ...\n",
            " $ PERSON_SEX         : Factor w/ 2 levels \"F\",\"M\": 2 2 1 1 2 1 1 2 2 2 ...\n",
            " $ KILLED_INJURED     : Factor w/ 15 levels \"0\",\"1\",\"2\",\"3\",..: 1 4 4 1 1 1 1 3 3 1 ...\n",
            " $ WEEKDAY            : Factor w/ 7 levels \"Friday\",\"Monday\",..: 1 1 1 1 1 1 1 1 1 3 ...\n",
            " $ Holiday            : chr  \"False\" \"False\" \"False\" \"False\" ...\n",
            " $ temp               : num  14.5 14.5 14.5 14.5 14.5 ...\n",
            " $ visibility         : num  10000 10000 10000 10000 10000 10000 10000 10000 10000 10000 ...\n",
            " $ pressure           : int  1027 1027 1027 1027 1027 1027 1027 1027 1027 1025 ...\n",
            " $ humidity           : int  63 63 63 63 63 63 63 63 63 48 ...\n",
            " $ wind_speed         : num  2.1 2.1 2.1 2.1 2.1 2.1 2.1 2.1 2.1 4.1 ...\n",
            " $ weather_main       : Factor w/ 11 levels \"Clear\",\"Clouds\",..: 1 1 1 1 1 1 1 1 1 7 ...\n",
            " $ weather_description: Factor w/ 20 levels \"broken clouds\",..: 15 15 15 15 15 15 15 15 15 7 ...\n",
            "Ranger result\n",
            "\n",
            "Call:\n",
            " ranger(KILLED_INJURED ~ ., data = training, mtry = 13, num.trees = 100,      min.node.size = 2) \n",
            "\n",
            "Type:                             Classification \n",
            "Number of trees:                  100 \n",
            "Sample size:                      57209 \n",
            "Number of independent variables:  13 \n",
            "Mtry:                             13 \n",
            "Target node size:                 2 \n",
            "Variable importance mode:         none \n",
            "Splitrule:                        gini \n",
            "OOB prediction error:             39.40 % \n"
          ]
        },
        {
          "output_type": "display_data",
          "data": {
            "text/plain": [
              "Confusion Matrix and Statistics\n",
              "\n",
              "    predic\n",
              "true    0    1    2    3    4    5    6    7    8    9   10   11   12   16   18\n",
              "  0  3503 2040  426  178   54   32   18    9    5    0    3    1    3    1    0\n",
              "  1  1623 4063  227  123   39   22   19    0    2    0    3    0    0    2    0\n",
              "  2   520  371  891   27    9   13    3    0    1    0    0    0    0    0    0\n",
              "  3   181  161   42  354    7    5    0    0    0    0    0    0    1    0    0\n",
              "  4    64   78   21    5  146    0    0    0    0    0    1    0    0    0    0\n",
              "  5    37   37    8    5    2   69    0    0    0    0    0    0    0    0    0\n",
              "  6    16   10    4    0    0    0   44    0    0    0    0    0    0    0    0\n",
              "  7     4    5    0    0    0    0    0   10    0    0    0    0    0    0    0\n",
              "  8     3    3    0    0    1    0    0    0   11    0    0    0    0    0    0\n",
              "  9     0    1    0    0    0    0    0    0    0    0    0    0    0    0    0\n",
              "  10    2    1    0    1    1    0    0    0    0    0    8    0    0    0    0\n",
              "  11    0    1    0    0    0    0    0    0    0    0    0    1    0    0    0\n",
              "  12    3    1    3    0    0    0    0    0    0    0    0    0    6    0    0\n",
              "  16    0    0    0    0    0    0    0    0    0    0    0    0    0    3    0\n",
              "  18    1    0    1    0    0    0    0    0    0    0    0    0    0    0    3\n",
              "\n",
              "Overall Statistics\n",
              "                                          \n",
              "               Accuracy : 0.584           \n",
              "                 95% CI : (0.5762, 0.5917)\n",
              "    No Information Rate : 0.434           \n",
              "    P-Value [Acc > NIR] : < 2.2e-16       \n",
              "                                          \n",
              "                  Kappa : 0.371           \n",
              "                                          \n",
              " Mcnemar's Test P-Value : NA              \n",
              "\n",
              "Statistics by Class:\n",
              "\n",
              "                     Class: 0 Class: 1 Class: 2 Class: 3 Class: 4 Class: 5\n",
              "Sensitivity            0.5880   0.6000   0.5490  0.51082 0.563707 0.489362\n",
              "Specificity            0.7128   0.7667   0.9325  0.97337 0.988986 0.994244\n",
              "Pos Pred Value         0.5584   0.6636   0.4856  0.47137 0.463492 0.436709\n",
              "Neg Pred Value         0.7370   0.7142   0.9468  0.97717 0.992609 0.995338\n",
              "Prevalence             0.3818   0.4340   0.1040  0.04441 0.016599 0.009037\n",
              "Detection Rate         0.2245   0.2604   0.0571  0.02269 0.009357 0.004422\n",
              "Detection Prevalence   0.4020   0.3924   0.1176  0.04813 0.020188 0.010126\n",
              "Balanced Accuracy      0.6504   0.6834   0.7407  0.74210 0.776346 0.741803\n",
              "                     Class: 6  Class: 7 Class: 8  Class: 9 Class: 10 Class: 11\n",
              "Sensitivity          0.523810 0.5263158 0.578947        NA 0.5333333 5.000e-01\n",
              "Specificity          0.998067 0.9994225 0.999551 9.999e-01 0.9996792 9.999e-01\n",
              "Pos Pred Value       0.594595 0.5263158 0.611111        NA 0.6153846 5.000e-01\n",
              "Neg Pred Value       0.997424 0.9994225 0.999487        NA 0.9995510 9.999e-01\n",
              "Prevalence           0.005384 0.0012177 0.001218 0.000e+00 0.0009614 1.282e-04\n",
              "Detection Rate       0.002820 0.0006409 0.000705 0.000e+00 0.0005127 6.409e-05\n",
              "Detection Prevalence 0.004743 0.0012177 0.001154 6.409e-05 0.0008332 1.282e-04\n",
              "Balanced Accuracy    0.760938 0.7628691 0.789249        NA 0.7665063 7.500e-01\n",
              "                     Class: 12 Class: 16 Class: 18\n",
              "Sensitivity          0.6000000 0.5000000 1.0000000\n",
              "Specificity          0.9995511 1.0000000 0.9998718\n",
              "Pos Pred Value       0.4615385 1.0000000 0.6000000\n",
              "Neg Pred Value       0.9997434 0.9998077 1.0000000\n",
              "Prevalence           0.0006409 0.0003845 0.0001923\n",
              "Detection Rate       0.0003845 0.0001923 0.0001923\n",
              "Detection Prevalence 0.0008332 0.0001923 0.0003205\n",
              "Balanced Accuracy    0.7997755 0.7500000 0.9999359"
            ]
          },
          "metadata": {}
        }
      ]
    },
    {
      "cell_type": "code",
      "source": [
        "## Data pre-processing\n",
        "data2=head(data1,500000)\n",
        "data2 = subset(data2, select = -c(CONTRIBUTING.FACTOR.VEHICLE.1,LATITUDE,LONGITUDE,wind_deg,temp_min,temp_max,dew_point,CONTRIBUTING.FACTOR.VEHICLE.2,COLLISION_ID,X,VEHICLE.TYPE.CODE.1,VEHICLE.TYPE.CODE.2,ON.STREET.NAME,CROSS.STREET.NAME,OFF.STREET.NAME, VEHICLE_ID,weather_id,clouds_all,rain_1h,wind_gust,weather_icon,rain_3h,snow_3h,sea_level,grnd_level,snow_1h) )\n",
        "names(data2)[names(data2) == \"KILLED.INJURED\"] <- \"KILLED_INJURED\"\n",
        "colSums(is.na(data2))\n",
        "data2$CRASH_DATE=as.Date(data2$CRASH_DATE, format = \"%Y-%m-%d\")\n",
        "nrow(data2)\n",
        "data2=data2[!is.na(data2$visibility),]\n",
        "nrow(data2)\n",
        "data2=data2[!is.na(data2$KILLED_INJURED),]\n",
        "data2$KILLED_INJURED <- as.factor(data2$KILLED_INJURED)\n",
        "nrow(data2)\n",
        "index0 <- which(data2$KILLED_INJURED == 0)\n",
        "index1 <- which(data2$KILLED_INJURED == 1)\n",
        "deleteindex <- sample(index0,length(index0)-length(index1))\n",
        "nrow(data2)\n",
        "data2=data2[-deleteindex,]\n",
        "nrow(data2)\n",
        "data2$weather_main <- as.factor(data2$weather_main)\n",
        "data2$weather_description <- as.factor(data2$weather_description)\n",
        "data2$PERSON_SEX <- as.factor(data2$PERSON_SEX)\n",
        "data2$WEEKDAY <- as.factor(data2$WEEKDAY)\n",
        "set.seed(1)\n",
        "sample = sample.split(data2, SplitRatio = 0.80)\n",
        "training = subset(data2, sample == TRUE)\n",
        "test = subset(data2, sample == FALSE)\n",
        "rm(sample)\n",
        "str(training)\n",
        "str(test)\n",
        "randFore100m5 <- ranger(KILLED_INJURED~., data=training, mtry=13,num.trees=100,min.node.size =2)\n",
        "print(randFore100m5)\n",
        "pred=predict(randFore100m5,test,type=\"response\")\n",
        "cm=table(true=test$KILLED_INJURED,predic=pred$predictions)\n",
        "confusionMatrix(cm)"
      ],
      "metadata": {
        "colab": {
          "base_uri": "https://localhost:8080/",
          "height": 1000
        },
        "id": "lhBnb7OrBOST",
        "outputId": "f8d173e2-dc70-4617-dc5e-e69f197f0b41"
      },
      "execution_count": null,
      "outputs": [
        {
          "output_type": "display_data",
          "data": {
            "text/html": [
              "<style>\n",
              ".dl-inline {width: auto; margin:0; padding: 0}\n",
              ".dl-inline>dt, .dl-inline>dd {float: none; width: auto; display: inline-block}\n",
              ".dl-inline>dt::after {content: \":\\0020\"; padding-right: .5ex}\n",
              ".dl-inline>dt:not(:first-of-type) {padding-left: .5ex}\n",
              "</style><dl class=dl-inline><dt>CRASH_DATE</dt><dd>0</dd><dt>CRASH_TIME</dt><dd>0</dd><dt>PERSON_AGE</dt><dd>0</dd><dt>PERSON_SEX</dt><dd>0</dd><dt>KILLED_INJURED</dt><dd>1</dd><dt>WEEKDAY</dt><dd>0</dd><dt>Holiday</dt><dd>0</dd><dt>temp</dt><dd>0</dd><dt>visibility</dt><dd>442</dd><dt>pressure</dt><dd>0</dd><dt>humidity</dt><dd>0</dd><dt>wind_speed</dt><dd>0</dd><dt>weather_main</dt><dd>0</dd><dt>weather_description</dt><dd>0</dd></dl>\n"
            ],
            "text/markdown": "CRASH_DATE\n:   0CRASH_TIME\n:   0PERSON_AGE\n:   0PERSON_SEX\n:   0KILLED_INJURED\n:   1WEEKDAY\n:   0Holiday\n:   0temp\n:   0visibility\n:   442pressure\n:   0humidity\n:   0wind_speed\n:   0weather_main\n:   0weather_description\n:   0\n\n",
            "text/latex": "\\begin{description*}\n\\item[CRASH\\textbackslash{}\\_DATE] 0\n\\item[CRASH\\textbackslash{}\\_TIME] 0\n\\item[PERSON\\textbackslash{}\\_AGE] 0\n\\item[PERSON\\textbackslash{}\\_SEX] 0\n\\item[KILLED\\textbackslash{}\\_INJURED] 1\n\\item[WEEKDAY] 0\n\\item[Holiday] 0\n\\item[temp] 0\n\\item[visibility] 442\n\\item[pressure] 0\n\\item[humidity] 0\n\\item[wind\\textbackslash{}\\_speed] 0\n\\item[weather\\textbackslash{}\\_main] 0\n\\item[weather\\textbackslash{}\\_description] 0\n\\end{description*}\n",
            "text/plain": [
              "         CRASH_DATE          CRASH_TIME          PERSON_AGE          PERSON_SEX \n",
              "                  0                   0                   0                   0 \n",
              "     KILLED_INJURED             WEEKDAY             Holiday                temp \n",
              "                  1                   0                   0                   0 \n",
              "         visibility            pressure            humidity          wind_speed \n",
              "                442                   0                   0                   0 \n",
              "       weather_main weather_description \n",
              "                  0                   0 "
            ]
          },
          "metadata": {}
        },
        {
          "output_type": "display_data",
          "data": {
            "text/html": [
              "500000"
            ],
            "text/markdown": "500000",
            "text/latex": "500000",
            "text/plain": [
              "[1] 500000"
            ]
          },
          "metadata": {}
        },
        {
          "output_type": "display_data",
          "data": {
            "text/html": [
              "499558"
            ],
            "text/markdown": "499558",
            "text/latex": "499558",
            "text/plain": [
              "[1] 499558"
            ]
          },
          "metadata": {}
        },
        {
          "output_type": "display_data",
          "data": {
            "text/html": [
              "499557"
            ],
            "text/markdown": "499557",
            "text/latex": "499557",
            "text/plain": [
              "[1] 499557"
            ]
          },
          "metadata": {}
        },
        {
          "output_type": "display_data",
          "data": {
            "text/html": [
              "499557"
            ],
            "text/markdown": "499557",
            "text/latex": "499557",
            "text/plain": [
              "[1] 499557"
            ]
          },
          "metadata": {}
        },
        {
          "output_type": "display_data",
          "data": {
            "text/html": [
              "180966"
            ],
            "text/markdown": "180966",
            "text/latex": "180966",
            "text/plain": [
              "[1] 180966"
            ]
          },
          "metadata": {}
        },
        {
          "output_type": "stream",
          "name": "stdout",
          "text": [
            "'data.frame':\t142188 obs. of  14 variables:\n",
            " $ CRASH_DATE         : Date, format: \"2019-10-25\" \"2019-10-25\" ...\n",
            " $ CRASH_TIME         : int  15 15 15 15 15 15 15 15 15 15 ...\n",
            " $ PERSON_AGE         : num  33 33 42 39 38 35 39 35 35 35 ...\n",
            " $ PERSON_SEX         : Factor w/ 2 levels \"F\",\"M\": 2 2 2 2 2 2 2 2 2 2 ...\n",
            " $ KILLED_INJURED     : Factor w/ 16 levels \"0\",\"1\",\"2\",\"3\",..: 1 1 1 4 4 4 4 4 2 2 ...\n",
            " $ WEEKDAY            : Factor w/ 7 levels \"Friday\",\"Monday\",..: 1 1 1 1 1 1 1 1 1 1 ...\n",
            " $ Holiday            : chr  \"False\" \"False\" \"False\" \"False\" ...\n",
            " $ temp               : num  14.5 14.5 14.5 14.5 14.5 ...\n",
            " $ visibility         : num  10000 10000 10000 10000 10000 10000 10000 10000 10000 10000 ...\n",
            " $ pressure           : int  1027 1027 1027 1027 1027 1027 1027 1027 1027 1027 ...\n",
            " $ humidity           : int  63 63 63 63 63 63 63 63 63 63 ...\n",
            " $ wind_speed         : num  2.1 2.1 2.1 2.1 2.1 2.1 2.1 2.1 2.1 2.1 ...\n",
            " $ weather_main       : Factor w/ 11 levels \"Clear\",\"Clouds\",..: 1 1 1 1 1 1 1 1 1 1 ...\n",
            " $ weather_description: Factor w/ 24 levels \"broken clouds\",..: 17 17 17 17 17 17 17 17 17 17 ...\n",
            "'data.frame':\t38778 obs. of  14 variables:\n",
            " $ CRASH_DATE         : Date, format: \"2019-10-25\" \"2019-10-25\" ...\n",
            " $ CRASH_TIME         : int  15 15 15 15 15 15 15 15 15 17 ...\n",
            " $ PERSON_AGE         : num  17 35 27 31 21 21 73 62 59 29 ...\n",
            " $ PERSON_SEX         : Factor w/ 2 levels \"F\",\"M\": 2 1 2 1 1 1 1 2 1 2 ...\n",
            " $ KILLED_INJURED     : Factor w/ 16 levels \"0\",\"1\",\"2\",\"3\",..: 1 4 4 2 2 2 3 1 2 2 ...\n",
            " $ WEEKDAY            : Factor w/ 7 levels \"Friday\",\"Monday\",..: 1 1 1 1 1 1 1 1 1 3 ...\n",
            " $ Holiday            : chr  \"False\" \"False\" \"False\" \"False\" ...\n",
            " $ temp               : num  14.5 14.5 14.5 14.5 14.5 ...\n",
            " $ visibility         : num  10000 10000 10000 10000 10000 10000 10000 10000 10000 10000 ...\n",
            " $ pressure           : int  1027 1027 1027 1027 1027 1027 1027 1027 1027 1025 ...\n",
            " $ humidity           : int  63 63 63 63 63 63 63 63 63 48 ...\n",
            " $ wind_speed         : num  2.1 2.1 2.1 2.1 2.1 2.1 2.1 2.1 2.1 4.1 ...\n",
            " $ weather_main       : Factor w/ 11 levels \"Clear\",\"Clouds\",..: 1 1 1 1 1 1 1 1 1 7 ...\n",
            " $ weather_description: Factor w/ 24 levels \"broken clouds\",..: 17 17 17 17 17 17 17 17 17 9 ...\n",
            "Growing trees.. Progress: 45%. Estimated remaining time: 39 seconds.\n",
            "Growing trees.. Progress: 92%. Estimated remaining time: 5 seconds.\n",
            "Ranger result\n",
            "\n",
            "Call:\n",
            " ranger(KILLED_INJURED ~ ., data = training, mtry = 13, num.trees = 100,      min.node.size = 2) \n",
            "\n",
            "Type:                             Classification \n",
            "Number of trees:                  100 \n",
            "Sample size:                      142188 \n",
            "Number of independent variables:  13 \n",
            "Mtry:                             13 \n",
            "Target node size:                 2 \n",
            "Variable importance mode:         none \n",
            "Splitrule:                        gini \n",
            "OOB prediction error:             40.03 % \n"
          ]
        },
        {
          "output_type": "display_data",
          "data": {
            "text/plain": [
              "Confusion Matrix and Statistics\n",
              "\n",
              "    predic\n",
              "true     0     1     2     3     4     5     6     7     8     9    10    11\n",
              "  0   8773  5051  1156   429   166    80    37     9     9     3     2     1\n",
              "  1   4109 10117   721   307   117    48    26    14     7     2     3     0\n",
              "  2   1173   910  2179    82    39    13     7     2     2     2     0     0\n",
              "  3    494   362    85   805    16     8     2     2     2     0     0     0\n",
              "  4    197   162    37    21   315     0     1     0     1     0     0     0\n",
              "  5     64    58    20     6     2   169     0     1     0     0     0     1\n",
              "  6     44    35     7     1     3     0    88     1     0     0     0     0\n",
              "  7     11    11     6     3     0     0     0    19     0     0     0     0\n",
              "  8     11     9     2     1     0     0     0     0    27     0     0     0\n",
              "  9      1     3     0     0     0     0     0     0     0     6     0     0\n",
              "  10     1     4     1     1     0     0     0     0     0     0    10     0\n",
              "  11     0     1     2     0     0     0     0     0     0     0     0     2\n",
              "  12     5     0     1     0     0     0     0     0     0     0     0     0\n",
              "  13     1     2     0     0     0     0     0     0     0     0     0     0\n",
              "  16     0     0     1     0     0     0     0     0     0     0     0     0\n",
              "  18     2     0     2     0     0     0     0     0     0     0     0     0\n",
              "    predic\n",
              "true    12    13    16    18\n",
              "  0      1     1     0     3\n",
              "  1      1     0     2     1\n",
              "  2      0     0     0     1\n",
              "  3      0     0     0     0\n",
              "  4      0     0     0     0\n",
              "  5      0     0     0     0\n",
              "  6      0     0     0     0\n",
              "  7      0     0     0     0\n",
              "  8      0     0     0     0\n",
              "  9      0     0     0     0\n",
              "  10     0     0     0     0\n",
              "  11     0     0     0     0\n",
              "  12     7     0     0     0\n",
              "  13     0     3     0     0\n",
              "  16     0     0     2     0\n",
              "  18     0     0     0     4\n",
              "\n",
              "Overall Statistics\n",
              "                                         \n",
              "               Accuracy : 0.5809         \n",
              "                 95% CI : (0.576, 0.5858)\n",
              "    No Information Rate : 0.4313         \n",
              "    P-Value [Acc > NIR] : < 2.2e-16      \n",
              "                                         \n",
              "                  Kappa : 0.3626         \n",
              "                                         \n",
              " Mcnemar's Test P-Value : NA             \n",
              "\n",
              "Statistics by Class:\n",
              "\n",
              "                     Class: 0 Class: 1 Class: 2 Class: 3 Class: 4 Class: 5\n",
              "Sensitivity            0.5893   0.6049  0.51635  0.48611 0.478723 0.531447\n",
              "Specificity            0.7092   0.7570  0.93544  0.97384 0.989008 0.996048\n",
              "Pos Pred Value         0.5580   0.6538  0.49410  0.45327 0.429155 0.526480\n",
              "Neg Pred Value         0.7349   0.7164  0.94061  0.97700 0.990984 0.996126\n",
              "Prevalence             0.3839   0.4313  0.10882  0.04270 0.016968 0.008201\n",
              "Detection Rate         0.2262   0.2609  0.05619  0.02076 0.008123 0.004358\n",
              "Detection Prevalence   0.4054   0.3991  0.11372  0.04580 0.018928 0.008278\n",
              "Balanced Accuracy      0.6493   0.6810  0.72590  0.72998 0.733866 0.763747\n",
              "                     Class: 6 Class: 7  Class: 8  Class: 9 Class: 10 Class: 11\n",
              "Sensitivity          0.546584 0.395833 0.5625000 0.4615385 0.6666667 5.000e-01\n",
              "Specificity          0.997644 0.999200 0.9994061 0.9998968 0.9998194 9.999e-01\n",
              "Pos Pred Value       0.491620 0.380000 0.5400000 0.6000000 0.5882353 4.000e-01\n",
              "Neg Pred Value       0.998109 0.999251 0.9994578 0.9998194 0.9998710 9.999e-01\n",
              "Prevalence           0.004152 0.001238 0.0012378 0.0003352 0.0003868 1.032e-04\n",
              "Detection Rate       0.002269 0.000490 0.0006963 0.0001547 0.0002579 5.158e-05\n",
              "Detection Prevalence 0.004616 0.001289 0.0012894 0.0002579 0.0004384 1.289e-04\n",
              "Balanced Accuracy    0.772114 0.697516 0.7809531 0.7307176 0.8332430 7.500e-01\n",
              "                     Class: 12 Class: 13 Class: 16 Class: 18\n",
              "Sensitivity          0.7777778 7.500e-01 5.000e-01 0.4444444\n",
              "Specificity          0.9998452 9.999e-01 1.000e+00 0.9998968\n",
              "Pos Pred Value       0.5384615 5.000e-01 6.667e-01 0.5000000\n",
              "Neg Pred Value       0.9999484 1.000e+00 9.999e-01 0.9998710\n",
              "Prevalence           0.0002321 1.032e-04 1.032e-04 0.0002321\n",
              "Detection Rate       0.0001805 7.736e-05 5.158e-05 0.0001032\n",
              "Detection Prevalence 0.0003352 1.547e-04 7.736e-05 0.0002063\n",
              "Balanced Accuracy    0.8888115 8.750e-01 7.500e-01 0.7221706"
            ]
          },
          "metadata": {}
        }
      ]
    },
    {
      "cell_type": "code",
      "source": [
        "## Data pre-processing\n",
        "data2=head(data1,1000000)\n",
        "data2 = subset(data2, select = -c(CONTRIBUTING.FACTOR.VEHICLE.1,LATITUDE,LONGITUDE,wind_deg,temp_min,temp_max,dew_point,CONTRIBUTING.FACTOR.VEHICLE.2,COLLISION_ID,X,VEHICLE.TYPE.CODE.1,VEHICLE.TYPE.CODE.2,ON.STREET.NAME,CROSS.STREET.NAME,OFF.STREET.NAME, VEHICLE_ID,weather_id,clouds_all,rain_1h,wind_gust,weather_icon,rain_3h,snow_3h,sea_level,grnd_level,snow_1h) )\n",
        "names(data2)[names(data2) == \"KILLED.INJURED\"] <- \"KILLED_INJURED\"\n",
        "colSums(is.na(data2))\n",
        "data2$CRASH_DATE=as.Date(data2$CRASH_DATE, format = \"%Y-%m-%d\")\n",
        "nrow(data2)\n",
        "data2=data2[!is.na(data2$visibility),]\n",
        "nrow(data2)\n",
        "data2=data2[!is.na(data2$KILLED_INJURED),]\n",
        "data2$KILLED_INJURED <- as.factor(data2$KILLED_INJURED)\n",
        "nrow(data2)\n",
        "index0 <- which(data2$KILLED_INJURED == 0)\n",
        "index1 <- which(data2$KILLED_INJURED == 1)\n",
        "deleteindex <- sample(index0,length(index0)-length(index1))\n",
        "nrow(data2)\n",
        "data2=data2[-deleteindex,]\n",
        "nrow(data2)\n",
        "data2$weather_main <- as.factor(data2$weather_main)\n",
        "data2$weather_description <- as.factor(data2$weather_description)\n",
        "data2$PERSON_SEX <- as.factor(data2$PERSON_SEX)\n",
        "data2$WEEKDAY <- as.factor(data2$WEEKDAY)\n",
        "set.seed(1)\n",
        "sample = sample.split(data2, SplitRatio = 0.80)\n",
        "training = subset(data2, sample == TRUE)\n",
        "test = subset(data2, sample == FALSE)\n",
        "rm(sample)\n",
        "str(training)\n",
        "str(test)\n",
        "randFore100m5 <- ranger(KILLED_INJURED~., data=training, mtry=13,num.trees=100,min.node.size =2)\n",
        "print(randFore100m5)\n",
        "pred=predict(randFore100m5,test,type=\"response\")\n",
        "cm=table(true=test$KILLED_INJURED,predic=pred$predictions)\n",
        "confusionMatrix(cm)"
      ],
      "metadata": {
        "colab": {
          "base_uri": "https://localhost:8080/",
          "height": 1000
        },
        "id": "B41zmen5BPyu",
        "outputId": "1a8773a9-5bcd-4f66-b960-7f8c0d2dbbb9"
      },
      "execution_count": null,
      "outputs": [
        {
          "output_type": "display_data",
          "data": {
            "text/html": [
              "<style>\n",
              ".dl-inline {width: auto; margin:0; padding: 0}\n",
              ".dl-inline>dt, .dl-inline>dd {float: none; width: auto; display: inline-block}\n",
              ".dl-inline>dt::after {content: \":\\0020\"; padding-right: .5ex}\n",
              ".dl-inline>dt:not(:first-of-type) {padding-left: .5ex}\n",
              "</style><dl class=dl-inline><dt>CRASH_DATE</dt><dd>0</dd><dt>CRASH_TIME</dt><dd>0</dd><dt>PERSON_AGE</dt><dd>0</dd><dt>PERSON_SEX</dt><dd>0</dd><dt>KILLED_INJURED</dt><dd>22</dd><dt>WEEKDAY</dt><dd>0</dd><dt>Holiday</dt><dd>0</dd><dt>temp</dt><dd>0</dd><dt>visibility</dt><dd>1106</dd><dt>pressure</dt><dd>0</dd><dt>humidity</dt><dd>0</dd><dt>wind_speed</dt><dd>0</dd><dt>weather_main</dt><dd>0</dd><dt>weather_description</dt><dd>0</dd></dl>\n"
            ],
            "text/markdown": "CRASH_DATE\n:   0CRASH_TIME\n:   0PERSON_AGE\n:   0PERSON_SEX\n:   0KILLED_INJURED\n:   22WEEKDAY\n:   0Holiday\n:   0temp\n:   0visibility\n:   1106pressure\n:   0humidity\n:   0wind_speed\n:   0weather_main\n:   0weather_description\n:   0\n\n",
            "text/latex": "\\begin{description*}\n\\item[CRASH\\textbackslash{}\\_DATE] 0\n\\item[CRASH\\textbackslash{}\\_TIME] 0\n\\item[PERSON\\textbackslash{}\\_AGE] 0\n\\item[PERSON\\textbackslash{}\\_SEX] 0\n\\item[KILLED\\textbackslash{}\\_INJURED] 22\n\\item[WEEKDAY] 0\n\\item[Holiday] 0\n\\item[temp] 0\n\\item[visibility] 1106\n\\item[pressure] 0\n\\item[humidity] 0\n\\item[wind\\textbackslash{}\\_speed] 0\n\\item[weather\\textbackslash{}\\_main] 0\n\\item[weather\\textbackslash{}\\_description] 0\n\\end{description*}\n",
            "text/plain": [
              "         CRASH_DATE          CRASH_TIME          PERSON_AGE          PERSON_SEX \n",
              "                  0                   0                   0                   0 \n",
              "     KILLED_INJURED             WEEKDAY             Holiday                temp \n",
              "                 22                   0                   0                   0 \n",
              "         visibility            pressure            humidity          wind_speed \n",
              "               1106                   0                   0                   0 \n",
              "       weather_main weather_description \n",
              "                  0                   0 "
            ]
          },
          "metadata": {}
        },
        {
          "output_type": "display_data",
          "data": {
            "text/html": [
              "1000000"
            ],
            "text/markdown": "1000000",
            "text/latex": "1000000",
            "text/plain": [
              "[1] 1000000"
            ]
          },
          "metadata": {}
        },
        {
          "output_type": "display_data",
          "data": {
            "text/html": [
              "998894"
            ],
            "text/markdown": "998894",
            "text/latex": "998894",
            "text/plain": [
              "[1] 998894"
            ]
          },
          "metadata": {}
        },
        {
          "output_type": "display_data",
          "data": {
            "text/html": [
              "998872"
            ],
            "text/markdown": "998872",
            "text/latex": "998872",
            "text/plain": [
              "[1] 998872"
            ]
          },
          "metadata": {}
        },
        {
          "output_type": "display_data",
          "data": {
            "text/html": [
              "998872"
            ],
            "text/markdown": "998872",
            "text/latex": "998872",
            "text/plain": [
              "[1] 998872"
            ]
          },
          "metadata": {}
        },
        {
          "output_type": "display_data",
          "data": {
            "text/html": [
              "361972"
            ],
            "text/markdown": "361972",
            "text/latex": "361972",
            "text/plain": [
              "[1] 361972"
            ]
          },
          "metadata": {}
        },
        {
          "output_type": "stream",
          "name": "stdout",
          "text": [
            "'data.frame':\t284407 obs. of  14 variables:\n",
            " $ CRASH_DATE         : Date, format: \"2019-10-25\" \"2019-10-25\" ...\n",
            " $ CRASH_TIME         : int  15 15 15 15 15 15 15 15 15 15 ...\n",
            " $ PERSON_AGE         : num  42 42 39 27 39 35 35 35 25 43 ...\n",
            " $ PERSON_SEX         : Factor w/ 2 levels \"F\",\"M\": 2 2 2 2 2 2 2 2 1 1 ...\n",
            " $ KILLED_INJURED     : Factor w/ 19 levels \"0\",\"1\",\"2\",\"3\",..: 1 1 4 4 4 4 2 2 2 1 ...\n",
            " $ WEEKDAY            : Factor w/ 7 levels \"Friday\",\"Monday\",..: 1 1 1 1 1 1 1 1 1 1 ...\n",
            " $ Holiday            : chr  \"False\" \"False\" \"False\" \"False\" ...\n",
            " $ temp               : num  14.5 14.5 14.5 14.5 14.5 ...\n",
            " $ visibility         : num  10000 10000 10000 10000 10000 10000 10000 10000 10000 10000 ...\n",
            " $ pressure           : int  1027 1027 1027 1027 1027 1027 1027 1027 1027 1027 ...\n",
            " $ humidity           : int  63 63 63 63 63 63 63 63 63 63 ...\n",
            " $ wind_speed         : num  2.1 2.1 2.1 2.1 2.1 2.1 2.1 2.1 2.1 2.1 ...\n",
            " $ weather_main       : Factor w/ 11 levels \"Clear\",\"Clouds\",..: 1 1 1 1 1 1 1 1 1 1 ...\n",
            " $ weather_description: Factor w/ 25 levels \"broken clouds\",..: 18 18 18 18 18 18 18 18 18 18 ...\n",
            "'data.frame':\t77565 obs. of  14 variables:\n",
            " $ CRASH_DATE         : Date, format: \"2019-10-25\" \"2019-10-25\" ...\n",
            " $ CRASH_TIME         : int  15 15 15 15 15 15 15 15 15 17 ...\n",
            " $ PERSON_AGE         : num  35 38 35 21 29 33 39 46 62 59 ...\n",
            " $ PERSON_SEX         : Factor w/ 2 levels \"F\",\"M\": 1 2 2 1 2 2 1 2 2 2 ...\n",
            " $ KILLED_INJURED     : Factor w/ 19 levels \"0\",\"1\",\"2\",\"3\",..: 4 4 4 2 7 7 3 1 1 2 ...\n",
            " $ WEEKDAY            : Factor w/ 7 levels \"Friday\",\"Monday\",..: 1 1 1 1 1 1 1 1 1 3 ...\n",
            " $ Holiday            : chr  \"False\" \"False\" \"False\" \"False\" ...\n",
            " $ temp               : num  14.5 14.5 14.5 14.5 14.5 ...\n",
            " $ visibility         : num  10000 10000 10000 10000 10000 10000 10000 10000 10000 10000 ...\n",
            " $ pressure           : int  1027 1027 1027 1027 1027 1027 1027 1027 1027 1025 ...\n",
            " $ humidity           : int  63 63 63 63 63 63 63 63 63 48 ...\n",
            " $ wind_speed         : num  2.1 2.1 2.1 2.1 2.1 2.1 2.1 2.1 2.1 4.1 ...\n",
            " $ weather_main       : Factor w/ 11 levels \"Clear\",\"Clouds\",..: 1 1 1 1 1 1 1 1 1 7 ...\n",
            " $ weather_description: Factor w/ 25 levels \"broken clouds\",..: 18 18 18 18 18 18 18 18 18 10 ...\n",
            "Growing trees.. Progress: 17%. Estimated remaining time: 2 minutes, 45 seconds.\n",
            "Growing trees.. Progress: 37%. Estimated remaining time: 1 minute, 55 seconds.\n",
            "Growing trees.. Progress: 54%. Estimated remaining time: 1 minute, 25 seconds.\n",
            "Growing trees.. Progress: 72%. Estimated remaining time: 51 seconds.\n",
            "Growing trees.. Progress: 91%. Estimated remaining time: 16 seconds.\n",
            "Ranger result\n",
            "\n",
            "Call:\n",
            " ranger(KILLED_INJURED ~ ., data = training, mtry = 13, num.trees = 100,      min.node.size = 2) \n",
            "\n",
            "Type:                             Classification \n",
            "Number of trees:                  100 \n",
            "Sample size:                      284407 \n",
            "Number of independent variables:  13 \n",
            "Mtry:                             13 \n",
            "Target node size:                 2 \n",
            "Variable importance mode:         none \n",
            "Splitrule:                        gini \n",
            "OOB prediction error:             40.13 % \n"
          ]
        },
        {
          "output_type": "display_data",
          "data": {
            "text/plain": [
              "Confusion Matrix and Statistics\n",
              "\n",
              "    predic\n",
              "true     0     1     2     3     4     5     6     7     8     9    10    11\n",
              "  0  17348 10039  2137   805   312   153    68    27    19     4     6     3\n",
              "  1   8528 20375  1423   503   226    78    43    15    11     1     6     2\n",
              "  2   2463  1943  4166   171    65    33     9     4     5     0     2     1\n",
              "  3   1010   811   193  1652    32    14     5     2     0     0     1     0\n",
              "  4    402   305    73    17   631     5     4     6     2     0     2     0\n",
              "  5    221   129    34    22     5   318     2     0     0     0     0     0\n",
              "  6     91    46    12     6     6     1   146     0     0     0     0     1\n",
              "  7     39    23     9     5     1     0     0    47     0     0     0     0\n",
              "  8     27    28     5     2     1     0     0     0    40     0     0     0\n",
              "  9      3     8     2     0     0     0     0     0     0    10     0     0\n",
              "  10     3     7     1     0     0     0     0     0     0     0    13     0\n",
              "  11     5     2     0     0     0     0     0     0     0     0     0     9\n",
              "  12     4     3     2     0     0     0     0     0     0     0     0     0\n",
              "  13     4     0     0     0     0     0     0     0     0     0     0     0\n",
              "  15     2     1     0     0     0     0     0     0     0     0     0     0\n",
              "  16     0     0     0     0     0     0     0     0     0     0     0     0\n",
              "  17     1     1     1     0     0     0     0     0     0     0     0     0\n",
              "  18     3     0     1     0     0     0     0     0     0     0     0     0\n",
              "  20     1     1     0     0     0     0     0     0     0     0     0     0\n",
              "    predic\n",
              "true    12    13    15    16    17    18    20\n",
              "  0      1     5     0     1     0     3     1\n",
              "  1      1     0     0     2     0     1     0\n",
              "  2      0     0     0     1     0     0     0\n",
              "  3      1     0     0     0     0     0     0\n",
              "  4      0     0     0     0     0     0     0\n",
              "  5      0     0     0     0     0     0     0\n",
              "  6      0     0     0     0     0     0     0\n",
              "  7      0     0     0     0     0     0     0\n",
              "  8      0     0     0     0     0     0     0\n",
              "  9      0     0     0     0     0     0     0\n",
              "  10     0     0     0     0     0     0     0\n",
              "  11     0     0     0     0     0     0     0\n",
              "  12    14     0     0     0     0     0     0\n",
              "  13     0     3     0     0     0     0     0\n",
              "  15     0     0     1     0     0     0     0\n",
              "  16     0     0     0     7     0     0     0\n",
              "  17     0     0     0     0     1     0     0\n",
              "  18     0     0     0     0     0     2     0\n",
              "  20     0     0     0     0     0     0     4\n",
              "\n",
              "Overall Statistics\n",
              "                                          \n",
              "               Accuracy : 0.5774          \n",
              "                 95% CI : (0.5739, 0.5809)\n",
              "    No Information Rate : 0.4348          \n",
              "    P-Value [Acc > NIR] : < 2.2e-16       \n",
              "                                          \n",
              "                  Kappa : 0.3556          \n",
              "                                          \n",
              " Mcnemar's Test P-Value : NA              \n",
              "\n",
              "Statistics by Class:\n",
              "\n",
              "                     Class: 0 Class: 1 Class: 2 Class: 3 Class: 4 Class: 5\n",
              "Sensitivity            0.5753   0.6042  0.51694  0.51901 0.493354 0.528239\n",
              "Specificity            0.7135   0.7528  0.93242  0.97218 0.989303 0.994634\n",
              "Pos Pred Value         0.5608   0.6527  0.47004  0.44397 0.436075 0.435021\n",
              "Neg Pred Value         0.7254   0.7120  0.94333  0.97927 0.991487 0.996304\n",
              "Prevalence             0.3888   0.4348  0.10390  0.04104 0.016489 0.007761\n",
              "Detection Rate         0.2237   0.2627  0.05371  0.02130 0.008135 0.004100\n",
              "Detection Prevalence   0.3988   0.4024  0.11427  0.04797 0.018655 0.009424\n",
              "Balanced Accuracy      0.6444   0.6785  0.72468  0.74560 0.741329 0.761436\n",
              "                     Class: 6  Class: 7  Class: 8  Class: 9 Class: 10 Class: 11\n",
              "Sensitivity          0.527076 0.4653465 0.5194805 0.6666667 0.4333333 0.5625000\n",
              "Specificity          0.997891 0.9990060 0.9991870 0.9998324 0.9998581 0.9999097\n",
              "Pos Pred Value       0.472492 0.3790323 0.3883495 0.4347826 0.5416667 0.5625000\n",
              "Neg Pred Value       0.998304 0.9993027 0.9995223 0.9999355 0.9997808 0.9999097\n",
              "Prevalence           0.003571 0.0013021 0.0009927 0.0001934 0.0003868 0.0002063\n",
              "Detection Rate       0.001882 0.0006059 0.0005157 0.0001289 0.0001676 0.0001160\n",
              "Detection Prevalence 0.003984 0.0015987 0.0013279 0.0002965 0.0003094 0.0002063\n",
              "Balanced Accuracy    0.762483 0.7321763 0.7593337 0.8332495 0.7165957 0.7812049\n",
              "                     Class: 12 Class: 13 Class: 15 Class: 16 Class: 17\n",
              "Sensitivity          0.8235294 3.750e-01 1.000e+00 6.364e-01 1.000e+00\n",
              "Specificity          0.9998839 9.999e-01 1.000e+00 1.000e+00 1.000e+00\n",
              "Pos Pred Value       0.6086957 4.286e-01 2.500e-01 1.000e+00 2.500e-01\n",
              "Neg Pred Value       0.9999613 9.999e-01 1.000e+00 9.999e-01 1.000e+00\n",
              "Prevalence           0.0002192 1.031e-04 1.289e-05 1.418e-04 1.289e-05\n",
              "Detection Rate       0.0001805 3.868e-05 1.289e-05 9.025e-05 1.289e-05\n",
              "Detection Prevalence 0.0002965 9.025e-05 5.157e-05 9.025e-05 5.157e-05\n",
              "Balanced Accuracy    0.9117067 6.875e-01 1.000e+00 8.182e-01 1.000e+00\n",
              "                     Class: 18 Class: 20\n",
              "Sensitivity          3.333e-01 8.000e-01\n",
              "Specificity          9.999e-01 1.000e+00\n",
              "Pos Pred Value       3.333e-01 6.667e-01\n",
              "Neg Pred Value       9.999e-01 1.000e+00\n",
              "Prevalence           7.735e-05 6.446e-05\n",
              "Detection Rate       2.578e-05 5.157e-05\n",
              "Detection Prevalence 7.735e-05 7.735e-05\n",
              "Balanced Accuracy    6.666e-01 9.000e-01"
            ]
          },
          "metadata": {}
        }
      ]
    },
    {
      "cell_type": "markdown",
      "source": [
        "# Grid Optimization"
      ],
      "metadata": {
        "id": "Aua3VzvsCqil"
      }
    },
    {
      "cell_type": "code",
      "source": [
        "## Data pre-processing\n",
        "data2=head(data1,100000)\n",
        "data2 = subset(data2, select = -c(CONTRIBUTING.FACTOR.VEHICLE.1,LATITUDE,LONGITUDE,wind_deg,temp_min,temp_max,dew_point,CONTRIBUTING.FACTOR.VEHICLE.2,COLLISION_ID,X,VEHICLE.TYPE.CODE.1,VEHICLE.TYPE.CODE.2,ON.STREET.NAME,CROSS.STREET.NAME,OFF.STREET.NAME, VEHICLE_ID,weather_id,clouds_all,rain_1h,wind_gust,weather_icon,rain_3h,snow_3h,sea_level,grnd_level,snow_1h) )\n",
        "names(data2)[names(data2) == \"KILLED.INJURED\"] <- \"KILLED_INJURED\"\n",
        "colSums(is.na(data2))\n",
        "data2$CRASH_DATE=as.Date(data2$CRASH_DATE, format = \"%Y-%m-%d\")\n",
        "nrow(data2)\n",
        "data2=data2[!is.na(data2$visibility),]\n",
        "nrow(data2)\n",
        "data2=data2[!is.na(data2$KILLED_INJURED),]\n",
        "data2$KILLED_INJURED <- as.factor(data2$KILLED_INJURED)\n",
        "nrow(data2)\n",
        "index0 <- which(data2$KILLED_INJURED == 0)\n",
        "index1 <- which(data2$KILLED_INJURED == 1)\n",
        "deleteindex <- sample(index0,length(index0)-length(index1))\n",
        "nrow(data2)\n",
        "data2=data2[-deleteindex,]\n",
        "nrow(data2)\n",
        "data2$weather_main <- as.factor(data2$weather_main)\n",
        "data2$weather_description <- as.factor(data2$weather_description)\n",
        "data2$PERSON_SEX <- as.factor(data2$PERSON_SEX)\n",
        "data2$WEEKDAY <- as.factor(data2$WEEKDAY)\n",
        "set.seed(1)\n",
        "sample = sample.split(data2, SplitRatio = 0.80)\n",
        "training = subset(data2, sample == TRUE)\n",
        "test = subset(data2, sample == FALSE)\n",
        "rm(sample)\n",
        "str(training)\n",
        "str(test)\n",
        "hyper_grid <- expand.grid(\n",
        "  mtry       = 13,\n",
        "  node_size  = 2,\n",
        "  num.trees = seq(100,1000, by = 100),\n",
        "  OOB_RMSE   = 0\n",
        ")\n",
        "for(i in 1:nrow(hyper_grid)) {\n",
        "  model <- ranger(\n",
        "    formula         = KILLED_INJURED~., \n",
        "    data            = training, \n",
        "    num.trees       = hyper_grid$num.trees[i],\n",
        "    mtry            = hyper_grid$mtry[i],\n",
        "    min.node.size   = hyper_grid$node_size[i],\n",
        "    seed            = 123\n",
        "  )\n",
        "  \n",
        "  # add OOB error to grid\n",
        "  hyper_grid$OOB_RMSE[i] <- sqrt(model$prediction.error)\n",
        "}\n",
        "hyper_grid %>% \n",
        "  dplyr::arrange(OOB_RMSE) %>%\n",
        "  head(10)"
      ],
      "metadata": {
        "colab": {
          "base_uri": "https://localhost:8080/",
          "height": 1000
        },
        "id": "HuHPOtuSCejY",
        "outputId": "8e30d88d-48e1-4292-c450-0c83d79a6c69"
      },
      "execution_count": null,
      "outputs": [
        {
          "output_type": "display_data",
          "data": {
            "text/html": [
              "<style>\n",
              ".dl-inline {width: auto; margin:0; padding: 0}\n",
              ".dl-inline>dt, .dl-inline>dd {float: none; width: auto; display: inline-block}\n",
              ".dl-inline>dt::after {content: \":\\0020\"; padding-right: .5ex}\n",
              ".dl-inline>dt:not(:first-of-type) {padding-left: .5ex}\n",
              "</style><dl class=dl-inline><dt>CRASH_DATE</dt><dd>0</dd><dt>CRASH_TIME</dt><dd>0</dd><dt>PERSON_AGE</dt><dd>0</dd><dt>PERSON_SEX</dt><dd>0</dd><dt>KILLED_INJURED</dt><dd>0</dd><dt>WEEKDAY</dt><dd>0</dd><dt>Holiday</dt><dd>0</dd><dt>temp</dt><dd>0</dd><dt>visibility</dt><dd>83</dd><dt>pressure</dt><dd>0</dd><dt>humidity</dt><dd>0</dd><dt>wind_speed</dt><dd>0</dd><dt>weather_main</dt><dd>0</dd><dt>weather_description</dt><dd>0</dd></dl>\n"
            ],
            "text/markdown": "CRASH_DATE\n:   0CRASH_TIME\n:   0PERSON_AGE\n:   0PERSON_SEX\n:   0KILLED_INJURED\n:   0WEEKDAY\n:   0Holiday\n:   0temp\n:   0visibility\n:   83pressure\n:   0humidity\n:   0wind_speed\n:   0weather_main\n:   0weather_description\n:   0\n\n",
            "text/latex": "\\begin{description*}\n\\item[CRASH\\textbackslash{}\\_DATE] 0\n\\item[CRASH\\textbackslash{}\\_TIME] 0\n\\item[PERSON\\textbackslash{}\\_AGE] 0\n\\item[PERSON\\textbackslash{}\\_SEX] 0\n\\item[KILLED\\textbackslash{}\\_INJURED] 0\n\\item[WEEKDAY] 0\n\\item[Holiday] 0\n\\item[temp] 0\n\\item[visibility] 83\n\\item[pressure] 0\n\\item[humidity] 0\n\\item[wind\\textbackslash{}\\_speed] 0\n\\item[weather\\textbackslash{}\\_main] 0\n\\item[weather\\textbackslash{}\\_description] 0\n\\end{description*}\n",
            "text/plain": [
              "         CRASH_DATE          CRASH_TIME          PERSON_AGE          PERSON_SEX \n",
              "                  0                   0                   0                   0 \n",
              "     KILLED_INJURED             WEEKDAY             Holiday                temp \n",
              "                  0                   0                   0                   0 \n",
              "         visibility            pressure            humidity          wind_speed \n",
              "                 83                   0                   0                   0 \n",
              "       weather_main weather_description \n",
              "                  0                   0 "
            ]
          },
          "metadata": {}
        },
        {
          "output_type": "display_data",
          "data": {
            "text/html": [
              "100000"
            ],
            "text/markdown": "100000",
            "text/latex": "100000",
            "text/plain": [
              "[1] 100000"
            ]
          },
          "metadata": {}
        },
        {
          "output_type": "display_data",
          "data": {
            "text/html": [
              "99917"
            ],
            "text/markdown": "99917",
            "text/latex": "99917",
            "text/plain": [
              "[1] 99917"
            ]
          },
          "metadata": {}
        },
        {
          "output_type": "display_data",
          "data": {
            "text/html": [
              "99917"
            ],
            "text/markdown": "99917",
            "text/latex": "99917",
            "text/plain": [
              "[1] 99917"
            ]
          },
          "metadata": {}
        },
        {
          "output_type": "display_data",
          "data": {
            "text/html": [
              "99917"
            ],
            "text/markdown": "99917",
            "text/latex": "99917",
            "text/plain": [
              "[1] 99917"
            ]
          },
          "metadata": {}
        },
        {
          "output_type": "display_data",
          "data": {
            "text/html": [
              "37791"
            ],
            "text/markdown": "37791",
            "text/latex": "37791",
            "text/plain": [
              "[1] 37791"
            ]
          },
          "metadata": {}
        },
        {
          "output_type": "stream",
          "name": "stdout",
          "text": [
            "'data.frame':\t29693 obs. of  14 variables:\n",
            " $ CRASH_DATE         : Date, format: \"2019-10-25\" \"2019-10-25\" ...\n",
            " $ CRASH_TIME         : int  15 15 15 15 15 15 15 15 15 15 ...\n",
            " $ PERSON_AGE         : num  33 33 42 39 38 35 39 35 35 35 ...\n",
            " $ PERSON_SEX         : Factor w/ 2 levels \"F\",\"M\": 2 2 2 2 2 2 2 2 2 2 ...\n",
            " $ KILLED_INJURED     : Factor w/ 12 levels \"0\",\"1\",\"2\",\"3\",..: 1 1 1 4 4 4 4 4 2 2 ...\n",
            " $ WEEKDAY            : Factor w/ 7 levels \"Friday\",\"Monday\",..: 1 1 1 1 1 1 1 1 1 1 ...\n",
            " $ Holiday            : chr  \"False\" \"False\" \"False\" \"False\" ...\n",
            " $ temp               : num  14.5 14.5 14.5 14.5 14.5 ...\n",
            " $ visibility         : num  10000 10000 10000 10000 10000 10000 10000 10000 10000 10000 ...\n",
            " $ pressure           : int  1027 1027 1027 1027 1027 1027 1027 1027 1027 1027 ...\n",
            " $ humidity           : int  63 63 63 63 63 63 63 63 63 63 ...\n",
            " $ wind_speed         : num  2.1 2.1 2.1 2.1 2.1 2.1 2.1 2.1 2.1 2.1 ...\n",
            " $ weather_main       : Factor w/ 10 levels \"Clear\",\"Clouds\",..: 1 1 1 1 1 1 1 1 1 1 ...\n",
            " $ weather_description: Factor w/ 18 levels \"broken clouds\",..: 15 15 15 15 15 15 15 15 15 15 ...\n",
            "'data.frame':\t8098 obs. of  14 variables:\n",
            " $ CRASH_DATE         : Date, format: \"2019-10-25\" \"2019-10-25\" ...\n",
            " $ CRASH_TIME         : int  15 15 15 15 15 15 15 15 15 15 ...\n",
            " $ PERSON_AGE         : num  30 35 27 52 49 32 42 67 38 59 ...\n",
            " $ PERSON_SEX         : Factor w/ 2 levels \"F\",\"M\": 2 1 2 2 1 2 2 1 1 1 ...\n",
            " $ KILLED_INJURED     : Factor w/ 12 levels \"0\",\"1\",\"2\",\"3\",..: 1 4 4 1 1 1 7 1 1 2 ...\n",
            " $ WEEKDAY            : Factor w/ 7 levels \"Friday\",\"Monday\",..: 1 1 1 1 1 1 1 1 1 1 ...\n",
            " $ Holiday            : chr  \"False\" \"False\" \"False\" \"False\" ...\n",
            " $ temp               : num  14.5 14.5 14.5 14.5 14.5 ...\n",
            " $ visibility         : num  10000 10000 10000 10000 10000 10000 10000 10000 10000 10000 ...\n",
            " $ pressure           : int  1027 1027 1027 1027 1027 1027 1027 1027 1027 1027 ...\n",
            " $ humidity           : int  63 63 63 63 63 63 63 63 63 63 ...\n",
            " $ wind_speed         : num  2.1 2.1 2.1 2.1 2.1 2.1 2.1 2.1 2.1 2.1 ...\n",
            " $ weather_main       : Factor w/ 10 levels \"Clear\",\"Clouds\",..: 1 1 1 1 1 1 1 1 1 1 ...\n",
            " $ weather_description: Factor w/ 18 levels \"broken clouds\",..: 15 15 15 15 15 15 15 15 15 15 ...\n",
            "Growing trees.. Progress: 99%. Estimated remaining time: 0 seconds.\n",
            "Growing trees.. Progress: 77%. Estimated remaining time: 9 seconds.\n",
            "Growing trees.. Progress: 64%. Estimated remaining time: 17 seconds.\n",
            "Growing trees.. Progress: 53%. Estimated remaining time: 27 seconds.\n",
            "Growing trees.. Progress: 48%. Estimated remaining time: 34 seconds.\n",
            "Growing trees.. Progress: 96%. Estimated remaining time: 2 seconds.\n",
            "Growing trees.. Progress: 41%. Estimated remaining time: 44 seconds.\n",
            "Growing trees.. Progress: 83%. Estimated remaining time: 12 seconds.\n",
            "Growing trees.. Progress: 37%. Estimated remaining time: 53 seconds.\n",
            "Growing trees.. Progress: 74%. Estimated remaining time: 21 seconds.\n"
          ]
        },
        {
          "output_type": "display_data",
          "data": {
            "text/html": [
              "<table class=\"dataframe\">\n",
              "<caption>A data.frame: 10 × 4</caption>\n",
              "<thead>\n",
              "\t<tr><th></th><th scope=col>mtry</th><th scope=col>node_size</th><th scope=col>num.trees</th><th scope=col>OOB_RMSE</th></tr>\n",
              "\t<tr><th></th><th scope=col>&lt;dbl&gt;</th><th scope=col>&lt;dbl&gt;</th><th scope=col>&lt;dbl&gt;</th><th scope=col>&lt;dbl&gt;</th></tr>\n",
              "</thead>\n",
              "<tbody>\n",
              "\t<tr><th scope=row>1</th><td>13</td><td>2</td><td> 700</td><td>0.6195656</td></tr>\n",
              "\t<tr><th scope=row>2</th><td>13</td><td>2</td><td> 900</td><td>0.6196743</td></tr>\n",
              "\t<tr><th scope=row>3</th><td>13</td><td>2</td><td> 800</td><td>0.6197286</td></tr>\n",
              "\t<tr><th scope=row>4</th><td>13</td><td>2</td><td> 500</td><td>0.6198101</td></tr>\n",
              "\t<tr><th scope=row>5</th><td>13</td><td>2</td><td> 600</td><td>0.6200275</td></tr>\n",
              "\t<tr><th scope=row>6</th><td>13</td><td>2</td><td>1000</td><td>0.6201361</td></tr>\n",
              "\t<tr><th scope=row>7</th><td>13</td><td>2</td><td> 300</td><td>0.6203804</td></tr>\n",
              "\t<tr><th scope=row>8</th><td>13</td><td>2</td><td> 400</td><td>0.6207332</td></tr>\n",
              "\t<tr><th scope=row>9</th><td>13</td><td>2</td><td> 200</td><td>0.6212213</td></tr>\n",
              "\t<tr><th scope=row>10</th><td>13</td><td>2</td><td> 100</td><td>0.6240340</td></tr>\n",
              "</tbody>\n",
              "</table>\n"
            ],
            "text/markdown": "\nA data.frame: 10 × 4\n\n| <!--/--> | mtry &lt;dbl&gt; | node_size &lt;dbl&gt; | num.trees &lt;dbl&gt; | OOB_RMSE &lt;dbl&gt; |\n|---|---|---|---|---|\n| 1 | 13 | 2 |  700 | 0.6195656 |\n| 2 | 13 | 2 |  900 | 0.6196743 |\n| 3 | 13 | 2 |  800 | 0.6197286 |\n| 4 | 13 | 2 |  500 | 0.6198101 |\n| 5 | 13 | 2 |  600 | 0.6200275 |\n| 6 | 13 | 2 | 1000 | 0.6201361 |\n| 7 | 13 | 2 |  300 | 0.6203804 |\n| 8 | 13 | 2 |  400 | 0.6207332 |\n| 9 | 13 | 2 |  200 | 0.6212213 |\n| 10 | 13 | 2 |  100 | 0.6240340 |\n\n",
            "text/latex": "A data.frame: 10 × 4\n\\begin{tabular}{r|llll}\n  & mtry & node\\_size & num.trees & OOB\\_RMSE\\\\\n  & <dbl> & <dbl> & <dbl> & <dbl>\\\\\n\\hline\n\t1 & 13 & 2 &  700 & 0.6195656\\\\\n\t2 & 13 & 2 &  900 & 0.6196743\\\\\n\t3 & 13 & 2 &  800 & 0.6197286\\\\\n\t4 & 13 & 2 &  500 & 0.6198101\\\\\n\t5 & 13 & 2 &  600 & 0.6200275\\\\\n\t6 & 13 & 2 & 1000 & 0.6201361\\\\\n\t7 & 13 & 2 &  300 & 0.6203804\\\\\n\t8 & 13 & 2 &  400 & 0.6207332\\\\\n\t9 & 13 & 2 &  200 & 0.6212213\\\\\n\t10 & 13 & 2 &  100 & 0.6240340\\\\\n\\end{tabular}\n",
            "text/plain": [
              "   mtry node_size num.trees OOB_RMSE \n",
              "1  13   2          700      0.6195656\n",
              "2  13   2          900      0.6196743\n",
              "3  13   2          800      0.6197286\n",
              "4  13   2          500      0.6198101\n",
              "5  13   2          600      0.6200275\n",
              "6  13   2         1000      0.6201361\n",
              "7  13   2          300      0.6203804\n",
              "8  13   2          400      0.6207332\n",
              "9  13   2          200      0.6212213\n",
              "10 13   2          100      0.6240340"
            ]
          },
          "metadata": {}
        }
      ]
    },
    {
      "cell_type": "code",
      "source": [
        "randFore100m5 <- ranger(KILLED_INJURED~., data=training, mtry=13,num.trees=700,min.node.size =2)\n",
        "print(randFore100m5)\n",
        "pred=predict(randFore100m5,test,type=\"response\")\n",
        "cm=table(true=test$KILLED_INJURED,predic=pred$predictions)\n",
        "confusionMatrix(cm)"
      ],
      "metadata": {
        "id": "XZLMRg4P4jrM"
      },
      "execution_count": null,
      "outputs": []
    },
    {
      "cell_type": "code",
      "source": [
        "## Data pre-processing\n",
        "data2=head(data1,500000)\n",
        "data2 = subset(data2, select = -c(CONTRIBUTING.FACTOR.VEHICLE.1,LATITUDE,LONGITUDE,wind_deg,temp_min,temp_max,dew_point,CONTRIBUTING.FACTOR.VEHICLE.2,COLLISION_ID,X,VEHICLE.TYPE.CODE.1,VEHICLE.TYPE.CODE.2,ON.STREET.NAME,CROSS.STREET.NAME,OFF.STREET.NAME, VEHICLE_ID,weather_id,clouds_all,rain_1h,wind_gust,weather_icon,rain_3h,snow_3h,sea_level,grnd_level,snow_1h) )\n",
        "names(data2)[names(data2) == \"KILLED.INJURED\"] <- \"KILLED_INJURED\"\n",
        "colSums(is.na(data2))\n",
        "data2$CRASH_DATE=as.Date(data2$CRASH_DATE, format = \"%Y-%m-%d\")\n",
        "nrow(data2)\n",
        "data2=data2[!is.na(data2$visibility),]\n",
        "nrow(data2)\n",
        "data2=data2[!is.na(data2$KILLED_INJURED),]\n",
        "data2$KILLED_INJURED <- as.factor(data2$KILLED_INJURED)\n",
        "nrow(data2)\n",
        "index0 <- which(data2$KILLED_INJURED == 0)\n",
        "index1 <- which(data2$KILLED_INJURED == 1)\n",
        "deleteindex <- sample(index0,length(index0)-length(index1))\n",
        "nrow(data2)\n",
        "data2=data2[-deleteindex,]\n",
        "nrow(data2)\n",
        "data2$weather_main <- as.factor(data2$weather_main)\n",
        "data2$weather_description <- as.factor(data2$weather_description)\n",
        "data2$PERSON_SEX <- as.factor(data2$PERSON_SEX)\n",
        "data2$WEEKDAY <- as.factor(data2$WEEKDAY)\n",
        "set.seed(1)\n",
        "sample = sample.split(data2, SplitRatio = 0.80)\n",
        "training = subset(data2, sample == TRUE)\n",
        "test = subset(data2, sample == FALSE)\n",
        "rm(sample)\n",
        "str(training)\n",
        "str(test)\n",
        "hyper_grid <- expand.grid(\n",
        "  mtry       = 13,\n",
        "  node_size  = 2,\n",
        "  num.trees = seq(100,1000, by = 100),\n",
        "  OOB_RMSE   = 0\n",
        ")\n",
        "for(i in 1:nrow(hyper_grid)) {\n",
        "  model <- ranger(\n",
        "    formula         = KILLED_INJURED~., \n",
        "    data            = training, \n",
        "    num.trees       = hyper_grid$num.trees[i],\n",
        "    mtry            = hyper_grid$mtry[i],\n",
        "    min.node.size   = hyper_grid$node_size[i],\n",
        "    seed            = 123\n",
        "  )\n",
        "  \n",
        "  # add OOB error to grid\n",
        "  hyper_grid$OOB_RMSE[i] <- sqrt(model$prediction.error)\n",
        "}\n",
        "hyper_grid %>% \n",
        "  dplyr::arrange(OOB_RMSE) %>%\n",
        "  head(10)"
      ],
      "metadata": {
        "colab": {
          "base_uri": "https://localhost:8080/",
          "height": 1000
        },
        "id": "UpYoosz9F1zl",
        "outputId": "e62f0ef0-7318-444c-cfe3-b57ecba4ce2f"
      },
      "execution_count": null,
      "outputs": [
        {
          "output_type": "display_data",
          "data": {
            "text/html": [
              "<style>\n",
              ".dl-inline {width: auto; margin:0; padding: 0}\n",
              ".dl-inline>dt, .dl-inline>dd {float: none; width: auto; display: inline-block}\n",
              ".dl-inline>dt::after {content: \":\\0020\"; padding-right: .5ex}\n",
              ".dl-inline>dt:not(:first-of-type) {padding-left: .5ex}\n",
              "</style><dl class=dl-inline><dt>CRASH_DATE</dt><dd>0</dd><dt>CRASH_TIME</dt><dd>0</dd><dt>PERSON_AGE</dt><dd>0</dd><dt>PERSON_SEX</dt><dd>0</dd><dt>KILLED_INJURED</dt><dd>1</dd><dt>WEEKDAY</dt><dd>0</dd><dt>Holiday</dt><dd>0</dd><dt>temp</dt><dd>0</dd><dt>visibility</dt><dd>442</dd><dt>pressure</dt><dd>0</dd><dt>humidity</dt><dd>0</dd><dt>wind_speed</dt><dd>0</dd><dt>weather_main</dt><dd>0</dd><dt>weather_description</dt><dd>0</dd></dl>\n"
            ],
            "text/markdown": "CRASH_DATE\n:   0CRASH_TIME\n:   0PERSON_AGE\n:   0PERSON_SEX\n:   0KILLED_INJURED\n:   1WEEKDAY\n:   0Holiday\n:   0temp\n:   0visibility\n:   442pressure\n:   0humidity\n:   0wind_speed\n:   0weather_main\n:   0weather_description\n:   0\n\n",
            "text/latex": "\\begin{description*}\n\\item[CRASH\\textbackslash{}\\_DATE] 0\n\\item[CRASH\\textbackslash{}\\_TIME] 0\n\\item[PERSON\\textbackslash{}\\_AGE] 0\n\\item[PERSON\\textbackslash{}\\_SEX] 0\n\\item[KILLED\\textbackslash{}\\_INJURED] 1\n\\item[WEEKDAY] 0\n\\item[Holiday] 0\n\\item[temp] 0\n\\item[visibility] 442\n\\item[pressure] 0\n\\item[humidity] 0\n\\item[wind\\textbackslash{}\\_speed] 0\n\\item[weather\\textbackslash{}\\_main] 0\n\\item[weather\\textbackslash{}\\_description] 0\n\\end{description*}\n",
            "text/plain": [
              "         CRASH_DATE          CRASH_TIME          PERSON_AGE          PERSON_SEX \n",
              "                  0                   0                   0                   0 \n",
              "     KILLED_INJURED             WEEKDAY             Holiday                temp \n",
              "                  1                   0                   0                   0 \n",
              "         visibility            pressure            humidity          wind_speed \n",
              "                442                   0                   0                   0 \n",
              "       weather_main weather_description \n",
              "                  0                   0 "
            ]
          },
          "metadata": {}
        },
        {
          "output_type": "display_data",
          "data": {
            "text/html": [
              "500000"
            ],
            "text/markdown": "500000",
            "text/latex": "500000",
            "text/plain": [
              "[1] 500000"
            ]
          },
          "metadata": {}
        },
        {
          "output_type": "display_data",
          "data": {
            "text/html": [
              "499558"
            ],
            "text/markdown": "499558",
            "text/latex": "499558",
            "text/plain": [
              "[1] 499558"
            ]
          },
          "metadata": {}
        },
        {
          "output_type": "display_data",
          "data": {
            "text/html": [
              "499557"
            ],
            "text/markdown": "499557",
            "text/latex": "499557",
            "text/plain": [
              "[1] 499557"
            ]
          },
          "metadata": {}
        },
        {
          "output_type": "display_data",
          "data": {
            "text/html": [
              "499557"
            ],
            "text/markdown": "499557",
            "text/latex": "499557",
            "text/plain": [
              "[1] 499557"
            ]
          },
          "metadata": {}
        },
        {
          "output_type": "display_data",
          "data": {
            "text/html": [
              "180966"
            ],
            "text/markdown": "180966",
            "text/latex": "180966",
            "text/plain": [
              "[1] 180966"
            ]
          },
          "metadata": {}
        },
        {
          "output_type": "stream",
          "name": "stdout",
          "text": [
            "'data.frame':\t142188 obs. of  14 variables:\n",
            " $ CRASH_DATE         : Date, format: \"2019-10-25\" \"2019-10-25\" ...\n",
            " $ CRASH_TIME         : int  15 15 15 15 15 15 15 15 15 15 ...\n",
            " $ PERSON_AGE         : num  33 33 42 39 38 35 39 35 35 35 ...\n",
            " $ PERSON_SEX         : Factor w/ 2 levels \"F\",\"M\": 2 2 2 2 2 2 2 2 2 2 ...\n",
            " $ KILLED_INJURED     : Factor w/ 16 levels \"0\",\"1\",\"2\",\"3\",..: 1 1 1 4 4 4 4 4 2 2 ...\n",
            " $ WEEKDAY            : Factor w/ 7 levels \"Friday\",\"Monday\",..: 1 1 1 1 1 1 1 1 1 1 ...\n",
            " $ Holiday            : chr  \"False\" \"False\" \"False\" \"False\" ...\n",
            " $ temp               : num  14.5 14.5 14.5 14.5 14.5 ...\n",
            " $ visibility         : num  10000 10000 10000 10000 10000 10000 10000 10000 10000 10000 ...\n",
            " $ pressure           : int  1027 1027 1027 1027 1027 1027 1027 1027 1027 1027 ...\n",
            " $ humidity           : int  63 63 63 63 63 63 63 63 63 63 ...\n",
            " $ wind_speed         : num  2.1 2.1 2.1 2.1 2.1 2.1 2.1 2.1 2.1 2.1 ...\n",
            " $ weather_main       : Factor w/ 11 levels \"Clear\",\"Clouds\",..: 1 1 1 1 1 1 1 1 1 1 ...\n",
            " $ weather_description: Factor w/ 24 levels \"broken clouds\",..: 17 17 17 17 17 17 17 17 17 17 ...\n",
            "'data.frame':\t38778 obs. of  14 variables:\n",
            " $ CRASH_DATE         : Date, format: \"2019-10-25\" \"2019-10-25\" ...\n",
            " $ CRASH_TIME         : int  15 15 15 15 15 15 15 15 15 17 ...\n",
            " $ PERSON_AGE         : num  17 35 27 31 21 21 73 62 59 29 ...\n",
            " $ PERSON_SEX         : Factor w/ 2 levels \"F\",\"M\": 2 1 2 1 1 1 1 2 1 2 ...\n",
            " $ KILLED_INJURED     : Factor w/ 16 levels \"0\",\"1\",\"2\",\"3\",..: 1 4 4 2 2 2 3 1 2 2 ...\n",
            " $ WEEKDAY            : Factor w/ 7 levels \"Friday\",\"Monday\",..: 1 1 1 1 1 1 1 1 1 3 ...\n",
            " $ Holiday            : chr  \"False\" \"False\" \"False\" \"False\" ...\n",
            " $ temp               : num  14.5 14.5 14.5 14.5 14.5 ...\n",
            " $ visibility         : num  10000 10000 10000 10000 10000 10000 10000 10000 10000 10000 ...\n",
            " $ pressure           : int  1027 1027 1027 1027 1027 1027 1027 1027 1027 1025 ...\n",
            " $ humidity           : int  63 63 63 63 63 63 63 63 63 48 ...\n",
            " $ wind_speed         : num  2.1 2.1 2.1 2.1 2.1 2.1 2.1 2.1 2.1 4.1 ...\n",
            " $ weather_main       : Factor w/ 11 levels \"Clear\",\"Clouds\",..: 1 1 1 1 1 1 1 1 1 7 ...\n",
            " $ weather_description: Factor w/ 24 levels \"broken clouds\",..: 17 17 17 17 17 17 17 17 17 9 ...\n",
            "Growing trees.. Progress: 44%. Estimated remaining time: 39 seconds.\n",
            "Growing trees.. Progress: 89%. Estimated remaining time: 7 seconds.\n",
            "Growing trees.. Progress: 21%. Estimated remaining time: 2 minutes, 0 seconds.\n",
            "Growing trees.. Progress: 43%. Estimated remaining time: 1 minute, 22 seconds.\n",
            "Growing trees.. Progress: 65%. Estimated remaining time: 50 seconds.\n",
            "Growing trees.. Progress: 87%. Estimated remaining time: 18 seconds.\n",
            "Growing trees.. Progress: 14%. Estimated remaining time: 3 minutes, 15 seconds.\n",
            "Growing trees.. Progress: 28%. Estimated remaining time: 2 minutes, 39 seconds.\n",
            "Growing trees.. Progress: 44%. Estimated remaining time: 2 minutes, 1 seconds.\n",
            "Growing trees.. Progress: 59%. Estimated remaining time: 1 minute, 28 seconds.\n",
            "Growing trees.. Progress: 74%. Estimated remaining time: 55 seconds.\n",
            "Growing trees.. Progress: 89%. Estimated remaining time: 22 seconds.\n",
            "Growing trees.. Progress: 11%. Estimated remaining time: 4 minutes, 12 seconds.\n",
            "Growing trees.. Progress: 23%. Estimated remaining time: 3 minutes, 34 seconds.\n",
            "Growing trees.. Progress: 35%. Estimated remaining time: 2 minutes, 58 seconds.\n",
            "Growing trees.. Progress: 47%. Estimated remaining time: 2 minutes, 24 seconds.\n",
            "Growing trees.. Progress: 58%. Estimated remaining time: 1 minute, 54 seconds.\n",
            "Growing trees.. Progress: 70%. Estimated remaining time: 1 minute, 21 seconds.\n",
            "Growing trees.. Progress: 81%. Estimated remaining time: 51 seconds.\n",
            "Growing trees.. Progress: 93%. Estimated remaining time: 19 seconds.\n",
            "Growing trees.. Progress: 7%. Estimated remaining time: 6 minutes, 51 seconds.\n",
            "Growing trees.. Progress: 16%. Estimated remaining time: 5 minutes, 25 seconds.\n",
            "Growing trees.. Progress: 25%. Estimated remaining time: 4 minutes, 36 seconds.\n",
            "Growing trees.. Progress: 34%. Estimated remaining time: 4 minutes, 0 seconds.\n",
            "Growing trees.. Progress: 43%. Estimated remaining time: 3 minutes, 26 seconds.\n",
            "Growing trees.. Progress: 52%. Estimated remaining time: 2 minutes, 52 seconds.\n",
            "Growing trees.. Progress: 61%. Estimated remaining time: 2 minutes, 18 seconds.\n",
            "Growing trees.. Progress: 71%. Estimated remaining time: 1 minute, 44 seconds.\n",
            "Growing trees.. Progress: 79%. Estimated remaining time: 1 minute, 13 seconds.\n",
            "Growing trees.. Progress: 89%. Estimated remaining time: 40 seconds.\n",
            "Growing trees.. Progress: 98%. Estimated remaining time: 8 seconds.\n",
            "Growing trees.. Progress: 7%. Estimated remaining time: 7 minutes, 2 seconds.\n",
            "Growing trees.. Progress: 14%. Estimated remaining time: 6 minutes, 21 seconds.\n",
            "Growing trees.. Progress: 21%. Estimated remaining time: 5 minutes, 50 seconds.\n",
            "Growing trees.. Progress: 28%. Estimated remaining time: 5 minutes, 18 seconds.\n",
            "Growing trees.. Progress: 36%. Estimated remaining time: 4 minutes, 47 seconds.\n",
            "Growing trees.. Progress: 43%. Estimated remaining time: 4 minutes, 17 seconds.\n",
            "Growing trees.. Progress: 50%. Estimated remaining time: 3 minutes, 43 seconds.\n",
            "Growing trees.. Progress: 56%. Estimated remaining time: 3 minutes, 14 seconds.\n",
            "Growing trees.. Progress: 64%. Estimated remaining time: 2 minutes, 43 seconds.\n",
            "Growing trees.. Progress: 70%. Estimated remaining time: 2 minutes, 12 seconds.\n",
            "Growing trees.. Progress: 77%. Estimated remaining time: 1 minute, 42 seconds.\n",
            "Growing trees.. Progress: 84%. Estimated remaining time: 1 minute, 13 seconds.\n",
            "Growing trees.. Progress: 91%. Estimated remaining time: 41 seconds.\n",
            "Growing trees.. Progress: 98%. Estimated remaining time: 9 seconds.\n",
            "Growing trees.. Progress: 6%. Estimated remaining time: 8 minutes, 18 seconds.\n",
            "Growing trees.. Progress: 12%. Estimated remaining time: 7 minutes, 22 seconds.\n",
            "Growing trees.. Progress: 19%. Estimated remaining time: 6 minutes, 47 seconds.\n",
            "Growing trees.. Progress: 25%. Estimated remaining time: 6 minutes, 17 seconds.\n",
            "Growing trees.. Progress: 31%. Estimated remaining time: 5 minutes, 44 seconds.\n",
            "Growing trees.. Progress: 37%. Estimated remaining time: 5 minutes, 12 seconds.\n",
            "Growing trees.. Progress: 44%. Estimated remaining time: 4 minutes, 43 seconds.\n",
            "Growing trees.. Progress: 50%. Estimated remaining time: 4 minutes, 12 seconds.\n",
            "Growing trees.. Progress: 56%. Estimated remaining time: 3 minutes, 42 seconds.\n",
            "Growing trees.. Progress: 62%. Estimated remaining time: 3 minutes, 13 seconds.\n",
            "Growing trees.. Progress: 68%. Estimated remaining time: 2 minutes, 44 seconds.\n",
            "Growing trees.. Progress: 74%. Estimated remaining time: 2 minutes, 15 seconds.\n",
            "Growing trees.. Progress: 80%. Estimated remaining time: 1 minute, 43 seconds.\n",
            "Growing trees.. Progress: 86%. Estimated remaining time: 1 minute, 11 seconds.\n",
            "Growing trees.. Progress: 92%. Estimated remaining time: 39 seconds.\n",
            "Growing trees.. Progress: 99%. Estimated remaining time: 7 seconds.\n",
            "Growing trees.. Progress: 5%. Estimated remaining time: 9 minutes, 33 seconds.\n",
            "Growing trees.. Progress: 11%. Estimated remaining time: 8 minutes, 49 seconds.\n",
            "Growing trees.. Progress: 16%. Estimated remaining time: 8 minutes, 14 seconds.\n",
            "Growing trees.. Progress: 22%. Estimated remaining time: 7 minutes, 36 seconds.\n",
            "Growing trees.. Progress: 27%. Estimated remaining time: 7 minutes, 4 seconds.\n",
            "Growing trees.. Progress: 33%. Estimated remaining time: 6 minutes, 32 seconds.\n",
            "Growing trees.. Progress: 38%. Estimated remaining time: 6 minutes, 0 seconds.\n",
            "Growing trees.. Progress: 44%. Estimated remaining time: 5 minutes, 25 seconds.\n",
            "Growing trees.. Progress: 49%. Estimated remaining time: 4 minutes, 54 seconds.\n",
            "Growing trees.. Progress: 55%. Estimated remaining time: 4 minutes, 22 seconds.\n",
            "Growing trees.. Progress: 60%. Estimated remaining time: 3 minutes, 51 seconds.\n",
            "Growing trees.. Progress: 65%. Estimated remaining time: 3 minutes, 20 seconds.\n",
            "Growing trees.. Progress: 71%. Estimated remaining time: 2 minutes, 48 seconds.\n",
            "Growing trees.. Progress: 76%. Estimated remaining time: 2 minutes, 17 seconds.\n",
            "Growing trees.. Progress: 82%. Estimated remaining time: 1 minute, 46 seconds.\n",
            "Growing trees.. Progress: 87%. Estimated remaining time: 1 minute, 15 seconds.\n",
            "Growing trees.. Progress: 93%. Estimated remaining time: 43 seconds.\n",
            "Growing trees.. Progress: 98%. Estimated remaining time: 12 seconds.\n",
            "Growing trees.. Progress: 4%. Estimated remaining time: 14 minutes, 28 seconds.\n",
            "Growing trees.. Progress: 8%. Estimated remaining time: 11 minutes, 43 seconds.\n",
            "Growing trees.. Progress: 13%. Estimated remaining time: 10 minutes, 48 seconds.\n",
            "Growing trees.. Progress: 17%. Estimated remaining time: 10 minutes, 30 seconds.\n",
            "Growing trees.. Progress: 21%. Estimated remaining time: 10 minutes, 10 seconds.\n",
            "Growing trees.. Progress: 25%. Estimated remaining time: 9 minutes, 36 seconds.\n",
            "Growing trees.. Progress: 29%. Estimated remaining time: 8 minutes, 49 seconds.\n",
            "Growing trees.. Progress: 34%. Estimated remaining time: 8 minutes, 9 seconds.\n",
            "Growing trees.. Progress: 39%. Estimated remaining time: 7 minutes, 32 seconds.\n",
            "Growing trees.. Progress: 43%. Estimated remaining time: 6 minutes, 56 seconds.\n",
            "Growing trees.. Progress: 48%. Estimated remaining time: 6 minutes, 20 seconds.\n",
            "Growing trees.. Progress: 52%. Estimated remaining time: 5 minutes, 45 seconds.\n",
            "Growing trees.. Progress: 57%. Estimated remaining time: 5 minutes, 11 seconds.\n",
            "Growing trees.. Progress: 62%. Estimated remaining time: 4 minutes, 36 seconds.\n",
            "Growing trees.. Progress: 66%. Estimated remaining time: 4 minutes, 4 seconds.\n",
            "Growing trees.. Progress: 71%. Estimated remaining time: 3 minutes, 30 seconds.\n",
            "Growing trees.. Progress: 75%. Estimated remaining time: 2 minutes, 57 seconds.\n",
            "Growing trees.. Progress: 80%. Estimated remaining time: 2 minutes, 24 seconds.\n",
            "Growing trees.. Progress: 84%. Estimated remaining time: 1 minute, 51 seconds.\n",
            "Growing trees.. Progress: 89%. Estimated remaining time: 1 minute, 18 seconds.\n",
            "Growing trees.. Progress: 94%. Estimated remaining time: 45 seconds.\n",
            "Growing trees.. Progress: 98%. Estimated remaining time: 13 seconds.\n",
            "Growing trees.. Progress: 3%. Estimated remaining time: 16 minutes, 8 seconds.\n",
            "Growing trees.. Progress: 8%. Estimated remaining time: 13 minutes, 9 seconds.\n",
            "Growing trees.. Progress: 12%. Estimated remaining time: 12 minutes, 3 seconds.\n",
            "Growing trees.. Progress: 16%. Estimated remaining time: 11 minutes, 11 seconds.\n",
            "Growing trees.. Progress: 20%. Estimated remaining time: 10 minutes, 39 seconds.\n",
            "Growing trees.. Progress: 24%. Estimated remaining time: 9 minutes, 58 seconds.\n",
            "Growing trees.. Progress: 28%. Estimated remaining time: 9 minutes, 22 seconds.\n",
            "Growing trees.. Progress: 33%. Estimated remaining time: 8 minutes, 47 seconds.\n",
            "Growing trees.. Progress: 37%. Estimated remaining time: 8 minutes, 13 seconds.\n",
            "Growing trees.. Progress: 41%. Estimated remaining time: 7 minutes, 41 seconds.\n",
            "Growing trees.. Progress: 44%. Estimated remaining time: 7 minutes, 17 seconds.\n",
            "Growing trees.. Progress: 49%. Estimated remaining time: 6 minutes, 42 seconds.\n",
            "Growing trees.. Progress: 53%. Estimated remaining time: 6 minutes, 10 seconds.\n",
            "Growing trees.. Progress: 57%. Estimated remaining time: 5 minutes, 36 seconds.\n",
            "Growing trees.. Progress: 61%. Estimated remaining time: 5 minutes, 4 seconds.\n",
            "Growing trees.. Progress: 65%. Estimated remaining time: 4 minutes, 32 seconds.\n",
            "Growing trees.. Progress: 69%. Estimated remaining time: 4 minutes, 0 seconds.\n",
            "Growing trees.. Progress: 73%. Estimated remaining time: 3 minutes, 27 seconds.\n",
            "Growing trees.. Progress: 77%. Estimated remaining time: 2 minutes, 54 seconds.\n",
            "Growing trees.. Progress: 82%. Estimated remaining time: 2 minutes, 22 seconds.\n",
            "Growing trees.. Progress: 86%. Estimated remaining time: 1 minute, 48 seconds.\n",
            "Growing trees.. Progress: 90%. Estimated remaining time: 1 minute, 16 seconds.\n",
            "Growing trees.. Progress: 94%. Estimated remaining time: 43 seconds.\n",
            "Growing trees.. Progress: 99%. Estimated remaining time: 11 seconds.\n"
          ]
        },
        {
          "output_type": "display_data",
          "data": {
            "text/html": [
              "<table class=\"dataframe\">\n",
              "<caption>A data.frame: 10 × 4</caption>\n",
              "<thead>\n",
              "\t<tr><th></th><th scope=col>mtry</th><th scope=col>node_size</th><th scope=col>num.trees</th><th scope=col>OOB_RMSE</th></tr>\n",
              "\t<tr><th></th><th scope=col>&lt;dbl&gt;</th><th scope=col>&lt;dbl&gt;</th><th scope=col>&lt;dbl&gt;</th><th scope=col>&lt;dbl&gt;</th></tr>\n",
              "</thead>\n",
              "<tbody>\n",
              "\t<tr><th scope=row>1</th><td>13</td><td>2</td><td> 500</td><td>0.6303548</td></tr>\n",
              "\t<tr><th scope=row>2</th><td>13</td><td>2</td><td> 700</td><td>0.6304664</td></tr>\n",
              "\t<tr><th scope=row>3</th><td>13</td><td>2</td><td> 400</td><td>0.6304719</td></tr>\n",
              "\t<tr><th scope=row>4</th><td>13</td><td>2</td><td> 600</td><td>0.6305221</td></tr>\n",
              "\t<tr><th scope=row>5</th><td>13</td><td>2</td><td> 800</td><td>0.6306281</td></tr>\n",
              "\t<tr><th scope=row>6</th><td>13</td><td>2</td><td>1000</td><td>0.6307731</td></tr>\n",
              "\t<tr><th scope=row>7</th><td>13</td><td>2</td><td> 900</td><td>0.6308399</td></tr>\n",
              "\t<tr><th scope=row>8</th><td>13</td><td>2</td><td> 300</td><td>0.6309347</td></tr>\n",
              "\t<tr><th scope=row>9</th><td>13</td><td>2</td><td> 200</td><td>0.6314305</td></tr>\n",
              "\t<tr><th scope=row>10</th><td>13</td><td>2</td><td> 100</td><td>0.6335710</td></tr>\n",
              "</tbody>\n",
              "</table>\n"
            ],
            "text/markdown": "\nA data.frame: 10 × 4\n\n| <!--/--> | mtry &lt;dbl&gt; | node_size &lt;dbl&gt; | num.trees &lt;dbl&gt; | OOB_RMSE &lt;dbl&gt; |\n|---|---|---|---|---|\n| 1 | 13 | 2 |  500 | 0.6303548 |\n| 2 | 13 | 2 |  700 | 0.6304664 |\n| 3 | 13 | 2 |  400 | 0.6304719 |\n| 4 | 13 | 2 |  600 | 0.6305221 |\n| 5 | 13 | 2 |  800 | 0.6306281 |\n| 6 | 13 | 2 | 1000 | 0.6307731 |\n| 7 | 13 | 2 |  900 | 0.6308399 |\n| 8 | 13 | 2 |  300 | 0.6309347 |\n| 9 | 13 | 2 |  200 | 0.6314305 |\n| 10 | 13 | 2 |  100 | 0.6335710 |\n\n",
            "text/latex": "A data.frame: 10 × 4\n\\begin{tabular}{r|llll}\n  & mtry & node\\_size & num.trees & OOB\\_RMSE\\\\\n  & <dbl> & <dbl> & <dbl> & <dbl>\\\\\n\\hline\n\t1 & 13 & 2 &  500 & 0.6303548\\\\\n\t2 & 13 & 2 &  700 & 0.6304664\\\\\n\t3 & 13 & 2 &  400 & 0.6304719\\\\\n\t4 & 13 & 2 &  600 & 0.6305221\\\\\n\t5 & 13 & 2 &  800 & 0.6306281\\\\\n\t6 & 13 & 2 & 1000 & 0.6307731\\\\\n\t7 & 13 & 2 &  900 & 0.6308399\\\\\n\t8 & 13 & 2 &  300 & 0.6309347\\\\\n\t9 & 13 & 2 &  200 & 0.6314305\\\\\n\t10 & 13 & 2 &  100 & 0.6335710\\\\\n\\end{tabular}\n",
            "text/plain": [
              "   mtry node_size num.trees OOB_RMSE \n",
              "1  13   2          500      0.6303548\n",
              "2  13   2          700      0.6304664\n",
              "3  13   2          400      0.6304719\n",
              "4  13   2          600      0.6305221\n",
              "5  13   2          800      0.6306281\n",
              "6  13   2         1000      0.6307731\n",
              "7  13   2          900      0.6308399\n",
              "8  13   2          300      0.6309347\n",
              "9  13   2          200      0.6314305\n",
              "10 13   2          100      0.6335710"
            ]
          },
          "metadata": {}
        }
      ]
    },
    {
      "cell_type": "code",
      "source": [
        "## Data pre-processing\n",
        "data2=head(data1,1000000)\n",
        "data2 = subset(data2, select = -c(CONTRIBUTING.FACTOR.VEHICLE.1,LATITUDE,LONGITUDE,wind_deg,temp_min,temp_max,dew_point,CONTRIBUTING.FACTOR.VEHICLE.2,COLLISION_ID,X,VEHICLE.TYPE.CODE.1,VEHICLE.TYPE.CODE.2,ON.STREET.NAME,CROSS.STREET.NAME,OFF.STREET.NAME, VEHICLE_ID,weather_id,clouds_all,rain_1h,wind_gust,weather_icon,rain_3h,snow_3h,sea_level,grnd_level,snow_1h) )\n",
        "names(data2)[names(data2) == \"KILLED.INJURED\"] <- \"KILLED_INJURED\"\n",
        "colSums(is.na(data2))\n",
        "data2$CRASH_DATE=as.Date(data2$CRASH_DATE, format = \"%Y-%m-%d\")\n",
        "nrow(data2)\n",
        "data2=data2[!is.na(data2$visibility),]\n",
        "nrow(data2)\n",
        "data2=data2[!is.na(data2$KILLED_INJURED),]\n",
        "data2$KILLED_INJURED <- as.factor(data2$KILLED_INJURED)\n",
        "nrow(data2)\n",
        "index0 <- which(data2$KILLED_INJURED == 0)\n",
        "index1 <- which(data2$KILLED_INJURED == 1)\n",
        "deleteindex <- sample(index0,length(index0)-length(index1))\n",
        "nrow(data2)\n",
        "data2=data2[-deleteindex,]\n",
        "nrow(data2)\n",
        "data2$weather_main <- as.factor(data2$weather_main)\n",
        "data2$weather_description <- as.factor(data2$weather_description)\n",
        "data2$PERSON_SEX <- as.factor(data2$PERSON_SEX)\n",
        "data2$WEEKDAY <- as.factor(data2$WEEKDAY)\n",
        "set.seed(1)\n",
        "sample = sample.split(data2, SplitRatio = 0.80)\n",
        "training = subset(data2, sample == TRUE)\n",
        "test = subset(data2, sample == FALSE)\n",
        "rm(sample)\n",
        "str(training)\n",
        "str(test)\n",
        "randFore100m5 <- ranger(KILLED_INJURED~., data=training, mtry=13,num.trees=500,min.node.size =2)\n",
        "print(randFore100m5)\n",
        "pred=predict(randFore100m5,test,type=\"response\")\n",
        "cm=table(true=test$KILLED_INJURED,predic=pred$predictions)\n",
        "confusionMatrix(cm)"
      ],
      "metadata": {
        "colab": {
          "base_uri": "https://localhost:8080/",
          "height": 1000
        },
        "id": "LL4kzCIb47sw",
        "outputId": "d077d263-dc9d-435e-e7da-52c047d30ca2"
      },
      "execution_count": null,
      "outputs": [
        {
          "output_type": "display_data",
          "data": {
            "text/html": [
              "<style>\n",
              ".dl-inline {width: auto; margin:0; padding: 0}\n",
              ".dl-inline>dt, .dl-inline>dd {float: none; width: auto; display: inline-block}\n",
              ".dl-inline>dt::after {content: \":\\0020\"; padding-right: .5ex}\n",
              ".dl-inline>dt:not(:first-of-type) {padding-left: .5ex}\n",
              "</style><dl class=dl-inline><dt>CRASH_DATE</dt><dd>0</dd><dt>CRASH_TIME</dt><dd>0</dd><dt>PERSON_AGE</dt><dd>0</dd><dt>PERSON_SEX</dt><dd>0</dd><dt>KILLED_INJURED</dt><dd>22</dd><dt>WEEKDAY</dt><dd>0</dd><dt>Holiday</dt><dd>0</dd><dt>temp</dt><dd>0</dd><dt>visibility</dt><dd>1106</dd><dt>pressure</dt><dd>0</dd><dt>humidity</dt><dd>0</dd><dt>wind_speed</dt><dd>0</dd><dt>weather_main</dt><dd>0</dd><dt>weather_description</dt><dd>0</dd></dl>\n"
            ],
            "text/markdown": "CRASH_DATE\n:   0CRASH_TIME\n:   0PERSON_AGE\n:   0PERSON_SEX\n:   0KILLED_INJURED\n:   22WEEKDAY\n:   0Holiday\n:   0temp\n:   0visibility\n:   1106pressure\n:   0humidity\n:   0wind_speed\n:   0weather_main\n:   0weather_description\n:   0\n\n",
            "text/latex": "\\begin{description*}\n\\item[CRASH\\textbackslash{}\\_DATE] 0\n\\item[CRASH\\textbackslash{}\\_TIME] 0\n\\item[PERSON\\textbackslash{}\\_AGE] 0\n\\item[PERSON\\textbackslash{}\\_SEX] 0\n\\item[KILLED\\textbackslash{}\\_INJURED] 22\n\\item[WEEKDAY] 0\n\\item[Holiday] 0\n\\item[temp] 0\n\\item[visibility] 1106\n\\item[pressure] 0\n\\item[humidity] 0\n\\item[wind\\textbackslash{}\\_speed] 0\n\\item[weather\\textbackslash{}\\_main] 0\n\\item[weather\\textbackslash{}\\_description] 0\n\\end{description*}\n",
            "text/plain": [
              "         CRASH_DATE          CRASH_TIME          PERSON_AGE          PERSON_SEX \n",
              "                  0                   0                   0                   0 \n",
              "     KILLED_INJURED             WEEKDAY             Holiday                temp \n",
              "                 22                   0                   0                   0 \n",
              "         visibility            pressure            humidity          wind_speed \n",
              "               1106                   0                   0                   0 \n",
              "       weather_main weather_description \n",
              "                  0                   0 "
            ]
          },
          "metadata": {}
        },
        {
          "output_type": "display_data",
          "data": {
            "text/html": [
              "1000000"
            ],
            "text/markdown": "1000000",
            "text/latex": "1000000",
            "text/plain": [
              "[1] 1000000"
            ]
          },
          "metadata": {}
        },
        {
          "output_type": "display_data",
          "data": {
            "text/html": [
              "998894"
            ],
            "text/markdown": "998894",
            "text/latex": "998894",
            "text/plain": [
              "[1] 998894"
            ]
          },
          "metadata": {}
        },
        {
          "output_type": "display_data",
          "data": {
            "text/html": [
              "998872"
            ],
            "text/markdown": "998872",
            "text/latex": "998872",
            "text/plain": [
              "[1] 998872"
            ]
          },
          "metadata": {}
        },
        {
          "output_type": "display_data",
          "data": {
            "text/html": [
              "998872"
            ],
            "text/markdown": "998872",
            "text/latex": "998872",
            "text/plain": [
              "[1] 998872"
            ]
          },
          "metadata": {}
        },
        {
          "output_type": "display_data",
          "data": {
            "text/html": [
              "361972"
            ],
            "text/markdown": "361972",
            "text/latex": "361972",
            "text/plain": [
              "[1] 361972"
            ]
          },
          "metadata": {}
        },
        {
          "output_type": "stream",
          "name": "stdout",
          "text": [
            "'data.frame':\t284407 obs. of  14 variables:\n",
            " $ CRASH_DATE         : Date, format: \"2019-10-25\" \"2019-10-25\" ...\n",
            " $ CRASH_TIME         : int  15 15 15 15 15 15 15 15 15 15 ...\n",
            " $ PERSON_AGE         : num  33 33 42 39 38 35 39 35 35 35 ...\n",
            " $ PERSON_SEX         : Factor w/ 2 levels \"F\",\"M\": 2 2 2 2 2 2 2 2 2 2 ...\n",
            " $ KILLED_INJURED     : Factor w/ 19 levels \"0\",\"1\",\"2\",\"3\",..: 1 1 1 4 4 4 4 4 2 2 ...\n",
            " $ WEEKDAY            : Factor w/ 7 levels \"Friday\",\"Monday\",..: 1 1 1 1 1 1 1 1 1 1 ...\n",
            " $ Holiday            : chr  \"False\" \"False\" \"False\" \"False\" ...\n",
            " $ temp               : num  14.5 14.5 14.5 14.5 14.5 ...\n",
            " $ visibility         : num  10000 10000 10000 10000 10000 10000 10000 10000 10000 10000 ...\n",
            " $ pressure           : int  1027 1027 1027 1027 1027 1027 1027 1027 1027 1027 ...\n",
            " $ humidity           : int  63 63 63 63 63 63 63 63 63 63 ...\n",
            " $ wind_speed         : num  2.1 2.1 2.1 2.1 2.1 2.1 2.1 2.1 2.1 2.1 ...\n",
            " $ weather_main       : Factor w/ 11 levels \"Clear\",\"Clouds\",..: 1 1 1 1 1 1 1 1 1 1 ...\n",
            " $ weather_description: Factor w/ 25 levels \"broken clouds\",..: 18 18 18 18 18 18 18 18 18 18 ...\n",
            "'data.frame':\t77565 obs. of  14 variables:\n",
            " $ CRASH_DATE         : Date, format: \"2019-10-25\" \"2019-10-25\" ...\n",
            " $ CRASH_TIME         : int  15 15 15 15 15 15 15 15 15 17 ...\n",
            " $ PERSON_AGE         : num  51 35 27 22 31 21 39 39 46 20 ...\n",
            " $ PERSON_SEX         : Factor w/ 2 levels \"F\",\"M\": 2 1 2 1 1 1 2 1 2 1 ...\n",
            " $ KILLED_INJURED     : Factor w/ 19 levels \"0\",\"1\",\"2\",\"3\",..: 1 4 4 2 2 2 3 3 1 2 ...\n",
            " $ WEEKDAY            : Factor w/ 7 levels \"Friday\",\"Monday\",..: 1 1 1 1 1 1 1 1 1 3 ...\n",
            " $ Holiday            : chr  \"False\" \"False\" \"False\" \"False\" ...\n",
            " $ temp               : num  14.5 14.5 14.5 14.5 14.5 ...\n",
            " $ visibility         : num  10000 10000 10000 10000 10000 10000 10000 10000 10000 10000 ...\n",
            " $ pressure           : int  1027 1027 1027 1027 1027 1027 1027 1027 1027 1025 ...\n",
            " $ humidity           : int  63 63 63 63 63 63 63 63 63 48 ...\n",
            " $ wind_speed         : num  2.1 2.1 2.1 2.1 2.1 2.1 2.1 2.1 2.1 4.1 ...\n",
            " $ weather_main       : Factor w/ 11 levels \"Clear\",\"Clouds\",..: 1 1 1 1 1 1 1 1 1 7 ...\n",
            " $ weather_description: Factor w/ 25 levels \"broken clouds\",..: 18 18 18 18 18 18 18 18 18 10 ...\n",
            "Growing trees.. Progress: 3%. Estimated remaining time: 16 minutes, 6 seconds.\n",
            "Growing trees.. Progress: 7%. Estimated remaining time: 13 minutes, 58 seconds.\n",
            "Growing trees.. Progress: 11%. Estimated remaining time: 13 minutes, 4 seconds.\n",
            "Growing trees.. Progress: 15%. Estimated remaining time: 12 minutes, 16 seconds.\n",
            "Growing trees.. Progress: 19%. Estimated remaining time: 11 minutes, 37 seconds.\n",
            "Growing trees.. Progress: 23%. Estimated remaining time: 10 minutes, 57 seconds.\n",
            "Growing trees.. Progress: 27%. Estimated remaining time: 10 minutes, 22 seconds.\n",
            "Growing trees.. Progress: 31%. Estimated remaining time: 9 minutes, 45 seconds.\n",
            "Growing trees.. Progress: 35%. Estimated remaining time: 9 minutes, 9 seconds.\n",
            "Growing trees.. Progress: 39%. Estimated remaining time: 8 minutes, 33 seconds.\n",
            "Growing trees.. Progress: 43%. Estimated remaining time: 7 minutes, 58 seconds.\n",
            "Growing trees.. Progress: 47%. Estimated remaining time: 7 minutes, 29 seconds.\n",
            "Growing trees.. Progress: 51%. Estimated remaining time: 6 minutes, 58 seconds.\n",
            "Growing trees.. Progress: 55%. Estimated remaining time: 6 minutes, 23 seconds.\n",
            "Growing trees.. Progress: 59%. Estimated remaining time: 5 minutes, 50 seconds.\n",
            "Growing trees.. Progress: 63%. Estimated remaining time: 5 minutes, 16 seconds.\n",
            "Growing trees.. Progress: 67%. Estimated remaining time: 4 minutes, 42 seconds.\n",
            "Growing trees.. Progress: 71%. Estimated remaining time: 4 minutes, 7 seconds.\n",
            "Growing trees.. Progress: 75%. Estimated remaining time: 3 minutes, 35 seconds.\n",
            "Growing trees.. Progress: 78%. Estimated remaining time: 3 minutes, 3 seconds.\n",
            "Growing trees.. Progress: 82%. Estimated remaining time: 2 minutes, 30 seconds.\n",
            "Growing trees.. Progress: 86%. Estimated remaining time: 1 minute, 58 seconds.\n",
            "Growing trees.. Progress: 90%. Estimated remaining time: 1 minute, 26 seconds.\n",
            "Growing trees.. Progress: 94%. Estimated remaining time: 54 seconds.\n",
            "Growing trees.. Progress: 97%. Estimated remaining time: 22 seconds.\n",
            "Ranger result\n",
            "\n",
            "Call:\n",
            " ranger(KILLED_INJURED ~ ., data = training, mtry = 13, num.trees = 500,      min.node.size = 2) \n",
            "\n",
            "Type:                             Classification \n",
            "Number of trees:                  500 \n",
            "Sample size:                      284407 \n",
            "Number of independent variables:  13 \n",
            "Mtry:                             13 \n",
            "Target node size:                 2 \n",
            "Variable importance mode:         none \n",
            "Splitrule:                        gini \n",
            "OOB prediction error:             39.79 % \n"
          ]
        },
        {
          "output_type": "display_data",
          "data": {
            "text/plain": [
              "Confusion Matrix and Statistics\n",
              "\n",
              "    predic\n",
              "true     0     1     2     3     4     5     6     7     8     9    10    11\n",
              "  0  17502  9987  2193   815   345   151    61    17    23     3     9     2\n",
              "  1   8480 20161  1473   569   218    97    37    21    23     3     3     1\n",
              "  2   2600  1864  4142   160    65    32    10     4     2     0     1     1\n",
              "  3   1011   784   199  1555    29    18     3     0     1     0     2     0\n",
              "  4    378   320    75    25   683     0     7     1     2     0     0     0\n",
              "  5    156   133    32    10     7   335     4     0     0     0     0     0\n",
              "  6     85    64    12     2     4     0   165     1     1     0     0     0\n",
              "  7     48    23     6     7     3     0     0    55     0     0     0     0\n",
              "  8     19    19     1     2     2     0     0     0    41     0     0     0\n",
              "  9      7     6     0     0     0     0     0     0     0    14     0     0\n",
              "  10     9     5     1     1     1     0     0     0     0     0     9     0\n",
              "  11     5     3     2     0     0     1     0     1     0     0     0     7\n",
              "  12     5     1     2     1     0     1     0     0     0     0     0     0\n",
              "  13     5     0     0     0     0     0     0     0     0     0     0     0\n",
              "  15     0     2     0     0     0     0     0     0     0     0     0     0\n",
              "  16     0     2     1     0     0     0     0     0     0     0     0     0\n",
              "  17     3     0     1     0     0     0     0     0     0     0     0     0\n",
              "  18     3     3     0     0     0     0     0     0     0     0     0     0\n",
              "  20     3     1     0     0     0     0     0     0     0     0     0     0\n",
              "    predic\n",
              "true    12    13    15    16    17    18    20\n",
              "  0      6     3     0     2     0     0     1\n",
              "  1      0     1     0     2     1     0     0\n",
              "  2      1     0     0     1     1     0     0\n",
              "  3      4     0     0     0     0     0     0\n",
              "  4      0     0     0     0     0     0     0\n",
              "  5      0     0     0     0     0     0     0\n",
              "  6      0     0     0     0     0     0     0\n",
              "  7      0     0     0     0     0     0     0\n",
              "  8      0     0     0     0     0     0     0\n",
              "  9      0     0     0     0     0     0     0\n",
              "  10     0     0     0     0     0     0     0\n",
              "  11     0     0     0     0     0     0     0\n",
              "  12    14     0     0     0     0     0     0\n",
              "  13     0     5     0     0     0     0     0\n",
              "  15     0     0     3     0     0     0     0\n",
              "  16     0     0     0     4     0     0     0\n",
              "  17     0     0     0     0     2     0     0\n",
              "  18     0     0     0     0     0     2     0\n",
              "  20     0     0     0     0     0     0     1\n",
              "\n",
              "Overall Statistics\n",
              "                                          \n",
              "               Accuracy : 0.5763          \n",
              "                 95% CI : (0.5728, 0.5798)\n",
              "    No Information Rate : 0.4303          \n",
              "    P-Value [Acc > NIR] : < 2.2e-16       \n",
              "                                          \n",
              "                  Kappa : 0.3545          \n",
              "                                          \n",
              " Mcnemar's Test P-Value : NA              \n",
              "\n",
              "Statistics by Class:\n",
              "\n",
              "                     Class: 0 Class: 1 Class: 2 Class: 3 Class: 4 Class: 5\n",
              "Sensitivity            0.5773   0.6040   0.5088  0.49412 0.503316 0.527559\n",
              "Specificity            0.7118   0.7527   0.9317  0.97244 0.989397 0.995554\n",
              "Pos Pred Value         0.5624   0.6485   0.4662  0.43123 0.458082 0.494830\n",
              "Neg Pred Value         0.7240   0.7156   0.9418  0.97847 0.991140 0.996098\n",
              "Prevalence             0.3909   0.4303   0.1049  0.04057 0.017495 0.008187\n",
              "Detection Rate         0.2256   0.2599   0.0534  0.02005 0.008806 0.004319\n",
              "Detection Prevalence   0.4012   0.4008   0.1145  0.04649 0.019223 0.008728\n",
              "Balanced Accuracy      0.6445   0.6783   0.7203  0.73328 0.746357 0.761557\n",
              "                     Class: 6  Class: 7  Class: 8  Class: 9 Class: 10 Class: 11\n",
              "Sensitivity          0.574913 0.5500000 0.4408602 0.7000000 0.3750000 6.364e-01\n",
              "Specificity          0.997813 0.9988769 0.9994450 0.9998324 0.9997808 9.998e-01\n",
              "Pos Pred Value       0.494012 0.3873239 0.4880952 0.5185185 0.3461538 3.684e-01\n",
              "Neg Pred Value       0.998420 0.9994188 0.9993289 0.9999226 0.9998065 9.999e-01\n",
              "Prevalence           0.003700 0.0012892 0.0011990 0.0002578 0.0003094 1.418e-04\n",
              "Detection Rate       0.002127 0.0007091 0.0005286 0.0001805 0.0001160 9.025e-05\n",
              "Detection Prevalence 0.004306 0.0018307 0.0010830 0.0003481 0.0003352 2.450e-04\n",
              "Balanced Accuracy    0.786363 0.7744385 0.7201526 0.8499162 0.6873904 8.181e-01\n",
              "                     Class: 12 Class: 13 Class: 15 Class: 16 Class: 17\n",
              "Sensitivity          0.5600000 5.556e-01 1.000e+00 4.444e-01 5.000e-01\n",
              "Specificity          0.9998710 9.999e-01 1.000e+00 1.000e+00 9.999e-01\n",
              "Pos Pred Value       0.5833333 5.000e-01 6.000e-01 5.714e-01 3.333e-01\n",
              "Neg Pred Value       0.9998581 9.999e-01 1.000e+00 9.999e-01 1.000e+00\n",
              "Prevalence           0.0003223 1.160e-04 3.868e-05 1.160e-04 5.157e-05\n",
              "Detection Rate       0.0001805 6.446e-05 3.868e-05 5.157e-05 2.578e-05\n",
              "Detection Prevalence 0.0003094 1.289e-04 6.446e-05 9.025e-05 7.735e-05\n",
              "Balanced Accuracy    0.7799355 7.777e-01 1.000e+00 7.222e-01 7.500e-01\n",
              "                     Class: 18 Class: 20\n",
              "Sensitivity          1.000e+00 5.000e-01\n",
              "Specificity          9.999e-01 9.999e-01\n",
              "Pos Pred Value       2.500e-01 2.000e-01\n",
              "Neg Pred Value       1.000e+00 1.000e+00\n",
              "Prevalence           2.578e-05 2.578e-05\n",
              "Detection Rate       2.578e-05 1.289e-05\n",
              "Detection Prevalence 1.031e-04 6.446e-05\n",
              "Balanced Accuracy    1.000e+00 7.500e-01"
            ]
          },
          "metadata": {}
        }
      ]
    }
  ],
  "metadata": {
    "colab": {
      "collapsed_sections": [],
      "machine_shape": "hm",
      "name": "classication_random_forest",
      "provenance": [],
      "include_colab_link": true
    },
    "kernelspec": {
      "display_name": "R",
      "name": "ir"
    },
    "language_info": {
      "name": "R"
    }
  },
  "nbformat": 4,
  "nbformat_minor": 0
}