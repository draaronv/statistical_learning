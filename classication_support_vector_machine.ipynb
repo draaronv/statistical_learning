{
  "cells": [
    {
      "cell_type": "markdown",
      "metadata": {
        "id": "view-in-github",
        "colab_type": "text"
      },
      "source": [
        "<a href=\"https://colab.research.google.com/github/draaronv/statistical_learning/blob/master/classication_support_vector_machine.ipynb\" target=\"_parent\"><img src=\"https://colab.research.google.com/assets/colab-badge.svg\" alt=\"Open In Colab\"/></a>"
      ]
    },
    {
      "cell_type": "code",
      "execution_count": null,
      "metadata": {
        "colab": {
          "base_uri": "https://localhost:8080/"
        },
        "id": "j1N06dtFSiGK",
        "outputId": "3cd0966b-5050-4c1c-bed3-91a02d7c06c2"
      },
      "outputs": [
        {
          "output_type": "stream",
          "name": "stderr",
          "text": [
            "Installing package into ‘/usr/local/lib/R/site-library’\n",
            "(as ‘lib’ is unspecified)\n",
            "\n",
            "Installing package into ‘/usr/local/lib/R/site-library’\n",
            "(as ‘lib’ is unspecified)\n",
            "\n",
            "also installing the dependencies ‘Rcpp’, ‘promises’, ‘later’\n",
            "\n",
            "\n"
          ]
        }
      ],
      "source": [
        "install.packages('googledrive')\n",
        "install.packages('httpuv') \n",
        "library('googledrive') \n",
        "library('httpuv')"
      ]
    },
    {
      "cell_type": "code",
      "execution_count": null,
      "metadata": {
        "colab": {
          "base_uri": "https://localhost:8080/"
        },
        "id": "cnq9DnaJ8_q8",
        "outputId": "7db8bc4f-d5e0-4c1c-c68d-d78f55b9a385"
      },
      "outputs": [
        {
          "output_type": "stream",
          "name": "stderr",
          "text": [
            "Installing package into ‘/usr/local/lib/R/site-library’\n",
            "(as ‘lib’ is unspecified)\n",
            "\n",
            "also installing the dependencies ‘R.oo’, ‘R.methodsS3’\n",
            "\n",
            "\n",
            "Loading required package: R.oo\n",
            "\n",
            "Loading required package: R.methodsS3\n",
            "\n",
            "R.methodsS3 v1.8.1 (2020-08-26 16:20:06 UTC) successfully loaded. See ?R.methodsS3 for help.\n",
            "\n",
            "R.oo v1.24.0 (2020-08-26 16:11:58 UTC) successfully loaded. See ?R.oo for help.\n",
            "\n",
            "\n",
            "Attaching package: ‘R.oo’\n",
            "\n",
            "\n",
            "The following object is masked from ‘package:R.methodsS3’:\n",
            "\n",
            "    throw\n",
            "\n",
            "\n",
            "The following objects are masked from ‘package:methods’:\n",
            "\n",
            "    getClasses, getMethods\n",
            "\n",
            "\n",
            "The following objects are masked from ‘package:base’:\n",
            "\n",
            "    attach, detach, load, save\n",
            "\n",
            "\n",
            "R.utils v2.11.0 (2021-09-26 08:30:02 UTC) successfully loaded. See ?R.utils for help.\n",
            "\n",
            "\n",
            "Attaching package: ‘R.utils’\n",
            "\n",
            "\n",
            "The following object is masked from ‘package:utils’:\n",
            "\n",
            "    timestamp\n",
            "\n",
            "\n",
            "The following objects are masked from ‘package:base’:\n",
            "\n",
            "    cat, commandArgs, getOption, inherits, isOpen, nullfile, parse,\n",
            "    warnings\n",
            "\n",
            "\n"
          ]
        }
      ],
      "source": [
        "if (file.exists(\"/usr/local/lib/python3.7/dist-packages/google/colab/_ipython.py\")) {\n",
        "  install.packages(\"R.utils\")\n",
        "  library(\"R.utils\")\n",
        "  library(\"httr\")\n",
        "  my_check <- function() {return(TRUE)}\n",
        "  reassignInPackage(\"is_interactive\", pkgName = \"httr\", my_check) \n",
        "  options(rlang_interactive=TRUE)\n",
        "}"
      ]
    },
    {
      "cell_type": "code",
      "execution_count": null,
      "metadata": {
        "colab": {
          "base_uri": "https://localhost:8080/"
        },
        "id": "wg41feuz9EMM",
        "outputId": "6a5b738e-b8c7-449c-dfc3-95f9ab2097db"
      },
      "outputs": [
        {
          "output_type": "stream",
          "name": "stderr",
          "text": [
            "\n",
            "\n",
            "\n",
            "\n",
            "\u001b[32m✔\u001b[39m The input `path` resolved to exactly 1 file.\n",
            "\n",
            "File downloaded:\n",
            "\n",
            "\u001b[36m•\u001b[39m \u001b[36mfinalData.csv\u001b[39m \u001b[90m<id: 1W1wazYCqs5Iiz6cAwFUjo9f3a3kaBxWU>\u001b[39m\n",
            "\n",
            "Saved locally as:\n",
            "\n",
            "\u001b[36m•\u001b[39m \u001b[34mfinalData.csv\u001b[39m\n",
            "\n"
          ]
        }
      ],
      "source": [
        "x <- drive_get(\"~/statistical_learning/finalData.csv\")\n",
        "drive_download(x)"
      ]
    },
    {
      "cell_type": "code",
      "execution_count": null,
      "metadata": {
        "id": "2pT9M7N98E94"
      },
      "outputs": [],
      "source": [
        "rm(list = ls())"
      ]
    },
    {
      "cell_type": "code",
      "execution_count": null,
      "metadata": {
        "colab": {
          "base_uri": "https://localhost:8080/"
        },
        "id": "QfpVR_ITgn7p",
        "outputId": "38af480b-5afc-4997-b341-48f1991d5940"
      },
      "outputs": [
        {
          "output_type": "stream",
          "name": "stderr",
          "text": [
            "Installing package into ‘/usr/local/lib/R/site-library’\n",
            "(as ‘lib’ is unspecified)\n",
            "\n",
            "Installing package into ‘/usr/local/lib/R/site-library’\n",
            "(as ‘lib’ is unspecified)\n",
            "\n",
            "Installing package into ‘/usr/local/lib/R/site-library’\n",
            "(as ‘lib’ is unspecified)\n",
            "\n",
            "Installing package into ‘/usr/local/lib/R/site-library’\n",
            "(as ‘lib’ is unspecified)\n",
            "\n",
            "Installing package into ‘/usr/local/lib/R/site-library’\n",
            "(as ‘lib’ is unspecified)\n",
            "\n",
            "Installing package into ‘/usr/local/lib/R/site-library’\n",
            "(as ‘lib’ is unspecified)\n",
            "\n",
            "Installing package into ‘/usr/local/lib/R/site-library’\n",
            "(as ‘lib’ is unspecified)\n",
            "\n",
            "Installing package into ‘/usr/local/lib/R/site-library’\n",
            "(as ‘lib’ is unspecified)\n",
            "\n",
            "Installing package into ‘/usr/local/lib/R/site-library’\n",
            "(as ‘lib’ is unspecified)\n",
            "\n",
            "Installing package into ‘/usr/local/lib/R/site-library’\n",
            "(as ‘lib’ is unspecified)\n",
            "\n",
            "Warning message:\n",
            "“package ‘parallel’ is a base package, and should not be updated”\n",
            "Installing package into ‘/usr/local/lib/R/site-library’\n",
            "(as ‘lib’ is unspecified)\n",
            "\n",
            "Installing package into ‘/usr/local/lib/R/site-library’\n",
            "(as ‘lib’ is unspecified)\n",
            "\n",
            "Installing package into ‘/usr/local/lib/R/site-library’\n",
            "(as ‘lib’ is unspecified)\n",
            "\n",
            "Installing package into ‘/usr/local/lib/R/site-library’\n",
            "(as ‘lib’ is unspecified)\n",
            "\n",
            "Installing package into ‘/usr/local/lib/R/site-library’\n",
            "(as ‘lib’ is unspecified)\n",
            "\n",
            "Installing package into ‘/usr/local/lib/R/site-library’\n",
            "(as ‘lib’ is unspecified)\n",
            "\n",
            "randomForest 4.7-1\n",
            "\n",
            "Type rfNews() to see new features/changes/bug fixes.\n",
            "\n",
            "\n",
            "Attaching package: ‘randomForest’\n",
            "\n",
            "\n",
            "The following object is masked from ‘package:ranger’:\n",
            "\n",
            "    importance\n",
            "\n",
            "\n",
            "Loading required package: Matrix\n",
            "\n",
            "Loaded glmnet 4.1-4\n",
            "\n",
            "Loading required package: foreach\n",
            "\n",
            "Loading required package: iterators\n",
            "\n",
            "\n",
            "Attaching package: ‘rsample’\n",
            "\n",
            "\n",
            "The following object is masked from ‘package:e1071’:\n",
            "\n",
            "    permutations\n",
            "\n",
            "\n",
            "\n",
            "Attaching package: ‘dplyr’\n",
            "\n",
            "\n",
            "The following object is masked from ‘package:randomForest’:\n",
            "\n",
            "    combine\n",
            "\n",
            "\n",
            "The following objects are masked from ‘package:stats’:\n",
            "\n",
            "    filter, lag\n",
            "\n",
            "\n",
            "The following objects are masked from ‘package:base’:\n",
            "\n",
            "    intersect, setdiff, setequal, union\n",
            "\n",
            "\n",
            "Loading required package: ggplot2\n",
            "\n",
            "\n",
            "Attaching package: ‘ggplot2’\n",
            "\n",
            "\n",
            "The following object is masked from ‘package:randomForest’:\n",
            "\n",
            "    margin\n",
            "\n",
            "\n",
            "Loading required package: lattice\n",
            "\n",
            "Warning message in system(\"timedatectl\", intern = TRUE):\n",
            "“running command 'timedatectl' had status 1”\n",
            "\n",
            "Attaching package: ‘caret’\n",
            "\n",
            "\n",
            "The following objects are masked from ‘package:Metrics’:\n",
            "\n",
            "    precision, recall\n",
            "\n",
            "\n"
          ]
        }
      ],
      "source": [
        "install.packages(\"tree\")\n",
        "install.packages(\"Metrics\")\n",
        "install.packages(\"rsample\")\n",
        "install.packages(\"rpart\")\n",
        "install.packages(\"dplyr\")\n",
        "install.packages(\"rpart.plot\")\n",
        "install.packages(\"caret\")\n",
        "install.packages(\"caTools\")\n",
        "install.packages(\"broom\")\n",
        "install.packages(\"parallel\")\n",
        "install.packages(\"doParallel\")\n",
        "install.packages(\"FNN\")\n",
        "install.packages(\"e1071\")\n",
        "install.packages(\"glmnet\")\n",
        "install.packages(\"randomForest\")\n",
        "install.packages(\"ranger\")\n",
        "library(ranger)\n",
        "library(randomForest)\n",
        "library(glmnet)\n",
        "library(e1071)\n",
        "library(parallel)\n",
        "library(FNN)\n",
        "library(doParallel)\n",
        "library(broom)\n",
        "library(tree)\n",
        "library(Metrics)\n",
        "library(rsample)     # data splitting \n",
        "library(dplyr)       # data wrangling\n",
        "library(rpart)       # performing regression trees\n",
        "library(rpart.plot)  # plotting regression trees\n",
        "library(ipred)       # bagging\n",
        "library(caret)       # bagging\n",
        "library(caTools)"
      ]
    },
    {
      "cell_type": "code",
      "execution_count": null,
      "metadata": {
        "id": "YjXAzMoFE1fg"
      },
      "outputs": [],
      "source": [
        "cluster <- makeCluster(detectCores() - 1) # convention to leave 1 core for OS\n",
        "registerDoParallel(cluster)"
      ]
    },
    {
      "cell_type": "markdown",
      "metadata": {
        "id": "1R3xUN_pL6Q9"
      },
      "source": [
        "# Data Initilization"
      ]
    },
    {
      "cell_type": "code",
      "execution_count": null,
      "metadata": {
        "id": "EezpUwaJmmnO"
      },
      "outputs": [],
      "source": [
        "data1 = read.csv(\"finalData.csv\")"
      ]
    },
    {
      "cell_type": "code",
      "execution_count": null,
      "metadata": {
        "id": "fz2iOSKE5Voj"
      },
      "outputs": [],
      "source": [
        "data2=data1"
      ]
    },
    {
      "cell_type": "code",
      "execution_count": null,
      "metadata": {
        "colab": {
          "base_uri": "https://localhost:8080/",
          "height": 679
        },
        "id": "7HGFBJjskD7K",
        "outputId": "80909a33-9553-467a-a338-e64c0d762985"
      },
      "outputs": [
        {
          "output_type": "display_data",
          "data": {
            "text/html": [
              "<style>\n",
              ".dl-inline {width: auto; margin:0; padding: 0}\n",
              ".dl-inline>dt, .dl-inline>dd {float: none; width: auto; display: inline-block}\n",
              ".dl-inline>dt::after {content: \":\\0020\"; padding-right: .5ex}\n",
              ".dl-inline>dt:not(:first-of-type) {padding-left: .5ex}\n",
              "</style><dl class=dl-inline><dt>CRASH_DATE</dt><dd>0</dd><dt>CRASH_TIME</dt><dd>0</dd><dt>PERSON_AGE</dt><dd>0</dd><dt>PERSON_SEX</dt><dd>0</dd><dt>KILLED_INJURED</dt><dd>39</dd><dt>WEEKDAY</dt><dd>0</dd><dt>Holiday</dt><dd>0</dd><dt>temp</dt><dd>0</dd><dt>visibility</dt><dd>2737</dd><dt>pressure</dt><dd>0</dd><dt>humidity</dt><dd>0</dd><dt>wind_speed</dt><dd>0</dd><dt>weather_main</dt><dd>0</dd><dt>weather_description</dt><dd>0</dd></dl>\n"
            ],
            "text/markdown": "CRASH_DATE\n:   0CRASH_TIME\n:   0PERSON_AGE\n:   0PERSON_SEX\n:   0KILLED_INJURED\n:   39WEEKDAY\n:   0Holiday\n:   0temp\n:   0visibility\n:   2737pressure\n:   0humidity\n:   0wind_speed\n:   0weather_main\n:   0weather_description\n:   0\n\n",
            "text/latex": "\\begin{description*}\n\\item[CRASH\\textbackslash{}\\_DATE] 0\n\\item[CRASH\\textbackslash{}\\_TIME] 0\n\\item[PERSON\\textbackslash{}\\_AGE] 0\n\\item[PERSON\\textbackslash{}\\_SEX] 0\n\\item[KILLED\\textbackslash{}\\_INJURED] 39\n\\item[WEEKDAY] 0\n\\item[Holiday] 0\n\\item[temp] 0\n\\item[visibility] 2737\n\\item[pressure] 0\n\\item[humidity] 0\n\\item[wind\\textbackslash{}\\_speed] 0\n\\item[weather\\textbackslash{}\\_main] 0\n\\item[weather\\textbackslash{}\\_description] 0\n\\end{description*}\n",
            "text/plain": [
              "         CRASH_DATE          CRASH_TIME          PERSON_AGE          PERSON_SEX \n",
              "                  0                   0                   0                   0 \n",
              "     KILLED_INJURED             WEEKDAY             Holiday                temp \n",
              "                 39                   0                   0                   0 \n",
              "         visibility            pressure            humidity          wind_speed \n",
              "               2737                   0                   0                   0 \n",
              "       weather_main weather_description \n",
              "                  0                   0 "
            ]
          },
          "metadata": {}
        },
        {
          "output_type": "display_data",
          "data": {
            "text/html": [
              "2529009"
            ],
            "text/markdown": "2529009",
            "text/latex": "2529009",
            "text/plain": [
              "[1] 2529009"
            ]
          },
          "metadata": {}
        },
        {
          "output_type": "display_data",
          "data": {
            "text/html": [
              "2526272"
            ],
            "text/markdown": "2526272",
            "text/latex": "2526272",
            "text/plain": [
              "[1] 2526272"
            ]
          },
          "metadata": {}
        },
        {
          "output_type": "display_data",
          "data": {
            "text/html": [
              "2526233"
            ],
            "text/markdown": "2526233",
            "text/latex": "2526233",
            "text/plain": [
              "[1] 2526233"
            ]
          },
          "metadata": {}
        },
        {
          "output_type": "display_data",
          "data": {
            "text/html": [
              "2526233"
            ],
            "text/markdown": "2526233",
            "text/latex": "2526233",
            "text/plain": [
              "[1] 2526233"
            ]
          },
          "metadata": {}
        },
        {
          "output_type": "stream",
          "name": "stdout",
          "text": [
            "'data.frame':\t1984898 obs. of  14 variables:\n",
            " $ CRASH_DATE         : Date, format: \"2019-10-25\" \"2019-10-25\" ...\n",
            " $ CRASH_TIME         : int  15 15 15 15 15 15 15 15 15 15 ...\n",
            " $ PERSON_AGE         : num  33 82 33 82 42 51 51 17 42 37 ...\n",
            " $ PERSON_SEX         : Factor w/ 2 levels \"F\",\"M\": 1 2 2 2 2 2 2 2 2 2 ...\n",
            " $ KILLED_INJURED     : Factor w/ 23 levels \"0\",\"1\",\"2\",\"3\",..: 1 1 1 1 1 1 1 1 1 1 ...\n",
            " $ WEEKDAY            : Factor w/ 7 levels \"Friday\",\"Monday\",..: 1 1 1 1 1 1 1 1 1 1 ...\n",
            " $ Holiday            : chr  \"False\" \"False\" \"False\" \"False\" ...\n",
            " $ temp               : num  14.5 14.5 14.5 14.5 14.5 ...\n",
            " $ visibility         : num  10000 10000 10000 10000 10000 10000 10000 10000 10000 10000 ...\n",
            " $ pressure           : int  1027 1027 1027 1027 1027 1027 1027 1027 1027 1027 ...\n",
            " $ humidity           : int  63 63 63 63 63 63 63 63 63 63 ...\n",
            " $ wind_speed         : num  2.1 2.1 2.1 2.1 2.1 2.1 2.1 2.1 2.1 2.1 ...\n",
            " $ weather_main       : Factor w/ 11 levels \"Clear\",\"Clouds\",..: 1 1 1 1 1 1 1 1 1 1 ...\n",
            " $ weather_description: Factor w/ 28 levels \"broken clouds\",..: 20 20 20 20 20 20 20 20 20 20 ...\n",
            "'data.frame':\t541335 obs. of  14 variables:\n",
            " $ CRASH_DATE         : Date, format: \"2019-10-25\" \"2019-10-25\" ...\n",
            " $ CRASH_TIME         : int  15 15 15 15 15 15 15 15 15 15 ...\n",
            " $ PERSON_AGE         : num  33 42 42 56 30 65 25 43 38 49 ...\n",
            " $ PERSON_SEX         : Factor w/ 2 levels \"F\",\"M\": 2 2 2 2 2 2 1 1 2 1 ...\n",
            " $ KILLED_INJURED     : Factor w/ 23 levels \"0\",\"1\",\"2\",\"3\",..: 1 1 1 1 1 1 2 1 1 1 ...\n",
            " $ WEEKDAY            : Factor w/ 7 levels \"Friday\",\"Monday\",..: 1 1 1 1 1 1 1 1 1 1 ...\n",
            " $ Holiday            : chr  \"False\" \"False\" \"False\" \"False\" ...\n",
            " $ temp               : num  14.5 14.5 14.5 14.5 14.5 ...\n",
            " $ visibility         : num  10000 10000 10000 10000 10000 10000 10000 10000 10000 10000 ...\n",
            " $ pressure           : int  1027 1027 1027 1027 1027 1027 1027 1027 1027 1027 ...\n",
            " $ humidity           : int  63 63 63 63 63 63 63 63 63 63 ...\n",
            " $ wind_speed         : num  2.1 2.1 2.1 2.1 2.1 2.1 2.1 2.1 2.1 2.1 ...\n",
            " $ weather_main       : Factor w/ 11 levels \"Clear\",\"Clouds\",..: 1 1 1 1 1 1 1 1 1 1 ...\n",
            " $ weather_description: Factor w/ 28 levels \"broken clouds\",..: 20 20 20 20 20 20 20 20 20 20 ...\n"
          ]
        }
      ],
      "source": [
        "## Data pre-processing\n",
        "data2 = subset(data2, select = -c(CONTRIBUTING.FACTOR.VEHICLE.1,LATITUDE,LONGITUDE,wind_deg,temp_min,temp_max,dew_point,CONTRIBUTING.FACTOR.VEHICLE.2,COLLISION_ID,X,VEHICLE.TYPE.CODE.1,VEHICLE.TYPE.CODE.2,ON.STREET.NAME,CROSS.STREET.NAME,OFF.STREET.NAME, VEHICLE_ID,weather_id,clouds_all,rain_1h,wind_gust,weather_icon,rain_3h,snow_3h,sea_level,grnd_level,snow_1h) )\n",
        "names(data2)[names(data2) == \"KILLED.INJURED\"] <- \"KILLED_INJURED\"\n",
        "colSums(is.na(data2))\n",
        "data2$CRASH_DATE=as.Date(data2$CRASH_DATE, format = \"%Y-%m-%d\")\n",
        "nrow(data2)\n",
        "data2=data2[!is.na(data2$visibility),]\n",
        "nrow(data2)\n",
        "data2=data2[!is.na(data2$KILLED_INJURED),]\n",
        "data2$KILLED_INJURED <- as.factor(data2$KILLED_INJURED)\n",
        "nrow(data2)\n",
        "nrow(data2)\n",
        "data2$weather_main <- as.factor(data2$weather_main)\n",
        "data2$weather_description <- as.factor(data2$weather_description)\n",
        "data2$PERSON_SEX <- as.factor(data2$PERSON_SEX)\n",
        "data2$WEEKDAY <- as.factor(data2$WEEKDAY)\n",
        "set.seed(1)\n",
        "sample = sample.split(data2, SplitRatio = 0.80)\n",
        "training = subset(data2, sample == TRUE)\n",
        "test = subset(data2, sample == FALSE)\n",
        "rm(sample)\n",
        "str(training)\n",
        "str(test)"
      ]
    },
    {
      "cell_type": "markdown",
      "source": [
        "# Trying Support Vector Machine"
      ],
      "metadata": {
        "id": "b5b0zba6BRnw"
      }
    },
    {
      "cell_type": "code",
      "source": [
        "svmfit=svm(KILLED_INJURED~., data=training, kernel=\"radial\", gamma=1, cost=1)"
      ],
      "metadata": {
        "id": "l3eIn9wZBWrP"
      },
      "execution_count": null,
      "outputs": []
    },
    {
      "cell_type": "code",
      "source": [
        "pred=predict(svmfit,test,type=\"class\")\n",
        "cm=table(true=test$KILLED_INJURED,predic=pred)\n",
        "confusionMatrix(cm)"
      ],
      "metadata": {
        "colab": {
          "base_uri": "https://localhost:8080/",
          "height": 850
        },
        "id": "EV5_vPvgSCCI",
        "outputId": "11af9968-7200-4870-efee-fd038d943390"
      },
      "execution_count": null,
      "outputs": [
        {
          "output_type": "display_data",
          "data": {
            "text/plain": [
              "Confusion Matrix and Statistics\n",
              "\n",
              "    predic\n",
              "true    0    1    2    3    4    5    6    7    8   10   12   18\n",
              "  0  8062   72    6    4    0    3    0    0    0    0    3    0\n",
              "  1  1649   70    2    0    0    2    0    0    0    0    0    0\n",
              "  2   480   12    7    0    0    0    0    0    0    0    0    0\n",
              "  3   155    6    2    2    0    0    0    0    0    0    0    0\n",
              "  4    84    0    0    0    0    0    0    0    0    0    0    0\n",
              "  5    39    0    0    0    0    4    0    0    0    0    0    0\n",
              "  6    13    0    0    0    0    0    0    0    0    0    0    0\n",
              "  7     4    2    0    0    0    0    0    0    0    0    0    0\n",
              "  8     5    0    0    0    0    0    0    0    0    0    0    0\n",
              "  10    3    0    0    0    0    0    0    0    0    0    0    0\n",
              "  12    0    0    0    0    0    0    0    0    0    0    3    0\n",
              "  18    4    0    0    0    0    0    0    0    0    0    0    0\n",
              "\n",
              "Overall Statistics\n",
              "                                          \n",
              "               Accuracy : 0.7616          \n",
              "                 95% CI : (0.7534, 0.7697)\n",
              "    No Information Rate : 0.9813          \n",
              "    P-Value [Acc > NIR] : 1               \n",
              "                                          \n",
              "                  Kappa : 0.0461          \n",
              "                                          \n",
              " Mcnemar's Test P-Value : NA              \n",
              "\n",
              "Statistics by Class:\n",
              "\n",
              "                     Class: 0 Class: 1  Class: 2  Class: 3 Class: 4  Class: 5\n",
              "Sensitivity           0.76796 0.432099 0.4117647 0.3333333       NA 0.4444444\n",
              "Specificity           0.56000 0.843109 0.9539369 0.9847550 0.992148 0.9963514\n",
              "Pos Pred Value        0.98920 0.040627 0.0140281 0.0121212       NA 0.0930233\n",
              "Neg Pred Value        0.04396 0.989749 0.9990195 0.9996202       NA 0.9995307\n",
              "Prevalence            0.98130 0.015143 0.0015891 0.0005609 0.000000 0.0008413\n",
              "Detection Rate        0.75360 0.006543 0.0006543 0.0001870 0.000000 0.0003739\n",
              "Detection Prevalence  0.76182 0.161058 0.0466442 0.0154234 0.007852 0.0040194\n",
              "Balanced Accuracy     0.66398 0.637604 0.6828508 0.6590441       NA 0.7203979\n",
              "                     Class: 6  Class: 7  Class: 8 Class: 10 Class: 12 Class: 18\n",
              "Sensitivity                NA        NA        NA        NA 0.5000000        NA\n",
              "Specificity          0.998785 0.9994391 0.9995326 0.9997196 1.0000000 0.9996261\n",
              "Pos Pred Value             NA        NA        NA        NA 1.0000000        NA\n",
              "Neg Pred Value             NA        NA        NA        NA 0.9997195        NA\n",
              "Prevalence           0.000000 0.0000000 0.0000000 0.0000000 0.0005609 0.0000000\n",
              "Detection Rate       0.000000 0.0000000 0.0000000 0.0000000 0.0002804 0.0000000\n",
              "Detection Prevalence 0.001215 0.0005609 0.0004674 0.0002804 0.0002804 0.0003739\n",
              "Balanced Accuracy          NA        NA        NA        NA 0.7500000        NA"
            ]
          },
          "metadata": {}
        }
      ]
    },
    {
      "cell_type": "markdown",
      "source": [
        "## Downsampling"
      ],
      "metadata": {
        "id": "fx9bmsRAf_bD"
      }
    },
    {
      "cell_type": "code",
      "source": [
        "## Data pre-processing\n",
        "data2=head(data1,50000)\n",
        "data2 = subset(data2, select = -c(CONTRIBUTING.FACTOR.VEHICLE.1,LATITUDE,LONGITUDE,wind_deg,temp_min,temp_max,dew_point,CONTRIBUTING.FACTOR.VEHICLE.2,COLLISION_ID,X,VEHICLE.TYPE.CODE.1,VEHICLE.TYPE.CODE.2,ON.STREET.NAME,CROSS.STREET.NAME,OFF.STREET.NAME, VEHICLE_ID,weather_id,clouds_all,rain_1h,wind_gust,weather_icon,rain_3h,snow_3h,sea_level,grnd_level,snow_1h) )\n",
        "names(data2)[names(data2) == \"KILLED.INJURED\"] <- \"KILLED_INJURED\"\n",
        "colSums(is.na(data2))\n",
        "data2$CRASH_DATE=as.Date(data2$CRASH_DATE, format = \"%Y-%m-%d\")\n",
        "nrow(data2)\n",
        "data2=data2[!is.na(data2$visibility),]\n",
        "nrow(data2)\n",
        "data2=data2[!is.na(data2$KILLED_INJURED),]\n",
        "data2$KILLED_INJURED <- as.factor(data2$KILLED_INJURED)\n",
        "nrow(data2)\n",
        "index0 <- which(data2$KILLED_INJURED == 0)\n",
        "index1 <- which(data2$KILLED_INJURED == 1)\n",
        "deleteindex <- sample(index0,length(index0)-length(index1))\n",
        "nrow(data2)\n",
        "data2=data2[-deleteindex,]\n",
        "nrow(data2)\n",
        "data2$weather_main <- as.factor(data2$weather_main)\n",
        "data2$weather_description <- as.factor(data2$weather_description)\n",
        "data2$PERSON_SEX <- as.factor(data2$PERSON_SEX)\n",
        "data2$WEEKDAY <- as.factor(data2$WEEKDAY)\n",
        "set.seed(1)\n",
        "sample = sample.split(data2, SplitRatio = 0.80)\n",
        "training = subset(data2, sample == TRUE)\n",
        "test = subset(data2, sample == FALSE)\n",
        "rm(sample)\n",
        "str(training)\n",
        "str(test)\n",
        "svmfit=svm(KILLED_INJURED~., data=training, kernel=\"radial\", gamma=1, cost=1)\n",
        "pred=predict(svmfit,test,type=\"class\")\n",
        "cm=table(true=test$KILLED_INJURED,predic=pred)\n",
        "confusionMatrix(cm)"
      ],
      "metadata": {
        "colab": {
          "base_uri": "https://localhost:8080/",
          "height": 1000
        },
        "id": "mEd99iQzgIpR",
        "outputId": "d42ad2b1-cc4e-43e9-aae7-c3f38befc464"
      },
      "execution_count": null,
      "outputs": [
        {
          "output_type": "display_data",
          "data": {
            "text/html": [
              "<style>\n",
              ".dl-inline {width: auto; margin:0; padding: 0}\n",
              ".dl-inline>dt, .dl-inline>dd {float: none; width: auto; display: inline-block}\n",
              ".dl-inline>dt::after {content: \":\\0020\"; padding-right: .5ex}\n",
              ".dl-inline>dt:not(:first-of-type) {padding-left: .5ex}\n",
              "</style><dl class=dl-inline><dt>CRASH_DATE</dt><dd>0</dd><dt>CRASH_TIME</dt><dd>0</dd><dt>PERSON_AGE</dt><dd>0</dd><dt>PERSON_SEX</dt><dd>0</dd><dt>KILLED_INJURED</dt><dd>0</dd><dt>WEEKDAY</dt><dd>0</dd><dt>Holiday</dt><dd>0</dd><dt>temp</dt><dd>0</dd><dt>visibility</dt><dd>83</dd><dt>pressure</dt><dd>0</dd><dt>humidity</dt><dd>0</dd><dt>wind_speed</dt><dd>0</dd><dt>weather_main</dt><dd>0</dd><dt>weather_description</dt><dd>0</dd></dl>\n"
            ],
            "text/markdown": "CRASH_DATE\n:   0CRASH_TIME\n:   0PERSON_AGE\n:   0PERSON_SEX\n:   0KILLED_INJURED\n:   0WEEKDAY\n:   0Holiday\n:   0temp\n:   0visibility\n:   83pressure\n:   0humidity\n:   0wind_speed\n:   0weather_main\n:   0weather_description\n:   0\n\n",
            "text/latex": "\\begin{description*}\n\\item[CRASH\\textbackslash{}\\_DATE] 0\n\\item[CRASH\\textbackslash{}\\_TIME] 0\n\\item[PERSON\\textbackslash{}\\_AGE] 0\n\\item[PERSON\\textbackslash{}\\_SEX] 0\n\\item[KILLED\\textbackslash{}\\_INJURED] 0\n\\item[WEEKDAY] 0\n\\item[Holiday] 0\n\\item[temp] 0\n\\item[visibility] 83\n\\item[pressure] 0\n\\item[humidity] 0\n\\item[wind\\textbackslash{}\\_speed] 0\n\\item[weather\\textbackslash{}\\_main] 0\n\\item[weather\\textbackslash{}\\_description] 0\n\\end{description*}\n",
            "text/plain": [
              "         CRASH_DATE          CRASH_TIME          PERSON_AGE          PERSON_SEX \n",
              "                  0                   0                   0                   0 \n",
              "     KILLED_INJURED             WEEKDAY             Holiday                temp \n",
              "                  0                   0                   0                   0 \n",
              "         visibility            pressure            humidity          wind_speed \n",
              "                 83                   0                   0                   0 \n",
              "       weather_main weather_description \n",
              "                  0                   0 "
            ]
          },
          "metadata": {}
        },
        {
          "output_type": "display_data",
          "data": {
            "text/html": [
              "50000"
            ],
            "text/markdown": "50000",
            "text/latex": "50000",
            "text/plain": [
              "[1] 50000"
            ]
          },
          "metadata": {}
        },
        {
          "output_type": "display_data",
          "data": {
            "text/html": [
              "49917"
            ],
            "text/markdown": "49917",
            "text/latex": "49917",
            "text/plain": [
              "[1] 49917"
            ]
          },
          "metadata": {}
        },
        {
          "output_type": "display_data",
          "data": {
            "text/html": [
              "49917"
            ],
            "text/markdown": "49917",
            "text/latex": "49917",
            "text/plain": [
              "[1] 49917"
            ]
          },
          "metadata": {}
        },
        {
          "output_type": "display_data",
          "data": {
            "text/html": [
              "49917"
            ],
            "text/markdown": "49917",
            "text/latex": "49917",
            "text/plain": [
              "[1] 49917"
            ]
          },
          "metadata": {}
        },
        {
          "output_type": "display_data",
          "data": {
            "text/html": [
              "20057"
            ],
            "text/markdown": "20057",
            "text/latex": "20057",
            "text/plain": [
              "[1] 20057"
            ]
          },
          "metadata": {}
        },
        {
          "output_type": "stream",
          "name": "stdout",
          "text": [
            "'data.frame':\t15758 obs. of  14 variables:\n",
            " $ CRASH_DATE         : Date, format: \"2019-10-25\" \"2019-10-25\" ...\n",
            " $ CRASH_TIME         : int  15 15 15 15 15 15 15 15 15 15 ...\n",
            " $ PERSON_AGE         : num  51 17 37 31 35 27 38 35 39 35 ...\n",
            " $ PERSON_SEX         : Factor w/ 2 levels \"F\",\"M\": 2 2 2 1 1 2 2 2 2 2 ...\n",
            " $ KILLED_INJURED     : Factor w/ 12 levels \"0\",\"1\",\"2\",\"3\",..: 1 1 1 1 4 4 4 4 4 4 ...\n",
            " $ WEEKDAY            : Factor w/ 7 levels \"Friday\",\"Monday\",..: 1 1 1 1 1 1 1 1 1 1 ...\n",
            " $ Holiday            : chr  \"False\" \"False\" \"False\" \"False\" ...\n",
            " $ temp               : num  14.5 14.5 14.5 14.5 14.5 ...\n",
            " $ visibility         : num  10000 10000 10000 10000 10000 10000 10000 10000 10000 10000 ...\n",
            " $ pressure           : int  1027 1027 1027 1027 1027 1027 1027 1027 1027 1027 ...\n",
            " $ humidity           : int  63 63 63 63 63 63 63 63 63 63 ...\n",
            " $ wind_speed         : num  2.1 2.1 2.1 2.1 2.1 2.1 2.1 2.1 2.1 2.1 ...\n",
            " $ weather_main       : Factor w/ 8 levels \"Clear\",\"Clouds\",..: 1 1 1 1 1 1 1 1 1 1 ...\n",
            " $ weather_description: Factor w/ 14 levels \"broken clouds\",..: 13 13 13 13 13 13 13 13 13 13 ...\n",
            "'data.frame':\t4299 obs. of  14 variables:\n",
            " $ CRASH_DATE         : Date, format: \"2019-10-25\" \"2019-10-25\" ...\n",
            " $ CRASH_TIME         : int  15 15 15 15 15 15 15 15 15 17 ...\n",
            " $ PERSON_AGE         : num  56 65 39 51 62 22 77 73 39 25 ...\n",
            " $ PERSON_SEX         : Factor w/ 2 levels \"F\",\"M\": 2 2 2 1 2 1 2 1 1 1 ...\n",
            " $ KILLED_INJURED     : Factor w/ 12 levels \"0\",\"1\",\"2\",\"3\",..: 1 1 4 1 1 2 3 3 3 2 ...\n",
            " $ WEEKDAY            : Factor w/ 7 levels \"Friday\",\"Monday\",..: 1 1 1 1 1 1 1 1 1 3 ...\n",
            " $ Holiday            : chr  \"False\" \"False\" \"False\" \"False\" ...\n",
            " $ temp               : num  14.5 14.5 14.5 14.5 14.5 ...\n",
            " $ visibility         : num  10000 10000 10000 10000 10000 10000 10000 10000 10000 10000 ...\n",
            " $ pressure           : int  1027 1027 1027 1027 1027 1027 1027 1027 1027 1025 ...\n",
            " $ humidity           : int  63 63 63 63 63 63 63 63 63 48 ...\n",
            " $ wind_speed         : num  2.1 2.1 2.1 2.1 2.1 2.1 2.1 2.1 2.1 4.1 ...\n",
            " $ weather_main       : Factor w/ 8 levels \"Clear\",\"Clouds\",..: 1 1 1 1 1 1 1 1 1 7 ...\n",
            " $ weather_description: Factor w/ 14 levels \"broken clouds\",..: 13 13 13 13 13 13 13 13 13 7 ...\n"
          ]
        },
        {
          "output_type": "display_data",
          "data": {
            "text/plain": [
              "Confusion Matrix and Statistics\n",
              "\n",
              "    predic\n",
              "true    0    1    2    3    4    5    6    7    8   10   12   18\n",
              "  0   949  692   49   15    5    3    2    0    0    0    1    1\n",
              "  1   628 1034   60   10    3    0    0    0    0    2    0    3\n",
              "  2   210  228   68    6    0    0    0    0    0    2    0    2\n",
              "  3    74   74    8    9    0    0    0    0    0    0    0    0\n",
              "  4    47   30    2    0    4    3    0    0    0    0    0    0\n",
              "  5    20    5    3    2    0    7    0    0    0    0    0    0\n",
              "  6     7   10    0    0    0    0    1    0    0    0    0    0\n",
              "  7     2    3    0    0    0    0    0    0    0    0    0    0\n",
              "  8     1    5    0    0    0    0    0    0    0    0    0    0\n",
              "  10    2    0    0    0    0    0    0    0    0    0    0    0\n",
              "  12    0    0    0    0    0    0    0    0    0    0    3    0\n",
              "  18    0    0    0    0    0    0    0    0    0    0    0    4\n",
              "\n",
              "Overall Statistics\n",
              "                                          \n",
              "               Accuracy : 0.4836          \n",
              "                 95% CI : (0.4686, 0.4987)\n",
              "    No Information Rate : 0.4841          \n",
              "    P-Value [Acc > NIR] : 0.5303          \n",
              "                                          \n",
              "                  Kappa : 0.1645          \n",
              "                                          \n",
              " Mcnemar's Test P-Value : NA              \n",
              "\n",
              "Statistics by Class:\n",
              "\n",
              "                     Class: 0 Class: 1 Class: 2 Class: 3  Class: 4 Class: 5\n",
              "Sensitivity            0.4892   0.4969  0.35789 0.214286 0.3333333 0.538462\n",
              "Specificity            0.6744   0.6817  0.89097 0.963354 0.9808724 0.993000\n",
              "Pos Pred Value         0.5527   0.5943  0.13178 0.054545 0.0465116 0.189189\n",
              "Neg Pred Value         0.6162   0.5909  0.96775 0.992017 0.9981011 0.998592\n",
              "Prevalence             0.4513   0.4841  0.04420 0.009770 0.0027913 0.003024\n",
              "Detection Rate         0.2207   0.2405  0.01582 0.002094 0.0009304 0.001628\n",
              "Detection Prevalence   0.3994   0.4047  0.12003 0.038381 0.0200047 0.008607\n",
              "Balanced Accuracy      0.5818   0.5893  0.62443 0.588820 0.6571029 0.765731\n",
              "                      Class: 6 Class: 7 Class: 8 Class: 10 Class: 12 Class: 18\n",
              "Sensitivity          0.3333333       NA       NA 0.0000000 0.7500000 0.4000000\n",
              "Specificity          0.9960428 0.998837 0.998604 0.9995343 1.0000000 1.0000000\n",
              "Pos Pred Value       0.0555556       NA       NA 0.0000000 1.0000000 1.0000000\n",
              "Neg Pred Value       0.9995328       NA       NA 0.9990691 0.9997672 0.9986030\n",
              "Prevalence           0.0006978 0.000000 0.000000 0.0009304 0.0009304 0.0023261\n",
              "Detection Rate       0.0002326 0.000000 0.000000 0.0000000 0.0006978 0.0009304\n",
              "Detection Prevalence 0.0041870 0.001163 0.001396 0.0004652 0.0006978 0.0009304\n",
              "Balanced Accuracy    0.6646881       NA       NA 0.4997672 0.8750000 0.7000000"
            ]
          },
          "metadata": {}
        }
      ]
    },
    {
      "cell_type": "code",
      "source": [
        "## Data pre-processing\n",
        "data2=head(data1,100000)\n",
        "data2 = subset(data2, select = -c(CONTRIBUTING.FACTOR.VEHICLE.1,LATITUDE,LONGITUDE,wind_deg,temp_min,temp_max,dew_point,CONTRIBUTING.FACTOR.VEHICLE.2,COLLISION_ID,X,VEHICLE.TYPE.CODE.1,VEHICLE.TYPE.CODE.2,ON.STREET.NAME,CROSS.STREET.NAME,OFF.STREET.NAME, VEHICLE_ID,weather_id,clouds_all,rain_1h,wind_gust,weather_icon,rain_3h,snow_3h,sea_level,grnd_level,snow_1h) )\n",
        "names(data2)[names(data2) == \"KILLED.INJURED\"] <- \"KILLED_INJURED\"\n",
        "colSums(is.na(data2))\n",
        "data2$CRASH_DATE=as.Date(data2$CRASH_DATE, format = \"%Y-%m-%d\")\n",
        "nrow(data2)\n",
        "data2=data2[!is.na(data2$visibility),]\n",
        "nrow(data2)\n",
        "data2=data2[!is.na(data2$KILLED_INJURED),]\n",
        "data2$KILLED_INJURED <- as.factor(data2$KILLED_INJURED)\n",
        "nrow(data2)\n",
        "index0 <- which(data2$KILLED_INJURED == 0)\n",
        "index1 <- which(data2$KILLED_INJURED == 1)\n",
        "deleteindex <- sample(index0,length(index0)-length(index1))\n",
        "nrow(data2)\n",
        "data2=data2[-deleteindex,]\n",
        "nrow(data2)\n",
        "data2$weather_main <- as.factor(data2$weather_main)\n",
        "data2$weather_description <- as.factor(data2$weather_description)\n",
        "data2$PERSON_SEX <- as.factor(data2$PERSON_SEX)\n",
        "data2$WEEKDAY <- as.factor(data2$WEEKDAY)\n",
        "set.seed(1)\n",
        "sample = sample.split(data2, SplitRatio = 0.80)\n",
        "training = subset(data2, sample == TRUE)\n",
        "test = subset(data2, sample == FALSE)\n",
        "rm(sample)\n",
        "str(training)\n",
        "str(test)\n",
        "svmfit=svm(KILLED_INJURED~., data=training, kernel=\"radial\", gamma=1, cost=1)\n",
        "pred=predict(svmfit,test,type=\"class\")\n",
        "cm=table(true=test$KILLED_INJURED,predic=pred)\n",
        "confusionMatrix(cm)"
      ],
      "metadata": {
        "colab": {
          "base_uri": "https://localhost:8080/",
          "height": 1000
        },
        "id": "9NHgkoFwsRK-",
        "outputId": "b476489d-a4da-4c89-be2a-5d913000d542"
      },
      "execution_count": null,
      "outputs": [
        {
          "output_type": "display_data",
          "data": {
            "text/html": [
              "<style>\n",
              ".dl-inline {width: auto; margin:0; padding: 0}\n",
              ".dl-inline>dt, .dl-inline>dd {float: none; width: auto; display: inline-block}\n",
              ".dl-inline>dt::after {content: \":\\0020\"; padding-right: .5ex}\n",
              ".dl-inline>dt:not(:first-of-type) {padding-left: .5ex}\n",
              "</style><dl class=dl-inline><dt>CRASH_DATE</dt><dd>0</dd><dt>CRASH_TIME</dt><dd>0</dd><dt>PERSON_AGE</dt><dd>0</dd><dt>PERSON_SEX</dt><dd>0</dd><dt>KILLED_INJURED</dt><dd>0</dd><dt>WEEKDAY</dt><dd>0</dd><dt>Holiday</dt><dd>0</dd><dt>temp</dt><dd>0</dd><dt>visibility</dt><dd>83</dd><dt>pressure</dt><dd>0</dd><dt>humidity</dt><dd>0</dd><dt>wind_speed</dt><dd>0</dd><dt>weather_main</dt><dd>0</dd><dt>weather_description</dt><dd>0</dd></dl>\n"
            ],
            "text/markdown": "CRASH_DATE\n:   0CRASH_TIME\n:   0PERSON_AGE\n:   0PERSON_SEX\n:   0KILLED_INJURED\n:   0WEEKDAY\n:   0Holiday\n:   0temp\n:   0visibility\n:   83pressure\n:   0humidity\n:   0wind_speed\n:   0weather_main\n:   0weather_description\n:   0\n\n",
            "text/latex": "\\begin{description*}\n\\item[CRASH\\textbackslash{}\\_DATE] 0\n\\item[CRASH\\textbackslash{}\\_TIME] 0\n\\item[PERSON\\textbackslash{}\\_AGE] 0\n\\item[PERSON\\textbackslash{}\\_SEX] 0\n\\item[KILLED\\textbackslash{}\\_INJURED] 0\n\\item[WEEKDAY] 0\n\\item[Holiday] 0\n\\item[temp] 0\n\\item[visibility] 83\n\\item[pressure] 0\n\\item[humidity] 0\n\\item[wind\\textbackslash{}\\_speed] 0\n\\item[weather\\textbackslash{}\\_main] 0\n\\item[weather\\textbackslash{}\\_description] 0\n\\end{description*}\n",
            "text/plain": [
              "         CRASH_DATE          CRASH_TIME          PERSON_AGE          PERSON_SEX \n",
              "                  0                   0                   0                   0 \n",
              "     KILLED_INJURED             WEEKDAY             Holiday                temp \n",
              "                  0                   0                   0                   0 \n",
              "         visibility            pressure            humidity          wind_speed \n",
              "                 83                   0                   0                   0 \n",
              "       weather_main weather_description \n",
              "                  0                   0 "
            ]
          },
          "metadata": {}
        },
        {
          "output_type": "display_data",
          "data": {
            "text/html": [
              "100000"
            ],
            "text/markdown": "100000",
            "text/latex": "100000",
            "text/plain": [
              "[1] 100000"
            ]
          },
          "metadata": {}
        },
        {
          "output_type": "display_data",
          "data": {
            "text/html": [
              "99917"
            ],
            "text/markdown": "99917",
            "text/latex": "99917",
            "text/plain": [
              "[1] 99917"
            ]
          },
          "metadata": {}
        },
        {
          "output_type": "display_data",
          "data": {
            "text/html": [
              "99917"
            ],
            "text/markdown": "99917",
            "text/latex": "99917",
            "text/plain": [
              "[1] 99917"
            ]
          },
          "metadata": {}
        },
        {
          "output_type": "display_data",
          "data": {
            "text/html": [
              "99917"
            ],
            "text/markdown": "99917",
            "text/latex": "99917",
            "text/plain": [
              "[1] 99917"
            ]
          },
          "metadata": {}
        },
        {
          "output_type": "display_data",
          "data": {
            "text/html": [
              "37791"
            ],
            "text/markdown": "37791",
            "text/latex": "37791",
            "text/plain": [
              "[1] 37791"
            ]
          },
          "metadata": {}
        },
        {
          "output_type": "stream",
          "name": "stdout",
          "text": [
            "'data.frame':\t29693 obs. of  14 variables:\n",
            " $ CRASH_DATE         : Date, format: \"2019-10-25\" \"2019-10-25\" ...\n",
            " $ CRASH_TIME         : int  15 15 15 15 15 15 15 15 15 15 ...\n",
            " $ PERSON_AGE         : num  33 33 42 39 38 35 39 35 35 35 ...\n",
            " $ PERSON_SEX         : Factor w/ 2 levels \"F\",\"M\": 2 2 2 2 2 2 2 2 2 2 ...\n",
            " $ KILLED_INJURED     : Factor w/ 12 levels \"0\",\"1\",\"2\",\"3\",..: 1 1 1 4 4 4 4 4 2 2 ...\n",
            " $ WEEKDAY            : Factor w/ 7 levels \"Friday\",\"Monday\",..: 1 1 1 1 1 1 1 1 1 1 ...\n",
            " $ Holiday            : chr  \"False\" \"False\" \"False\" \"False\" ...\n",
            " $ temp               : num  14.5 14.5 14.5 14.5 14.5 ...\n",
            " $ visibility         : num  10000 10000 10000 10000 10000 10000 10000 10000 10000 10000 ...\n",
            " $ pressure           : int  1027 1027 1027 1027 1027 1027 1027 1027 1027 1027 ...\n",
            " $ humidity           : int  63 63 63 63 63 63 63 63 63 63 ...\n",
            " $ wind_speed         : num  2.1 2.1 2.1 2.1 2.1 2.1 2.1 2.1 2.1 2.1 ...\n",
            " $ weather_main       : Factor w/ 10 levels \"Clear\",\"Clouds\",..: 1 1 1 1 1 1 1 1 1 1 ...\n",
            " $ weather_description: Factor w/ 18 levels \"broken clouds\",..: 15 15 15 15 15 15 15 15 15 15 ...\n",
            "'data.frame':\t8098 obs. of  14 variables:\n",
            " $ CRASH_DATE         : Date, format: \"2019-10-25\" \"2019-10-25\" ...\n",
            " $ CRASH_TIME         : int  15 15 15 15 15 15 15 15 15 15 ...\n",
            " $ PERSON_AGE         : num  30 35 27 52 49 32 42 67 38 59 ...\n",
            " $ PERSON_SEX         : Factor w/ 2 levels \"F\",\"M\": 2 1 2 2 1 2 2 1 1 1 ...\n",
            " $ KILLED_INJURED     : Factor w/ 12 levels \"0\",\"1\",\"2\",\"3\",..: 1 4 4 1 1 1 7 1 1 2 ...\n",
            " $ WEEKDAY            : Factor w/ 7 levels \"Friday\",\"Monday\",..: 1 1 1 1 1 1 1 1 1 1 ...\n",
            " $ Holiday            : chr  \"False\" \"False\" \"False\" \"False\" ...\n",
            " $ temp               : num  14.5 14.5 14.5 14.5 14.5 ...\n",
            " $ visibility         : num  10000 10000 10000 10000 10000 10000 10000 10000 10000 10000 ...\n",
            " $ pressure           : int  1027 1027 1027 1027 1027 1027 1027 1027 1027 1027 ...\n",
            " $ humidity           : int  63 63 63 63 63 63 63 63 63 63 ...\n",
            " $ wind_speed         : num  2.1 2.1 2.1 2.1 2.1 2.1 2.1 2.1 2.1 2.1 ...\n",
            " $ weather_main       : Factor w/ 10 levels \"Clear\",\"Clouds\",..: 1 1 1 1 1 1 1 1 1 1 ...\n",
            " $ weather_description: Factor w/ 18 levels \"broken clouds\",..: 15 15 15 15 15 15 15 15 15 15 ...\n"
          ]
        },
        {
          "output_type": "display_data",
          "data": {
            "text/plain": [
              "Confusion Matrix and Statistics\n",
              "\n",
              "    predic\n",
              "true    0    1    2    3    4    5    6    7    8   10   12   18\n",
              "  0  1822 1309  106   28    7    2    2    1    0    0    2    2\n",
              "  1  1342 1790   76   34    6    4    3    0    0    0    0    0\n",
              "  2   409  405   85    7    0    2    0    0    0    0    1    0\n",
              "  3   165  132   15   28    0    0    0    0    0    0    1    0\n",
              "  4    80   76    6    1   12    0    0    0    0    0    0    0\n",
              "  5    37   18    2    1    0   10    0    0    0    0    0    0\n",
              "  6    14   21    0    0    0    0    0    0    0    0    0    0\n",
              "  7     5    2    0    2    0    0    0    0    0    0    0    0\n",
              "  8     0    4    0    0    0    0    0    0    0    0    0    0\n",
              "  10    0    2    0    0    1    0    0    0    0    0    0    0\n",
              "  12    4    0    0    0    0    0    0    0    0    0   10    0\n",
              "  18    3    0    0    0    0    0    0    0    0    0    0    1\n",
              "\n",
              "Overall Statistics\n",
              "                                         \n",
              "               Accuracy : 0.4641         \n",
              "                 95% CI : (0.4532, 0.475)\n",
              "    No Information Rate : 0.4793         \n",
              "    P-Value [Acc > NIR] : 0.997          \n",
              "                                         \n",
              "                  Kappa : 0.128          \n",
              "                                         \n",
              " Mcnemar's Test P-Value : NA             \n",
              "\n",
              "Statistics by Class:\n",
              "\n",
              "                     Class: 0 Class: 1 Class: 2 Class: 3 Class: 4 Class: 5\n",
              "Sensitivity            0.4695   0.4762  0.29310 0.277228 0.461538 0.555556\n",
              "Specificity            0.6540   0.6624  0.89447 0.960860 0.979807 0.992822\n",
              "Pos Pred Value         0.5553   0.5499  0.09351 0.082111 0.068571 0.147059\n",
              "Neg Pred Value         0.5726   0.5934  0.97148 0.990589 0.998233 0.999004\n",
              "Prevalence             0.4793   0.4642  0.03581 0.012472 0.003211 0.002223\n",
              "Detection Rate         0.2250   0.2210  0.01050 0.003458 0.001482 0.001235\n",
              "Detection Prevalence   0.4052   0.4020  0.11225 0.042109 0.021610 0.008397\n",
              "Balanced Accuracy      0.5617   0.5693  0.59379 0.619044 0.720673 0.774189\n",
              "                      Class: 6  Class: 7  Class: 8 Class: 10 Class: 12\n",
              "Sensitivity          0.0000000 0.0000000        NA        NA  0.714286\n",
              "Specificity          0.9956753 0.9988885 0.9995061 0.9996295  0.999505\n",
              "Pos Pred Value       0.0000000 0.0000000        NA        NA  0.714286\n",
              "Neg Pred Value       0.9993799 0.9998764        NA        NA  0.999505\n",
              "Prevalence           0.0006174 0.0001235 0.0000000 0.0000000  0.001729\n",
              "Detection Rate       0.0000000 0.0000000 0.0000000 0.0000000  0.001235\n",
              "Detection Prevalence 0.0043221 0.0011114 0.0004939 0.0003705  0.001729\n",
              "Balanced Accuracy    0.4978376 0.4994442        NA        NA  0.856895\n",
              "                     Class: 18\n",
              "Sensitivity          0.3333333\n",
              "Specificity          0.9996294\n",
              "Pos Pred Value       0.2500000\n",
              "Neg Pred Value       0.9997529\n",
              "Prevalence           0.0003705\n",
              "Detection Rate       0.0001235\n",
              "Detection Prevalence 0.0004939\n",
              "Balanced Accuracy    0.6664814"
            ]
          },
          "metadata": {}
        }
      ]
    },
    {
      "cell_type": "code",
      "source": [
        "## Data pre-processing\n",
        "data2=head(data1,500000)\n",
        "data2 = subset(data2, select = -c(CONTRIBUTING.FACTOR.VEHICLE.1,LATITUDE,LONGITUDE,wind_deg,temp_min,temp_max,dew_point,CONTRIBUTING.FACTOR.VEHICLE.2,COLLISION_ID,X,VEHICLE.TYPE.CODE.1,VEHICLE.TYPE.CODE.2,ON.STREET.NAME,CROSS.STREET.NAME,OFF.STREET.NAME, VEHICLE_ID,weather_id,clouds_all,rain_1h,wind_gust,weather_icon,rain_3h,snow_3h,sea_level,grnd_level,snow_1h) )\n",
        "names(data2)[names(data2) == \"KILLED.INJURED\"] <- \"KILLED_INJURED\"\n",
        "colSums(is.na(data2))\n",
        "data2$CRASH_DATE=as.Date(data2$CRASH_DATE, format = \"%Y-%m-%d\")\n",
        "nrow(data2)\n",
        "data2=data2[!is.na(data2$visibility),]\n",
        "nrow(data2)\n",
        "data2=data2[!is.na(data2$KILLED_INJURED),]\n",
        "data2$KILLED_INJURED <- as.factor(data2$KILLED_INJURED)\n",
        "nrow(data2)\n",
        "index0 <- which(data2$KILLED_INJURED == 0)\n",
        "index1 <- which(data2$KILLED_INJURED == 1)\n",
        "deleteindex <- sample(index0,length(index0)-length(index1))\n",
        "nrow(data2)\n",
        "data2=data2[-deleteindex,]\n",
        "nrow(data2)\n",
        "data2$weather_main <- as.factor(data2$weather_main)\n",
        "data2$weather_description <- as.factor(data2$weather_description)\n",
        "data2$PERSON_SEX <- as.factor(data2$PERSON_SEX)\n",
        "data2$WEEKDAY <- as.factor(data2$WEEKDAY)\n",
        "set.seed(1)\n",
        "sample = sample.split(data2, SplitRatio = 0.80)\n",
        "training = subset(data2, sample == TRUE)\n",
        "test = subset(data2, sample == FALSE)\n",
        "rm(sample)\n",
        "str(training)\n",
        "str(test)\n",
        "svmfit=svm(KILLED_INJURED~., data=training, kernel=\"radial\", gamma=1, cost=1)\n",
        "pred=predict(svmfit,test,type=\"class\")\n",
        "cm=table(true=test$KILLED_INJURED,predic=pred)\n",
        "confusionMatrix(cm)"
      ],
      "metadata": {
        "colab": {
          "base_uri": "https://localhost:8080/",
          "height": 1000
        },
        "id": "hM21gta6sU1F",
        "outputId": "a770b4a5-96f3-419b-a8c5-2512447d071f"
      },
      "execution_count": null,
      "outputs": [
        {
          "output_type": "display_data",
          "data": {
            "text/html": [
              "<style>\n",
              ".dl-inline {width: auto; margin:0; padding: 0}\n",
              ".dl-inline>dt, .dl-inline>dd {float: none; width: auto; display: inline-block}\n",
              ".dl-inline>dt::after {content: \":\\0020\"; padding-right: .5ex}\n",
              ".dl-inline>dt:not(:first-of-type) {padding-left: .5ex}\n",
              "</style><dl class=dl-inline><dt>CRASH_DATE</dt><dd>0</dd><dt>CRASH_TIME</dt><dd>0</dd><dt>PERSON_AGE</dt><dd>0</dd><dt>PERSON_SEX</dt><dd>0</dd><dt>KILLED_INJURED</dt><dd>1</dd><dt>WEEKDAY</dt><dd>0</dd><dt>Holiday</dt><dd>0</dd><dt>temp</dt><dd>0</dd><dt>visibility</dt><dd>442</dd><dt>pressure</dt><dd>0</dd><dt>humidity</dt><dd>0</dd><dt>wind_speed</dt><dd>0</dd><dt>weather_main</dt><dd>0</dd><dt>weather_description</dt><dd>0</dd></dl>\n"
            ],
            "text/markdown": "CRASH_DATE\n:   0CRASH_TIME\n:   0PERSON_AGE\n:   0PERSON_SEX\n:   0KILLED_INJURED\n:   1WEEKDAY\n:   0Holiday\n:   0temp\n:   0visibility\n:   442pressure\n:   0humidity\n:   0wind_speed\n:   0weather_main\n:   0weather_description\n:   0\n\n",
            "text/latex": "\\begin{description*}\n\\item[CRASH\\textbackslash{}\\_DATE] 0\n\\item[CRASH\\textbackslash{}\\_TIME] 0\n\\item[PERSON\\textbackslash{}\\_AGE] 0\n\\item[PERSON\\textbackslash{}\\_SEX] 0\n\\item[KILLED\\textbackslash{}\\_INJURED] 1\n\\item[WEEKDAY] 0\n\\item[Holiday] 0\n\\item[temp] 0\n\\item[visibility] 442\n\\item[pressure] 0\n\\item[humidity] 0\n\\item[wind\\textbackslash{}\\_speed] 0\n\\item[weather\\textbackslash{}\\_main] 0\n\\item[weather\\textbackslash{}\\_description] 0\n\\end{description*}\n",
            "text/plain": [
              "         CRASH_DATE          CRASH_TIME          PERSON_AGE          PERSON_SEX \n",
              "                  0                   0                   0                   0 \n",
              "     KILLED_INJURED             WEEKDAY             Holiday                temp \n",
              "                  1                   0                   0                   0 \n",
              "         visibility            pressure            humidity          wind_speed \n",
              "                442                   0                   0                   0 \n",
              "       weather_main weather_description \n",
              "                  0                   0 "
            ]
          },
          "metadata": {}
        },
        {
          "output_type": "display_data",
          "data": {
            "text/html": [
              "500000"
            ],
            "text/markdown": "500000",
            "text/latex": "500000",
            "text/plain": [
              "[1] 500000"
            ]
          },
          "metadata": {}
        },
        {
          "output_type": "display_data",
          "data": {
            "text/html": [
              "499558"
            ],
            "text/markdown": "499558",
            "text/latex": "499558",
            "text/plain": [
              "[1] 499558"
            ]
          },
          "metadata": {}
        },
        {
          "output_type": "display_data",
          "data": {
            "text/html": [
              "499557"
            ],
            "text/markdown": "499557",
            "text/latex": "499557",
            "text/plain": [
              "[1] 499557"
            ]
          },
          "metadata": {}
        },
        {
          "output_type": "display_data",
          "data": {
            "text/html": [
              "499557"
            ],
            "text/markdown": "499557",
            "text/latex": "499557",
            "text/plain": [
              "[1] 499557"
            ]
          },
          "metadata": {}
        },
        {
          "output_type": "display_data",
          "data": {
            "text/html": [
              "180966"
            ],
            "text/markdown": "180966",
            "text/latex": "180966",
            "text/plain": [
              "[1] 180966"
            ]
          },
          "metadata": {}
        },
        {
          "output_type": "stream",
          "name": "stdout",
          "text": [
            "'data.frame':\t142188 obs. of  14 variables:\n",
            " $ CRASH_DATE         : Date, format: \"2019-10-25\" \"2019-10-25\" ...\n",
            " $ CRASH_TIME         : int  15 15 15 15 15 15 15 15 15 15 ...\n",
            " $ PERSON_AGE         : num  33 33 42 39 38 35 39 35 35 35 ...\n",
            " $ PERSON_SEX         : Factor w/ 2 levels \"F\",\"M\": 2 2 2 2 2 2 2 2 2 2 ...\n",
            " $ KILLED_INJURED     : Factor w/ 16 levels \"0\",\"1\",\"2\",\"3\",..: 1 1 1 4 4 4 4 4 2 2 ...\n",
            " $ WEEKDAY            : Factor w/ 7 levels \"Friday\",\"Monday\",..: 1 1 1 1 1 1 1 1 1 1 ...\n",
            " $ Holiday            : chr  \"False\" \"False\" \"False\" \"False\" ...\n",
            " $ temp               : num  14.5 14.5 14.5 14.5 14.5 ...\n",
            " $ visibility         : num  10000 10000 10000 10000 10000 10000 10000 10000 10000 10000 ...\n",
            " $ pressure           : int  1027 1027 1027 1027 1027 1027 1027 1027 1027 1027 ...\n",
            " $ humidity           : int  63 63 63 63 63 63 63 63 63 63 ...\n",
            " $ wind_speed         : num  2.1 2.1 2.1 2.1 2.1 2.1 2.1 2.1 2.1 2.1 ...\n",
            " $ weather_main       : Factor w/ 11 levels \"Clear\",\"Clouds\",..: 1 1 1 1 1 1 1 1 1 1 ...\n",
            " $ weather_description: Factor w/ 24 levels \"broken clouds\",..: 17 17 17 17 17 17 17 17 17 17 ...\n",
            "'data.frame':\t38778 obs. of  14 variables:\n",
            " $ CRASH_DATE         : Date, format: \"2019-10-25\" \"2019-10-25\" ...\n",
            " $ CRASH_TIME         : int  15 15 15 15 15 15 15 15 15 17 ...\n",
            " $ PERSON_AGE         : num  17 35 27 31 21 21 73 62 59 29 ...\n",
            " $ PERSON_SEX         : Factor w/ 2 levels \"F\",\"M\": 2 1 2 1 1 1 1 2 1 2 ...\n",
            " $ KILLED_INJURED     : Factor w/ 16 levels \"0\",\"1\",\"2\",\"3\",..: 1 4 4 2 2 2 3 1 2 2 ...\n",
            " $ WEEKDAY            : Factor w/ 7 levels \"Friday\",\"Monday\",..: 1 1 1 1 1 1 1 1 1 3 ...\n",
            " $ Holiday            : chr  \"False\" \"False\" \"False\" \"False\" ...\n",
            " $ temp               : num  14.5 14.5 14.5 14.5 14.5 ...\n",
            " $ visibility         : num  10000 10000 10000 10000 10000 10000 10000 10000 10000 10000 ...\n",
            " $ pressure           : int  1027 1027 1027 1027 1027 1027 1027 1027 1027 1025 ...\n",
            " $ humidity           : int  63 63 63 63 63 63 63 63 63 48 ...\n",
            " $ wind_speed         : num  2.1 2.1 2.1 2.1 2.1 2.1 2.1 2.1 2.1 4.1 ...\n",
            " $ weather_main       : Factor w/ 11 levels \"Clear\",\"Clouds\",..: 1 1 1 1 1 1 1 1 1 7 ...\n",
            " $ weather_description: Factor w/ 24 levels \"broken clouds\",..: 17 17 17 17 17 17 17 17 17 9 ...\n"
          ]
        },
        {
          "output_type": "display_data",
          "data": {
            "text/plain": [
              "Confusion Matrix and Statistics\n",
              "\n",
              "    predic\n",
              "true    0    1    2    3    4    5    6    7    8    9   10   11   12   13   16\n",
              "  0  8251 6617  523  146   31   36   13    3    3    2    2    5    6    0    1\n",
              "  1  5987 8927  381  109   28   17    8    1    3    2    3    0    2    2    1\n",
              "  2  1991 1851  535   34   16   11    6    0    0    3    0    2    3    0    1\n",
              "  3   868  746   71  135    3    8    1    0    0    0    0    0    0    0    0\n",
              "  4   342  308   22    1   39    1    1    0    0    0    0    0    0    0    0\n",
              "  5   132  131   12    2    0   51    2    0    0    0    0    0    0    0    0\n",
              "  6    60   75    4    1    0    0   23    0    0    0    0    0    0    0    0\n",
              "  7    32   13    4    1    1    0    0    0    0    0    0    0    0    0    0\n",
              "  8    18   17    4    1    0    0    0    0   10    0    0    0    0    0    0\n",
              "  9     9    1    2    0    0    0    0    0    0    2    0    0    0    0    0\n",
              "  10    6    6    0    0    0    0    0    0    0    0    4    0    0    0    0\n",
              "  11    0    0    0    0    0    0    0    0    0    0    0    4    0    0    0\n",
              "  12    3    3    0    0    0    0    0    0    0    0    0    0    7    0    0\n",
              "  13    4    0    0    2    0    0    0    0    0    0    0    0    0    3    0\n",
              "  16    0    3    0    0    0    0    0    0    0    0    0    0    0    0    2\n",
              "  18    3    0    0    0    0    0    0    0    0    0    0    0    0    0    0\n",
              "    predic\n",
              "true   18\n",
              "  0     2\n",
              "  1     2\n",
              "  2     2\n",
              "  3     0\n",
              "  4     0\n",
              "  5     0\n",
              "  6     0\n",
              "  7     0\n",
              "  8     0\n",
              "  9     0\n",
              "  10    0\n",
              "  11    0\n",
              "  12    0\n",
              "  13    0\n",
              "  16    0\n",
              "  18    5\n",
              "\n",
              "Overall Statistics\n",
              "                                          \n",
              "               Accuracy : 0.4641          \n",
              "                 95% CI : (0.4592, 0.4691)\n",
              "    No Information Rate : 0.4822          \n",
              "    P-Value [Acc > NIR] : 1               \n",
              "                                          \n",
              "                  Kappa : 0.1332          \n",
              "                                          \n",
              " Mcnemar's Test P-Value : NA              \n",
              "\n",
              "Statistics by Class:\n",
              "\n",
              "                     Class: 0 Class: 1 Class: 2 Class: 3 Class: 4 Class: 5\n",
              "Sensitivity            0.4660   0.4774  0.34339 0.312500 0.330508 0.411290\n",
              "Specificity            0.6493   0.6740  0.89468 0.955745 0.982540 0.992782\n",
              "Pos Pred Value         0.5275   0.5769  0.12009 0.073690 0.054622 0.154545\n",
              "Neg Pred Value         0.5913   0.5807  0.97019 0.991961 0.997925 0.998101\n",
              "Prevalence             0.4566   0.4822  0.04018 0.011140 0.003043 0.003198\n",
              "Detection Rate         0.2128   0.2302  0.01380 0.003481 0.001006 0.001315\n",
              "Detection Prevalence   0.4033   0.3990  0.11488 0.047243 0.018413 0.008510\n",
              "Balanced Accuracy      0.5576   0.5757  0.61903 0.634123 0.656524 0.702036\n",
              "                      Class: 6  Class: 7  Class: 8  Class: 9 Class: 10\n",
              "Sensitivity          0.4259259 0.0000000 0.6250000 2.222e-01 0.4444444\n",
              "Specificity          0.9963847 0.9986847 0.9989681 9.997e-01 0.9996905\n",
              "Pos Pred Value       0.1411043 0.0000000 0.2000000 1.429e-01 0.2500000\n",
              "Neg Pred Value       0.9991972 0.9998967 0.9998451 9.998e-01 0.9998710\n",
              "Prevalence           0.0013925 0.0001032 0.0004126 2.321e-04 0.0002321\n",
              "Detection Rate       0.0005931 0.0000000 0.0002579 5.158e-05 0.0001032\n",
              "Detection Prevalence 0.0042034 0.0013152 0.0012894 3.610e-04 0.0004126\n",
              "Balanced Accuracy    0.7111553 0.4993423 0.8119840 6.110e-01 0.7220675\n",
              "                     Class: 11 Class: 12 Class: 13 Class: 16 Class: 18\n",
              "Sensitivity          0.3636364 0.3888889 6.000e-01 4.000e-01 0.4545455\n",
              "Specificity          1.0000000 0.9998452 9.998e-01 9.999e-01 0.9999226\n",
              "Pos Pred Value       1.0000000 0.5384615 3.333e-01 4.000e-01 0.6250000\n",
              "Neg Pred Value       0.9998195 0.9997162 9.999e-01 9.999e-01 0.9998452\n",
              "Prevalence           0.0002837 0.0004642 1.289e-04 1.289e-04 0.0002837\n",
              "Detection Rate       0.0001032 0.0001805 7.736e-05 5.158e-05 0.0001289\n",
              "Detection Prevalence 0.0001032 0.0003352 2.321e-04 1.289e-04 0.0002063\n",
              "Balanced Accuracy    0.6818182 0.6943670 7.999e-01 7.000e-01 0.7272340"
            ]
          },
          "metadata": {}
        }
      ]
    }
  ],
  "metadata": {
    "colab": {
      "collapsed_sections": [],
      "machine_shape": "hm",
      "name": "classication_support_vector_machine",
      "provenance": [],
      "include_colab_link": true
    },
    "kernelspec": {
      "display_name": "R",
      "name": "ir"
    },
    "language_info": {
      "name": "R"
    }
  },
  "nbformat": 4,
  "nbformat_minor": 0
}