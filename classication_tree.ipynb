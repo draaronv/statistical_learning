{
  "cells": [
    {
      "cell_type": "markdown",
      "metadata": {
        "id": "view-in-github",
        "colab_type": "text"
      },
      "source": [
        "<a href=\"https://colab.research.google.com/github/draaronv/statistical_learning/blob/master/classication_tree.ipynb\" target=\"_parent\"><img src=\"https://colab.research.google.com/assets/colab-badge.svg\" alt=\"Open In Colab\"/></a>"
      ]
    },
    {
      "cell_type": "code",
      "execution_count": null,
      "metadata": {
        "colab": {
          "base_uri": "https://localhost:8080/"
        },
        "id": "j1N06dtFSiGK",
        "outputId": "58d243dc-8e8e-4070-c857-81a8894d91c5"
      },
      "outputs": [
        {
          "output_type": "stream",
          "name": "stderr",
          "text": [
            "Installing package into ‘/usr/local/lib/R/site-library’\n",
            "(as ‘lib’ is unspecified)\n",
            "\n",
            "Installing package into ‘/usr/local/lib/R/site-library’\n",
            "(as ‘lib’ is unspecified)\n",
            "\n",
            "also installing the dependencies ‘Rcpp’, ‘promises’, ‘later’\n",
            "\n",
            "\n"
          ]
        }
      ],
      "source": [
        "install.packages('googledrive')\n",
        "install.packages('httpuv') \n",
        "library('googledrive') \n",
        "library('httpuv')"
      ]
    },
    {
      "cell_type": "code",
      "execution_count": null,
      "metadata": {
        "colab": {
          "base_uri": "https://localhost:8080/"
        },
        "id": "cnq9DnaJ8_q8",
        "outputId": "9cc4b777-64f1-4bf7-8092-fc784da8acd1"
      },
      "outputs": [
        {
          "output_type": "stream",
          "name": "stderr",
          "text": [
            "Installing package into ‘/usr/local/lib/R/site-library’\n",
            "(as ‘lib’ is unspecified)\n",
            "\n",
            "also installing the dependencies ‘R.oo’, ‘R.methodsS3’\n",
            "\n",
            "\n",
            "Loading required package: R.oo\n",
            "\n",
            "Loading required package: R.methodsS3\n",
            "\n",
            "R.methodsS3 v1.8.1 (2020-08-26 16:20:06 UTC) successfully loaded. See ?R.methodsS3 for help.\n",
            "\n",
            "R.oo v1.24.0 (2020-08-26 16:11:58 UTC) successfully loaded. See ?R.oo for help.\n",
            "\n",
            "\n",
            "Attaching package: ‘R.oo’\n",
            "\n",
            "\n",
            "The following object is masked from ‘package:R.methodsS3’:\n",
            "\n",
            "    throw\n",
            "\n",
            "\n",
            "The following objects are masked from ‘package:methods’:\n",
            "\n",
            "    getClasses, getMethods\n",
            "\n",
            "\n",
            "The following objects are masked from ‘package:base’:\n",
            "\n",
            "    attach, detach, load, save\n",
            "\n",
            "\n",
            "R.utils v2.11.0 (2021-09-26 08:30:02 UTC) successfully loaded. See ?R.utils for help.\n",
            "\n",
            "\n",
            "Attaching package: ‘R.utils’\n",
            "\n",
            "\n",
            "The following object is masked from ‘package:utils’:\n",
            "\n",
            "    timestamp\n",
            "\n",
            "\n",
            "The following objects are masked from ‘package:base’:\n",
            "\n",
            "    cat, commandArgs, getOption, inherits, isOpen, nullfile, parse,\n",
            "    warnings\n",
            "\n",
            "\n"
          ]
        }
      ],
      "source": [
        "if (file.exists(\"/usr/local/lib/python3.7/dist-packages/google/colab/_ipython.py\")) {\n",
        "  install.packages(\"R.utils\")\n",
        "  library(\"R.utils\")\n",
        "  library(\"httr\")\n",
        "  my_check <- function() {return(TRUE)}\n",
        "  reassignInPackage(\"is_interactive\", pkgName = \"httr\", my_check) \n",
        "  options(rlang_interactive=TRUE)\n",
        "}"
      ]
    },
    {
      "cell_type": "code",
      "execution_count": null,
      "metadata": {
        "colab": {
          "base_uri": "https://localhost:8080/"
        },
        "id": "wg41feuz9EMM",
        "outputId": "9b2ec769-dcce-45f5-8ae8-41e8c4d3f602"
      },
      "outputs": [
        {
          "output_type": "stream",
          "name": "stderr",
          "text": [
            "\n",
            "\n",
            "\n",
            "\n",
            "\u001b[32m✔\u001b[39m The input `path` resolved to exactly 1 file.\n",
            "\n",
            "File downloaded:\n",
            "\n",
            "\u001b[36m•\u001b[39m \u001b[36mfinalData.csv\u001b[39m \u001b[90m<id: 1W1wazYCqs5Iiz6cAwFUjo9f3a3kaBxWU>\u001b[39m\n",
            "\n",
            "Saved locally as:\n",
            "\n",
            "\u001b[36m•\u001b[39m \u001b[34mfinalData.csv\u001b[39m\n",
            "\n"
          ]
        }
      ],
      "source": [
        "x <- drive_get(\"~/statistical_learning/finalData.csv\")\n",
        "drive_download(x)"
      ]
    },
    {
      "cell_type": "code",
      "execution_count": null,
      "metadata": {
        "id": "2pT9M7N98E94"
      },
      "outputs": [],
      "source": [
        "rm(list = ls())"
      ]
    },
    {
      "cell_type": "code",
      "execution_count": null,
      "metadata": {
        "colab": {
          "base_uri": "https://localhost:8080/"
        },
        "id": "QfpVR_ITgn7p",
        "outputId": "17c9368f-b7a6-4b5e-bb04-1e15f07cdcd9"
      },
      "outputs": [
        {
          "output_type": "stream",
          "name": "stderr",
          "text": [
            "Installing package into ‘/usr/local/lib/R/site-library’\n",
            "(as ‘lib’ is unspecified)\n",
            "\n",
            "Installing package into ‘/usr/local/lib/R/site-library’\n",
            "(as ‘lib’ is unspecified)\n",
            "\n",
            "Installing package into ‘/usr/local/lib/R/site-library’\n",
            "(as ‘lib’ is unspecified)\n",
            "\n",
            "also installing the dependencies ‘listenv’, ‘parallelly’, ‘future’, ‘globals’, ‘warp’, ‘furrr’, ‘slider’\n",
            "\n",
            "\n",
            "Installing package into ‘/usr/local/lib/R/site-library’\n",
            "(as ‘lib’ is unspecified)\n",
            "\n",
            "Installing package into ‘/usr/local/lib/R/site-library’\n",
            "(as ‘lib’ is unspecified)\n",
            "\n",
            "Installing package into ‘/usr/local/lib/R/site-library’\n",
            "(as ‘lib’ is unspecified)\n",
            "\n",
            "Installing package into ‘/usr/local/lib/R/site-library’\n",
            "(as ‘lib’ is unspecified)\n",
            "\n",
            "also installing the dependencies ‘future.apply’, ‘progressr’, ‘numDeriv’, ‘SQUAREM’, ‘lava’, ‘prodlim’\n",
            "\n",
            "\n",
            "Installing package into ‘/usr/local/lib/R/site-library’\n",
            "(as ‘lib’ is unspecified)\n",
            "\n",
            "also installing the dependencies ‘proxy’, ‘iterators’, ‘gower’, ‘hardhat’, ‘timeDate’, ‘e1071’, ‘foreach’, ‘ModelMetrics’, ‘plyr’, ‘pROC’, ‘recipes’, ‘reshape2’\n",
            "\n",
            "\n",
            "Installing package into ‘/usr/local/lib/R/site-library’\n",
            "(as ‘lib’ is unspecified)\n",
            "\n",
            "also installing the dependency ‘bitops’\n",
            "\n",
            "\n",
            "Installing package into ‘/usr/local/lib/R/site-library’\n",
            "(as ‘lib’ is unspecified)\n",
            "\n",
            "Installing package into ‘/usr/local/lib/R/site-library’\n",
            "(as ‘lib’ is unspecified)\n",
            "\n",
            "Warning message:\n",
            "“package ‘parallel’ is a base package, and should not be updated”\n",
            "Installing package into ‘/usr/local/lib/R/site-library’\n",
            "(as ‘lib’ is unspecified)\n",
            "\n",
            "Installing package into ‘/usr/local/lib/R/site-library’\n",
            "(as ‘lib’ is unspecified)\n",
            "\n",
            "Installing package into ‘/usr/local/lib/R/site-library’\n",
            "(as ‘lib’ is unspecified)\n",
            "\n",
            "Installing package into ‘/usr/local/lib/R/site-library’\n",
            "(as ‘lib’ is unspecified)\n",
            "\n",
            "also installing the dependencies ‘shape’, ‘RcppEigen’\n",
            "\n",
            "\n",
            "Installing package into ‘/usr/local/lib/R/site-library’\n",
            "(as ‘lib’ is unspecified)\n",
            "\n",
            "Installing package into ‘/usr/local/lib/R/site-library’\n",
            "(as ‘lib’ is unspecified)\n",
            "\n",
            "randomForest 4.7-1\n",
            "\n",
            "Type rfNews() to see new features/changes/bug fixes.\n",
            "\n",
            "\n",
            "Attaching package: ‘randomForest’\n",
            "\n",
            "\n",
            "The following object is masked from ‘package:ranger’:\n",
            "\n",
            "    importance\n",
            "\n",
            "\n",
            "Loading required package: Matrix\n",
            "\n",
            "Loaded glmnet 4.1-4\n",
            "\n",
            "Loading required package: foreach\n",
            "\n",
            "Loading required package: iterators\n",
            "\n",
            "\n",
            "Attaching package: ‘Metrics’\n",
            "\n",
            "\n",
            "The following object is masked from ‘package:R.oo’:\n",
            "\n",
            "    ll\n",
            "\n",
            "\n",
            "\n",
            "Attaching package: ‘rsample’\n",
            "\n",
            "\n",
            "The following object is masked from ‘package:e1071’:\n",
            "\n",
            "    permutations\n",
            "\n",
            "\n",
            "\n",
            "Attaching package: ‘dplyr’\n",
            "\n",
            "\n",
            "The following object is masked from ‘package:randomForest’:\n",
            "\n",
            "    combine\n",
            "\n",
            "\n",
            "The following objects are masked from ‘package:stats’:\n",
            "\n",
            "    filter, lag\n",
            "\n",
            "\n",
            "The following objects are masked from ‘package:base’:\n",
            "\n",
            "    intersect, setdiff, setequal, union\n",
            "\n",
            "\n",
            "Loading required package: ggplot2\n",
            "\n",
            "\n",
            "Attaching package: ‘ggplot2’\n",
            "\n",
            "\n",
            "The following object is masked from ‘package:randomForest’:\n",
            "\n",
            "    margin\n",
            "\n",
            "\n",
            "Loading required package: lattice\n",
            "\n",
            "Warning message in system(\"timedatectl\", intern = TRUE):\n",
            "“running command 'timedatectl' had status 1”\n",
            "\n",
            "Attaching package: ‘caret’\n",
            "\n",
            "\n",
            "The following objects are masked from ‘package:Metrics’:\n",
            "\n",
            "    precision, recall\n",
            "\n",
            "\n",
            "The following object is masked from ‘package:httr’:\n",
            "\n",
            "    progress\n",
            "\n",
            "\n"
          ]
        }
      ],
      "source": [
        "install.packages(\"tree\")\n",
        "install.packages(\"Metrics\")\n",
        "install.packages(\"rsample\")\n",
        "install.packages(\"rpart\")\n",
        "install.packages(\"dplyr\")\n",
        "install.packages(\"rpart.plot\")\n",
        "install.packages(\"ipred\")\n",
        "install.packages(\"caret\")\n",
        "install.packages(\"caTools\")\n",
        "install.packages(\"broom\")\n",
        "install.packages(\"parallel\")\n",
        "install.packages(\"doParallel\")\n",
        "install.packages(\"FNN\")\n",
        "install.packages(\"e1071\")\n",
        "install.packages(\"glmnet\")\n",
        "install.packages(\"randomForest\")\n",
        "install.packages(\"ranger\")\n",
        "library(ranger)\n",
        "library(randomForest)\n",
        "library(glmnet)\n",
        "library(e1071)\n",
        "library(parallel)\n",
        "library(FNN)\n",
        "library(doParallel)\n",
        "library(broom)\n",
        "library(tree)\n",
        "library(Metrics)\n",
        "library(rsample)     # data splitting \n",
        "library(dplyr)       # data wrangling\n",
        "library(rpart)       # performing regression trees\n",
        "library(rpart.plot)  # plotting regression trees\n",
        "library(ipred)       # bagging\n",
        "library(caret)       # bagging\n",
        "library(caTools)"
      ]
    },
    {
      "cell_type": "code",
      "execution_count": null,
      "metadata": {
        "id": "YjXAzMoFE1fg"
      },
      "outputs": [],
      "source": [
        "cluster <- makeCluster(detectCores() - 1) # convention to leave 1 core for OS\n",
        "registerDoParallel(cluster)"
      ]
    },
    {
      "cell_type": "markdown",
      "metadata": {
        "id": "1R3xUN_pL6Q9"
      },
      "source": [
        "# Data Initilization"
      ]
    },
    {
      "cell_type": "code",
      "execution_count": null,
      "metadata": {
        "id": "EezpUwaJmmnO"
      },
      "outputs": [],
      "source": [
        "data1 = read.csv(\"finalData.csv\")"
      ]
    },
    {
      "cell_type": "code",
      "execution_count": null,
      "metadata": {
        "id": "fz2iOSKE5Voj"
      },
      "outputs": [],
      "source": [
        "data2=head(data1,100000)"
      ]
    },
    {
      "cell_type": "code",
      "execution_count": null,
      "metadata": {
        "colab": {
          "base_uri": "https://localhost:8080/",
          "height": 642
        },
        "id": "7HGFBJjskD7K",
        "outputId": "f9712a50-8634-47e7-9c50-d5e34f93213b"
      },
      "outputs": [
        {
          "output_type": "display_data",
          "data": {
            "text/html": [
              "<style>\n",
              ".dl-inline {width: auto; margin:0; padding: 0}\n",
              ".dl-inline>dt, .dl-inline>dd {float: none; width: auto; display: inline-block}\n",
              ".dl-inline>dt::after {content: \":\\0020\"; padding-right: .5ex}\n",
              ".dl-inline>dt:not(:first-of-type) {padding-left: .5ex}\n",
              "</style><dl class=dl-inline><dt>CRASH_DATE</dt><dd>0</dd><dt>CRASH_TIME</dt><dd>0</dd><dt>PERSON_AGE</dt><dd>0</dd><dt>PERSON_SEX</dt><dd>0</dd><dt>KILLED_INJURED</dt><dd>0</dd><dt>WEEKDAY</dt><dd>0</dd><dt>Holiday</dt><dd>0</dd><dt>temp</dt><dd>0</dd><dt>visibility</dt><dd>83</dd><dt>pressure</dt><dd>0</dd><dt>humidity</dt><dd>0</dd><dt>wind_speed</dt><dd>0</dd><dt>weather_main</dt><dd>0</dd><dt>weather_description</dt><dd>0</dd></dl>\n"
            ],
            "text/markdown": "CRASH_DATE\n:   0CRASH_TIME\n:   0PERSON_AGE\n:   0PERSON_SEX\n:   0KILLED_INJURED\n:   0WEEKDAY\n:   0Holiday\n:   0temp\n:   0visibility\n:   83pressure\n:   0humidity\n:   0wind_speed\n:   0weather_main\n:   0weather_description\n:   0\n\n",
            "text/latex": "\\begin{description*}\n\\item[CRASH\\textbackslash{}\\_DATE] 0\n\\item[CRASH\\textbackslash{}\\_TIME] 0\n\\item[PERSON\\textbackslash{}\\_AGE] 0\n\\item[PERSON\\textbackslash{}\\_SEX] 0\n\\item[KILLED\\textbackslash{}\\_INJURED] 0\n\\item[WEEKDAY] 0\n\\item[Holiday] 0\n\\item[temp] 0\n\\item[visibility] 83\n\\item[pressure] 0\n\\item[humidity] 0\n\\item[wind\\textbackslash{}\\_speed] 0\n\\item[weather\\textbackslash{}\\_main] 0\n\\item[weather\\textbackslash{}\\_description] 0\n\\end{description*}\n",
            "text/plain": [
              "         CRASH_DATE          CRASH_TIME          PERSON_AGE          PERSON_SEX \n",
              "                  0                   0                   0                   0 \n",
              "     KILLED_INJURED             WEEKDAY             Holiday                temp \n",
              "                  0                   0                   0                   0 \n",
              "         visibility            pressure            humidity          wind_speed \n",
              "                 83                   0                   0                   0 \n",
              "       weather_main weather_description \n",
              "                  0                   0 "
            ]
          },
          "metadata": {}
        },
        {
          "output_type": "display_data",
          "data": {
            "text/html": [
              "100000"
            ],
            "text/markdown": "100000",
            "text/latex": "100000",
            "text/plain": [
              "[1] 100000"
            ]
          },
          "metadata": {}
        },
        {
          "output_type": "display_data",
          "data": {
            "text/html": [
              "99917"
            ],
            "text/markdown": "99917",
            "text/latex": "99917",
            "text/plain": [
              "[1] 99917"
            ]
          },
          "metadata": {}
        },
        {
          "output_type": "display_data",
          "data": {
            "text/html": [
              "99917"
            ],
            "text/markdown": "99917",
            "text/latex": "99917",
            "text/plain": [
              "[1] 99917"
            ]
          },
          "metadata": {}
        },
        {
          "output_type": "display_data",
          "data": {
            "text/html": [
              "99917"
            ],
            "text/markdown": "99917",
            "text/latex": "99917",
            "text/plain": [
              "[1] 99917"
            ]
          },
          "metadata": {}
        },
        {
          "output_type": "stream",
          "name": "stdout",
          "text": [
            "'data.frame':\t49958 obs. of  14 variables:\n",
            " $ CRASH_DATE         : Date, format: \"2019-10-25\" \"2019-10-25\" ...\n",
            " $ CRASH_TIME         : int  15 15 15 15 15 15 15 15 15 15 ...\n",
            " $ PERSON_AGE         : num  33 82 82 51 17 42 37 17 56 31 ...\n",
            " $ PERSON_SEX         : Factor w/ 2 levels \"F\",\"M\": 1 2 2 2 2 2 2 2 2 1 ...\n",
            " $ KILLED_INJURED     : Factor w/ 12 levels \"0\",\"1\",\"2\",\"3\",..: 1 1 1 1 1 1 1 1 1 1 ...\n",
            " $ WEEKDAY            : Factor w/ 7 levels \"Friday\",\"Monday\",..: 1 1 1 1 1 1 1 1 1 1 ...\n",
            " $ Holiday            : chr  \"False\" \"False\" \"False\" \"False\" ...\n",
            " $ temp               : num  14.5 14.5 14.5 14.5 14.5 ...\n",
            " $ visibility         : num  10000 10000 10000 10000 10000 10000 10000 10000 10000 10000 ...\n",
            " $ pressure           : int  1027 1027 1027 1027 1027 1027 1027 1027 1027 1027 ...\n",
            " $ humidity           : int  63 63 63 63 63 63 63 63 63 63 ...\n",
            " $ wind_speed         : num  2.1 2.1 2.1 2.1 2.1 2.1 2.1 2.1 2.1 2.1 ...\n",
            " $ weather_main       : Factor w/ 10 levels \"Clear\",\"Clouds\",..: 1 1 1 1 1 1 1 1 1 1 ...\n",
            " $ weather_description: Factor w/ 18 levels \"broken clouds\",..: 15 15 15 15 15 15 15 15 15 15 ...\n",
            "'data.frame':\t49959 obs. of  14 variables:\n",
            " $ CRASH_DATE         : Date, format: \"2019-10-25\" \"2019-10-25\" ...\n",
            " $ CRASH_TIME         : int  15 15 15 15 15 15 15 15 15 15 ...\n",
            " $ PERSON_AGE         : num  33 33 42 42 42 51 37 31 56 30 ...\n",
            " $ PERSON_SEX         : Factor w/ 2 levels \"F\",\"M\": 2 2 2 2 2 2 2 1 2 2 ...\n",
            " $ KILLED_INJURED     : Factor w/ 12 levels \"0\",\"1\",\"2\",\"3\",..: 1 1 1 1 1 1 1 1 1 1 ...\n",
            " $ WEEKDAY            : Factor w/ 7 levels \"Friday\",\"Monday\",..: 1 1 1 1 1 1 1 1 1 1 ...\n",
            " $ Holiday            : chr  \"False\" \"False\" \"False\" \"False\" ...\n",
            " $ temp               : num  14.5 14.5 14.5 14.5 14.5 ...\n",
            " $ visibility         : num  10000 10000 10000 10000 10000 10000 10000 10000 10000 10000 ...\n",
            " $ pressure           : int  1027 1027 1027 1027 1027 1027 1027 1027 1027 1027 ...\n",
            " $ humidity           : int  63 63 63 63 63 63 63 63 63 63 ...\n",
            " $ wind_speed         : num  2.1 2.1 2.1 2.1 2.1 2.1 2.1 2.1 2.1 2.1 ...\n",
            " $ weather_main       : Factor w/ 10 levels \"Clear\",\"Clouds\",..: 1 1 1 1 1 1 1 1 1 1 ...\n",
            " $ weather_description: Factor w/ 18 levels \"broken clouds\",..: 15 15 15 15 15 15 15 15 15 15 ...\n"
          ]
        }
      ],
      "source": [
        "## Data pre-processing\n",
        "data2 = subset(data2, select = -c(CONTRIBUTING.FACTOR.VEHICLE.1,LATITUDE,LONGITUDE,wind_deg,temp_min,temp_max,dew_point,CONTRIBUTING.FACTOR.VEHICLE.2,COLLISION_ID,X,VEHICLE.TYPE.CODE.1,VEHICLE.TYPE.CODE.2,ON.STREET.NAME,CROSS.STREET.NAME,OFF.STREET.NAME, VEHICLE_ID,weather_id,clouds_all,rain_1h,wind_gust,weather_icon,rain_3h,snow_3h,sea_level,grnd_level,snow_1h) )\n",
        "names(data2)[names(data2) == \"KILLED.INJURED\"] <- \"KILLED_INJURED\"\n",
        "colSums(is.na(data2))\n",
        "data2$CRASH_DATE=as.Date(data2$CRASH_DATE, format = \"%Y-%m-%d\")\n",
        "nrow(data2)\n",
        "data2=data2[!is.na(data2$visibility),]\n",
        "nrow(data2)\n",
        "data2=data2[!is.na(data2$KILLED_INJURED),]\n",
        "data2$KILLED_INJURED <- as.factor(data2$KILLED_INJURED)\n",
        "nrow(data2)\n",
        "nrow(data2)\n",
        "data2$weather_main <- as.factor(data2$weather_main)\n",
        "data2$weather_description <- as.factor(data2$weather_description)\n",
        "data2$PERSON_SEX <- as.factor(data2$PERSON_SEX)\n",
        "data2$WEEKDAY <- as.factor(data2$WEEKDAY)\n",
        "set.seed(1)\n",
        "sample = sample.split(data2, SplitRatio = 0.50)\n",
        "training = subset(data2, sample == TRUE)\n",
        "test = subset(data2, sample == FALSE)\n",
        "rm(sample)\n",
        "str(training)\n",
        "str(test)"
      ]
    },
    {
      "cell_type": "markdown",
      "source": [
        "# Tree"
      ],
      "metadata": {
        "id": "j5Mk5bmLDsFu"
      }
    },
    {
      "cell_type": "code",
      "source": [
        "tree.brea=tree(KILLED_INJURED~., data=training)\n",
        "tree.brea\n",
        "pred=predict(tree.brea,test,type=\"class\")\n",
        "cm=table(true=test$KILLED_INJURED,predic=pred)\n",
        "confusionMatrix(cm)"
      ],
      "metadata": {
        "colab": {
          "base_uri": "https://localhost:8080/",
          "height": 989
        },
        "id": "85DBVQYjDvxF",
        "outputId": "d287290a-efd9-422d-c4d7-9ea9ecead386"
      },
      "execution_count": null,
      "outputs": [
        {
          "output_type": "stream",
          "name": "stderr",
          "text": [
            "Warning message in tree(KILLED_INJURED ~ ., data = training):\n",
            "“NAs introduced by coercion”\n"
          ]
        },
        {
          "output_type": "display_data",
          "data": {
            "text/plain": [
              "node), split, n, deviance, yval, (yprob)\n",
              "      * denotes terminal node\n",
              "\n",
              "1) root 49958 76380 0 ( 0.7747508 0.1520677 0.0430562 0.0162737 0.0076664 0.0029825 0.0015413 0.0003403 0.0004003 0.0002202 0.0005204 0.0001802 ) *"
            ]
          },
          "metadata": {}
        },
        {
          "output_type": "stream",
          "name": "stderr",
          "text": [
            "Warning message in pred1.tree(object, tree.matrix(newdata)):\n",
            "“NAs introduced by coercion”\n"
          ]
        },
        {
          "output_type": "display_data",
          "data": {
            "text/plain": [
              "Confusion Matrix and Statistics\n",
              "\n",
              "    predic\n",
              "true     0     1     2     3     4     5     6     7     8    10    12    18\n",
              "  0  38631     0     0     0     0     0     0     0     0     0     0     0\n",
              "  1   7613     0     0     0     0     0     0     0     0     0     0     0\n",
              "  2   2124     0     0     0     0     0     0     0     0     0     0     0\n",
              "  3    832     0     0     0     0     0     0     0     0     0     0     0\n",
              "  4    423     0     0     0     0     0     0     0     0     0     0     0\n",
              "  5    162     0     0     0     0     0     0     0     0     0     0     0\n",
              "  6     88     0     0     0     0     0     0     0     0     0     0     0\n",
              "  7     17     0     0     0     0     0     0     0     0     0     0     0\n",
              "  8     19     0     0     0     0     0     0     0     0     0     0     0\n",
              "  10    12     0     0     0     0     0     0     0     0     0     0     0\n",
              "  12    28     0     0     0     0     0     0     0     0     0     0     0\n",
              "  18    10     0     0     0     0     0     0     0     0     0     0     0\n",
              "\n",
              "Overall Statistics\n",
              "                                          \n",
              "               Accuracy : 0.7733          \n",
              "                 95% CI : (0.7696, 0.7769)\n",
              "    No Information Rate : 1               \n",
              "    P-Value [Acc > NIR] : 1               \n",
              "                                          \n",
              "                  Kappa : 0               \n",
              "                                          \n",
              " Mcnemar's Test P-Value : NA              \n",
              "\n",
              "Statistics by Class:\n",
              "\n",
              "                     Class: 0 Class: 1 Class: 2 Class: 3 Class: 4 Class: 5\n",
              "Sensitivity            0.7733       NA       NA       NA       NA       NA\n",
              "Specificity                NA   0.8476  0.95749  0.98335 0.991533 0.996757\n",
              "Pos Pred Value             NA       NA       NA       NA       NA       NA\n",
              "Neg Pred Value             NA       NA       NA       NA       NA       NA\n",
              "Prevalence             1.0000   0.0000  0.00000  0.00000 0.000000 0.000000\n",
              "Detection Rate         0.7733   0.0000  0.00000  0.00000 0.000000 0.000000\n",
              "Detection Prevalence   0.7733   0.1524  0.04251  0.01665 0.008467 0.003243\n",
              "Balanced Accuracy          NA       NA       NA       NA       NA       NA\n",
              "                     Class: 6  Class: 7  Class: 8 Class: 10 Class: 12 Class: 18\n",
              "Sensitivity                NA        NA        NA        NA        NA        NA\n",
              "Specificity          0.998239 0.9996597 0.9996197 0.9997598 0.9994395 0.9997998\n",
              "Pos Pred Value             NA        NA        NA        NA        NA        NA\n",
              "Neg Pred Value             NA        NA        NA        NA        NA        NA\n",
              "Prevalence           0.000000 0.0000000 0.0000000 0.0000000 0.0000000 0.0000000\n",
              "Detection Rate       0.000000 0.0000000 0.0000000 0.0000000 0.0000000 0.0000000\n",
              "Detection Prevalence 0.001761 0.0003403 0.0003803 0.0002402 0.0005605 0.0002002\n",
              "Balanced Accuracy          NA        NA        NA        NA        NA        NA"
            ]
          },
          "metadata": {}
        }
      ]
    },
    {
      "cell_type": "markdown",
      "source": [
        "# Testing Different Sizes"
      ],
      "metadata": {
        "id": "jforKWE_EDq6"
      }
    },
    {
      "cell_type": "code",
      "source": [
        "data2=head(data1,200000)\n",
        "## Data pre-processing\n",
        "data2 = subset(data2, select = -c(CONTRIBUTING.FACTOR.VEHICLE.1,LATITUDE,LONGITUDE,wind_deg,temp_min,temp_max,dew_point,CONTRIBUTING.FACTOR.VEHICLE.2,COLLISION_ID,X,VEHICLE.TYPE.CODE.1,VEHICLE.TYPE.CODE.2,ON.STREET.NAME,CROSS.STREET.NAME,OFF.STREET.NAME, VEHICLE_ID,weather_id,clouds_all,rain_1h,wind_gust,weather_icon,rain_3h,snow_3h,sea_level,grnd_level,snow_1h) )\n",
        "names(data2)[names(data2) == \"KILLED.INJURED\"] <- \"KILLED_INJURED\"\n",
        "colSums(is.na(data2))\n",
        "data2$CRASH_DATE=as.Date(data2$CRASH_DATE, format = \"%Y-%m-%d\")\n",
        "nrow(data2)\n",
        "data2=data2[!is.na(data2$visibility),]\n",
        "nrow(data2)\n",
        "data2=data2[!is.na(data2$KILLED_INJURED),]\n",
        "data2$KILLED_INJURED <- as.factor(data2$KILLED_INJURED)\n",
        "nrow(data2)\n",
        "nrow(data2)\n",
        "data2$weather_main <- as.factor(data2$weather_main)\n",
        "data2$weather_description <- as.factor(data2$weather_description)\n",
        "data2$PERSON_SEX <- as.factor(data2$PERSON_SEX)\n",
        "data2$WEEKDAY <- as.factor(data2$WEEKDAY)\n",
        "set.seed(1)\n",
        "sample = sample.split(data2, SplitRatio = 0.80)\n",
        "training = subset(data2, sample == TRUE)\n",
        "test = subset(data2, sample == FALSE)\n",
        "rm(sample)\n",
        "str(training)\n",
        "str(test)\n",
        "tree.brea=tree(KILLED_INJURED~., data=training)\n",
        "tree.brea\n",
        "pred=predict(tree.brea,test,type=\"class\")\n",
        "cm=table(true=test$KILLED_INJURED,predic=pred)\n",
        "confusionMatrix(cm)"
      ],
      "metadata": {
        "colab": {
          "base_uri": "https://localhost:8080/",
          "height": 1000
        },
        "id": "MB_Jz6LvEGqv",
        "outputId": "1ee8f5bb-307c-4f49-d126-7c3e1d256ec1"
      },
      "execution_count": null,
      "outputs": [
        {
          "output_type": "display_data",
          "data": {
            "text/html": [
              "<style>\n",
              ".dl-inline {width: auto; margin:0; padding: 0}\n",
              ".dl-inline>dt, .dl-inline>dd {float: none; width: auto; display: inline-block}\n",
              ".dl-inline>dt::after {content: \":\\0020\"; padding-right: .5ex}\n",
              ".dl-inline>dt:not(:first-of-type) {padding-left: .5ex}\n",
              "</style><dl class=dl-inline><dt>CRASH_DATE</dt><dd>0</dd><dt>CRASH_TIME</dt><dd>0</dd><dt>PERSON_AGE</dt><dd>0</dd><dt>PERSON_SEX</dt><dd>0</dd><dt>KILLED_INJURED</dt><dd>0</dd><dt>WEEKDAY</dt><dd>0</dd><dt>Holiday</dt><dd>0</dd><dt>temp</dt><dd>0</dd><dt>visibility</dt><dd>83</dd><dt>pressure</dt><dd>0</dd><dt>humidity</dt><dd>0</dd><dt>wind_speed</dt><dd>0</dd><dt>weather_main</dt><dd>0</dd><dt>weather_description</dt><dd>0</dd></dl>\n"
            ],
            "text/markdown": "CRASH_DATE\n:   0CRASH_TIME\n:   0PERSON_AGE\n:   0PERSON_SEX\n:   0KILLED_INJURED\n:   0WEEKDAY\n:   0Holiday\n:   0temp\n:   0visibility\n:   83pressure\n:   0humidity\n:   0wind_speed\n:   0weather_main\n:   0weather_description\n:   0\n\n",
            "text/latex": "\\begin{description*}\n\\item[CRASH\\textbackslash{}\\_DATE] 0\n\\item[CRASH\\textbackslash{}\\_TIME] 0\n\\item[PERSON\\textbackslash{}\\_AGE] 0\n\\item[PERSON\\textbackslash{}\\_SEX] 0\n\\item[KILLED\\textbackslash{}\\_INJURED] 0\n\\item[WEEKDAY] 0\n\\item[Holiday] 0\n\\item[temp] 0\n\\item[visibility] 83\n\\item[pressure] 0\n\\item[humidity] 0\n\\item[wind\\textbackslash{}\\_speed] 0\n\\item[weather\\textbackslash{}\\_main] 0\n\\item[weather\\textbackslash{}\\_description] 0\n\\end{description*}\n",
            "text/plain": [
              "         CRASH_DATE          CRASH_TIME          PERSON_AGE          PERSON_SEX \n",
              "                  0                   0                   0                   0 \n",
              "     KILLED_INJURED             WEEKDAY             Holiday                temp \n",
              "                  0                   0                   0                   0 \n",
              "         visibility            pressure            humidity          wind_speed \n",
              "                 83                   0                   0                   0 \n",
              "       weather_main weather_description \n",
              "                  0                   0 "
            ]
          },
          "metadata": {}
        },
        {
          "output_type": "display_data",
          "data": {
            "text/html": [
              "200000"
            ],
            "text/markdown": "200000",
            "text/latex": "200000",
            "text/plain": [
              "[1] 200000"
            ]
          },
          "metadata": {}
        },
        {
          "output_type": "display_data",
          "data": {
            "text/html": [
              "199917"
            ],
            "text/markdown": "199917",
            "text/latex": "199917",
            "text/plain": [
              "[1] 199917"
            ]
          },
          "metadata": {}
        },
        {
          "output_type": "display_data",
          "data": {
            "text/html": [
              "199917"
            ],
            "text/markdown": "199917",
            "text/latex": "199917",
            "text/plain": [
              "[1] 199917"
            ]
          },
          "metadata": {}
        },
        {
          "output_type": "display_data",
          "data": {
            "text/html": [
              "199917"
            ],
            "text/markdown": "199917",
            "text/latex": "199917",
            "text/plain": [
              "[1] 199917"
            ]
          },
          "metadata": {}
        },
        {
          "output_type": "stream",
          "name": "stdout",
          "text": [
            "'data.frame':\t157077 obs. of  14 variables:\n",
            " $ CRASH_DATE         : Date, format: \"2019-10-25\" \"2019-10-25\" ...\n",
            " $ CRASH_TIME         : int  15 15 15 15 15 15 15 15 15 15 ...\n",
            " $ PERSON_AGE         : num  33 82 33 82 42 51 51 17 42 37 ...\n",
            " $ PERSON_SEX         : Factor w/ 2 levels \"F\",\"M\": 1 2 2 2 2 2 2 2 2 2 ...\n",
            " $ KILLED_INJURED     : Factor w/ 15 levels \"0\",\"1\",\"2\",\"3\",..: 1 1 1 1 1 1 1 1 1 1 ...\n",
            " $ WEEKDAY            : Factor w/ 7 levels \"Friday\",\"Monday\",..: 1 1 1 1 1 1 1 1 1 1 ...\n",
            " $ Holiday            : chr  \"False\" \"False\" \"False\" \"False\" ...\n",
            " $ temp               : num  14.5 14.5 14.5 14.5 14.5 ...\n",
            " $ visibility         : num  10000 10000 10000 10000 10000 10000 10000 10000 10000 10000 ...\n",
            " $ pressure           : int  1027 1027 1027 1027 1027 1027 1027 1027 1027 1027 ...\n",
            " $ humidity           : int  63 63 63 63 63 63 63 63 63 63 ...\n",
            " $ wind_speed         : num  2.1 2.1 2.1 2.1 2.1 2.1 2.1 2.1 2.1 2.1 ...\n",
            " $ weather_main       : Factor w/ 11 levels \"Clear\",\"Clouds\",..: 1 1 1 1 1 1 1 1 1 1 ...\n",
            " $ weather_description: Factor w/ 20 levels \"broken clouds\",..: 15 15 15 15 15 15 15 15 15 15 ...\n",
            "'data.frame':\t42840 obs. of  14 variables:\n",
            " $ CRASH_DATE         : Date, format: \"2019-10-25\" \"2019-10-25\" ...\n",
            " $ CRASH_TIME         : int  15 15 15 15 15 15 15 15 15 15 ...\n",
            " $ PERSON_AGE         : num  33 42 42 56 30 65 25 43 38 49 ...\n",
            " $ PERSON_SEX         : Factor w/ 2 levels \"F\",\"M\": 2 2 2 2 2 2 1 1 2 1 ...\n",
            " $ KILLED_INJURED     : Factor w/ 15 levels \"0\",\"1\",\"2\",\"3\",..: 1 1 1 1 1 1 2 1 1 1 ...\n",
            " $ WEEKDAY            : Factor w/ 7 levels \"Friday\",\"Monday\",..: 1 1 1 1 1 1 1 1 1 1 ...\n",
            " $ Holiday            : chr  \"False\" \"False\" \"False\" \"False\" ...\n",
            " $ temp               : num  14.5 14.5 14.5 14.5 14.5 ...\n",
            " $ visibility         : num  10000 10000 10000 10000 10000 10000 10000 10000 10000 10000 ...\n",
            " $ pressure           : int  1027 1027 1027 1027 1027 1027 1027 1027 1027 1027 ...\n",
            " $ humidity           : int  63 63 63 63 63 63 63 63 63 63 ...\n",
            " $ wind_speed         : num  2.1 2.1 2.1 2.1 2.1 2.1 2.1 2.1 2.1 2.1 ...\n",
            " $ weather_main       : Factor w/ 11 levels \"Clear\",\"Clouds\",..: 1 1 1 1 1 1 1 1 1 1 ...\n",
            " $ weather_description: Factor w/ 20 levels \"broken clouds\",..: 15 15 15 15 15 15 15 15 15 15 ...\n"
          ]
        },
        {
          "output_type": "stream",
          "name": "stderr",
          "text": [
            "Warning message in tree(KILLED_INJURED ~ ., data = training):\n",
            "“NAs introduced by coercion”\n"
          ]
        },
        {
          "output_type": "display_data",
          "data": {
            "text/plain": [
              "node), split, n, deviance, yval, (yprob)\n",
              "      * denotes terminal node\n",
              "\n",
              "1) root 157077 237600 0 ( 7.810e-01 1.456e-01 4.197e-02 1.789e-02 6.869e-03 3.400e-03 1.674e-03 4.393e-04 3.883e-04 3.183e-05 3.056e-04 1.273e-05 2.738e-04 8.913e-05 9.549e-05 ) *"
            ]
          },
          "metadata": {}
        },
        {
          "output_type": "stream",
          "name": "stderr",
          "text": [
            "Warning message in pred1.tree(object, tree.matrix(newdata)):\n",
            "“NAs introduced by coercion”\n"
          ]
        },
        {
          "output_type": "display_data",
          "data": {
            "text/plain": [
              "Confusion Matrix and Statistics\n",
              "\n",
              "    predic\n",
              "true     0     1     2     3     4     5     6     7     8     9    10    11\n",
              "  0  33501     0     0     0     0     0     0     0     0     0     0     0\n",
              "  1   6199     0     0     0     0     0     0     0     0     0     0     0\n",
              "  2   1739     0     0     0     0     0     0     0     0     0     0     0\n",
              "  3    769     0     0     0     0     0     0     0     0     0     0     0\n",
              "  4    322     0     0     0     0     0     0     0     0     0     0     0\n",
              "  5    170     0     0     0     0     0     0     0     0     0     0     0\n",
              "  6     65     0     0     0     0     0     0     0     0     0     0     0\n",
              "  7     24     0     0     0     0     0     0     0     0     0     0     0\n",
              "  8     18     0     0     0     0     0     0     0     0     0     0     0\n",
              "  9      0     0     0     0     0     0     0     0     0     0     0     0\n",
              "  10    12     0     0     0     0     0     0     0     0     0     0     0\n",
              "  11     1     0     0     0     0     0     0     0     0     0     0     0\n",
              "  12    11     0     0     0     0     0     0     0     0     0     0     0\n",
              "  16     5     0     0     0     0     0     0     0     0     0     0     0\n",
              "  18     4     0     0     0     0     0     0     0     0     0     0     0\n",
              "    predic\n",
              "true    12    16    18\n",
              "  0      0     0     0\n",
              "  1      0     0     0\n",
              "  2      0     0     0\n",
              "  3      0     0     0\n",
              "  4      0     0     0\n",
              "  5      0     0     0\n",
              "  6      0     0     0\n",
              "  7      0     0     0\n",
              "  8      0     0     0\n",
              "  9      0     0     0\n",
              "  10     0     0     0\n",
              "  11     0     0     0\n",
              "  12     0     0     0\n",
              "  16     0     0     0\n",
              "  18     0     0     0\n",
              "\n",
              "Overall Statistics\n",
              "                                          \n",
              "               Accuracy : 0.782           \n",
              "                 95% CI : (0.7781, 0.7859)\n",
              "    No Information Rate : 1               \n",
              "    P-Value [Acc > NIR] : 1               \n",
              "                                          \n",
              "                  Kappa : 0               \n",
              "                                          \n",
              " Mcnemar's Test P-Value : NA              \n",
              "\n",
              "Statistics by Class:\n",
              "\n",
              "                     Class: 0 Class: 1 Class: 2 Class: 3 Class: 4 Class: 5\n",
              "Sensitivity             0.782       NA       NA       NA       NA       NA\n",
              "Specificity                NA   0.8553  0.95941  0.98205 0.992484 0.996032\n",
              "Pos Pred Value             NA       NA       NA       NA       NA       NA\n",
              "Neg Pred Value             NA       NA       NA       NA       NA       NA\n",
              "Prevalence              1.000   0.0000  0.00000  0.00000 0.000000 0.000000\n",
              "Detection Rate          0.782   0.0000  0.00000  0.00000 0.000000 0.000000\n",
              "Detection Prevalence    0.782   0.1447  0.04059  0.01795 0.007516 0.003968\n",
              "Balanced Accuracy          NA       NA       NA       NA       NA       NA\n",
              "                     Class: 6  Class: 7  Class: 8 Class: 9 Class: 10 Class: 11\n",
              "Sensitivity                NA        NA        NA       NA        NA        NA\n",
              "Specificity          0.998483 0.9994398 0.9995798        1 0.9997199 1.000e+00\n",
              "Pos Pred Value             NA        NA        NA       NA        NA        NA\n",
              "Neg Pred Value             NA        NA        NA       NA        NA        NA\n",
              "Prevalence           0.000000 0.0000000 0.0000000        0 0.0000000 0.000e+00\n",
              "Detection Rate       0.000000 0.0000000 0.0000000        0 0.0000000 0.000e+00\n",
              "Detection Prevalence 0.001517 0.0005602 0.0004202        0 0.0002801 2.334e-05\n",
              "Balanced Accuracy          NA        NA        NA       NA        NA        NA\n",
              "                     Class: 12 Class: 16 Class: 18\n",
              "Sensitivity                 NA        NA        NA\n",
              "Specificity          0.9997432 0.9998833 9.999e-01\n",
              "Pos Pred Value              NA        NA        NA\n",
              "Neg Pred Value              NA        NA        NA\n",
              "Prevalence           0.0000000 0.0000000 0.000e+00\n",
              "Detection Rate       0.0000000 0.0000000 0.000e+00\n",
              "Detection Prevalence 0.0002568 0.0001167 9.337e-05\n",
              "Balanced Accuracy           NA        NA        NA"
            ]
          },
          "metadata": {}
        }
      ]
    },
    {
      "cell_type": "code",
      "source": [
        "data2=head(data1,300000)\n",
        "## Data pre-processing\n",
        "data2 = subset(data2, select = -c(CONTRIBUTING.FACTOR.VEHICLE.1,LATITUDE,LONGITUDE,wind_deg,temp_min,temp_max,dew_point,CONTRIBUTING.FACTOR.VEHICLE.2,COLLISION_ID,X,VEHICLE.TYPE.CODE.1,VEHICLE.TYPE.CODE.2,ON.STREET.NAME,CROSS.STREET.NAME,OFF.STREET.NAME, VEHICLE_ID,weather_id,clouds_all,rain_1h,wind_gust,weather_icon,rain_3h,snow_3h,sea_level,grnd_level,snow_1h) )\n",
        "names(data2)[names(data2) == \"KILLED.INJURED\"] <- \"KILLED_INJURED\"\n",
        "colSums(is.na(data2))\n",
        "data2$CRASH_DATE=as.Date(data2$CRASH_DATE, format = \"%Y-%m-%d\")\n",
        "nrow(data2)\n",
        "data2=data2[!is.na(data2$visibility),]\n",
        "nrow(data2)\n",
        "data2=data2[!is.na(data2$KILLED_INJURED),]\n",
        "data2$KILLED_INJURED <- as.factor(data2$KILLED_INJURED)\n",
        "nrow(data2)\n",
        "nrow(data2)\n",
        "data2$weather_main <- as.factor(data2$weather_main)\n",
        "data2$weather_description <- as.factor(data2$weather_description)\n",
        "data2$PERSON_SEX <- as.factor(data2$PERSON_SEX)\n",
        "data2$WEEKDAY <- as.factor(data2$WEEKDAY)\n",
        "set.seed(1)\n",
        "sample = sample.split(data2, SplitRatio = 0.80)\n",
        "training = subset(data2, sample == TRUE)\n",
        "test = subset(data2, sample == FALSE)\n",
        "rm(sample)\n",
        "str(training)\n",
        "str(test)\n",
        "tree.brea=tree(KILLED_INJURED~., data=training)\n",
        "tree.brea\n",
        "pred=predict(tree.brea,test,type=\"class\")\n",
        "cm=table(true=test$KILLED_INJURED,predic=pred)\n",
        "confusionMatrix(cm)"
      ],
      "metadata": {
        "colab": {
          "base_uri": "https://localhost:8080/",
          "height": 1000
        },
        "id": "Kw0f8ByNEx3a",
        "outputId": "254a34e4-2730-433d-9c04-e94f05c4bfa6"
      },
      "execution_count": null,
      "outputs": [
        {
          "output_type": "display_data",
          "data": {
            "text/html": [
              "<style>\n",
              ".dl-inline {width: auto; margin:0; padding: 0}\n",
              ".dl-inline>dt, .dl-inline>dd {float: none; width: auto; display: inline-block}\n",
              ".dl-inline>dt::after {content: \":\\0020\"; padding-right: .5ex}\n",
              ".dl-inline>dt:not(:first-of-type) {padding-left: .5ex}\n",
              "</style><dl class=dl-inline><dt>CRASH_DATE</dt><dd>0</dd><dt>CRASH_TIME</dt><dd>0</dd><dt>PERSON_AGE</dt><dd>0</dd><dt>PERSON_SEX</dt><dd>0</dd><dt>KILLED_INJURED</dt><dd>1</dd><dt>WEEKDAY</dt><dd>0</dd><dt>Holiday</dt><dd>0</dd><dt>temp</dt><dd>0</dd><dt>visibility</dt><dd>173</dd><dt>pressure</dt><dd>0</dd><dt>humidity</dt><dd>0</dd><dt>wind_speed</dt><dd>0</dd><dt>weather_main</dt><dd>0</dd><dt>weather_description</dt><dd>0</dd></dl>\n"
            ],
            "text/markdown": "CRASH_DATE\n:   0CRASH_TIME\n:   0PERSON_AGE\n:   0PERSON_SEX\n:   0KILLED_INJURED\n:   1WEEKDAY\n:   0Holiday\n:   0temp\n:   0visibility\n:   173pressure\n:   0humidity\n:   0wind_speed\n:   0weather_main\n:   0weather_description\n:   0\n\n",
            "text/latex": "\\begin{description*}\n\\item[CRASH\\textbackslash{}\\_DATE] 0\n\\item[CRASH\\textbackslash{}\\_TIME] 0\n\\item[PERSON\\textbackslash{}\\_AGE] 0\n\\item[PERSON\\textbackslash{}\\_SEX] 0\n\\item[KILLED\\textbackslash{}\\_INJURED] 1\n\\item[WEEKDAY] 0\n\\item[Holiday] 0\n\\item[temp] 0\n\\item[visibility] 173\n\\item[pressure] 0\n\\item[humidity] 0\n\\item[wind\\textbackslash{}\\_speed] 0\n\\item[weather\\textbackslash{}\\_main] 0\n\\item[weather\\textbackslash{}\\_description] 0\n\\end{description*}\n",
            "text/plain": [
              "         CRASH_DATE          CRASH_TIME          PERSON_AGE          PERSON_SEX \n",
              "                  0                   0                   0                   0 \n",
              "     KILLED_INJURED             WEEKDAY             Holiday                temp \n",
              "                  1                   0                   0                   0 \n",
              "         visibility            pressure            humidity          wind_speed \n",
              "                173                   0                   0                   0 \n",
              "       weather_main weather_description \n",
              "                  0                   0 "
            ]
          },
          "metadata": {}
        },
        {
          "output_type": "display_data",
          "data": {
            "text/html": [
              "300000"
            ],
            "text/markdown": "300000",
            "text/latex": "300000",
            "text/plain": [
              "[1] 300000"
            ]
          },
          "metadata": {}
        },
        {
          "output_type": "display_data",
          "data": {
            "text/html": [
              "299827"
            ],
            "text/markdown": "299827",
            "text/latex": "299827",
            "text/plain": [
              "[1] 299827"
            ]
          },
          "metadata": {}
        },
        {
          "output_type": "display_data",
          "data": {
            "text/html": [
              "299826"
            ],
            "text/markdown": "299826",
            "text/latex": "299826",
            "text/plain": [
              "[1] 299826"
            ]
          },
          "metadata": {}
        },
        {
          "output_type": "display_data",
          "data": {
            "text/html": [
              "299826"
            ],
            "text/markdown": "299826",
            "text/latex": "299826",
            "text/plain": [
              "[1] 299826"
            ]
          },
          "metadata": {}
        },
        {
          "output_type": "stream",
          "name": "stdout",
          "text": [
            "'data.frame':\t235578 obs. of  14 variables:\n",
            " $ CRASH_DATE         : Date, format: \"2019-10-25\" \"2019-10-25\" ...\n",
            " $ CRASH_TIME         : int  15 15 15 15 15 15 15 15 15 15 ...\n",
            " $ PERSON_AGE         : num  33 82 33 82 42 51 51 17 42 37 ...\n",
            " $ PERSON_SEX         : Factor w/ 2 levels \"F\",\"M\": 1 2 2 2 2 2 2 2 2 2 ...\n",
            " $ KILLED_INJURED     : Factor w/ 15 levels \"0\",\"1\",\"2\",\"3\",..: 1 1 1 1 1 1 1 1 1 1 ...\n",
            " $ WEEKDAY            : Factor w/ 7 levels \"Friday\",\"Monday\",..: 1 1 1 1 1 1 1 1 1 1 ...\n",
            " $ Holiday            : chr  \"False\" \"False\" \"False\" \"False\" ...\n",
            " $ temp               : num  14.5 14.5 14.5 14.5 14.5 ...\n",
            " $ visibility         : num  10000 10000 10000 10000 10000 10000 10000 10000 10000 10000 ...\n",
            " $ pressure           : int  1027 1027 1027 1027 1027 1027 1027 1027 1027 1027 ...\n",
            " $ humidity           : int  63 63 63 63 63 63 63 63 63 63 ...\n",
            " $ wind_speed         : num  2.1 2.1 2.1 2.1 2.1 2.1 2.1 2.1 2.1 2.1 ...\n",
            " $ weather_main       : Factor w/ 11 levels \"Clear\",\"Clouds\",..: 1 1 1 1 1 1 1 1 1 1 ...\n",
            " $ weather_description: Factor w/ 23 levels \"broken clouds\",..: 16 16 16 16 16 16 16 16 16 16 ...\n",
            "'data.frame':\t64248 obs. of  14 variables:\n",
            " $ CRASH_DATE         : Date, format: \"2019-10-25\" \"2019-10-25\" ...\n",
            " $ CRASH_TIME         : int  15 15 15 15 15 15 15 15 15 15 ...\n",
            " $ PERSON_AGE         : num  33 42 42 56 30 65 25 43 38 49 ...\n",
            " $ PERSON_SEX         : Factor w/ 2 levels \"F\",\"M\": 2 2 2 2 2 2 1 1 2 1 ...\n",
            " $ KILLED_INJURED     : Factor w/ 15 levels \"0\",\"1\",\"2\",\"3\",..: 1 1 1 1 1 1 2 1 1 1 ...\n",
            " $ WEEKDAY            : Factor w/ 7 levels \"Friday\",\"Monday\",..: 1 1 1 1 1 1 1 1 1 1 ...\n",
            " $ Holiday            : chr  \"False\" \"False\" \"False\" \"False\" ...\n",
            " $ temp               : num  14.5 14.5 14.5 14.5 14.5 ...\n",
            " $ visibility         : num  10000 10000 10000 10000 10000 10000 10000 10000 10000 10000 ...\n",
            " $ pressure           : int  1027 1027 1027 1027 1027 1027 1027 1027 1027 1027 ...\n",
            " $ humidity           : int  63 63 63 63 63 63 63 63 63 63 ...\n",
            " $ wind_speed         : num  2.1 2.1 2.1 2.1 2.1 2.1 2.1 2.1 2.1 2.1 ...\n",
            " $ weather_main       : Factor w/ 11 levels \"Clear\",\"Clouds\",..: 1 1 1 1 1 1 1 1 1 1 ...\n",
            " $ weather_description: Factor w/ 23 levels \"broken clouds\",..: 16 16 16 16 16 16 16 16 16 16 ...\n"
          ]
        },
        {
          "output_type": "stream",
          "name": "stderr",
          "text": [
            "Warning message in tree(KILLED_INJURED ~ ., data = training):\n",
            "“NAs introduced by coercion”\n"
          ]
        },
        {
          "output_type": "display_data",
          "data": {
            "text/plain": [
              "node), split, n, deviance, yval, (yprob)\n",
              "      * denotes terminal node\n",
              "\n",
              "1) root 235578 355500 0 ( 7.822e-01 1.445e-01 4.186e-02 1.765e-02 7.025e-03 3.404e-03 1.745e-03 3.863e-04 4.372e-04 1.656e-04 2.589e-04 7.641e-05 1.825e-04 5.943e-05 6.367e-05 ) *"
            ]
          },
          "metadata": {}
        },
        {
          "output_type": "stream",
          "name": "stderr",
          "text": [
            "Warning message in pred1.tree(object, tree.matrix(newdata)):\n",
            "“NAs introduced by coercion”\n"
          ]
        },
        {
          "output_type": "display_data",
          "data": {
            "text/plain": [
              "Confusion Matrix and Statistics\n",
              "\n",
              "    predic\n",
              "true     0     1     2     3     4     5     6     7     8     9    10    11\n",
              "  0  50292     0     0     0     0     0     0     0     0     0     0     0\n",
              "  1   9196     0     0     0     0     0     0     0     0     0     0     0\n",
              "  2   2649     0     0     0     0     0     0     0     0     0     0     0\n",
              "  3   1158     0     0     0     0     0     0     0     0     0     0     0\n",
              "  4    468     0     0     0     0     0     0     0     0     0     0     0\n",
              "  5    260     0     0     0     0     0     0     0     0     0     0     0\n",
              "  6    112     0     0     0     0     0     0     0     0     0     0     0\n",
              "  7     32     0     0     0     0     0     0     0     0     0     0     0\n",
              "  8     29     0     0     0     0     0     0     0     0     0     0     0\n",
              "  9      9     0     0     0     0     0     0     0     0     0     0     0\n",
              "  10    18     0     0     0     0     0     0     0     0     0     0     0\n",
              "  11     5     0     0     0     0     0     0     0     0     0     0     0\n",
              "  12    11     0     0     0     0     0     0     0     0     0     0     0\n",
              "  16     5     0     0     0     0     0     0     0     0     0     0     0\n",
              "  18     4     0     0     0     0     0     0     0     0     0     0     0\n",
              "    predic\n",
              "true    12    16    18\n",
              "  0      0     0     0\n",
              "  1      0     0     0\n",
              "  2      0     0     0\n",
              "  3      0     0     0\n",
              "  4      0     0     0\n",
              "  5      0     0     0\n",
              "  6      0     0     0\n",
              "  7      0     0     0\n",
              "  8      0     0     0\n",
              "  9      0     0     0\n",
              "  10     0     0     0\n",
              "  11     0     0     0\n",
              "  12     0     0     0\n",
              "  16     0     0     0\n",
              "  18     0     0     0\n",
              "\n",
              "Overall Statistics\n",
              "                                         \n",
              "               Accuracy : 0.7828         \n",
              "                 95% CI : (0.7796, 0.786)\n",
              "    No Information Rate : 1              \n",
              "    P-Value [Acc > NIR] : 1              \n",
              "                                         \n",
              "                  Kappa : 0              \n",
              "                                         \n",
              " Mcnemar's Test P-Value : NA             \n",
              "\n",
              "Statistics by Class:\n",
              "\n",
              "                     Class: 0 Class: 1 Class: 2 Class: 3 Class: 4 Class: 5\n",
              "Sensitivity            0.7828       NA       NA       NA       NA       NA\n",
              "Specificity                NA   0.8569  0.95877  0.98198 0.992716 0.995953\n",
              "Pos Pred Value             NA       NA       NA       NA       NA       NA\n",
              "Neg Pred Value             NA       NA       NA       NA       NA       NA\n",
              "Prevalence             1.0000   0.0000  0.00000  0.00000 0.000000 0.000000\n",
              "Detection Rate         0.7828   0.0000  0.00000  0.00000 0.000000 0.000000\n",
              "Detection Prevalence   0.7828   0.1431  0.04123  0.01802 0.007284 0.004047\n",
              "Balanced Accuracy          NA       NA       NA       NA       NA       NA\n",
              "                     Class: 6  Class: 7  Class: 8  Class: 9 Class: 10 Class: 11\n",
              "Sensitivity                NA        NA        NA        NA        NA        NA\n",
              "Specificity          0.998257 0.9995019 0.9995486 0.9998599 0.9997198 9.999e-01\n",
              "Pos Pred Value             NA        NA        NA        NA        NA        NA\n",
              "Neg Pred Value             NA        NA        NA        NA        NA        NA\n",
              "Prevalence           0.000000 0.0000000 0.0000000 0.0000000 0.0000000 0.000e+00\n",
              "Detection Rate       0.000000 0.0000000 0.0000000 0.0000000 0.0000000 0.000e+00\n",
              "Detection Prevalence 0.001743 0.0004981 0.0004514 0.0001401 0.0002802 7.782e-05\n",
              "Balanced Accuracy          NA        NA        NA        NA        NA        NA\n",
              "                     Class: 12 Class: 16 Class: 18\n",
              "Sensitivity                 NA        NA        NA\n",
              "Specificity          0.9998288 9.999e-01 9.999e-01\n",
              "Pos Pred Value              NA        NA        NA\n",
              "Neg Pred Value              NA        NA        NA\n",
              "Prevalence           0.0000000 0.000e+00 0.000e+00\n",
              "Detection Rate       0.0000000 0.000e+00 0.000e+00\n",
              "Detection Prevalence 0.0001712 7.782e-05 6.226e-05\n",
              "Balanced Accuracy           NA        NA        NA"
            ]
          },
          "metadata": {}
        }
      ]
    },
    {
      "cell_type": "code",
      "source": [
        "data2=head(data1,400000)\n",
        "## Data pre-processing\n",
        "data2 = subset(data2, select = -c(CONTRIBUTING.FACTOR.VEHICLE.1,LATITUDE,LONGITUDE,wind_deg,temp_min,temp_max,dew_point,CONTRIBUTING.FACTOR.VEHICLE.2,COLLISION_ID,X,VEHICLE.TYPE.CODE.1,VEHICLE.TYPE.CODE.2,ON.STREET.NAME,CROSS.STREET.NAME,OFF.STREET.NAME, VEHICLE_ID,weather_id,clouds_all,rain_1h,wind_gust,weather_icon,rain_3h,snow_3h,sea_level,grnd_level,snow_1h) )\n",
        "names(data2)[names(data2) == \"KILLED.INJURED\"] <- \"KILLED_INJURED\"\n",
        "colSums(is.na(data2))\n",
        "data2$CRASH_DATE=as.Date(data2$CRASH_DATE, format = \"%Y-%m-%d\")\n",
        "nrow(data2)\n",
        "data2=data2[!is.na(data2$visibility),]\n",
        "nrow(data2)\n",
        "data2=data2[!is.na(data2$KILLED_INJURED),]\n",
        "data2$KILLED_INJURED <- as.factor(data2$KILLED_INJURED)\n",
        "nrow(data2)\n",
        "nrow(data2)\n",
        "data2$weather_main <- as.factor(data2$weather_main)\n",
        "data2$weather_description <- as.factor(data2$weather_description)\n",
        "data2$PERSON_SEX <- as.factor(data2$PERSON_SEX)\n",
        "data2$WEEKDAY <- as.factor(data2$WEEKDAY)\n",
        "set.seed(1)\n",
        "sample = sample.split(data2, SplitRatio = 0.80)\n",
        "training = subset(data2, sample == TRUE)\n",
        "test = subset(data2, sample == FALSE)\n",
        "rm(sample)\n",
        "str(training)\n",
        "str(test)\n",
        "tree.brea=tree(KILLED_INJURED~., data=training)\n",
        "tree.brea\n",
        "pred=predict(tree.brea,test,type=\"class\")\n",
        "cm=table(true=test$KILLED_INJURED,predic=pred)\n",
        "confusionMatrix(cm)"
      ],
      "metadata": {
        "colab": {
          "base_uri": "https://localhost:8080/",
          "height": 1000
        },
        "id": "lnn4q0MHE0Nd",
        "outputId": "ec826c7a-534e-41b6-bd22-57f780a3e7da"
      },
      "execution_count": null,
      "outputs": [
        {
          "output_type": "display_data",
          "data": {
            "text/html": [
              "<style>\n",
              ".dl-inline {width: auto; margin:0; padding: 0}\n",
              ".dl-inline>dt, .dl-inline>dd {float: none; width: auto; display: inline-block}\n",
              ".dl-inline>dt::after {content: \":\\0020\"; padding-right: .5ex}\n",
              ".dl-inline>dt:not(:first-of-type) {padding-left: .5ex}\n",
              "</style><dl class=dl-inline><dt>CRASH_DATE</dt><dd>0</dd><dt>CRASH_TIME</dt><dd>0</dd><dt>PERSON_AGE</dt><dd>0</dd><dt>PERSON_SEX</dt><dd>0</dd><dt>KILLED_INJURED</dt><dd>1</dd><dt>WEEKDAY</dt><dd>0</dd><dt>Holiday</dt><dd>0</dd><dt>temp</dt><dd>0</dd><dt>visibility</dt><dd>317</dd><dt>pressure</dt><dd>0</dd><dt>humidity</dt><dd>0</dd><dt>wind_speed</dt><dd>0</dd><dt>weather_main</dt><dd>0</dd><dt>weather_description</dt><dd>0</dd></dl>\n"
            ],
            "text/markdown": "CRASH_DATE\n:   0CRASH_TIME\n:   0PERSON_AGE\n:   0PERSON_SEX\n:   0KILLED_INJURED\n:   1WEEKDAY\n:   0Holiday\n:   0temp\n:   0visibility\n:   317pressure\n:   0humidity\n:   0wind_speed\n:   0weather_main\n:   0weather_description\n:   0\n\n",
            "text/latex": "\\begin{description*}\n\\item[CRASH\\textbackslash{}\\_DATE] 0\n\\item[CRASH\\textbackslash{}\\_TIME] 0\n\\item[PERSON\\textbackslash{}\\_AGE] 0\n\\item[PERSON\\textbackslash{}\\_SEX] 0\n\\item[KILLED\\textbackslash{}\\_INJURED] 1\n\\item[WEEKDAY] 0\n\\item[Holiday] 0\n\\item[temp] 0\n\\item[visibility] 317\n\\item[pressure] 0\n\\item[humidity] 0\n\\item[wind\\textbackslash{}\\_speed] 0\n\\item[weather\\textbackslash{}\\_main] 0\n\\item[weather\\textbackslash{}\\_description] 0\n\\end{description*}\n",
            "text/plain": [
              "         CRASH_DATE          CRASH_TIME          PERSON_AGE          PERSON_SEX \n",
              "                  0                   0                   0                   0 \n",
              "     KILLED_INJURED             WEEKDAY             Holiday                temp \n",
              "                  1                   0                   0                   0 \n",
              "         visibility            pressure            humidity          wind_speed \n",
              "                317                   0                   0                   0 \n",
              "       weather_main weather_description \n",
              "                  0                   0 "
            ]
          },
          "metadata": {}
        },
        {
          "output_type": "display_data",
          "data": {
            "text/html": [
              "400000"
            ],
            "text/markdown": "400000",
            "text/latex": "400000",
            "text/plain": [
              "[1] 400000"
            ]
          },
          "metadata": {}
        },
        {
          "output_type": "display_data",
          "data": {
            "text/html": [
              "399683"
            ],
            "text/markdown": "399683",
            "text/latex": "399683",
            "text/plain": [
              "[1] 399683"
            ]
          },
          "metadata": {}
        },
        {
          "output_type": "display_data",
          "data": {
            "text/html": [
              "399682"
            ],
            "text/markdown": "399682",
            "text/latex": "399682",
            "text/plain": [
              "[1] 399682"
            ]
          },
          "metadata": {}
        },
        {
          "output_type": "display_data",
          "data": {
            "text/html": [
              "399682"
            ],
            "text/markdown": "399682",
            "text/latex": "399682",
            "text/plain": [
              "[1] 399682"
            ]
          },
          "metadata": {}
        },
        {
          "output_type": "stream",
          "name": "stdout",
          "text": [
            "'data.frame':\t314035 obs. of  14 variables:\n",
            " $ CRASH_DATE         : Date, format: \"2019-10-25\" \"2019-10-25\" ...\n",
            " $ CRASH_TIME         : int  15 15 15 15 15 15 15 15 15 15 ...\n",
            " $ PERSON_AGE         : num  33 82 33 82 42 51 51 17 42 37 ...\n",
            " $ PERSON_SEX         : Factor w/ 2 levels \"F\",\"M\": 1 2 2 2 2 2 2 2 2 2 ...\n",
            " $ KILLED_INJURED     : Factor w/ 16 levels \"0\",\"1\",\"2\",\"3\",..: 1 1 1 1 1 1 1 1 1 1 ...\n",
            " $ WEEKDAY            : Factor w/ 7 levels \"Friday\",\"Monday\",..: 1 1 1 1 1 1 1 1 1 1 ...\n",
            " $ Holiday            : chr  \"False\" \"False\" \"False\" \"False\" ...\n",
            " $ temp               : num  14.5 14.5 14.5 14.5 14.5 ...\n",
            " $ visibility         : num  10000 10000 10000 10000 10000 10000 10000 10000 10000 10000 ...\n",
            " $ pressure           : int  1027 1027 1027 1027 1027 1027 1027 1027 1027 1027 ...\n",
            " $ humidity           : int  63 63 63 63 63 63 63 63 63 63 ...\n",
            " $ wind_speed         : num  2.1 2.1 2.1 2.1 2.1 2.1 2.1 2.1 2.1 2.1 ...\n",
            " $ weather_main       : Factor w/ 11 levels \"Clear\",\"Clouds\",..: 1 1 1 1 1 1 1 1 1 1 ...\n",
            " $ weather_description: Factor w/ 24 levels \"broken clouds\",..: 17 17 17 17 17 17 17 17 17 17 ...\n",
            "'data.frame':\t85647 obs. of  14 variables:\n",
            " $ CRASH_DATE         : Date, format: \"2019-10-25\" \"2019-10-25\" ...\n",
            " $ CRASH_TIME         : int  15 15 15 15 15 15 15 15 15 15 ...\n",
            " $ PERSON_AGE         : num  33 42 42 56 30 65 25 43 38 49 ...\n",
            " $ PERSON_SEX         : Factor w/ 2 levels \"F\",\"M\": 2 2 2 2 2 2 1 1 2 1 ...\n",
            " $ KILLED_INJURED     : Factor w/ 16 levels \"0\",\"1\",\"2\",\"3\",..: 1 1 1 1 1 1 2 1 1 1 ...\n",
            " $ WEEKDAY            : Factor w/ 7 levels \"Friday\",\"Monday\",..: 1 1 1 1 1 1 1 1 1 1 ...\n",
            " $ Holiday            : chr  \"False\" \"False\" \"False\" \"False\" ...\n",
            " $ temp               : num  14.5 14.5 14.5 14.5 14.5 ...\n",
            " $ visibility         : num  10000 10000 10000 10000 10000 10000 10000 10000 10000 10000 ...\n",
            " $ pressure           : int  1027 1027 1027 1027 1027 1027 1027 1027 1027 1027 ...\n",
            " $ humidity           : int  63 63 63 63 63 63 63 63 63 63 ...\n",
            " $ wind_speed         : num  2.1 2.1 2.1 2.1 2.1 2.1 2.1 2.1 2.1 2.1 ...\n",
            " $ weather_main       : Factor w/ 11 levels \"Clear\",\"Clouds\",..: 1 1 1 1 1 1 1 1 1 1 ...\n",
            " $ weather_description: Factor w/ 24 levels \"broken clouds\",..: 17 17 17 17 17 17 17 17 17 17 ...\n"
          ]
        },
        {
          "output_type": "stream",
          "name": "stderr",
          "text": [
            "Warning message in tree(KILLED_INJURED ~ ., data = training):\n",
            "“NAs introduced by coercion”\n"
          ]
        },
        {
          "output_type": "display_data",
          "data": {
            "text/plain": [
              "node), split, n, deviance, yval, (yprob)\n",
              "      * denotes terminal node\n",
              "\n",
              "1) root 314035 473800 0 ( 7.818e-01 1.448e-01 4.251e-02 1.745e-02 6.824e-03 3.398e-03 1.614e-03 4.458e-04 4.394e-04 1.401e-04 2.197e-04 5.732e-05 1.751e-04 4.777e-05 4.458e-05 4.777e-05 ) *"
            ]
          },
          "metadata": {}
        },
        {
          "output_type": "stream",
          "name": "stderr",
          "text": [
            "Warning message in pred1.tree(object, tree.matrix(newdata)):\n",
            "“NAs introduced by coercion”\n"
          ]
        },
        {
          "output_type": "display_data",
          "data": {
            "text/plain": [
              "Confusion Matrix and Statistics\n",
              "\n",
              "    predic\n",
              "true     0     1     2     3     4     5     6     7     8     9    10    11\n",
              "  0  67041     0     0     0     0     0     0     0     0     0     0     0\n",
              "  1  12256     0     0     0     0     0     0     0     0     0     0     0\n",
              "  2   3635     0     0     0     0     0     0     0     0     0     0     0\n",
              "  3   1523     0     0     0     0     0     0     0     0     0     0     0\n",
              "  4    594     0     0     0     0     0     0     0     0     0     0     0\n",
              "  5    323     0     0     0     0     0     0     0     0     0     0     0\n",
              "  6    132     0     0     0     0     0     0     0     0     0     0     0\n",
              "  7     40     0     0     0     0     0     0     0     0     0     0     0\n",
              "  8     37     0     0     0     0     0     0     0     0     0     0     0\n",
              "  9     12     0     0     0     0     0     0     0     0     0     0     0\n",
              "  10    21     0     0     0     0     0     0     0     0     0     0     0\n",
              "  11     5     0     0     0     0     0     0     0     0     0     0     0\n",
              "  12    15     0     0     0     0     0     0     0     0     0     0     0\n",
              "  13     4     0     0     0     0     0     0     0     0     0     0     0\n",
              "  16     5     0     0     0     0     0     0     0     0     0     0     0\n",
              "  18     4     0     0     0     0     0     0     0     0     0     0     0\n",
              "    predic\n",
              "true    12    13    16    18\n",
              "  0      0     0     0     0\n",
              "  1      0     0     0     0\n",
              "  2      0     0     0     0\n",
              "  3      0     0     0     0\n",
              "  4      0     0     0     0\n",
              "  5      0     0     0     0\n",
              "  6      0     0     0     0\n",
              "  7      0     0     0     0\n",
              "  8      0     0     0     0\n",
              "  9      0     0     0     0\n",
              "  10     0     0     0     0\n",
              "  11     0     0     0     0\n",
              "  12     0     0     0     0\n",
              "  13     0     0     0     0\n",
              "  16     0     0     0     0\n",
              "  18     0     0     0     0\n",
              "\n",
              "Overall Statistics\n",
              "                                        \n",
              "               Accuracy : 0.7828        \n",
              "                 95% CI : (0.78, 0.7855)\n",
              "    No Information Rate : 1             \n",
              "    P-Value [Acc > NIR] : 1             \n",
              "                                        \n",
              "                  Kappa : 0             \n",
              "                                        \n",
              " Mcnemar's Test P-Value : NA            \n",
              "\n",
              "Statistics by Class:\n",
              "\n",
              "                     Class: 0 Class: 1 Class: 2 Class: 3 Class: 4 Class: 5\n",
              "Sensitivity            0.7828       NA       NA       NA       NA       NA\n",
              "Specificity                NA   0.8569  0.95756  0.98222 0.993065 0.996229\n",
              "Pos Pred Value             NA       NA       NA       NA       NA       NA\n",
              "Neg Pred Value             NA       NA       NA       NA       NA       NA\n",
              "Prevalence             1.0000   0.0000  0.00000  0.00000 0.000000 0.000000\n",
              "Detection Rate         0.7828   0.0000  0.00000  0.00000 0.000000 0.000000\n",
              "Detection Prevalence   0.7828   0.1431  0.04244  0.01778 0.006935 0.003771\n",
              "Balanced Accuracy          NA       NA       NA       NA       NA       NA\n",
              "                     Class: 6 Class: 7 Class: 8  Class: 9 Class: 10 Class: 11\n",
              "Sensitivity                NA       NA       NA        NA        NA        NA\n",
              "Specificity          0.998459 0.999533 0.999568 0.9998599 0.9997548 9.999e-01\n",
              "Pos Pred Value             NA       NA       NA        NA        NA        NA\n",
              "Neg Pred Value             NA       NA       NA        NA        NA        NA\n",
              "Prevalence           0.000000 0.000000 0.000000 0.0000000 0.0000000 0.000e+00\n",
              "Detection Rate       0.000000 0.000000 0.000000 0.0000000 0.0000000 0.000e+00\n",
              "Detection Prevalence 0.001541 0.000467 0.000432 0.0001401 0.0002452 5.838e-05\n",
              "Balanced Accuracy          NA       NA       NA        NA        NA        NA\n",
              "                     Class: 12 Class: 13 Class: 16 Class: 18\n",
              "Sensitivity                 NA        NA        NA        NA\n",
              "Specificity          0.9998249  1.00e+00 9.999e-01  1.00e+00\n",
              "Pos Pred Value              NA        NA        NA        NA\n",
              "Neg Pred Value              NA        NA        NA        NA\n",
              "Prevalence           0.0000000  0.00e+00 0.000e+00  0.00e+00\n",
              "Detection Rate       0.0000000  0.00e+00 0.000e+00  0.00e+00\n",
              "Detection Prevalence 0.0001751  4.67e-05 5.838e-05  4.67e-05\n",
              "Balanced Accuracy           NA        NA        NA        NA"
            ]
          },
          "metadata": {}
        }
      ]
    },
    {
      "cell_type": "code",
      "source": [
        "data2=head(data1,500000)\n",
        "## Data pre-processing\n",
        "data2 = subset(data2, select = -c(CONTRIBUTING.FACTOR.VEHICLE.1,LATITUDE,LONGITUDE,wind_deg,temp_min,temp_max,dew_point,CONTRIBUTING.FACTOR.VEHICLE.2,COLLISION_ID,X,VEHICLE.TYPE.CODE.1,VEHICLE.TYPE.CODE.2,ON.STREET.NAME,CROSS.STREET.NAME,OFF.STREET.NAME, VEHICLE_ID,weather_id,clouds_all,rain_1h,wind_gust,weather_icon,rain_3h,snow_3h,sea_level,grnd_level,snow_1h) )\n",
        "names(data2)[names(data2) == \"KILLED.INJURED\"] <- \"KILLED_INJURED\"\n",
        "colSums(is.na(data2))\n",
        "data2$CRASH_DATE=as.Date(data2$CRASH_DATE, format = \"%Y-%m-%d\")\n",
        "nrow(data2)\n",
        "data2=data2[!is.na(data2$visibility),]\n",
        "nrow(data2)\n",
        "data2=data2[!is.na(data2$KILLED_INJURED),]\n",
        "data2$KILLED_INJURED <- as.factor(data2$KILLED_INJURED)\n",
        "nrow(data2)\n",
        "nrow(data2)\n",
        "data2$weather_main <- as.factor(data2$weather_main)\n",
        "data2$weather_description <- as.factor(data2$weather_description)\n",
        "data2$PERSON_SEX <- as.factor(data2$PERSON_SEX)\n",
        "data2$WEEKDAY <- as.factor(data2$WEEKDAY)\n",
        "set.seed(1)\n",
        "sample = sample.split(data2, SplitRatio = 0.80)\n",
        "training = subset(data2, sample == TRUE)\n",
        "test = subset(data2, sample == FALSE)\n",
        "rm(sample)\n",
        "str(training)\n",
        "str(test)\n",
        "tree.brea=tree(KILLED_INJURED~., data=training)\n",
        "tree.brea\n",
        "pred=predict(tree.brea,test,type=\"class\")\n",
        "cm=table(true=test$KILLED_INJURED,predic=pred)\n",
        "confusionMatrix(cm)"
      ],
      "metadata": {
        "colab": {
          "base_uri": "https://localhost:8080/",
          "height": 1000
        },
        "id": "kvJqX0zYE1W7",
        "outputId": "cdb438ef-af20-402c-de06-efc6e00aad6b"
      },
      "execution_count": null,
      "outputs": [
        {
          "output_type": "display_data",
          "data": {
            "text/html": [
              "<style>\n",
              ".dl-inline {width: auto; margin:0; padding: 0}\n",
              ".dl-inline>dt, .dl-inline>dd {float: none; width: auto; display: inline-block}\n",
              ".dl-inline>dt::after {content: \":\\0020\"; padding-right: .5ex}\n",
              ".dl-inline>dt:not(:first-of-type) {padding-left: .5ex}\n",
              "</style><dl class=dl-inline><dt>CRASH_DATE</dt><dd>0</dd><dt>CRASH_TIME</dt><dd>0</dd><dt>PERSON_AGE</dt><dd>0</dd><dt>PERSON_SEX</dt><dd>0</dd><dt>KILLED_INJURED</dt><dd>1</dd><dt>WEEKDAY</dt><dd>0</dd><dt>Holiday</dt><dd>0</dd><dt>temp</dt><dd>0</dd><dt>visibility</dt><dd>442</dd><dt>pressure</dt><dd>0</dd><dt>humidity</dt><dd>0</dd><dt>wind_speed</dt><dd>0</dd><dt>weather_main</dt><dd>0</dd><dt>weather_description</dt><dd>0</dd></dl>\n"
            ],
            "text/markdown": "CRASH_DATE\n:   0CRASH_TIME\n:   0PERSON_AGE\n:   0PERSON_SEX\n:   0KILLED_INJURED\n:   1WEEKDAY\n:   0Holiday\n:   0temp\n:   0visibility\n:   442pressure\n:   0humidity\n:   0wind_speed\n:   0weather_main\n:   0weather_description\n:   0\n\n",
            "text/latex": "\\begin{description*}\n\\item[CRASH\\textbackslash{}\\_DATE] 0\n\\item[CRASH\\textbackslash{}\\_TIME] 0\n\\item[PERSON\\textbackslash{}\\_AGE] 0\n\\item[PERSON\\textbackslash{}\\_SEX] 0\n\\item[KILLED\\textbackslash{}\\_INJURED] 1\n\\item[WEEKDAY] 0\n\\item[Holiday] 0\n\\item[temp] 0\n\\item[visibility] 442\n\\item[pressure] 0\n\\item[humidity] 0\n\\item[wind\\textbackslash{}\\_speed] 0\n\\item[weather\\textbackslash{}\\_main] 0\n\\item[weather\\textbackslash{}\\_description] 0\n\\end{description*}\n",
            "text/plain": [
              "         CRASH_DATE          CRASH_TIME          PERSON_AGE          PERSON_SEX \n",
              "                  0                   0                   0                   0 \n",
              "     KILLED_INJURED             WEEKDAY             Holiday                temp \n",
              "                  1                   0                   0                   0 \n",
              "         visibility            pressure            humidity          wind_speed \n",
              "                442                   0                   0                   0 \n",
              "       weather_main weather_description \n",
              "                  0                   0 "
            ]
          },
          "metadata": {}
        },
        {
          "output_type": "display_data",
          "data": {
            "text/html": [
              "500000"
            ],
            "text/markdown": "500000",
            "text/latex": "500000",
            "text/plain": [
              "[1] 500000"
            ]
          },
          "metadata": {}
        },
        {
          "output_type": "display_data",
          "data": {
            "text/html": [
              "499558"
            ],
            "text/markdown": "499558",
            "text/latex": "499558",
            "text/plain": [
              "[1] 499558"
            ]
          },
          "metadata": {}
        },
        {
          "output_type": "display_data",
          "data": {
            "text/html": [
              "499557"
            ],
            "text/markdown": "499557",
            "text/latex": "499557",
            "text/plain": [
              "[1] 499557"
            ]
          },
          "metadata": {}
        },
        {
          "output_type": "display_data",
          "data": {
            "text/html": [
              "499557"
            ],
            "text/markdown": "499557",
            "text/latex": "499557",
            "text/plain": [
              "[1] 499557"
            ]
          },
          "metadata": {}
        },
        {
          "output_type": "stream",
          "name": "stdout",
          "text": [
            "'data.frame':\t392508 obs. of  14 variables:\n",
            " $ CRASH_DATE         : Date, format: \"2019-10-25\" \"2019-10-25\" ...\n",
            " $ CRASH_TIME         : int  15 15 15 15 15 15 15 15 15 15 ...\n",
            " $ PERSON_AGE         : num  33 82 33 82 42 51 51 17 42 37 ...\n",
            " $ PERSON_SEX         : Factor w/ 2 levels \"F\",\"M\": 1 2 2 2 2 2 2 2 2 2 ...\n",
            " $ KILLED_INJURED     : Factor w/ 16 levels \"0\",\"1\",\"2\",\"3\",..: 1 1 1 1 1 1 1 1 1 1 ...\n",
            " $ WEEKDAY            : Factor w/ 7 levels \"Friday\",\"Monday\",..: 1 1 1 1 1 1 1 1 1 1 ...\n",
            " $ Holiday            : chr  \"False\" \"False\" \"False\" \"False\" ...\n",
            " $ temp               : num  14.5 14.5 14.5 14.5 14.5 ...\n",
            " $ visibility         : num  10000 10000 10000 10000 10000 10000 10000 10000 10000 10000 ...\n",
            " $ pressure           : int  1027 1027 1027 1027 1027 1027 1027 1027 1027 1027 ...\n",
            " $ humidity           : int  63 63 63 63 63 63 63 63 63 63 ...\n",
            " $ wind_speed         : num  2.1 2.1 2.1 2.1 2.1 2.1 2.1 2.1 2.1 2.1 ...\n",
            " $ weather_main       : Factor w/ 11 levels \"Clear\",\"Clouds\",..: 1 1 1 1 1 1 1 1 1 1 ...\n",
            " $ weather_description: Factor w/ 24 levels \"broken clouds\",..: 17 17 17 17 17 17 17 17 17 17 ...\n",
            "'data.frame':\t107049 obs. of  14 variables:\n",
            " $ CRASH_DATE         : Date, format: \"2019-10-25\" \"2019-10-25\" ...\n",
            " $ CRASH_TIME         : int  15 15 15 15 15 15 15 15 15 15 ...\n",
            " $ PERSON_AGE         : num  33 42 42 56 30 65 25 43 38 49 ...\n",
            " $ PERSON_SEX         : Factor w/ 2 levels \"F\",\"M\": 2 2 2 2 2 2 1 1 2 1 ...\n",
            " $ KILLED_INJURED     : Factor w/ 16 levels \"0\",\"1\",\"2\",\"3\",..: 1 1 1 1 1 1 2 1 1 1 ...\n",
            " $ WEEKDAY            : Factor w/ 7 levels \"Friday\",\"Monday\",..: 1 1 1 1 1 1 1 1 1 1 ...\n",
            " $ Holiday            : chr  \"False\" \"False\" \"False\" \"False\" ...\n",
            " $ temp               : num  14.5 14.5 14.5 14.5 14.5 ...\n",
            " $ visibility         : num  10000 10000 10000 10000 10000 10000 10000 10000 10000 10000 ...\n",
            " $ pressure           : int  1027 1027 1027 1027 1027 1027 1027 1027 1027 1027 ...\n",
            " $ humidity           : int  63 63 63 63 63 63 63 63 63 63 ...\n",
            " $ wind_speed         : num  2.1 2.1 2.1 2.1 2.1 2.1 2.1 2.1 2.1 2.1 ...\n",
            " $ weather_main       : Factor w/ 11 levels \"Clear\",\"Clouds\",..: 1 1 1 1 1 1 1 1 1 1 ...\n",
            " $ weather_description: Factor w/ 24 levels \"broken clouds\",..: 17 17 17 17 17 17 17 17 17 17 ...\n"
          ]
        },
        {
          "output_type": "stream",
          "name": "stderr",
          "text": [
            "Warning message in tree(KILLED_INJURED ~ ., data = training):\n",
            "“NAs introduced by coercion”\n"
          ]
        },
        {
          "output_type": "display_data",
          "data": {
            "text/plain": [
              "node), split, n, deviance, yval, (yprob)\n",
              "      * denotes terminal node\n",
              "\n",
              "1) root 392508 589300 0 ( 7.824e-01 1.453e-01 4.219e-02 1.714e-02 6.713e-03 3.154e-03 1.518e-03 4.764e-04 4.815e-04 1.401e-04 1.758e-04 5.860e-05 1.401e-04 6.115e-05 3.567e-05 7.643e-05 ) *"
            ]
          },
          "metadata": {}
        },
        {
          "output_type": "stream",
          "name": "stderr",
          "text": [
            "Warning message in pred1.tree(object, tree.matrix(newdata)):\n",
            "“NAs introduced by coercion”\n"
          ]
        },
        {
          "output_type": "display_data",
          "data": {
            "text/plain": [
              "Confusion Matrix and Statistics\n",
              "\n",
              "    predic\n",
              "true     0     1     2     3     4     5     6     7     8     9    10    11\n",
              "  0  83893     0     0     0     0     0     0     0     0     0     0     0\n",
              "  1  15383     0     0     0     0     0     0     0     0     0     0     0\n",
              "  2   4477     0     0     0     0     0     0     0     0     0     0     0\n",
              "  3   1865     0     0     0     0     0     0     0     0     0     0     0\n",
              "  4    732     0     0     0     0     0     0     0     0     0     0     0\n",
              "  5    367     0     0     0     0     0     0     0     0     0     0     0\n",
              "  6    156     0     0     0     0     0     0     0     0     0     0     0\n",
              "  7     51     0     0     0     0     0     0     0     0     0     0     0\n",
              "  8     51     0     0     0     0     0     0     0     0     0     0     0\n",
              "  9     14     0     0     0     0     0     0     0     0     0     0     0\n",
              "  10    21     0     0     0     0     0     0     0     0     0     0     0\n",
              "  11     7     0     0     0     0     0     0     0     0     0     0     0\n",
              "  12    15     0     0     0     0     0     0     0     0     0     0     0\n",
              "  13     5     0     0     0     0     0     0     0     0     0     0     0\n",
              "  16     5     0     0     0     0     0     0     0     0     0     0     0\n",
              "  18     7     0     0     0     0     0     0     0     0     0     0     0\n",
              "    predic\n",
              "true    12    13    16    18\n",
              "  0      0     0     0     0\n",
              "  1      0     0     0     0\n",
              "  2      0     0     0     0\n",
              "  3      0     0     0     0\n",
              "  4      0     0     0     0\n",
              "  5      0     0     0     0\n",
              "  6      0     0     0     0\n",
              "  7      0     0     0     0\n",
              "  8      0     0     0     0\n",
              "  9      0     0     0     0\n",
              "  10     0     0     0     0\n",
              "  11     0     0     0     0\n",
              "  12     0     0     0     0\n",
              "  13     0     0     0     0\n",
              "  16     0     0     0     0\n",
              "  18     0     0     0     0\n",
              "\n",
              "Overall Statistics\n",
              "                                          \n",
              "               Accuracy : 0.7837          \n",
              "                 95% CI : (0.7812, 0.7862)\n",
              "    No Information Rate : 1               \n",
              "    P-Value [Acc > NIR] : 1               \n",
              "                                          \n",
              "                  Kappa : 0               \n",
              "                                          \n",
              " Mcnemar's Test P-Value : NA              \n",
              "\n",
              "Statistics by Class:\n",
              "\n",
              "                     Class: 0 Class: 1 Class: 2 Class: 3 Class: 4 Class: 5\n",
              "Sensitivity            0.7837       NA       NA       NA       NA       NA\n",
              "Specificity                NA   0.8563  0.95818  0.98258 0.993162 0.996572\n",
              "Pos Pred Value             NA       NA       NA       NA       NA       NA\n",
              "Neg Pred Value             NA       NA       NA       NA       NA       NA\n",
              "Prevalence             1.0000   0.0000  0.00000  0.00000 0.000000 0.000000\n",
              "Detection Rate         0.7837   0.0000  0.00000  0.00000 0.000000 0.000000\n",
              "Detection Prevalence   0.7837   0.1437  0.04182  0.01742 0.006838 0.003428\n",
              "Balanced Accuracy          NA       NA       NA       NA       NA       NA\n",
              "                     Class: 6  Class: 7  Class: 8  Class: 9 Class: 10 Class: 11\n",
              "Sensitivity                NA        NA        NA        NA        NA        NA\n",
              "Specificity          0.998543 0.9995236 0.9995236 0.9998692 0.9998038 9.999e-01\n",
              "Pos Pred Value             NA        NA        NA        NA        NA        NA\n",
              "Neg Pred Value             NA        NA        NA        NA        NA        NA\n",
              "Prevalence           0.000000 0.0000000 0.0000000 0.0000000 0.0000000 0.000e+00\n",
              "Detection Rate       0.000000 0.0000000 0.0000000 0.0000000 0.0000000 0.000e+00\n",
              "Detection Prevalence 0.001457 0.0004764 0.0004764 0.0001308 0.0001962 6.539e-05\n",
              "Balanced Accuracy          NA        NA        NA        NA        NA        NA\n",
              "                     Class: 12 Class: 13 Class: 16 Class: 18\n",
              "Sensitivity                 NA        NA        NA        NA\n",
              "Specificity          0.9998599 1.000e+00 1.000e+00 9.999e-01\n",
              "Pos Pred Value              NA        NA        NA        NA\n",
              "Neg Pred Value              NA        NA        NA        NA\n",
              "Prevalence           0.0000000 0.000e+00 0.000e+00 0.000e+00\n",
              "Detection Rate       0.0000000 0.000e+00 0.000e+00 0.000e+00\n",
              "Detection Prevalence 0.0001401 4.671e-05 4.671e-05 6.539e-05\n",
              "Balanced Accuracy           NA        NA        NA        NA"
            ]
          },
          "metadata": {}
        }
      ]
    },
    {
      "cell_type": "code",
      "source": [
        "data2=head(data1,600000)\n",
        "## Data pre-processing\n",
        "data2 = subset(data2, select = -c(CONTRIBUTING.FACTOR.VEHICLE.1,LATITUDE,LONGITUDE,wind_deg,temp_min,temp_max,dew_point,CONTRIBUTING.FACTOR.VEHICLE.2,COLLISION_ID,X,VEHICLE.TYPE.CODE.1,VEHICLE.TYPE.CODE.2,ON.STREET.NAME,CROSS.STREET.NAME,OFF.STREET.NAME, VEHICLE_ID,weather_id,clouds_all,rain_1h,wind_gust,weather_icon,rain_3h,snow_3h,sea_level,grnd_level,snow_1h) )\n",
        "names(data2)[names(data2) == \"KILLED.INJURED\"] <- \"KILLED_INJURED\"\n",
        "colSums(is.na(data2))\n",
        "data2$CRASH_DATE=as.Date(data2$CRASH_DATE, format = \"%Y-%m-%d\")\n",
        "nrow(data2)\n",
        "data2=data2[!is.na(data2$visibility),]\n",
        "nrow(data2)\n",
        "data2=data2[!is.na(data2$KILLED_INJURED),]\n",
        "data2$KILLED_INJURED <- as.factor(data2$KILLED_INJURED)\n",
        "nrow(data2)\n",
        "nrow(data2)\n",
        "data2$weather_main <- as.factor(data2$weather_main)\n",
        "data2$weather_description <- as.factor(data2$weather_description)\n",
        "data2$PERSON_SEX <- as.factor(data2$PERSON_SEX)\n",
        "data2$WEEKDAY <- as.factor(data2$WEEKDAY)\n",
        "set.seed(1)\n",
        "sample = sample.split(data2, SplitRatio = 0.80)\n",
        "training = subset(data2, sample == TRUE)\n",
        "test = subset(data2, sample == FALSE)\n",
        "rm(sample)\n",
        "str(training)\n",
        "str(test)\n",
        "tree.brea=tree(KILLED_INJURED~., data=training)\n",
        "tree.brea\n",
        "pred=predict(tree.brea,test,type=\"class\")\n",
        "cm=table(true=test$KILLED_INJURED,predic=pred)\n",
        "confusionMatrix(cm)"
      ],
      "metadata": {
        "colab": {
          "base_uri": "https://localhost:8080/",
          "height": 1000
        },
        "id": "29cHjFlNE2_p",
        "outputId": "9a1491cd-531c-440c-8380-ce149c28ec24"
      },
      "execution_count": null,
      "outputs": [
        {
          "output_type": "display_data",
          "data": {
            "text/html": [
              "<style>\n",
              ".dl-inline {width: auto; margin:0; padding: 0}\n",
              ".dl-inline>dt, .dl-inline>dd {float: none; width: auto; display: inline-block}\n",
              ".dl-inline>dt::after {content: \":\\0020\"; padding-right: .5ex}\n",
              ".dl-inline>dt:not(:first-of-type) {padding-left: .5ex}\n",
              "</style><dl class=dl-inline><dt>CRASH_DATE</dt><dd>0</dd><dt>CRASH_TIME</dt><dd>0</dd><dt>PERSON_AGE</dt><dd>0</dd><dt>PERSON_SEX</dt><dd>0</dd><dt>KILLED_INJURED</dt><dd>2</dd><dt>WEEKDAY</dt><dd>0</dd><dt>Holiday</dt><dd>0</dd><dt>temp</dt><dd>0</dd><dt>visibility</dt><dd>442</dd><dt>pressure</dt><dd>0</dd><dt>humidity</dt><dd>0</dd><dt>wind_speed</dt><dd>0</dd><dt>weather_main</dt><dd>0</dd><dt>weather_description</dt><dd>0</dd></dl>\n"
            ],
            "text/markdown": "CRASH_DATE\n:   0CRASH_TIME\n:   0PERSON_AGE\n:   0PERSON_SEX\n:   0KILLED_INJURED\n:   2WEEKDAY\n:   0Holiday\n:   0temp\n:   0visibility\n:   442pressure\n:   0humidity\n:   0wind_speed\n:   0weather_main\n:   0weather_description\n:   0\n\n",
            "text/latex": "\\begin{description*}\n\\item[CRASH\\textbackslash{}\\_DATE] 0\n\\item[CRASH\\textbackslash{}\\_TIME] 0\n\\item[PERSON\\textbackslash{}\\_AGE] 0\n\\item[PERSON\\textbackslash{}\\_SEX] 0\n\\item[KILLED\\textbackslash{}\\_INJURED] 2\n\\item[WEEKDAY] 0\n\\item[Holiday] 0\n\\item[temp] 0\n\\item[visibility] 442\n\\item[pressure] 0\n\\item[humidity] 0\n\\item[wind\\textbackslash{}\\_speed] 0\n\\item[weather\\textbackslash{}\\_main] 0\n\\item[weather\\textbackslash{}\\_description] 0\n\\end{description*}\n",
            "text/plain": [
              "         CRASH_DATE          CRASH_TIME          PERSON_AGE          PERSON_SEX \n",
              "                  0                   0                   0                   0 \n",
              "     KILLED_INJURED             WEEKDAY             Holiday                temp \n",
              "                  2                   0                   0                   0 \n",
              "         visibility            pressure            humidity          wind_speed \n",
              "                442                   0                   0                   0 \n",
              "       weather_main weather_description \n",
              "                  0                   0 "
            ]
          },
          "metadata": {}
        },
        {
          "output_type": "display_data",
          "data": {
            "text/html": [
              "600000"
            ],
            "text/markdown": "600000",
            "text/latex": "600000",
            "text/plain": [
              "[1] 600000"
            ]
          },
          "metadata": {}
        },
        {
          "output_type": "display_data",
          "data": {
            "text/html": [
              "599558"
            ],
            "text/markdown": "599558",
            "text/latex": "599558",
            "text/plain": [
              "[1] 599558"
            ]
          },
          "metadata": {}
        },
        {
          "output_type": "display_data",
          "data": {
            "text/html": [
              "599556"
            ],
            "text/markdown": "599556",
            "text/latex": "599556",
            "text/plain": [
              "[1] 599556"
            ]
          },
          "metadata": {}
        },
        {
          "output_type": "display_data",
          "data": {
            "text/html": [
              "599556"
            ],
            "text/markdown": "599556",
            "text/latex": "599556",
            "text/plain": [
              "[1] 599556"
            ]
          },
          "metadata": {}
        },
        {
          "output_type": "stream",
          "name": "stdout",
          "text": [
            "'data.frame':\t471079 obs. of  14 variables:\n",
            " $ CRASH_DATE         : Date, format: \"2019-10-25\" \"2019-10-25\" ...\n",
            " $ CRASH_TIME         : int  15 15 15 15 15 15 15 15 15 15 ...\n",
            " $ PERSON_AGE         : num  33 82 33 82 42 51 51 17 42 37 ...\n",
            " $ PERSON_SEX         : Factor w/ 2 levels \"F\",\"M\": 1 2 2 2 2 2 2 2 2 2 ...\n",
            " $ KILLED_INJURED     : Factor w/ 17 levels \"0\",\"1\",\"2\",\"3\",..: 1 1 1 1 1 1 1 1 1 1 ...\n",
            " $ WEEKDAY            : Factor w/ 7 levels \"Friday\",\"Monday\",..: 1 1 1 1 1 1 1 1 1 1 ...\n",
            " $ Holiday            : chr  \"False\" \"False\" \"False\" \"False\" ...\n",
            " $ temp               : num  14.5 14.5 14.5 14.5 14.5 ...\n",
            " $ visibility         : num  10000 10000 10000 10000 10000 10000 10000 10000 10000 10000 ...\n",
            " $ pressure           : int  1027 1027 1027 1027 1027 1027 1027 1027 1027 1027 ...\n",
            " $ humidity           : int  63 63 63 63 63 63 63 63 63 63 ...\n",
            " $ wind_speed         : num  2.1 2.1 2.1 2.1 2.1 2.1 2.1 2.1 2.1 2.1 ...\n",
            " $ weather_main       : Factor w/ 11 levels \"Clear\",\"Clouds\",..: 1 1 1 1 1 1 1 1 1 1 ...\n",
            " $ weather_description: Factor w/ 24 levels \"broken clouds\",..: 17 17 17 17 17 17 17 17 17 17 ...\n",
            "'data.frame':\t128477 obs. of  14 variables:\n",
            " $ CRASH_DATE         : Date, format: \"2019-10-25\" \"2019-10-25\" ...\n",
            " $ CRASH_TIME         : int  15 15 15 15 15 15 15 15 15 15 ...\n",
            " $ PERSON_AGE         : num  33 42 42 56 30 65 25 43 38 49 ...\n",
            " $ PERSON_SEX         : Factor w/ 2 levels \"F\",\"M\": 2 2 2 2 2 2 1 1 2 1 ...\n",
            " $ KILLED_INJURED     : Factor w/ 17 levels \"0\",\"1\",\"2\",\"3\",..: 1 1 1 1 1 1 2 1 1 1 ...\n",
            " $ WEEKDAY            : Factor w/ 7 levels \"Friday\",\"Monday\",..: 1 1 1 1 1 1 1 1 1 1 ...\n",
            " $ Holiday            : chr  \"False\" \"False\" \"False\" \"False\" ...\n",
            " $ temp               : num  14.5 14.5 14.5 14.5 14.5 ...\n",
            " $ visibility         : num  10000 10000 10000 10000 10000 10000 10000 10000 10000 10000 ...\n",
            " $ pressure           : int  1027 1027 1027 1027 1027 1027 1027 1027 1027 1027 ...\n",
            " $ humidity           : int  63 63 63 63 63 63 63 63 63 63 ...\n",
            " $ wind_speed         : num  2.1 2.1 2.1 2.1 2.1 2.1 2.1 2.1 2.1 2.1 ...\n",
            " $ weather_main       : Factor w/ 11 levels \"Clear\",\"Clouds\",..: 1 1 1 1 1 1 1 1 1 1 ...\n",
            " $ weather_description: Factor w/ 24 levels \"broken clouds\",..: 17 17 17 17 17 17 17 17 17 17 ...\n"
          ]
        },
        {
          "output_type": "stream",
          "name": "stderr",
          "text": [
            "Warning message in tree(KILLED_INJURED ~ ., data = training):\n",
            "“NAs introduced by coercion”\n"
          ]
        },
        {
          "output_type": "display_data",
          "data": {
            "text/plain": [
              "node), split, n, deviance, yval, (yprob)\n",
              "      * denotes terminal node\n",
              "\n",
              "1) root 471079 707900 0 ( 7.821e-01 1.455e-01 4.253e-02 1.681e-02 6.729e-03 3.186e-03 1.465e-03 4.904e-04 4.904e-04 1.401e-04 1.635e-04 7.005e-05 1.613e-04 5.095e-05 2.972e-05 6.368e-05 4.246e-05 ) *"
            ]
          },
          "metadata": {}
        },
        {
          "output_type": "stream",
          "name": "stderr",
          "text": [
            "Warning message in pred1.tree(object, tree.matrix(newdata)):\n",
            "“NAs introduced by coercion”\n"
          ]
        },
        {
          "output_type": "display_data",
          "data": {
            "text/plain": [
              "Confusion Matrix and Statistics\n",
              "\n",
              "    predic\n",
              "true      0      1      2      3      4      5      6      7      8      9\n",
              "  0  100624      0      0      0      0      0      0      0      0      0\n",
              "  1   18517      0      0      0      0      0      0      0      0      0\n",
              "  2    5421      0      0      0      0      0      0      0      0      0\n",
              "  3    2195      0      0      0      0      0      0      0      0      0\n",
              "  4     859      0      0      0      0      0      0      0      0      0\n",
              "  5     460      0      0      0      0      0      0      0      0      0\n",
              "  6     182      0      0      0      0      0      0      0      0      0\n",
              "  7      60      0      0      0      0      0      0      0      0      0\n",
              "  8      61      0      0      0      0      0      0      0      0      0\n",
              "  9      22      0      0      0      0      0      0      0      0      0\n",
              "  10     24      0      0      0      0      0      0      0      0      0\n",
              "  11      9      0      0      0      0      0      0      0      0      0\n",
              "  12     20      0      0      0      0      0      0      0      0      0\n",
              "  13      5      0      0      0      0      0      0      0      0      0\n",
              "  16      5      0      0      0      0      0      0      0      0      0\n",
              "  18      7      0      0      0      0      0      0      0      0      0\n",
              "  20      6      0      0      0      0      0      0      0      0      0\n",
              "    predic\n",
              "true     10     11     12     13     16     18     20\n",
              "  0       0      0      0      0      0      0      0\n",
              "  1       0      0      0      0      0      0      0\n",
              "  2       0      0      0      0      0      0      0\n",
              "  3       0      0      0      0      0      0      0\n",
              "  4       0      0      0      0      0      0      0\n",
              "  5       0      0      0      0      0      0      0\n",
              "  6       0      0      0      0      0      0      0\n",
              "  7       0      0      0      0      0      0      0\n",
              "  8       0      0      0      0      0      0      0\n",
              "  9       0      0      0      0      0      0      0\n",
              "  10      0      0      0      0      0      0      0\n",
              "  11      0      0      0      0      0      0      0\n",
              "  12      0      0      0      0      0      0      0\n",
              "  13      0      0      0      0      0      0      0\n",
              "  16      0      0      0      0      0      0      0\n",
              "  18      0      0      0      0      0      0      0\n",
              "  20      0      0      0      0      0      0      0\n",
              "\n",
              "Overall Statistics\n",
              "                                          \n",
              "               Accuracy : 0.7832          \n",
              "                 95% CI : (0.7809, 0.7855)\n",
              "    No Information Rate : 1               \n",
              "    P-Value [Acc > NIR] : 1               \n",
              "                                          \n",
              "                  Kappa : 0               \n",
              "                                          \n",
              " Mcnemar's Test P-Value : NA              \n",
              "\n",
              "Statistics by Class:\n",
              "\n",
              "                     Class: 0 Class: 1 Class: 2 Class: 3 Class: 4 Class: 5\n",
              "Sensitivity            0.7832       NA       NA       NA       NA       NA\n",
              "Specificity                NA   0.8559  0.95781  0.98292 0.993314  0.99642\n",
              "Pos Pred Value             NA       NA       NA       NA       NA       NA\n",
              "Neg Pred Value             NA       NA       NA       NA       NA       NA\n",
              "Prevalence             1.0000   0.0000  0.00000  0.00000 0.000000  0.00000\n",
              "Detection Rate         0.7832   0.0000  0.00000  0.00000 0.000000  0.00000\n",
              "Detection Prevalence   0.7832   0.1441  0.04219  0.01708 0.006686  0.00358\n",
              "Balanced Accuracy          NA       NA       NA       NA       NA       NA\n",
              "                     Class: 6 Class: 7  Class: 8  Class: 9 Class: 10 Class: 11\n",
              "Sensitivity                NA       NA        NA        NA        NA        NA\n",
              "Specificity          0.998583 0.999533 0.9995252 0.9998288 0.9998132 9.999e-01\n",
              "Pos Pred Value             NA       NA        NA        NA        NA        NA\n",
              "Neg Pred Value             NA       NA        NA        NA        NA        NA\n",
              "Prevalence           0.000000 0.000000 0.0000000 0.0000000 0.0000000 0.000e+00\n",
              "Detection Rate       0.000000 0.000000 0.0000000 0.0000000 0.0000000 0.000e+00\n",
              "Detection Prevalence 0.001417 0.000467 0.0004748 0.0001712 0.0001868 7.005e-05\n",
              "Balanced Accuracy          NA       NA        NA        NA        NA        NA\n",
              "                     Class: 12 Class: 13 Class: 16 Class: 18 Class: 20\n",
              "Sensitivity                 NA        NA        NA        NA        NA\n",
              "Specificity          0.9998443 1.000e+00 1.000e+00 9.999e-01  1.00e+00\n",
              "Pos Pred Value              NA        NA        NA        NA        NA\n",
              "Neg Pred Value              NA        NA        NA        NA        NA\n",
              "Prevalence           0.0000000 0.000e+00 0.000e+00 0.000e+00  0.00e+00\n",
              "Detection Rate       0.0000000 0.000e+00 0.000e+00 0.000e+00  0.00e+00\n",
              "Detection Prevalence 0.0001557 3.892e-05 3.892e-05 5.448e-05  4.67e-05\n",
              "Balanced Accuracy           NA        NA        NA        NA        NA"
            ]
          },
          "metadata": {}
        }
      ]
    },
    {
      "cell_type": "code",
      "source": [
        "data2=head(data1,700000)\n",
        "## Data pre-processing\n",
        "data2 = subset(data2, select = -c(CONTRIBUTING.FACTOR.VEHICLE.1,LATITUDE,LONGITUDE,wind_deg,temp_min,temp_max,dew_point,CONTRIBUTING.FACTOR.VEHICLE.2,COLLISION_ID,X,VEHICLE.TYPE.CODE.1,VEHICLE.TYPE.CODE.2,ON.STREET.NAME,CROSS.STREET.NAME,OFF.STREET.NAME, VEHICLE_ID,weather_id,clouds_all,rain_1h,wind_gust,weather_icon,rain_3h,snow_3h,sea_level,grnd_level,snow_1h) )\n",
        "names(data2)[names(data2) == \"KILLED.INJURED\"] <- \"KILLED_INJURED\"\n",
        "colSums(is.na(data2))\n",
        "data2$CRASH_DATE=as.Date(data2$CRASH_DATE, format = \"%Y-%m-%d\")\n",
        "nrow(data2)\n",
        "data2=data2[!is.na(data2$visibility),]\n",
        "nrow(data2)\n",
        "data2=data2[!is.na(data2$KILLED_INJURED),]\n",
        "data2$KILLED_INJURED <- as.factor(data2$KILLED_INJURED)\n",
        "nrow(data2)\n",
        "nrow(data2)\n",
        "data2$weather_main <- as.factor(data2$weather_main)\n",
        "data2$weather_description <- as.factor(data2$weather_description)\n",
        "data2$PERSON_SEX <- as.factor(data2$PERSON_SEX)\n",
        "data2$WEEKDAY <- as.factor(data2$WEEKDAY)\n",
        "set.seed(1)\n",
        "sample = sample.split(data2, SplitRatio = 0.80)\n",
        "training = subset(data2, sample == TRUE)\n",
        "test = subset(data2, sample == FALSE)\n",
        "rm(sample)\n",
        "str(training)\n",
        "str(test)\n",
        "tree.brea=tree(KILLED_INJURED~., data=training)\n",
        "tree.brea\n",
        "pred=predict(tree.brea,test,type=\"class\")\n",
        "cm=table(true=test$KILLED_INJURED,predic=pred)\n",
        "confusionMatrix(cm)"
      ],
      "metadata": {
        "colab": {
          "base_uri": "https://localhost:8080/",
          "height": 1000
        },
        "id": "g2bsPUNCE4Wf",
        "outputId": "fa4b0284-00a6-4bc0-9d19-1e18884c9783"
      },
      "execution_count": null,
      "outputs": [
        {
          "output_type": "display_data",
          "data": {
            "text/html": [
              "<style>\n",
              ".dl-inline {width: auto; margin:0; padding: 0}\n",
              ".dl-inline>dt, .dl-inline>dd {float: none; width: auto; display: inline-block}\n",
              ".dl-inline>dt::after {content: \":\\0020\"; padding-right: .5ex}\n",
              ".dl-inline>dt:not(:first-of-type) {padding-left: .5ex}\n",
              "</style><dl class=dl-inline><dt>CRASH_DATE</dt><dd>0</dd><dt>CRASH_TIME</dt><dd>0</dd><dt>PERSON_AGE</dt><dd>0</dd><dt>PERSON_SEX</dt><dd>0</dd><dt>KILLED_INJURED</dt><dd>2</dd><dt>WEEKDAY</dt><dd>0</dd><dt>Holiday</dt><dd>0</dd><dt>temp</dt><dd>0</dd><dt>visibility</dt><dd>815</dd><dt>pressure</dt><dd>0</dd><dt>humidity</dt><dd>0</dd><dt>wind_speed</dt><dd>0</dd><dt>weather_main</dt><dd>0</dd><dt>weather_description</dt><dd>0</dd></dl>\n"
            ],
            "text/markdown": "CRASH_DATE\n:   0CRASH_TIME\n:   0PERSON_AGE\n:   0PERSON_SEX\n:   0KILLED_INJURED\n:   2WEEKDAY\n:   0Holiday\n:   0temp\n:   0visibility\n:   815pressure\n:   0humidity\n:   0wind_speed\n:   0weather_main\n:   0weather_description\n:   0\n\n",
            "text/latex": "\\begin{description*}\n\\item[CRASH\\textbackslash{}\\_DATE] 0\n\\item[CRASH\\textbackslash{}\\_TIME] 0\n\\item[PERSON\\textbackslash{}\\_AGE] 0\n\\item[PERSON\\textbackslash{}\\_SEX] 0\n\\item[KILLED\\textbackslash{}\\_INJURED] 2\n\\item[WEEKDAY] 0\n\\item[Holiday] 0\n\\item[temp] 0\n\\item[visibility] 815\n\\item[pressure] 0\n\\item[humidity] 0\n\\item[wind\\textbackslash{}\\_speed] 0\n\\item[weather\\textbackslash{}\\_main] 0\n\\item[weather\\textbackslash{}\\_description] 0\n\\end{description*}\n",
            "text/plain": [
              "         CRASH_DATE          CRASH_TIME          PERSON_AGE          PERSON_SEX \n",
              "                  0                   0                   0                   0 \n",
              "     KILLED_INJURED             WEEKDAY             Holiday                temp \n",
              "                  2                   0                   0                   0 \n",
              "         visibility            pressure            humidity          wind_speed \n",
              "                815                   0                   0                   0 \n",
              "       weather_main weather_description \n",
              "                  0                   0 "
            ]
          },
          "metadata": {}
        },
        {
          "output_type": "display_data",
          "data": {
            "text/html": [
              "700000"
            ],
            "text/markdown": "700000",
            "text/latex": "700000",
            "text/plain": [
              "[1] 700000"
            ]
          },
          "metadata": {}
        },
        {
          "output_type": "display_data",
          "data": {
            "text/html": [
              "699185"
            ],
            "text/markdown": "699185",
            "text/latex": "699185",
            "text/plain": [
              "[1] 699185"
            ]
          },
          "metadata": {}
        },
        {
          "output_type": "display_data",
          "data": {
            "text/html": [
              "699183"
            ],
            "text/markdown": "699183",
            "text/latex": "699183",
            "text/plain": [
              "[1] 699183"
            ]
          },
          "metadata": {}
        },
        {
          "output_type": "display_data",
          "data": {
            "text/html": [
              "699183"
            ],
            "text/markdown": "699183",
            "text/latex": "699183",
            "text/plain": [
              "[1] 699183"
            ]
          },
          "metadata": {}
        },
        {
          "output_type": "stream",
          "name": "stdout",
          "text": [
            "'data.frame':\t549357 obs. of  14 variables:\n",
            " $ CRASH_DATE         : Date, format: \"2019-10-25\" \"2019-10-25\" ...\n",
            " $ CRASH_TIME         : int  15 15 15 15 15 15 15 15 15 15 ...\n",
            " $ PERSON_AGE         : num  33 82 33 82 42 51 51 17 42 37 ...\n",
            " $ PERSON_SEX         : Factor w/ 2 levels \"F\",\"M\": 1 2 2 2 2 2 2 2 2 2 ...\n",
            " $ KILLED_INJURED     : Factor w/ 18 levels \"0\",\"1\",\"2\",\"3\",..: 1 1 1 1 1 1 1 1 1 1 ...\n",
            " $ WEEKDAY            : Factor w/ 7 levels \"Friday\",\"Monday\",..: 1 1 1 1 1 1 1 1 1 1 ...\n",
            " $ Holiday            : chr  \"False\" \"False\" \"False\" \"False\" ...\n",
            " $ temp               : num  14.5 14.5 14.5 14.5 14.5 ...\n",
            " $ visibility         : num  10000 10000 10000 10000 10000 10000 10000 10000 10000 10000 ...\n",
            " $ pressure           : int  1027 1027 1027 1027 1027 1027 1027 1027 1027 1027 ...\n",
            " $ humidity           : int  63 63 63 63 63 63 63 63 63 63 ...\n",
            " $ wind_speed         : num  2.1 2.1 2.1 2.1 2.1 2.1 2.1 2.1 2.1 2.1 ...\n",
            " $ weather_main       : Factor w/ 11 levels \"Clear\",\"Clouds\",..: 1 1 1 1 1 1 1 1 1 1 ...\n",
            " $ weather_description: Factor w/ 24 levels \"broken clouds\",..: 17 17 17 17 17 17 17 17 17 17 ...\n",
            "'data.frame':\t149826 obs. of  14 variables:\n",
            " $ CRASH_DATE         : Date, format: \"2019-10-25\" \"2019-10-25\" ...\n",
            " $ CRASH_TIME         : int  15 15 15 15 15 15 15 15 15 15 ...\n",
            " $ PERSON_AGE         : num  33 42 42 56 30 65 25 43 38 49 ...\n",
            " $ PERSON_SEX         : Factor w/ 2 levels \"F\",\"M\": 2 2 2 2 2 2 1 1 2 1 ...\n",
            " $ KILLED_INJURED     : Factor w/ 18 levels \"0\",\"1\",\"2\",\"3\",..: 1 1 1 1 1 1 2 1 1 1 ...\n",
            " $ WEEKDAY            : Factor w/ 7 levels \"Friday\",\"Monday\",..: 1 1 1 1 1 1 1 1 1 1 ...\n",
            " $ Holiday            : chr  \"False\" \"False\" \"False\" \"False\" ...\n",
            " $ temp               : num  14.5 14.5 14.5 14.5 14.5 ...\n",
            " $ visibility         : num  10000 10000 10000 10000 10000 10000 10000 10000 10000 10000 ...\n",
            " $ pressure           : int  1027 1027 1027 1027 1027 1027 1027 1027 1027 1027 ...\n",
            " $ humidity           : int  63 63 63 63 63 63 63 63 63 63 ...\n",
            " $ wind_speed         : num  2.1 2.1 2.1 2.1 2.1 2.1 2.1 2.1 2.1 2.1 ...\n",
            " $ weather_main       : Factor w/ 11 levels \"Clear\",\"Clouds\",..: 1 1 1 1 1 1 1 1 1 1 ...\n",
            " $ weather_description: Factor w/ 24 levels \"broken clouds\",..: 17 17 17 17 17 17 17 17 17 17 ...\n"
          ]
        },
        {
          "output_type": "stream",
          "name": "stderr",
          "text": [
            "Warning message in tree(KILLED_INJURED ~ ., data = training):\n",
            "“NAs introduced by coercion”\n"
          ]
        },
        {
          "output_type": "display_data",
          "data": {
            "text/plain": [
              "node), split, n, deviance, yval, (yprob)\n",
              "      * denotes terminal node\n",
              "\n",
              "1) root 549357 827400 0 ( 7.816e-01 1.458e-01 4.235e-02 1.672e-02 6.852e-03 3.369e-03 1.544e-03 5.661e-04 4.387e-04 1.420e-04 1.402e-04 8.009e-05 1.438e-04 4.369e-05 2.184e-05 2.548e-05 5.461e-05 4.369e-05 ) *"
            ]
          },
          "metadata": {}
        },
        {
          "output_type": "stream",
          "name": "stderr",
          "text": [
            "Warning message in pred1.tree(object, tree.matrix(newdata)):\n",
            "“NAs introduced by coercion”\n"
          ]
        },
        {
          "output_type": "display_data",
          "data": {
            "text/plain": [
              "Confusion Matrix and Statistics\n",
              "\n",
              "    predic\n",
              "true      0      1      2      3      4      5      6      7      8      9\n",
              "  0  117315      0      0      0      0      0      0      0      0      0\n",
              "  1   21694      0      0      0      0      0      0      0      0      0\n",
              "  2    6195      0      0      0      0      0      0      0      0      0\n",
              "  3    2560      0      0      0      0      0      0      0      0      0\n",
              "  4    1023      0      0      0      0      0      0      0      0      0\n",
              "  5     552      0      0      0      0      0      0      0      0      0\n",
              "  6     224      0      0      0      0      0      0      0      0      0\n",
              "  7      83      0      0      0      0      0      0      0      0      0\n",
              "  8      64      0      0      0      0      0      0      0      0      0\n",
              "  9      27      0      0      0      0      0      0      0      0      0\n",
              "  10     24      0      0      0      0      0      0      0      0      0\n",
              "  11     12      0      0      0      0      0      0      0      0      0\n",
              "  12     23      0      0      0      0      0      0      0      0      0\n",
              "  13      5      0      0      0      0      0      0      0      0      0\n",
              "  15      4      0      0      0      0      0      0      0      0      0\n",
              "  16      5      0      0      0      0      0      0      0      0      0\n",
              "  18      7      0      0      0      0      0      0      0      0      0\n",
              "  20      9      0      0      0      0      0      0      0      0      0\n",
              "    predic\n",
              "true     10     11     12     13     15     16     18     20\n",
              "  0       0      0      0      0      0      0      0      0\n",
              "  1       0      0      0      0      0      0      0      0\n",
              "  2       0      0      0      0      0      0      0      0\n",
              "  3       0      0      0      0      0      0      0      0\n",
              "  4       0      0      0      0      0      0      0      0\n",
              "  5       0      0      0      0      0      0      0      0\n",
              "  6       0      0      0      0      0      0      0      0\n",
              "  7       0      0      0      0      0      0      0      0\n",
              "  8       0      0      0      0      0      0      0      0\n",
              "  9       0      0      0      0      0      0      0      0\n",
              "  10      0      0      0      0      0      0      0      0\n",
              "  11      0      0      0      0      0      0      0      0\n",
              "  12      0      0      0      0      0      0      0      0\n",
              "  13      0      0      0      0      0      0      0      0\n",
              "  15      0      0      0      0      0      0      0      0\n",
              "  16      0      0      0      0      0      0      0      0\n",
              "  18      0      0      0      0      0      0      0      0\n",
              "  20      0      0      0      0      0      0      0      0\n",
              "\n",
              "Overall Statistics\n",
              "                                          \n",
              "               Accuracy : 0.783           \n",
              "                 95% CI : (0.7809, 0.7851)\n",
              "    No Information Rate : 1               \n",
              "    P-Value [Acc > NIR] : 1               \n",
              "                                          \n",
              "                  Kappa : 0               \n",
              "                                          \n",
              " Mcnemar's Test P-Value : NA              \n",
              "\n",
              "Statistics by Class:\n",
              "\n",
              "                     Class: 0 Class: 1 Class: 2 Class: 3 Class: 4 Class: 5\n",
              "Sensitivity             0.783       NA       NA       NA       NA       NA\n",
              "Specificity                NA   0.8552  0.95865  0.98291 0.993172 0.996316\n",
              "Pos Pred Value             NA       NA       NA       NA       NA       NA\n",
              "Neg Pred Value             NA       NA       NA       NA       NA       NA\n",
              "Prevalence              1.000   0.0000  0.00000  0.00000 0.000000 0.000000\n",
              "Detection Rate          0.783   0.0000  0.00000  0.00000 0.000000 0.000000\n",
              "Detection Prevalence    0.783   0.1448  0.04135  0.01709 0.006828 0.003684\n",
              "Balanced Accuracy          NA       NA       NA       NA       NA       NA\n",
              "                     Class: 6 Class: 7  Class: 8  Class: 9 Class: 10 Class: 11\n",
              "Sensitivity                NA       NA        NA        NA        NA        NA\n",
              "Specificity          0.998505 0.999446 0.9995728 0.9998198 0.9998398 9.999e-01\n",
              "Pos Pred Value             NA       NA        NA        NA        NA        NA\n",
              "Neg Pred Value             NA       NA        NA        NA        NA        NA\n",
              "Prevalence           0.000000 0.000000 0.0000000 0.0000000 0.0000000 0.000e+00\n",
              "Detection Rate       0.000000 0.000000 0.0000000 0.0000000 0.0000000 0.000e+00\n",
              "Detection Prevalence 0.001495 0.000554 0.0004272 0.0001802 0.0001602 8.009e-05\n",
              "Balanced Accuracy          NA       NA        NA        NA        NA        NA\n",
              "                     Class: 12 Class: 13 Class: 15 Class: 16 Class: 18\n",
              "Sensitivity                 NA        NA        NA        NA        NA\n",
              "Specificity          0.9998465 1.000e+00  1.00e+00 1.000e+00 1.000e+00\n",
              "Pos Pred Value              NA        NA        NA        NA        NA\n",
              "Neg Pred Value              NA        NA        NA        NA        NA\n",
              "Prevalence           0.0000000 0.000e+00  0.00e+00 0.000e+00 0.000e+00\n",
              "Detection Rate       0.0000000 0.000e+00  0.00e+00 0.000e+00 0.000e+00\n",
              "Detection Prevalence 0.0001535 3.337e-05  2.67e-05 3.337e-05 4.672e-05\n",
              "Balanced Accuracy           NA        NA        NA        NA        NA\n",
              "                     Class: 20\n",
              "Sensitivity                 NA\n",
              "Specificity          9.999e-01\n",
              "Pos Pred Value              NA\n",
              "Neg Pred Value              NA\n",
              "Prevalence           0.000e+00\n",
              "Detection Rate       0.000e+00\n",
              "Detection Prevalence 6.007e-05\n",
              "Balanced Accuracy           NA"
            ]
          },
          "metadata": {}
        }
      ]
    },
    {
      "cell_type": "code",
      "source": [
        "data2=head(data1,800000)\n",
        "## Data pre-processing\n",
        "data2 = subset(data2, select = -c(CONTRIBUTING.FACTOR.VEHICLE.1,LATITUDE,LONGITUDE,wind_deg,temp_min,temp_max,dew_point,CONTRIBUTING.FACTOR.VEHICLE.2,COLLISION_ID,X,VEHICLE.TYPE.CODE.1,VEHICLE.TYPE.CODE.2,ON.STREET.NAME,CROSS.STREET.NAME,OFF.STREET.NAME, VEHICLE_ID,weather_id,clouds_all,rain_1h,wind_gust,weather_icon,rain_3h,snow_3h,sea_level,grnd_level,snow_1h) )\n",
        "names(data2)[names(data2) == \"KILLED.INJURED\"] <- \"KILLED_INJURED\"\n",
        "colSums(is.na(data2))\n",
        "data2$CRASH_DATE=as.Date(data2$CRASH_DATE, format = \"%Y-%m-%d\")\n",
        "nrow(data2)\n",
        "data2=data2[!is.na(data2$visibility),]\n",
        "nrow(data2)\n",
        "data2=data2[!is.na(data2$KILLED_INJURED),]\n",
        "data2$KILLED_INJURED <- as.factor(data2$KILLED_INJURED)\n",
        "nrow(data2)\n",
        "nrow(data2)\n",
        "data2$weather_main <- as.factor(data2$weather_main)\n",
        "data2$weather_description <- as.factor(data2$weather_description)\n",
        "data2$PERSON_SEX <- as.factor(data2$PERSON_SEX)\n",
        "data2$WEEKDAY <- as.factor(data2$WEEKDAY)\n",
        "set.seed(1)\n",
        "sample = sample.split(data2, SplitRatio = 0.80)\n",
        "training = subset(data2, sample == TRUE)\n",
        "test = subset(data2, sample == FALSE)\n",
        "rm(sample)\n",
        "str(training)\n",
        "str(test)\n",
        "tree.brea=tree(KILLED_INJURED~., data=training)\n",
        "tree.brea\n",
        "pred=predict(tree.brea,test,type=\"class\")\n",
        "cm=table(true=test$KILLED_INJURED,predic=pred)\n",
        "confusionMatrix(cm)"
      ],
      "metadata": {
        "colab": {
          "base_uri": "https://localhost:8080/",
          "height": 1000
        },
        "id": "IZ8W-LyfE6oc",
        "outputId": "365ce39d-221f-40d2-aac0-17ad4f4effae"
      },
      "execution_count": null,
      "outputs": [
        {
          "output_type": "display_data",
          "data": {
            "text/html": [
              "<style>\n",
              ".dl-inline {width: auto; margin:0; padding: 0}\n",
              ".dl-inline>dt, .dl-inline>dd {float: none; width: auto; display: inline-block}\n",
              ".dl-inline>dt::after {content: \":\\0020\"; padding-right: .5ex}\n",
              ".dl-inline>dt:not(:first-of-type) {padding-left: .5ex}\n",
              "</style><dl class=dl-inline><dt>CRASH_DATE</dt><dd>0</dd><dt>CRASH_TIME</dt><dd>0</dd><dt>PERSON_AGE</dt><dd>0</dd><dt>PERSON_SEX</dt><dd>0</dd><dt>KILLED_INJURED</dt><dd>4</dd><dt>WEEKDAY</dt><dd>0</dd><dt>Holiday</dt><dd>0</dd><dt>temp</dt><dd>0</dd><dt>visibility</dt><dd>933</dd><dt>pressure</dt><dd>0</dd><dt>humidity</dt><dd>0</dd><dt>wind_speed</dt><dd>0</dd><dt>weather_main</dt><dd>0</dd><dt>weather_description</dt><dd>0</dd></dl>\n"
            ],
            "text/markdown": "CRASH_DATE\n:   0CRASH_TIME\n:   0PERSON_AGE\n:   0PERSON_SEX\n:   0KILLED_INJURED\n:   4WEEKDAY\n:   0Holiday\n:   0temp\n:   0visibility\n:   933pressure\n:   0humidity\n:   0wind_speed\n:   0weather_main\n:   0weather_description\n:   0\n\n",
            "text/latex": "\\begin{description*}\n\\item[CRASH\\textbackslash{}\\_DATE] 0\n\\item[CRASH\\textbackslash{}\\_TIME] 0\n\\item[PERSON\\textbackslash{}\\_AGE] 0\n\\item[PERSON\\textbackslash{}\\_SEX] 0\n\\item[KILLED\\textbackslash{}\\_INJURED] 4\n\\item[WEEKDAY] 0\n\\item[Holiday] 0\n\\item[temp] 0\n\\item[visibility] 933\n\\item[pressure] 0\n\\item[humidity] 0\n\\item[wind\\textbackslash{}\\_speed] 0\n\\item[weather\\textbackslash{}\\_main] 0\n\\item[weather\\textbackslash{}\\_description] 0\n\\end{description*}\n",
            "text/plain": [
              "         CRASH_DATE          CRASH_TIME          PERSON_AGE          PERSON_SEX \n",
              "                  0                   0                   0                   0 \n",
              "     KILLED_INJURED             WEEKDAY             Holiday                temp \n",
              "                  4                   0                   0                   0 \n",
              "         visibility            pressure            humidity          wind_speed \n",
              "                933                   0                   0                   0 \n",
              "       weather_main weather_description \n",
              "                  0                   0 "
            ]
          },
          "metadata": {}
        },
        {
          "output_type": "display_data",
          "data": {
            "text/html": [
              "800000"
            ],
            "text/markdown": "800000",
            "text/latex": "800000",
            "text/plain": [
              "[1] 800000"
            ]
          },
          "metadata": {}
        },
        {
          "output_type": "display_data",
          "data": {
            "text/html": [
              "799067"
            ],
            "text/markdown": "799067",
            "text/latex": "799067",
            "text/plain": [
              "[1] 799067"
            ]
          },
          "metadata": {}
        },
        {
          "output_type": "display_data",
          "data": {
            "text/html": [
              "799063"
            ],
            "text/markdown": "799063",
            "text/latex": "799063",
            "text/plain": [
              "[1] 799063"
            ]
          },
          "metadata": {}
        },
        {
          "output_type": "display_data",
          "data": {
            "text/html": [
              "799063"
            ],
            "text/markdown": "799063",
            "text/latex": "799063",
            "text/plain": [
              "[1] 799063"
            ]
          },
          "metadata": {}
        },
        {
          "output_type": "stream",
          "name": "stdout",
          "text": [
            "'data.frame':\t627835 obs. of  14 variables:\n",
            " $ CRASH_DATE         : Date, format: \"2019-10-25\" \"2019-10-25\" ...\n",
            " $ CRASH_TIME         : int  15 15 15 15 15 15 15 15 15 15 ...\n",
            " $ PERSON_AGE         : num  33 82 33 82 42 51 51 17 42 37 ...\n",
            " $ PERSON_SEX         : Factor w/ 2 levels \"F\",\"M\": 1 2 2 2 2 2 2 2 2 2 ...\n",
            " $ KILLED_INJURED     : Factor w/ 18 levels \"0\",\"1\",\"2\",\"3\",..: 1 1 1 1 1 1 1 1 1 1 ...\n",
            " $ WEEKDAY            : Factor w/ 7 levels \"Friday\",\"Monday\",..: 1 1 1 1 1 1 1 1 1 1 ...\n",
            " $ Holiday            : chr  \"False\" \"False\" \"False\" \"False\" ...\n",
            " $ temp               : num  14.5 14.5 14.5 14.5 14.5 ...\n",
            " $ visibility         : num  10000 10000 10000 10000 10000 10000 10000 10000 10000 10000 ...\n",
            " $ pressure           : int  1027 1027 1027 1027 1027 1027 1027 1027 1027 1027 ...\n",
            " $ humidity           : int  63 63 63 63 63 63 63 63 63 63 ...\n",
            " $ wind_speed         : num  2.1 2.1 2.1 2.1 2.1 2.1 2.1 2.1 2.1 2.1 ...\n",
            " $ weather_main       : Factor w/ 11 levels \"Clear\",\"Clouds\",..: 1 1 1 1 1 1 1 1 1 1 ...\n",
            " $ weather_description: Factor w/ 24 levels \"broken clouds\",..: 17 17 17 17 17 17 17 17 17 17 ...\n",
            "'data.frame':\t171228 obs. of  14 variables:\n",
            " $ CRASH_DATE         : Date, format: \"2019-10-25\" \"2019-10-25\" ...\n",
            " $ CRASH_TIME         : int  15 15 15 15 15 15 15 15 15 15 ...\n",
            " $ PERSON_AGE         : num  33 42 42 56 30 65 25 43 38 49 ...\n",
            " $ PERSON_SEX         : Factor w/ 2 levels \"F\",\"M\": 2 2 2 2 2 2 1 1 2 1 ...\n",
            " $ KILLED_INJURED     : Factor w/ 18 levels \"0\",\"1\",\"2\",\"3\",..: 1 1 1 1 1 1 2 1 1 1 ...\n",
            " $ WEEKDAY            : Factor w/ 7 levels \"Friday\",\"Monday\",..: 1 1 1 1 1 1 1 1 1 1 ...\n",
            " $ Holiday            : chr  \"False\" \"False\" \"False\" \"False\" ...\n",
            " $ temp               : num  14.5 14.5 14.5 14.5 14.5 ...\n",
            " $ visibility         : num  10000 10000 10000 10000 10000 10000 10000 10000 10000 10000 ...\n",
            " $ pressure           : int  1027 1027 1027 1027 1027 1027 1027 1027 1027 1027 ...\n",
            " $ humidity           : int  63 63 63 63 63 63 63 63 63 63 ...\n",
            " $ wind_speed         : num  2.1 2.1 2.1 2.1 2.1 2.1 2.1 2.1 2.1 2.1 ...\n",
            " $ weather_main       : Factor w/ 11 levels \"Clear\",\"Clouds\",..: 1 1 1 1 1 1 1 1 1 1 ...\n",
            " $ weather_description: Factor w/ 24 levels \"broken clouds\",..: 17 17 17 17 17 17 17 17 17 17 ...\n"
          ]
        },
        {
          "output_type": "stream",
          "name": "stderr",
          "text": [
            "Warning message in tree(KILLED_INJURED ~ ., data = training):\n",
            "“NAs introduced by coercion”\n"
          ]
        },
        {
          "output_type": "display_data",
          "data": {
            "text/plain": [
              "node), split, n, deviance, yval, (yprob)\n",
              "      * denotes terminal node\n",
              "\n",
              "1) root 627835 943500 0 ( 7.821e-01 1.456e-01 4.218e-02 1.677e-02 6.823e-03 3.394e-03 1.492e-03 5.607e-04 3.934e-04 1.242e-04 1.370e-04 8.123e-05 1.418e-04 3.823e-05 1.911e-05 4.778e-05 4.778e-05 3.823e-05 ) *"
            ]
          },
          "metadata": {}
        },
        {
          "output_type": "stream",
          "name": "stderr",
          "text": [
            "Warning message in pred1.tree(object, tree.matrix(newdata)):\n",
            "“NAs introduced by coercion”\n"
          ]
        },
        {
          "output_type": "display_data",
          "data": {
            "text/plain": [
              "Confusion Matrix and Statistics\n",
              "\n",
              "    predic\n",
              "true      0      1      2      3      4      5      6      7      8      9\n",
              "  0  134098      0      0      0      0      0      0      0      0      0\n",
              "  1   24804      0      0      0      0      0      0      0      0      0\n",
              "  2    7062      0      0      0      0      0      0      0      0      0\n",
              "  3    2928      0      0      0      0      0      0      0      0      0\n",
              "  4    1163      0      0      0      0      0      0      0      0      0\n",
              "  5     625      0      0      0      0      0      0      0      0      0\n",
              "  6     257      0      0      0      0      0      0      0      0      0\n",
              "  7      90      0      0      0      0      0      0      0      0      0\n",
              "  8      69      0      0      0      0      0      0      0      0      0\n",
              "  9      27      0      0      0      0      0      0      0      0      0\n",
              "  10     28      0      0      0      0      0      0      0      0      0\n",
              "  11     15      0      0      0      0      0      0      0      0      0\n",
              "  12     26      0      0      0      0      0      0      0      0      0\n",
              "  13      5      0      0      0      0      0      0      0      0      0\n",
              "  15      4      0      0      0      0      0      0      0      0      0\n",
              "  16     11      0      0      0      0      0      0      0      0      0\n",
              "  18      7      0      0      0      0      0      0      0      0      0\n",
              "  20      9      0      0      0      0      0      0      0      0      0\n",
              "    predic\n",
              "true     10     11     12     13     15     16     18     20\n",
              "  0       0      0      0      0      0      0      0      0\n",
              "  1       0      0      0      0      0      0      0      0\n",
              "  2       0      0      0      0      0      0      0      0\n",
              "  3       0      0      0      0      0      0      0      0\n",
              "  4       0      0      0      0      0      0      0      0\n",
              "  5       0      0      0      0      0      0      0      0\n",
              "  6       0      0      0      0      0      0      0      0\n",
              "  7       0      0      0      0      0      0      0      0\n",
              "  8       0      0      0      0      0      0      0      0\n",
              "  9       0      0      0      0      0      0      0      0\n",
              "  10      0      0      0      0      0      0      0      0\n",
              "  11      0      0      0      0      0      0      0      0\n",
              "  12      0      0      0      0      0      0      0      0\n",
              "  13      0      0      0      0      0      0      0      0\n",
              "  15      0      0      0      0      0      0      0      0\n",
              "  16      0      0      0      0      0      0      0      0\n",
              "  18      0      0      0      0      0      0      0      0\n",
              "  20      0      0      0      0      0      0      0      0\n",
              "\n",
              "Overall Statistics\n",
              "                                          \n",
              "               Accuracy : 0.7832          \n",
              "                 95% CI : (0.7812, 0.7851)\n",
              "    No Information Rate : 1               \n",
              "    P-Value [Acc > NIR] : 1               \n",
              "                                          \n",
              "                  Kappa : 0               \n",
              "                                          \n",
              " Mcnemar's Test P-Value : NA              \n",
              "\n",
              "Statistics by Class:\n",
              "\n",
              "                     Class: 0 Class: 1 Class: 2 Class: 3 Class: 4 Class: 5\n",
              "Sensitivity            0.7832       NA       NA       NA       NA       NA\n",
              "Specificity                NA   0.8551  0.95876   0.9829 0.993208  0.99635\n",
              "Pos Pred Value             NA       NA       NA       NA       NA       NA\n",
              "Neg Pred Value             NA       NA       NA       NA       NA       NA\n",
              "Prevalence             1.0000   0.0000  0.00000   0.0000 0.000000  0.00000\n",
              "Detection Rate         0.7832   0.0000  0.00000   0.0000 0.000000  0.00000\n",
              "Detection Prevalence   0.7832   0.1449  0.04124   0.0171 0.006792  0.00365\n",
              "Balanced Accuracy          NA       NA       NA       NA       NA       NA\n",
              "                     Class: 6  Class: 7 Class: 8  Class: 9 Class: 10 Class: 11\n",
              "Sensitivity                NA        NA       NA        NA        NA        NA\n",
              "Specificity          0.998499 0.9994744 0.999597 0.9998423 0.9998365 0.9999124\n",
              "Pos Pred Value             NA        NA       NA        NA        NA        NA\n",
              "Neg Pred Value             NA        NA       NA        NA        NA        NA\n",
              "Prevalence           0.000000 0.0000000 0.000000 0.0000000 0.0000000 0.0000000\n",
              "Detection Rate       0.000000 0.0000000 0.000000 0.0000000 0.0000000 0.0000000\n",
              "Detection Prevalence 0.001501 0.0005256 0.000403 0.0001577 0.0001635 0.0000876\n",
              "Balanced Accuracy          NA        NA       NA        NA        NA        NA\n",
              "                     Class: 12 Class: 13 Class: 15 Class: 16 Class: 18\n",
              "Sensitivity                 NA        NA        NA        NA        NA\n",
              "Specificity          0.9998482  1.00e+00 1.000e+00 9.999e-01 1.000e+00\n",
              "Pos Pred Value              NA        NA        NA        NA        NA\n",
              "Neg Pred Value              NA        NA        NA        NA        NA\n",
              "Prevalence           0.0000000  0.00e+00 0.000e+00 0.000e+00 0.000e+00\n",
              "Detection Rate       0.0000000  0.00e+00 0.000e+00 0.000e+00 0.000e+00\n",
              "Detection Prevalence 0.0001518  2.92e-05 2.336e-05 6.424e-05 4.088e-05\n",
              "Balanced Accuracy           NA        NA        NA        NA        NA\n",
              "                     Class: 20\n",
              "Sensitivity                 NA\n",
              "Specificity          9.999e-01\n",
              "Pos Pred Value              NA\n",
              "Neg Pred Value              NA\n",
              "Prevalence           0.000e+00\n",
              "Detection Rate       0.000e+00\n",
              "Detection Prevalence 5.256e-05\n",
              "Balanced Accuracy           NA"
            ]
          },
          "metadata": {}
        }
      ]
    },
    {
      "cell_type": "code",
      "source": [
        "data2=head(data1,900000)\n",
        "## Data pre-processing\n",
        "data2 = subset(data2, select = -c(CONTRIBUTING.FACTOR.VEHICLE.1,LATITUDE,LONGITUDE,wind_deg,temp_min,temp_max,dew_point,CONTRIBUTING.FACTOR.VEHICLE.2,COLLISION_ID,X,VEHICLE.TYPE.CODE.1,VEHICLE.TYPE.CODE.2,ON.STREET.NAME,CROSS.STREET.NAME,OFF.STREET.NAME, VEHICLE_ID,weather_id,clouds_all,rain_1h,wind_gust,weather_icon,rain_3h,snow_3h,sea_level,grnd_level,snow_1h) )\n",
        "names(data2)[names(data2) == \"KILLED.INJURED\"] <- \"KILLED_INJURED\"\n",
        "colSums(is.na(data2))\n",
        "data2$CRASH_DATE=as.Date(data2$CRASH_DATE, format = \"%Y-%m-%d\")\n",
        "nrow(data2)\n",
        "data2=data2[!is.na(data2$visibility),]\n",
        "nrow(data2)\n",
        "data2=data2[!is.na(data2$KILLED_INJURED),]\n",
        "data2$KILLED_INJURED <- as.factor(data2$KILLED_INJURED)\n",
        "nrow(data2)\n",
        "nrow(data2)\n",
        "data2$weather_main <- as.factor(data2$weather_main)\n",
        "data2$weather_description <- as.factor(data2$weather_description)\n",
        "data2$PERSON_SEX <- as.factor(data2$PERSON_SEX)\n",
        "data2$WEEKDAY <- as.factor(data2$WEEKDAY)\n",
        "set.seed(1)\n",
        "sample = sample.split(data2, SplitRatio = 0.80)\n",
        "training = subset(data2, sample == TRUE)\n",
        "test = subset(data2, sample == FALSE)\n",
        "rm(sample)\n",
        "str(training)\n",
        "str(test)\n",
        "tree.brea=tree(KILLED_INJURED~., data=training)\n",
        "tree.brea\n",
        "pred=predict(tree.brea,test,type=\"class\")\n",
        "cm=table(true=test$KILLED_INJURED,predic=pred)\n",
        "confusionMatrix(cm)"
      ],
      "metadata": {
        "colab": {
          "base_uri": "https://localhost:8080/",
          "height": 1000
        },
        "id": "Et87P9xQE8uu",
        "outputId": "1be9d13b-b54e-42e3-97c2-4f55811f0083"
      },
      "execution_count": null,
      "outputs": [
        {
          "output_type": "display_data",
          "data": {
            "text/html": [
              "<style>\n",
              ".dl-inline {width: auto; margin:0; padding: 0}\n",
              ".dl-inline>dt, .dl-inline>dd {float: none; width: auto; display: inline-block}\n",
              ".dl-inline>dt::after {content: \":\\0020\"; padding-right: .5ex}\n",
              ".dl-inline>dt:not(:first-of-type) {padding-left: .5ex}\n",
              "</style><dl class=dl-inline><dt>CRASH_DATE</dt><dd>0</dd><dt>CRASH_TIME</dt><dd>0</dd><dt>PERSON_AGE</dt><dd>0</dd><dt>PERSON_SEX</dt><dd>0</dd><dt>KILLED_INJURED</dt><dd>22</dd><dt>WEEKDAY</dt><dd>0</dd><dt>Holiday</dt><dd>0</dd><dt>temp</dt><dd>0</dd><dt>visibility</dt><dd>1106</dd><dt>pressure</dt><dd>0</dd><dt>humidity</dt><dd>0</dd><dt>wind_speed</dt><dd>0</dd><dt>weather_main</dt><dd>0</dd><dt>weather_description</dt><dd>0</dd></dl>\n"
            ],
            "text/markdown": "CRASH_DATE\n:   0CRASH_TIME\n:   0PERSON_AGE\n:   0PERSON_SEX\n:   0KILLED_INJURED\n:   22WEEKDAY\n:   0Holiday\n:   0temp\n:   0visibility\n:   1106pressure\n:   0humidity\n:   0wind_speed\n:   0weather_main\n:   0weather_description\n:   0\n\n",
            "text/latex": "\\begin{description*}\n\\item[CRASH\\textbackslash{}\\_DATE] 0\n\\item[CRASH\\textbackslash{}\\_TIME] 0\n\\item[PERSON\\textbackslash{}\\_AGE] 0\n\\item[PERSON\\textbackslash{}\\_SEX] 0\n\\item[KILLED\\textbackslash{}\\_INJURED] 22\n\\item[WEEKDAY] 0\n\\item[Holiday] 0\n\\item[temp] 0\n\\item[visibility] 1106\n\\item[pressure] 0\n\\item[humidity] 0\n\\item[wind\\textbackslash{}\\_speed] 0\n\\item[weather\\textbackslash{}\\_main] 0\n\\item[weather\\textbackslash{}\\_description] 0\n\\end{description*}\n",
            "text/plain": [
              "         CRASH_DATE          CRASH_TIME          PERSON_AGE          PERSON_SEX \n",
              "                  0                   0                   0                   0 \n",
              "     KILLED_INJURED             WEEKDAY             Holiday                temp \n",
              "                 22                   0                   0                   0 \n",
              "         visibility            pressure            humidity          wind_speed \n",
              "               1106                   0                   0                   0 \n",
              "       weather_main weather_description \n",
              "                  0                   0 "
            ]
          },
          "metadata": {}
        },
        {
          "output_type": "display_data",
          "data": {
            "text/html": [
              "900000"
            ],
            "text/markdown": "900000",
            "text/latex": "900000",
            "text/plain": [
              "[1] 900000"
            ]
          },
          "metadata": {}
        },
        {
          "output_type": "display_data",
          "data": {
            "text/html": [
              "898894"
            ],
            "text/markdown": "898894",
            "text/latex": "898894",
            "text/plain": [
              "[1] 898894"
            ]
          },
          "metadata": {}
        },
        {
          "output_type": "display_data",
          "data": {
            "text/html": [
              "898872"
            ],
            "text/markdown": "898872",
            "text/latex": "898872",
            "text/plain": [
              "[1] 898872"
            ]
          },
          "metadata": {}
        },
        {
          "output_type": "display_data",
          "data": {
            "text/html": [
              "898872"
            ],
            "text/markdown": "898872",
            "text/latex": "898872",
            "text/plain": [
              "[1] 898872"
            ]
          },
          "metadata": {}
        },
        {
          "output_type": "stream",
          "name": "stdout",
          "text": [
            "'data.frame':\t706257 obs. of  14 variables:\n",
            " $ CRASH_DATE         : Date, format: \"2019-10-25\" \"2019-10-25\" ...\n",
            " $ CRASH_TIME         : int  15 15 15 15 15 15 15 15 15 15 ...\n",
            " $ PERSON_AGE         : num  33 82 33 82 42 51 51 17 42 37 ...\n",
            " $ PERSON_SEX         : Factor w/ 2 levels \"F\",\"M\": 1 2 2 2 2 2 2 2 2 2 ...\n",
            " $ KILLED_INJURED     : Factor w/ 19 levels \"0\",\"1\",\"2\",\"3\",..: 1 1 1 1 1 1 1 1 1 1 ...\n",
            " $ WEEKDAY            : Factor w/ 7 levels \"Friday\",\"Monday\",..: 1 1 1 1 1 1 1 1 1 1 ...\n",
            " $ Holiday            : chr  \"False\" \"False\" \"False\" \"False\" ...\n",
            " $ temp               : num  14.5 14.5 14.5 14.5 14.5 ...\n",
            " $ visibility         : num  10000 10000 10000 10000 10000 10000 10000 10000 10000 10000 ...\n",
            " $ pressure           : int  1027 1027 1027 1027 1027 1027 1027 1027 1027 1027 ...\n",
            " $ humidity           : int  63 63 63 63 63 63 63 63 63 63 ...\n",
            " $ wind_speed         : num  2.1 2.1 2.1 2.1 2.1 2.1 2.1 2.1 2.1 2.1 ...\n",
            " $ weather_main       : Factor w/ 11 levels \"Clear\",\"Clouds\",..: 1 1 1 1 1 1 1 1 1 1 ...\n",
            " $ weather_description: Factor w/ 24 levels \"broken clouds\",..: 17 17 17 17 17 17 17 17 17 17 ...\n",
            "'data.frame':\t192615 obs. of  14 variables:\n",
            " $ CRASH_DATE         : Date, format: \"2019-10-25\" \"2019-10-25\" ...\n",
            " $ CRASH_TIME         : int  15 15 15 15 15 15 15 15 15 15 ...\n",
            " $ PERSON_AGE         : num  33 42 42 56 30 65 25 43 38 49 ...\n",
            " $ PERSON_SEX         : Factor w/ 2 levels \"F\",\"M\": 2 2 2 2 2 2 1 1 2 1 ...\n",
            " $ KILLED_INJURED     : Factor w/ 19 levels \"0\",\"1\",\"2\",\"3\",..: 1 1 1 1 1 1 2 1 1 1 ...\n",
            " $ WEEKDAY            : Factor w/ 7 levels \"Friday\",\"Monday\",..: 1 1 1 1 1 1 1 1 1 1 ...\n",
            " $ Holiday            : chr  \"False\" \"False\" \"False\" \"False\" ...\n",
            " $ temp               : num  14.5 14.5 14.5 14.5 14.5 ...\n",
            " $ visibility         : num  10000 10000 10000 10000 10000 10000 10000 10000 10000 10000 ...\n",
            " $ pressure           : int  1027 1027 1027 1027 1027 1027 1027 1027 1027 1027 ...\n",
            " $ humidity           : int  63 63 63 63 63 63 63 63 63 63 ...\n",
            " $ wind_speed         : num  2.1 2.1 2.1 2.1 2.1 2.1 2.1 2.1 2.1 2.1 ...\n",
            " $ weather_main       : Factor w/ 11 levels \"Clear\",\"Clouds\",..: 1 1 1 1 1 1 1 1 1 1 ...\n",
            " $ weather_description: Factor w/ 24 levels \"broken clouds\",..: 17 17 17 17 17 17 17 17 17 17 ...\n"
          ]
        },
        {
          "output_type": "stream",
          "name": "stderr",
          "text": [
            "Warning message in tree(KILLED_INJURED ~ ., data = training):\n",
            "“NAs introduced by coercion”\n"
          ]
        },
        {
          "output_type": "display_data",
          "data": {
            "text/plain": [
              "node), split, n, deviance, yval, (yprob)\n",
              "      * denotes terminal node\n",
              "\n",
              "1) root 706257 1060000 0 ( 7.824e-01 1.455e-01 4.209e-02 1.672e-02 6.796e-03 3.357e-03 1.475e-03 5.281e-04 4.007e-04 1.175e-04 1.373e-04 7.221e-05 1.260e-04 4.956e-05 1.699e-05 4.248e-05 2.832e-05 4.248e-05 3.398e-05 ) *"
            ]
          },
          "metadata": {}
        },
        {
          "output_type": "stream",
          "name": "stderr",
          "text": [
            "Warning message in pred1.tree(object, tree.matrix(newdata)):\n",
            "“NAs introduced by coercion”\n"
          ]
        },
        {
          "output_type": "display_data",
          "data": {
            "text/plain": [
              "Confusion Matrix and Statistics\n",
              "\n",
              "    predic\n",
              "true      0      1      2      3      4      5      6      7      8      9\n",
              "  0  150835      0      0      0      0      0      0      0      0      0\n",
              "  1   27936      0      0      0      0      0      0      0      0      0\n",
              "  2    7917      0      0      0      0      0      0      0      0      0\n",
              "  3    3282      0      0      0      0      0      0      0      0      0\n",
              "  4    1324      0      0      0      0      0      0      0      0      0\n",
              "  5     696      0      0      0      0      0      0      0      0      0\n",
              "  6     302      0      0      0      0      0      0      0      0      0\n",
              "  7      95      0      0      0      0      0      0      0      0      0\n",
              "  8      84      0      0      0      0      0      0      0      0      0\n",
              "  9      29      0      0      0      0      0      0      0      0      0\n",
              "  10     30      0      0      0      0      0      0      0      0      0\n",
              "  11     15      0      0      0      0      0      0      0      0      0\n",
              "  12     26      0      0      0      0      0      0      0      0      0\n",
              "  13      8      0      0      0      0      0      0      0      0      0\n",
              "  15      4      0      0      0      0      0      0      0      0      0\n",
              "  16     11      0      0      0      0      0      0      0      0      0\n",
              "  17      5      0      0      0      0      0      0      0      0      0\n",
              "  18      7      0      0      0      0      0      0      0      0      0\n",
              "  20      9      0      0      0      0      0      0      0      0      0\n",
              "    predic\n",
              "true     10     11     12     13     15     16     17     18     20\n",
              "  0       0      0      0      0      0      0      0      0      0\n",
              "  1       0      0      0      0      0      0      0      0      0\n",
              "  2       0      0      0      0      0      0      0      0      0\n",
              "  3       0      0      0      0      0      0      0      0      0\n",
              "  4       0      0      0      0      0      0      0      0      0\n",
              "  5       0      0      0      0      0      0      0      0      0\n",
              "  6       0      0      0      0      0      0      0      0      0\n",
              "  7       0      0      0      0      0      0      0      0      0\n",
              "  8       0      0      0      0      0      0      0      0      0\n",
              "  9       0      0      0      0      0      0      0      0      0\n",
              "  10      0      0      0      0      0      0      0      0      0\n",
              "  11      0      0      0      0      0      0      0      0      0\n",
              "  12      0      0      0      0      0      0      0      0      0\n",
              "  13      0      0      0      0      0      0      0      0      0\n",
              "  15      0      0      0      0      0      0      0      0      0\n",
              "  16      0      0      0      0      0      0      0      0      0\n",
              "  17      0      0      0      0      0      0      0      0      0\n",
              "  18      0      0      0      0      0      0      0      0      0\n",
              "  20      0      0      0      0      0      0      0      0      0\n",
              "\n",
              "Overall Statistics\n",
              "                                          \n",
              "               Accuracy : 0.7831          \n",
              "                 95% CI : (0.7812, 0.7849)\n",
              "    No Information Rate : 1               \n",
              "    P-Value [Acc > NIR] : 1               \n",
              "                                          \n",
              "                  Kappa : 0               \n",
              "                                          \n",
              " Mcnemar's Test P-Value : NA              \n",
              "\n",
              "Statistics by Class:\n",
              "\n",
              "                     Class: 0 Class: 1 Class: 2 Class: 3 Class: 4 Class: 5\n",
              "Sensitivity            0.7831       NA       NA       NA       NA       NA\n",
              "Specificity                NA    0.855   0.9589  0.98296 0.993126 0.996387\n",
              "Pos Pred Value             NA       NA       NA       NA       NA       NA\n",
              "Neg Pred Value             NA       NA       NA       NA       NA       NA\n",
              "Prevalence             1.0000    0.000   0.0000  0.00000 0.000000 0.000000\n",
              "Detection Rate         0.7831    0.000   0.0000  0.00000 0.000000 0.000000\n",
              "Detection Prevalence   0.7831    0.145   0.0411  0.01704 0.006874 0.003613\n",
              "Balanced Accuracy          NA       NA       NA       NA       NA       NA\n",
              "                     Class: 6  Class: 7  Class: 8  Class: 9 Class: 10 Class: 11\n",
              "Sensitivity                NA        NA        NA        NA        NA        NA\n",
              "Specificity          0.998432 0.9995068 0.9995639 0.9998494 0.9998442 9.999e-01\n",
              "Pos Pred Value             NA        NA        NA        NA        NA        NA\n",
              "Neg Pred Value             NA        NA        NA        NA        NA        NA\n",
              "Prevalence           0.000000 0.0000000 0.0000000 0.0000000 0.0000000 0.000e+00\n",
              "Detection Rate       0.000000 0.0000000 0.0000000 0.0000000 0.0000000 0.000e+00\n",
              "Detection Prevalence 0.001568 0.0004932 0.0004361 0.0001506 0.0001558 7.788e-05\n",
              "Balanced Accuracy          NA        NA        NA        NA        NA        NA\n",
              "                     Class: 12 Class: 13 Class: 15 Class: 16 Class: 17\n",
              "Sensitivity                 NA        NA        NA        NA        NA\n",
              "Specificity           0.999865 1.000e+00 1.000e+00 9.999e-01 1.000e+00\n",
              "Pos Pred Value              NA        NA        NA        NA        NA\n",
              "Neg Pred Value              NA        NA        NA        NA        NA\n",
              "Prevalence            0.000000 0.000e+00 0.000e+00 0.000e+00 0.000e+00\n",
              "Detection Rate        0.000000 0.000e+00 0.000e+00 0.000e+00 0.000e+00\n",
              "Detection Prevalence  0.000135 4.153e-05 2.077e-05 5.711e-05 2.596e-05\n",
              "Balanced Accuracy           NA        NA        NA        NA        NA\n",
              "                     Class: 18 Class: 20\n",
              "Sensitivity                 NA        NA\n",
              "Specificity          1.000e+00 1.000e+00\n",
              "Pos Pred Value              NA        NA\n",
              "Neg Pred Value              NA        NA\n",
              "Prevalence           0.000e+00 0.000e+00\n",
              "Detection Rate       0.000e+00 0.000e+00\n",
              "Detection Prevalence 3.634e-05 4.673e-05\n",
              "Balanced Accuracy           NA        NA"
            ]
          },
          "metadata": {}
        }
      ]
    },
    {
      "cell_type": "code",
      "source": [
        "data2=head(data1,1000000)\n",
        "## Data pre-processing\n",
        "data2 = subset(data2, select = -c(CONTRIBUTING.FACTOR.VEHICLE.1,LATITUDE,LONGITUDE,wind_deg,temp_min,temp_max,dew_point,CONTRIBUTING.FACTOR.VEHICLE.2,COLLISION_ID,X,VEHICLE.TYPE.CODE.1,VEHICLE.TYPE.CODE.2,ON.STREET.NAME,CROSS.STREET.NAME,OFF.STREET.NAME, VEHICLE_ID,weather_id,clouds_all,rain_1h,wind_gust,weather_icon,rain_3h,snow_3h,sea_level,grnd_level,snow_1h) )\n",
        "names(data2)[names(data2) == \"KILLED.INJURED\"] <- \"KILLED_INJURED\"\n",
        "colSums(is.na(data2))\n",
        "data2$CRASH_DATE=as.Date(data2$CRASH_DATE, format = \"%Y-%m-%d\")\n",
        "nrow(data2)\n",
        "data2=data2[!is.na(data2$visibility),]\n",
        "nrow(data2)\n",
        "data2=data2[!is.na(data2$KILLED_INJURED),]\n",
        "data2$KILLED_INJURED <- as.factor(data2$KILLED_INJURED)\n",
        "nrow(data2)\n",
        "nrow(data2)\n",
        "data2$weather_main <- as.factor(data2$weather_main)\n",
        "data2$weather_description <- as.factor(data2$weather_description)\n",
        "data2$PERSON_SEX <- as.factor(data2$PERSON_SEX)\n",
        "data2$WEEKDAY <- as.factor(data2$WEEKDAY)\n",
        "set.seed(1)\n",
        "sample = sample.split(data2, SplitRatio = 0.80)\n",
        "training = subset(data2, sample == TRUE)\n",
        "test = subset(data2, sample == FALSE)\n",
        "rm(sample)\n",
        "str(training)\n",
        "str(test)\n",
        "tree.brea=tree(KILLED_INJURED~., data=training)\n",
        "tree.brea\n",
        "pred=predict(tree.brea,test,type=\"class\")\n",
        "cm=table(true=test$KILLED_INJURED,predic=pred)\n",
        "confusionMatrix(cm)"
      ],
      "metadata": {
        "colab": {
          "base_uri": "https://localhost:8080/",
          "height": 1000
        },
        "id": "mLHirYmSE_9C",
        "outputId": "1bc5f858-1bcf-4a61-c7a6-9f7b05226233"
      },
      "execution_count": null,
      "outputs": [
        {
          "output_type": "display_data",
          "data": {
            "text/html": [
              "<style>\n",
              ".dl-inline {width: auto; margin:0; padding: 0}\n",
              ".dl-inline>dt, .dl-inline>dd {float: none; width: auto; display: inline-block}\n",
              ".dl-inline>dt::after {content: \":\\0020\"; padding-right: .5ex}\n",
              ".dl-inline>dt:not(:first-of-type) {padding-left: .5ex}\n",
              "</style><dl class=dl-inline><dt>CRASH_DATE</dt><dd>0</dd><dt>CRASH_TIME</dt><dd>0</dd><dt>PERSON_AGE</dt><dd>0</dd><dt>PERSON_SEX</dt><dd>0</dd><dt>KILLED_INJURED</dt><dd>22</dd><dt>WEEKDAY</dt><dd>0</dd><dt>Holiday</dt><dd>0</dd><dt>temp</dt><dd>0</dd><dt>visibility</dt><dd>1106</dd><dt>pressure</dt><dd>0</dd><dt>humidity</dt><dd>0</dd><dt>wind_speed</dt><dd>0</dd><dt>weather_main</dt><dd>0</dd><dt>weather_description</dt><dd>0</dd></dl>\n"
            ],
            "text/markdown": "CRASH_DATE\n:   0CRASH_TIME\n:   0PERSON_AGE\n:   0PERSON_SEX\n:   0KILLED_INJURED\n:   22WEEKDAY\n:   0Holiday\n:   0temp\n:   0visibility\n:   1106pressure\n:   0humidity\n:   0wind_speed\n:   0weather_main\n:   0weather_description\n:   0\n\n",
            "text/latex": "\\begin{description*}\n\\item[CRASH\\textbackslash{}\\_DATE] 0\n\\item[CRASH\\textbackslash{}\\_TIME] 0\n\\item[PERSON\\textbackslash{}\\_AGE] 0\n\\item[PERSON\\textbackslash{}\\_SEX] 0\n\\item[KILLED\\textbackslash{}\\_INJURED] 22\n\\item[WEEKDAY] 0\n\\item[Holiday] 0\n\\item[temp] 0\n\\item[visibility] 1106\n\\item[pressure] 0\n\\item[humidity] 0\n\\item[wind\\textbackslash{}\\_speed] 0\n\\item[weather\\textbackslash{}\\_main] 0\n\\item[weather\\textbackslash{}\\_description] 0\n\\end{description*}\n",
            "text/plain": [
              "         CRASH_DATE          CRASH_TIME          PERSON_AGE          PERSON_SEX \n",
              "                  0                   0                   0                   0 \n",
              "     KILLED_INJURED             WEEKDAY             Holiday                temp \n",
              "                 22                   0                   0                   0 \n",
              "         visibility            pressure            humidity          wind_speed \n",
              "               1106                   0                   0                   0 \n",
              "       weather_main weather_description \n",
              "                  0                   0 "
            ]
          },
          "metadata": {}
        },
        {
          "output_type": "display_data",
          "data": {
            "text/html": [
              "1000000"
            ],
            "text/markdown": "1000000",
            "text/latex": "1000000",
            "text/plain": [
              "[1] 1000000"
            ]
          },
          "metadata": {}
        },
        {
          "output_type": "display_data",
          "data": {
            "text/html": [
              "998894"
            ],
            "text/markdown": "998894",
            "text/latex": "998894",
            "text/plain": [
              "[1] 998894"
            ]
          },
          "metadata": {}
        },
        {
          "output_type": "display_data",
          "data": {
            "text/html": [
              "998872"
            ],
            "text/markdown": "998872",
            "text/latex": "998872",
            "text/plain": [
              "[1] 998872"
            ]
          },
          "metadata": {}
        },
        {
          "output_type": "display_data",
          "data": {
            "text/html": [
              "998872"
            ],
            "text/markdown": "998872",
            "text/latex": "998872",
            "text/plain": [
              "[1] 998872"
            ]
          },
          "metadata": {}
        },
        {
          "output_type": "stream",
          "name": "stdout",
          "text": [
            "'data.frame':\t784828 obs. of  14 variables:\n",
            " $ CRASH_DATE         : Date, format: \"2019-10-25\" \"2019-10-25\" ...\n",
            " $ CRASH_TIME         : int  15 15 15 15 15 15 15 15 15 15 ...\n",
            " $ PERSON_AGE         : num  33 82 33 82 42 51 51 17 42 37 ...\n",
            " $ PERSON_SEX         : Factor w/ 2 levels \"F\",\"M\": 1 2 2 2 2 2 2 2 2 2 ...\n",
            " $ KILLED_INJURED     : Factor w/ 19 levels \"0\",\"1\",\"2\",\"3\",..: 1 1 1 1 1 1 1 1 1 1 ...\n",
            " $ WEEKDAY            : Factor w/ 7 levels \"Friday\",\"Monday\",..: 1 1 1 1 1 1 1 1 1 1 ...\n",
            " $ Holiday            : chr  \"False\" \"False\" \"False\" \"False\" ...\n",
            " $ temp               : num  14.5 14.5 14.5 14.5 14.5 ...\n",
            " $ visibility         : num  10000 10000 10000 10000 10000 10000 10000 10000 10000 10000 ...\n",
            " $ pressure           : int  1027 1027 1027 1027 1027 1027 1027 1027 1027 1027 ...\n",
            " $ humidity           : int  63 63 63 63 63 63 63 63 63 63 ...\n",
            " $ wind_speed         : num  2.1 2.1 2.1 2.1 2.1 2.1 2.1 2.1 2.1 2.1 ...\n",
            " $ weather_main       : Factor w/ 11 levels \"Clear\",\"Clouds\",..: 1 1 1 1 1 1 1 1 1 1 ...\n",
            " $ weather_description: Factor w/ 25 levels \"broken clouds\",..: 18 18 18 18 18 18 18 18 18 18 ...\n",
            "'data.frame':\t214044 obs. of  14 variables:\n",
            " $ CRASH_DATE         : Date, format: \"2019-10-25\" \"2019-10-25\" ...\n",
            " $ CRASH_TIME         : int  15 15 15 15 15 15 15 15 15 15 ...\n",
            " $ PERSON_AGE         : num  33 42 42 56 30 65 25 43 38 49 ...\n",
            " $ PERSON_SEX         : Factor w/ 2 levels \"F\",\"M\": 2 2 2 2 2 2 1 1 2 1 ...\n",
            " $ KILLED_INJURED     : Factor w/ 19 levels \"0\",\"1\",\"2\",\"3\",..: 1 1 1 1 1 1 2 1 1 1 ...\n",
            " $ WEEKDAY            : Factor w/ 7 levels \"Friday\",\"Monday\",..: 1 1 1 1 1 1 1 1 1 1 ...\n",
            " $ Holiday            : chr  \"False\" \"False\" \"False\" \"False\" ...\n",
            " $ temp               : num  14.5 14.5 14.5 14.5 14.5 ...\n",
            " $ visibility         : num  10000 10000 10000 10000 10000 10000 10000 10000 10000 10000 ...\n",
            " $ pressure           : int  1027 1027 1027 1027 1027 1027 1027 1027 1027 1027 ...\n",
            " $ humidity           : int  63 63 63 63 63 63 63 63 63 63 ...\n",
            " $ wind_speed         : num  2.1 2.1 2.1 2.1 2.1 2.1 2.1 2.1 2.1 2.1 ...\n",
            " $ weather_main       : Factor w/ 11 levels \"Clear\",\"Clouds\",..: 1 1 1 1 1 1 1 1 1 1 ...\n",
            " $ weather_description: Factor w/ 25 levels \"broken clouds\",..: 18 18 18 18 18 18 18 18 18 18 ...\n"
          ]
        },
        {
          "output_type": "stream",
          "name": "stderr",
          "text": [
            "Warning message in tree(KILLED_INJURED ~ ., data = training):\n",
            "“NAs introduced by coercion”\n"
          ]
        },
        {
          "output_type": "display_data",
          "data": {
            "text/plain": [
              "node), split, n, deviance, yval, (yprob)\n",
              "      * denotes terminal node\n",
              "\n",
              "1) root 784828 1176000 0 ( 7.828e-01 1.454e-01 4.176e-02 1.671e-02 6.880e-03 3.284e-03 1.504e-03 5.632e-04 4.128e-04 1.058e-04 1.312e-04 7.772e-05 1.134e-04 4.460e-05 1.529e-05 3.822e-05 2.548e-05 3.822e-05 3.058e-05 ) *"
            ]
          },
          "metadata": {}
        },
        {
          "output_type": "stream",
          "name": "stderr",
          "text": [
            "Warning message in pred1.tree(object, tree.matrix(newdata)):\n",
            "“NAs introduced by coercion”\n"
          ]
        },
        {
          "output_type": "display_data",
          "data": {
            "text/plain": [
              "Confusion Matrix and Statistics\n",
              "\n",
              "    predic\n",
              "true      0      1      2      3      4      5      6      7      8      9\n",
              "  0  167642      0      0      0      0      0      0      0      0      0\n",
              "  1   31003      0      0      0      0      0      0      0      0      0\n",
              "  2    8805      0      0      0      0      0      0      0      0      0\n",
              "  3    3615      0      0      0      0      0      0      0      0      0\n",
              "  4    1515      0      0      0      0      0      0      0      0      0\n",
              "  5     766      0      0      0      0      0      0      0      0      0\n",
              "  6     349      0      0      0      0      0      0      0      0      0\n",
              "  7     110      0      0      0      0      0      0      0      0      0\n",
              "  8      91      0      0      0      0      0      0      0      0      0\n",
              "  9      29      0      0      0      0      0      0      0      0      0\n",
              "  10     33      0      0      0      0      0      0      0      0      0\n",
              "  11     16      0      0      0      0      0      0      0      0      0\n",
              "  12     26      0      0      0      0      0      0      0      0      0\n",
              "  13      8      0      0      0      0      0      0      0      0      0\n",
              "  15      4      0      0      0      0      0      0      0      0      0\n",
              "  16     11      0      0      0      0      0      0      0      0      0\n",
              "  17      5      0      0      0      0      0      0      0      0      0\n",
              "  18      7      0      0      0      0      0      0      0      0      0\n",
              "  20      9      0      0      0      0      0      0      0      0      0\n",
              "    predic\n",
              "true     10     11     12     13     15     16     17     18     20\n",
              "  0       0      0      0      0      0      0      0      0      0\n",
              "  1       0      0      0      0      0      0      0      0      0\n",
              "  2       0      0      0      0      0      0      0      0      0\n",
              "  3       0      0      0      0      0      0      0      0      0\n",
              "  4       0      0      0      0      0      0      0      0      0\n",
              "  5       0      0      0      0      0      0      0      0      0\n",
              "  6       0      0      0      0      0      0      0      0      0\n",
              "  7       0      0      0      0      0      0      0      0      0\n",
              "  8       0      0      0      0      0      0      0      0      0\n",
              "  9       0      0      0      0      0      0      0      0      0\n",
              "  10      0      0      0      0      0      0      0      0      0\n",
              "  11      0      0      0      0      0      0      0      0      0\n",
              "  12      0      0      0      0      0      0      0      0      0\n",
              "  13      0      0      0      0      0      0      0      0      0\n",
              "  15      0      0      0      0      0      0      0      0      0\n",
              "  16      0      0      0      0      0      0      0      0      0\n",
              "  17      0      0      0      0      0      0      0      0      0\n",
              "  18      0      0      0      0      0      0      0      0      0\n",
              "  20      0      0      0      0      0      0      0      0      0\n",
              "\n",
              "Overall Statistics\n",
              "                                         \n",
              "               Accuracy : 0.7832         \n",
              "                 95% CI : (0.7815, 0.785)\n",
              "    No Information Rate : 1              \n",
              "    P-Value [Acc > NIR] : 1              \n",
              "                                         \n",
              "                  Kappa : 0              \n",
              "                                         \n",
              " Mcnemar's Test P-Value : NA             \n",
              "\n",
              "Statistics by Class:\n",
              "\n",
              "                     Class: 0 Class: 1 Class: 2 Class: 3 Class: 4 Class: 5\n",
              "Sensitivity            0.7832       NA       NA       NA       NA       NA\n",
              "Specificity                NA   0.8552  0.95886  0.98311 0.992922 0.996421\n",
              "Pos Pred Value             NA       NA       NA       NA       NA       NA\n",
              "Neg Pred Value             NA       NA       NA       NA       NA       NA\n",
              "Prevalence             1.0000   0.0000  0.00000  0.00000 0.000000 0.000000\n",
              "Detection Rate         0.7832   0.0000  0.00000  0.00000 0.000000 0.000000\n",
              "Detection Prevalence   0.7832   0.1448  0.04114  0.01689 0.007078 0.003579\n",
              "Balanced Accuracy          NA       NA       NA       NA       NA       NA\n",
              "                     Class: 6  Class: 7  Class: 8  Class: 9 Class: 10 Class: 11\n",
              "Sensitivity                NA        NA        NA        NA        NA        NA\n",
              "Specificity          0.998369 0.9994861 0.9995749 0.9998645 0.9998458 9.999e-01\n",
              "Pos Pred Value             NA        NA        NA        NA        NA        NA\n",
              "Neg Pred Value             NA        NA        NA        NA        NA        NA\n",
              "Prevalence           0.000000 0.0000000 0.0000000 0.0000000 0.0000000 0.000e+00\n",
              "Detection Rate       0.000000 0.0000000 0.0000000 0.0000000 0.0000000 0.000e+00\n",
              "Detection Prevalence 0.001631 0.0005139 0.0004251 0.0001355 0.0001542 7.475e-05\n",
              "Balanced Accuracy          NA        NA        NA        NA        NA        NA\n",
              "                     Class: 12 Class: 13 Class: 15 Class: 16 Class: 17\n",
              "Sensitivity                 NA        NA        NA        NA        NA\n",
              "Specificity          0.9998785 1.000e+00 1.000e+00 9.999e-01 1.000e+00\n",
              "Pos Pred Value              NA        NA        NA        NA        NA\n",
              "Neg Pred Value              NA        NA        NA        NA        NA\n",
              "Prevalence           0.0000000 0.000e+00 0.000e+00 0.000e+00 0.000e+00\n",
              "Detection Rate       0.0000000 0.000e+00 0.000e+00 0.000e+00 0.000e+00\n",
              "Detection Prevalence 0.0001215 3.738e-05 1.869e-05 5.139e-05 2.336e-05\n",
              "Balanced Accuracy           NA        NA        NA        NA        NA\n",
              "                     Class: 18 Class: 20\n",
              "Sensitivity                 NA        NA\n",
              "Specificity           1.00e+00 1.000e+00\n",
              "Pos Pred Value              NA        NA\n",
              "Neg Pred Value              NA        NA\n",
              "Prevalence            0.00e+00 0.000e+00\n",
              "Detection Rate        0.00e+00 0.000e+00\n",
              "Detection Prevalence  3.27e-05 4.205e-05\n",
              "Balanced Accuracy           NA        NA"
            ]
          },
          "metadata": {}
        }
      ]
    },
    {
      "cell_type": "code",
      "source": [
        "data2=head(data1,2000000)\n",
        "## Data pre-processing\n",
        "data2 = subset(data2, select = -c(CONTRIBUTING.FACTOR.VEHICLE.1,LATITUDE,LONGITUDE,wind_deg,temp_min,temp_max,dew_point,CONTRIBUTING.FACTOR.VEHICLE.2,COLLISION_ID,X,VEHICLE.TYPE.CODE.1,VEHICLE.TYPE.CODE.2,ON.STREET.NAME,CROSS.STREET.NAME,OFF.STREET.NAME, VEHICLE_ID,weather_id,clouds_all,rain_1h,wind_gust,weather_icon,rain_3h,snow_3h,sea_level,grnd_level,snow_1h) )\n",
        "names(data2)[names(data2) == \"KILLED.INJURED\"] <- \"KILLED_INJURED\"\n",
        "colSums(is.na(data2))\n",
        "data2$CRASH_DATE=as.Date(data2$CRASH_DATE, format = \"%Y-%m-%d\")\n",
        "nrow(data2)\n",
        "data2=data2[!is.na(data2$visibility),]\n",
        "nrow(data2)\n",
        "data2=data2[!is.na(data2$KILLED_INJURED),]\n",
        "data2$KILLED_INJURED <- as.factor(data2$KILLED_INJURED)\n",
        "nrow(data2)\n",
        "nrow(data2)\n",
        "data2$weather_main <- as.factor(data2$weather_main)\n",
        "data2$weather_description <- as.factor(data2$weather_description)\n",
        "data2$PERSON_SEX <- as.factor(data2$PERSON_SEX)\n",
        "data2$WEEKDAY <- as.factor(data2$WEEKDAY)\n",
        "set.seed(1)\n",
        "sample = sample.split(data2, SplitRatio = 0.80)\n",
        "training = subset(data2, sample == TRUE)\n",
        "test = subset(data2, sample == FALSE)\n",
        "rm(sample)\n",
        "str(training)\n",
        "str(test)\n",
        "tree.brea=tree(KILLED_INJURED~., data=training)\n",
        "tree.brea\n",
        "pred=predict(tree.brea,test,type=\"class\")\n",
        "cm=table(true=test$KILLED_INJURED,predic=pred)\n",
        "confusionMatrix(cm)"
      ],
      "metadata": {
        "colab": {
          "base_uri": "https://localhost:8080/",
          "height": 1000
        },
        "id": "dndmk9OiFDk2",
        "outputId": "d97e1e46-df2b-4316-b462-58e7e21c0d84"
      },
      "execution_count": null,
      "outputs": [
        {
          "output_type": "display_data",
          "data": {
            "text/html": [
              "<style>\n",
              ".dl-inline {width: auto; margin:0; padding: 0}\n",
              ".dl-inline>dt, .dl-inline>dd {float: none; width: auto; display: inline-block}\n",
              ".dl-inline>dt::after {content: \":\\0020\"; padding-right: .5ex}\n",
              ".dl-inline>dt:not(:first-of-type) {padding-left: .5ex}\n",
              "</style><dl class=dl-inline><dt>CRASH_DATE</dt><dd>0</dd><dt>CRASH_TIME</dt><dd>0</dd><dt>PERSON_AGE</dt><dd>0</dd><dt>PERSON_SEX</dt><dd>0</dd><dt>KILLED_INJURED</dt><dd>36</dd><dt>WEEKDAY</dt><dd>0</dd><dt>Holiday</dt><dd>0</dd><dt>temp</dt><dd>0</dd><dt>visibility</dt><dd>2292</dd><dt>pressure</dt><dd>0</dd><dt>humidity</dt><dd>0</dd><dt>wind_speed</dt><dd>0</dd><dt>weather_main</dt><dd>0</dd><dt>weather_description</dt><dd>0</dd></dl>\n"
            ],
            "text/markdown": "CRASH_DATE\n:   0CRASH_TIME\n:   0PERSON_AGE\n:   0PERSON_SEX\n:   0KILLED_INJURED\n:   36WEEKDAY\n:   0Holiday\n:   0temp\n:   0visibility\n:   2292pressure\n:   0humidity\n:   0wind_speed\n:   0weather_main\n:   0weather_description\n:   0\n\n",
            "text/latex": "\\begin{description*}\n\\item[CRASH\\textbackslash{}\\_DATE] 0\n\\item[CRASH\\textbackslash{}\\_TIME] 0\n\\item[PERSON\\textbackslash{}\\_AGE] 0\n\\item[PERSON\\textbackslash{}\\_SEX] 0\n\\item[KILLED\\textbackslash{}\\_INJURED] 36\n\\item[WEEKDAY] 0\n\\item[Holiday] 0\n\\item[temp] 0\n\\item[visibility] 2292\n\\item[pressure] 0\n\\item[humidity] 0\n\\item[wind\\textbackslash{}\\_speed] 0\n\\item[weather\\textbackslash{}\\_main] 0\n\\item[weather\\textbackslash{}\\_description] 0\n\\end{description*}\n",
            "text/plain": [
              "         CRASH_DATE          CRASH_TIME          PERSON_AGE          PERSON_SEX \n",
              "                  0                   0                   0                   0 \n",
              "     KILLED_INJURED             WEEKDAY             Holiday                temp \n",
              "                 36                   0                   0                   0 \n",
              "         visibility            pressure            humidity          wind_speed \n",
              "               2292                   0                   0                   0 \n",
              "       weather_main weather_description \n",
              "                  0                   0 "
            ]
          },
          "metadata": {}
        },
        {
          "output_type": "display_data",
          "data": {
            "text/html": [
              "2000000"
            ],
            "text/markdown": "2000000",
            "text/latex": "2000000",
            "text/plain": [
              "[1] 2000000"
            ]
          },
          "metadata": {}
        },
        {
          "output_type": "display_data",
          "data": {
            "text/html": [
              "1997708"
            ],
            "text/markdown": "1997708",
            "text/latex": "1997708",
            "text/plain": [
              "[1] 1997708"
            ]
          },
          "metadata": {}
        },
        {
          "output_type": "display_data",
          "data": {
            "text/html": [
              "1997672"
            ],
            "text/markdown": "1997672",
            "text/latex": "1997672",
            "text/plain": [
              "[1] 1997672"
            ]
          },
          "metadata": {}
        },
        {
          "output_type": "display_data",
          "data": {
            "text/html": [
              "1997672"
            ],
            "text/markdown": "1997672",
            "text/latex": "1997672",
            "text/plain": [
              "[1] 1997672"
            ]
          },
          "metadata": {}
        },
        {
          "output_type": "stream",
          "name": "stdout",
          "text": [
            "'data.frame':\t1569599 obs. of  14 variables:\n",
            " $ CRASH_DATE         : Date, format: \"2019-10-25\" \"2019-10-25\" ...\n",
            " $ CRASH_TIME         : int  15 15 15 15 15 15 15 15 15 15 ...\n",
            " $ PERSON_AGE         : num  33 82 33 82 42 51 51 17 42 37 ...\n",
            " $ PERSON_SEX         : Factor w/ 2 levels \"F\",\"M\": 1 2 2 2 2 2 2 2 2 2 ...\n",
            " $ KILLED_INJURED     : Factor w/ 23 levels \"0\",\"1\",\"2\",\"3\",..: 1 1 1 1 1 1 1 1 1 1 ...\n",
            " $ WEEKDAY            : Factor w/ 7 levels \"Friday\",\"Monday\",..: 1 1 1 1 1 1 1 1 1 1 ...\n",
            " $ Holiday            : chr  \"False\" \"False\" \"False\" \"False\" ...\n",
            " $ temp               : num  14.5 14.5 14.5 14.5 14.5 ...\n",
            " $ visibility         : num  10000 10000 10000 10000 10000 10000 10000 10000 10000 10000 ...\n",
            " $ pressure           : int  1027 1027 1027 1027 1027 1027 1027 1027 1027 1027 ...\n",
            " $ humidity           : int  63 63 63 63 63 63 63 63 63 63 ...\n",
            " $ wind_speed         : num  2.1 2.1 2.1 2.1 2.1 2.1 2.1 2.1 2.1 2.1 ...\n",
            " $ weather_main       : Factor w/ 11 levels \"Clear\",\"Clouds\",..: 1 1 1 1 1 1 1 1 1 1 ...\n",
            " $ weather_description: Factor w/ 27 levels \"broken clouds\",..: 19 19 19 19 19 19 19 19 19 19 ...\n",
            "'data.frame':\t428073 obs. of  14 variables:\n",
            " $ CRASH_DATE         : Date, format: \"2019-10-25\" \"2019-10-25\" ...\n",
            " $ CRASH_TIME         : int  15 15 15 15 15 15 15 15 15 15 ...\n",
            " $ PERSON_AGE         : num  33 42 42 56 30 65 25 43 38 49 ...\n",
            " $ PERSON_SEX         : Factor w/ 2 levels \"F\",\"M\": 2 2 2 2 2 2 1 1 2 1 ...\n",
            " $ KILLED_INJURED     : Factor w/ 23 levels \"0\",\"1\",\"2\",\"3\",..: 1 1 1 1 1 1 2 1 1 1 ...\n",
            " $ WEEKDAY            : Factor w/ 7 levels \"Friday\",\"Monday\",..: 1 1 1 1 1 1 1 1 1 1 ...\n",
            " $ Holiday            : chr  \"False\" \"False\" \"False\" \"False\" ...\n",
            " $ temp               : num  14.5 14.5 14.5 14.5 14.5 ...\n",
            " $ visibility         : num  10000 10000 10000 10000 10000 10000 10000 10000 10000 10000 ...\n",
            " $ pressure           : int  1027 1027 1027 1027 1027 1027 1027 1027 1027 1027 ...\n",
            " $ humidity           : int  63 63 63 63 63 63 63 63 63 63 ...\n",
            " $ wind_speed         : num  2.1 2.1 2.1 2.1 2.1 2.1 2.1 2.1 2.1 2.1 ...\n",
            " $ weather_main       : Factor w/ 11 levels \"Clear\",\"Clouds\",..: 1 1 1 1 1 1 1 1 1 1 ...\n",
            " $ weather_description: Factor w/ 27 levels \"broken clouds\",..: 19 19 19 19 19 19 19 19 19 19 ...\n"
          ]
        },
        {
          "output_type": "stream",
          "name": "stderr",
          "text": [
            "Warning message in tree(KILLED_INJURED ~ ., data = training):\n",
            "“NAs introduced by coercion”\n"
          ]
        },
        {
          "output_type": "display_data",
          "data": {
            "text/plain": [
              "node), split, n, deviance, yval, (yprob)\n",
              "      * denotes terminal node\n",
              "\n",
              "1) root 1569599 2407000 0 ( 7.758e-01 1.492e-01 4.382e-02 1.738e-02 7.338e-03 3.367e-03 1.439e-03 6.785e-04 3.122e-04 1.433e-04 1.567e-04 6.690e-05 7.645e-05 4.778e-05 1.529e-05 1.656e-05 3.377e-05 2.676e-05 2.294e-05 1.656e-05 1.529e-05 1.083e-05 1.274e-06 ) *"
            ]
          },
          "metadata": {}
        },
        {
          "output_type": "stream",
          "name": "stderr",
          "text": [
            "Warning message in pred1.tree(object, tree.matrix(newdata)):\n",
            "“NAs introduced by coercion”\n"
          ]
        },
        {
          "output_type": "display_data",
          "data": {
            "text/plain": [
              "Confusion Matrix and Statistics\n",
              "\n",
              "    predic\n",
              "true      0      1      2      3      4      5      6      7      8      9\n",
              "  0  331946      0      0      0      0      0      0      0      0      0\n",
              "  1   64070      0      0      0      0      0      0      0      0      0\n",
              "  2   18639      0      0      0      0      0      0      0      0      0\n",
              "  3    7341      0      0      0      0      0      0      0      0      0\n",
              "  4    3190      0      0      0      0      0      0      0      0      0\n",
              "  5    1537      0      0      0      0      0      0      0      0      0\n",
              "  6     673      0      0      0      0      0      0      0      0      0\n",
              "  7     251      0      0      0      0      0      0      0      0      0\n",
              "  8     129      0      0      0      0      0      0      0      0      0\n",
              "  9      71      0      0      0      0      0      0      0      0      0\n",
              "  10     73      0      0      0      0      0      0      0      0      0\n",
              "  11     25      0      0      0      0      0      0      0      0      0\n",
              "  12     32      0      0      0      0      0      0      0      0      0\n",
              "  13     18      0      0      0      0      0      0      0      0      0\n",
              "  14      6      0      0      0      0      0      0      0      0      0\n",
              "  15      8      0      0      0      0      0      0      0      0      0\n",
              "  16     17      0      0      0      0      0      0      0      0      0\n",
              "  17     13      0      0      0      0      0      0      0      0      0\n",
              "  18     10      0      0      0      0      0      0      0      0      0\n",
              "  19      9      0      0      0      0      0      0      0      0      0\n",
              "  20      9      0      0      0      0      0      0      0      0      0\n",
              "  22      6      0      0      0      0      0      0      0      0      0\n",
              "  28      0      0      0      0      0      0      0      0      0      0\n",
              "    predic\n",
              "true     10     11     12     13     14     15     16     17     18     19\n",
              "  0       0      0      0      0      0      0      0      0      0      0\n",
              "  1       0      0      0      0      0      0      0      0      0      0\n",
              "  2       0      0      0      0      0      0      0      0      0      0\n",
              "  3       0      0      0      0      0      0      0      0      0      0\n",
              "  4       0      0      0      0      0      0      0      0      0      0\n",
              "  5       0      0      0      0      0      0      0      0      0      0\n",
              "  6       0      0      0      0      0      0      0      0      0      0\n",
              "  7       0      0      0      0      0      0      0      0      0      0\n",
              "  8       0      0      0      0      0      0      0      0      0      0\n",
              "  9       0      0      0      0      0      0      0      0      0      0\n",
              "  10      0      0      0      0      0      0      0      0      0      0\n",
              "  11      0      0      0      0      0      0      0      0      0      0\n",
              "  12      0      0      0      0      0      0      0      0      0      0\n",
              "  13      0      0      0      0      0      0      0      0      0      0\n",
              "  14      0      0      0      0      0      0      0      0      0      0\n",
              "  15      0      0      0      0      0      0      0      0      0      0\n",
              "  16      0      0      0      0      0      0      0      0      0      0\n",
              "  17      0      0      0      0      0      0      0      0      0      0\n",
              "  18      0      0      0      0      0      0      0      0      0      0\n",
              "  19      0      0      0      0      0      0      0      0      0      0\n",
              "  20      0      0      0      0      0      0      0      0      0      0\n",
              "  22      0      0      0      0      0      0      0      0      0      0\n",
              "  28      0      0      0      0      0      0      0      0      0      0\n",
              "    predic\n",
              "true     20     22     28\n",
              "  0       0      0      0\n",
              "  1       0      0      0\n",
              "  2       0      0      0\n",
              "  3       0      0      0\n",
              "  4       0      0      0\n",
              "  5       0      0      0\n",
              "  6       0      0      0\n",
              "  7       0      0      0\n",
              "  8       0      0      0\n",
              "  9       0      0      0\n",
              "  10      0      0      0\n",
              "  11      0      0      0\n",
              "  12      0      0      0\n",
              "  13      0      0      0\n",
              "  14      0      0      0\n",
              "  15      0      0      0\n",
              "  16      0      0      0\n",
              "  17      0      0      0\n",
              "  18      0      0      0\n",
              "  19      0      0      0\n",
              "  20      0      0      0\n",
              "  22      0      0      0\n",
              "  28      0      0      0\n",
              "\n",
              "Overall Statistics\n",
              "                                          \n",
              "               Accuracy : 0.7754          \n",
              "                 95% CI : (0.7742, 0.7767)\n",
              "    No Information Rate : 1               \n",
              "    P-Value [Acc > NIR] : 1               \n",
              "                                          \n",
              "                  Kappa : 0               \n",
              "                                          \n",
              " Mcnemar's Test P-Value : NA              \n",
              "\n",
              "Statistics by Class:\n",
              "\n",
              "                     Class: 0 Class: 1 Class: 2 Class: 3 Class: 4 Class: 5\n",
              "Sensitivity            0.7754       NA       NA       NA       NA       NA\n",
              "Specificity                NA   0.8503  0.95646  0.98285 0.992548 0.996409\n",
              "Pos Pred Value             NA       NA       NA       NA       NA       NA\n",
              "Neg Pred Value             NA       NA       NA       NA       NA       NA\n",
              "Prevalence             1.0000   0.0000  0.00000  0.00000 0.000000 0.000000\n",
              "Detection Rate         0.7754   0.0000  0.00000  0.00000 0.000000 0.000000\n",
              "Detection Prevalence   0.7754   0.1497  0.04354  0.01715 0.007452 0.003591\n",
              "Balanced Accuracy          NA       NA       NA       NA       NA       NA\n",
              "                     Class: 6  Class: 7  Class: 8  Class: 9 Class: 10 Class: 11\n",
              "Sensitivity                NA        NA        NA        NA        NA        NA\n",
              "Specificity          0.998428 0.9994137 0.9996986 0.9998341 0.9998295 0.9999416\n",
              "Pos Pred Value             NA        NA        NA        NA        NA        NA\n",
              "Neg Pred Value             NA        NA        NA        NA        NA        NA\n",
              "Prevalence           0.000000 0.0000000 0.0000000 0.0000000 0.0000000 0.0000000\n",
              "Detection Rate       0.000000 0.0000000 0.0000000 0.0000000 0.0000000 0.0000000\n",
              "Detection Prevalence 0.001572 0.0005863 0.0003014 0.0001659 0.0001705 0.0000584\n",
              "Balanced Accuracy          NA        NA        NA        NA        NA        NA\n",
              "                     Class: 12 Class: 13 Class: 14 Class: 15 Class: 16\n",
              "Sensitivity                 NA        NA        NA        NA        NA\n",
              "Specificity          9.999e-01 1.000e+00 1.000e+00 1.000e+00 1.000e+00\n",
              "Pos Pred Value              NA        NA        NA        NA        NA\n",
              "Neg Pred Value              NA        NA        NA        NA        NA\n",
              "Prevalence           0.000e+00 0.000e+00 0.000e+00 0.000e+00 0.000e+00\n",
              "Detection Rate       0.000e+00 0.000e+00 0.000e+00 0.000e+00 0.000e+00\n",
              "Detection Prevalence 7.475e-05 4.205e-05 1.402e-05 1.869e-05 3.971e-05\n",
              "Balanced Accuracy           NA        NA        NA        NA        NA\n",
              "                     Class: 17 Class: 18 Class: 19 Class: 20 Class: 22\n",
              "Sensitivity                 NA        NA        NA        NA        NA\n",
              "Specificity          1.000e+00 1.000e+00 1.000e+00 1.000e+00 1.000e+00\n",
              "Pos Pred Value              NA        NA        NA        NA        NA\n",
              "Neg Pred Value              NA        NA        NA        NA        NA\n",
              "Prevalence           0.000e+00 0.000e+00 0.000e+00 0.000e+00 0.000e+00\n",
              "Detection Rate       0.000e+00 0.000e+00 0.000e+00 0.000e+00 0.000e+00\n",
              "Detection Prevalence 3.037e-05 2.336e-05 2.102e-05 2.102e-05 1.402e-05\n",
              "Balanced Accuracy           NA        NA        NA        NA        NA\n",
              "                     Class: 28\n",
              "Sensitivity                 NA\n",
              "Specificity                  1\n",
              "Pos Pred Value              NA\n",
              "Neg Pred Value              NA\n",
              "Prevalence                   0\n",
              "Detection Rate               0\n",
              "Detection Prevalence         0\n",
              "Balanced Accuracy           NA"
            ]
          },
          "metadata": {}
        }
      ]
    },
    {
      "cell_type": "code",
      "source": [
        "data2=data1\n",
        "## Data pre-processing\n",
        "data2 = subset(data2, select = -c(CONTRIBUTING.FACTOR.VEHICLE.1,LATITUDE,LONGITUDE,wind_deg,temp_min,temp_max,dew_point,CONTRIBUTING.FACTOR.VEHICLE.2,COLLISION_ID,X,VEHICLE.TYPE.CODE.1,VEHICLE.TYPE.CODE.2,ON.STREET.NAME,CROSS.STREET.NAME,OFF.STREET.NAME, VEHICLE_ID,weather_id,clouds_all,rain_1h,wind_gust,weather_icon,rain_3h,snow_3h,sea_level,grnd_level,snow_1h) )\n",
        "names(data2)[names(data2) == \"KILLED.INJURED\"] <- \"KILLED_INJURED\"\n",
        "colSums(is.na(data2))\n",
        "data2$CRASH_DATE=as.Date(data2$CRASH_DATE, format = \"%Y-%m-%d\")\n",
        "nrow(data2)\n",
        "data2=data2[!is.na(data2$visibility),]\n",
        "nrow(data2)\n",
        "data2=data2[!is.na(data2$KILLED_INJURED),]\n",
        "data2$KILLED_INJURED <- as.factor(data2$KILLED_INJURED)\n",
        "nrow(data2)\n",
        "nrow(data2)\n",
        "data2$weather_main <- as.factor(data2$weather_main)\n",
        "data2$weather_description <- as.factor(data2$weather_description)\n",
        "data2$PERSON_SEX <- as.factor(data2$PERSON_SEX)\n",
        "data2$WEEKDAY <- as.factor(data2$WEEKDAY)\n",
        "set.seed(1)\n",
        "sample = sample.split(data2, SplitRatio = 0.80)\n",
        "training = subset(data2, sample == TRUE)\n",
        "test = subset(data2, sample == FALSE)\n",
        "rm(sample)\n",
        "str(training)\n",
        "str(test)\n",
        "tree.brea=tree(KILLED_INJURED~., data=training)\n",
        "tree.brea\n",
        "pred=predict(tree.brea,test,type=\"class\")\n",
        "cm=table(true=test$KILLED_INJURED,predic=pred)\n",
        "confusionMatrix(cm)"
      ],
      "metadata": {
        "colab": {
          "base_uri": "https://localhost:8080/",
          "height": 1000
        },
        "id": "o-ir4LfjFE3K",
        "outputId": "2c368d1d-e0f7-4cd7-8bf3-d808c7b2d4c4"
      },
      "execution_count": null,
      "outputs": [
        {
          "output_type": "display_data",
          "data": {
            "text/html": [
              "<style>\n",
              ".dl-inline {width: auto; margin:0; padding: 0}\n",
              ".dl-inline>dt, .dl-inline>dd {float: none; width: auto; display: inline-block}\n",
              ".dl-inline>dt::after {content: \":\\0020\"; padding-right: .5ex}\n",
              ".dl-inline>dt:not(:first-of-type) {padding-left: .5ex}\n",
              "</style><dl class=dl-inline><dt>CRASH_DATE</dt><dd>0</dd><dt>CRASH_TIME</dt><dd>0</dd><dt>PERSON_AGE</dt><dd>0</dd><dt>PERSON_SEX</dt><dd>0</dd><dt>KILLED_INJURED</dt><dd>39</dd><dt>WEEKDAY</dt><dd>0</dd><dt>Holiday</dt><dd>0</dd><dt>temp</dt><dd>0</dd><dt>visibility</dt><dd>2737</dd><dt>pressure</dt><dd>0</dd><dt>humidity</dt><dd>0</dd><dt>wind_speed</dt><dd>0</dd><dt>weather_main</dt><dd>0</dd><dt>weather_description</dt><dd>0</dd></dl>\n"
            ],
            "text/markdown": "CRASH_DATE\n:   0CRASH_TIME\n:   0PERSON_AGE\n:   0PERSON_SEX\n:   0KILLED_INJURED\n:   39WEEKDAY\n:   0Holiday\n:   0temp\n:   0visibility\n:   2737pressure\n:   0humidity\n:   0wind_speed\n:   0weather_main\n:   0weather_description\n:   0\n\n",
            "text/latex": "\\begin{description*}\n\\item[CRASH\\textbackslash{}\\_DATE] 0\n\\item[CRASH\\textbackslash{}\\_TIME] 0\n\\item[PERSON\\textbackslash{}\\_AGE] 0\n\\item[PERSON\\textbackslash{}\\_SEX] 0\n\\item[KILLED\\textbackslash{}\\_INJURED] 39\n\\item[WEEKDAY] 0\n\\item[Holiday] 0\n\\item[temp] 0\n\\item[visibility] 2737\n\\item[pressure] 0\n\\item[humidity] 0\n\\item[wind\\textbackslash{}\\_speed] 0\n\\item[weather\\textbackslash{}\\_main] 0\n\\item[weather\\textbackslash{}\\_description] 0\n\\end{description*}\n",
            "text/plain": [
              "         CRASH_DATE          CRASH_TIME          PERSON_AGE          PERSON_SEX \n",
              "                  0                   0                   0                   0 \n",
              "     KILLED_INJURED             WEEKDAY             Holiday                temp \n",
              "                 39                   0                   0                   0 \n",
              "         visibility            pressure            humidity          wind_speed \n",
              "               2737                   0                   0                   0 \n",
              "       weather_main weather_description \n",
              "                  0                   0 "
            ]
          },
          "metadata": {}
        },
        {
          "output_type": "display_data",
          "data": {
            "text/html": [
              "2529009"
            ],
            "text/markdown": "2529009",
            "text/latex": "2529009",
            "text/plain": [
              "[1] 2529009"
            ]
          },
          "metadata": {}
        },
        {
          "output_type": "display_data",
          "data": {
            "text/html": [
              "2526272"
            ],
            "text/markdown": "2526272",
            "text/latex": "2526272",
            "text/plain": [
              "[1] 2526272"
            ]
          },
          "metadata": {}
        },
        {
          "output_type": "display_data",
          "data": {
            "text/html": [
              "2526233"
            ],
            "text/markdown": "2526233",
            "text/latex": "2526233",
            "text/plain": [
              "[1] 2526233"
            ]
          },
          "metadata": {}
        },
        {
          "output_type": "display_data",
          "data": {
            "text/html": [
              "2526233"
            ],
            "text/markdown": "2526233",
            "text/latex": "2526233",
            "text/plain": [
              "[1] 2526233"
            ]
          },
          "metadata": {}
        },
        {
          "output_type": "stream",
          "name": "stdout",
          "text": [
            "'data.frame':\t1984898 obs. of  14 variables:\n",
            " $ CRASH_DATE         : Date, format: \"2019-10-25\" \"2019-10-25\" ...\n",
            " $ CRASH_TIME         : int  15 15 15 15 15 15 15 15 15 15 ...\n",
            " $ PERSON_AGE         : num  33 82 33 82 42 51 51 17 42 37 ...\n",
            " $ PERSON_SEX         : Factor w/ 2 levels \"F\",\"M\": 1 2 2 2 2 2 2 2 2 2 ...\n",
            " $ KILLED_INJURED     : Factor w/ 23 levels \"0\",\"1\",\"2\",\"3\",..: 1 1 1 1 1 1 1 1 1 1 ...\n",
            " $ WEEKDAY            : Factor w/ 7 levels \"Friday\",\"Monday\",..: 1 1 1 1 1 1 1 1 1 1 ...\n",
            " $ Holiday            : chr  \"False\" \"False\" \"False\" \"False\" ...\n",
            " $ temp               : num  14.5 14.5 14.5 14.5 14.5 ...\n",
            " $ visibility         : num  10000 10000 10000 10000 10000 10000 10000 10000 10000 10000 ...\n",
            " $ pressure           : int  1027 1027 1027 1027 1027 1027 1027 1027 1027 1027 ...\n",
            " $ humidity           : int  63 63 63 63 63 63 63 63 63 63 ...\n",
            " $ wind_speed         : num  2.1 2.1 2.1 2.1 2.1 2.1 2.1 2.1 2.1 2.1 ...\n",
            " $ weather_main       : Factor w/ 11 levels \"Clear\",\"Clouds\",..: 1 1 1 1 1 1 1 1 1 1 ...\n",
            " $ weather_description: Factor w/ 28 levels \"broken clouds\",..: 20 20 20 20 20 20 20 20 20 20 ...\n",
            "'data.frame':\t541335 obs. of  14 variables:\n",
            " $ CRASH_DATE         : Date, format: \"2019-10-25\" \"2019-10-25\" ...\n",
            " $ CRASH_TIME         : int  15 15 15 15 15 15 15 15 15 15 ...\n",
            " $ PERSON_AGE         : num  33 42 42 56 30 65 25 43 38 49 ...\n",
            " $ PERSON_SEX         : Factor w/ 2 levels \"F\",\"M\": 2 2 2 2 2 2 1 1 2 1 ...\n",
            " $ KILLED_INJURED     : Factor w/ 23 levels \"0\",\"1\",\"2\",\"3\",..: 1 1 1 1 1 1 2 1 1 1 ...\n",
            " $ WEEKDAY            : Factor w/ 7 levels \"Friday\",\"Monday\",..: 1 1 1 1 1 1 1 1 1 1 ...\n",
            " $ Holiday            : chr  \"False\" \"False\" \"False\" \"False\" ...\n",
            " $ temp               : num  14.5 14.5 14.5 14.5 14.5 ...\n",
            " $ visibility         : num  10000 10000 10000 10000 10000 10000 10000 10000 10000 10000 ...\n",
            " $ pressure           : int  1027 1027 1027 1027 1027 1027 1027 1027 1027 1027 ...\n",
            " $ humidity           : int  63 63 63 63 63 63 63 63 63 63 ...\n",
            " $ wind_speed         : num  2.1 2.1 2.1 2.1 2.1 2.1 2.1 2.1 2.1 2.1 ...\n",
            " $ weather_main       : Factor w/ 11 levels \"Clear\",\"Clouds\",..: 1 1 1 1 1 1 1 1 1 1 ...\n",
            " $ weather_description: Factor w/ 28 levels \"broken clouds\",..: 20 20 20 20 20 20 20 20 20 20 ...\n"
          ]
        },
        {
          "output_type": "stream",
          "name": "stderr",
          "text": [
            "Warning message in tree(KILLED_INJURED ~ ., data = training):\n",
            "“NAs introduced by coercion”\n"
          ]
        },
        {
          "output_type": "display_data",
          "data": {
            "text/plain": [
              "node), split, n, deviance, yval, (yprob)\n",
              "      * denotes terminal node\n",
              "\n",
              "1) root 1984898 3301000 0 ( 7.451e-01 1.702e-01 4.996e-02 1.964e-02 8.210e-03 3.619e-03 1.510e-03 7.507e-04 3.486e-04 1.592e-04 1.753e-04 7.356e-05 6.046e-05 4.282e-05 1.914e-05 1.914e-05 3.476e-05 2.821e-05 2.267e-05 1.310e-05 1.612e-05 8.565e-06 1.008e-06 ) *"
            ]
          },
          "metadata": {}
        },
        {
          "output_type": "stream",
          "name": "stderr",
          "text": [
            "Warning message in pred1.tree(object, tree.matrix(newdata)):\n",
            "“NAs introduced by coercion”\n"
          ]
        },
        {
          "output_type": "display_data",
          "data": {
            "text/plain": [
              "Confusion Matrix and Statistics\n",
              "\n",
              "    predic\n",
              "true      0      1      2      3      4      5      6      7      8      9\n",
              "  0  403017      0      0      0      0      0      0      0      0      0\n",
              "  1   92558      0      0      0      0      0      0      0      0      0\n",
              "  2   26861      0      0      0      0      0      0      0      0      0\n",
              "  3   10575      0      0      0      0      0      0      0      0      0\n",
              "  4    4483      0      0      0      0      0      0      0      0      0\n",
              "  5    2021      0      0      0      0      0      0      0      0      0\n",
              "  6     893      0      0      0      0      0      0      0      0      0\n",
              "  7     367      0      0      0      0      0      0      0      0      0\n",
              "  8     176      0      0      0      0      0      0      0      0      0\n",
              "  9      94      0      0      0      0      0      0      0      0      0\n",
              "  10    102      0      0      0      0      0      0      0      0      0\n",
              "  11     38      0      0      0      0      0      0      0      0      0\n",
              "  12     32      0      0      0      0      0      0      0      0      0\n",
              "  13     21      0      0      0      0      0      0      0      0      0\n",
              "  14      9      0      0      0      0      0      0      0      0      0\n",
              "  15     11      0      0      0      0      0      0      0      0      0\n",
              "  16     20      0      0      0      0      0      0      0      0      0\n",
              "  17     17      0      0      0      0      0      0      0      0      0\n",
              "  18     13      0      0      0      0      0      0      0      0      0\n",
              "  19      9      0      0      0      0      0      0      0      0      0\n",
              "  20     12      0      0      0      0      0      0      0      0      0\n",
              "  22      6      0      0      0      0      0      0      0      0      0\n",
              "  28      0      0      0      0      0      0      0      0      0      0\n",
              "    predic\n",
              "true     10     11     12     13     14     15     16     17     18     19\n",
              "  0       0      0      0      0      0      0      0      0      0      0\n",
              "  1       0      0      0      0      0      0      0      0      0      0\n",
              "  2       0      0      0      0      0      0      0      0      0      0\n",
              "  3       0      0      0      0      0      0      0      0      0      0\n",
              "  4       0      0      0      0      0      0      0      0      0      0\n",
              "  5       0      0      0      0      0      0      0      0      0      0\n",
              "  6       0      0      0      0      0      0      0      0      0      0\n",
              "  7       0      0      0      0      0      0      0      0      0      0\n",
              "  8       0      0      0      0      0      0      0      0      0      0\n",
              "  9       0      0      0      0      0      0      0      0      0      0\n",
              "  10      0      0      0      0      0      0      0      0      0      0\n",
              "  11      0      0      0      0      0      0      0      0      0      0\n",
              "  12      0      0      0      0      0      0      0      0      0      0\n",
              "  13      0      0      0      0      0      0      0      0      0      0\n",
              "  14      0      0      0      0      0      0      0      0      0      0\n",
              "  15      0      0      0      0      0      0      0      0      0      0\n",
              "  16      0      0      0      0      0      0      0      0      0      0\n",
              "  17      0      0      0      0      0      0      0      0      0      0\n",
              "  18      0      0      0      0      0      0      0      0      0      0\n",
              "  19      0      0      0      0      0      0      0      0      0      0\n",
              "  20      0      0      0      0      0      0      0      0      0      0\n",
              "  22      0      0      0      0      0      0      0      0      0      0\n",
              "  28      0      0      0      0      0      0      0      0      0      0\n",
              "    predic\n",
              "true     20     22     28\n",
              "  0       0      0      0\n",
              "  1       0      0      0\n",
              "  2       0      0      0\n",
              "  3       0      0      0\n",
              "  4       0      0      0\n",
              "  5       0      0      0\n",
              "  6       0      0      0\n",
              "  7       0      0      0\n",
              "  8       0      0      0\n",
              "  9       0      0      0\n",
              "  10      0      0      0\n",
              "  11      0      0      0\n",
              "  12      0      0      0\n",
              "  13      0      0      0\n",
              "  14      0      0      0\n",
              "  15      0      0      0\n",
              "  16      0      0      0\n",
              "  17      0      0      0\n",
              "  18      0      0      0\n",
              "  19      0      0      0\n",
              "  20      0      0      0\n",
              "  22      0      0      0\n",
              "  28      0      0      0\n",
              "\n",
              "Overall Statistics\n",
              "                                          \n",
              "               Accuracy : 0.7445          \n",
              "                 95% CI : (0.7433, 0.7456)\n",
              "    No Information Rate : 1               \n",
              "    P-Value [Acc > NIR] : 1               \n",
              "                                          \n",
              "                  Kappa : 0               \n",
              "                                          \n",
              " Mcnemar's Test P-Value : NA              \n",
              "\n",
              "Statistics by Class:\n",
              "\n",
              "                     Class: 0 Class: 1 Class: 2 Class: 3 Class: 4 Class: 5\n",
              "Sensitivity            0.7445       NA       NA       NA       NA       NA\n",
              "Specificity                NA    0.829  0.95038  0.98046 0.991719 0.996267\n",
              "Pos Pred Value             NA       NA       NA       NA       NA       NA\n",
              "Neg Pred Value             NA       NA       NA       NA       NA       NA\n",
              "Prevalence             1.0000    0.000  0.00000  0.00000 0.000000 0.000000\n",
              "Detection Rate         0.7445    0.000  0.00000  0.00000 0.000000 0.000000\n",
              "Detection Prevalence   0.7445    0.171  0.04962  0.01954 0.008281 0.003733\n",
              "Balanced Accuracy          NA       NA       NA       NA       NA       NA\n",
              "                     Class: 6 Class: 7  Class: 8  Class: 9 Class: 10 Class: 11\n",
              "Sensitivity                NA       NA        NA        NA        NA        NA\n",
              "Specificity           0.99835 0.999322 0.9996749 0.9998264 0.9998116 0.9999298\n",
              "Pos Pred Value             NA       NA        NA        NA        NA        NA\n",
              "Neg Pred Value             NA       NA        NA        NA        NA        NA\n",
              "Prevalence            0.00000 0.000000 0.0000000 0.0000000 0.0000000 0.0000000\n",
              "Detection Rate        0.00000 0.000000 0.0000000 0.0000000 0.0000000 0.0000000\n",
              "Detection Prevalence  0.00165 0.000678 0.0003251 0.0001736 0.0001884 0.0000702\n",
              "Balanced Accuracy          NA       NA        NA        NA        NA        NA\n",
              "                     Class: 12 Class: 13 Class: 14 Class: 15 Class: 16\n",
              "Sensitivity                 NA        NA        NA        NA        NA\n",
              "Specificity          9.999e-01 1.000e+00 1.000e+00 1.000e+00 1.000e+00\n",
              "Pos Pred Value              NA        NA        NA        NA        NA\n",
              "Neg Pred Value              NA        NA        NA        NA        NA\n",
              "Prevalence           0.000e+00 0.000e+00 0.000e+00 0.000e+00 0.000e+00\n",
              "Detection Rate       0.000e+00 0.000e+00 0.000e+00 0.000e+00 0.000e+00\n",
              "Detection Prevalence 5.911e-05 3.879e-05 1.663e-05 2.032e-05 3.695e-05\n",
              "Balanced Accuracy           NA        NA        NA        NA        NA\n",
              "                     Class: 17 Class: 18 Class: 19 Class: 20 Class: 22\n",
              "Sensitivity                 NA        NA        NA        NA        NA\n",
              "Specificity           1.00e+00 1.000e+00 1.000e+00 1.000e+00 1.000e+00\n",
              "Pos Pred Value              NA        NA        NA        NA        NA\n",
              "Neg Pred Value              NA        NA        NA        NA        NA\n",
              "Prevalence            0.00e+00 0.000e+00 0.000e+00 0.000e+00 0.000e+00\n",
              "Detection Rate        0.00e+00 0.000e+00 0.000e+00 0.000e+00 0.000e+00\n",
              "Detection Prevalence  3.14e-05 2.401e-05 1.663e-05 2.217e-05 1.108e-05\n",
              "Balanced Accuracy           NA        NA        NA        NA        NA\n",
              "                     Class: 28\n",
              "Sensitivity                 NA\n",
              "Specificity                  1\n",
              "Pos Pred Value              NA\n",
              "Neg Pred Value              NA\n",
              "Prevalence                   0\n",
              "Detection Rate               0\n",
              "Detection Prevalence         0\n",
              "Balanced Accuracy           NA"
            ]
          },
          "metadata": {}
        }
      ]
    },
    {
      "cell_type": "markdown",
      "source": [
        "# Adding Latitude and Longitude"
      ],
      "metadata": {
        "id": "Kw_JEOPgIWvs"
      }
    },
    {
      "cell_type": "code",
      "source": [
        "data2=data1\n",
        "## Data pre-processing\n",
        "data2 = subset(data2, select = -c(CONTRIBUTING.FACTOR.VEHICLE.1,wind_deg,temp_min,temp_max,dew_point,CONTRIBUTING.FACTOR.VEHICLE.2,COLLISION_ID,X,VEHICLE.TYPE.CODE.1,VEHICLE.TYPE.CODE.2,ON.STREET.NAME,CROSS.STREET.NAME,OFF.STREET.NAME, VEHICLE_ID,weather_id,clouds_all,rain_1h,wind_gust,weather_icon,rain_3h,snow_3h,sea_level,grnd_level,snow_1h) )\n",
        "names(data2)[names(data2) == \"KILLED.INJURED\"] <- \"KILLED_INJURED\"\n",
        "colSums(is.na(data2))\n",
        "data2$CRASH_DATE=as.Date(data2$CRASH_DATE, format = \"%Y-%m-%d\")\n",
        "nrow(data2)\n",
        "data2=data2[!is.na(data2$visibility),]\n",
        "nrow(data2)\n",
        "data2=data2[!is.na(data2$KILLED_INJURED),]\n",
        "data2$KILLED_INJURED <- as.factor(data2$KILLED_INJURED)\n",
        "nrow(data2)\n",
        "nrow(data2)\n",
        "data2$weather_main <- as.factor(data2$weather_main)\n",
        "data2$weather_description <- as.factor(data2$weather_description)\n",
        "data2$PERSON_SEX <- as.factor(data2$PERSON_SEX)\n",
        "data2$WEEKDAY <- as.factor(data2$WEEKDAY)\n",
        "set.seed(1)\n",
        "sample = sample.split(data2, SplitRatio = 0.80)\n",
        "training = subset(data2, sample == TRUE)\n",
        "test = subset(data2, sample == FALSE)\n",
        "rm(sample)\n",
        "str(training)\n",
        "str(test)\n",
        "tree.brea=tree(KILLED_INJURED~., data=training)\n",
        "tree.brea\n",
        "pred=predict(tree.brea,test,type=\"class\")\n",
        "cm=table(true=test$KILLED_INJURED,predic=pred)\n",
        "confusionMatrix(cm)"
      ],
      "metadata": {
        "colab": {
          "base_uri": "https://localhost:8080/",
          "height": 1000
        },
        "id": "7D4za8MJIeqD",
        "outputId": "ee83ab81-9311-41aa-c2ad-6e57fdc68b18"
      },
      "execution_count": null,
      "outputs": [
        {
          "output_type": "display_data",
          "data": {
            "text/html": [
              "<style>\n",
              ".dl-inline {width: auto; margin:0; padding: 0}\n",
              ".dl-inline>dt, .dl-inline>dd {float: none; width: auto; display: inline-block}\n",
              ".dl-inline>dt::after {content: \":\\0020\"; padding-right: .5ex}\n",
              ".dl-inline>dt:not(:first-of-type) {padding-left: .5ex}\n",
              "</style><dl class=dl-inline><dt>CRASH_DATE</dt><dd>0</dd><dt>CRASH_TIME</dt><dd>0</dd><dt>PERSON_AGE</dt><dd>0</dd><dt>PERSON_SEX</dt><dd>0</dd><dt>LATITUDE</dt><dd>0</dd><dt>LONGITUDE</dt><dd>0</dd><dt>KILLED_INJURED</dt><dd>39</dd><dt>WEEKDAY</dt><dd>0</dd><dt>Holiday</dt><dd>0</dd><dt>temp</dt><dd>0</dd><dt>visibility</dt><dd>2737</dd><dt>pressure</dt><dd>0</dd><dt>humidity</dt><dd>0</dd><dt>wind_speed</dt><dd>0</dd><dt>weather_main</dt><dd>0</dd><dt>weather_description</dt><dd>0</dd></dl>\n"
            ],
            "text/markdown": "CRASH_DATE\n:   0CRASH_TIME\n:   0PERSON_AGE\n:   0PERSON_SEX\n:   0LATITUDE\n:   0LONGITUDE\n:   0KILLED_INJURED\n:   39WEEKDAY\n:   0Holiday\n:   0temp\n:   0visibility\n:   2737pressure\n:   0humidity\n:   0wind_speed\n:   0weather_main\n:   0weather_description\n:   0\n\n",
            "text/latex": "\\begin{description*}\n\\item[CRASH\\textbackslash{}\\_DATE] 0\n\\item[CRASH\\textbackslash{}\\_TIME] 0\n\\item[PERSON\\textbackslash{}\\_AGE] 0\n\\item[PERSON\\textbackslash{}\\_SEX] 0\n\\item[LATITUDE] 0\n\\item[LONGITUDE] 0\n\\item[KILLED\\textbackslash{}\\_INJURED] 39\n\\item[WEEKDAY] 0\n\\item[Holiday] 0\n\\item[temp] 0\n\\item[visibility] 2737\n\\item[pressure] 0\n\\item[humidity] 0\n\\item[wind\\textbackslash{}\\_speed] 0\n\\item[weather\\textbackslash{}\\_main] 0\n\\item[weather\\textbackslash{}\\_description] 0\n\\end{description*}\n",
            "text/plain": [
              "         CRASH_DATE          CRASH_TIME          PERSON_AGE          PERSON_SEX \n",
              "                  0                   0                   0                   0 \n",
              "           LATITUDE           LONGITUDE      KILLED_INJURED             WEEKDAY \n",
              "                  0                   0                  39                   0 \n",
              "            Holiday                temp          visibility            pressure \n",
              "                  0                   0                2737                   0 \n",
              "           humidity          wind_speed        weather_main weather_description \n",
              "                  0                   0                   0                   0 "
            ]
          },
          "metadata": {}
        },
        {
          "output_type": "display_data",
          "data": {
            "text/html": [
              "2529009"
            ],
            "text/markdown": "2529009",
            "text/latex": "2529009",
            "text/plain": [
              "[1] 2529009"
            ]
          },
          "metadata": {}
        },
        {
          "output_type": "display_data",
          "data": {
            "text/html": [
              "2526272"
            ],
            "text/markdown": "2526272",
            "text/latex": "2526272",
            "text/plain": [
              "[1] 2526272"
            ]
          },
          "metadata": {}
        },
        {
          "output_type": "display_data",
          "data": {
            "text/html": [
              "2526233"
            ],
            "text/markdown": "2526233",
            "text/latex": "2526233",
            "text/plain": [
              "[1] 2526233"
            ]
          },
          "metadata": {}
        },
        {
          "output_type": "display_data",
          "data": {
            "text/html": [
              "2526233"
            ],
            "text/markdown": "2526233",
            "text/latex": "2526233",
            "text/plain": [
              "[1] 2526233"
            ]
          },
          "metadata": {}
        },
        {
          "output_type": "stream",
          "name": "stdout",
          "text": [
            "'data.frame':\t1894674 obs. of  16 variables:\n",
            " $ CRASH_DATE         : Date, format: \"2019-10-25\" \"2019-10-25\" ...\n",
            " $ CRASH_TIME         : int  15 15 15 15 15 15 15 15 15 15 ...\n",
            " $ PERSON_AGE         : num  33 82 33 82 42 51 51 17 42 37 ...\n",
            " $ PERSON_SEX         : Factor w/ 2 levels \"F\",\"M\": 1 2 2 2 2 2 2 2 2 2 ...\n",
            " $ LATITUDE           : num  40.7 40.7 40.7 40.7 40.7 ...\n",
            " $ LONGITUDE          : num  -73.9 -73.9 -73.9 -73.9 -73.9 ...\n",
            " $ KILLED_INJURED     : Factor w/ 23 levels \"0\",\"1\",\"2\",\"3\",..: 1 1 1 1 1 1 1 1 1 1 ...\n",
            " $ WEEKDAY            : Factor w/ 7 levels \"Friday\",\"Monday\",..: 1 1 1 1 1 1 1 1 1 1 ...\n",
            " $ Holiday            : chr  \"False\" \"False\" \"False\" \"False\" ...\n",
            " $ temp               : num  14.5 14.5 14.5 14.5 14.5 ...\n",
            " $ visibility         : num  10000 10000 10000 10000 10000 10000 10000 10000 10000 10000 ...\n",
            " $ pressure           : int  1027 1027 1027 1027 1027 1027 1027 1027 1027 1027 ...\n",
            " $ humidity           : int  63 63 63 63 63 63 63 63 63 63 ...\n",
            " $ wind_speed         : num  2.1 2.1 2.1 2.1 2.1 2.1 2.1 2.1 2.1 2.1 ...\n",
            " $ weather_main       : Factor w/ 11 levels \"Clear\",\"Clouds\",..: 1 1 1 1 1 1 1 1 1 1 ...\n",
            " $ weather_description: Factor w/ 28 levels \"broken clouds\",..: 20 20 20 20 20 20 20 20 20 20 ...\n",
            "'data.frame':\t631559 obs. of  16 variables:\n",
            " $ CRASH_DATE         : Date, format: \"2019-10-25\" \"2019-10-25\" ...\n",
            " $ CRASH_TIME         : int  15 15 15 15 15 15 15 15 15 15 ...\n",
            " $ PERSON_AGE         : num  33 42 42 17 30 30 39 35 65 51 ...\n",
            " $ PERSON_SEX         : Factor w/ 2 levels \"F\",\"M\": 2 2 2 2 2 2 2 2 2 1 ...\n",
            " $ LATITUDE           : num  40.7 40.7 40.7 40.7 40.6 ...\n",
            " $ LONGITUDE          : num  -73.9 -73.9 -73.9 -73.9 -73.9 ...\n",
            " $ KILLED_INJURED     : Factor w/ 23 levels \"0\",\"1\",\"2\",\"3\",..: 1 1 1 1 1 1 4 2 1 1 ...\n",
            " $ WEEKDAY            : Factor w/ 7 levels \"Friday\",\"Monday\",..: 1 1 1 1 1 1 1 1 1 1 ...\n",
            " $ Holiday            : chr  \"False\" \"False\" \"False\" \"False\" ...\n",
            " $ temp               : num  14.5 14.5 14.5 14.5 14.5 ...\n",
            " $ visibility         : num  10000 10000 10000 10000 10000 10000 10000 10000 10000 10000 ...\n",
            " $ pressure           : int  1027 1027 1027 1027 1027 1027 1027 1027 1027 1027 ...\n",
            " $ humidity           : int  63 63 63 63 63 63 63 63 63 63 ...\n",
            " $ wind_speed         : num  2.1 2.1 2.1 2.1 2.1 2.1 2.1 2.1 2.1 2.1 ...\n",
            " $ weather_main       : Factor w/ 11 levels \"Clear\",\"Clouds\",..: 1 1 1 1 1 1 1 1 1 1 ...\n",
            " $ weather_description: Factor w/ 28 levels \"broken clouds\",..: 20 20 20 20 20 20 20 20 20 20 ...\n"
          ]
        },
        {
          "output_type": "stream",
          "name": "stderr",
          "text": [
            "Warning message in tree(KILLED_INJURED ~ ., data = training):\n",
            "“NAs introduced by coercion”\n"
          ]
        },
        {
          "output_type": "display_data",
          "data": {
            "text/plain": [
              "node), split, n, deviance, yval, (yprob)\n",
              "      * denotes terminal node\n",
              "\n",
              "1) root 1894674 3152000 0 ( 7.449e-01 1.705e-01 4.983e-02 1.962e-02 8.207e-03 3.673e-03 1.544e-03 7.257e-04 3.399e-04 1.626e-04 1.726e-04 6.967e-05 5.964e-05 4.275e-05 1.847e-05 1.900e-05 3.483e-05 2.850e-05 2.375e-05 1.372e-05 1.689e-05 8.973e-06 5.278e-07 ) *"
            ]
          },
          "metadata": {}
        },
        {
          "output_type": "stream",
          "name": "stderr",
          "text": [
            "Warning message in pred1.tree(object, tree.matrix(newdata)):\n",
            "“NAs introduced by coercion”\n"
          ]
        },
        {
          "output_type": "display_data",
          "data": {
            "text/plain": [
              "Confusion Matrix and Statistics\n",
              "\n",
              "    predic\n",
              "true      0      1      2      3      4      5      6      7      8      9\n",
              "  0  470557      0      0      0      0      0      0      0      0      0\n",
              "  1  107409      0      0      0      0      0      0      0      0      0\n",
              "  2   31614      0      0      0      0      0      0      0      0      0\n",
              "  3   12384      0      0      0      0      0      0      0      0      0\n",
              "  4    5230      0      0      0      0      0      0      0      0      0\n",
              "  5    2245      0      0      0      0      0      0      0      0      0\n",
              "  6     965      0      0      0      0      0      0      0      0      0\n",
              "  7     482      0      0      0      0      0      0      0      0      0\n",
              "  8     224      0      0      0      0      0      0      0      0      0\n",
              "  9     102      0      0      0      0      0      0      0      0      0\n",
              "  10    123      0      0      0      0      0      0      0      0      0\n",
              "  11     52      0      0      0      0      0      0      0      0      0\n",
              "  12     39      0      0      0      0      0      0      0      0      0\n",
              "  13     25      0      0      0      0      0      0      0      0      0\n",
              "  14     12      0      0      0      0      0      0      0      0      0\n",
              "  15     13      0      0      0      0      0      0      0      0      0\n",
              "  16     23      0      0      0      0      0      0      0      0      0\n",
              "  17     19      0      0      0      0      0      0      0      0      0\n",
              "  18     13      0      0      0      0      0      0      0      0      0\n",
              "  19      9      0      0      0      0      0      0      0      0      0\n",
              "  20     12      0      0      0      0      0      0      0      0      0\n",
              "  22      6      0      0      0      0      0      0      0      0      0\n",
              "  28      1      0      0      0      0      0      0      0      0      0\n",
              "    predic\n",
              "true     10     11     12     13     14     15     16     17     18     19\n",
              "  0       0      0      0      0      0      0      0      0      0      0\n",
              "  1       0      0      0      0      0      0      0      0      0      0\n",
              "  2       0      0      0      0      0      0      0      0      0      0\n",
              "  3       0      0      0      0      0      0      0      0      0      0\n",
              "  4       0      0      0      0      0      0      0      0      0      0\n",
              "  5       0      0      0      0      0      0      0      0      0      0\n",
              "  6       0      0      0      0      0      0      0      0      0      0\n",
              "  7       0      0      0      0      0      0      0      0      0      0\n",
              "  8       0      0      0      0      0      0      0      0      0      0\n",
              "  9       0      0      0      0      0      0      0      0      0      0\n",
              "  10      0      0      0      0      0      0      0      0      0      0\n",
              "  11      0      0      0      0      0      0      0      0      0      0\n",
              "  12      0      0      0      0      0      0      0      0      0      0\n",
              "  13      0      0      0      0      0      0      0      0      0      0\n",
              "  14      0      0      0      0      0      0      0      0      0      0\n",
              "  15      0      0      0      0      0      0      0      0      0      0\n",
              "  16      0      0      0      0      0      0      0      0      0      0\n",
              "  17      0      0      0      0      0      0      0      0      0      0\n",
              "  18      0      0      0      0      0      0      0      0      0      0\n",
              "  19      0      0      0      0      0      0      0      0      0      0\n",
              "  20      0      0      0      0      0      0      0      0      0      0\n",
              "  22      0      0      0      0      0      0      0      0      0      0\n",
              "  28      0      0      0      0      0      0      0      0      0      0\n",
              "    predic\n",
              "true     20     22     28\n",
              "  0       0      0      0\n",
              "  1       0      0      0\n",
              "  2       0      0      0\n",
              "  3       0      0      0\n",
              "  4       0      0      0\n",
              "  5       0      0      0\n",
              "  6       0      0      0\n",
              "  7       0      0      0\n",
              "  8       0      0      0\n",
              "  9       0      0      0\n",
              "  10      0      0      0\n",
              "  11      0      0      0\n",
              "  12      0      0      0\n",
              "  13      0      0      0\n",
              "  14      0      0      0\n",
              "  15      0      0      0\n",
              "  16      0      0      0\n",
              "  17      0      0      0\n",
              "  18      0      0      0\n",
              "  19      0      0      0\n",
              "  20      0      0      0\n",
              "  22      0      0      0\n",
              "  28      0      0      0\n",
              "\n",
              "Overall Statistics\n",
              "                                         \n",
              "               Accuracy : 0.7451         \n",
              "                 95% CI : (0.744, 0.7461)\n",
              "    No Information Rate : 1              \n",
              "    P-Value [Acc > NIR] : 1              \n",
              "                                         \n",
              "                  Kappa : 0              \n",
              "                                         \n",
              " Mcnemar's Test P-Value : NA             \n",
              "\n",
              "Statistics by Class:\n",
              "\n",
              "                     Class: 0 Class: 1 Class: 2 Class: 3 Class: 4 Class: 5\n",
              "Sensitivity            0.7451       NA       NA       NA       NA       NA\n",
              "Specificity                NA   0.8299  0.94994  0.98039 0.991719 0.996445\n",
              "Pos Pred Value             NA       NA       NA       NA       NA       NA\n",
              "Neg Pred Value             NA       NA       NA       NA       NA       NA\n",
              "Prevalence             1.0000   0.0000  0.00000  0.00000 0.000000 0.000000\n",
              "Detection Rate         0.7451   0.0000  0.00000  0.00000 0.000000 0.000000\n",
              "Detection Prevalence   0.7451   0.1701  0.05006  0.01961 0.008281 0.003555\n",
              "Balanced Accuracy          NA       NA       NA       NA       NA       NA\n",
              "                     Class: 6  Class: 7  Class: 8  Class: 9 Class: 10 Class: 11\n",
              "Sensitivity                NA        NA        NA        NA        NA        NA\n",
              "Specificity          0.998472 0.9992368 0.9996453 0.9998385 0.9998052 9.999e-01\n",
              "Pos Pred Value             NA        NA        NA        NA        NA        NA\n",
              "Neg Pred Value             NA        NA        NA        NA        NA        NA\n",
              "Prevalence           0.000000 0.0000000 0.0000000 0.0000000 0.0000000 0.000e+00\n",
              "Detection Rate       0.000000 0.0000000 0.0000000 0.0000000 0.0000000 0.000e+00\n",
              "Detection Prevalence 0.001528 0.0007632 0.0003547 0.0001615 0.0001948 8.234e-05\n",
              "Balanced Accuracy          NA        NA        NA        NA        NA        NA\n",
              "                     Class: 12 Class: 13 Class: 14 Class: 15 Class: 16\n",
              "Sensitivity                 NA        NA        NA        NA        NA\n",
              "Specificity          9.999e-01 1.000e+00   1.0e+00 1.000e+00 1.000e+00\n",
              "Pos Pred Value              NA        NA        NA        NA        NA\n",
              "Neg Pred Value              NA        NA        NA        NA        NA\n",
              "Prevalence           0.000e+00 0.000e+00   0.0e+00 0.000e+00 0.000e+00\n",
              "Detection Rate       0.000e+00 0.000e+00   0.0e+00 0.000e+00 0.000e+00\n",
              "Detection Prevalence 6.175e-05 3.958e-05   1.9e-05 2.058e-05 3.642e-05\n",
              "Balanced Accuracy           NA        NA        NA        NA        NA\n",
              "                     Class: 17 Class: 18 Class: 19 Class: 20 Class: 22\n",
              "Sensitivity                 NA        NA        NA        NA        NA\n",
              "Specificity          1.000e+00 1.000e+00 1.000e+00   1.0e+00   1.0e+00\n",
              "Pos Pred Value              NA        NA        NA        NA        NA\n",
              "Neg Pred Value              NA        NA        NA        NA        NA\n",
              "Prevalence           0.000e+00 0.000e+00 0.000e+00   0.0e+00   0.0e+00\n",
              "Detection Rate       0.000e+00 0.000e+00 0.000e+00   0.0e+00   0.0e+00\n",
              "Detection Prevalence 3.008e-05 2.058e-05 1.425e-05   1.9e-05   9.5e-06\n",
              "Balanced Accuracy           NA        NA        NA        NA        NA\n",
              "                     Class: 28\n",
              "Sensitivity                 NA\n",
              "Specificity          1.000e+00\n",
              "Pos Pred Value              NA\n",
              "Neg Pred Value              NA\n",
              "Prevalence           0.000e+00\n",
              "Detection Rate       0.000e+00\n",
              "Detection Prevalence 1.583e-06\n",
              "Balanced Accuracy           NA"
            ]
          },
          "metadata": {}
        }
      ]
    },
    {
      "cell_type": "markdown",
      "source": [
        "# Downsample"
      ],
      "metadata": {
        "id": "DzymTo5PfLg-"
      }
    },
    {
      "cell_type": "code",
      "source": [
        "data2=head(data1,100000)\n",
        "## Data pre-processing\n",
        "data2 = subset(data2, select = -c(CONTRIBUTING.FACTOR.VEHICLE.1,LATITUDE,LONGITUDE,wind_deg,temp_min,temp_max,dew_point,CONTRIBUTING.FACTOR.VEHICLE.2,COLLISION_ID,X,VEHICLE.TYPE.CODE.1,VEHICLE.TYPE.CODE.2,ON.STREET.NAME,CROSS.STREET.NAME,OFF.STREET.NAME, VEHICLE_ID,weather_id,clouds_all,rain_1h,wind_gust,weather_icon,rain_3h,snow_3h,sea_level,grnd_level,snow_1h) )\n",
        "names(data2)[names(data2) == \"KILLED.INJURED\"] <- \"KILLED_INJURED\"\n",
        "colSums(is.na(data2))\n",
        "data2$CRASH_DATE=as.Date(data2$CRASH_DATE, format = \"%Y-%m-%d\")\n",
        "nrow(data2)\n",
        "data2=data2[!is.na(data2$visibility),]\n",
        "nrow(data2)\n",
        "data2=data2[!is.na(data2$KILLED_INJURED),]\n",
        "data2$KILLED_INJURED <- as.factor(data2$KILLED_INJURED)\n",
        "nrow(data2)\n",
        "index0 <- which(data2$KILLED_INJURED == 0)\n",
        "index1 <- which(data2$KILLED_INJURED == 1)\n",
        "deleteindex <- sample(index0,length(index0)-length(index1))\n",
        "nrow(data2)\n",
        "data2=data2[-deleteindex,]\n",
        "nrow(data2)\n",
        "data2$weather_main <- as.factor(data2$weather_main)\n",
        "data2$weather_description <- as.factor(data2$weather_description)\n",
        "data2$PERSON_SEX <- as.factor(data2$PERSON_SEX)\n",
        "data2$WEEKDAY <- as.factor(data2$WEEKDAY)\n",
        "set.seed(1)\n",
        "sample = sample.split(data2, SplitRatio = 0.80)\n",
        "training = subset(data2, sample == TRUE)\n",
        "test = subset(data2, sample == FALSE)\n",
        "rm(sample)\n",
        "str(training)\n",
        "str(test)\n",
        "tree.brea=tree(KILLED_INJURED~., data=training)\n",
        "tree.brea\n",
        "pred=predict(tree.brea,test,type=\"class\")\n",
        "cm=table(true=test$KILLED_INJURED,predic=pred)\n",
        "confusionMatrix(cm)"
      ],
      "metadata": {
        "colab": {
          "base_uri": "https://localhost:8080/",
          "height": 1000
        },
        "id": "ya1cCMLRvzpN",
        "outputId": "f7a96066-8ef9-484c-f0e0-c59d355d0d0d"
      },
      "execution_count": null,
      "outputs": [
        {
          "output_type": "display_data",
          "data": {
            "text/html": [
              "<style>\n",
              ".dl-inline {width: auto; margin:0; padding: 0}\n",
              ".dl-inline>dt, .dl-inline>dd {float: none; width: auto; display: inline-block}\n",
              ".dl-inline>dt::after {content: \":\\0020\"; padding-right: .5ex}\n",
              ".dl-inline>dt:not(:first-of-type) {padding-left: .5ex}\n",
              "</style><dl class=dl-inline><dt>CRASH_DATE</dt><dd>0</dd><dt>CRASH_TIME</dt><dd>0</dd><dt>PERSON_AGE</dt><dd>0</dd><dt>PERSON_SEX</dt><dd>0</dd><dt>KILLED_INJURED</dt><dd>0</dd><dt>WEEKDAY</dt><dd>0</dd><dt>Holiday</dt><dd>0</dd><dt>temp</dt><dd>0</dd><dt>visibility</dt><dd>83</dd><dt>pressure</dt><dd>0</dd><dt>humidity</dt><dd>0</dd><dt>wind_speed</dt><dd>0</dd><dt>weather_main</dt><dd>0</dd><dt>weather_description</dt><dd>0</dd></dl>\n"
            ],
            "text/markdown": "CRASH_DATE\n:   0CRASH_TIME\n:   0PERSON_AGE\n:   0PERSON_SEX\n:   0KILLED_INJURED\n:   0WEEKDAY\n:   0Holiday\n:   0temp\n:   0visibility\n:   83pressure\n:   0humidity\n:   0wind_speed\n:   0weather_main\n:   0weather_description\n:   0\n\n",
            "text/latex": "\\begin{description*}\n\\item[CRASH\\textbackslash{}\\_DATE] 0\n\\item[CRASH\\textbackslash{}\\_TIME] 0\n\\item[PERSON\\textbackslash{}\\_AGE] 0\n\\item[PERSON\\textbackslash{}\\_SEX] 0\n\\item[KILLED\\textbackslash{}\\_INJURED] 0\n\\item[WEEKDAY] 0\n\\item[Holiday] 0\n\\item[temp] 0\n\\item[visibility] 83\n\\item[pressure] 0\n\\item[humidity] 0\n\\item[wind\\textbackslash{}\\_speed] 0\n\\item[weather\\textbackslash{}\\_main] 0\n\\item[weather\\textbackslash{}\\_description] 0\n\\end{description*}\n",
            "text/plain": [
              "         CRASH_DATE          CRASH_TIME          PERSON_AGE          PERSON_SEX \n",
              "                  0                   0                   0                   0 \n",
              "     KILLED_INJURED             WEEKDAY             Holiday                temp \n",
              "                  0                   0                   0                   0 \n",
              "         visibility            pressure            humidity          wind_speed \n",
              "                 83                   0                   0                   0 \n",
              "       weather_main weather_description \n",
              "                  0                   0 "
            ]
          },
          "metadata": {}
        },
        {
          "output_type": "display_data",
          "data": {
            "text/html": [
              "100000"
            ],
            "text/markdown": "100000",
            "text/latex": "100000",
            "text/plain": [
              "[1] 100000"
            ]
          },
          "metadata": {}
        },
        {
          "output_type": "display_data",
          "data": {
            "text/html": [
              "99917"
            ],
            "text/markdown": "99917",
            "text/latex": "99917",
            "text/plain": [
              "[1] 99917"
            ]
          },
          "metadata": {}
        },
        {
          "output_type": "display_data",
          "data": {
            "text/html": [
              "99917"
            ],
            "text/markdown": "99917",
            "text/latex": "99917",
            "text/plain": [
              "[1] 99917"
            ]
          },
          "metadata": {}
        },
        {
          "output_type": "display_data",
          "data": {
            "text/html": [
              "99917"
            ],
            "text/markdown": "99917",
            "text/latex": "99917",
            "text/plain": [
              "[1] 99917"
            ]
          },
          "metadata": {}
        },
        {
          "output_type": "display_data",
          "data": {
            "text/html": [
              "37791"
            ],
            "text/markdown": "37791",
            "text/latex": "37791",
            "text/plain": [
              "[1] 37791"
            ]
          },
          "metadata": {}
        },
        {
          "output_type": "stream",
          "name": "stdout",
          "text": [
            "'data.frame':\t29693 obs. of  14 variables:\n",
            " $ CRASH_DATE         : Date, format: \"2019-10-25\" \"2019-10-25\" ...\n",
            " $ CRASH_TIME         : int  15 15 15 15 15 15 15 15 15 15 ...\n",
            " $ PERSON_AGE         : num  33 33 42 39 38 35 39 35 35 35 ...\n",
            " $ PERSON_SEX         : Factor w/ 2 levels \"F\",\"M\": 2 2 2 2 2 2 2 2 2 2 ...\n",
            " $ KILLED_INJURED     : Factor w/ 12 levels \"0\",\"1\",\"2\",\"3\",..: 1 1 1 4 4 4 4 4 2 2 ...\n",
            " $ WEEKDAY            : Factor w/ 7 levels \"Friday\",\"Monday\",..: 1 1 1 1 1 1 1 1 1 1 ...\n",
            " $ Holiday            : chr  \"False\" \"False\" \"False\" \"False\" ...\n",
            " $ temp               : num  14.5 14.5 14.5 14.5 14.5 ...\n",
            " $ visibility         : num  10000 10000 10000 10000 10000 10000 10000 10000 10000 10000 ...\n",
            " $ pressure           : int  1027 1027 1027 1027 1027 1027 1027 1027 1027 1027 ...\n",
            " $ humidity           : int  63 63 63 63 63 63 63 63 63 63 ...\n",
            " $ wind_speed         : num  2.1 2.1 2.1 2.1 2.1 2.1 2.1 2.1 2.1 2.1 ...\n",
            " $ weather_main       : Factor w/ 10 levels \"Clear\",\"Clouds\",..: 1 1 1 1 1 1 1 1 1 1 ...\n",
            " $ weather_description: Factor w/ 18 levels \"broken clouds\",..: 15 15 15 15 15 15 15 15 15 15 ...\n",
            "'data.frame':\t8098 obs. of  14 variables:\n",
            " $ CRASH_DATE         : Date, format: \"2019-10-25\" \"2019-10-25\" ...\n",
            " $ CRASH_TIME         : int  15 15 15 15 15 15 15 15 15 15 ...\n",
            " $ PERSON_AGE         : num  30 35 27 52 49 32 42 67 38 59 ...\n",
            " $ PERSON_SEX         : Factor w/ 2 levels \"F\",\"M\": 2 1 2 2 1 2 2 1 1 1 ...\n",
            " $ KILLED_INJURED     : Factor w/ 12 levels \"0\",\"1\",\"2\",\"3\",..: 1 4 4 1 1 1 7 1 1 2 ...\n",
            " $ WEEKDAY            : Factor w/ 7 levels \"Friday\",\"Monday\",..: 1 1 1 1 1 1 1 1 1 1 ...\n",
            " $ Holiday            : chr  \"False\" \"False\" \"False\" \"False\" ...\n",
            " $ temp               : num  14.5 14.5 14.5 14.5 14.5 ...\n",
            " $ visibility         : num  10000 10000 10000 10000 10000 10000 10000 10000 10000 10000 ...\n",
            " $ pressure           : int  1027 1027 1027 1027 1027 1027 1027 1027 1027 1027 ...\n",
            " $ humidity           : int  63 63 63 63 63 63 63 63 63 63 ...\n",
            " $ wind_speed         : num  2.1 2.1 2.1 2.1 2.1 2.1 2.1 2.1 2.1 2.1 ...\n",
            " $ weather_main       : Factor w/ 10 levels \"Clear\",\"Clouds\",..: 1 1 1 1 1 1 1 1 1 1 ...\n",
            " $ weather_description: Factor w/ 18 levels \"broken clouds\",..: 15 15 15 15 15 15 15 15 15 15 ...\n"
          ]
        },
        {
          "output_type": "stream",
          "name": "stderr",
          "text": [
            "Warning message in tree(KILLED_INJURED ~ ., data = training):\n",
            "“NAs introduced by coercion”\n"
          ]
        },
        {
          "output_type": "display_data",
          "data": {
            "text/plain": [
              "node), split, n, deviance, yval, (yprob)\n",
              "      * denotes terminal node\n",
              "\n",
              "1) root 29693 76800 1 ( 0.4017445 0.4026201 0.1133601 0.0439161 0.0212508 0.0081837 0.0043781 0.0008419 0.0011787 0.0006736 0.0013471 0.0005052 ) *"
            ]
          },
          "metadata": {}
        },
        {
          "output_type": "stream",
          "name": "stderr",
          "text": [
            "Warning message in pred1.tree(object, tree.matrix(newdata)):\n",
            "“NAs introduced by coercion”\n"
          ]
        },
        {
          "output_type": "display_data",
          "data": {
            "text/plain": [
              "Confusion Matrix and Statistics\n",
              "\n",
              "    predic\n",
              "true    0    1    2    3    4    5    6    7    8   10   12   18\n",
              "  0     0 3281    0    0    0    0    0    0    0    0    0    0\n",
              "  1     0 3255    0    0    0    0    0    0    0    0    0    0\n",
              "  2     0  909    0    0    0    0    0    0    0    0    0    0\n",
              "  3     0  341    0    0    0    0    0    0    0    0    0    0\n",
              "  4     0  175    0    0    0    0    0    0    0    0    0    0\n",
              "  5     0   68    0    0    0    0    0    0    0    0    0    0\n",
              "  6     0   35    0    0    0    0    0    0    0    0    0    0\n",
              "  7     0    9    0    0    0    0    0    0    0    0    0    0\n",
              "  8     0    4    0    0    0    0    0    0    0    0    0    0\n",
              "  10    0    3    0    0    0    0    0    0    0    0    0    0\n",
              "  12    0   14    0    0    0    0    0    0    0    0    0    0\n",
              "  18    0    4    0    0    0    0    0    0    0    0    0    0\n",
              "\n",
              "Overall Statistics\n",
              "                                          \n",
              "               Accuracy : 0.402           \n",
              "                 95% CI : (0.3912, 0.4127)\n",
              "    No Information Rate : 1               \n",
              "    P-Value [Acc > NIR] : 1               \n",
              "                                          \n",
              "                  Kappa : 0               \n",
              "                                          \n",
              " Mcnemar's Test P-Value : NA              \n",
              "\n",
              "Statistics by Class:\n",
              "\n",
              "                     Class: 0 Class: 1 Class: 2 Class: 3 Class: 4 Class: 5\n",
              "Sensitivity                NA    0.402       NA       NA       NA       NA\n",
              "Specificity            0.5948       NA   0.8878  0.95789  0.97839 0.991603\n",
              "Pos Pred Value             NA       NA       NA       NA       NA       NA\n",
              "Neg Pred Value             NA       NA       NA       NA       NA       NA\n",
              "Prevalence             0.0000    1.000   0.0000  0.00000  0.00000 0.000000\n",
              "Detection Rate         0.0000    0.402   0.0000  0.00000  0.00000 0.000000\n",
              "Detection Prevalence   0.4052    0.402   0.1122  0.04211  0.02161 0.008397\n",
              "Balanced Accuracy          NA       NA       NA       NA       NA       NA\n",
              "                     Class: 6 Class: 7  Class: 8 Class: 10 Class: 12 Class: 18\n",
              "Sensitivity                NA       NA        NA        NA        NA        NA\n",
              "Specificity          0.995678 0.998889 0.9995061 0.9996295  0.998271 0.9995061\n",
              "Pos Pred Value             NA       NA        NA        NA        NA        NA\n",
              "Neg Pred Value             NA       NA        NA        NA        NA        NA\n",
              "Prevalence           0.000000 0.000000 0.0000000 0.0000000  0.000000 0.0000000\n",
              "Detection Rate       0.000000 0.000000 0.0000000 0.0000000  0.000000 0.0000000\n",
              "Detection Prevalence 0.004322 0.001111 0.0004939 0.0003705  0.001729 0.0004939\n",
              "Balanced Accuracy          NA       NA        NA        NA        NA        NA"
            ]
          },
          "metadata": {}
        }
      ]
    },
    {
      "cell_type": "code",
      "source": [
        "data2=head(data1,500000)\n",
        "## Data pre-processing\n",
        "data2 = subset(data2, select = -c(CONTRIBUTING.FACTOR.VEHICLE.1,LATITUDE,LONGITUDE,wind_deg,temp_min,temp_max,dew_point,CONTRIBUTING.FACTOR.VEHICLE.2,COLLISION_ID,X,VEHICLE.TYPE.CODE.1,VEHICLE.TYPE.CODE.2,ON.STREET.NAME,CROSS.STREET.NAME,OFF.STREET.NAME, VEHICLE_ID,weather_id,clouds_all,rain_1h,wind_gust,weather_icon,rain_3h,snow_3h,sea_level,grnd_level,snow_1h) )\n",
        "names(data2)[names(data2) == \"KILLED.INJURED\"] <- \"KILLED_INJURED\"\n",
        "colSums(is.na(data2))\n",
        "data2$CRASH_DATE=as.Date(data2$CRASH_DATE, format = \"%Y-%m-%d\")\n",
        "nrow(data2)\n",
        "data2=data2[!is.na(data2$visibility),]\n",
        "nrow(data2)\n",
        "data2=data2[!is.na(data2$KILLED_INJURED),]\n",
        "data2$KILLED_INJURED <- as.factor(data2$KILLED_INJURED)\n",
        "nrow(data2)\n",
        "index0 <- which(data2$KILLED_INJURED == 0)\n",
        "index1 <- which(data2$KILLED_INJURED == 1)\n",
        "deleteindex <- sample(index0,length(index0)-length(index1))\n",
        "nrow(data2)\n",
        "data2=data2[-deleteindex,]\n",
        "nrow(data2)\n",
        "data2$weather_main <- as.factor(data2$weather_main)\n",
        "data2$weather_description <- as.factor(data2$weather_description)\n",
        "data2$PERSON_SEX <- as.factor(data2$PERSON_SEX)\n",
        "data2$WEEKDAY <- as.factor(data2$WEEKDAY)\n",
        "set.seed(1)\n",
        "sample = sample.split(data2, SplitRatio = 0.80)\n",
        "training = subset(data2, sample == TRUE)\n",
        "test = subset(data2, sample == FALSE)\n",
        "rm(sample)\n",
        "str(training)\n",
        "str(test)\n",
        "tree.brea=tree(KILLED_INJURED~., data=training)\n",
        "tree.brea\n",
        "pred=predict(tree.brea,test,type=\"class\")\n",
        "cm=table(true=test$KILLED_INJURED,predic=pred)\n",
        "confusionMatrix(cm)"
      ],
      "metadata": {
        "colab": {
          "base_uri": "https://localhost:8080/",
          "height": 1000
        },
        "id": "-aidhpYMvxvv",
        "outputId": "0f33128c-cc12-4808-aff1-f9245408f02c"
      },
      "execution_count": null,
      "outputs": [
        {
          "output_type": "display_data",
          "data": {
            "text/html": [
              "<style>\n",
              ".dl-inline {width: auto; margin:0; padding: 0}\n",
              ".dl-inline>dt, .dl-inline>dd {float: none; width: auto; display: inline-block}\n",
              ".dl-inline>dt::after {content: \":\\0020\"; padding-right: .5ex}\n",
              ".dl-inline>dt:not(:first-of-type) {padding-left: .5ex}\n",
              "</style><dl class=dl-inline><dt>CRASH_DATE</dt><dd>0</dd><dt>CRASH_TIME</dt><dd>0</dd><dt>PERSON_AGE</dt><dd>0</dd><dt>PERSON_SEX</dt><dd>0</dd><dt>KILLED_INJURED</dt><dd>1</dd><dt>WEEKDAY</dt><dd>0</dd><dt>Holiday</dt><dd>0</dd><dt>temp</dt><dd>0</dd><dt>visibility</dt><dd>442</dd><dt>pressure</dt><dd>0</dd><dt>humidity</dt><dd>0</dd><dt>wind_speed</dt><dd>0</dd><dt>weather_main</dt><dd>0</dd><dt>weather_description</dt><dd>0</dd></dl>\n"
            ],
            "text/markdown": "CRASH_DATE\n:   0CRASH_TIME\n:   0PERSON_AGE\n:   0PERSON_SEX\n:   0KILLED_INJURED\n:   1WEEKDAY\n:   0Holiday\n:   0temp\n:   0visibility\n:   442pressure\n:   0humidity\n:   0wind_speed\n:   0weather_main\n:   0weather_description\n:   0\n\n",
            "text/latex": "\\begin{description*}\n\\item[CRASH\\textbackslash{}\\_DATE] 0\n\\item[CRASH\\textbackslash{}\\_TIME] 0\n\\item[PERSON\\textbackslash{}\\_AGE] 0\n\\item[PERSON\\textbackslash{}\\_SEX] 0\n\\item[KILLED\\textbackslash{}\\_INJURED] 1\n\\item[WEEKDAY] 0\n\\item[Holiday] 0\n\\item[temp] 0\n\\item[visibility] 442\n\\item[pressure] 0\n\\item[humidity] 0\n\\item[wind\\textbackslash{}\\_speed] 0\n\\item[weather\\textbackslash{}\\_main] 0\n\\item[weather\\textbackslash{}\\_description] 0\n\\end{description*}\n",
            "text/plain": [
              "         CRASH_DATE          CRASH_TIME          PERSON_AGE          PERSON_SEX \n",
              "                  0                   0                   0                   0 \n",
              "     KILLED_INJURED             WEEKDAY             Holiday                temp \n",
              "                  1                   0                   0                   0 \n",
              "         visibility            pressure            humidity          wind_speed \n",
              "                442                   0                   0                   0 \n",
              "       weather_main weather_description \n",
              "                  0                   0 "
            ]
          },
          "metadata": {}
        },
        {
          "output_type": "display_data",
          "data": {
            "text/html": [
              "500000"
            ],
            "text/markdown": "500000",
            "text/latex": "500000",
            "text/plain": [
              "[1] 500000"
            ]
          },
          "metadata": {}
        },
        {
          "output_type": "display_data",
          "data": {
            "text/html": [
              "499558"
            ],
            "text/markdown": "499558",
            "text/latex": "499558",
            "text/plain": [
              "[1] 499558"
            ]
          },
          "metadata": {}
        },
        {
          "output_type": "display_data",
          "data": {
            "text/html": [
              "499557"
            ],
            "text/markdown": "499557",
            "text/latex": "499557",
            "text/plain": [
              "[1] 499557"
            ]
          },
          "metadata": {}
        },
        {
          "output_type": "display_data",
          "data": {
            "text/html": [
              "499557"
            ],
            "text/markdown": "499557",
            "text/latex": "499557",
            "text/plain": [
              "[1] 499557"
            ]
          },
          "metadata": {}
        },
        {
          "output_type": "display_data",
          "data": {
            "text/html": [
              "180966"
            ],
            "text/markdown": "180966",
            "text/latex": "180966",
            "text/plain": [
              "[1] 180966"
            ]
          },
          "metadata": {}
        },
        {
          "output_type": "stream",
          "name": "stdout",
          "text": [
            "'data.frame':\t142188 obs. of  14 variables:\n",
            " $ CRASH_DATE         : Date, format: \"2019-10-25\" \"2019-10-25\" ...\n",
            " $ CRASH_TIME         : int  15 15 15 15 15 15 15 15 15 15 ...\n",
            " $ PERSON_AGE         : num  33 33 42 39 38 35 39 35 35 35 ...\n",
            " $ PERSON_SEX         : Factor w/ 2 levels \"F\",\"M\": 2 2 2 2 2 2 2 2 2 2 ...\n",
            " $ KILLED_INJURED     : Factor w/ 16 levels \"0\",\"1\",\"2\",\"3\",..: 1 1 1 4 4 4 4 4 2 2 ...\n",
            " $ WEEKDAY            : Factor w/ 7 levels \"Friday\",\"Monday\",..: 1 1 1 1 1 1 1 1 1 1 ...\n",
            " $ Holiday            : chr  \"False\" \"False\" \"False\" \"False\" ...\n",
            " $ temp               : num  14.5 14.5 14.5 14.5 14.5 ...\n",
            " $ visibility         : num  10000 10000 10000 10000 10000 10000 10000 10000 10000 10000 ...\n",
            " $ pressure           : int  1027 1027 1027 1027 1027 1027 1027 1027 1027 1027 ...\n",
            " $ humidity           : int  63 63 63 63 63 63 63 63 63 63 ...\n",
            " $ wind_speed         : num  2.1 2.1 2.1 2.1 2.1 2.1 2.1 2.1 2.1 2.1 ...\n",
            " $ weather_main       : Factor w/ 11 levels \"Clear\",\"Clouds\",..: 1 1 1 1 1 1 1 1 1 1 ...\n",
            " $ weather_description: Factor w/ 24 levels \"broken clouds\",..: 17 17 17 17 17 17 17 17 17 17 ...\n",
            "'data.frame':\t38778 obs. of  14 variables:\n",
            " $ CRASH_DATE         : Date, format: \"2019-10-25\" \"2019-10-25\" ...\n",
            " $ CRASH_TIME         : int  15 15 15 15 15 15 15 15 15 17 ...\n",
            " $ PERSON_AGE         : num  17 35 27 31 21 21 73 62 59 29 ...\n",
            " $ PERSON_SEX         : Factor w/ 2 levels \"F\",\"M\": 2 1 2 1 1 1 1 2 1 2 ...\n",
            " $ KILLED_INJURED     : Factor w/ 16 levels \"0\",\"1\",\"2\",\"3\",..: 1 4 4 2 2 2 3 1 2 2 ...\n",
            " $ WEEKDAY            : Factor w/ 7 levels \"Friday\",\"Monday\",..: 1 1 1 1 1 1 1 1 1 3 ...\n",
            " $ Holiday            : chr  \"False\" \"False\" \"False\" \"False\" ...\n",
            " $ temp               : num  14.5 14.5 14.5 14.5 14.5 ...\n",
            " $ visibility         : num  10000 10000 10000 10000 10000 10000 10000 10000 10000 10000 ...\n",
            " $ pressure           : int  1027 1027 1027 1027 1027 1027 1027 1027 1027 1025 ...\n",
            " $ humidity           : int  63 63 63 63 63 63 63 63 63 48 ...\n",
            " $ wind_speed         : num  2.1 2.1 2.1 2.1 2.1 2.1 2.1 2.1 2.1 4.1 ...\n",
            " $ weather_main       : Factor w/ 11 levels \"Clear\",\"Clouds\",..: 1 1 1 1 1 1 1 1 1 7 ...\n",
            " $ weather_description: Factor w/ 24 levels \"broken clouds\",..: 17 17 17 17 17 17 17 17 17 9 ...\n"
          ]
        },
        {
          "output_type": "stream",
          "name": "stderr",
          "text": [
            "Warning message in tree(KILLED_INJURED ~ ., data = training):\n",
            "“NAs introduced by coercion”\n"
          ]
        },
        {
          "output_type": "display_data",
          "data": {
            "text/plain": [
              "node), split, n, deviance, yval, (yprob)\n",
              "      * denotes terminal node\n",
              "\n",
              "1) root 142188 370000 1 ( 3.991e-01 4.003e-01 1.166e-01 4.755e-02 1.866e-02 8.967e-03 4.142e-03 1.315e-03 1.336e-03 3.868e-04 5.204e-04 1.829e-04 4.009e-04 1.407e-04 9.846e-05 2.040e-04 ) *"
            ]
          },
          "metadata": {}
        },
        {
          "output_type": "stream",
          "name": "stderr",
          "text": [
            "Warning message in pred1.tree(object, tree.matrix(newdata)):\n",
            "“NAs introduced by coercion”\n"
          ]
        },
        {
          "output_type": "display_data",
          "data": {
            "text/plain": [
              "Confusion Matrix and Statistics\n",
              "\n",
              "    predic\n",
              "true     0     1     2     3     4     5     6     7     8     9    10    11\n",
              "  0      0 15641     0     0     0     0     0     0     0     0     0     0\n",
              "  1      0 15473     0     0     0     0     0     0     0     0     0     0\n",
              "  2      0  4455     0     0     0     0     0     0     0     0     0     0\n",
              "  3      0  1832     0     0     0     0     0     0     0     0     0     0\n",
              "  4      0   714     0     0     0     0     0     0     0     0     0     0\n",
              "  5      0   330     0     0     0     0     0     0     0     0     0     0\n",
              "  6      0   163     0     0     0     0     0     0     0     0     0     0\n",
              "  7      0    51     0     0     0     0     0     0     0     0     0     0\n",
              "  8      0    50     0     0     0     0     0     0     0     0     0     0\n",
              "  9      0    14     0     0     0     0     0     0     0     0     0     0\n",
              "  10     0    16     0     0     0     0     0     0     0     0     0     0\n",
              "  11     0     4     0     0     0     0     0     0     0     0     0     0\n",
              "  12     0    13     0     0     0     0     0     0     0     0     0     0\n",
              "  13     0     9     0     0     0     0     0     0     0     0     0     0\n",
              "  16     0     5     0     0     0     0     0     0     0     0     0     0\n",
              "  18     0     8     0     0     0     0     0     0     0     0     0     0\n",
              "    predic\n",
              "true    12    13    16    18\n",
              "  0      0     0     0     0\n",
              "  1      0     0     0     0\n",
              "  2      0     0     0     0\n",
              "  3      0     0     0     0\n",
              "  4      0     0     0     0\n",
              "  5      0     0     0     0\n",
              "  6      0     0     0     0\n",
              "  7      0     0     0     0\n",
              "  8      0     0     0     0\n",
              "  9      0     0     0     0\n",
              "  10     0     0     0     0\n",
              "  11     0     0     0     0\n",
              "  12     0     0     0     0\n",
              "  13     0     0     0     0\n",
              "  16     0     0     0     0\n",
              "  18     0     0     0     0\n",
              "\n",
              "Overall Statistics\n",
              "                                          \n",
              "               Accuracy : 0.399           \n",
              "                 95% CI : (0.3941, 0.4039)\n",
              "    No Information Rate : 1               \n",
              "    P-Value [Acc > NIR] : 1               \n",
              "                                          \n",
              "                  Kappa : 0               \n",
              "                                          \n",
              " Mcnemar's Test P-Value : NA              \n",
              "\n",
              "Statistics by Class:\n",
              "\n",
              "                     Class: 0 Class: 1 Class: 2 Class: 3 Class: 4 Class: 5\n",
              "Sensitivity                NA    0.399       NA       NA       NA       NA\n",
              "Specificity            0.5967       NA   0.8851  0.95276  0.98159  0.99149\n",
              "Pos Pred Value             NA       NA       NA       NA       NA       NA\n",
              "Neg Pred Value             NA       NA       NA       NA       NA       NA\n",
              "Prevalence             0.0000    1.000   0.0000  0.00000  0.00000  0.00000\n",
              "Detection Rate         0.0000    0.399   0.0000  0.00000  0.00000  0.00000\n",
              "Detection Prevalence   0.4033    0.399   0.1149  0.04724  0.01841  0.00851\n",
              "Balanced Accuracy          NA       NA       NA       NA       NA       NA\n",
              "                     Class: 6 Class: 7 Class: 8 Class: 9 Class: 10 Class: 11\n",
              "Sensitivity                NA       NA       NA       NA        NA        NA\n",
              "Specificity          0.995797 0.998685 0.998711 0.999639 0.9995874 0.9998968\n",
              "Pos Pred Value             NA       NA       NA       NA        NA        NA\n",
              "Neg Pred Value             NA       NA       NA       NA        NA        NA\n",
              "Prevalence           0.000000 0.000000 0.000000 0.000000 0.0000000 0.0000000\n",
              "Detection Rate       0.000000 0.000000 0.000000 0.000000 0.0000000 0.0000000\n",
              "Detection Prevalence 0.004203 0.001315 0.001289 0.000361 0.0004126 0.0001032\n",
              "Balanced Accuracy          NA       NA       NA       NA        NA        NA\n",
              "                     Class: 12 Class: 13 Class: 16 Class: 18\n",
              "Sensitivity                 NA        NA        NA        NA\n",
              "Specificity          0.9996648 0.9997679 0.9998711 0.9997937\n",
              "Pos Pred Value              NA        NA        NA        NA\n",
              "Neg Pred Value              NA        NA        NA        NA\n",
              "Prevalence           0.0000000 0.0000000 0.0000000 0.0000000\n",
              "Detection Rate       0.0000000 0.0000000 0.0000000 0.0000000\n",
              "Detection Prevalence 0.0003352 0.0002321 0.0001289 0.0002063\n",
              "Balanced Accuracy           NA        NA        NA        NA"
            ]
          },
          "metadata": {}
        }
      ]
    },
    {
      "cell_type": "code",
      "source": [
        "data2=head(data1,1000000)\n",
        "## Data pre-processing\n",
        "data2 = subset(data2, select = -c(CONTRIBUTING.FACTOR.VEHICLE.1,LATITUDE,LONGITUDE,wind_deg,temp_min,temp_max,dew_point,CONTRIBUTING.FACTOR.VEHICLE.2,COLLISION_ID,X,VEHICLE.TYPE.CODE.1,VEHICLE.TYPE.CODE.2,ON.STREET.NAME,CROSS.STREET.NAME,OFF.STREET.NAME, VEHICLE_ID,weather_id,clouds_all,rain_1h,wind_gust,weather_icon,rain_3h,snow_3h,sea_level,grnd_level,snow_1h) )\n",
        "names(data2)[names(data2) == \"KILLED.INJURED\"] <- \"KILLED_INJURED\"\n",
        "colSums(is.na(data2))\n",
        "data2$CRASH_DATE=as.Date(data2$CRASH_DATE, format = \"%Y-%m-%d\")\n",
        "nrow(data2)\n",
        "data2=data2[!is.na(data2$visibility),]\n",
        "nrow(data2)\n",
        "data2=data2[!is.na(data2$KILLED_INJURED),]\n",
        "data2$KILLED_INJURED <- as.factor(data2$KILLED_INJURED)\n",
        "nrow(data2)\n",
        "index0 <- which(data2$KILLED_INJURED == 0)\n",
        "index1 <- which(data2$KILLED_INJURED == 1)\n",
        "deleteindex <- sample(index0,length(index0)-length(index1))\n",
        "nrow(data2)\n",
        "data2=data2[-deleteindex,]\n",
        "nrow(data2)\n",
        "data2$weather_main <- as.factor(data2$weather_main)\n",
        "data2$weather_description <- as.factor(data2$weather_description)\n",
        "data2$PERSON_SEX <- as.factor(data2$PERSON_SEX)\n",
        "data2$WEEKDAY <- as.factor(data2$WEEKDAY)\n",
        "set.seed(1)\n",
        "sample = sample.split(data2, SplitRatio = 0.80)\n",
        "training = subset(data2, sample == TRUE)\n",
        "test = subset(data2, sample == FALSE)\n",
        "rm(sample)\n",
        "str(training)\n",
        "str(test)\n",
        "tree.brea=tree(KILLED_INJURED~., data=training)\n",
        "tree.brea\n",
        "pred=predict(tree.brea,test,type=\"class\")\n",
        "cm=table(true=test$KILLED_INJURED,predic=pred)\n",
        "confusionMatrix(cm)"
      ],
      "metadata": {
        "colab": {
          "base_uri": "https://localhost:8080/",
          "height": 1000
        },
        "id": "qevB-bYPvv6E",
        "outputId": "c9acc77f-1c3c-488c-874d-f854fb37ac35"
      },
      "execution_count": null,
      "outputs": [
        {
          "output_type": "display_data",
          "data": {
            "text/html": [
              "<style>\n",
              ".dl-inline {width: auto; margin:0; padding: 0}\n",
              ".dl-inline>dt, .dl-inline>dd {float: none; width: auto; display: inline-block}\n",
              ".dl-inline>dt::after {content: \":\\0020\"; padding-right: .5ex}\n",
              ".dl-inline>dt:not(:first-of-type) {padding-left: .5ex}\n",
              "</style><dl class=dl-inline><dt>CRASH_DATE</dt><dd>0</dd><dt>CRASH_TIME</dt><dd>0</dd><dt>PERSON_AGE</dt><dd>0</dd><dt>PERSON_SEX</dt><dd>0</dd><dt>KILLED_INJURED</dt><dd>22</dd><dt>WEEKDAY</dt><dd>0</dd><dt>Holiday</dt><dd>0</dd><dt>temp</dt><dd>0</dd><dt>visibility</dt><dd>1106</dd><dt>pressure</dt><dd>0</dd><dt>humidity</dt><dd>0</dd><dt>wind_speed</dt><dd>0</dd><dt>weather_main</dt><dd>0</dd><dt>weather_description</dt><dd>0</dd></dl>\n"
            ],
            "text/markdown": "CRASH_DATE\n:   0CRASH_TIME\n:   0PERSON_AGE\n:   0PERSON_SEX\n:   0KILLED_INJURED\n:   22WEEKDAY\n:   0Holiday\n:   0temp\n:   0visibility\n:   1106pressure\n:   0humidity\n:   0wind_speed\n:   0weather_main\n:   0weather_description\n:   0\n\n",
            "text/latex": "\\begin{description*}\n\\item[CRASH\\textbackslash{}\\_DATE] 0\n\\item[CRASH\\textbackslash{}\\_TIME] 0\n\\item[PERSON\\textbackslash{}\\_AGE] 0\n\\item[PERSON\\textbackslash{}\\_SEX] 0\n\\item[KILLED\\textbackslash{}\\_INJURED] 22\n\\item[WEEKDAY] 0\n\\item[Holiday] 0\n\\item[temp] 0\n\\item[visibility] 1106\n\\item[pressure] 0\n\\item[humidity] 0\n\\item[wind\\textbackslash{}\\_speed] 0\n\\item[weather\\textbackslash{}\\_main] 0\n\\item[weather\\textbackslash{}\\_description] 0\n\\end{description*}\n",
            "text/plain": [
              "         CRASH_DATE          CRASH_TIME          PERSON_AGE          PERSON_SEX \n",
              "                  0                   0                   0                   0 \n",
              "     KILLED_INJURED             WEEKDAY             Holiday                temp \n",
              "                 22                   0                   0                   0 \n",
              "         visibility            pressure            humidity          wind_speed \n",
              "               1106                   0                   0                   0 \n",
              "       weather_main weather_description \n",
              "                  0                   0 "
            ]
          },
          "metadata": {}
        },
        {
          "output_type": "display_data",
          "data": {
            "text/html": [
              "1000000"
            ],
            "text/markdown": "1000000",
            "text/latex": "1000000",
            "text/plain": [
              "[1] 1000000"
            ]
          },
          "metadata": {}
        },
        {
          "output_type": "display_data",
          "data": {
            "text/html": [
              "998894"
            ],
            "text/markdown": "998894",
            "text/latex": "998894",
            "text/plain": [
              "[1] 998894"
            ]
          },
          "metadata": {}
        },
        {
          "output_type": "display_data",
          "data": {
            "text/html": [
              "998872"
            ],
            "text/markdown": "998872",
            "text/latex": "998872",
            "text/plain": [
              "[1] 998872"
            ]
          },
          "metadata": {}
        },
        {
          "output_type": "display_data",
          "data": {
            "text/html": [
              "998872"
            ],
            "text/markdown": "998872",
            "text/latex": "998872",
            "text/plain": [
              "[1] 998872"
            ]
          },
          "metadata": {}
        },
        {
          "output_type": "display_data",
          "data": {
            "text/html": [
              "361972"
            ],
            "text/markdown": "361972",
            "text/latex": "361972",
            "text/plain": [
              "[1] 361972"
            ]
          },
          "metadata": {}
        },
        {
          "output_type": "stream",
          "name": "stdout",
          "text": [
            "'data.frame':\t284407 obs. of  14 variables:\n",
            " $ CRASH_DATE         : Date, format: \"2019-10-25\" \"2019-10-25\" ...\n",
            " $ CRASH_TIME         : int  15 15 15 15 15 15 15 15 15 15 ...\n",
            " $ PERSON_AGE         : num  42 42 39 27 39 35 35 35 25 43 ...\n",
            " $ PERSON_SEX         : Factor w/ 2 levels \"F\",\"M\": 2 2 2 2 2 2 2 2 1 1 ...\n",
            " $ KILLED_INJURED     : Factor w/ 19 levels \"0\",\"1\",\"2\",\"3\",..: 1 1 4 4 4 4 2 2 2 1 ...\n",
            " $ WEEKDAY            : Factor w/ 7 levels \"Friday\",\"Monday\",..: 1 1 1 1 1 1 1 1 1 1 ...\n",
            " $ Holiday            : chr  \"False\" \"False\" \"False\" \"False\" ...\n",
            " $ temp               : num  14.5 14.5 14.5 14.5 14.5 ...\n",
            " $ visibility         : num  10000 10000 10000 10000 10000 10000 10000 10000 10000 10000 ...\n",
            " $ pressure           : int  1027 1027 1027 1027 1027 1027 1027 1027 1027 1027 ...\n",
            " $ humidity           : int  63 63 63 63 63 63 63 63 63 63 ...\n",
            " $ wind_speed         : num  2.1 2.1 2.1 2.1 2.1 2.1 2.1 2.1 2.1 2.1 ...\n",
            " $ weather_main       : Factor w/ 11 levels \"Clear\",\"Clouds\",..: 1 1 1 1 1 1 1 1 1 1 ...\n",
            " $ weather_description: Factor w/ 25 levels \"broken clouds\",..: 18 18 18 18 18 18 18 18 18 18 ...\n",
            "'data.frame':\t77565 obs. of  14 variables:\n",
            " $ CRASH_DATE         : Date, format: \"2019-10-25\" \"2019-10-25\" ...\n",
            " $ CRASH_TIME         : int  15 15 15 15 15 15 15 15 15 17 ...\n",
            " $ PERSON_AGE         : num  35 38 35 21 29 33 39 46 62 59 ...\n",
            " $ PERSON_SEX         : Factor w/ 2 levels \"F\",\"M\": 1 2 2 1 2 2 1 2 2 2 ...\n",
            " $ KILLED_INJURED     : Factor w/ 19 levels \"0\",\"1\",\"2\",\"3\",..: 4 4 4 2 7 7 3 1 1 2 ...\n",
            " $ WEEKDAY            : Factor w/ 7 levels \"Friday\",\"Monday\",..: 1 1 1 1 1 1 1 1 1 3 ...\n",
            " $ Holiday            : chr  \"False\" \"False\" \"False\" \"False\" ...\n",
            " $ temp               : num  14.5 14.5 14.5 14.5 14.5 ...\n",
            " $ visibility         : num  10000 10000 10000 10000 10000 10000 10000 10000 10000 10000 ...\n",
            " $ pressure           : int  1027 1027 1027 1027 1027 1027 1027 1027 1027 1025 ...\n",
            " $ humidity           : int  63 63 63 63 63 63 63 63 63 48 ...\n",
            " $ wind_speed         : num  2.1 2.1 2.1 2.1 2.1 2.1 2.1 2.1 2.1 4.1 ...\n",
            " $ weather_main       : Factor w/ 11 levels \"Clear\",\"Clouds\",..: 1 1 1 1 1 1 1 1 1 7 ...\n",
            " $ weather_description: Factor w/ 25 levels \"broken clouds\",..: 18 18 18 18 18 18 18 18 18 10 ...\n"
          ]
        },
        {
          "output_type": "stream",
          "name": "stderr",
          "text": [
            "Warning message in tree(KILLED_INJURED ~ ., data = training):\n",
            "“NAs introduced by coercion”\n"
          ]
        },
        {
          "output_type": "display_data",
          "data": {
            "text/plain": [
              "node), split, n, deviance, yval, (yprob)\n",
              "      * denotes terminal node\n",
              "\n",
              "1) root 284407 738100 0 ( 4.015e-01 4.006e-01 1.150e-01 4.575e-02 1.923e-02 9.184e-03 4.290e-03 1.505e-03 1.097e-03 3.129e-04 3.938e-04 2.145e-04 3.235e-04 1.266e-04 4.219e-05 1.195e-04 7.384e-05 1.090e-04 9.493e-05 ) *"
            ]
          },
          "metadata": {}
        },
        {
          "output_type": "stream",
          "name": "stderr",
          "text": [
            "Warning message in pred1.tree(object, tree.matrix(newdata)):\n",
            "“NAs introduced by coercion”\n"
          ]
        },
        {
          "output_type": "display_data",
          "data": {
            "text/plain": [
              "Confusion Matrix and Statistics\n",
              "\n",
              "    predic\n",
              "true     0     1     2     3     4     5     6     7     8     9    10    11\n",
              "  0  30932     0     0     0     0     0     0     0     0     0     0     0\n",
              "  1  31215     0     0     0     0     0     0     0     0     0     0     0\n",
              "  2   8863     0     0     0     0     0     0     0     0     0     0     0\n",
              "  3   3721     0     0     0     0     0     0     0     0     0     0     0\n",
              "  4   1447     0     0     0     0     0     0     0     0     0     0     0\n",
              "  5    731     0     0     0     0     0     0     0     0     0     0     0\n",
              "  6    309     0     0     0     0     0     0     0     0     0     0     0\n",
              "  7    124     0     0     0     0     0     0     0     0     0     0     0\n",
              "  8    103     0     0     0     0     0     0     0     0     0     0     0\n",
              "  9     23     0     0     0     0     0     0     0     0     0     0     0\n",
              "  10    24     0     0     0     0     0     0     0     0     0     0     0\n",
              "  11    16     0     0     0     0     0     0     0     0     0     0     0\n",
              "  12    23     0     0     0     0     0     0     0     0     0     0     0\n",
              "  13     7     0     0     0     0     0     0     0     0     0     0     0\n",
              "  15     4     0     0     0     0     0     0     0     0     0     0     0\n",
              "  16     7     0     0     0     0     0     0     0     0     0     0     0\n",
              "  17     4     0     0     0     0     0     0     0     0     0     0     0\n",
              "  18     6     0     0     0     0     0     0     0     0     0     0     0\n",
              "  20     6     0     0     0     0     0     0     0     0     0     0     0\n",
              "    predic\n",
              "true    12    13    15    16    17    18    20\n",
              "  0      0     0     0     0     0     0     0\n",
              "  1      0     0     0     0     0     0     0\n",
              "  2      0     0     0     0     0     0     0\n",
              "  3      0     0     0     0     0     0     0\n",
              "  4      0     0     0     0     0     0     0\n",
              "  5      0     0     0     0     0     0     0\n",
              "  6      0     0     0     0     0     0     0\n",
              "  7      0     0     0     0     0     0     0\n",
              "  8      0     0     0     0     0     0     0\n",
              "  9      0     0     0     0     0     0     0\n",
              "  10     0     0     0     0     0     0     0\n",
              "  11     0     0     0     0     0     0     0\n",
              "  12     0     0     0     0     0     0     0\n",
              "  13     0     0     0     0     0     0     0\n",
              "  15     0     0     0     0     0     0     0\n",
              "  16     0     0     0     0     0     0     0\n",
              "  17     0     0     0     0     0     0     0\n",
              "  18     0     0     0     0     0     0     0\n",
              "  20     0     0     0     0     0     0     0\n",
              "\n",
              "Overall Statistics\n",
              "                                          \n",
              "               Accuracy : 0.3988          \n",
              "                 95% CI : (0.3953, 0.4022)\n",
              "    No Information Rate : 1               \n",
              "    P-Value [Acc > NIR] : 1               \n",
              "                                          \n",
              "                  Kappa : 0               \n",
              "                                          \n",
              " Mcnemar's Test P-Value : NA              \n",
              "\n",
              "Statistics by Class:\n",
              "\n",
              "                     Class: 0 Class: 1 Class: 2 Class: 3 Class: 4 Class: 5\n",
              "Sensitivity            0.3988       NA       NA       NA       NA       NA\n",
              "Specificity                NA   0.5976   0.8857  0.95203  0.98134 0.990576\n",
              "Pos Pred Value             NA       NA       NA       NA       NA       NA\n",
              "Neg Pred Value             NA       NA       NA       NA       NA       NA\n",
              "Prevalence             1.0000   0.0000   0.0000  0.00000  0.00000 0.000000\n",
              "Detection Rate         0.3988   0.0000   0.0000  0.00000  0.00000 0.000000\n",
              "Detection Prevalence   0.3988   0.4024   0.1143  0.04797  0.01866 0.009424\n",
              "Balanced Accuracy          NA       NA       NA       NA       NA       NA\n",
              "                     Class: 6 Class: 7 Class: 8  Class: 9 Class: 10 Class: 11\n",
              "Sensitivity                NA       NA       NA        NA        NA        NA\n",
              "Specificity          0.996016 0.998401 0.998672 0.9997035 0.9996906 0.9997937\n",
              "Pos Pred Value             NA       NA       NA        NA        NA        NA\n",
              "Neg Pred Value             NA       NA       NA        NA        NA        NA\n",
              "Prevalence           0.000000 0.000000 0.000000 0.0000000 0.0000000 0.0000000\n",
              "Detection Rate       0.000000 0.000000 0.000000 0.0000000 0.0000000 0.0000000\n",
              "Detection Prevalence 0.003984 0.001599 0.001328 0.0002965 0.0003094 0.0002063\n",
              "Balanced Accuracy          NA       NA       NA        NA        NA        NA\n",
              "                     Class: 12 Class: 13 Class: 15 Class: 16 Class: 17\n",
              "Sensitivity                 NA        NA        NA        NA        NA\n",
              "Specificity          0.9997035 9.999e-01 9.999e-01 9.999e-01 9.999e-01\n",
              "Pos Pred Value              NA        NA        NA        NA        NA\n",
              "Neg Pred Value              NA        NA        NA        NA        NA\n",
              "Prevalence           0.0000000 0.000e+00 0.000e+00 0.000e+00 0.000e+00\n",
              "Detection Rate       0.0000000 0.000e+00 0.000e+00 0.000e+00 0.000e+00\n",
              "Detection Prevalence 0.0002965 9.025e-05 5.157e-05 9.025e-05 5.157e-05\n",
              "Balanced Accuracy           NA        NA        NA        NA        NA\n",
              "                     Class: 18 Class: 20\n",
              "Sensitivity                 NA        NA\n",
              "Specificity          9.999e-01 9.999e-01\n",
              "Pos Pred Value              NA        NA\n",
              "Neg Pred Value              NA        NA\n",
              "Prevalence           0.000e+00 0.000e+00\n",
              "Detection Rate       0.000e+00 0.000e+00\n",
              "Detection Prevalence 7.735e-05 7.735e-05\n",
              "Balanced Accuracy           NA        NA"
            ]
          },
          "metadata": {}
        }
      ]
    },
    {
      "cell_type": "code",
      "source": [
        "data2=head(data1,2000000)\n",
        "## Data pre-processing\n",
        "data2 = subset(data2, select = -c(CONTRIBUTING.FACTOR.VEHICLE.1,LATITUDE,LONGITUDE,wind_deg,temp_min,temp_max,dew_point,CONTRIBUTING.FACTOR.VEHICLE.2,COLLISION_ID,X,VEHICLE.TYPE.CODE.1,VEHICLE.TYPE.CODE.2,ON.STREET.NAME,CROSS.STREET.NAME,OFF.STREET.NAME, VEHICLE_ID,weather_id,clouds_all,rain_1h,wind_gust,weather_icon,rain_3h,snow_3h,sea_level,grnd_level,snow_1h) )\n",
        "names(data2)[names(data2) == \"KILLED.INJURED\"] <- \"KILLED_INJURED\"\n",
        "colSums(is.na(data2))\n",
        "data2$CRASH_DATE=as.Date(data2$CRASH_DATE, format = \"%Y-%m-%d\")\n",
        "nrow(data2)\n",
        "data2=data2[!is.na(data2$visibility),]\n",
        "nrow(data2)\n",
        "data2=data2[!is.na(data2$KILLED_INJURED),]\n",
        "data2$KILLED_INJURED <- as.factor(data2$KILLED_INJURED)\n",
        "nrow(data2)\n",
        "index0 <- which(data2$KILLED_INJURED == 0)\n",
        "index1 <- which(data2$KILLED_INJURED == 1)\n",
        "deleteindex <- sample(index0,length(index0)-length(index1))\n",
        "nrow(data2)\n",
        "data2=data2[-deleteindex,]\n",
        "nrow(data2)\n",
        "data2$weather_main <- as.factor(data2$weather_main)\n",
        "data2$weather_description <- as.factor(data2$weather_description)\n",
        "data2$PERSON_SEX <- as.factor(data2$PERSON_SEX)\n",
        "data2$WEEKDAY <- as.factor(data2$WEEKDAY)\n",
        "set.seed(1)\n",
        "sample = sample.split(data2, SplitRatio = 0.80)\n",
        "training = subset(data2, sample == TRUE)\n",
        "test = subset(data2, sample == FALSE)\n",
        "rm(sample)\n",
        "str(training)\n",
        "str(test)\n",
        "tree.brea=tree(KILLED_INJURED~., data=training)\n",
        "tree.brea\n",
        "pred=predict(tree.brea,test,type=\"class\")\n",
        "cm=table(true=test$KILLED_INJURED,predic=pred)\n",
        "confusionMatrix(cm)"
      ],
      "metadata": {
        "colab": {
          "base_uri": "https://localhost:8080/",
          "height": 1000
        },
        "id": "2RrusWCWfOjX",
        "outputId": "6d9773b4-e4fe-43b6-a25b-d98b90899fbb"
      },
      "execution_count": null,
      "outputs": [
        {
          "output_type": "display_data",
          "data": {
            "text/html": [
              "<style>\n",
              ".dl-inline {width: auto; margin:0; padding: 0}\n",
              ".dl-inline>dt, .dl-inline>dd {float: none; width: auto; display: inline-block}\n",
              ".dl-inline>dt::after {content: \":\\0020\"; padding-right: .5ex}\n",
              ".dl-inline>dt:not(:first-of-type) {padding-left: .5ex}\n",
              "</style><dl class=dl-inline><dt>CRASH_DATE</dt><dd>0</dd><dt>CRASH_TIME</dt><dd>0</dd><dt>PERSON_AGE</dt><dd>0</dd><dt>PERSON_SEX</dt><dd>0</dd><dt>KILLED_INJURED</dt><dd>36</dd><dt>WEEKDAY</dt><dd>0</dd><dt>Holiday</dt><dd>0</dd><dt>temp</dt><dd>0</dd><dt>visibility</dt><dd>2292</dd><dt>pressure</dt><dd>0</dd><dt>humidity</dt><dd>0</dd><dt>wind_speed</dt><dd>0</dd><dt>weather_main</dt><dd>0</dd><dt>weather_description</dt><dd>0</dd></dl>\n"
            ],
            "text/markdown": "CRASH_DATE\n:   0CRASH_TIME\n:   0PERSON_AGE\n:   0PERSON_SEX\n:   0KILLED_INJURED\n:   36WEEKDAY\n:   0Holiday\n:   0temp\n:   0visibility\n:   2292pressure\n:   0humidity\n:   0wind_speed\n:   0weather_main\n:   0weather_description\n:   0\n\n",
            "text/latex": "\\begin{description*}\n\\item[CRASH\\textbackslash{}\\_DATE] 0\n\\item[CRASH\\textbackslash{}\\_TIME] 0\n\\item[PERSON\\textbackslash{}\\_AGE] 0\n\\item[PERSON\\textbackslash{}\\_SEX] 0\n\\item[KILLED\\textbackslash{}\\_INJURED] 36\n\\item[WEEKDAY] 0\n\\item[Holiday] 0\n\\item[temp] 0\n\\item[visibility] 2292\n\\item[pressure] 0\n\\item[humidity] 0\n\\item[wind\\textbackslash{}\\_speed] 0\n\\item[weather\\textbackslash{}\\_main] 0\n\\item[weather\\textbackslash{}\\_description] 0\n\\end{description*}\n",
            "text/plain": [
              "         CRASH_DATE          CRASH_TIME          PERSON_AGE          PERSON_SEX \n",
              "                  0                   0                   0                   0 \n",
              "     KILLED_INJURED             WEEKDAY             Holiday                temp \n",
              "                 36                   0                   0                   0 \n",
              "         visibility            pressure            humidity          wind_speed \n",
              "               2292                   0                   0                   0 \n",
              "       weather_main weather_description \n",
              "                  0                   0 "
            ]
          },
          "metadata": {}
        },
        {
          "output_type": "display_data",
          "data": {
            "text/html": [
              "2000000"
            ],
            "text/markdown": "2000000",
            "text/latex": "2000000",
            "text/plain": [
              "[1] 2000000"
            ]
          },
          "metadata": {}
        },
        {
          "output_type": "display_data",
          "data": {
            "text/html": [
              "1997708"
            ],
            "text/markdown": "1997708",
            "text/latex": "1997708",
            "text/plain": [
              "[1] 1997708"
            ]
          },
          "metadata": {}
        },
        {
          "output_type": "display_data",
          "data": {
            "text/html": [
              "1997672"
            ],
            "text/markdown": "1997672",
            "text/latex": "1997672",
            "text/plain": [
              "[1] 1997672"
            ]
          },
          "metadata": {}
        },
        {
          "output_type": "display_data",
          "data": {
            "text/html": [
              "1997672"
            ],
            "text/markdown": "1997672",
            "text/latex": "1997672",
            "text/plain": [
              "[1] 1997672"
            ]
          },
          "metadata": {}
        },
        {
          "output_type": "display_data",
          "data": {
            "text/html": [
              "746409"
            ],
            "text/markdown": "746409",
            "text/latex": "746409",
            "text/plain": [
              "[1] 746409"
            ]
          },
          "metadata": {}
        },
        {
          "output_type": "display_data",
          "data": {
            "text/html": [
              "746409"
            ],
            "text/markdown": "746409",
            "text/latex": "746409",
            "text/plain": [
              "[1] 746409"
            ]
          },
          "metadata": {}
        },
        {
          "output_type": "stream",
          "name": "stdout",
          "text": [
            "'data.frame':\t586464 obs. of  14 variables:\n",
            " $ CRASH_DATE         : Date, format: \"2019-10-25\" \"2019-10-25\" ...\n",
            " $ CRASH_TIME         : int  15 15 15 15 15 15 15 15 15 15 ...\n",
            " $ PERSON_AGE         : num  33 82 51 37 27 38 35 39 35 35 ...\n",
            " $ PERSON_SEX         : Factor w/ 2 levels \"F\",\"M\": 2 2 2 2 2 2 2 2 2 2 ...\n",
            " $ KILLED_INJURED     : Factor w/ 23 levels \"0\",\"1\",\"2\",\"3\",..: 1 1 1 1 4 4 4 4 4 2 ...\n",
            " $ WEEKDAY            : Factor w/ 7 levels \"Friday\",\"Monday\",..: 1 1 1 1 1 1 1 1 1 1 ...\n",
            " $ Holiday            : chr  \"False\" \"False\" \"False\" \"False\" ...\n",
            " $ temp               : num  14.5 14.5 14.5 14.5 14.5 ...\n",
            " $ visibility         : num  10000 10000 10000 10000 10000 10000 10000 10000 10000 10000 ...\n",
            " $ pressure           : int  1027 1027 1027 1027 1027 1027 1027 1027 1027 1027 ...\n",
            " $ humidity           : int  63 63 63 63 63 63 63 63 63 63 ...\n",
            " $ wind_speed         : num  2.1 2.1 2.1 2.1 2.1 2.1 2.1 2.1 2.1 2.1 ...\n",
            " $ weather_main       : Factor w/ 11 levels \"Clear\",\"Clouds\",..: 1 1 1 1 1 1 1 1 1 1 ...\n",
            " $ weather_description: Factor w/ 27 levels \"broken clouds\",..: 19 19 19 19 19 19 19 19 19 19 ...\n",
            "'data.frame':\t159945 obs. of  14 variables:\n",
            " $ CRASH_DATE         : Date, format: \"2019-10-25\" \"2019-10-25\" ...\n",
            " $ CRASH_TIME         : int  15 15 15 15 15 15 15 15 15 17 ...\n",
            " $ PERSON_AGE         : num  17 39 35 28 22 31 68 77 77 61 ...\n",
            " $ PERSON_SEX         : Factor w/ 2 levels \"F\",\"M\": 2 2 1 2 1 1 2 2 2 2 ...\n",
            " $ KILLED_INJURED     : Factor w/ 23 levels \"0\",\"1\",\"2\",\"3\",..: 1 4 4 1 2 2 1 3 3 1 ...\n",
            " $ WEEKDAY            : Factor w/ 7 levels \"Friday\",\"Monday\",..: 1 1 1 1 1 1 1 1 1 3 ...\n",
            " $ Holiday            : chr  \"False\" \"False\" \"False\" \"False\" ...\n",
            " $ temp               : num  14.5 14.5 14.5 14.5 14.5 ...\n",
            " $ visibility         : num  10000 10000 10000 10000 10000 10000 10000 10000 10000 10000 ...\n",
            " $ pressure           : int  1027 1027 1027 1027 1027 1027 1027 1027 1027 1025 ...\n",
            " $ humidity           : int  63 63 63 63 63 63 63 63 63 48 ...\n",
            " $ wind_speed         : num  2.1 2.1 2.1 2.1 2.1 2.1 2.1 2.1 2.1 4.1 ...\n",
            " $ weather_main       : Factor w/ 11 levels \"Clear\",\"Clouds\",..: 1 1 1 1 1 1 1 1 1 7 ...\n",
            " $ weather_description: Factor w/ 27 levels \"broken clouds\",..: 19 19 19 19 19 19 19 19 19 10 ...\n"
          ]
        },
        {
          "output_type": "stream",
          "name": "stderr",
          "text": [
            "Warning message in tree(KILLED_INJURED ~ ., data = training):\n",
            "“NAs introduced by coercion”\n"
          ]
        },
        {
          "output_type": "display_data",
          "data": {
            "text/plain": [
              "node), split, n, deviance, yval, (yprob)\n",
              "      * denotes terminal node\n",
              "\n",
              "1) root 586464 1527000 1 ( 3.995e-01 3.996e-01 1.172e-01 4.654e-02 1.985e-02 9.099e-03 3.927e-03 1.775e-03 8.287e-04 3.785e-04 4.314e-04 1.722e-04 2.029e-04 1.279e-04 4.092e-05 4.604e-05 9.037e-05 7.332e-05 6.309e-05 4.604e-05 4.604e-05 2.899e-05 0.000e+00 ) *"
            ]
          },
          "metadata": {}
        },
        {
          "output_type": "stream",
          "name": "stderr",
          "text": [
            "Warning message in pred1.tree(object, tree.matrix(newdata)):\n",
            "“NAs introduced by coercion”\n"
          ]
        },
        {
          "output_type": "display_data",
          "data": {
            "text/plain": [
              "Confusion Matrix and Statistics\n",
              "\n",
              "    predic\n",
              "true     0     1     2     3     4     5     6     7     8     9    10    11\n",
              "  0      0 64042     0     0     0     0     0     0     0     0     0     0\n",
              "  1      0 63993     0     0     0     0     0     0     0     0     0     0\n",
              "  2      0 18699     0     0     0     0     0     0     0     0     0     0\n",
              "  3      0  7328     0     0     0     0     0     0     0     0     0     0\n",
              "  4      0  3068     0     0     0     0     0     0     0     0     0     0\n",
              "  5      0  1486     0     0     0     0     0     0     0     0     0     0\n",
              "  6      0   628     0     0     0     0     0     0     0     0     0     0\n",
              "  7      0   275     0     0     0     0     0     0     0     0     0     0\n",
              "  8      0   133     0     0     0     0     0     0     0     0     0     0\n",
              "  9      0    74     0     0     0     0     0     0     0     0     0     0\n",
              "  10     0    66     0     0     0     0     0     0     0     0     0     0\n",
              "  11     0    29     0     0     0     0     0     0     0     0     0     0\n",
              "  12     0    33     0     0     0     0     0     0     0     0     0     0\n",
              "  13     0    18     0     0     0     0     0     0     0     0     0     0\n",
              "  14     0     6     0     0     0     0     0     0     0     0     0     0\n",
              "  15     0     7     0     0     0     0     0     0     0     0     0     0\n",
              "  16     0    17     0     0     0     0     0     0     0     0     0     0\n",
              "  17     0    12     0     0     0     0     0     0     0     0     0     0\n",
              "  18     0     9     0     0     0     0     0     0     0     0     0     0\n",
              "  19     0     8     0     0     0     0     0     0     0     0     0     0\n",
              "  20     0     6     0     0     0     0     0     0     0     0     0     0\n",
              "  22     0     6     0     0     0     0     0     0     0     0     0     0\n",
              "  28     0     2     0     0     0     0     0     0     0     0     0     0\n",
              "    predic\n",
              "true    12    13    14    15    16    17    18    19    20    22    28\n",
              "  0      0     0     0     0     0     0     0     0     0     0     0\n",
              "  1      0     0     0     0     0     0     0     0     0     0     0\n",
              "  2      0     0     0     0     0     0     0     0     0     0     0\n",
              "  3      0     0     0     0     0     0     0     0     0     0     0\n",
              "  4      0     0     0     0     0     0     0     0     0     0     0\n",
              "  5      0     0     0     0     0     0     0     0     0     0     0\n",
              "  6      0     0     0     0     0     0     0     0     0     0     0\n",
              "  7      0     0     0     0     0     0     0     0     0     0     0\n",
              "  8      0     0     0     0     0     0     0     0     0     0     0\n",
              "  9      0     0     0     0     0     0     0     0     0     0     0\n",
              "  10     0     0     0     0     0     0     0     0     0     0     0\n",
              "  11     0     0     0     0     0     0     0     0     0     0     0\n",
              "  12     0     0     0     0     0     0     0     0     0     0     0\n",
              "  13     0     0     0     0     0     0     0     0     0     0     0\n",
              "  14     0     0     0     0     0     0     0     0     0     0     0\n",
              "  15     0     0     0     0     0     0     0     0     0     0     0\n",
              "  16     0     0     0     0     0     0     0     0     0     0     0\n",
              "  17     0     0     0     0     0     0     0     0     0     0     0\n",
              "  18     0     0     0     0     0     0     0     0     0     0     0\n",
              "  19     0     0     0     0     0     0     0     0     0     0     0\n",
              "  20     0     0     0     0     0     0     0     0     0     0     0\n",
              "  22     0     0     0     0     0     0     0     0     0     0     0\n",
              "  28     0     0     0     0     0     0     0     0     0     0     0\n",
              "\n",
              "Overall Statistics\n",
              "                                          \n",
              "               Accuracy : 0.4001          \n",
              "                 95% CI : (0.3977, 0.4025)\n",
              "    No Information Rate : 1               \n",
              "    P-Value [Acc > NIR] : 1               \n",
              "                                          \n",
              "                  Kappa : 0               \n",
              "                                          \n",
              " Mcnemar's Test P-Value : NA              \n",
              "\n",
              "Statistics by Class:\n",
              "\n",
              "                     Class: 0 Class: 1 Class: 2 Class: 3 Class: 4 Class: 5\n",
              "Sensitivity                NA   0.4001       NA       NA       NA       NA\n",
              "Specificity            0.5996       NA   0.8831  0.95418  0.98082 0.990709\n",
              "Pos Pred Value             NA       NA       NA       NA       NA       NA\n",
              "Neg Pred Value             NA       NA       NA       NA       NA       NA\n",
              "Prevalence             0.0000   1.0000   0.0000  0.00000  0.00000 0.000000\n",
              "Detection Rate         0.0000   0.4001   0.0000  0.00000  0.00000 0.000000\n",
              "Detection Prevalence   0.4004   0.4001   0.1169  0.04582  0.01918 0.009291\n",
              "Balanced Accuracy          NA       NA       NA       NA       NA       NA\n",
              "                     Class: 6 Class: 7  Class: 8  Class: 9 Class: 10 Class: 11\n",
              "Sensitivity                NA       NA        NA        NA        NA        NA\n",
              "Specificity          0.996074 0.998281 0.9991685 0.9995373 0.9995874 0.9998187\n",
              "Pos Pred Value             NA       NA        NA        NA        NA        NA\n",
              "Neg Pred Value             NA       NA        NA        NA        NA        NA\n",
              "Prevalence           0.000000 0.000000 0.0000000 0.0000000 0.0000000 0.0000000\n",
              "Detection Rate       0.000000 0.000000 0.0000000 0.0000000 0.0000000 0.0000000\n",
              "Detection Prevalence 0.003926 0.001719 0.0008315 0.0004627 0.0004126 0.0001813\n",
              "Balanced Accuracy          NA       NA        NA        NA        NA        NA\n",
              "                     Class: 12 Class: 13 Class: 14 Class: 15 Class: 16\n",
              "Sensitivity                 NA        NA        NA        NA        NA\n",
              "Specificity          0.9997937 0.9998875 1.000e+00 1.000e+00 0.9998937\n",
              "Pos Pred Value              NA        NA        NA        NA        NA\n",
              "Neg Pred Value              NA        NA        NA        NA        NA\n",
              "Prevalence           0.0000000 0.0000000 0.000e+00 0.000e+00 0.0000000\n",
              "Detection Rate       0.0000000 0.0000000 0.000e+00 0.000e+00 0.0000000\n",
              "Detection Prevalence 0.0002063 0.0001125 3.751e-05 4.377e-05 0.0001063\n",
              "Balanced Accuracy           NA        NA        NA        NA        NA\n",
              "                     Class: 17 Class: 18 Class: 19 Class: 20 Class: 22\n",
              "Sensitivity                 NA        NA        NA        NA        NA\n",
              "Specificity          9.999e-01 9.999e-01 9.999e-01 1.000e+00 1.000e+00\n",
              "Pos Pred Value              NA        NA        NA        NA        NA\n",
              "Neg Pred Value              NA        NA        NA        NA        NA\n",
              "Prevalence           0.000e+00 0.000e+00 0.000e+00 0.000e+00 0.000e+00\n",
              "Detection Rate       0.000e+00 0.000e+00 0.000e+00 0.000e+00 0.000e+00\n",
              "Detection Prevalence 7.503e-05 5.627e-05 5.002e-05 3.751e-05 3.751e-05\n",
              "Balanced Accuracy           NA        NA        NA        NA        NA\n",
              "                     Class: 28\n",
              "Sensitivity                 NA\n",
              "Specificity           1.00e+00\n",
              "Pos Pred Value              NA\n",
              "Neg Pred Value              NA\n",
              "Prevalence            0.00e+00\n",
              "Detection Rate        0.00e+00\n",
              "Detection Prevalence  1.25e-05\n",
              "Balanced Accuracy           NA"
            ]
          },
          "metadata": {}
        }
      ]
    },
    {
      "cell_type": "code",
      "source": [
        "data2=data1\n",
        "## Data pre-processing\n",
        "data2 = subset(data2, select = -c(CONTRIBUTING.FACTOR.VEHICLE.1,LATITUDE,LONGITUDE,wind_deg,temp_min,temp_max,dew_point,CONTRIBUTING.FACTOR.VEHICLE.2,COLLISION_ID,X,VEHICLE.TYPE.CODE.1,VEHICLE.TYPE.CODE.2,ON.STREET.NAME,CROSS.STREET.NAME,OFF.STREET.NAME, VEHICLE_ID,weather_id,clouds_all,rain_1h,wind_gust,weather_icon,rain_3h,snow_3h,sea_level,grnd_level,snow_1h) )\n",
        "names(data2)[names(data2) == \"KILLED.INJURED\"] <- \"KILLED_INJURED\"\n",
        "colSums(is.na(data2))\n",
        "data2$CRASH_DATE=as.Date(data2$CRASH_DATE, format = \"%Y-%m-%d\")\n",
        "nrow(data2)\n",
        "data2=data2[!is.na(data2$visibility),]\n",
        "nrow(data2)\n",
        "data2=data2[!is.na(data2$KILLED_INJURED),]\n",
        "data2$KILLED_INJURED <- as.factor(data2$KILLED_INJURED)\n",
        "nrow(data2)\n",
        "index0 <- which(data2$KILLED_INJURED == 0)\n",
        "index1 <- which(data2$KILLED_INJURED == 1)\n",
        "deleteindex <- sample(index0,length(index0)-length(index1))\n",
        "nrow(data2)\n",
        "data2=data2[-deleteindex,]\n",
        "nrow(data2)\n",
        "data2$weather_main <- as.factor(data2$weather_main)\n",
        "data2$weather_description <- as.factor(data2$weather_description)\n",
        "data2$PERSON_SEX <- as.factor(data2$PERSON_SEX)\n",
        "data2$WEEKDAY <- as.factor(data2$WEEKDAY)\n",
        "set.seed(1)\n",
        "sample = sample.split(data2, SplitRatio = 0.90)\n",
        "training = subset(data2, sample == TRUE)\n",
        "test = subset(data2, sample == FALSE)\n",
        "rm(sample)\n",
        "str(training)\n",
        "str(test)\n",
        "tree.brea=tree(KILLED_INJURED~., data=training)\n",
        "tree.brea\n",
        "pred=predict(tree.brea,test,type=\"class\")\n",
        "cm=table(true=test$KILLED_INJURED,predic=pred)\n",
        "confusionMatrix(cm)"
      ],
      "metadata": {
        "colab": {
          "base_uri": "https://localhost:8080/",
          "height": 1000
        },
        "id": "8DxvEpHFrITX",
        "outputId": "2f330eca-89eb-415b-ae02-8a866413c43e"
      },
      "execution_count": null,
      "outputs": [
        {
          "output_type": "display_data",
          "data": {
            "text/html": [
              "<style>\n",
              ".dl-inline {width: auto; margin:0; padding: 0}\n",
              ".dl-inline>dt, .dl-inline>dd {float: none; width: auto; display: inline-block}\n",
              ".dl-inline>dt::after {content: \":\\0020\"; padding-right: .5ex}\n",
              ".dl-inline>dt:not(:first-of-type) {padding-left: .5ex}\n",
              "</style><dl class=dl-inline><dt>CRASH_DATE</dt><dd>0</dd><dt>CRASH_TIME</dt><dd>0</dd><dt>PERSON_AGE</dt><dd>0</dd><dt>PERSON_SEX</dt><dd>0</dd><dt>KILLED_INJURED</dt><dd>39</dd><dt>WEEKDAY</dt><dd>0</dd><dt>Holiday</dt><dd>0</dd><dt>temp</dt><dd>0</dd><dt>visibility</dt><dd>2737</dd><dt>pressure</dt><dd>0</dd><dt>humidity</dt><dd>0</dd><dt>wind_speed</dt><dd>0</dd><dt>weather_main</dt><dd>0</dd><dt>weather_description</dt><dd>0</dd></dl>\n"
            ],
            "text/markdown": "CRASH_DATE\n:   0CRASH_TIME\n:   0PERSON_AGE\n:   0PERSON_SEX\n:   0KILLED_INJURED\n:   39WEEKDAY\n:   0Holiday\n:   0temp\n:   0visibility\n:   2737pressure\n:   0humidity\n:   0wind_speed\n:   0weather_main\n:   0weather_description\n:   0\n\n",
            "text/latex": "\\begin{description*}\n\\item[CRASH\\textbackslash{}\\_DATE] 0\n\\item[CRASH\\textbackslash{}\\_TIME] 0\n\\item[PERSON\\textbackslash{}\\_AGE] 0\n\\item[PERSON\\textbackslash{}\\_SEX] 0\n\\item[KILLED\\textbackslash{}\\_INJURED] 39\n\\item[WEEKDAY] 0\n\\item[Holiday] 0\n\\item[temp] 0\n\\item[visibility] 2737\n\\item[pressure] 0\n\\item[humidity] 0\n\\item[wind\\textbackslash{}\\_speed] 0\n\\item[weather\\textbackslash{}\\_main] 0\n\\item[weather\\textbackslash{}\\_description] 0\n\\end{description*}\n",
            "text/plain": [
              "         CRASH_DATE          CRASH_TIME          PERSON_AGE          PERSON_SEX \n",
              "                  0                   0                   0                   0 \n",
              "     KILLED_INJURED             WEEKDAY             Holiday                temp \n",
              "                 39                   0                   0                   0 \n",
              "         visibility            pressure            humidity          wind_speed \n",
              "               2737                   0                   0                   0 \n",
              "       weather_main weather_description \n",
              "                  0                   0 "
            ]
          },
          "metadata": {}
        },
        {
          "output_type": "display_data",
          "data": {
            "text/html": [
              "2529009"
            ],
            "text/markdown": "2529009",
            "text/latex": "2529009",
            "text/plain": [
              "[1] 2529009"
            ]
          },
          "metadata": {}
        },
        {
          "output_type": "display_data",
          "data": {
            "text/html": [
              "2526272"
            ],
            "text/markdown": "2526272",
            "text/latex": "2526272",
            "text/plain": [
              "[1] 2526272"
            ]
          },
          "metadata": {}
        },
        {
          "output_type": "display_data",
          "data": {
            "text/html": [
              "2526233"
            ],
            "text/markdown": "2526233",
            "text/latex": "2526233",
            "text/plain": [
              "[1] 2526233"
            ]
          },
          "metadata": {}
        },
        {
          "output_type": "display_data",
          "data": {
            "text/html": [
              "2526233"
            ],
            "text/markdown": "2526233",
            "text/latex": "2526233",
            "text/plain": [
              "[1] 2526233"
            ]
          },
          "metadata": {}
        },
        {
          "output_type": "display_data",
          "data": {
            "text/html": [
              "1074621"
            ],
            "text/markdown": "1074621",
            "text/latex": "1074621",
            "text/plain": [
              "[1] 1074621"
            ]
          },
          "metadata": {}
        },
        {
          "output_type": "stream",
          "name": "stdout",
          "text": [
            "'data.frame':\t921103 obs. of  14 variables:\n",
            " $ CRASH_DATE         : Date, format: \"2019-10-25\" \"2019-10-25\" ...\n",
            " $ CRASH_TIME         : int  15 15 15 15 15 15 15 15 15 15 ...\n",
            " $ PERSON_AGE         : num  82 42 51 37 65 35 27 38 35 39 ...\n",
            " $ PERSON_SEX         : Factor w/ 2 levels \"F\",\"M\": 2 2 2 2 2 1 2 2 2 2 ...\n",
            " $ KILLED_INJURED     : Factor w/ 23 levels \"0\",\"1\",\"2\",\"3\",..: 1 1 1 1 1 4 4 4 4 4 ...\n",
            " $ WEEKDAY            : Factor w/ 7 levels \"Friday\",\"Monday\",..: 1 1 1 1 1 1 1 1 1 1 ...\n",
            " $ Holiday            : chr  \"False\" \"False\" \"False\" \"False\" ...\n",
            " $ temp               : num  14.5 14.5 14.5 14.5 14.5 ...\n",
            " $ visibility         : num  10000 10000 10000 10000 10000 10000 10000 10000 10000 10000 ...\n",
            " $ pressure           : int  1027 1027 1027 1027 1027 1027 1027 1027 1027 1027 ...\n",
            " $ humidity           : int  63 63 63 63 63 63 63 63 63 63 ...\n",
            " $ wind_speed         : num  2.1 2.1 2.1 2.1 2.1 2.1 2.1 2.1 2.1 2.1 ...\n",
            " $ weather_main       : Factor w/ 11 levels \"Clear\",\"Clouds\",..: 1 1 1 1 1 1 1 1 1 1 ...\n",
            " $ weather_description: Factor w/ 28 levels \"broken clouds\",..: 20 20 20 20 20 20 20 20 20 20 ...\n",
            "'data.frame':\t153518 obs. of  14 variables:\n",
            " $ CRASH_DATE         : Date, format: \"2019-10-25\" \"2019-10-25\" ...\n",
            " $ CRASH_TIME         : int  15 15 15 15 15 15 17 17 17 17 ...\n",
            " $ PERSON_AGE         : num  17 39 65 26 67 77 61 42 29 46 ...\n",
            " $ PERSON_SEX         : Factor w/ 2 levels \"F\",\"M\": 2 2 2 1 1 2 2 2 2 2 ...\n",
            " $ KILLED_INJURED     : Factor w/ 23 levels \"0\",\"1\",\"2\",\"3\",..: 1 4 1 1 1 3 1 1 2 2 ...\n",
            " $ WEEKDAY            : Factor w/ 7 levels \"Friday\",\"Monday\",..: 1 1 1 1 1 1 3 3 3 3 ...\n",
            " $ Holiday            : chr  \"False\" \"False\" \"False\" \"False\" ...\n",
            " $ temp               : num  14.5 14.5 14.5 14.5 14.5 ...\n",
            " $ visibility         : num  10000 10000 10000 10000 10000 10000 10000 10000 10000 10000 ...\n",
            " $ pressure           : int  1027 1027 1027 1027 1027 1027 1025 1025 1025 1025 ...\n",
            " $ humidity           : int  63 63 63 63 63 63 48 48 48 48 ...\n",
            " $ wind_speed         : num  2.1 2.1 2.1 2.1 2.1 2.1 4.1 4.1 4.1 4.1 ...\n",
            " $ weather_main       : Factor w/ 11 levels \"Clear\",\"Clouds\",..: 1 1 1 1 1 1 7 7 7 7 ...\n",
            " $ weather_description: Factor w/ 28 levels \"broken clouds\",..: 20 20 20 20 20 20 11 11 11 11 ...\n"
          ]
        },
        {
          "output_type": "stream",
          "name": "stderr",
          "text": [
            "Warning message in tree(KILLED_INJURED ~ ., data = training):\n",
            "“NAs introduced by coercion”\n"
          ]
        },
        {
          "output_type": "display_data",
          "data": {
            "text/plain": [
              "node), split, n, deviance, yval, (yprob)\n",
              "      * denotes terminal node\n",
              "\n",
              "1) root 921103 2383000 0 ( 4.006e-01 4.005e-01 1.174e-01 4.592e-02 1.931e-02 8.598e-03 3.615e-03 1.721e-03 8.001e-04 3.800e-04 4.191e-04 1.726e-04 1.400e-04 9.879e-05 4.343e-05 4.451e-05 8.251e-05 6.948e-05 5.211e-05 3.257e-05 4.234e-05 2.171e-05 1.086e-06 ) *"
            ]
          },
          "metadata": {}
        },
        {
          "output_type": "stream",
          "name": "stderr",
          "text": [
            "Warning message in pred1.tree(object, tree.matrix(newdata)):\n",
            "“NAs introduced by coercion”\n"
          ]
        },
        {
          "output_type": "display_data",
          "data": {
            "text/plain": [
              "Confusion Matrix and Statistics\n",
              "\n",
              "    predic\n",
              "true     0     1     2     3     4     5     6     7     8     9    10    11\n",
              "  0  61372     0     0     0     0     0     0     0     0     0     0     0\n",
              "  1  61501     0     0     0     0     0     0     0     0     0     0     0\n",
              "  2  17902     0     0     0     0     0     0     0     0     0     0     0\n",
              "  3   7251     0     0     0     0     0     0     0     0     0     0     0\n",
              "  4   2996     0     0     0     0     0     0     0     0     0     0     0\n",
              "  5   1284     0     0     0     0     0     0     0     0     0     0     0\n",
              "  6    561     0     0     0     0     0     0     0     0     0     0     0\n",
              "  7    272     0     0     0     0     0     0     0     0     0     0     0\n",
              "  8    131     0     0     0     0     0     0     0     0     0     0     0\n",
              "  9     60     0     0     0     0     0     0     0     0     0     0     0\n",
              "  10    64     0     0     0     0     0     0     0     0     0     0     0\n",
              "  11    25     0     0     0     0     0     0     0     0     0     0     0\n",
              "  12    23     0     0     0     0     0     0     0     0     0     0     0\n",
              "  13    15     0     0     0     0     0     0     0     0     0     0     0\n",
              "  14     7     0     0     0     0     0     0     0     0     0     0     0\n",
              "  15     8     0     0     0     0     0     0     0     0     0     0     0\n",
              "  16    13     0     0     0     0     0     0     0     0     0     0     0\n",
              "  17     9     0     0     0     0     0     0     0     0     0     0     0\n",
              "  18    10     0     0     0     0     0     0     0     0     0     0     0\n",
              "  19     5     0     0     0     0     0     0     0     0     0     0     0\n",
              "  20     5     0     0     0     0     0     0     0     0     0     0     0\n",
              "  22     3     0     0     0     0     0     0     0     0     0     0     0\n",
              "  28     1     0     0     0     0     0     0     0     0     0     0     0\n",
              "    predic\n",
              "true    12    13    14    15    16    17    18    19    20    22    28\n",
              "  0      0     0     0     0     0     0     0     0     0     0     0\n",
              "  1      0     0     0     0     0     0     0     0     0     0     0\n",
              "  2      0     0     0     0     0     0     0     0     0     0     0\n",
              "  3      0     0     0     0     0     0     0     0     0     0     0\n",
              "  4      0     0     0     0     0     0     0     0     0     0     0\n",
              "  5      0     0     0     0     0     0     0     0     0     0     0\n",
              "  6      0     0     0     0     0     0     0     0     0     0     0\n",
              "  7      0     0     0     0     0     0     0     0     0     0     0\n",
              "  8      0     0     0     0     0     0     0     0     0     0     0\n",
              "  9      0     0     0     0     0     0     0     0     0     0     0\n",
              "  10     0     0     0     0     0     0     0     0     0     0     0\n",
              "  11     0     0     0     0     0     0     0     0     0     0     0\n",
              "  12     0     0     0     0     0     0     0     0     0     0     0\n",
              "  13     0     0     0     0     0     0     0     0     0     0     0\n",
              "  14     0     0     0     0     0     0     0     0     0     0     0\n",
              "  15     0     0     0     0     0     0     0     0     0     0     0\n",
              "  16     0     0     0     0     0     0     0     0     0     0     0\n",
              "  17     0     0     0     0     0     0     0     0     0     0     0\n",
              "  18     0     0     0     0     0     0     0     0     0     0     0\n",
              "  19     0     0     0     0     0     0     0     0     0     0     0\n",
              "  20     0     0     0     0     0     0     0     0     0     0     0\n",
              "  22     0     0     0     0     0     0     0     0     0     0     0\n",
              "  28     0     0     0     0     0     0     0     0     0     0     0\n",
              "\n",
              "Overall Statistics\n",
              "                                          \n",
              "               Accuracy : 0.3998          \n",
              "                 95% CI : (0.3973, 0.4022)\n",
              "    No Information Rate : 1               \n",
              "    P-Value [Acc > NIR] : 1               \n",
              "                                          \n",
              "                  Kappa : 0               \n",
              "                                          \n",
              " Mcnemar's Test P-Value : NA              \n",
              "\n",
              "Statistics by Class:\n",
              "\n",
              "                     Class: 0 Class: 1 Class: 2 Class: 3 Class: 4 Class: 5\n",
              "Sensitivity            0.3998       NA       NA       NA       NA       NA\n",
              "Specificity                NA   0.5994   0.8834  0.95277  0.98048 0.991636\n",
              "Pos Pred Value             NA       NA       NA       NA       NA       NA\n",
              "Neg Pred Value             NA       NA       NA       NA       NA       NA\n",
              "Prevalence             1.0000   0.0000   0.0000  0.00000  0.00000 0.000000\n",
              "Detection Rate         0.3998   0.0000   0.0000  0.00000  0.00000 0.000000\n",
              "Detection Prevalence   0.3998   0.4006   0.1166  0.04723  0.01952 0.008364\n",
              "Balanced Accuracy          NA       NA       NA       NA       NA       NA\n",
              "                     Class: 6 Class: 7  Class: 8  Class: 9 Class: 10 Class: 11\n",
              "Sensitivity                NA       NA        NA        NA        NA        NA\n",
              "Specificity          0.996346 0.998228 0.9991467 0.9996092 0.9995831 0.9998372\n",
              "Pos Pred Value             NA       NA        NA        NA        NA        NA\n",
              "Neg Pred Value             NA       NA        NA        NA        NA        NA\n",
              "Prevalence           0.000000 0.000000 0.0000000 0.0000000 0.0000000 0.0000000\n",
              "Detection Rate       0.000000 0.000000 0.0000000 0.0000000 0.0000000 0.0000000\n",
              "Detection Prevalence 0.003654 0.001772 0.0008533 0.0003908 0.0004169 0.0001628\n",
              "Balanced Accuracy          NA       NA        NA        NA        NA        NA\n",
              "                     Class: 12 Class: 13 Class: 14 Class: 15 Class: 16\n",
              "Sensitivity                 NA        NA        NA        NA        NA\n",
              "Specificity          0.9998502 9.999e-01  1.00e+00 9.999e-01 9.999e-01\n",
              "Pos Pred Value              NA        NA        NA        NA        NA\n",
              "Neg Pred Value              NA        NA        NA        NA        NA\n",
              "Prevalence           0.0000000 0.000e+00  0.00e+00 0.000e+00 0.000e+00\n",
              "Detection Rate       0.0000000 0.000e+00  0.00e+00 0.000e+00 0.000e+00\n",
              "Detection Prevalence 0.0001498 9.771e-05  4.56e-05 5.211e-05 8.468e-05\n",
              "Balanced Accuracy           NA        NA        NA        NA        NA\n",
              "                     Class: 17 Class: 18 Class: 19 Class: 20 Class: 22\n",
              "Sensitivity                 NA        NA        NA        NA        NA\n",
              "Specificity          9.999e-01 9.999e-01 1.000e+00 1.000e+00 1.000e+00\n",
              "Pos Pred Value              NA        NA        NA        NA        NA\n",
              "Neg Pred Value              NA        NA        NA        NA        NA\n",
              "Prevalence           0.000e+00 0.000e+00 0.000e+00 0.000e+00 0.000e+00\n",
              "Detection Rate       0.000e+00 0.000e+00 0.000e+00 0.000e+00 0.000e+00\n",
              "Detection Prevalence 5.863e-05 6.514e-05 3.257e-05 3.257e-05 1.954e-05\n",
              "Balanced Accuracy           NA        NA        NA        NA        NA\n",
              "                     Class: 28\n",
              "Sensitivity                 NA\n",
              "Specificity          1.000e+00\n",
              "Pos Pred Value              NA\n",
              "Neg Pred Value              NA\n",
              "Prevalence           0.000e+00\n",
              "Detection Rate       0.000e+00\n",
              "Detection Prevalence 6.514e-06\n",
              "Balanced Accuracy           NA"
            ]
          },
          "metadata": {}
        }
      ]
    },
    {
      "cell_type": "markdown",
      "source": [
        "## Addig Latitude  and Longitude"
      ],
      "metadata": {
        "id": "5aVjaPC0t4Wo"
      }
    },
    {
      "cell_type": "code",
      "source": [
        "data2=head(data1,2000000)\n",
        "## Data pre-processing\n",
        "data2 = subset(data2, select = -c(CONTRIBUTING.FACTOR.VEHICLE.1,wind_deg,temp_min,temp_max,dew_point,CONTRIBUTING.FACTOR.VEHICLE.2,COLLISION_ID,X,VEHICLE.TYPE.CODE.1,VEHICLE.TYPE.CODE.2,ON.STREET.NAME,CROSS.STREET.NAME,OFF.STREET.NAME, VEHICLE_ID,weather_id,clouds_all,rain_1h,wind_gust,weather_icon,rain_3h,snow_3h,sea_level,grnd_level,snow_1h) )\n",
        "names(data2)[names(data2) == \"KILLED.INJURED\"] <- \"KILLED_INJURED\"\n",
        "colSums(is.na(data2))\n",
        "data2$CRASH_DATE=as.Date(data2$CRASH_DATE, format = \"%Y-%m-%d\")\n",
        "nrow(data2)\n",
        "data2=data2[!is.na(data2$visibility),]\n",
        "nrow(data2)\n",
        "data2=data2[!is.na(data2$KILLED_INJURED),]\n",
        "data2$KILLED_INJURED <- as.factor(data2$KILLED_INJURED)\n",
        "nrow(data2)\n",
        "index0 <- which(data2$KILLED_INJURED == 0)\n",
        "index1 <- which(data2$KILLED_INJURED == 1)\n",
        "deleteindex <- sample(index0,length(index0)-length(index1))\n",
        "nrow(data2)\n",
        "data2=data2[-deleteindex,]\n",
        "nrow(data2)\n",
        "data2$weather_main <- as.factor(data2$weather_main)\n",
        "data2$weather_description <- as.factor(data2$weather_description)\n",
        "data2$PERSON_SEX <- as.factor(data2$PERSON_SEX)\n",
        "data2$WEEKDAY <- as.factor(data2$WEEKDAY)\n",
        "set.seed(1)\n",
        "sample = sample.split(data2, SplitRatio = 0.80)\n",
        "training = subset(data2, sample == TRUE)\n",
        "test = subset(data2, sample == FALSE)\n",
        "rm(sample)\n",
        "str(training)\n",
        "str(test)\n",
        "tree.brea=tree(KILLED_INJURED~., data=training)\n",
        "tree.brea\n",
        "pred=predict(tree.brea,test,type=\"class\")\n",
        "cm=table(true=test$KILLED_INJURED,predic=pred)\n",
        "confusionMatrix(cm)"
      ],
      "metadata": {
        "colab": {
          "base_uri": "https://localhost:8080/",
          "height": 1000
        },
        "id": "nrHOTGGAt8WI",
        "outputId": "3dd04b82-d4c1-40e9-8eb1-a9570386fd68"
      },
      "execution_count": null,
      "outputs": [
        {
          "output_type": "display_data",
          "data": {
            "text/html": [
              "<style>\n",
              ".dl-inline {width: auto; margin:0; padding: 0}\n",
              ".dl-inline>dt, .dl-inline>dd {float: none; width: auto; display: inline-block}\n",
              ".dl-inline>dt::after {content: \":\\0020\"; padding-right: .5ex}\n",
              ".dl-inline>dt:not(:first-of-type) {padding-left: .5ex}\n",
              "</style><dl class=dl-inline><dt>CRASH_DATE</dt><dd>0</dd><dt>CRASH_TIME</dt><dd>0</dd><dt>PERSON_AGE</dt><dd>0</dd><dt>PERSON_SEX</dt><dd>0</dd><dt>LATITUDE</dt><dd>0</dd><dt>LONGITUDE</dt><dd>0</dd><dt>KILLED_INJURED</dt><dd>36</dd><dt>WEEKDAY</dt><dd>0</dd><dt>Holiday</dt><dd>0</dd><dt>temp</dt><dd>0</dd><dt>visibility</dt><dd>2292</dd><dt>pressure</dt><dd>0</dd><dt>humidity</dt><dd>0</dd><dt>wind_speed</dt><dd>0</dd><dt>weather_main</dt><dd>0</dd><dt>weather_description</dt><dd>0</dd></dl>\n"
            ],
            "text/markdown": "CRASH_DATE\n:   0CRASH_TIME\n:   0PERSON_AGE\n:   0PERSON_SEX\n:   0LATITUDE\n:   0LONGITUDE\n:   0KILLED_INJURED\n:   36WEEKDAY\n:   0Holiday\n:   0temp\n:   0visibility\n:   2292pressure\n:   0humidity\n:   0wind_speed\n:   0weather_main\n:   0weather_description\n:   0\n\n",
            "text/latex": "\\begin{description*}\n\\item[CRASH\\textbackslash{}\\_DATE] 0\n\\item[CRASH\\textbackslash{}\\_TIME] 0\n\\item[PERSON\\textbackslash{}\\_AGE] 0\n\\item[PERSON\\textbackslash{}\\_SEX] 0\n\\item[LATITUDE] 0\n\\item[LONGITUDE] 0\n\\item[KILLED\\textbackslash{}\\_INJURED] 36\n\\item[WEEKDAY] 0\n\\item[Holiday] 0\n\\item[temp] 0\n\\item[visibility] 2292\n\\item[pressure] 0\n\\item[humidity] 0\n\\item[wind\\textbackslash{}\\_speed] 0\n\\item[weather\\textbackslash{}\\_main] 0\n\\item[weather\\textbackslash{}\\_description] 0\n\\end{description*}\n",
            "text/plain": [
              "         CRASH_DATE          CRASH_TIME          PERSON_AGE          PERSON_SEX \n",
              "                  0                   0                   0                   0 \n",
              "           LATITUDE           LONGITUDE      KILLED_INJURED             WEEKDAY \n",
              "                  0                   0                  36                   0 \n",
              "            Holiday                temp          visibility            pressure \n",
              "                  0                   0                2292                   0 \n",
              "           humidity          wind_speed        weather_main weather_description \n",
              "                  0                   0                   0                   0 "
            ]
          },
          "metadata": {}
        },
        {
          "output_type": "display_data",
          "data": {
            "text/html": [
              "2000000"
            ],
            "text/markdown": "2000000",
            "text/latex": "2000000",
            "text/plain": [
              "[1] 2000000"
            ]
          },
          "metadata": {}
        },
        {
          "output_type": "display_data",
          "data": {
            "text/html": [
              "1997708"
            ],
            "text/markdown": "1997708",
            "text/latex": "1997708",
            "text/plain": [
              "[1] 1997708"
            ]
          },
          "metadata": {}
        },
        {
          "output_type": "display_data",
          "data": {
            "text/html": [
              "1997672"
            ],
            "text/markdown": "1997672",
            "text/latex": "1997672",
            "text/plain": [
              "[1] 1997672"
            ]
          },
          "metadata": {}
        },
        {
          "output_type": "display_data",
          "data": {
            "text/html": [
              "1997672"
            ],
            "text/markdown": "1997672",
            "text/latex": "1997672",
            "text/plain": [
              "[1] 1997672"
            ]
          },
          "metadata": {}
        },
        {
          "output_type": "display_data",
          "data": {
            "text/html": [
              "746409"
            ],
            "text/markdown": "746409",
            "text/latex": "746409",
            "text/plain": [
              "[1] 746409"
            ]
          },
          "metadata": {}
        },
        {
          "output_type": "stream",
          "name": "stdout",
          "text": [
            "'data.frame':\t559806 obs. of  16 variables:\n",
            " $ CRASH_DATE         : Date, format: \"2019-10-25\" \"2019-10-25\" ...\n",
            " $ CRASH_TIME         : int  15 15 15 15 15 15 15 15 15 15 ...\n",
            " $ PERSON_AGE         : num  33 82 51 37 27 38 35 39 35 35 ...\n",
            " $ PERSON_SEX         : Factor w/ 2 levels \"F\",\"M\": 2 2 2 2 2 2 2 2 2 2 ...\n",
            " $ LATITUDE           : num  40.7 40.7 40.7 40.7 40.8 ...\n",
            " $ LONGITUDE          : num  -73.9 -73.9 -73.9 -73.9 -73.9 ...\n",
            " $ KILLED_INJURED     : Factor w/ 23 levels \"0\",\"1\",\"2\",\"3\",..: 1 1 1 1 4 4 4 4 4 2 ...\n",
            " $ WEEKDAY            : Factor w/ 7 levels \"Friday\",\"Monday\",..: 1 1 1 1 1 1 1 1 1 1 ...\n",
            " $ Holiday            : chr  \"False\" \"False\" \"False\" \"False\" ...\n",
            " $ temp               : num  14.5 14.5 14.5 14.5 14.5 ...\n",
            " $ visibility         : num  10000 10000 10000 10000 10000 10000 10000 10000 10000 10000 ...\n",
            " $ pressure           : int  1027 1027 1027 1027 1027 1027 1027 1027 1027 1027 ...\n",
            " $ humidity           : int  63 63 63 63 63 63 63 63 63 63 ...\n",
            " $ wind_speed         : num  2.1 2.1 2.1 2.1 2.1 2.1 2.1 2.1 2.1 2.1 ...\n",
            " $ weather_main       : Factor w/ 11 levels \"Clear\",\"Clouds\",..: 1 1 1 1 1 1 1 1 1 1 ...\n",
            " $ weather_description: Factor w/ 27 levels \"broken clouds\",..: 19 19 19 19 19 19 19 19 19 19 ...\n",
            "'data.frame':\t186603 obs. of  16 variables:\n",
            " $ CRASH_DATE         : Date, format: \"2019-10-25\" \"2019-10-25\" ...\n",
            " $ CRASH_TIME         : int  15 15 15 15 15 15 15 15 15 15 ...\n",
            " $ PERSON_AGE         : num  17 39 35 25 22 31 21 21 39 39 ...\n",
            " $ PERSON_SEX         : Factor w/ 2 levels \"F\",\"M\": 2 2 1 1 1 1 1 2 2 1 ...\n",
            " $ LATITUDE           : num  40.7 40.8 40.8 40.7 40.6 ...\n",
            " $ LONGITUDE          : num  -73.9 -73.9 -73.9 -74 -73.9 ...\n",
            " $ KILLED_INJURED     : Factor w/ 23 levels \"0\",\"1\",\"2\",\"3\",..: 1 4 4 2 2 2 2 1 3 3 ...\n",
            " $ WEEKDAY            : Factor w/ 7 levels \"Friday\",\"Monday\",..: 1 1 1 1 1 1 1 1 1 1 ...\n",
            " $ Holiday            : chr  \"False\" \"False\" \"False\" \"False\" ...\n",
            " $ temp               : num  14.5 14.5 14.5 14.5 14.5 ...\n",
            " $ visibility         : num  10000 10000 10000 10000 10000 10000 10000 10000 10000 10000 ...\n",
            " $ pressure           : int  1027 1027 1027 1027 1027 1027 1027 1027 1027 1027 ...\n",
            " $ humidity           : int  63 63 63 63 63 63 63 63 63 63 ...\n",
            " $ wind_speed         : num  2.1 2.1 2.1 2.1 2.1 2.1 2.1 2.1 2.1 2.1 ...\n",
            " $ weather_main       : Factor w/ 11 levels \"Clear\",\"Clouds\",..: 1 1 1 1 1 1 1 1 1 1 ...\n",
            " $ weather_description: Factor w/ 27 levels \"broken clouds\",..: 19 19 19 19 19 19 19 19 19 19 ...\n"
          ]
        },
        {
          "output_type": "stream",
          "name": "stderr",
          "text": [
            "Warning message in tree(KILLED_INJURED ~ ., data = training):\n",
            "“NAs introduced by coercion”\n"
          ]
        },
        {
          "output_type": "display_data",
          "data": {
            "text/plain": [
              "node), split, n, deviance, yval, (yprob)\n",
              "      * denotes terminal node\n",
              "\n",
              "1) root 559806 1457000 0 ( 3.998e-01 3.994e-01 1.171e-01 4.648e-02 1.977e-02 9.064e-03 3.973e-03 1.749e-03 8.414e-04 4.037e-04 4.198e-04 1.804e-04 2.001e-04 1.268e-04 3.930e-05 4.823e-05 9.468e-05 7.860e-05 6.252e-05 4.466e-05 4.466e-05 3.037e-05 1.786e-06 ) *"
            ]
          },
          "metadata": {}
        },
        {
          "output_type": "stream",
          "name": "stderr",
          "text": [
            "Warning message in pred1.tree(object, tree.matrix(newdata)):\n",
            "“NAs introduced by coercion”\n"
          ]
        },
        {
          "output_type": "display_data",
          "data": {
            "text/plain": [
              "Confusion Matrix and Statistics\n",
              "\n",
              "    predic\n",
              "true     0     1     2     3     4     5     6     7     8     9    10    11\n",
              "  0  74498     0     0     0     0     0     0     0     0     0     0     0\n",
              "  1  74753     0     0     0     0     0     0     0     0     0     0     0\n",
              "  2  21846     0     0     0     0     0     0     0     0     0     0     0\n",
              "  3   8600     0     0     0     0     0     0     0     0     0     0     0\n",
              "  4   3642     0     0     0     0     0     0     0     0     0     0     0\n",
              "  5   1748     0     0     0     0     0     0     0     0     0     0     0\n",
              "  6    707     0     0     0     0     0     0     0     0     0     0     0\n",
              "  7    337     0     0     0     0     0     0     0     0     0     0     0\n",
              "  8    148     0     0     0     0     0     0     0     0     0     0     0\n",
              "  9     70     0     0     0     0     0     0     0     0     0     0     0\n",
              "  10    84     0     0     0     0     0     0     0     0     0     0     0\n",
              "  11    29     0     0     0     0     0     0     0     0     0     0     0\n",
              "  12    40     0     0     0     0     0     0     0     0     0     0     0\n",
              "  13    22     0     0     0     0     0     0     0     0     0     0     0\n",
              "  14     8     0     0     0     0     0     0     0     0     0     0     0\n",
              "  15     7     0     0     0     0     0     0     0     0     0     0     0\n",
              "  16    17     0     0     0     0     0     0     0     0     0     0     0\n",
              "  17    11     0     0     0     0     0     0     0     0     0     0     0\n",
              "  18    11     0     0     0     0     0     0     0     0     0     0     0\n",
              "  19    10     0     0     0     0     0     0     0     0     0     0     0\n",
              "  20     8     0     0     0     0     0     0     0     0     0     0     0\n",
              "  22     6     0     0     0     0     0     0     0     0     0     0     0\n",
              "  28     1     0     0     0     0     0     0     0     0     0     0     0\n",
              "    predic\n",
              "true    12    13    14    15    16    17    18    19    20    22    28\n",
              "  0      0     0     0     0     0     0     0     0     0     0     0\n",
              "  1      0     0     0     0     0     0     0     0     0     0     0\n",
              "  2      0     0     0     0     0     0     0     0     0     0     0\n",
              "  3      0     0     0     0     0     0     0     0     0     0     0\n",
              "  4      0     0     0     0     0     0     0     0     0     0     0\n",
              "  5      0     0     0     0     0     0     0     0     0     0     0\n",
              "  6      0     0     0     0     0     0     0     0     0     0     0\n",
              "  7      0     0     0     0     0     0     0     0     0     0     0\n",
              "  8      0     0     0     0     0     0     0     0     0     0     0\n",
              "  9      0     0     0     0     0     0     0     0     0     0     0\n",
              "  10     0     0     0     0     0     0     0     0     0     0     0\n",
              "  11     0     0     0     0     0     0     0     0     0     0     0\n",
              "  12     0     0     0     0     0     0     0     0     0     0     0\n",
              "  13     0     0     0     0     0     0     0     0     0     0     0\n",
              "  14     0     0     0     0     0     0     0     0     0     0     0\n",
              "  15     0     0     0     0     0     0     0     0     0     0     0\n",
              "  16     0     0     0     0     0     0     0     0     0     0     0\n",
              "  17     0     0     0     0     0     0     0     0     0     0     0\n",
              "  18     0     0     0     0     0     0     0     0     0     0     0\n",
              "  19     0     0     0     0     0     0     0     0     0     0     0\n",
              "  20     0     0     0     0     0     0     0     0     0     0     0\n",
              "  22     0     0     0     0     0     0     0     0     0     0     0\n",
              "  28     0     0     0     0     0     0     0     0     0     0     0\n",
              "\n",
              "Overall Statistics\n",
              "                                         \n",
              "               Accuracy : 0.3992         \n",
              "                 95% CI : (0.397, 0.4015)\n",
              "    No Information Rate : 1              \n",
              "    P-Value [Acc > NIR] : 1              \n",
              "                                         \n",
              "                  Kappa : 0              \n",
              "                                         \n",
              " Mcnemar's Test P-Value : NA             \n",
              "\n",
              "Statistics by Class:\n",
              "\n",
              "                     Class: 0 Class: 1 Class: 2 Class: 3 Class: 4 Class: 5\n",
              "Sensitivity            0.3992       NA       NA       NA       NA       NA\n",
              "Specificity                NA   0.5994   0.8829  0.95391  0.98048 0.990633\n",
              "Pos Pred Value             NA       NA       NA       NA       NA       NA\n",
              "Neg Pred Value             NA       NA       NA       NA       NA       NA\n",
              "Prevalence             1.0000   0.0000   0.0000  0.00000  0.00000 0.000000\n",
              "Detection Rate         0.3992   0.0000   0.0000  0.00000  0.00000 0.000000\n",
              "Detection Prevalence   0.3992   0.4006   0.1171  0.04609  0.01952 0.009367\n",
              "Balanced Accuracy          NA       NA       NA       NA       NA       NA\n",
              "                     Class: 6 Class: 7  Class: 8  Class: 9 Class: 10 Class: 11\n",
              "Sensitivity                NA       NA        NA        NA        NA        NA\n",
              "Specificity          0.996211 0.998194 0.9992069 0.9996249 0.9995498 0.9998446\n",
              "Pos Pred Value             NA       NA        NA        NA        NA        NA\n",
              "Neg Pred Value             NA       NA        NA        NA        NA        NA\n",
              "Prevalence           0.000000 0.000000 0.0000000 0.0000000 0.0000000 0.0000000\n",
              "Detection Rate       0.000000 0.000000 0.0000000 0.0000000 0.0000000 0.0000000\n",
              "Detection Prevalence 0.003789 0.001806 0.0007931 0.0003751 0.0004502 0.0001554\n",
              "Balanced Accuracy          NA       NA        NA        NA        NA        NA\n",
              "                     Class: 12 Class: 13 Class: 14 Class: 15 Class: 16\n",
              "Sensitivity                 NA        NA        NA        NA        NA\n",
              "Specificity          0.9997856 0.9998821 1.000e+00 1.000e+00 0.9999089\n",
              "Pos Pred Value              NA        NA        NA        NA        NA\n",
              "Neg Pred Value              NA        NA        NA        NA        NA\n",
              "Prevalence           0.0000000 0.0000000 0.000e+00 0.000e+00 0.0000000\n",
              "Detection Rate       0.0000000 0.0000000 0.000e+00 0.000e+00 0.0000000\n",
              "Detection Prevalence 0.0002144 0.0001179 4.287e-05 3.751e-05 0.0000911\n",
              "Balanced Accuracy           NA        NA        NA        NA        NA\n",
              "                     Class: 17 Class: 18 Class: 19 Class: 20 Class: 22\n",
              "Sensitivity                 NA        NA        NA        NA        NA\n",
              "Specificity          9.999e-01 9.999e-01 9.999e-01 1.000e+00 1.000e+00\n",
              "Pos Pred Value              NA        NA        NA        NA        NA\n",
              "Neg Pred Value              NA        NA        NA        NA        NA\n",
              "Prevalence           0.000e+00 0.000e+00 0.000e+00 0.000e+00 0.000e+00\n",
              "Detection Rate       0.000e+00 0.000e+00 0.000e+00 0.000e+00 0.000e+00\n",
              "Detection Prevalence 5.895e-05 5.895e-05 5.359e-05 4.287e-05 3.215e-05\n",
              "Balanced Accuracy           NA        NA        NA        NA        NA\n",
              "                     Class: 28\n",
              "Sensitivity                 NA\n",
              "Specificity          1.000e+00\n",
              "Pos Pred Value              NA\n",
              "Neg Pred Value              NA\n",
              "Prevalence           0.000e+00\n",
              "Detection Rate       0.000e+00\n",
              "Detection Prevalence 5.359e-06\n",
              "Balanced Accuracy           NA"
            ]
          },
          "metadata": {}
        }
      ]
    }
  ],
  "metadata": {
    "colab": {
      "collapsed_sections": [],
      "machine_shape": "hm",
      "name": "classication_tree",
      "provenance": [],
      "include_colab_link": true
    },
    "kernelspec": {
      "display_name": "R",
      "name": "ir"
    },
    "language_info": {
      "name": "R"
    }
  },
  "nbformat": 4,
  "nbformat_minor": 0
}