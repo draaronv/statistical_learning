{
 "cells": [
  {
   "cell_type": "code",
   "execution_count": 1,
   "id": "be3c60ab",
   "metadata": {},
   "outputs": [],
   "source": [
    "import numpy\n",
    "import pandas as pd\n",
    "import qgrid\n",
    "import datetime\n",
    "import calendar"
   ]
  },
  {
   "cell_type": "code",
   "execution_count": 2,
   "id": "9349f099",
   "metadata": {},
   "outputs": [],
   "source": [
    "data1=pd.read_csv('crashes.csv',low_memory=False)"
   ]
  },
  {
   "cell_type": "code",
   "execution_count": 3,
   "id": "db837341",
   "metadata": {},
   "outputs": [],
   "source": [
    "datap1=pd.read_csv('persons.csv',low_memory=False)"
   ]
  },
  {
   "cell_type": "code",
   "execution_count": 4,
   "id": "efcbe8f7",
   "metadata": {},
   "outputs": [],
   "source": [
    "dataw1=pd.read_csv('weather.csv',low_memory=False)"
   ]
  },
  {
   "cell_type": "code",
   "execution_count": 5,
   "id": "5ef3c278",
   "metadata": {},
   "outputs": [
    {
     "name": "stdout",
     "output_type": "stream",
     "text": [
      "Initial Size: 1877557\n",
      "Mod Size: 1659479\n",
      "Mod Size: 1659479\n",
      "Mod Size: 1657071\n",
      "Mod Size: 1073637\n",
      "Mod Size: 1073637\n",
      "Mod Size: 1068838\n"
     ]
    },
    {
     "name": "stderr",
     "output_type": "stream",
     "text": [
      "/tmp/ipykernel_481818/258530685.py:22: FutureWarning: The default value of regex will change from True to False in a future version.\n",
      "  data1['CRASH TIME']=data1['CRASH TIME'].str.replace(r'[:].*','')\n"
     ]
    }
   ],
   "source": [
    "# Crashes\n",
    "print(\"Initial Size:\",data1.shape[0])\n",
    "data1=data1.dropna(subset=['LATITUDE'])\n",
    "print(\"Mod Size:\",data1.shape[0])\n",
    "data1=data1.dropna(subset=['LONGITUDE'])\n",
    "print(\"Mod Size:\",data1.shape[0])\n",
    "data1= data1[data1['LATITUDE'] != 0]\n",
    "data1= data1[data1['LONGITUDE'] != 0]\n",
    "print(\"Mod Size:\",data1.shape[0])\n",
    "data1=data1[data1['CONTRIBUTING FACTOR VEHICLE 1'].str.contains(\"Unspecified\")==False]\n",
    "print(\"Mod Size:\",data1.shape[0])\n",
    "data1=data1.drop(columns=['LOCATION'])\n",
    "data1=data1.drop(columns=['ZIP CODE','BOROUGH'])\n",
    "data1['KILLED/INJURED']=data1['NUMBER OF PERSONS KILLED'] + data1['NUMBER OF PERSONS INJURED']\n",
    "print(\"Mod Size:\",data1.shape[0])\n",
    "data1=data1.drop(columns=['NUMBER OF PERSONS INJURED', 'NUMBER OF PERSONS KILLED',\n",
    "       'NUMBER OF PEDESTRIANS INJURED', 'NUMBER OF PEDESTRIANS KILLED',\n",
    "       'NUMBER OF CYCLIST INJURED', 'NUMBER OF CYCLIST KILLED',\n",
    "       'NUMBER OF MOTORIST INJURED', 'NUMBER OF MOTORIST KILLED',])\n",
    "data1=data1.dropna(subset=['VEHICLE TYPE CODE 1'])\n",
    "print(\"Mod Size:\",data1.shape[0])\n",
    "data1['CRASH TIME']=data1['CRASH TIME'].str.replace(r'[:].*','')\n",
    "\n",
    "def findDay(date):\n",
    "    born = datetime.datetime.strptime(date, '%m/%d/%Y').weekday()\n",
    "    return (calendar.day_name[born])\n",
    "data1['WEEKDAY']=data1['CRASH DATE'].apply(lambda x:findDay(x))\n",
    "data1['CRASH DATE']=pd.to_datetime(data1['CRASH DATE'])\n",
    "from pandas.tseries.holiday import USFederalHolidayCalendar as calendar\n",
    "cal = calendar()\n",
    "holidays = cal.holidays(start=data1['CRASH DATE'].min(), end=data1['CRASH DATE'].max())\n",
    "data1['Holiday']=data1['CRASH DATE'].isin(holidays)"
   ]
  },
  {
   "cell_type": "code",
   "execution_count": 6,
   "id": "0217d5ad",
   "metadata": {},
   "outputs": [
    {
     "name": "stdout",
     "output_type": "stream",
     "text": [
      "Mod Size: 4626711\n",
      "Mod Size: 4093419\n",
      "Mod Size: 3701767\n",
      "Mod Size: 3281713\n",
      "Mod Size: 3281700\n",
      "Mod Size: 3223619\n"
     ]
    },
    {
     "name": "stderr",
     "output_type": "stream",
     "text": [
      "/tmp/ipykernel_481818/3516917435.py:18: FutureWarning: The default value of regex will change from True to False in a future version.\n",
      "  datap1['CRASH_TIME']=datap1['CRASH_TIME'].str.replace(r'[:].*','')\n"
     ]
    }
   ],
   "source": [
    "# Person Crashes\n",
    "datap1=datap1.drop(columns=['UNIQUE_ID','PERSON_TYPE','PERSON_INJURY',\n",
    "                            'EJECTION','EMOTIONAL_STATUS','BODILY_INJURY','POSITION_IN_VEHICLE',\n",
    "                            'SAFETY_EQUIPMENT','PED_LOCATION','PED_ACTION','COMPLAINT','PED_ROLE',\n",
    "                            'CONTRIBUTING_FACTOR_1','CONTRIBUTING_FACTOR_2'])\n",
    "print(\"Mod Size:\",datap1.shape[0])\n",
    "datap1=datap1.dropna(subset=['PERSON_SEX'])\n",
    "print(\"Mod Size:\",datap1.shape[0])\n",
    "datap1=datap1[datap1['PERSON_SEX'].str.contains(\"U\")==False]\n",
    "print(\"Mod Size:\",datap1.shape[0])\n",
    "datap1=datap1.dropna(subset=['PERSON_AGE'])\n",
    "datap1 = datap1[~(datap1['PERSON_AGE'] < 16)]\n",
    "print(\"Mod Size:\",datap1.shape[0])\n",
    "datap1=datap1.dropna(subset=['PERSON_ID'])\n",
    "print(\"Mod Size:\",datap1.shape[0])\n",
    "datap1=datap1.dropna(subset=['VEHICLE_ID'])\n",
    "print(\"Mod Size:\",datap1.shape[0])\n",
    "datap1['CRASH_TIME']=datap1['CRASH_TIME'].str.replace(r'[:].*','')\n",
    "datap1['CRASH_DATE']=pd.to_datetime(datap1['CRASH_DATE'])"
   ]
  },
  {
   "cell_type": "code",
   "execution_count": 7,
   "id": "6f81233f",
   "metadata": {},
   "outputs": [
    {
     "name": "stderr",
     "output_type": "stream",
     "text": [
      "/tmp/ipykernel_481818/1256670018.py:3: FutureWarning: The default value of regex will change from True to False in a future version.\n",
      "  dataw1['dt_iso']=dataw1['dt_iso'].str.replace(r'[+].*','')\n"
     ]
    },
    {
     "name": "stdout",
     "output_type": "stream",
     "text": [
      "Index(['CRASH_DATE', 'temp', 'visibility', 'dew_point', 'temp_min', 'temp_max',\n",
      "       'pressure', 'sea_level', 'grnd_level', 'humidity', 'wind_speed',\n",
      "       'wind_deg', 'wind_gust', 'rain_1h', 'rain_3h', 'snow_1h', 'snow_3h',\n",
      "       'clouds_all', 'weather_id', 'weather_main', 'weather_description',\n",
      "       'weather_icon', 'CRASH_TIME'],\n",
      "      dtype='object')\n",
      "Mod Size: 95994\n"
     ]
    }
   ],
   "source": [
    "# Weather Crashes\n",
    "dataw1=dataw1.drop(columns=['dt','timezone','city_name','lat','lon'])\n",
    "dataw1['dt_iso']=dataw1['dt_iso'].str.replace(r'[+].*','')\n",
    "dataw1['dt_iso']=pd.to_datetime(dataw1['dt_iso'])\n",
    "dataw1['hour']=dataw1['dt_iso'].apply(lambda x:x.hour)\n",
    "dataw1['dt_iso']=pd.to_datetime(dataw1['dt_iso']).dt.date\n",
    "dataw1=dataw1.rename(columns={'dt_iso':'CRASH_DATE'})\n",
    "dataw1=dataw1.rename(columns={'hour':'CRASH_TIME'})\n",
    "print(dataw1.columns)\n",
    "print(\"Mod Size:\",dataw1.shape[0])"
   ]
  },
  {
   "cell_type": "code",
   "execution_count": 8,
   "id": "2ef0739e",
   "metadata": {},
   "outputs": [
    {
     "name": "stdout",
     "output_type": "stream",
     "text": [
      "Data 1: 1068838\n",
      "Datap1: 3223619\n",
      "Dataw1: 95994\n"
     ]
    }
   ],
   "source": [
    "# Merging\n",
    "print(\"Data 1:\",data1.shape[0])\n",
    "print(\"Datap1:\",datap1.shape[0])\n",
    "print(\"Dataw1:\",dataw1.shape[0])"
   ]
  },
  {
   "cell_type": "code",
   "execution_count": 9,
   "id": "449894f2",
   "metadata": {},
   "outputs": [
    {
     "name": "stdout",
     "output_type": "stream",
     "text": [
      "Datam1: 2346140\n"
     ]
    }
   ],
   "source": [
    "# Merging Crashes and person\n",
    "datam1=datap1.merge(data1,on='COLLISION_ID')\n",
    "print(\"Datam1:\",datam1.shape[0])\n",
    "datam1=datam1.drop(columns=['PERSON_ID','CRASH DATE','CRASH TIME','VEHICLE TYPE CODE 5','VEHICLE TYPE CODE 4',\n",
    "                            'VEHICLE TYPE CODE 3','CONTRIBUTING FACTOR VEHICLE 5','CONTRIBUTING FACTOR VEHICLE 4',\n",
    "                           'CONTRIBUTING FACTOR VEHICLE 3'])"
   ]
  },
  {
   "cell_type": "code",
   "execution_count": 20,
   "id": "7d2b559c",
   "metadata": {},
   "outputs": [
    {
     "name": "stdout",
     "output_type": "stream",
     "text": [
      "CRASH_DATE             datetime64[ns]\n",
      "temp                          float64\n",
      "visibility                    float64\n",
      "dew_point                     float64\n",
      "temp_min                      float64\n",
      "temp_max                      float64\n",
      "pressure                        int64\n",
      "sea_level                     float64\n",
      "grnd_level                    float64\n",
      "humidity                        int64\n",
      "wind_speed                    float64\n",
      "wind_deg                        int64\n",
      "wind_gust                     float64\n",
      "rain_1h                       float64\n",
      "rain_3h                       float64\n",
      "snow_1h                       float64\n",
      "snow_3h                       float64\n",
      "clouds_all                      int64\n",
      "weather_id                      int64\n",
      "weather_main                   object\n",
      "weather_description            object\n",
      "weather_icon                   object\n",
      "CRASH_TIME                      int64\n",
      "dtype: object\n",
      "CRASH_DATE             datetime64[ns]\n",
      "temp                          float64\n",
      "visibility                    float64\n",
      "dew_point                     float64\n",
      "temp_min                      float64\n",
      "temp_max                      float64\n",
      "pressure                        int64\n",
      "sea_level                     float64\n",
      "grnd_level                    float64\n",
      "humidity                        int64\n",
      "wind_speed                    float64\n",
      "wind_deg                        int64\n",
      "wind_gust                     float64\n",
      "rain_1h                       float64\n",
      "rain_3h                       float64\n",
      "snow_1h                       float64\n",
      "snow_3h                       float64\n",
      "clouds_all                      int64\n",
      "weather_id                      int64\n",
      "weather_main                   object\n",
      "weather_description            object\n",
      "weather_icon                   object\n",
      "CRASH_TIME                      int64\n",
      "dtype: object\n",
      "COLLISION_ID                              int64\n",
      "CRASH_DATE                       datetime64[ns]\n",
      "CRASH_TIME                                int64\n",
      "VEHICLE_ID                              float64\n",
      "PERSON_AGE                              float64\n",
      "PERSON_SEX                               object\n",
      "LATITUDE                                float64\n",
      "LONGITUDE                               float64\n",
      "ON STREET NAME                           object\n",
      "CROSS STREET NAME                        object\n",
      "OFF STREET NAME                          object\n",
      "CONTRIBUTING FACTOR VEHICLE 1            object\n",
      "CONTRIBUTING FACTOR VEHICLE 2            object\n",
      "VEHICLE TYPE CODE 1                      object\n",
      "VEHICLE TYPE CODE 2                      object\n",
      "KILLED/INJURED                          float64\n",
      "WEEKDAY                                  object\n",
      "Holiday                                    bool\n",
      "dtype: object\n"
     ]
    }
   ],
   "source": [
    "print(dataw1.dtypes)\n",
    "dataw1['CRASH_DATE'] = dataw1['CRASH_DATE'].astype('datetime64[ns]')\n",
    "datam1['CRASH_TIME'] = datam1['CRASH_TIME'].astype(int)\n",
    "print(dataw1.dtypes)\n",
    "print(datam1.dtypes)\n"
   ]
  },
  {
   "cell_type": "code",
   "execution_count": 21,
   "id": "4959f9aa",
   "metadata": {},
   "outputs": [
    {
     "name": "stdout",
     "output_type": "stream",
     "text": [
      "Datam1: 2346140\n",
      "Datam2: 2529009\n"
     ]
    }
   ],
   "source": [
    "## Merge Weather\n",
    "print(\"Datam1:\",datam1.shape[0])\n",
    "datam2=datam1.merge(dataw1,on=['CRASH_DATE','CRASH_TIME'])\n",
    "print(\"Datam2:\",datam2.shape[0])"
   ]
  },
  {
   "cell_type": "code",
   "execution_count": 25,
   "id": "87b71d36",
   "metadata": {},
   "outputs": [],
   "source": [
    "datam2.to_csv('finalData.csv')"
   ]
  },
  {
   "cell_type": "code",
   "execution_count": 23,
   "id": "c33e99a9",
   "metadata": {},
   "outputs": [
    {
     "data": {
      "application/vnd.jupyter.widget-view+json": {
       "model_id": "6024077bd85a45f5a7a936fabceef939",
       "version_major": 2,
       "version_minor": 0
      },
      "text/plain": [
       "QgridWidget(grid_options={'fullWidthRows': True, 'syncColumnCellResize': True, 'forceFitColumns': False, 'defa…"
      ]
     },
     "metadata": {},
     "output_type": "display_data"
    }
   ],
   "source": [
    "widget = qgrid.show_grid(datam1, show_toolbar=True,grid_options={'forceFitColumns': False, 'defaultColumnWidth': 150})\n",
    "widget"
   ]
  },
  {
   "cell_type": "code",
   "execution_count": 24,
   "id": "af678e66",
   "metadata": {},
   "outputs": [
    {
     "data": {
      "application/vnd.jupyter.widget-view+json": {
       "model_id": "0361cb663a6f46a0a8852128436613ee",
       "version_major": 2,
       "version_minor": 0
      },
      "text/plain": [
       "QgridWidget(grid_options={'fullWidthRows': True, 'syncColumnCellResize': True, 'forceFitColumns': False, 'defa…"
      ]
     },
     "metadata": {},
     "output_type": "display_data"
    }
   ],
   "source": [
    "del widget\n",
    "widget = qgrid.show_grid(datam2, show_toolbar=True,grid_options={'forceFitColumns': False, 'defaultColumnWidth': 150})\n",
    "widget"
   ]
  }
 ],
 "metadata": {
  "kernelspec": {
   "display_name": "Python 3 (ipykernel)",
   "language": "python",
   "name": "python3"
  },
  "language_info": {
   "codemirror_mode": {
    "name": "ipython",
    "version": 3
   },
   "file_extension": ".py",
   "mimetype": "text/x-python",
   "name": "python",
   "nbconvert_exporter": "python",
   "pygments_lexer": "ipython3",
   "version": "3.8.10"
  }
 },
 "nbformat": 4,
 "nbformat_minor": 5
}
